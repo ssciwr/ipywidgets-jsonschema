{
 "cells": [
  {
   "cell_type": "markdown",
   "metadata": {},
   "source": [
    "# Supported Data Types and Usage\n",
    "ipywidgets-jsonschema provides a way to dynamically generate ipywidgets from JSON Schema definitions. This guide covers how different data types are handled and how to use create widgets using JSON schema and pydantic."
   ]
  },
  {
   "cell_type": "markdown",
   "metadata": {},
   "source": [
    "## Basic Data Types"
   ]
  },
  {
   "cell_type": "markdown",
   "metadata": {},
   "source": [
    "The most common types like str, int, and float are rendered as simple input fields. bool is shown as a checkbox."
   ]
  },
  {
   "cell_type": "code",
   "execution_count": null,
   "metadata": {},
   "outputs": [],
   "source": [
    "from ipywidgets_jsonschema import Form\n",
    "from pydantic import BaseModel, Field\n",
    "\n",
    "\n",
    "class BasicTypes(BaseModel):\n",
    "    name: str\n",
    "    email: str\n",
    "    age: int\n",
    "    height: float\n",
    "    is_active: bool\n",
    "\n",
    "\n",
    "form = Form(BasicTypes)\n",
    "form.show()"
   ]
  },
  {
   "cell_type": "markdown",
   "metadata": {},
   "source": [
    "## Default Values\n",
    "Setting the default values is simple as:"
   ]
  },
  {
   "cell_type": "code",
   "execution_count": null,
   "metadata": {},
   "outputs": [],
   "source": [
    "class DefaultValues(BaseModel):\n",
    "    value: int = 10\n",
    "\n",
    "\n",
    "form = Form(DefaultValues)\n",
    "form.show()"
   ]
  },
  {
   "cell_type": "markdown",
   "metadata": {},
   "source": [
    "When using Fields, the default value has to be specified inside the Field:"
   ]
  },
  {
   "cell_type": "code",
   "execution_count": null,
   "metadata": {},
   "outputs": [],
   "source": [
    "class DefaultValuesField(BaseModel):\n",
    "    value: int = Field(default=10)\n",
    "\n",
    "\n",
    "form = Form(DefaultValues)\n",
    "form.show()"
   ]
  },
  {
   "cell_type": "markdown",
   "metadata": {},
   "source": [
    "## In-Depth widget guide\n",
    "This section covers advanced features such as nested structures, recursion, constraints, enums, and string formats."
   ]
  },
  {
   "cell_type": "markdown",
   "metadata": {},
   "source": [
    "## Contraints\n",
    "JSON Schema constraints such as minLength, maxLength, minimum, maximum, pattern, and format are fully supported. These constraints allow you to have fine-grained control over user input, ensuring that data is validated at the widget level.\n",
    "\n",
    "To define constraints in a Pydantic model, use the Field class:"
   ]
  },
  {
   "cell_type": "code",
   "execution_count": null,
   "metadata": {},
   "outputs": [],
   "source": [
    "from pydantic import Field\n",
    "\n",
    "\n",
    "class ConstraintsExample(BaseModel):\n",
    "    number: int = Field(minimum=0, maximum=10)\n",
    "    text: str = Field(min_length=3, max_length=10, pattern=\"^[a-zA-Z]+$\")\n",
    "\n",
    "\n",
    "form = Form(ConstraintsExample)\n",
    "form.show()"
   ]
  },
  {
   "cell_type": "markdown",
   "metadata": {},
   "source": [
    "## String formats\n",
    "JSON Schema allows specifying string formats to enforce validation rules on user input. The following formats are supported:\n",
    "\n",
    " - email\n",
    " - hostname\n",
    " - ipv4\n",
    " - ipv6\n",
    " - uri\n",
    " - uuid\n",
    "\n",
    "To enforce these string formats, it is simple as adding a format key to your JSON schema or pydantic model:\n"
   ]
  },
  {
   "cell_type": "code",
   "execution_count": null,
   "metadata": {},
   "outputs": [],
   "source": [
    "class StringFormats(BaseModel):\n",
    "    email: str = Field(default=\"default@example.com\", format=\"email\")\n",
    "    hostname: str = Field(default=\"default.com\", format=\"hostname\")\n",
    "    ip4address: str = Field(default=\"127.0.0.1\", format=\"ipv4\")\n",
    "    ip6address: str = Field(default=\"::1\", format=\"ipv6\")\n",
    "    uri: str = Field(default=\"http://example.com\", format=\"uri\")\n",
    "    uuid: str = Field(default=\"00000000-0000-0000-0000-000000000000\", format=\"uuid\")\n",
    "\n",
    "\n",
    "form = Form(StringFormats.model_json_schema())\n",
    "form.show()"
   ]
  },
  {
   "cell_type": "markdown",
   "metadata": {},
   "source": [
    "ipywidgets_jsonschema also features visual feedback for user input that doesn't match the specified pattern or format. When users enter invalid data, the corresponding widget provides real-time validation cues, such as highlighting the input field or displaying an error message. "
   ]
  },
  {
   "cell_type": "code",
   "execution_count": null,
   "metadata": {},
   "outputs": [],
   "source": [
    "class Feedback(BaseModel):\n",
    "    email: str = Field(format=\"email\")\n",
    "    email_wrong: str = Field(format=\"email\")\n",
    "\n",
    "\n",
    "form = Form(Feedback)\n",
    "form.show()"
   ]
  },
  {
   "cell_type": "markdown",
   "metadata": {},
   "source": [
    "## Datetime"
   ]
  },
  {
   "cell_type": "markdown",
   "metadata": {},
   "source": [
    "Date and time fields are rendered using special widgets that let you select a date from a calendar or set the time."
   ]
  },
  {
   "cell_type": "code",
   "execution_count": null,
   "metadata": {},
   "outputs": [],
   "source": [
    "from datetime import date, time\n",
    "\n",
    "\n",
    "class Date(BaseModel):\n",
    "    date: date\n",
    "    time: time\n",
    "\n",
    "\n",
    "form = Form(Date)\n",
    "form.show()"
   ]
  },
  {
   "cell_type": "markdown",
   "metadata": {},
   "source": [
    "## List"
   ]
  },
  {
   "cell_type": "markdown",
   "metadata": {},
   "source": [
    "When your schema includes a List, it will automatically generate a dynamic widget list, that allows users to:\n",
    "1. Add new entries\n",
    "2. Reorder list entries\n",
    "3. Remove individual entries"
   ]
  },
  {
   "cell_type": "code",
   "execution_count": null,
   "metadata": {},
   "outputs": [],
   "source": [
    "from typing import List\n",
    "\n",
    "\n",
    "class Fruits(BaseModel):\n",
    "    fruit: List[str]\n",
    "\n",
    "\n",
    "form = Form(Fruits)\n",
    "form.show()"
   ]
  },
  {
   "cell_type": "markdown",
   "metadata": {},
   "source": [
    "When using Set in your schema or Pydantic model, the form behaves like a list input but ensures that no duplicate entries are allowed."
   ]
  },
  {
   "cell_type": "code",
   "execution_count": null,
   "metadata": {},
   "outputs": [],
   "source": [
    "from typing import Set\n",
    "\n",
    "\n",
    "class IDs(BaseModel):\n",
    "    id: Set[int]\n",
    "\n",
    "\n",
    "form = Form(IDs)\n",
    "form.show()"
   ]
  },
  {
   "cell_type": "markdown",
   "metadata": {},
   "source": [
    "## Nested schema"
   ]
  },
  {
   "cell_type": "markdown",
   "metadata": {},
   "source": [
    "We fully support **nested schemas**, allowing deeply structured form with embedded classes."
   ]
  },
  {
   "cell_type": "code",
   "execution_count": null,
   "metadata": {},
   "outputs": [],
   "source": [
    "from typing import List\n",
    "\n",
    "\n",
    "class Address(BaseModel):\n",
    "    street: str\n",
    "    city: str\n",
    "\n",
    "\n",
    "class User(BaseModel):\n",
    "    name: str\n",
    "    adresses: List[Address]\n",
    "\n",
    "\n",
    "form = Form(User)\n",
    "form.show()"
   ]
  },
  {
   "cell_type": "markdown",
   "metadata": {},
   "source": [
    "## Enum"
   ]
  },
  {
   "cell_type": "markdown",
   "metadata": {},
   "source": [
    "When your model includes an Enum field, the form renders a dropdown widget, allowing you to select one of the available options."
   ]
  },
  {
   "cell_type": "code",
   "execution_count": null,
   "metadata": {},
   "outputs": [],
   "source": [
    "from enum import Enum\n",
    "\n",
    "\n",
    "class ColorEnum(Enum):\n",
    "    RED = \"red\"\n",
    "    BLUE = \"blue\"\n",
    "    GREEN = \"green\"\n",
    "\n",
    "\n",
    "class Colors(BaseModel):\n",
    "    color: ColorEnum\n",
    "\n",
    "\n",
    "form = Form(Colors)\n",
    "form.show()"
   ]
  },
  {
   "cell_type": "markdown",
   "metadata": {},
   "source": [
    "## Anyof"
   ]
  },
  {
   "cell_type": "markdown",
   "metadata": {},
   "source": [
    "We support fields defined using `Union`, which correspond to JSON Schema’s `anyOf`. These allow a field to accept multiple types. The form provides a dropdown, that allows you to select a type."
   ]
  },
  {
   "cell_type": "code",
   "execution_count": null,
   "metadata": {},
   "outputs": [],
   "source": [
    "from typing import Union\n",
    "\n",
    "\n",
    "class Item(BaseModel):\n",
    "    price: Union[int, float]\n",
    "\n",
    "\n",
    "form = Form(Item)\n",
    "form.show()"
   ]
  },
  {
   "cell_type": "markdown",
   "metadata": {},
   "source": [
    "## Object / Dictionary"
   ]
  },
  {
   "cell_type": "markdown",
   "metadata": {},
   "source": [
    "You can use Dict to define dynamic key-value mapping. Keys are strings, and values can be any supported data type."
   ]
  },
  {
   "cell_type": "code",
   "execution_count": null,
   "metadata": {},
   "outputs": [],
   "source": [
    "from typing import Union, Dict\n",
    "\n",
    "\n",
    "class DictUnion(BaseModel):\n",
    "    settings: Dict[str, str]\n",
    "\n",
    "\n",
    "form = Form(DictUnion)\n",
    "form.show()"
   ]
  },
  {
   "cell_type": "markdown",
   "metadata": {},
   "source": [
    "## Recursion\n"
   ]
  },
  {
   "cell_type": "markdown",
   "metadata": {},
   "source": [
    "Recursive models are supported by using string annotations. This allows a model to reference itself, which is useful for things like nested categories or tree structures."
   ]
  },
  {
   "cell_type": "code",
   "execution_count": null,
   "metadata": {},
   "outputs": [],
   "source": [
    "from typing import List\n",
    "\n",
    "\n",
    "class Category(BaseModel):\n",
    "    name: str\n",
    "    subcategories: List[\"Category\"]\n",
    "\n",
    "\n",
    "form = Form(Category)\n",
    "form.show()"
   ]
  }
 ],
 "metadata": {
  "kernelspec": {
   "display_name": "Python 3 (ipykernel)",
   "language": "python",
   "name": "python3"
  },
  "language_info": {
   "codemirror_mode": {
    "name": "ipython",
    "version": 3
   },
   "file_extension": ".py",
   "mimetype": "text/x-python",
   "name": "python",
   "nbconvert_exporter": "python",
   "pygments_lexer": "ipython3",
   "version": "3.12.7"
  }
 },
 "nbformat": 4,
 "nbformat_minor": 4
}
