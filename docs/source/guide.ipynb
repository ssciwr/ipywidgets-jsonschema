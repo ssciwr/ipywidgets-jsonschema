{
 "cells": [
  {
   "cell_type": "markdown",
   "metadata": {},
   "source": [
    "# Quickstart"
   ]
  },
  {
   "cell_type": "markdown",
   "metadata": {},
   "source": [
    "This guide demonstrates how to generate interactive forms from `JSON Schema`\n",
    " or `pydantic` models using `ipywidgets-jsonschema`."
   ]
  },
  {
   "cell_type": "markdown",
   "metadata": {},
   "source": [
    "## Basic example with `JSON schema`\n",
    "`ipywidgets-jsonschema` allows you to generate a widget form from an existing schema that follows the JSON Schema specification. We first define a schema:"
   ]
  },
  {
   "cell_type": "code",
   "execution_count": 28,
   "metadata": {},
   "outputs": [],
   "source": [
    "schema = {\n",
    "    \"type\": \"object\",\n",
    "    \"properties\": {\n",
    "        \"name\": {\"type\": \"string\", \"title\": \"Name\"},\n",
    "        \"food\": {\n",
    "            \"type\": \"array\",\n",
    "            \"items\": {\"type\": \"string\"},\n",
    "            \"title\": \"Preferred Food\",\n",
    "        },\n",
    "    },\n",
    "}"
   ]
  },
  {
   "cell_type": "markdown",
   "metadata": {},
   "source": [
    "Generating the widget form for it and visualizing it in Jupyter is as simple as this:"
   ]
  },
  {
   "cell_type": "code",
   "execution_count": 29,
   "metadata": {},
   "outputs": [
    {
     "data": {
      "application/vnd.jupyter.widget-view+json": {
       "model_id": "37c3b73307c94ffc8e0f189a7531a287",
       "version_major": 2,
       "version_minor": 0
      },
      "text/plain": [
       "VBox(children=(Accordion(children=(VBox(children=(VBox(children=(Button(description='Add entry', icon='plus', …"
      ]
     },
     "metadata": {},
     "output_type": "display_data"
    }
   ],
   "source": [
    "from ipywidgets_jsonschema import Form\n",
    "\n",
    "form = Form(schema)\n",
    "form.show()"
   ]
  },
  {
   "cell_type": "markdown",
   "metadata": {},
   "source": [
    "This will display a form in Jupyter where users can input data according to the schema.\n",
    "To access current data, we can use the `data` property of `form`:"
   ]
  },
  {
   "cell_type": "code",
   "execution_count": 30,
   "metadata": {},
   "outputs": [
    {
     "data": {
      "text/plain": [
       "{'name': '', 'food': []}"
      ]
     },
     "execution_count": 30,
     "metadata": {},
     "output_type": "execute_result"
    }
   ],
   "source": [
    "form.data"
   ]
  },
  {
   "cell_type": "markdown",
   "metadata": {},
   "source": [
    "This will automatically validate the data."
   ]
  },
  {
   "cell_type": "markdown",
   "metadata": {},
   "source": [
    "## Basic example using `pydantic`\n",
    "`ipywidgets-jsonschema`can be easily integrated with `pydantic` models.\n",
    "First create a `pydantic` model:"
   ]
  },
  {
   "cell_type": "code",
   "execution_count": 31,
   "metadata": {},
   "outputs": [],
   "source": [
    "from pydantic import BaseModel\n",
    "\n",
    "\n",
    "class User(BaseModel):\n",
    "    name: str\n",
    "    adress: str"
   ]
  },
  {
   "cell_type": "markdown",
   "metadata": {},
   "source": [
    "Then create the schema using `model_json_schema()`:"
   ]
  },
  {
   "cell_type": "code",
   "execution_count": 32,
   "metadata": {},
   "outputs": [
    {
     "data": {
      "text/plain": [
       "{'properties': {'name': {'title': 'Name', 'type': 'string'},\n",
       "  'adress': {'title': 'Adress', 'type': 'string'}},\n",
       " 'required': ['name', 'adress'],\n",
       " 'title': 'User',\n",
       " 'type': 'object'}"
      ]
     },
     "execution_count": 32,
     "metadata": {},
     "output_type": "execute_result"
    }
   ],
   "source": [
    "schema_user = User.model_json_schema()\n",
    "schema_user"
   ]
  },
  {
   "cell_type": "markdown",
   "metadata": {},
   "source": [
    "Then generate the widget form as usual:"
   ]
  },
  {
   "cell_type": "code",
   "execution_count": 33,
   "metadata": {},
   "outputs": [
    {
     "data": {
      "application/vnd.jupyter.widget-view+json": {
       "model_id": "cdd660dcbec24b34946ce20b1d63702e",
       "version_major": 2,
       "version_minor": 0
      },
      "text/plain": [
       "VBox(children=(HBox(children=(Label(value='Adress', layout=Layout(width='100%')), Text(value='', layout=Layout…"
      ]
     },
     "metadata": {},
     "output_type": "display_data"
    }
   ],
   "source": [
    "from ipywidgets_jsonschema import Form\n",
    "\n",
    "form = Form(schema_user)\n",
    "form.show()"
   ]
  },
  {
   "cell_type": "markdown",
   "metadata": {},
   "source": [
    "Alternatively, you can create a widget form directly from the pydantic model without needing to generate a JSON schema manually:"
   ]
  },
  {
   "cell_type": "code",
   "execution_count": 34,
   "metadata": {},
   "outputs": [
    {
     "data": {
      "application/vnd.jupyter.widget-view+json": {
       "model_id": "74da6b23ae9845708614761772d3dcfd",
       "version_major": 2,
       "version_minor": 0
      },
      "text/plain": [
       "VBox(children=(HBox(children=(Label(value='Adress', layout=Layout(width='100%')), Text(value='', layout=Layout…"
      ]
     },
     "metadata": {},
     "output_type": "display_data"
    }
   ],
   "source": [
    "form = Form(User)\n",
    "form.show()"
   ]
  },
  {
   "cell_type": "markdown",
   "metadata": {},
   "source": [
    "# Customizing layout and styling"
   ]
  },
  {
   "cell_type": "markdown",
   "metadata": {},
   "source": [
    "`ipywidgets-jsonschema` provides some customization options to control the appearance and behavior of generated forms. This includes adjusting the layout, enabling sliders for numeric input, preconstructing array items and configuring date/time formats.\n",
    "Here is an example:"
   ]
  },
  {
   "cell_type": "code",
   "execution_count": 35,
   "metadata": {},
   "outputs": [],
   "source": [
    "class MyModel(BaseModel):\n",
    "    name: str\n",
    "    height: int"
   ]
  },
  {
   "cell_type": "code",
   "execution_count": 36,
   "metadata": {},
   "outputs": [
    {
     "data": {
      "application/vnd.jupyter.widget-view+json": {
       "model_id": "9f932c44bdfc4293b07dd37009fd8af9",
       "version_major": 2,
       "version_minor": 0
      },
      "text/plain": [
       "VBox(children=(VBox(children=(Label(value='Height', layout=Layout(width='100%')), IntText(value=0, layout=Layo…"
      ]
     },
     "metadata": {},
     "output_type": "display_data"
    }
   ],
   "source": [
    "form = Form(\n",
    "    MyModel,\n",
    "    vertically_place_labels=True,\n",
    "    use_sliders=True,\n",
    ")\n",
    "form.show(width=\"500px\")"
   ]
  },
  {
   "cell_type": "markdown",
   "metadata": {},
   "source": [
    "See the [Class reference](api/modules.html) for more details."
   ]
  },
  {
   "cell_type": "markdown",
   "metadata": {},
   "source": [
    "## Using `PydanticEditorMixin` for interactive pydantic model editing"
   ]
  },
  {
   "cell_type": "markdown",
   "metadata": {},
   "source": [
    "`PydanticEditorMixin` allows interactive editing of pydantic models in Jupyter. It extends any model, allowing you to edit its attributes dynamically using an interactive form. It provides: \n",
    "* A Form Interface: Displays the model’s attributes as editable fields.\n",
    "* Edit Mode Toggle: Enter edit mode and change values.\n",
    "* Save & Cancel Buttons: Save changes or revert to the original values.\n"
   ]
  },
  {
   "cell_type": "markdown",
   "metadata": {},
   "source": [
    "First import `PydanticEditorMixin` using:"
   ]
  },
  {
   "cell_type": "code",
   "execution_count": 37,
   "metadata": {},
   "outputs": [],
   "source": [
    "from ipywidgets_jsonschema.pydantic_editor_mixin import PydanticEditorMixin"
   ]
  },
  {
   "cell_type": "markdown",
   "metadata": {},
   "source": [
    "Then simply inherit from PydanticEditorMixin along with your pydantic model:"
   ]
  },
  {
   "cell_type": "code",
   "execution_count": 38,
   "metadata": {},
   "outputs": [
    {
     "data": {
      "application/vnd.jupyter.widget-view+json": {
       "model_id": "96c9e662f72c4aebb46fecc03d30d37f",
       "version_major": 2,
       "version_minor": 0
      },
      "text/plain": [
       "VBox(children=(Button(description='Edit', icon='pencil', style=ButtonStyle(), tooltip='Edit model'), Output(la…"
      ]
     },
     "metadata": {},
     "output_type": "display_data"
    }
   ],
   "source": [
    "class MyModel(PydanticEditorMixin, BaseModel):\n",
    "    name: str\n",
    "    age: int\n",
    "    email: str\n",
    "\n",
    "\n",
    "model = MyModel(name=\"John Doe\", age=30, email=\"john.doe@example.com\")\n",
    "model.edit()"
   ]
  },
  {
   "cell_type": "markdown",
   "metadata": {},
   "source": [
    "This will render a form where each field can be updated, with Cancel or Save buttons to confirm or discard the changes."
   ]
  },
  {
   "cell_type": "markdown",
   "metadata": {},
   "source": [
    "# In-Depth Walkthrough and supported Data Types\n",
    "ipywidgets-jsonschema provides a way to dynamically generate ipywidgets from JSON Schema definitions. This guide covers how different data types are handled and how to use create widgets using JSON schema and pydantic."
   ]
  },
  {
   "cell_type": "markdown",
   "metadata": {},
   "source": [
    "## Basic Data Types"
   ]
  },
  {
   "cell_type": "markdown",
   "metadata": {},
   "source": [
    "The most common types like str, int, and float are rendered as simple input fields. bool is shown as a checkbox."
   ]
  },
  {
   "cell_type": "code",
   "execution_count": 39,
   "metadata": {},
   "outputs": [
    {
     "data": {
      "application/vnd.jupyter.widget-view+json": {
       "model_id": "8ef10b63571a40ccb115e97f13c87126",
       "version_major": 2,
       "version_minor": 0
      },
      "text/plain": [
       "VBox(children=(HBox(children=(Label(value='Age', layout=Layout(width='100%')), IntText(value=0, layout=Layout(…"
      ]
     },
     "metadata": {},
     "output_type": "display_data"
    }
   ],
   "source": [
    "from ipywidgets_jsonschema import Form\n",
    "from pydantic import BaseModel, Field\n",
    "\n",
    "\n",
    "class BasicTypes(BaseModel):\n",
    "    name: str\n",
    "    email: str\n",
    "    age: int\n",
    "    height: float\n",
    "    is_active: bool\n",
    "\n",
    "\n",
    "form = Form(BasicTypes)\n",
    "form.show()"
   ]
  },
  {
   "cell_type": "markdown",
   "metadata": {},
   "source": [
    "## Default Values\n",
    "Setting the default values is simple as:"
   ]
  },
  {
   "cell_type": "code",
   "execution_count": 40,
   "metadata": {},
   "outputs": [
    {
     "data": {
      "application/vnd.jupyter.widget-view+json": {
       "model_id": "d0d59057b50048e9a99fbb678eca797c",
       "version_major": 2,
       "version_minor": 0
      },
      "text/plain": [
       "VBox(children=(HBox(children=(Label(value='Value', layout=Layout(width='100%')), IntText(value=10, layout=Layo…"
      ]
     },
     "metadata": {},
     "output_type": "display_data"
    }
   ],
   "source": [
    "class DefaultValues(BaseModel):\n",
    "    value: int = 10\n",
    "\n",
    "\n",
    "form = Form(DefaultValues)\n",
    "form.show()"
   ]
  },
  {
   "cell_type": "markdown",
   "metadata": {},
   "source": [
    "When using Fields, the default value has to be specified inside the Field:"
   ]
  },
  {
   "cell_type": "code",
   "execution_count": 41,
   "metadata": {},
   "outputs": [
    {
     "data": {
      "application/vnd.jupyter.widget-view+json": {
       "model_id": "bd23e763393840a7801965b8e559a5bc",
       "version_major": 2,
       "version_minor": 0
      },
      "text/plain": [
       "VBox(children=(HBox(children=(Label(value='Value', layout=Layout(width='100%')), IntText(value=10, layout=Layo…"
      ]
     },
     "metadata": {},
     "output_type": "display_data"
    }
   ],
   "source": [
    "class DefaultValuesField(BaseModel):\n",
    "    value: int = Field(default=10)\n",
    "\n",
    "\n",
    "form = Form(DefaultValues)\n",
    "form.show()"
   ]
  },
  {
   "cell_type": "markdown",
   "metadata": {},
   "source": [
    "## In-Depth widget guide\n",
    "This section covers advanced features such as nested structures, recursion, constraints, enums, and string formats."
   ]
  },
  {
   "cell_type": "markdown",
   "metadata": {},
   "source": [
    "## Contraints\n",
    "JSON Schema constraints such as minLength, maxLength, minimum, maximum, pattern, and format are fully supported. These constraints allow you to have fine-grained control over user input, ensuring that data is validated at the widget level.\n",
    "\n",
    "To define constraints in a Pydantic model, use the Field class:"
   ]
  },
  {
   "cell_type": "code",
   "execution_count": 42,
   "metadata": {},
   "outputs": [
    {
     "data": {
      "application/vnd.jupyter.widget-view+json": {
       "model_id": "69db6c10ecb446d1a00273ce4c2bd153",
       "version_major": 2,
       "version_minor": 0
      },
      "text/plain": [
       "VBox(children=(HBox(children=(Label(value='Number', layout=Layout(width='100%')), BoundedIntText(value=10, lay…"
      ]
     },
     "metadata": {},
     "output_type": "display_data"
    }
   ],
   "source": [
    "from pydantic import Field\n",
    "\n",
    "\n",
    "class ConstraintsExample(BaseModel):\n",
    "    number: int = Field(minimum=0, maximum=10)\n",
    "    text: str = Field(min_length=3, max_length=10, pattern=\"^[a-zA-Z]+$\")\n",
    "\n",
    "\n",
    "form = Form(ConstraintsExample)\n",
    "form.show()"
   ]
  },
  {
   "cell_type": "markdown",
   "metadata": {},
   "source": [
    "## String formats\n",
    "JSON Schema allows specifying string formats to enforce validation rules on user input. The following formats are supported:\n",
    "\n",
    " - email\n",
    " - hostname\n",
    " - ipv4\n",
    " - ipv6\n",
    " - uri\n",
    " - uuid\n",
    "\n",
    "To enforce these string formats, it is simple as adding a format key to your JSON schema or pydantic model:\n"
   ]
  },
  {
   "cell_type": "code",
   "execution_count": 43,
   "metadata": {},
   "outputs": [
    {
     "data": {
      "application/vnd.jupyter.widget-view+json": {
       "model_id": "220047b8e769404a82ff7a2a9185d43c",
       "version_major": 2,
       "version_minor": 0
      },
      "text/plain": [
       "VBox(children=(HBox(children=(Label(value='Email', layout=Layout(width='100%')), Text(value='default@example.c…"
      ]
     },
     "metadata": {},
     "output_type": "display_data"
    }
   ],
   "source": [
    "class StringFormats(BaseModel):\n",
    "    email: str = Field(default=\"default@example.com\", format=\"email\")\n",
    "    hostname: str = Field(default=\"default.com\", format=\"hostname\")\n",
    "    ip4address: str = Field(default=\"127.0.0.1\", format=\"ipv4\")\n",
    "    ip6address: str = Field(default=\"::1\", format=\"ipv6\")\n",
    "    uri: str = Field(default=\"http://example.com\", format=\"uri\")\n",
    "    uuid: str = Field(default=\"00000000-0000-0000-0000-000000000000\", format=\"uuid\")\n",
    "\n",
    "\n",
    "form = Form(StringFormats.model_json_schema())\n",
    "form.show()"
   ]
  },
  {
   "cell_type": "markdown",
   "metadata": {},
   "source": [
    "ipywidgets_jsonschema also features visual feedback for user input that doesn't match the specified pattern or format. When users enter invalid data, the corresponding widget provides real-time validation cues, such as highlighting the input field or displaying an error message. "
   ]
  },
  {
   "cell_type": "code",
   "execution_count": 44,
   "metadata": {},
   "outputs": [
    {
     "data": {
      "application/vnd.jupyter.widget-view+json": {
       "model_id": "5fbeb419c65b4da09b83594f3fad1640",
       "version_major": 2,
       "version_minor": 0
      },
      "text/plain": [
       "VBox(children=(HBox(children=(Label(value='Email', layout=Layout(width='100%')), Text(value='', layout=Layout(…"
      ]
     },
     "metadata": {},
     "output_type": "display_data"
    }
   ],
   "source": [
    "class Feedback(BaseModel):\n",
    "    email: str = Field(format=\"email\")\n",
    "    email_wrong: str = Field(format=\"email\")\n",
    "\n",
    "\n",
    "form = Form(Feedback)\n",
    "form.show()"
   ]
  },
  {
   "cell_type": "markdown",
   "metadata": {},
   "source": [
    "## Datetime"
   ]
  },
  {
   "cell_type": "markdown",
   "metadata": {},
   "source": [
    "Date and time fields are rendered using special widgets that let you select a date from a calendar or set the time."
   ]
  },
  {
   "cell_type": "code",
   "execution_count": 45,
   "metadata": {},
   "outputs": [
    {
     "data": {
      "application/vnd.jupyter.widget-view+json": {
       "model_id": "47ee95f010934ee69f0abb553e2df840",
       "version_major": 2,
       "version_minor": 0
      },
      "text/plain": [
       "VBox(children=(HBox(children=(DatePicker(value=datetime.datetime(2025, 9, 28, 18, 22, 23, 705382), description…"
      ]
     },
     "metadata": {},
     "output_type": "display_data"
    }
   ],
   "source": [
    "from datetime import date, time\n",
    "\n",
    "\n",
    "class Date(BaseModel):\n",
    "    date: date\n",
    "    time: time\n",
    "\n",
    "\n",
    "form = Form(Date)\n",
    "form.show()"
   ]
  },
  {
   "cell_type": "markdown",
   "metadata": {},
   "source": [
    "## List"
   ]
  },
  {
   "cell_type": "markdown",
   "metadata": {},
   "source": [
    "When your schema includes a List, it will automatically generate a dynamic widget list, that allows users to:\n",
    "1. Add new entries\n",
    "2. Reorder list entries\n",
    "3. Remove individual entries"
   ]
  },
  {
   "cell_type": "code",
   "execution_count": 46,
   "metadata": {},
   "outputs": [
    {
     "data": {
      "application/vnd.jupyter.widget-view+json": {
       "model_id": "b92f89cf715b4150aa147086f68130ab",
       "version_major": 2,
       "version_minor": 0
      },
      "text/plain": [
       "VBox(children=(Accordion(children=(VBox(children=(VBox(children=(Button(description='Add entry', icon='plus', …"
      ]
     },
     "metadata": {},
     "output_type": "display_data"
    }
   ],
   "source": [
    "from typing import List\n",
    "\n",
    "\n",
    "class Fruits(BaseModel):\n",
    "    fruit: List[str]\n",
    "\n",
    "\n",
    "form = Form(Fruits)\n",
    "form.show()"
   ]
  },
  {
   "cell_type": "markdown",
   "metadata": {},
   "source": [
    "When using Set in your schema or Pydantic model, the form behaves like a list input but ensures that no duplicate entries are allowed."
   ]
  },
  {
   "cell_type": "code",
   "execution_count": 47,
   "metadata": {},
   "outputs": [
    {
     "data": {
      "application/vnd.jupyter.widget-view+json": {
       "model_id": "a0a3dfafb84a4aad927aba6c5b58343b",
       "version_major": 2,
       "version_minor": 0
      },
      "text/plain": [
       "VBox(children=(Accordion(children=(VBox(children=(VBox(children=(Button(description='Add entry', icon='plus', …"
      ]
     },
     "metadata": {},
     "output_type": "display_data"
    }
   ],
   "source": [
    "from typing import Set\n",
    "\n",
    "\n",
    "class IDs(BaseModel):\n",
    "    id: Set[int]\n",
    "\n",
    "\n",
    "form = Form(IDs)\n",
    "form.show()"
   ]
  },
  {
   "cell_type": "markdown",
   "metadata": {},
   "source": [
    "## Nested schema"
   ]
  },
  {
   "cell_type": "markdown",
   "metadata": {},
   "source": [
    "We fully support **nested schemas**, allowing deeply structured form with embedded classes."
   ]
  },
  {
   "cell_type": "code",
   "execution_count": 48,
   "metadata": {},
   "outputs": [
    {
     "data": {
      "application/vnd.jupyter.widget-view+json": {
       "model_id": "2c0f90e110e144829e815dbe6726b7f1",
       "version_major": 2,
       "version_minor": 0
      },
      "text/plain": [
       "VBox(children=(Accordion(children=(VBox(children=(VBox(children=(Button(description='Add entry', icon='plus', …"
      ]
     },
     "metadata": {},
     "output_type": "display_data"
    }
   ],
   "source": [
    "from typing import List\n",
    "\n",
    "\n",
    "class Address(BaseModel):\n",
    "    street: str\n",
    "    city: str\n",
    "\n",
    "\n",
    "class User(BaseModel):\n",
    "    name: str\n",
    "    adresses: List[Address]\n",
    "\n",
    "\n",
    "form = Form(User)\n",
    "form.show()"
   ]
  },
  {
   "cell_type": "markdown",
   "metadata": {},
   "source": [
    "## Enum"
   ]
  },
  {
   "cell_type": "markdown",
   "metadata": {},
   "source": [
    "When your model includes an Enum field, the form renders a dropdown widget, allowing you to select one of the available options."
   ]
  },
  {
   "cell_type": "code",
   "execution_count": 49,
   "metadata": {},
   "outputs": [
    {
     "data": {
      "application/vnd.jupyter.widget-view+json": {
       "model_id": "ea302742a696455fb05506135f030269",
       "version_major": 2,
       "version_minor": 0
      },
      "text/plain": [
       "VBox(children=(HBox(children=(Label(value='ColorEnum', layout=Layout(width='100%')), Dropdown(layout=Layout(wi…"
      ]
     },
     "metadata": {},
     "output_type": "display_data"
    }
   ],
   "source": [
    "from enum import Enum\n",
    "\n",
    "\n",
    "class ColorEnum(Enum):\n",
    "    RED = \"red\"\n",
    "    BLUE = \"blue\"\n",
    "    GREEN = \"green\"\n",
    "\n",
    "\n",
    "class Colors(BaseModel):\n",
    "    color: ColorEnum\n",
    "\n",
    "\n",
    "form = Form(Colors)\n",
    "form.show()"
   ]
  },
  {
   "cell_type": "markdown",
   "metadata": {},
   "source": [
    "## Anyof"
   ]
  },
  {
   "cell_type": "markdown",
   "metadata": {},
   "source": [
    "We support fields defined using `Union`, which correspond to JSON Schema’s `anyOf`. These allow a field to accept multiple types. The form provides a dropdown, that allows you to select a type."
   ]
  },
  {
   "cell_type": "code",
   "execution_count": 50,
   "metadata": {},
   "outputs": [
    {
     "data": {
      "application/vnd.jupyter.widget-view+json": {
       "model_id": "41834ffb7b4e45e09c57242c8a22aa6a",
       "version_major": 2,
       "version_minor": 0
      },
      "text/plain": [
       "VBox(children=(VBox(children=(VBox(children=(Dropdown(options=('integer', 'number'), value='integer'), HBox(ch…"
      ]
     },
     "metadata": {},
     "output_type": "display_data"
    }
   ],
   "source": [
    "from typing import Union\n",
    "\n",
    "\n",
    "class Item(BaseModel):\n",
    "    price: Union[int, float]\n",
    "\n",
    "\n",
    "form = Form(Item)\n",
    "form.show()"
   ]
  },
  {
   "cell_type": "markdown",
   "metadata": {},
   "source": [
    "## Object / Dictionary"
   ]
  },
  {
   "cell_type": "markdown",
   "metadata": {},
   "source": [
    "You can use Dict to define dynamic key-value mapping. Keys are strings, and values can be any supported data type."
   ]
  },
  {
   "cell_type": "code",
   "execution_count": 51,
   "metadata": {},
   "outputs": [
    {
     "data": {
      "application/vnd.jupyter.widget-view+json": {
       "model_id": "e7d55d5c4fa94fd9ba393804fdb16138",
       "version_major": 2,
       "version_minor": 0
      },
      "text/plain": [
       "VBox(children=(Accordion(children=(VBox(children=(VBox(), Button(description='Add key value', icon='plus', lay…"
      ]
     },
     "metadata": {},
     "output_type": "display_data"
    }
   ],
   "source": [
    "from typing import Union, Dict\n",
    "\n",
    "\n",
    "class DictUnion(BaseModel):\n",
    "    settings: Dict[str, str]\n",
    "\n",
    "\n",
    "form = Form(DictUnion)\n",
    "form.show()"
   ]
  },
  {
   "cell_type": "markdown",
   "metadata": {},
   "source": [
    "## Recursion\n"
   ]
  },
  {
   "cell_type": "markdown",
   "metadata": {},
   "source": [
    "Recursive models are supported by using string annotations. This allows a model to reference itself, which is useful for things like nested categories or tree structures."
   ]
  },
  {
   "cell_type": "code",
   "execution_count": 52,
   "metadata": {},
   "outputs": [
    {
     "data": {
      "application/vnd.jupyter.widget-view+json": {
       "model_id": "66b644daa3154224989d5b7eaae18185",
       "version_major": 2,
       "version_minor": 0
      },
      "text/plain": [
       "VBox(children=(Accordion(children=(VBox(children=(HBox(children=(Label(value='Name', layout=Layout(width='100%…"
      ]
     },
     "metadata": {},
     "output_type": "display_data"
    }
   ],
   "source": [
    "from typing import List\n",
    "\n",
    "\n",
    "class Category(BaseModel):\n",
    "    name: str\n",
    "    subcategories: List[\"Category\"]\n",
    "\n",
    "\n",
    "form = Form(Category)\n",
    "form.show()"
   ]
  }
 ],
 "metadata": {
  "kernelspec": {
   "display_name": "venv (3.13.0)",
   "language": "python",
   "name": "python3"
  },
  "language_info": {
   "codemirror_mode": {
    "name": "ipython",
    "version": 3
   },
   "file_extension": ".py",
   "mimetype": "text/x-python",
   "name": "python",
   "nbconvert_exporter": "python",
   "pygments_lexer": "ipython3",
   "version": "3.13.0"
  }
 },
 "nbformat": 4,
 "nbformat_minor": 4
}
