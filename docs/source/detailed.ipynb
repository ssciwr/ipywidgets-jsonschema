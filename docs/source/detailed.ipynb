{
 "cells": [
  {
   "cell_type": "markdown",
   "metadata": {},
   "source": [
    "# Form field types\n",
    "ipywidgets-jsonschema provides a way to dynamically generate ipywidgets from JSON Schema definitions. This guide covers how different data types are handled and how to use create widgets using JSON schema and pydantic."
   ]
  },
  {
   "cell_type": "markdown",
   "metadata": {},
   "source": [
    "## Basic Data Types"
   ]
  },
  {
   "cell_type": "markdown",
   "metadata": {},
   "source": [
    "The most common types like str, int, and float are rendered as simple input fields. bool is shown as a checkbox."
   ]
  },
  {
   "cell_type": "code",
   "execution_count": 1,
   "metadata": {},
   "outputs": [
    {
     "data": {
      "application/vnd.jupyter.widget-view+json": {
       "model_id": "0e2dafcacf0e4ddca79bc206a869d1a7",
       "version_major": 2,
       "version_minor": 0
      },
      "text/plain": [
       "VBox(children=(HBox(children=(Label(value='Age', layout=Layout(width='100%')), IntText(value=0, layout=Layout(…"
      ]
     },
     "metadata": {},
     "output_type": "display_data"
    }
   ],
   "source": [
    "from ipywidgets_jsonschema import Form\n",
    "from pydantic import BaseModel, Field\n",
    "\n",
    "class BasicTypes(BaseModel):\n",
    "    name: str\n",
    "    email: str\n",
    "    age: int\n",
    "    height: float\n",
    "    is_active: bool\n",
    "    \n",
    "    \n",
    "form = Form(BasicTypes)\n",
    "form.show()"
   ]
  },
  {
   "cell_type": "markdown",
   "metadata": {},
   "source": [
    "## Default Values\n",
    "Setting the default values is simple as:"
   ]
  },
  {
   "cell_type": "code",
   "execution_count": 2,
   "metadata": {},
   "outputs": [
    {
     "data": {
      "application/vnd.jupyter.widget-view+json": {
       "model_id": "f9b9b7fea3434a6ca53e06b8334055b2",
       "version_major": 2,
       "version_minor": 0
      },
      "text/plain": [
       "VBox(children=(HBox(children=(Label(value='Value', layout=Layout(width='100%')), IntText(value=10, layout=Layo…"
      ]
     },
     "metadata": {},
     "output_type": "display_data"
    }
   ],
   "source": [
    "class DefaultValues(BaseModel):\n",
    "    value: int = 10\n",
    "form = Form(DefaultValues)\n",
    "form.show()"
   ]
  },
  {
   "cell_type": "markdown",
   "metadata": {},
   "source": [
    "When using Fields, the default value has to be specified inside the Field:"
   ]
  },
  {
   "cell_type": "code",
   "execution_count": 3,
   "metadata": {},
   "outputs": [
    {
     "data": {
      "application/vnd.jupyter.widget-view+json": {
       "model_id": "66149c266933453282116448d3b74fe9",
       "version_major": 2,
       "version_minor": 0
      },
      "text/plain": [
       "VBox(children=(HBox(children=(Label(value='Value', layout=Layout(width='100%')), IntText(value=10, layout=Layo…"
      ]
     },
     "metadata": {},
     "output_type": "display_data"
    }
   ],
   "source": [
    "class DefaultValuesField(BaseModel):\n",
    "    value: int = Field(default = 10)\n",
    "form = Form(DefaultValues)\n",
    "form.show()"
   ]
  },
  {
   "cell_type": "markdown",
   "metadata": {},
   "source": [
    "# Advanced features\n",
    "JSON Schema constraints such as minLength, maxLength, minimum, maximum, pattern, and format are fully supported. These constraints allow you to have fine-grained control over user input, ensuring that data is validated at the widget level."
   ]
  },
  {
   "cell_type": "markdown",
   "metadata": {},
   "source": [
    "### Using Constraints with Pydantic\n",
    "\n",
    "To define constraints in a Pydantic model, use the Field class:"
   ]
  },
  {
   "cell_type": "code",
   "execution_count": 4,
   "metadata": {},
   "outputs": [
    {
     "data": {
      "application/vnd.jupyter.widget-view+json": {
       "model_id": "eb17d2336e464632a25efd5cfe9bc0d7",
       "version_major": 2,
       "version_minor": 0
      },
      "text/plain": [
       "VBox(children=(HBox(children=(Label(value='Number', layout=Layout(width='100%')), BoundedIntText(value=10, lay…"
      ]
     },
     "metadata": {},
     "output_type": "display_data"
    }
   ],
   "source": [
    "from pydantic import Field\n",
    "\n",
    "class ConstraintsExample(BaseModel):\n",
    "    number: int = Field(minimum= 0, maximum = 10)\n",
    "    text: str = Field(min_length=3, max_length=10, pattern=\"^[a-zA-Z]+$\")\n",
    "form = Form(ConstraintsExample)\n",
    "form.show()"
   ]
  },
  {
   "cell_type": "markdown",
   "metadata": {},
   "source": [
    "## String formats\n",
    "JSON Schema allows specifying string formats to enforce validation rules on user input. The following formats are supported:\n",
    "\n",
    " - email\n",
    " - hostname\n",
    " - ipv4\n",
    " - ipv6\n",
    " - uri\n",
    " - uuid\n",
    "\n",
    "To enforce these string formats, it is simple as adding a format key to your JSON schema or pydantic model:\n"
   ]
  },
  {
   "cell_type": "code",
   "execution_count": 5,
   "metadata": {},
   "outputs": [
    {
     "data": {
      "application/vnd.jupyter.widget-view+json": {
       "model_id": "770fe606d20642fb9cc5ac742321216e",
       "version_major": 2,
       "version_minor": 0
      },
      "text/plain": [
       "VBox(children=(HBox(children=(Label(value='Email', layout=Layout(width='100%')), Text(value='default@example.c…"
      ]
     },
     "metadata": {},
     "output_type": "display_data"
    }
   ],
   "source": [
    "class StringFormats(BaseModel):\n",
    "    email: str = Field(default=\"default@example.com\", format=\"email\")\n",
    "    hostname: str = Field(default=\"default.com\", format=\"hostname\")\n",
    "    ip4address: str = Field(default=\"127.0.0.1\", format=\"ipv4\")\n",
    "    ip6address: str = Field(default=\"::1\", format=\"ipv6\")\n",
    "    uri: str = Field(default=\"http://example.com\", format=\"uri\")\n",
    "    uuid: str = Field(default=\"00000000-0000-0000-0000-000000000000\", format=\"uuid\")\n",
    "form = Form(StringFormats.model_json_schema())\n",
    "form.show()"
   ]
  },
  {
   "cell_type": "markdown",
   "metadata": {},
   "source": [
    "ipywidgets_jsonschema also features visual feedback for user input that doesn't match the specified pattern or format. When users enter invalid data, the corresponding widget provides real-time validation cues, such as highlighting the input field or displaying an error message. "
   ]
  },
  {
   "cell_type": "code",
   "execution_count": 6,
   "metadata": {},
   "outputs": [
    {
     "data": {
      "application/vnd.jupyter.widget-view+json": {
       "model_id": "9e475820f1fd45daab9b2d01fb474706",
       "version_major": 2,
       "version_minor": 0
      },
      "text/plain": [
       "VBox(children=(HBox(children=(Label(value='Email', layout=Layout(width='100%')), Text(value='', layout=Layout(…"
      ]
     },
     "metadata": {},
     "output_type": "display_data"
    }
   ],
   "source": [
    "class Feedback(BaseModel):\n",
    "    email: str = Field(format=\"email\")\n",
    "    email_wrong: str = Field(format=\"email\")\n",
    "form = Form(Feedback)\n",
    "form.show()"
   ]
  },
  {
   "cell_type": "markdown",
   "metadata": {},
   "source": [
    "## Datetime"
   ]
  },
  {
   "cell_type": "markdown",
   "metadata": {},
   "source": [
    "Date and time fields are rendered using special widgets that let you select a date from a calendar or set the time."
   ]
  },
  {
   "cell_type": "code",
   "execution_count": 21,
   "metadata": {
    "scrolled": true
   },
   "outputs": [
    {
     "data": {
      "application/vnd.jupyter.widget-view+json": {
       "model_id": "2a3229793af74efda3dd0b30218aa32d",
       "version_major": 2,
       "version_minor": 0
      },
      "text/plain": [
       "VBox(children=(HBox(children=(DatePicker(value=datetime.datetime(2025, 4, 7, 21, 51, 58, 851525), description=…"
      ]
     },
     "metadata": {},
     "output_type": "display_data"
    }
   ],
   "source": [
    "from datetime import date, time\n",
    "\n",
    "class Date(BaseModel):\n",
    "    date: date\n",
    "    time: time\n",
    "form = Form(Date)\n",
    "form.show()"
   ]
  },
  {
   "cell_type": "markdown",
   "metadata": {},
   "source": [
    "## List"
   ]
  },
  {
   "cell_type": "markdown",
   "metadata": {},
   "source": [
    "When your schema includes a List, it will automatically generate a dynamic widget list, that allows users to:\n",
    "1. Add new entries\n",
    "2. Reorder list entries\n",
    "3. Remove individual entries"
   ]
  },
  {
   "cell_type": "code",
   "execution_count": 8,
   "metadata": {},
   "outputs": [
    {
     "data": {
      "application/vnd.jupyter.widget-view+json": {
       "model_id": "25b00da032e346de8a2e8ca6a943e92b",
       "version_major": 2,
       "version_minor": 0
      },
      "text/plain": [
       "VBox(children=(Accordion(children=(VBox(children=(VBox(children=(Button(description='Add entry', icon='plus', …"
      ]
     },
     "metadata": {},
     "output_type": "display_data"
    }
   ],
   "source": [
    "from typing import List\n",
    "\n",
    "class Fruits(BaseModel):\n",
    "    fruit: List[str]\n",
    "form = Form(Fruits)\n",
    "form.show()"
   ]
  },
  {
   "cell_type": "markdown",
   "metadata": {},
   "source": [
    "When using Set in your schema or Pydantic model, the form behaves like a list input but ensures that no duplicate entries are allowed."
   ]
  },
  {
   "cell_type": "code",
   "execution_count": 9,
   "metadata": {},
   "outputs": [
    {
     "data": {
      "application/vnd.jupyter.widget-view+json": {
       "model_id": "dd0aa3e5eba14309a7067b48c8c314f1",
       "version_major": 2,
       "version_minor": 0
      },
      "text/plain": [
       "VBox(children=(Accordion(children=(VBox(children=(VBox(children=(Button(description='Add entry', icon='plus', …"
      ]
     },
     "metadata": {},
     "output_type": "display_data"
    }
   ],
   "source": [
    "from typing import Set\n",
    "class IDs(BaseModel):\n",
    "    id: Set[int]\n",
    "form = Form(IDs)\n",
    "form.show()"
   ]
  },
  {
   "cell_type": "markdown",
   "metadata": {},
   "source": [
    "## Nested schema"
   ]
  },
  {
   "cell_type": "markdown",
   "metadata": {},
   "source": [
    "We fully support **nested schemas**, allowing deeply structured form with embedded classes."
   ]
  },
  {
   "cell_type": "code",
   "execution_count": 10,
   "metadata": {},
   "outputs": [
    {
     "data": {
      "application/vnd.jupyter.widget-view+json": {
       "model_id": "8543df381cd74284b04ed2f5a3c6d744",
       "version_major": 2,
       "version_minor": 0
      },
      "text/plain": [
       "VBox(children=(Accordion(children=(VBox(children=(VBox(children=(Button(description='Add entry', icon='plus', …"
      ]
     },
     "metadata": {},
     "output_type": "display_data"
    }
   ],
   "source": [
    "from typing import List\n",
    "\n",
    "class Address(BaseModel):\n",
    "    street: str\n",
    "    city: str\n",
    "class User(BaseModel):\n",
    "    name: str\n",
    "    adresses: List[Address]\n",
    "\n",
    "form = Form(User)\n",
    "form.show()"
   ]
  },
  {
   "cell_type": "markdown",
   "metadata": {},
   "source": [
    "## Enum"
   ]
  },
  {
   "cell_type": "markdown",
   "metadata": {},
   "source": [
    "When your model includes an Enum field, the form renders a dropdown widget, allowing you to select one of the available options."
   ]
  },
  {
   "cell_type": "code",
   "execution_count": 11,
   "metadata": {},
   "outputs": [
    {
     "data": {
      "application/vnd.jupyter.widget-view+json": {
       "model_id": "e1b92b687ac146c7bae79e17ee7b3b4f",
       "version_major": 2,
       "version_minor": 0
      },
      "text/plain": [
       "VBox(children=(HBox(children=(Label(value='ColorEnum', layout=Layout(width='100%')), Dropdown(layout=Layout(wi…"
      ]
     },
     "metadata": {},
     "output_type": "display_data"
    }
   ],
   "source": [
    "from enum import Enum\n",
    "class ColorEnum(Enum):\n",
    "    RED = 'red'\n",
    "    BLUE = 'blue'\n",
    "    GREEN = 'green'\n",
    "\n",
    "class Colors(BaseModel):\n",
    "    color: ColorEnum\n",
    "\n",
    "form = Form(Colors)\n",
    "form.show()"
   ]
  },
  {
   "cell_type": "markdown",
   "metadata": {},
   "source": [
    "## Anyof"
   ]
  },
  {
   "cell_type": "markdown",
   "metadata": {},
   "source": [
    "We support fields defined using `Union`, which correspond to JSON Schema’s `anyOf`. These allow a field to accept multiple types. The form provides a dropdown, that allows you to select a type."
   ]
  },
  {
   "cell_type": "code",
   "execution_count": 12,
   "metadata": {},
   "outputs": [
    {
     "data": {
      "application/vnd.jupyter.widget-view+json": {
       "model_id": "428267d2046f4d069ebe8ceb3e71c592",
       "version_major": 2,
       "version_minor": 0
      },
      "text/plain": [
       "VBox(children=(VBox(children=(VBox(children=(Dropdown(options=('integer', 'number'), value='integer'), HBox(ch…"
      ]
     },
     "metadata": {},
     "output_type": "display_data"
    }
   ],
   "source": [
    "from typing import Union\n",
    "\n",
    "\n",
    "class Item(BaseModel):\n",
    "    price: Union[int, float]\n",
    "form = Form(Item)\n",
    "form.show()"
   ]
  },
  {
   "cell_type": "markdown",
   "metadata": {},
   "source": [
    "## Object / Dictionary"
   ]
  },
  {
   "cell_type": "code",
   "execution_count": 13,
   "metadata": {},
   "outputs": [
    {
     "data": {
      "application/vnd.jupyter.widget-view+json": {
       "model_id": "1c09774480914ad78c6e283a43f8dba4",
       "version_major": 2,
       "version_minor": 0
      },
      "text/plain": [
       "VBox(layout=Layout(width='100%'))"
      ]
     },
     "metadata": {},
     "output_type": "display_data"
    }
   ],
   "source": [
    "from typing import Union, Dict\n",
    "class DictUnion(BaseModel):\n",
    "    settings: Dict[str, str]\n",
    "form = Form(DictUnion)\n",
    "form.show()\n"
   ]
  },
  {
   "cell_type": "markdown",
   "metadata": {},
   "source": [
    "## Recursion\n"
   ]
  },
  {
   "cell_type": "markdown",
   "metadata": {},
   "source": [
    "Recursive models are supported by using string annotations. This allows a model to reference itself, which is useful for things like nested categories or tree structures."
   ]
  },
  {
   "cell_type": "code",
   "execution_count": 14,
   "metadata": {},
   "outputs": [
    {
     "data": {
      "application/vnd.jupyter.widget-view+json": {
       "model_id": "0d8ab7a7124b4caf91a1ef5becb67f2f",
       "version_major": 2,
       "version_minor": 0
      },
      "text/plain": [
       "VBox(children=(Accordion(children=(VBox(children=(HBox(children=(Label(value='Name', layout=Layout(width='100%…"
      ]
     },
     "metadata": {},
     "output_type": "display_data"
    }
   ],
   "source": [
    "from typing import List\n",
    "\n",
    "class Category(BaseModel):\n",
    "    name: str\n",
    "    subcategories: List['Category']\n",
    "\n",
    "form = Form(Category)\n",
    "form.show()"
   ]
  }
 ],
 "metadata": {
  "kernelspec": {
   "display_name": "Python 3 (ipykernel)",
   "language": "python",
   "name": "python3"
  },
  "language_info": {
   "codemirror_mode": {
    "name": "ipython",
    "version": 3
   },
   "file_extension": ".py",
   "mimetype": "text/x-python",
   "name": "python",
   "nbconvert_exporter": "python",
   "pygments_lexer": "ipython3",
   "version": "3.12.7"
  },
  "widgets": {
   "application/vnd.jupyter.widget-state+json": {
    "state": {
     "01686dbab4204b00ac14b7a0dd4dd9b0": {
      "model_module": "@jupyter-widgets/base",
      "model_module_version": "2.0.0",
      "model_name": "LayoutModel",
      "state": {
       "width": "100%"
      }
     },
     "02707364849d480d88768f9ff87fe5d2": {
      "model_module": "@jupyter-widgets/controls",
      "model_module_version": "2.0.0",
      "model_name": "VBoxModel",
      "state": {
       "children": [
        "IPY_MODEL_be96c817819047839a984f44a3e430c1",
        "IPY_MODEL_4189e7b6891640d1a9ecc5a3cd2aecb9",
        "IPY_MODEL_ff80ab95fb454be8a2b4f5c5bff80775"
       ],
       "layout": "IPY_MODEL_6fe1b2f8568a43f7802c64559f148a1b"
      }
     },
     "02d33b439eb441ed9124c526f4fc2b9b": {
      "model_module": "@jupyter-widgets/controls",
      "model_module_version": "2.0.0",
      "model_name": "LabelStyleModel",
      "state": {
       "description_width": "",
       "font_family": null,
       "font_size": null,
       "font_style": null,
       "font_variant": null,
       "font_weight": null,
       "text_color": null,
       "text_decoration": null
      }
     },
     "02dacfdb33b7419991c62f827023c655": {
      "model_module": "@jupyter-widgets/base",
      "model_module_version": "2.0.0",
      "model_name": "LayoutModel",
      "state": {}
     },
     "0414d3cf0f7646f9a363f38b8754059f": {
      "model_module": "@jupyter-widgets/base",
      "model_module_version": "2.0.0",
      "model_name": "LayoutModel",
      "state": {}
     },
     "04c09f75fb344cdfadaca515eaaeeff1": {
      "model_module": "@jupyter-widgets/controls",
      "model_module_version": "2.0.0",
      "model_name": "LabelStyleModel",
      "state": {
       "description_width": "",
       "font_family": null,
       "font_size": null,
       "font_style": null,
       "font_variant": null,
       "font_weight": null,
       "text_color": null,
       "text_decoration": null
      }
     },
     "05775e51ae7a4dc299f4254ff66356b4": {
      "model_module": "@jupyter-widgets/base",
      "model_module_version": "2.0.0",
      "model_name": "LayoutModel",
      "state": {
       "width": "100%"
      }
     },
     "057b2817475d4e5cbff7efa791dec233": {
      "model_module": "@jupyter-widgets/base",
      "model_module_version": "2.0.0",
      "model_name": "LayoutModel",
      "state": {
       "width": "100%"
      }
     },
     "07b5dbd2d02c45e182046663d58eabb9": {
      "model_module": "@jupyter-widgets/controls",
      "model_module_version": "2.0.0",
      "model_name": "LabelStyleModel",
      "state": {
       "description_width": "",
       "font_family": null,
       "font_size": null,
       "font_style": null,
       "font_variant": null,
       "font_weight": null,
       "text_color": null,
       "text_decoration": null
      }
     },
     "084c32003a464aba8e1a145cade1a8bf": {
      "model_module": "@jupyter-widgets/controls",
      "model_module_version": "2.0.0",
      "model_name": "VBoxModel",
      "state": {
       "children": [
        "IPY_MODEL_e441944b7db4418f954f3079146c0181"
       ],
       "layout": "IPY_MODEL_84a6dc31800b4c34b202a21af2b1713a"
      }
     },
     "08625505273b41048d2f6bfb1f531f45": {
      "model_module": "@jupyter-widgets/base",
      "model_module_version": "2.0.0",
      "model_name": "LayoutModel",
      "state": {
       "display": "none"
      }
     },
     "08b009d875e541699ecf4caaf3bf0bf9": {
      "model_module": "@jupyter-widgets/controls",
      "model_module_version": "2.0.0",
      "model_name": "HBoxModel",
      "state": {
       "children": [
        "IPY_MODEL_3c796f27c38149de9eade09373d7ca34",
        "IPY_MODEL_2c62faa944e24cbb83480499f4b9dafe",
        "IPY_MODEL_90865a9d46d54c9e8b550b20b73de4de"
       ],
       "layout": "IPY_MODEL_3dcda7df6ddd45fd870a6098058e1fcf"
      }
     },
     "0917f0757dec40479f2de72ea26e0a1b": {
      "model_module": "@jupyter-widgets/controls",
      "model_module_version": "2.0.0",
      "model_name": "HBoxModel",
      "state": {
       "children": [
        "IPY_MODEL_b58cfd9ee74244ee964ebfe8a2901776"
       ],
       "layout": "IPY_MODEL_2bd5ac0d5f374c8db91d551b238894ec"
      }
     },
     "091a1e0f70864fd8a7668fd218877df2": {
      "model_module": "@jupyter-widgets/base",
      "model_module_version": "2.0.0",
      "model_name": "LayoutModel",
      "state": {}
     },
     "091fc2eaffbc4866859608fc19f9563c": {
      "model_module": "@jupyter-widgets/controls",
      "model_module_version": "2.0.0",
      "model_name": "DescriptionStyleModel",
      "state": {
       "description_width": ""
      }
     },
     "09286ec1b37046b78c6f20cc60723ad3": {
      "model_module": "@jupyter-widgets/controls",
      "model_module_version": "2.0.0",
      "model_name": "HBoxModel",
      "state": {
       "children": [
        "IPY_MODEL_b856cfec7fba40b4a61a7334ec4610bc",
        "IPY_MODEL_b775024f601547d7aa0667086b7049df"
       ],
       "layout": "IPY_MODEL_e49d753e143c4776b375841d93eaedc0"
      }
     },
     "0a70237d846b4198bf0ce69c4b621797": {
      "model_module": "@jupyter-widgets/base",
      "model_module_version": "2.0.0",
      "model_name": "LayoutModel",
      "state": {
       "width": "100%"
      }
     },
     "0ab0b64e23cd4d5aa05786fa8742aa53": {
      "model_module": "@jupyter-widgets/controls",
      "model_module_version": "2.0.0",
      "model_name": "LabelModel",
      "state": {
       "layout": "IPY_MODEL_7bd64d49f38c4f33bad1e6d1ef733547",
       "style": "IPY_MODEL_07b5dbd2d02c45e182046663d58eabb9"
      }
     },
     "0b33c487f72b4fa08fde50dfa85be6a9": {
      "model_module": "@jupyter-widgets/base",
      "model_module_version": "2.0.0",
      "model_name": "LayoutModel",
      "state": {}
     },
     "0b8b4dc1a1134771a5aa4340ca41a9eb": {
      "model_module": "@jupyter-widgets/base",
      "model_module_version": "2.0.0",
      "model_name": "LayoutModel",
      "state": {
       "width": "100%"
      }
     },
     "0bf37adb28f7473a914c8f2274bd73c3": {
      "model_module": "@jupyter-widgets/base",
      "model_module_version": "2.0.0",
      "model_name": "LayoutModel",
      "state": {
       "display": "none"
      }
     },
     "0d059244ed01401eafcdc813f6b59824": {
      "model_module": "@jupyter-widgets/controls",
      "model_module_version": "2.0.0",
      "model_name": "HBoxModel",
      "state": {
       "children": [
        "IPY_MODEL_68829b92c8174e7d82187eac5bc2deae"
       ],
       "layout": "IPY_MODEL_78db2b8782e74bd79467e50af7e4e510"
      }
     },
     "0d8ab7a7124b4caf91a1ef5becb67f2f": {
      "model_module": "@jupyter-widgets/controls",
      "model_module_version": "2.0.0",
      "model_name": "VBoxModel",
      "state": {
       "children": [
        "IPY_MODEL_93459c3102bf4fa192875649d58eb94d"
       ],
       "layout": "IPY_MODEL_3a1d275f87a442c5ab07934de439e249"
      }
     },
     "0dcceada0f83457db945fb166d9a61cd": {
      "model_module": "@jupyter-widgets/controls",
      "model_module_version": "2.0.0",
      "model_name": "TextModel",
      "state": {
       "layout": "IPY_MODEL_f8d86a7d3dca494bb3c4997a536eb8dd",
       "style": "IPY_MODEL_535499ad89424678864d27318e25a722",
       "tooltip": "Ip4Address",
       "value": "127.0.0.1"
      }
     },
     "0e2dafcacf0e4ddca79bc206a869d1a7": {
      "model_module": "@jupyter-widgets/controls",
      "model_module_version": "2.0.0",
      "model_name": "VBoxModel",
      "state": {
       "children": [
        "IPY_MODEL_c22f2c22be34411a87e2d9fad0137db2",
        "IPY_MODEL_d23835c829f84b23b3b25f71d5806959",
        "IPY_MODEL_1e467ed6fff3434a9df1a4f0e3e9842d",
        "IPY_MODEL_64780414bd8d4dd29170d757654ae0fa",
        "IPY_MODEL_a8618ebc51cf44eb9bedc1ab3dfdef3b",
        "IPY_MODEL_0ab0b64e23cd4d5aa05786fa8742aa53",
        "IPY_MODEL_1ddc28043a5d4d178e5df7b5f4740c45",
        "IPY_MODEL_b91a7224b50047a989eec1318dc224d3",
        "IPY_MODEL_9e712982358c4a9aaa4bf6c6874ecda3",
        "IPY_MODEL_f843eafd547d4e0c8234cefa07430d49"
       ],
       "layout": "IPY_MODEL_bb58833960c34fd49276b390204586f7"
      }
     },
     "0f0f73c03c5f43f6af70a1e2822a472c": {
      "model_module": "@jupyter-widgets/controls",
      "model_module_version": "2.0.0",
      "model_name": "DescriptionStyleModel",
      "state": {
       "description_width": ""
      }
     },
     "0f375b7620a543b4ba780190abfd1702": {
      "model_module": "@jupyter-widgets/base",
      "model_module_version": "2.0.0",
      "model_name": "LayoutModel",
      "state": {
       "border_bottom": "none",
       "border_left": "none",
       "border_right": "none",
       "border_top": "none"
      }
     },
     "1098cb61be9a46bc8b930884cde1afc0": {
      "model_module": "@jupyter-widgets/base",
      "model_module_version": "2.0.0",
      "model_name": "LayoutModel",
      "state": {
       "width": "100%"
      }
     },
     "10e356e5fd9a43a8adf1603d46f60080": {
      "model_module": "@jupyter-widgets/base",
      "model_module_version": "2.0.0",
      "model_name": "LayoutModel",
      "state": {
       "width": "100%"
      }
     },
     "10e5b749b5c44be5bedf589f35e59d15": {
      "model_module": "@jupyter-widgets/base",
      "model_module_version": "2.0.0",
      "model_name": "LayoutModel",
      "state": {
       "width": "100%"
      }
     },
     "1110af84857f43b28cdba88ba566d1c0": {
      "model_module": "@jupyter-widgets/controls",
      "model_module_version": "2.0.0",
      "model_name": "LabelModel",
      "state": {
       "layout": "IPY_MODEL_d57189cdc6574ec2baf0aa635193ad95",
       "style": "IPY_MODEL_76c6230c33a74e7987b54e32c753205f",
       "value": "Email"
      }
     },
     "11b12f5f0a0b43efb4bdb8d6b40b0441": {
      "model_module": "@jupyter-widgets/controls",
      "model_module_version": "2.0.0",
      "model_name": "TextStyleModel",
      "state": {
       "description_width": "",
       "font_size": null,
       "text_color": null
      }
     },
     "12b589effb484ea0ac49ee4624e822e4": {
      "model_module": "@jupyter-widgets/base",
      "model_module_version": "2.0.0",
      "model_name": "LayoutModel",
      "state": {}
     },
     "12bd96ea28354729b8920088f3f0b133": {
      "model_module": "@jupyter-widgets/controls",
      "model_module_version": "2.0.0",
      "model_name": "HBoxModel",
      "state": {
       "children": [
        "IPY_MODEL_def50d763b1a4f6cb34813332653a129",
        "IPY_MODEL_347b38b5835c4d028191ff57a4144e0f"
       ],
       "layout": "IPY_MODEL_f598987b7a3b42a8b93e2571964bd190"
      }
     },
     "13011178f6e14edd873fe0644d705edc": {
      "model_module": "@jupyter-widgets/base",
      "model_module_version": "2.0.0",
      "model_name": "LayoutModel",
      "state": {
       "width": "100%"
      }
     },
     "130e23373e5b415b8b2c3ca446c007f4": {
      "model_module": "@jupyter-widgets/base",
      "model_module_version": "2.0.0",
      "model_name": "LayoutModel",
      "state": {}
     },
     "1366aa5957df4d11901ede9fd94a5f14": {
      "model_module": "@jupyter-widgets/controls",
      "model_module_version": "2.0.0",
      "model_name": "HBoxModel",
      "state": {
       "children": [
        "IPY_MODEL_e753ddc2c7de4ab7befcad0d11917e9f",
        "IPY_MODEL_6483c7654c30486e9db3fd0b338a2c6e"
       ],
       "layout": "IPY_MODEL_4b06989156424164bf48246a1b8be767"
      }
     },
     "1585211fd995456da73ab4e9a5b61e5c": {
      "model_module": "@jupyter-widgets/controls",
      "model_module_version": "2.0.0",
      "model_name": "LabelModel",
      "state": {
       "layout": "IPY_MODEL_785b1e1dcd144eab9b49ef16a115c01a",
       "style": "IPY_MODEL_be004a88956a4dd3ab7b17adc76c456f"
      }
     },
     "16417c44b6f5418eaeeff9de70f9fe3b": {
      "model_module": "@jupyter-widgets/controls",
      "model_module_version": "2.0.0",
      "model_name": "LabelModel",
      "state": {
       "layout": "IPY_MODEL_a7fecfb7bfbc4caebe46411339fdeafe",
       "style": "IPY_MODEL_a13ba3bdcd764a9f879be0c7793f3ca5",
       "value": "Name"
      }
     },
     "16422b9c7a684191b9c358f02f041230": {
      "model_module": "@jupyter-widgets/base",
      "model_module_version": "2.0.0",
      "model_name": "LayoutModel",
      "state": {
       "width": "100%"
      }
     },
     "165ec6a5ef5e482eb9251d938b8fcc57": {
      "model_module": "@jupyter-widgets/base",
      "model_module_version": "2.0.0",
      "model_name": "LayoutModel",
      "state": {}
     },
     "16cf36e4a52342bf88d25c81dd2137a9": {
      "model_module": "@jupyter-widgets/base",
      "model_module_version": "2.0.0",
      "model_name": "LayoutModel",
      "state": {}
     },
     "1767e77b064c443483a7f255cbd132de": {
      "model_module": "@jupyter-widgets/base",
      "model_module_version": "2.0.0",
      "model_name": "LayoutModel",
      "state": {
       "width": "100%"
      }
     },
     "17dbd14ad0d84271ade35a33151275d0": {
      "model_module": "@jupyter-widgets/base",
      "model_module_version": "2.0.0",
      "model_name": "LayoutModel",
      "state": {
       "border_bottom": "none",
       "border_left": "none",
       "border_right": "none",
       "border_top": "none"
      }
     },
     "184dc3f08576428fbbc018a6112f1dc1": {
      "model_module": "@jupyter-widgets/controls",
      "model_module_version": "2.0.0",
      "model_name": "LabelModel",
      "state": {
       "layout": "IPY_MODEL_577c6e24960c44979ca21fe035d066ae",
       "style": "IPY_MODEL_29917202f2824f09b603da95f7c9d822"
      }
     },
     "18de1036cdd34c768eb717541f5a37a8": {
      "model_module": "@jupyter-widgets/controls",
      "model_module_version": "2.0.0",
      "model_name": "TextStyleModel",
      "state": {
       "description_width": "",
       "font_size": null,
       "text_color": null
      }
     },
     "1900feaa474d4b67a044a6d16e19da18": {
      "model_module": "@jupyter-widgets/controls",
      "model_module_version": "2.0.0",
      "model_name": "DescriptionStyleModel",
      "state": {
       "description_width": ""
      }
     },
     "196e948f33304b718bc37ada8480a357": {
      "model_module": "@jupyter-widgets/controls",
      "model_module_version": "2.0.0",
      "model_name": "VBoxModel",
      "state": {
       "children": [
        "IPY_MODEL_e7d81cbe747044a091eb1c5ef6aed653",
        "IPY_MODEL_60b2605874434d32926555463231ebe8"
       ],
       "layout": "IPY_MODEL_478c78e4b1f74a97b9ab6e9d25c54ba4"
      }
     },
     "19b58708756846229c2a4d8a5c867ba6": {
      "model_module": "@jupyter-widgets/controls",
      "model_module_version": "2.0.0",
      "model_name": "DescriptionStyleModel",
      "state": {
       "description_width": ""
      }
     },
     "1a8352a2bd924c5e8df4767bb99c025d": {
      "model_module": "@jupyter-widgets/controls",
      "model_module_version": "2.0.0",
      "model_name": "HBoxModel",
      "state": {
       "children": [
        "IPY_MODEL_822fbf1dda0d481b95120a01c08062e5",
        "IPY_MODEL_aa8dbc7e308c4b6cbf9e0f934d2c1070"
       ],
       "layout": "IPY_MODEL_87cb48463f9943abb5d6d209fb37531f"
      }
     },
     "1a83df5c39fb4dc99fb4e262c83b345c": {
      "model_module": "@jupyter-widgets/base",
      "model_module_version": "2.0.0",
      "model_name": "LayoutModel",
      "state": {
       "width": "100%"
      }
     },
     "1ab0f117dac846a581cfaca95ef9a3d8": {
      "model_module": "@jupyter-widgets/controls",
      "model_module_version": "2.0.0",
      "model_name": "LabelModel",
      "state": {
       "layout": "IPY_MODEL_2524bd65e62d427bb51b5b80b2a1c744",
       "style": "IPY_MODEL_b063db3394b944ad80322a4e13691865"
      }
     },
     "1c09774480914ad78c6e283a43f8dba4": {
      "model_module": "@jupyter-widgets/controls",
      "model_module_version": "2.0.0",
      "model_name": "VBoxModel",
      "state": {
       "layout": "IPY_MODEL_903ff794dc674f10822d8f5604d45036"
      }
     },
     "1c0caed626714f9586fa12cf2c257093": {
      "model_module": "@jupyter-widgets/base",
      "model_module_version": "2.0.0",
      "model_name": "LayoutModel",
      "state": {
       "width": "100%"
      }
     },
     "1d0409104b2d4826a9ae5c84ec348bdd": {
      "model_module": "@jupyter-widgets/base",
      "model_module_version": "2.0.0",
      "model_name": "LayoutModel",
      "state": {
       "width": "100%"
      }
     },
     "1d687984880a4c4887108e34b4c9976d": {
      "model_module": "@jupyter-widgets/base",
      "model_module_version": "2.0.0",
      "model_name": "LayoutModel",
      "state": {}
     },
     "1d84699b1a09495b900b7b5d5a2c1f3c": {
      "model_module": "@jupyter-widgets/controls",
      "model_module_version": "2.0.0",
      "model_name": "LabelModel",
      "state": {
       "layout": "IPY_MODEL_1efa985882c6456db43559aaba4e371f",
       "style": "IPY_MODEL_7bb0096d7bf54dca9ca94e6bac207c32"
      }
     },
     "1ddc28043a5d4d178e5df7b5f4740c45": {
      "model_module": "@jupyter-widgets/controls",
      "model_module_version": "2.0.0",
      "model_name": "HBoxModel",
      "state": {
       "children": [
        "IPY_MODEL_770bb9cafe4c44aca921042dce9f0314"
       ],
       "layout": "IPY_MODEL_95e65156384d4c539eb35cefd8bb862d"
      }
     },
     "1e189f030e004976b564fb434eea96f1": {
      "model_module": "@jupyter-widgets/controls",
      "model_module_version": "2.0.0",
      "model_name": "DescriptionStyleModel",
      "state": {
       "description_width": ""
      }
     },
     "1e467ed6fff3434a9df1a4f0e3e9842d": {
      "model_module": "@jupyter-widgets/controls",
      "model_module_version": "2.0.0",
      "model_name": "HBoxModel",
      "state": {
       "children": [
        "IPY_MODEL_e573e16e509a4f56a784df8ce540bc4e",
        "IPY_MODEL_6750bf9571f74a35b8c68ec8d9eca48c"
       ],
       "layout": "IPY_MODEL_637030a53ca24ada910727393d160687"
      }
     },
     "1e4f70a7b96e4d5e850a3e8792be823f": {
      "model_module": "@jupyter-widgets/controls",
      "model_module_version": "2.0.0",
      "model_name": "ButtonModel",
      "state": {
       "icon": "arrow-down",
       "layout": "IPY_MODEL_68e6188572e3474f85428d3da79ad417",
       "style": "IPY_MODEL_613e7e83b8894562b34a2be6b298927a",
       "tooltip": null
      }
     },
     "1efa985882c6456db43559aaba4e371f": {
      "model_module": "@jupyter-widgets/base",
      "model_module_version": "2.0.0",
      "model_name": "LayoutModel",
      "state": {
       "display": "none"
      }
     },
     "1f7eebe224ef40169f71bc9a6cf1837c": {
      "model_module": "@jupyter-widgets/controls",
      "model_module_version": "2.0.0",
      "model_name": "LabelStyleModel",
      "state": {
       "description_width": "",
       "font_family": null,
       "font_size": null,
       "font_style": null,
       "font_variant": null,
       "font_weight": null,
       "text_color": null,
       "text_decoration": null
      }
     },
     "201b63d9a362469e88b00fdfb5e21838": {
      "model_module": "@jupyter-widgets/base",
      "model_module_version": "2.0.0",
      "model_name": "LayoutModel",
      "state": {}
     },
     "21090a4436c8419188d875d8b00b7fc7": {
      "model_module": "@jupyter-widgets/controls",
      "model_module_version": "2.0.0",
      "model_name": "LabelModel",
      "state": {
       "layout": "IPY_MODEL_08625505273b41048d2f6bfb1f531f45",
       "style": "IPY_MODEL_95ef4e0dd4dd4417aa720fd47b57622b"
      }
     },
     "2137b82f21834c5d88aa7d7dd8fa3e6b": {
      "model_module": "@jupyter-widgets/controls",
      "model_module_version": "2.0.0",
      "model_name": "DescriptionStyleModel",
      "state": {
       "description_width": ""
      }
     },
     "21a31a75cd744c9f90a125b96c17b904": {
      "model_module": "@jupyter-widgets/controls",
      "model_module_version": "2.0.0",
      "model_name": "LabelStyleModel",
      "state": {
       "description_width": "",
       "font_family": null,
       "font_size": null,
       "font_style": null,
       "font_variant": null,
       "font_weight": null,
       "text_color": null,
       "text_decoration": null
      }
     },
     "21a53b0a70694e619bddfbee43767296": {
      "model_module": "@jupyter-widgets/controls",
      "model_module_version": "2.0.0",
      "model_name": "LabelModel",
      "state": {
       "layout": "IPY_MODEL_30b5754c4af040c882e2decbf8412795",
       "style": "IPY_MODEL_1f7eebe224ef40169f71bc9a6cf1837c"
      }
     },
     "21bc45d06e744f0d9d273c6006b3bea6": {
      "model_module": "@jupyter-widgets/controls",
      "model_module_version": "2.0.0",
      "model_name": "ButtonStyleModel",
      "state": {
       "font_family": null,
       "font_size": null,
       "font_style": null,
       "font_variant": null,
       "font_weight": null,
       "text_color": null,
       "text_decoration": null
      }
     },
     "223aaa85ac5f42059e85c0b40fd37bf9": {
      "model_module": "@jupyter-widgets/controls",
      "model_module_version": "2.0.0",
      "model_name": "TextStyleModel",
      "state": {
       "description_width": "",
       "font_size": null,
       "text_color": null
      }
     },
     "224583f32c60432aa9fd00dc99ff16fc": {
      "model_module": "@jupyter-widgets/controls",
      "model_module_version": "2.0.0",
      "model_name": "CheckboxStyleModel",
      "state": {
       "description_width": ""
      }
     },
     "2271220fcc2e48d1bc5fea45eb9e98f3": {
      "model_module": "@jupyter-widgets/controls",
      "model_module_version": "2.0.0",
      "model_name": "LabelStyleModel",
      "state": {
       "description_width": "",
       "font_family": null,
       "font_size": null,
       "font_style": null,
       "font_variant": null,
       "font_weight": null,
       "text_color": null,
       "text_decoration": null
      }
     },
     "2401a60d6da24a81964f66c4e76289ef": {
      "model_module": "@jupyter-widgets/base",
      "model_module_version": "2.0.0",
      "model_name": "LayoutModel",
      "state": {
       "width": "33%"
      }
     },
     "247a43d759d048e5b14bd56aadd79248": {
      "model_module": "@jupyter-widgets/controls",
      "model_module_version": "2.0.0",
      "model_name": "HBoxModel",
      "state": {
       "children": [
        "IPY_MODEL_77159345d59b4012841e3f87f6c5abdf"
       ],
       "layout": "IPY_MODEL_5b2e3b96fe9e4cd5847e97fa26d02f76"
      }
     },
     "2524bd65e62d427bb51b5b80b2a1c744": {
      "model_module": "@jupyter-widgets/base",
      "model_module_version": "2.0.0",
      "model_name": "LayoutModel",
      "state": {
       "display": "none"
      }
     },
     "2561c44f0e8642fc92e7a24520fd8631": {
      "model_module": "@jupyter-widgets/controls",
      "model_module_version": "2.0.0",
      "model_name": "TextStyleModel",
      "state": {
       "description_width": "",
       "font_size": null,
       "text_color": null
      }
     },
     "25b00da032e346de8a2e8ca6a943e92b": {
      "model_module": "@jupyter-widgets/controls",
      "model_module_version": "2.0.0",
      "model_name": "VBoxModel",
      "state": {
       "children": [
        "IPY_MODEL_627a8310e755492fa4f44dca8f24745c"
       ],
       "layout": "IPY_MODEL_3033ff5ed5b9434ba53c2df785246347"
      }
     },
     "25f062358ce84304a70f9501b9e2bd78": {
      "model_module": "@jupyter-widgets/base",
      "model_module_version": "2.0.0",
      "model_name": "LayoutModel",
      "state": {
       "display": "none"
      }
     },
     "2601cc99b6764efcb6c52b2ff41ccb3c": {
      "model_module": "@jupyter-widgets/base",
      "model_module_version": "2.0.0",
      "model_name": "LayoutModel",
      "state": {
       "width": "100%"
      }
     },
     "2604d9d51d2c4241af537c396164da0c": {
      "model_module": "@jupyter-widgets/base",
      "model_module_version": "2.0.0",
      "model_name": "LayoutModel",
      "state": {
       "width": "100%"
      }
     },
     "260e9ee844fe4569966b6691eec01bc7": {
      "model_module": "@jupyter-widgets/controls",
      "model_module_version": "2.0.0",
      "model_name": "VBoxModel",
      "state": {
       "children": [
        "IPY_MODEL_7547e002e0564ae1a5755a94582706a0",
        "IPY_MODEL_8885afdfd6bd44058fbe29df41bbe001",
        "IPY_MODEL_5186fdc7d39f41f98223ea8d142e021d"
       ],
       "layout": "IPY_MODEL_8425db3b00f14f8490245455057182c5"
      }
     },
     "26944cb03cac4b1c9af174928a772486": {
      "model_module": "@jupyter-widgets/base",
      "model_module_version": "2.0.0",
      "model_name": "LayoutModel",
      "state": {}
     },
     "26a427f4dc3d48f294c7464f26dbff25": {
      "model_module": "@jupyter-widgets/base",
      "model_module_version": "2.0.0",
      "model_name": "LayoutModel",
      "state": {
       "width": "100%"
      }
     },
     "26c093ce80ed464d85d93fac7b8e9661": {
      "model_module": "@jupyter-widgets/controls",
      "model_module_version": "2.0.0",
      "model_name": "DescriptionStyleModel",
      "state": {
       "description_width": ""
      }
     },
     "26d033a6cfca4335ad33a4125676eb92": {
      "model_module": "@jupyter-widgets/base",
      "model_module_version": "2.0.0",
      "model_name": "LayoutModel",
      "state": {
       "width": "100%"
      }
     },
     "270b017f7de649e5ad65105e8968d9ac": {
      "model_module": "@jupyter-widgets/controls",
      "model_module_version": "2.0.0",
      "model_name": "TextModel",
      "state": {
       "layout": "IPY_MODEL_2d8e3cf23ecc41aba59aa47408268fae",
       "style": "IPY_MODEL_62ba7a79d6164f60a9d3a5e615627ca7",
       "tooltip": "Name"
      }
     },
     "272b526492f6494f8877a336828f2e6b": {
      "model_module": "@jupyter-widgets/base",
      "model_module_version": "2.0.0",
      "model_name": "LayoutModel",
      "state": {
       "width": "100%"
      }
     },
     "2868195c5f4747ee8ec568d3983ad984": {
      "model_module": "@jupyter-widgets/base",
      "model_module_version": "2.0.0",
      "model_name": "LayoutModel",
      "state": {
       "width": "100%"
      }
     },
     "288f0dcbd8b2425d96bde1a5f3428ea6": {
      "model_module": "@jupyter-widgets/base",
      "model_module_version": "2.0.0",
      "model_name": "LayoutModel",
      "state": {
       "width": "100%"
      }
     },
     "28b478421bd443dbae636946ec613458": {
      "model_module": "@jupyter-widgets/base",
      "model_module_version": "2.0.0",
      "model_name": "LayoutModel",
      "state": {
       "width": "100%"
      }
     },
     "28d2904e37a14f1897169f1b985324ea": {
      "model_module": "@jupyter-widgets/base",
      "model_module_version": "2.0.0",
      "model_name": "LayoutModel",
      "state": {
       "width": "100%"
      }
     },
     "29917202f2824f09b603da95f7c9d822": {
      "model_module": "@jupyter-widgets/controls",
      "model_module_version": "2.0.0",
      "model_name": "LabelStyleModel",
      "state": {
       "description_width": "",
       "font_family": null,
       "font_size": null,
       "font_style": null,
       "font_variant": null,
       "font_weight": null,
       "text_color": null,
       "text_decoration": null
      }
     },
     "29993ce1de2b416cbe7d79622acc13f6": {
      "model_module": "@jupyter-widgets/controls",
      "model_module_version": "2.0.0",
      "model_name": "LabelStyleModel",
      "state": {
       "description_width": "",
       "font_family": null,
       "font_size": null,
       "font_style": null,
       "font_variant": null,
       "font_weight": null,
       "text_color": null,
       "text_decoration": null
      }
     },
     "29c7508dc55c4b4cab703a5681b06d56": {
      "model_module": "@jupyter-widgets/controls",
      "model_module_version": "2.0.0",
      "model_name": "DescriptionStyleModel",
      "state": {
       "description_width": ""
      }
     },
     "2a3229793af74efda3dd0b30218aa32d": {
      "model_module": "@jupyter-widgets/controls",
      "model_module_version": "2.0.0",
      "model_name": "VBoxModel",
      "state": {
       "children": [
        "IPY_MODEL_ec9aca5d41d04ccba23c910a5d392727",
        "IPY_MODEL_fcd9c7a282474ebab5283078830084da"
       ],
       "layout": "IPY_MODEL_85e56a03b32b44d4a859686553a26ad5"
      }
     },
     "2a574c90817a4dd6bb362f3e0c67631c": {
      "model_module": "@jupyter-widgets/controls",
      "model_module_version": "2.0.0",
      "model_name": "TextStyleModel",
      "state": {
       "description_width": "",
       "font_size": null,
       "text_color": null
      }
     },
     "2aab23ad4da6415b856719d6ba6b31fd": {
      "model_module": "@jupyter-widgets/base",
      "model_module_version": "2.0.0",
      "model_name": "LayoutModel",
      "state": {
       "display": "none"
      }
     },
     "2bd5ac0d5f374c8db91d551b238894ec": {
      "model_module": "@jupyter-widgets/base",
      "model_module_version": "2.0.0",
      "model_name": "LayoutModel",
      "state": {
       "width": "100%"
      }
     },
     "2c42604b0ded41b2858ed9e6986df57b": {
      "model_module": "@jupyter-widgets/base",
      "model_module_version": "2.0.0",
      "model_name": "LayoutModel",
      "state": {
       "width": "100%"
      }
     },
     "2c50124b89104ffea2d66f25934ab263": {
      "model_module": "@jupyter-widgets/base",
      "model_module_version": "2.0.0",
      "model_name": "LayoutModel",
      "state": {
       "width": "100%"
      }
     },
     "2c62faa944e24cbb83480499f4b9dafe": {
      "model_module": "@jupyter-widgets/controls",
      "model_module_version": "2.0.0",
      "model_name": "ButtonModel",
      "state": {
       "icon": "arrow-up",
       "layout": "IPY_MODEL_cdd6321affe54d38bf22960ea8cdb6ad",
       "style": "IPY_MODEL_a6822a7e7c6a436a82fa58ea1dccc11c",
       "tooltip": null
      }
     },
     "2c76796e8de34785baa8f0d901213a7a": {
      "model_module": "@jupyter-widgets/controls",
      "model_module_version": "2.0.0",
      "model_name": "DescriptionStyleModel",
      "state": {
       "description_width": ""
      }
     },
     "2c8267311319491089cb2cf80ae4d9a3": {
      "model_module": "@jupyter-widgets/base",
      "model_module_version": "2.0.0",
      "model_name": "LayoutModel",
      "state": {}
     },
     "2d8e3cf23ecc41aba59aa47408268fae": {
      "model_module": "@jupyter-widgets/base",
      "model_module_version": "2.0.0",
      "model_name": "LayoutModel",
      "state": {
       "width": "100%"
      }
     },
     "2db770d21e55462fbb5213bdb198c621": {
      "model_module": "@jupyter-widgets/base",
      "model_module_version": "2.0.0",
      "model_name": "LayoutModel",
      "state": {
       "width": "100%"
      }
     },
     "2e288a4fc1a84a08b4e05ebfd50136f3": {
      "model_module": "@jupyter-widgets/controls",
      "model_module_version": "2.0.0",
      "model_name": "DescriptionStyleModel",
      "state": {
       "description_width": ""
      }
     },
     "2fc6beed7f3747a39583290e524d3f43": {
      "model_module": "@jupyter-widgets/controls",
      "model_module_version": "2.0.0",
      "model_name": "DropdownModel",
      "state": {
       "_options_labels": [
        "integer",
        "number"
       ],
       "index": 0,
       "layout": "IPY_MODEL_32f64cefd42646a89e7bfa9936f7700f",
       "style": "IPY_MODEL_29c7508dc55c4b4cab703a5681b06d56"
      }
     },
     "30257a2bc3dc41eda90de3b213d66940": {
      "model_module": "@jupyter-widgets/controls",
      "model_module_version": "2.0.0",
      "model_name": "DescriptionStyleModel",
      "state": {
       "description_width": ""
      }
     },
     "3033ff5ed5b9434ba53c2df785246347": {
      "model_module": "@jupyter-widgets/base",
      "model_module_version": "2.0.0",
      "model_name": "LayoutModel",
      "state": {
       "width": "100%"
      }
     },
     "308c62d89bff49a7beb98197128328d8": {
      "model_module": "@jupyter-widgets/base",
      "model_module_version": "2.0.0",
      "model_name": "LayoutModel",
      "state": {
       "width": "100%"
      }
     },
     "30a45ad928ea408f83b5235a2f688761": {
      "model_module": "@jupyter-widgets/base",
      "model_module_version": "2.0.0",
      "model_name": "LayoutModel",
      "state": {}
     },
     "30b5754c4af040c882e2decbf8412795": {
      "model_module": "@jupyter-widgets/base",
      "model_module_version": "2.0.0",
      "model_name": "LayoutModel",
      "state": {
       "display": "none"
      }
     },
     "30eedf3a32b542d99f8935436ae70c6d": {
      "model_module": "@jupyter-widgets/base",
      "model_module_version": "2.0.0",
      "model_name": "LayoutModel",
      "state": {}
     },
     "311915bd98734a2aac3c6ae5c7999d39": {
      "model_module": "@jupyter-widgets/base",
      "model_module_version": "2.0.0",
      "model_name": "LayoutModel",
      "state": {}
     },
     "327663a40d7f4d4397e001a8bbab4b94": {
      "model_module": "@jupyter-widgets/controls",
      "model_module_version": "2.0.0",
      "model_name": "HBoxModel",
      "state": {
       "children": [
        "IPY_MODEL_7bf9d2801ba44490b738a6c21884aa87",
        "IPY_MODEL_d7926233b589437b895da904cc5313b9"
       ],
       "layout": "IPY_MODEL_831b57a944474e45b0d1ff6e59777dc2"
      }
     },
     "32f64cefd42646a89e7bfa9936f7700f": {
      "model_module": "@jupyter-widgets/base",
      "model_module_version": "2.0.0",
      "model_name": "LayoutModel",
      "state": {}
     },
     "32fe560d72db476eb047039bc8984fb4": {
      "model_module": "@jupyter-widgets/base",
      "model_module_version": "2.0.0",
      "model_name": "LayoutModel",
      "state": {}
     },
     "33141b14e8a043aabb51cb16f147d842": {
      "model_module": "@jupyter-widgets/controls",
      "model_module_version": "2.0.0",
      "model_name": "IntTextModel",
      "state": {
       "layout": "IPY_MODEL_8ba6edcb51294214bcb95c63573e88bf",
       "step": 1,
       "style": "IPY_MODEL_a2f641abb4664c9595b333685ef4abe7",
       "tooltip": "Value",
       "value": 10
      }
     },
     "33b4b0804e5a42f6a782bff8c4dba0ee": {
      "model_module": "@jupyter-widgets/controls",
      "model_module_version": "2.0.0",
      "model_name": "DescriptionStyleModel",
      "state": {
       "description_width": ""
      }
     },
     "347b38b5835c4d028191ff57a4144e0f": {
      "model_module": "@jupyter-widgets/controls",
      "model_module_version": "2.0.0",
      "model_name": "TextModel",
      "state": {
       "layout": "IPY_MODEL_057b2817475d4e5cbff7efa791dec233",
       "style": "IPY_MODEL_3610154c657a4d20ba994a4a0eebf84f",
       "tooltip": "Email"
      }
     },
     "3605782ec0fa494eb9b71000b2158e46": {
      "model_module": "@jupyter-widgets/base",
      "model_module_version": "2.0.0",
      "model_name": "LayoutModel",
      "state": {}
     },
     "3610154c657a4d20ba994a4a0eebf84f": {
      "model_module": "@jupyter-widgets/controls",
      "model_module_version": "2.0.0",
      "model_name": "TextStyleModel",
      "state": {
       "description_width": "",
       "font_size": null,
       "text_color": null
      }
     },
     "36ad3d3ae01e465f943d3efb169f37b4": {
      "model_module": "@jupyter-widgets/base",
      "model_module_version": "2.0.0",
      "model_name": "LayoutModel",
      "state": {}
     },
     "37fd31be3e8e480591a19f1a10da9c27": {
      "model_module": "@jupyter-widgets/base",
      "model_module_version": "2.0.0",
      "model_name": "LayoutModel",
      "state": {
       "width": "100%"
      }
     },
     "381de565be884db08bfcda55c8dd4e12": {
      "model_module": "@jupyter-widgets/controls",
      "model_module_version": "2.0.0",
      "model_name": "LabelModel",
      "state": {
       "layout": "IPY_MODEL_8fe54215ffe24c4ea07e184c6a1bdca6",
       "style": "IPY_MODEL_6165192431bb433ab04bf344981ff621",
       "value": "Hostname"
      }
     },
     "39d1ecbe5025451e95be2cfe2b042fe7": {
      "model_module": "@jupyter-widgets/base",
      "model_module_version": "2.0.0",
      "model_name": "LayoutModel",
      "state": {
       "display": "none"
      }
     },
     "3a05ffe0abb047a5b8bf79ebf0500166": {
      "model_module": "@jupyter-widgets/base",
      "model_module_version": "2.0.0",
      "model_name": "LayoutModel",
      "state": {
       "display": "none"
      }
     },
     "3a1d275f87a442c5ab07934de439e249": {
      "model_module": "@jupyter-widgets/base",
      "model_module_version": "2.0.0",
      "model_name": "LayoutModel",
      "state": {
       "width": "100%"
      }
     },
     "3b2ca6f012b44653a52ed0d59602e295": {
      "model_module": "@jupyter-widgets/base",
      "model_module_version": "2.0.0",
      "model_name": "LayoutModel",
      "state": {
       "width": "100%"
      }
     },
     "3b64b5f3366e4fd2bcdb1eb467620861": {
      "model_module": "@jupyter-widgets/base",
      "model_module_version": "2.0.0",
      "model_name": "LayoutModel",
      "state": {
       "width": "33%"
      }
     },
     "3bcd3a07a25b4bbeb037afa5c46a5f69": {
      "model_module": "@jupyter-widgets/base",
      "model_module_version": "2.0.0",
      "model_name": "LayoutModel",
      "state": {
       "width": "100%"
      }
     },
     "3bf8fb5d713e4bd3a8d6873def574a52": {
      "model_module": "@jupyter-widgets/base",
      "model_module_version": "2.0.0",
      "model_name": "LayoutModel",
      "state": {}
     },
     "3c1183b7522140799fb32580fbee8dbd": {
      "model_module": "@jupyter-widgets/controls",
      "model_module_version": "2.0.0",
      "model_name": "IntTextModel",
      "state": {
       "layout": "IPY_MODEL_2601cc99b6764efcb6c52b2ff41ccb3c",
       "step": 1,
       "style": "IPY_MODEL_0f0f73c03c5f43f6af70a1e2822a472c",
       "tooltip": "Age"
      }
     },
     "3c796f27c38149de9eade09373d7ca34": {
      "model_module": "@jupyter-widgets/controls",
      "model_module_version": "2.0.0",
      "model_name": "ButtonModel",
      "state": {
       "icon": "trash",
       "layout": "IPY_MODEL_3b64b5f3366e4fd2bcdb1eb467620861",
       "style": "IPY_MODEL_faf6c75300f74281ac0b9352930e674a",
       "tooltip": null
      }
     },
     "3cac16f4352a4b67b90fa8fe2cf0ed44": {
      "model_module": "@jupyter-widgets/controls",
      "model_module_version": "2.0.0",
      "model_name": "HBoxModel",
      "state": {
       "children": [
        "IPY_MODEL_44cc6542afb54ef7b0e4173d9ce07da4",
        "IPY_MODEL_33141b14e8a043aabb51cb16f147d842"
       ],
       "layout": "IPY_MODEL_fbb575b86d794a73ae5fb678ac399d98"
      }
     },
     "3d2a5e1ad21b4b7aa1ceb37a6d5f322a": {
      "model_module": "@jupyter-widgets/controls",
      "model_module_version": "2.0.0",
      "model_name": "LabelModel",
      "state": {
       "layout": "IPY_MODEL_28d2904e37a14f1897169f1b985324ea",
       "style": "IPY_MODEL_29993ce1de2b416cbe7d79622acc13f6",
       "value": "Ip6Address"
      }
     },
     "3d39f16d92e2489a94ccac0a1679df1b": {
      "model_module": "@jupyter-widgets/controls",
      "model_module_version": "2.0.0",
      "model_name": "DescriptionStyleModel",
      "state": {
       "description_width": ""
      }
     },
     "3dcda7df6ddd45fd870a6098058e1fcf": {
      "model_module": "@jupyter-widgets/base",
      "model_module_version": "2.0.0",
      "model_name": "LayoutModel",
      "state": {
       "width": "100%"
      }
     },
     "3ebc95a481254f39b8354930a96cf370": {
      "model_module": "@jupyter-widgets/controls",
      "model_module_version": "2.0.0",
      "model_name": "LabelStyleModel",
      "state": {
       "description_width": "",
       "font_family": null,
       "font_size": null,
       "font_style": null,
       "font_variant": null,
       "font_weight": null,
       "text_color": null,
       "text_decoration": null
      }
     },
     "3f5f32f096844789b9ec9666c7716d33": {
      "model_module": "@jupyter-widgets/controls",
      "model_module_version": "2.0.0",
      "model_name": "HBoxModel",
      "state": {
       "children": [
        "IPY_MODEL_a7a3e41db4d24d82abe70a5a26e36813",
        "IPY_MODEL_a30287e69105425f8623f7d2324410e1"
       ],
       "layout": "IPY_MODEL_9b88909916cd4579b1f2e8e01ff95e95"
      }
     },
     "3f9bfb7e89114f8e8c9fe9e1ea48179d": {
      "model_module": "@jupyter-widgets/controls",
      "model_module_version": "2.0.0",
      "model_name": "DescriptionStyleModel",
      "state": {
       "description_width": ""
      }
     },
     "3fba249772d8470ba6e3fa1c50f04dfa": {
      "model_module": "@jupyter-widgets/base",
      "model_module_version": "2.0.0",
      "model_name": "LayoutModel",
      "state": {
       "border_bottom": "none",
       "border_left": "none",
       "border_right": "none",
       "border_top": "none"
      }
     },
     "3fccc14af1fc48bf9215e96f150dfe53": {
      "model_module": "@jupyter-widgets/base",
      "model_module_version": "2.0.0",
      "model_name": "LayoutModel",
      "state": {}
     },
     "40bc488081ae48a1b7dac39cdfa36e50": {
      "model_module": "@jupyter-widgets/controls",
      "model_module_version": "2.0.0",
      "model_name": "TextModel",
      "state": {
       "layout": "IPY_MODEL_e045c57cfde24d0395de9d6156237759",
       "style": "IPY_MODEL_411233b1672348e6a268bbfd4fc042c0",
       "tooltip": "Hostname",
       "value": "default.com"
      }
     },
     "411233b1672348e6a268bbfd4fc042c0": {
      "model_module": "@jupyter-widgets/controls",
      "model_module_version": "2.0.0",
      "model_name": "TextStyleModel",
      "state": {
       "description_width": "",
       "font_size": null,
       "text_color": null
      }
     },
     "412be107dda744bd884cd7a403dc2f2f": {
      "model_module": "@jupyter-widgets/controls",
      "model_module_version": "2.0.0",
      "model_name": "DescriptionStyleModel",
      "state": {
       "description_width": ""
      }
     },
     "4189e7b6891640d1a9ecc5a3cd2aecb9": {
      "model_module": "@jupyter-widgets/controls",
      "model_module_version": "2.0.0",
      "model_name": "LabelModel",
      "state": {
       "layout": "IPY_MODEL_b6db9c7a95e040c2a334657c6337b1b2",
       "style": "IPY_MODEL_ef2605c8e8e74c838e64438772c67036"
      }
     },
     "418cb3f7338b414991aeffd7c6c91913": {
      "model_module": "@jupyter-widgets/base",
      "model_module_version": "2.0.0",
      "model_name": "LayoutModel",
      "state": {}
     },
     "420ef4c9e05a47d182502d53ba817852": {
      "model_module": "@jupyter-widgets/controls",
      "model_module_version": "2.0.0",
      "model_name": "LabelModel",
      "state": {
       "layout": "IPY_MODEL_5e68e55da2884034830a7ed83b9bfbfb",
       "style": "IPY_MODEL_c8152d4343fa4c3fbbbb9a01b5654717"
      }
     },
     "428267d2046f4d069ebe8ceb3e71c592": {
      "model_module": "@jupyter-widgets/controls",
      "model_module_version": "2.0.0",
      "model_name": "VBoxModel",
      "state": {
       "children": [
        "IPY_MODEL_e7a60fa6320b4de2bb90fabf6c787da9"
       ],
       "layout": "IPY_MODEL_9ffd5662804b45e798f7845bf08da5f9"
      }
     },
     "42ff1870d6d8490d84a957a4e355078c": {
      "model_module": "@jupyter-widgets/base",
      "model_module_version": "2.0.0",
      "model_name": "LayoutModel",
      "state": {
       "width": "100%"
      }
     },
     "433e47bea4e94d20b4a981abf91132f3": {
      "model_module": "@jupyter-widgets/controls",
      "model_module_version": "2.0.0",
      "model_name": "DescriptionStyleModel",
      "state": {
       "description_width": ""
      }
     },
     "44cc6542afb54ef7b0e4173d9ce07da4": {
      "model_module": "@jupyter-widgets/controls",
      "model_module_version": "2.0.0",
      "model_name": "LabelModel",
      "state": {
       "layout": "IPY_MODEL_6e47baa949be4165bbea8e4584d5eb64",
       "style": "IPY_MODEL_ed69c019bf96402ca6f6e264a07224fd",
       "value": "Value"
      }
     },
     "469c041bfe5a4596a1720c70721738ac": {
      "model_module": "@jupyter-widgets/controls",
      "model_module_version": "2.0.0",
      "model_name": "ButtonStyleModel",
      "state": {
       "font_family": null,
       "font_size": null,
       "font_style": null,
       "font_variant": null,
       "font_weight": null,
       "text_color": null,
       "text_decoration": null
      }
     },
     "46e9019934764ba69fadae99c139b7dc": {
      "model_module": "@jupyter-widgets/base",
      "model_module_version": "2.0.0",
      "model_name": "LayoutModel",
      "state": {
       "border_bottom": "none",
       "border_left": "none",
       "border_right": "none",
       "border_top": "none",
       "width": "100%"
      }
     },
     "47184d3edc134b2d96f3d1f628de57b8": {
      "model_module": "@jupyter-widgets/base",
      "model_module_version": "2.0.0",
      "model_name": "LayoutModel",
      "state": {
       "width": "100%"
      }
     },
     "478c78e4b1f74a97b9ab6e9d25c54ba4": {
      "model_module": "@jupyter-widgets/base",
      "model_module_version": "2.0.0",
      "model_name": "LayoutModel",
      "state": {
       "width": "100%"
      }
     },
     "47a23f76502547da82893cba5bf0c5f4": {
      "model_module": "@jupyter-widgets/base",
      "model_module_version": "2.0.0",
      "model_name": "LayoutModel",
      "state": {}
     },
     "47d9e8772960469e80d07017fac256eb": {
      "model_module": "@jupyter-widgets/base",
      "model_module_version": "2.0.0",
      "model_name": "LayoutModel",
      "state": {
       "width": "100%"
      }
     },
     "47eca3f4eda940768a3ffbd2c30eecc0": {
      "model_module": "@jupyter-widgets/base",
      "model_module_version": "2.0.0",
      "model_name": "LayoutModel",
      "state": {}
     },
     "4a0efb7a79364ddf9efdd1fd8c789a9b": {
      "model_module": "@jupyter-widgets/controls",
      "model_module_version": "2.0.0",
      "model_name": "LabelStyleModel",
      "state": {
       "description_width": "",
       "font_family": null,
       "font_size": null,
       "font_style": null,
       "font_variant": null,
       "font_weight": null,
       "text_color": null,
       "text_decoration": null
      }
     },
     "4b06989156424164bf48246a1b8be767": {
      "model_module": "@jupyter-widgets/base",
      "model_module_version": "2.0.0",
      "model_name": "LayoutModel",
      "state": {
       "width": "100%"
      }
     },
     "4bb3a1510be947dea8c64c17b877e25f": {
      "model_module": "@jupyter-widgets/controls",
      "model_module_version": "2.0.0",
      "model_name": "AccordionModel",
      "state": {
       "children": [
        "IPY_MODEL_7d4073233bdd42b8ac440c84dd6605b6"
       ],
       "layout": "IPY_MODEL_fa9ba5b13c3447419c55beafe6e3c01f",
       "titles": [
        "Address"
       ]
      }
     },
     "4bf5837db1ee4a5296672f5aa421ad2e": {
      "model_module": "@jupyter-widgets/base",
      "model_module_version": "2.0.0",
      "model_name": "LayoutModel",
      "state": {
       "width": "100%"
      }
     },
     "4c38ebf7d410466cbd19d4c5d6c54379": {
      "model_module": "@jupyter-widgets/controls",
      "model_module_version": "2.0.0",
      "model_name": "TextStyleModel",
      "state": {
       "description_width": "",
       "font_size": null,
       "text_color": null
      }
     },
     "4c53a0235d9544da9b2ce06475c81990": {
      "model_module": "@jupyter-widgets/controls",
      "model_module_version": "2.0.0",
      "model_name": "LabelModel",
      "state": {
       "layout": "IPY_MODEL_39d1ecbe5025451e95be2cfe2b042fe7",
       "style": "IPY_MODEL_f05dbef8d27c4065b8505ea683710277"
      }
     },
     "4c57596020eb4bb9acfa55a060bc3915": {
      "model_module": "@jupyter-widgets/controls",
      "model_module_version": "2.0.0",
      "model_name": "LabelModel",
      "state": {
       "layout": "IPY_MODEL_6d022d27ad17437ea0523c9179975de9",
       "style": "IPY_MODEL_fff9d93a95d64832a54bed93ce3e503c"
      }
     },
     "4e802fa28dda4d8db0ab81a888a0ca46": {
      "model_module": "@jupyter-widgets/base",
      "model_module_version": "2.0.0",
      "model_name": "LayoutModel",
      "state": {}
     },
     "4e86e7720c7044b88c2f64d51c412226": {
      "model_module": "@jupyter-widgets/controls",
      "model_module_version": "2.0.0",
      "model_name": "VBoxModel",
      "state": {
       "children": [
        "IPY_MODEL_6248fb995096429b8d0cf3ba11eb12af"
       ],
       "layout": "IPY_MODEL_201b63d9a362469e88b00fdfb5e21838"
      }
     },
     "4fd43712da2b45c899b3fbe8bc254a38": {
      "model_module": "@jupyter-widgets/base",
      "model_module_version": "2.0.0",
      "model_name": "LayoutModel",
      "state": {
       "width": "100%"
      }
     },
     "4fe92432b76f4b69b02c50642de0e9ad": {
      "model_module": "@jupyter-widgets/controls",
      "model_module_version": "2.0.0",
      "model_name": "HBoxModel",
      "state": {
       "children": [
        "IPY_MODEL_95f7c04df7da4cac975f135145c5a928"
       ],
       "layout": "IPY_MODEL_dd731b4b3b244606bbde1a1fdd70433f"
      }
     },
     "5020bc8635424517abf5835b83ce7b1c": {
      "model_module": "@jupyter-widgets/controls",
      "model_module_version": "2.0.0",
      "model_name": "VBoxModel",
      "state": {
       "children": [
        "IPY_MODEL_084c32003a464aba8e1a145cade1a8bf"
       ],
       "layout": "IPY_MODEL_d2b8c2470080404d97217944f193eae1"
      }
     },
     "506e1f9990ad4314a857d588d55723b8": {
      "model_module": "@jupyter-widgets/base",
      "model_module_version": "2.0.0",
      "model_name": "LayoutModel",
      "state": {}
     },
     "5186fdc7d39f41f98223ea8d142e021d": {
      "model_module": "@jupyter-widgets/controls",
      "model_module_version": "2.0.0",
      "model_name": "ButtonModel",
      "state": {
       "description": "Add entry",
       "icon": "plus",
       "layout": "IPY_MODEL_16422b9c7a684191b9c358f02f041230",
       "style": "IPY_MODEL_579faa80211a4d0d874f38381e080db5",
       "tooltip": null
      }
     },
     "5199721dfefe4fbf862c0bb85c815c02": {
      "model_module": "@jupyter-widgets/controls",
      "model_module_version": "2.0.0",
      "model_name": "TextStyleModel",
      "state": {
       "description_width": "",
       "font_size": null,
       "text_color": null
      }
     },
     "52949888672743a7a98492dff2a362d0": {
      "model_module": "@jupyter-widgets/controls",
      "model_module_version": "2.0.0",
      "model_name": "LabelModel",
      "state": {
       "layout": "IPY_MODEL_52d41321203e460d823e806fad3fb3a7",
       "style": "IPY_MODEL_67c0984a92ab428c9dc1554d434ffe99",
       "value": "Number"
      }
     },
     "52b3c8ca1ea24c1c9f20ba8dd548ce39": {
      "model_module": "@jupyter-widgets/base",
      "model_module_version": "2.0.0",
      "model_name": "LayoutModel",
      "state": {}
     },
     "52d41321203e460d823e806fad3fb3a7": {
      "model_module": "@jupyter-widgets/base",
      "model_module_version": "2.0.0",
      "model_name": "LayoutModel",
      "state": {
       "width": "100%"
      }
     },
     "52f73ec17b704fb5b241a8f155847e67": {
      "model_module": "@jupyter-widgets/controls",
      "model_module_version": "2.0.0",
      "model_name": "TextModel",
      "state": {
       "layout": "IPY_MODEL_90ea109c69c04388b5270e8443e100bc",
       "style": "IPY_MODEL_223aaa85ac5f42059e85c0b40fd37bf9",
       "tooltip": "Name"
      }
     },
     "535499ad89424678864d27318e25a722": {
      "model_module": "@jupyter-widgets/controls",
      "model_module_version": "2.0.0",
      "model_name": "TextStyleModel",
      "state": {
       "description_width": "",
       "font_size": null,
       "text_color": null
      }
     },
     "53dd910a52c04d2499b714324111f39a": {
      "model_module": "@jupyter-widgets/base",
      "model_module_version": "2.0.0",
      "model_name": "LayoutModel",
      "state": {}
     },
     "54d8037570884f4980fe00aaf7c87c74": {
      "model_module": "@jupyter-widgets/controls",
      "model_module_version": "2.0.0",
      "model_name": "ButtonStyleModel",
      "state": {
       "font_family": null,
       "font_size": null,
       "font_style": null,
       "font_variant": null,
       "font_weight": null,
       "text_color": null,
       "text_decoration": null
      }
     },
     "55c85dbec51644e6979ba3c430912d12": {
      "model_module": "@jupyter-widgets/controls",
      "model_module_version": "2.0.0",
      "model_name": "ButtonModel",
      "state": {
       "description": "Add entry",
       "icon": "plus",
       "layout": "IPY_MODEL_c644362fd54d44edb182c1af68bfd070",
       "style": "IPY_MODEL_b46f30e42f2f4b868d5fedd3444369d5",
       "tooltip": null
      }
     },
     "574cca61b7cd4cb5a18d4ab3c6bf9558": {
      "model_module": "@jupyter-widgets/controls",
      "model_module_version": "2.0.0",
      "model_name": "LabelStyleModel",
      "state": {
       "description_width": "",
       "font_family": null,
       "font_size": null,
       "font_style": null,
       "font_variant": null,
       "font_weight": null,
       "text_color": null,
       "text_decoration": null
      }
     },
     "577c6e24960c44979ca21fe035d066ae": {
      "model_module": "@jupyter-widgets/base",
      "model_module_version": "2.0.0",
      "model_name": "LayoutModel",
      "state": {
       "display": "none"
      }
     },
     "579faa80211a4d0d874f38381e080db5": {
      "model_module": "@jupyter-widgets/controls",
      "model_module_version": "2.0.0",
      "model_name": "ButtonStyleModel",
      "state": {
       "font_family": null,
       "font_size": null,
       "font_style": null,
       "font_variant": null,
       "font_weight": null,
       "text_color": null,
       "text_decoration": null
      }
     },
     "57ba4cb8f0ca49d1ad2971b4c2216c94": {
      "model_module": "@jupyter-widgets/base",
      "model_module_version": "2.0.0",
      "model_name": "LayoutModel",
      "state": {}
     },
     "57d231910ea54fce941553a8c963ff5b": {
      "model_module": "@jupyter-widgets/base",
      "model_module_version": "2.0.0",
      "model_name": "LayoutModel",
      "state": {}
     },
     "588174e32b524f79ba8e62273c0b86a2": {
      "model_module": "@jupyter-widgets/controls",
      "model_module_version": "2.0.0",
      "model_name": "DescriptionStyleModel",
      "state": {
       "description_width": ""
      }
     },
     "5a4f2f61fd1b41d0a958237578bc5b00": {
      "model_module": "@jupyter-widgets/base",
      "model_module_version": "2.0.0",
      "model_name": "LayoutModel",
      "state": {
       "width": "100%"
      }
     },
     "5a8d90a938a948729b5ad08f4e5882b3": {
      "model_module": "@jupyter-widgets/controls",
      "model_module_version": "2.0.0",
      "model_name": "TextStyleModel",
      "state": {
       "description_width": "",
       "font_size": null,
       "text_color": null
      }
     },
     "5b2e3b96fe9e4cd5847e97fa26d02f76": {
      "model_module": "@jupyter-widgets/base",
      "model_module_version": "2.0.0",
      "model_name": "LayoutModel",
      "state": {
       "width": "100%"
      }
     },
     "5b371f37efc24e919e6eec1b26394f62": {
      "model_module": "@jupyter-widgets/controls",
      "model_module_version": "2.0.0",
      "model_name": "LabelStyleModel",
      "state": {
       "description_width": "",
       "font_family": null,
       "font_size": null,
       "font_style": null,
       "font_variant": null,
       "font_weight": null,
       "text_color": null,
       "text_decoration": null
      }
     },
     "5e68e55da2884034830a7ed83b9bfbfb": {
      "model_module": "@jupyter-widgets/base",
      "model_module_version": "2.0.0",
      "model_name": "LayoutModel",
      "state": {
       "display": "none"
      }
     },
     "5e8d6a65bb6c4b01bad38a2ab4200edb": {
      "model_module": "@jupyter-widgets/controls",
      "model_module_version": "2.0.0",
      "model_name": "HBoxModel",
      "state": {
       "children": [
        "IPY_MODEL_89e61d677f4147a9bf59d953dc1f34a8",
        "IPY_MODEL_cbe8b1d7897349cf86c3e47fa16732b8"
       ],
       "layout": "IPY_MODEL_c353fdb1d22946f980e9a4fe29b94abe"
      }
     },
     "602f411018cc4cd58d17b7550927d8e5": {
      "model_module": "@jupyter-widgets/base",
      "model_module_version": "2.0.0",
      "model_name": "LayoutModel",
      "state": {}
     },
     "60b2605874434d32926555463231ebe8": {
      "model_module": "@jupyter-widgets/controls",
      "model_module_version": "2.0.0",
      "model_name": "HBoxModel",
      "state": {
       "children": [
        "IPY_MODEL_99cb193681fd456989632af1adda91aa"
       ],
       "layout": "IPY_MODEL_2868195c5f4747ee8ec568d3983ad984"
      }
     },
     "613e7e83b8894562b34a2be6b298927a": {
      "model_module": "@jupyter-widgets/controls",
      "model_module_version": "2.0.0",
      "model_name": "ButtonStyleModel",
      "state": {
       "font_family": null,
       "font_size": null,
       "font_style": null,
       "font_variant": null,
       "font_weight": null,
       "text_color": null,
       "text_decoration": null
      }
     },
     "6165192431bb433ab04bf344981ff621": {
      "model_module": "@jupyter-widgets/controls",
      "model_module_version": "2.0.0",
      "model_name": "LabelStyleModel",
      "state": {
       "description_width": "",
       "font_family": null,
       "font_size": null,
       "font_style": null,
       "font_variant": null,
       "font_weight": null,
       "text_color": null,
       "text_decoration": null
      }
     },
     "6172289fb6054e2f99c4875d18131cde": {
      "model_module": "@jupyter-widgets/controls",
      "model_module_version": "2.0.0",
      "model_name": "ButtonModel",
      "state": {
       "icon": "arrow-up",
       "layout": "IPY_MODEL_2401a60d6da24a81964f66c4e76289ef",
       "style": "IPY_MODEL_dd1e335ae2594f309e3600512d094de3",
       "tooltip": null
      }
     },
     "61b2f39415914cf98a9313db438a8551": {
      "model_module": "@jupyter-widgets/controls",
      "model_module_version": "2.0.0",
      "model_name": "AccordionModel",
      "state": {
       "children": [
        "IPY_MODEL_7d7b5c1dc1f148d892edf1480a14b025"
       ],
       "layout": "IPY_MODEL_94ac45abdf344941b625aba0a0ec3f35",
       "selected_index": 0,
       "titles": [
        "Adresses"
       ]
      }
     },
     "61b54e3e962942f6a01da888266b5212": {
      "model_module": "@jupyter-widgets/controls",
      "model_module_version": "2.0.0",
      "model_name": "LabelStyleModel",
      "state": {
       "description_width": "",
       "font_family": null,
       "font_size": null,
       "font_style": null,
       "font_variant": null,
       "font_weight": null,
       "text_color": null,
       "text_decoration": null
      }
     },
     "6236e6c618374ac089008977743d2b8a": {
      "model_module": "@jupyter-widgets/controls",
      "model_module_version": "2.0.0",
      "model_name": "LabelStyleModel",
      "state": {
       "description_width": "",
       "font_family": null,
       "font_size": null,
       "font_style": null,
       "font_variant": null,
       "font_weight": null,
       "text_color": null,
       "text_decoration": null
      }
     },
     "6248fb995096429b8d0cf3ba11eb12af": {
      "model_module": "@jupyter-widgets/controls",
      "model_module_version": "2.0.0",
      "model_name": "ButtonModel",
      "state": {
       "description": "Add entry",
       "icon": "plus",
       "layout": "IPY_MODEL_a8ecf3ce8c14450a9d82cea2a75c6417",
       "style": "IPY_MODEL_21bc45d06e744f0d9d273c6006b3bea6",
       "tooltip": null
      }
     },
     "627a8310e755492fa4f44dca8f24745c": {
      "model_module": "@jupyter-widgets/controls",
      "model_module_version": "2.0.0",
      "model_name": "AccordionModel",
      "state": {
       "children": [
        "IPY_MODEL_8ef6e0f3b31e4d1381630d455fffb43a"
       ],
       "layout": "IPY_MODEL_506e1f9990ad4314a857d588d55723b8",
       "titles": [
        "Fruit"
       ]
      }
     },
     "62ba7a79d6164f60a9d3a5e615627ca7": {
      "model_module": "@jupyter-widgets/controls",
      "model_module_version": "2.0.0",
      "model_name": "TextStyleModel",
      "state": {
       "description_width": "",
       "font_size": null,
       "text_color": null
      }
     },
     "62c79d3c0f48430181f6b2bfe4456f4e": {
      "model_module": "@jupyter-widgets/base",
      "model_module_version": "2.0.0",
      "model_name": "LayoutModel",
      "state": {}
     },
     "62c9ef8d35224d729702f338a544dc99": {
      "model_module": "@jupyter-widgets/controls",
      "model_module_version": "2.0.0",
      "model_name": "TextStyleModel",
      "state": {
       "description_width": "",
       "font_size": null,
       "text_color": null
      }
     },
     "631386fccf7b4c8689b0bc59fda529e2": {
      "model_module": "@jupyter-widgets/base",
      "model_module_version": "2.0.0",
      "model_name": "LayoutModel",
      "state": {
       "width": "100%"
      }
     },
     "637030a53ca24ada910727393d160687": {
      "model_module": "@jupyter-widgets/base",
      "model_module_version": "2.0.0",
      "model_name": "LayoutModel",
      "state": {
       "width": "100%"
      }
     },
     "637809b465ae4990b59aac3418915b39": {
      "model_module": "@jupyter-widgets/controls",
      "model_module_version": "2.0.0",
      "model_name": "DescriptionStyleModel",
      "state": {
       "description_width": ""
      }
     },
     "63a546b33014462e97373d9ce74e9990": {
      "model_module": "@jupyter-widgets/controls",
      "model_module_version": "2.0.0",
      "model_name": "HBoxModel",
      "state": {
       "children": [
        "IPY_MODEL_bc39515f4da9407cb3f5bd04d9f7524f"
       ],
       "layout": "IPY_MODEL_e15a1ea7611d45229abdcda821eb3a01"
      }
     },
     "63c9f76e4da946bfac6bdfb6c24eb9b8": {
      "model_module": "@jupyter-widgets/controls",
      "model_module_version": "2.0.0",
      "model_name": "HBoxModel",
      "state": {
       "children": [
        "IPY_MODEL_52949888672743a7a98492dff2a362d0",
        "IPY_MODEL_78ea2abc5308479682d1341365b9de5c"
       ],
       "layout": "IPY_MODEL_cd4dd90c71cb4cca8ec901fc6d3ec532"
      }
     },
     "64780414bd8d4dd29170d757654ae0fa": {
      "model_module": "@jupyter-widgets/controls",
      "model_module_version": "2.0.0",
      "model_name": "LabelModel",
      "state": {
       "layout": "IPY_MODEL_84f6d2c47e6c42dc895ae03f0d4c6712",
       "style": "IPY_MODEL_9b803574bbce41f2b6f20a67b7610d27"
      }
     },
     "6483c7654c30486e9db3fd0b338a2c6e": {
      "model_module": "@jupyter-widgets/controls",
      "model_module_version": "2.0.0",
      "model_name": "IntTextModel",
      "state": {
       "layout": "IPY_MODEL_288f0dcbd8b2425d96bde1a5f3428ea6",
       "step": 1,
       "style": "IPY_MODEL_c4795a854c5048cc81dae97f47bfb502",
       "tooltip": "Value",
       "value": 10
      }
     },
     "64d6ab57c08e488da5b4c0859448c6f3": {
      "model_module": "@jupyter-widgets/controls",
      "model_module_version": "2.0.0",
      "model_name": "LabelStyleModel",
      "state": {
       "description_width": "",
       "font_family": null,
       "font_size": null,
       "font_style": null,
       "font_variant": null,
       "font_weight": null,
       "text_color": null,
       "text_decoration": null
      }
     },
     "65237bfa3dbe4e2889e5d2d7f7c173a6": {
      "model_module": "@jupyter-widgets/controls",
      "model_module_version": "2.0.0",
      "model_name": "LabelStyleModel",
      "state": {
       "description_width": "",
       "font_family": null,
       "font_size": null,
       "font_style": null,
       "font_variant": null,
       "font_weight": null,
       "text_color": null,
       "text_decoration": null
      }
     },
     "655b01e34d65416f9170f9c9c3cc758e": {
      "model_module": "@jupyter-widgets/base",
      "model_module_version": "2.0.0",
      "model_name": "LayoutModel",
      "state": {}
     },
     "65919c1612ca410ea4efb2c67128c9f4": {
      "model_module": "@jupyter-widgets/base",
      "model_module_version": "2.0.0",
      "model_name": "LayoutModel",
      "state": {}
     },
     "659ad619a504430696dceb242d46e1de": {
      "model_module": "@jupyter-widgets/base",
      "model_module_version": "2.0.0",
      "model_name": "LayoutModel",
      "state": {
       "display": "none"
      }
     },
     "66149c266933453282116448d3b74fe9": {
      "model_module": "@jupyter-widgets/controls",
      "model_module_version": "2.0.0",
      "model_name": "VBoxModel",
      "state": {
       "children": [
        "IPY_MODEL_3cac16f4352a4b67b90fa8fe2cf0ed44",
        "IPY_MODEL_eef429364eb24308a61c62eade6dac9c"
       ],
       "layout": "IPY_MODEL_90f4bfbcbac441b2a7197320fc579588"
      }
     },
     "6750bf9571f74a35b8c68ec8d9eca48c": {
      "model_module": "@jupyter-widgets/controls",
      "model_module_version": "2.0.0",
      "model_name": "TextModel",
      "state": {
       "layout": "IPY_MODEL_7ba0ada392354705be1a69a7e44612d7",
       "style": "IPY_MODEL_91d96e6f507b4b83a7d00f96598f059d",
       "tooltip": "Email"
      }
     },
     "67c0984a92ab428c9dc1554d434ffe99": {
      "model_module": "@jupyter-widgets/controls",
      "model_module_version": "2.0.0",
      "model_name": "LabelStyleModel",
      "state": {
       "description_width": "",
       "font_family": null,
       "font_size": null,
       "font_style": null,
       "font_variant": null,
       "font_weight": null,
       "text_color": null,
       "text_decoration": null
      }
     },
     "68829b92c8174e7d82187eac5bc2deae": {
      "model_module": "@jupyter-widgets/controls",
      "model_module_version": "2.0.0",
      "model_name": "DatePickerModel",
      "state": {
       "description": "Date",
       "disabled": false,
       "layout": "IPY_MODEL_c571610c3a934afc875c636fa67e14a2",
       "max": null,
       "min": null,
       "step": 1,
       "style": "IPY_MODEL_a6a29b5d7f13421d9aaebc0e65bfb5b5",
       "tooltip": "Date",
       "value": {
        "date": 7,
        "month": 3,
        "year": 2025
       }
      }
     },
     "68e6188572e3474f85428d3da79ad417": {
      "model_module": "@jupyter-widgets/base",
      "model_module_version": "2.0.0",
      "model_name": "LayoutModel",
      "state": {
       "width": "33%"
      }
     },
     "69337eb13fab418a8a13cb35d1061f21": {
      "model_module": "@jupyter-widgets/controls",
      "model_module_version": "2.0.0",
      "model_name": "LabelStyleModel",
      "state": {
       "description_width": "",
       "font_family": null,
       "font_size": null,
       "font_style": null,
       "font_variant": null,
       "font_weight": null,
       "text_color": null,
       "text_decoration": null
      }
     },
     "69fd0a5123074bd4b99b1166067c9970": {
      "model_module": "@jupyter-widgets/controls",
      "model_module_version": "2.0.0",
      "model_name": "DescriptionStyleModel",
      "state": {
       "description_width": ""
      }
     },
     "6aa25509cb9b48b089db3da970712168": {
      "model_module": "@jupyter-widgets/base",
      "model_module_version": "2.0.0",
      "model_name": "LayoutModel",
      "state": {
       "width": "100%"
      }
     },
     "6ad251ae49bd4a038c7786724ad9e914": {
      "model_module": "@jupyter-widgets/controls",
      "model_module_version": "2.0.0",
      "model_name": "DescriptionStyleModel",
      "state": {
       "description_width": ""
      }
     },
     "6b376c33d1d042f7a5393fd581500d36": {
      "model_module": "@jupyter-widgets/controls",
      "model_module_version": "2.0.0",
      "model_name": "TextStyleModel",
      "state": {
       "description_width": "",
       "font_size": null,
       "text_color": null
      }
     },
     "6cf64b04991f47e384071e53a6392799": {
      "model_module": "@jupyter-widgets/controls",
      "model_module_version": "2.0.0",
      "model_name": "DatePickerModel",
      "state": {
       "description": "Date",
       "disabled": false,
       "layout": "IPY_MODEL_4bf5837db1ee4a5296672f5aa421ad2e",
       "max": null,
       "min": null,
       "step": 1,
       "style": "IPY_MODEL_a0f7a581edb44b3a9c3cd3ea3e7640f0",
       "tooltip": "Date",
       "value": {
        "date": 7,
        "month": 3,
        "year": 2025
       }
      }
     },
     "6d022d27ad17437ea0523c9179975de9": {
      "model_module": "@jupyter-widgets/base",
      "model_module_version": "2.0.0",
      "model_name": "LayoutModel",
      "state": {
       "display": "none"
      }
     },
     "6d8cfc51096240d5bbc5eab7a471ecfe": {
      "model_module": "@jupyter-widgets/controls",
      "model_module_version": "2.0.0",
      "model_name": "LabelStyleModel",
      "state": {
       "description_width": "",
       "font_family": null,
       "font_size": null,
       "font_style": null,
       "font_variant": null,
       "font_weight": null,
       "text_color": null,
       "text_decoration": null
      }
     },
     "6e47baa949be4165bbea8e4584d5eb64": {
      "model_module": "@jupyter-widgets/base",
      "model_module_version": "2.0.0",
      "model_name": "LayoutModel",
      "state": {
       "width": "100%"
      }
     },
     "6f19e8e7704743fcb60a2ead1faa8b94": {
      "model_module": "@jupyter-widgets/controls",
      "model_module_version": "2.0.0",
      "model_name": "HBoxModel",
      "state": {
       "children": [
        "IPY_MODEL_d62c2417412948debc0013e95d9b9873",
        "IPY_MODEL_b6b49ff1fe2e4415b1f4fb0dcbd70c2e"
       ],
       "layout": "IPY_MODEL_ada98fdb24c44494bb7811245dad4cde"
      }
     },
     "6fe1b2f8568a43f7802c64559f148a1b": {
      "model_module": "@jupyter-widgets/base",
      "model_module_version": "2.0.0",
      "model_name": "LayoutModel",
      "state": {}
     },
     "73554290bd014502afa09e7dcea5ecfd": {
      "model_module": "@jupyter-widgets/controls",
      "model_module_version": "2.0.0",
      "model_name": "HBoxModel",
      "state": {
       "children": [
        "IPY_MODEL_7f59bd8d15ad40a588a490a1422cc744",
        "IPY_MODEL_6172289fb6054e2f99c4875d18131cde",
        "IPY_MODEL_1e4f70a7b96e4d5e850a3e8792be823f"
       ],
       "layout": "IPY_MODEL_3b2ca6f012b44653a52ed0d59602e295"
      }
     },
     "73b220ff5d044563a83bdbb3508c8a5e": {
      "model_module": "@jupyter-widgets/base",
      "model_module_version": "2.0.0",
      "model_name": "LayoutModel",
      "state": {}
     },
     "7547e002e0564ae1a5755a94582706a0": {
      "model_module": "@jupyter-widgets/controls",
      "model_module_version": "2.0.0",
      "model_name": "VBoxModel",
      "state": {
       "children": [
        "IPY_MODEL_7d4073233bdd42b8ac440c84dd6605b6",
        "IPY_MODEL_08b009d875e541699ecf4caaf3bf0bf9"
       ],
       "layout": "IPY_MODEL_d686f5f777c4489eb98724f89f68feed"
      }
     },
     "7597146d3a394995af091c3e61c5909b": {
      "model_module": "@jupyter-widgets/controls",
      "model_module_version": "2.0.0",
      "model_name": "TextStyleModel",
      "state": {
       "description_width": "",
       "font_size": null,
       "text_color": null
      }
     },
     "76c6230c33a74e7987b54e32c753205f": {
      "model_module": "@jupyter-widgets/controls",
      "model_module_version": "2.0.0",
      "model_name": "LabelStyleModel",
      "state": {
       "description_width": "",
       "font_family": null,
       "font_size": null,
       "font_style": null,
       "font_variant": null,
       "font_weight": null,
       "text_color": null,
       "text_decoration": null
      }
     },
     "770bb9cafe4c44aca921042dce9f0314": {
      "model_module": "@jupyter-widgets/controls",
      "model_module_version": "2.0.0",
      "model_name": "CheckboxModel",
      "state": {
       "description": "Is Active",
       "disabled": false,
       "indent": false,
       "layout": "IPY_MODEL_e1e951d3397b499f921683d61ae79671",
       "style": "IPY_MODEL_224583f32c60432aa9fd00dc99ff16fc",
       "value": false
      }
     },
     "770fe606d20642fb9cc5ac742321216e": {
      "model_module": "@jupyter-widgets/controls",
      "model_module_version": "2.0.0",
      "model_name": "VBoxModel",
      "state": {
       "children": [
        "IPY_MODEL_901edced7e2247c1997c3e3f49d9f06b",
        "IPY_MODEL_1d84699b1a09495b900b7b5d5a2c1f3c",
        "IPY_MODEL_de8eaacdb8c84599ac9953c6a082c17e",
        "IPY_MODEL_e66eb46fd2bf40308350db7549d7ed68",
        "IPY_MODEL_7e75b44077804e6b8487b9a084e97a92",
        "IPY_MODEL_1ab0f117dac846a581cfaca95ef9a3d8",
        "IPY_MODEL_8423de051d554719b6d2683a71853111",
        "IPY_MODEL_1585211fd995456da73ab4e9a5b61e5c",
        "IPY_MODEL_1a8352a2bd924c5e8df4767bb99c025d",
        "IPY_MODEL_c60b4e87a17a47d4968ba8f00286c5f9",
        "IPY_MODEL_3f5f32f096844789b9ec9666c7716d33",
        "IPY_MODEL_a48ff324b63e4586be9123d011609dda"
       ],
       "layout": "IPY_MODEL_47184d3edc134b2d96f3d1f628de57b8"
      }
     },
     "77159345d59b4012841e3f87f6c5abdf": {
      "model_module": "@jupyter-widgets/controls",
      "model_module_version": "2.0.0",
      "model_name": "IntTextModel",
      "state": {
       "layout": "IPY_MODEL_631386fccf7b4c8689b0bc59fda529e2",
       "step": 1,
       "style": "IPY_MODEL_2137b82f21834c5d88aa7d7dd8fa3e6b"
      }
     },
     "77b216f6df8a4ffba332a5d6cdce3c01": {
      "model_module": "@jupyter-widgets/base",
      "model_module_version": "2.0.0",
      "model_name": "LayoutModel",
      "state": {
       "width": "33%"
      }
     },
     "78338015712a41c0a2b04d3c978a8a1a": {
      "model_module": "@jupyter-widgets/controls",
      "model_module_version": "2.0.0",
      "model_name": "LabelStyleModel",
      "state": {
       "description_width": "",
       "font_family": null,
       "font_size": null,
       "font_style": null,
       "font_variant": null,
       "font_weight": null,
       "text_color": null,
       "text_decoration": null
      }
     },
     "785b1e1dcd144eab9b49ef16a115c01a": {
      "model_module": "@jupyter-widgets/base",
      "model_module_version": "2.0.0",
      "model_name": "LayoutModel",
      "state": {
       "display": "none"
      }
     },
     "78db2b8782e74bd79467e50af7e4e510": {
      "model_module": "@jupyter-widgets/base",
      "model_module_version": "2.0.0",
      "model_name": "LayoutModel",
      "state": {
       "width": "100%"
      }
     },
     "78ea2abc5308479682d1341365b9de5c": {
      "model_module": "@jupyter-widgets/controls",
      "model_module_version": "2.0.0",
      "model_name": "BoundedIntTextModel",
      "state": {
       "layout": "IPY_MODEL_46e9019934764ba69fadae99c139b7dc",
       "max": 10,
       "style": "IPY_MODEL_3d39f16d92e2489a94ccac0a1679df1b",
       "tooltip": "Number",
       "value": 10
      }
     },
     "7981bfa9cd9d4622abbcc73676f29ef4": {
      "model_module": "@jupyter-widgets/base",
      "model_module_version": "2.0.0",
      "model_name": "LayoutModel",
      "state": {
       "width": "100%"
      }
     },
     "7b620c2ba5574d338e5995b2835a4c01": {
      "model_module": "@jupyter-widgets/base",
      "model_module_version": "2.0.0",
      "model_name": "LayoutModel",
      "state": {}
     },
     "7b71fc4a30a6471481b6a04a90d33106": {
      "model_module": "@jupyter-widgets/base",
      "model_module_version": "2.0.0",
      "model_name": "LayoutModel",
      "state": {}
     },
     "7b884eb04cbc406987821364733436e3": {
      "model_module": "@jupyter-widgets/base",
      "model_module_version": "2.0.0",
      "model_name": "LayoutModel",
      "state": {
       "width": "100%"
      }
     },
     "7ba0ada392354705be1a69a7e44612d7": {
      "model_module": "@jupyter-widgets/base",
      "model_module_version": "2.0.0",
      "model_name": "LayoutModel",
      "state": {
       "width": "100%"
      }
     },
     "7bb0096d7bf54dca9ca94e6bac207c32": {
      "model_module": "@jupyter-widgets/controls",
      "model_module_version": "2.0.0",
      "model_name": "LabelStyleModel",
      "state": {
       "description_width": "",
       "font_family": null,
       "font_size": null,
       "font_style": null,
       "font_variant": null,
       "font_weight": null,
       "text_color": null,
       "text_decoration": null
      }
     },
     "7bd64d49f38c4f33bad1e6d1ef733547": {
      "model_module": "@jupyter-widgets/base",
      "model_module_version": "2.0.0",
      "model_name": "LayoutModel",
      "state": {
       "display": "none"
      }
     },
     "7bf9d2801ba44490b738a6c21884aa87": {
      "model_module": "@jupyter-widgets/controls",
      "model_module_version": "2.0.0",
      "model_name": "LabelModel",
      "state": {
       "layout": "IPY_MODEL_aad93c0e7d474f4085f7a8b01a58a796",
       "style": "IPY_MODEL_e068e94f6b4c4a56af17c4bc288256b4",
       "value": "Text"
      }
     },
     "7d4073233bdd42b8ac440c84dd6605b6": {
      "model_module": "@jupyter-widgets/controls",
      "model_module_version": "2.0.0",
      "model_name": "VBoxModel",
      "state": {
       "children": [
        "IPY_MODEL_5e8d6a65bb6c4b01bad38a2ab4200edb",
        "IPY_MODEL_21090a4436c8419188d875d8b00b7fc7",
        "IPY_MODEL_09286ec1b37046b78c6f20cc60723ad3",
        "IPY_MODEL_4c57596020eb4bb9acfa55a060bc3915"
       ],
       "layout": "IPY_MODEL_bd69c584e8e44fb0b3ab07702db97949"
      }
     },
     "7d44936f6e774e10a2a5e5fbe3d6bbd5": {
      "model_module": "@jupyter-widgets/controls",
      "model_module_version": "2.0.0",
      "model_name": "TextStyleModel",
      "state": {
       "description_width": "",
       "font_size": null,
       "text_color": null
      }
     },
     "7d7b5c1dc1f148d892edf1480a14b025": {
      "model_module": "@jupyter-widgets/controls",
      "model_module_version": "2.0.0",
      "model_name": "VBoxModel",
      "state": {
       "children": [
        "IPY_MODEL_260e9ee844fe4569966b6691eec01bc7"
       ],
       "layout": "IPY_MODEL_73b220ff5d044563a83bdbb3508c8a5e"
      }
     },
     "7e75b44077804e6b8487b9a084e97a92": {
      "model_module": "@jupyter-widgets/controls",
      "model_module_version": "2.0.0",
      "model_name": "HBoxModel",
      "state": {
       "children": [
        "IPY_MODEL_8fe98424841043bf9619362dd5210f01",
        "IPY_MODEL_0dcceada0f83457db945fb166d9a61cd"
       ],
       "layout": "IPY_MODEL_28b478421bd443dbae636946ec613458"
      }
     },
     "7eeddf9b964045e686029f15c29bada6": {
      "model_module": "@jupyter-widgets/controls",
      "model_module_version": "2.0.0",
      "model_name": "DescriptionStyleModel",
      "state": {
       "description_width": ""
      }
     },
     "7f59bd8d15ad40a588a490a1422cc744": {
      "model_module": "@jupyter-widgets/controls",
      "model_module_version": "2.0.0",
      "model_name": "ButtonModel",
      "state": {
       "icon": "trash",
       "layout": "IPY_MODEL_b732821b50eb4dbcb3041e50e2b012a1",
       "style": "IPY_MODEL_54d8037570884f4980fe00aaf7c87c74",
       "tooltip": null
      }
     },
     "7f61913d65ca4791a99db0656fc3427c": {
      "model_module": "@jupyter-widgets/controls",
      "model_module_version": "2.0.0",
      "model_name": "DescriptionStyleModel",
      "state": {
       "description_width": ""
      }
     },
     "7f89c33e2dda48ff9c6727bc62cabd23": {
      "model_module": "@jupyter-widgets/controls",
      "model_module_version": "2.0.0",
      "model_name": "TextStyleModel",
      "state": {
       "description_width": "",
       "font_size": null,
       "text_color": null
      }
     },
     "7fc67fd734ac47b69f95ecaab05c0822": {
      "model_module": "@jupyter-widgets/controls",
      "model_module_version": "2.0.0",
      "model_name": "HBoxModel",
      "state": {
       "children": [
        "IPY_MODEL_bc8a87ec68ff4330a3cf408c49133fa4",
        "IPY_MODEL_270b017f7de649e5ad65105e8968d9ac"
       ],
       "layout": "IPY_MODEL_bf5273fb28454452b2f89bbe67159b3b"
      }
     },
     "8148589d87ad4bdcba96f9bca8a722a5": {
      "model_module": "@jupyter-widgets/base",
      "model_module_version": "2.0.0",
      "model_name": "LayoutModel",
      "state": {}
     },
     "81775da37a4546498554e26868438902": {
      "model_module": "@jupyter-widgets/base",
      "model_module_version": "2.0.0",
      "model_name": "LayoutModel",
      "state": {
       "width": "100%"
      }
     },
     "822fbf1dda0d481b95120a01c08062e5": {
      "model_module": "@jupyter-widgets/controls",
      "model_module_version": "2.0.0",
      "model_name": "LabelModel",
      "state": {
       "layout": "IPY_MODEL_2c42604b0ded41b2858ed9e6986df57b",
       "style": "IPY_MODEL_69337eb13fab418a8a13cb35d1061f21",
       "value": "Uri"
      }
     },
     "831b57a944474e45b0d1ff6e59777dc2": {
      "model_module": "@jupyter-widgets/base",
      "model_module_version": "2.0.0",
      "model_name": "LayoutModel",
      "state": {
       "width": "100%"
      }
     },
     "8423de051d554719b6d2683a71853111": {
      "model_module": "@jupyter-widgets/controls",
      "model_module_version": "2.0.0",
      "model_name": "HBoxModel",
      "state": {
       "children": [
        "IPY_MODEL_3d2a5e1ad21b4b7aa1ceb37a6d5f322a",
        "IPY_MODEL_f78b020cac6a41cbbe6ea1ea29e29260"
       ],
       "layout": "IPY_MODEL_6aa25509cb9b48b089db3da970712168"
      }
     },
     "8425db3b00f14f8490245455057182c5": {
      "model_module": "@jupyter-widgets/base",
      "model_module_version": "2.0.0",
      "model_name": "LayoutModel",
      "state": {}
     },
     "84a6dc31800b4c34b202a21af2b1713a": {
      "model_module": "@jupyter-widgets/base",
      "model_module_version": "2.0.0",
      "model_name": "LayoutModel",
      "state": {}
     },
     "84f6d2c47e6c42dc895ae03f0d4c6712": {
      "model_module": "@jupyter-widgets/base",
      "model_module_version": "2.0.0",
      "model_name": "LayoutModel",
      "state": {
       "display": "none"
      }
     },
     "8543df381cd74284b04ed2f5a3c6d744": {
      "model_module": "@jupyter-widgets/controls",
      "model_module_version": "2.0.0",
      "model_name": "VBoxModel",
      "state": {
       "children": [
        "IPY_MODEL_61b2f39415914cf98a9313db438a8551",
        "IPY_MODEL_7fc67fd734ac47b69f95ecaab05c0822",
        "IPY_MODEL_dbb57ff5a34b4506ad6e54112bd67cb6"
       ],
       "layout": "IPY_MODEL_f419690ba99242a394467e924d7b5585"
      }
     },
     "85e56a03b32b44d4a859686553a26ad5": {
      "model_module": "@jupyter-widgets/base",
      "model_module_version": "2.0.0",
      "model_name": "LayoutModel",
      "state": {
       "width": "100%"
      }
     },
     "86056b10f56b47caa11bdc76d86a21e6": {
      "model_module": "@jupyter-widgets/controls",
      "model_module_version": "2.0.0",
      "model_name": "DescriptionStyleModel",
      "state": {
       "description_width": ""
      }
     },
     "86b4f426a0514febbc2a3999852bd6d7": {
      "model_module": "@jupyter-widgets/controls",
      "model_module_version": "2.0.0",
      "model_name": "LabelStyleModel",
      "state": {
       "description_width": "",
       "font_family": null,
       "font_size": null,
       "font_style": null,
       "font_variant": null,
       "font_weight": null,
       "text_color": null,
       "text_decoration": null
      }
     },
     "87aae41ea959451096a2e5ef00a047ec": {
      "model_module": "@jupyter-widgets/controls",
      "model_module_version": "2.0.0",
      "model_name": "LabelStyleModel",
      "state": {
       "description_width": "",
       "font_family": null,
       "font_size": null,
       "font_style": null,
       "font_variant": null,
       "font_weight": null,
       "text_color": null,
       "text_decoration": null
      }
     },
     "87cb48463f9943abb5d6d209fb37531f": {
      "model_module": "@jupyter-widgets/base",
      "model_module_version": "2.0.0",
      "model_name": "LayoutModel",
      "state": {
       "width": "100%"
      }
     },
     "87df8f188d814c7e8c8279a14159288d": {
      "model_module": "@jupyter-widgets/controls",
      "model_module_version": "2.0.0",
      "model_name": "DatetimeModel",
      "state": {
       "description": "Datetime",
       "layout": "IPY_MODEL_e69138c3c57a49a28dcae69392a4a9dc",
       "style": "IPY_MODEL_2e288a4fc1a84a08b4e05ebfd50136f3",
       "tooltip": "Datetime"
      }
     },
     "8885afdfd6bd44058fbe29df41bbe001": {
      "model_module": "@jupyter-widgets/controls",
      "model_module_version": "2.0.0",
      "model_name": "VBoxModel",
      "state": {
       "children": [
        "IPY_MODEL_73554290bd014502afa09e7dcea5ecfd"
       ],
       "layout": "IPY_MODEL_ae8a2efd2cff4078a5bda40aa62e6415"
      }
     },
     "893a39ce363b46f1b65c08c05c138982": {
      "model_module": "@jupyter-widgets/controls",
      "model_module_version": "2.0.0",
      "model_name": "LabelModel",
      "state": {
       "layout": "IPY_MODEL_26d033a6cfca4335ad33a4125676eb92",
       "style": "IPY_MODEL_21a31a75cd744c9f90a125b96c17b904",
       "value": "Email Wrong"
      }
     },
     "8948ad4fb80b491188df36b174fe7667": {
      "model_module": "@jupyter-widgets/base",
      "model_module_version": "2.0.0",
      "model_name": "LayoutModel",
      "state": {}
     },
     "89e61d677f4147a9bf59d953dc1f34a8": {
      "model_module": "@jupyter-widgets/controls",
      "model_module_version": "2.0.0",
      "model_name": "LabelModel",
      "state": {
       "layout": "IPY_MODEL_d43dc67803d6489e98531689f73da58f",
       "style": "IPY_MODEL_86b4f426a0514febbc2a3999852bd6d7",
       "value": "City"
      }
     },
     "8a312bd451724f3d82e99d971e6b3baf": {
      "model_module": "@jupyter-widgets/base",
      "model_module_version": "2.0.0",
      "model_name": "LayoutModel",
      "state": {
       "width": "100%"
      }
     },
     "8ba6edcb51294214bcb95c63573e88bf": {
      "model_module": "@jupyter-widgets/base",
      "model_module_version": "2.0.0",
      "model_name": "LayoutModel",
      "state": {
       "width": "100%"
      }
     },
     "8bdbf215a8c440c5a6974cc82a50cac1": {
      "model_module": "@jupyter-widgets/controls",
      "model_module_version": "2.0.0",
      "model_name": "TextStyleModel",
      "state": {
       "description_width": "",
       "font_size": null,
       "text_color": null
      }
     },
     "8c5efbe580044c7fae2330ec17486347": {
      "model_module": "@jupyter-widgets/base",
      "model_module_version": "2.0.0",
      "model_name": "LayoutModel",
      "state": {
       "width": "100%"
      }
     },
     "8dfbfeb24c494eeebb9f5cc402129db1": {
      "model_module": "@jupyter-widgets/base",
      "model_module_version": "2.0.0",
      "model_name": "LayoutModel",
      "state": {}
     },
     "8ef6e0f3b31e4d1381630d455fffb43a": {
      "model_module": "@jupyter-widgets/controls",
      "model_module_version": "2.0.0",
      "model_name": "VBoxModel",
      "state": {
       "children": [
        "IPY_MODEL_4e86e7720c7044b88c2f64d51c412226"
       ],
       "layout": "IPY_MODEL_b53081c13b974c5488f35097ea3675d9"
      }
     },
     "8f0d6898684741d19ed9b4e2e5cd5304": {
      "model_module": "@jupyter-widgets/controls",
      "model_module_version": "2.0.0",
      "model_name": "LabelModel",
      "state": {
       "layout": "IPY_MODEL_ba94cbf449ff4517a6e7c185bb569dab",
       "style": "IPY_MODEL_6d8cfc51096240d5bbc5eab7a471ecfe"
      }
     },
     "8f41191360494e8e8adbb5700aee9a53": {
      "model_module": "@jupyter-widgets/base",
      "model_module_version": "2.0.0",
      "model_name": "LayoutModel",
      "state": {}
     },
     "8fe54215ffe24c4ea07e184c6a1bdca6": {
      "model_module": "@jupyter-widgets/base",
      "model_module_version": "2.0.0",
      "model_name": "LayoutModel",
      "state": {
       "width": "100%"
      }
     },
     "8fe98424841043bf9619362dd5210f01": {
      "model_module": "@jupyter-widgets/controls",
      "model_module_version": "2.0.0",
      "model_name": "LabelModel",
      "state": {
       "layout": "IPY_MODEL_e07ad4271fc94efc92b1d9019edba293",
       "style": "IPY_MODEL_fefbc9db723e400e926ce0874a205cf2",
       "value": "Ip4Address"
      }
     },
     "901edced7e2247c1997c3e3f49d9f06b": {
      "model_module": "@jupyter-widgets/controls",
      "model_module_version": "2.0.0",
      "model_name": "HBoxModel",
      "state": {
       "children": [
        "IPY_MODEL_1110af84857f43b28cdba88ba566d1c0",
        "IPY_MODEL_eff22cf5138b46f19e5ab806707b9a5e"
       ],
       "layout": "IPY_MODEL_2604d9d51d2c4241af537c396164da0c"
      }
     },
     "903ff794dc674f10822d8f5604d45036": {
      "model_module": "@jupyter-widgets/base",
      "model_module_version": "2.0.0",
      "model_name": "LayoutModel",
      "state": {
       "width": "100%"
      }
     },
     "90865a9d46d54c9e8b550b20b73de4de": {
      "model_module": "@jupyter-widgets/controls",
      "model_module_version": "2.0.0",
      "model_name": "ButtonModel",
      "state": {
       "icon": "arrow-down",
       "layout": "IPY_MODEL_77b216f6df8a4ffba332a5d6cdce3c01",
       "style": "IPY_MODEL_add4a32626374607bfe547e01447c459",
       "tooltip": null
      }
     },
     "90ddb908b6574ea5b14cfc62bb8e2265": {
      "model_module": "@jupyter-widgets/controls",
      "model_module_version": "2.0.0",
      "model_name": "FloatTextModel",
      "state": {
       "layout": "IPY_MODEL_af0a05ead0cf4fc1a94d2eed2b46d6d6",
       "step": null,
       "style": "IPY_MODEL_e27510056282475da97da081cdf6bf88",
       "tooltip": "Height"
      }
     },
     "90ea109c69c04388b5270e8443e100bc": {
      "model_module": "@jupyter-widgets/base",
      "model_module_version": "2.0.0",
      "model_name": "LayoutModel",
      "state": {
       "width": "100%"
      }
     },
     "90f4bfbcbac441b2a7197320fc579588": {
      "model_module": "@jupyter-widgets/base",
      "model_module_version": "2.0.0",
      "model_name": "LayoutModel",
      "state": {
       "width": "100%"
      }
     },
     "91172e219d774429a59077507f1574cb": {
      "model_module": "@jupyter-widgets/controls",
      "model_module_version": "2.0.0",
      "model_name": "DatePickerModel",
      "state": {
       "description": "Date",
       "disabled": false,
       "layout": "IPY_MODEL_fe77d1e8778a46aeb31363316f70baec",
       "max": null,
       "min": null,
       "step": 1,
       "style": "IPY_MODEL_f60a6607d5aa40638978518e5be2456d",
       "tooltip": "Date",
       "value": {
        "date": 7,
        "month": 3,
        "year": 2025
       }
      }
     },
     "912936adcb4c414aa7bea02b92337327": {
      "model_module": "@jupyter-widgets/controls",
      "model_module_version": "2.0.0",
      "model_name": "VBoxModel",
      "state": {
       "children": [
        "IPY_MODEL_2fc6beed7f3747a39583290e524d3f43",
        "IPY_MODEL_247a43d759d048e5b14bd56aadd79248",
        "IPY_MODEL_21a53b0a70694e619bddfbee43767296"
       ],
       "layout": "IPY_MODEL_c066a611955f412f8e39872adac25004"
      }
     },
     "91d96e6f507b4b83a7d00f96598f059d": {
      "model_module": "@jupyter-widgets/controls",
      "model_module_version": "2.0.0",
      "model_name": "TextStyleModel",
      "state": {
       "description_width": "",
       "font_size": null,
       "text_color": null
      }
     },
     "92484018ae2a4d189bbec7f4109efa56": {
      "model_module": "@jupyter-widgets/base",
      "model_module_version": "2.0.0",
      "model_name": "LayoutModel",
      "state": {}
     },
     "92c3fec2ed844bea84c765c9199e9812": {
      "model_module": "@jupyter-widgets/base",
      "model_module_version": "2.0.0",
      "model_name": "LayoutModel",
      "state": {}
     },
     "92e492329ebb4bac98f610fba0218121": {
      "model_module": "@jupyter-widgets/base",
      "model_module_version": "2.0.0",
      "model_name": "LayoutModel",
      "state": {
       "width": "100%"
      }
     },
     "93459c3102bf4fa192875649d58eb94d": {
      "model_module": "@jupyter-widgets/controls",
      "model_module_version": "2.0.0",
      "model_name": "AccordionModel",
      "state": {
       "children": [
        "IPY_MODEL_02707364849d480d88768f9ff87fe5d2"
       ],
       "layout": "IPY_MODEL_fdfc3dfff08b44e9b01e8d8e4d236291",
       "selected_index": 0,
       "titles": [
        "Category"
       ]
      }
     },
     "94ac45abdf344941b625aba0a0ec3f35": {
      "model_module": "@jupyter-widgets/base",
      "model_module_version": "2.0.0",
      "model_name": "LayoutModel",
      "state": {}
     },
     "95e65156384d4c539eb35cefd8bb862d": {
      "model_module": "@jupyter-widgets/base",
      "model_module_version": "2.0.0",
      "model_name": "LayoutModel",
      "state": {
       "width": "100%"
      }
     },
     "95ef4e0dd4dd4417aa720fd47b57622b": {
      "model_module": "@jupyter-widgets/controls",
      "model_module_version": "2.0.0",
      "model_name": "LabelStyleModel",
      "state": {
       "description_width": "",
       "font_family": null,
       "font_size": null,
       "font_style": null,
       "font_variant": null,
       "font_weight": null,
       "text_color": null,
       "text_decoration": null
      }
     },
     "95f7c04df7da4cac975f135145c5a928": {
      "model_module": "@jupyter-widgets/controls",
      "model_module_version": "2.0.0",
      "model_name": "DatePickerModel",
      "state": {
       "description": "Date",
       "disabled": false,
       "layout": "IPY_MODEL_f0c1ed3fd7254cd5aeeaafc5e577f970",
       "max": null,
       "min": null,
       "step": 1,
       "style": "IPY_MODEL_2c76796e8de34785baa8f0d901213a7a",
       "tooltip": "Date",
       "value": {
        "date": 7,
        "month": 3,
        "year": 2025
       }
      }
     },
     "97f26a07ae2c426a8fe6df84c7a64f8e": {
      "model_module": "@jupyter-widgets/base",
      "model_module_version": "2.0.0",
      "model_name": "LayoutModel",
      "state": {}
     },
     "98cf2b45a2754dc59b1de89a312ad914": {
      "model_module": "@jupyter-widgets/base",
      "model_module_version": "2.0.0",
      "model_name": "LayoutModel",
      "state": {}
     },
     "99cb193681fd456989632af1adda91aa": {
      "model_module": "@jupyter-widgets/controls",
      "model_module_version": "2.0.0",
      "model_name": "TimeModel",
      "state": {
       "description": "Time",
       "layout": "IPY_MODEL_0b8b4dc1a1134771a5aa4340ca41a9eb",
       "style": "IPY_MODEL_33b4b0804e5a42f6a782bff8c4dba0ee",
       "tooltip": "Time",
       "value": {
        "hours": 21,
        "milliseconds": 458,
        "minutes": 51,
        "seconds": 44
       }
      }
     },
     "9b5ecb66e2f84247a95ba6e1b1e99494": {
      "model_module": "@jupyter-widgets/base",
      "model_module_version": "2.0.0",
      "model_name": "LayoutModel",
      "state": {}
     },
     "9b803574bbce41f2b6f20a67b7610d27": {
      "model_module": "@jupyter-widgets/controls",
      "model_module_version": "2.0.0",
      "model_name": "LabelStyleModel",
      "state": {
       "description_width": "",
       "font_family": null,
       "font_size": null,
       "font_style": null,
       "font_variant": null,
       "font_weight": null,
       "text_color": null,
       "text_decoration": null
      }
     },
     "9b88909916cd4579b1f2e8e01ff95e95": {
      "model_module": "@jupyter-widgets/base",
      "model_module_version": "2.0.0",
      "model_name": "LayoutModel",
      "state": {
       "width": "100%"
      }
     },
     "9c337786ca424ac599c547f681706d8a": {
      "model_module": "@jupyter-widgets/base",
      "model_module_version": "2.0.0",
      "model_name": "LayoutModel",
      "state": {}
     },
     "9c888634938f44cf8b415f97ba7c2229": {
      "model_module": "@jupyter-widgets/controls",
      "model_module_version": "2.0.0",
      "model_name": "TextStyleModel",
      "state": {
       "description_width": "",
       "font_size": null,
       "text_color": null
      }
     },
     "9ce2b79287f549519df3fd2ba27b1010": {
      "model_module": "@jupyter-widgets/base",
      "model_module_version": "2.0.0",
      "model_name": "LayoutModel",
      "state": {
       "display": "none"
      }
     },
     "9d42ce3853e149a8a6509ea8015949d1": {
      "model_module": "@jupyter-widgets/controls",
      "model_module_version": "2.0.0",
      "model_name": "TextStyleModel",
      "state": {
       "description_width": "",
       "font_size": null,
       "text_color": null
      }
     },
     "9e2fe38578c74fd0bf08a0100ab24ee1": {
      "model_module": "@jupyter-widgets/controls",
      "model_module_version": "2.0.0",
      "model_name": "TextStyleModel",
      "state": {
       "description_width": "",
       "font_size": null,
       "text_color": null
      }
     },
     "9e475820f1fd45daab9b2d01fb474706": {
      "model_module": "@jupyter-widgets/controls",
      "model_module_version": "2.0.0",
      "model_name": "VBoxModel",
      "state": {
       "children": [
        "IPY_MODEL_12bd96ea28354729b8920088f3f0b133",
        "IPY_MODEL_420ef4c9e05a47d182502d53ba817852",
        "IPY_MODEL_ecbca62a20214aa381e1105bb48aa0ee",
        "IPY_MODEL_dd44189e7d5944d49ee98ba1aefdff9a"
       ],
       "layout": "IPY_MODEL_8c5efbe580044c7fae2330ec17486347"
      }
     },
     "9e712982358c4a9aaa4bf6c6874ecda3": {
      "model_module": "@jupyter-widgets/controls",
      "model_module_version": "2.0.0",
      "model_name": "HBoxModel",
      "state": {
       "children": [
        "IPY_MODEL_bc0b6cc5f35047e48a2609e7d6566137",
        "IPY_MODEL_52f73ec17b704fb5b241a8f155847e67"
       ],
       "layout": "IPY_MODEL_4fd43712da2b45c899b3fbe8bc254a38"
      }
     },
     "9ffd5662804b45e798f7845bf08da5f9": {
      "model_module": "@jupyter-widgets/base",
      "model_module_version": "2.0.0",
      "model_name": "LayoutModel",
      "state": {
       "width": "100%"
      }
     },
     "a0f7a581edb44b3a9c3cd3ea3e7640f0": {
      "model_module": "@jupyter-widgets/controls",
      "model_module_version": "2.0.0",
      "model_name": "DescriptionStyleModel",
      "state": {
       "description_width": ""
      }
     },
     "a13ba3bdcd764a9f879be0c7793f3ca5": {
      "model_module": "@jupyter-widgets/controls",
      "model_module_version": "2.0.0",
      "model_name": "LabelStyleModel",
      "state": {
       "description_width": "",
       "font_family": null,
       "font_size": null,
       "font_style": null,
       "font_variant": null,
       "font_weight": null,
       "text_color": null,
       "text_decoration": null
      }
     },
     "a2328b2a2f6d40fb9b4d53c74f0b1b06": {
      "model_module": "@jupyter-widgets/controls",
      "model_module_version": "2.0.0",
      "model_name": "LabelStyleModel",
      "state": {
       "description_width": "",
       "font_family": null,
       "font_size": null,
       "font_style": null,
       "font_variant": null,
       "font_weight": null,
       "text_color": null,
       "text_decoration": null
      }
     },
     "a2d08b3f7f1c4c29b5738511a241d758": {
      "model_module": "@jupyter-widgets/base",
      "model_module_version": "2.0.0",
      "model_name": "LayoutModel",
      "state": {}
     },
     "a2f641abb4664c9595b333685ef4abe7": {
      "model_module": "@jupyter-widgets/controls",
      "model_module_version": "2.0.0",
      "model_name": "DescriptionStyleModel",
      "state": {
       "description_width": ""
      }
     },
     "a30287e69105425f8623f7d2324410e1": {
      "model_module": "@jupyter-widgets/controls",
      "model_module_version": "2.0.0",
      "model_name": "TextModel",
      "state": {
       "layout": "IPY_MODEL_8a312bd451724f3d82e99d971e6b3baf",
       "style": "IPY_MODEL_a78ead5c5ec145249d0621b9676f9e1a",
       "tooltip": "Uuid",
       "value": "00000000-0000-0000-0000-000000000000"
      }
     },
     "a3a2a1e6d210453594c81617a63774e6": {
      "model_module": "@jupyter-widgets/controls",
      "model_module_version": "2.0.0",
      "model_name": "TextModel",
      "state": {
       "layout": "IPY_MODEL_5a4f2f61fd1b41d0a958237578bc5b00",
       "style": "IPY_MODEL_5199721dfefe4fbf862c0bb85c815c02",
       "tooltip": "Name"
      }
     },
     "a47514a060164b839450f2949789eb6a": {
      "model_module": "@jupyter-widgets/controls",
      "model_module_version": "2.0.0",
      "model_name": "TextStyleModel",
      "state": {
       "description_width": "",
       "font_size": null,
       "text_color": null
      }
     },
     "a48ff324b63e4586be9123d011609dda": {
      "model_module": "@jupyter-widgets/controls",
      "model_module_version": "2.0.0",
      "model_name": "LabelModel",
      "state": {
       "layout": "IPY_MODEL_db7a18d82eed4a1482325fe6fb662974",
       "style": "IPY_MODEL_64d6ab57c08e488da5b4c0859448c6f3"
      }
     },
     "a4df6e71f9ba476d890340bb9ec33708": {
      "model_module": "@jupyter-widgets/base",
      "model_module_version": "2.0.0",
      "model_name": "LayoutModel",
      "state": {
       "width": "100%"
      }
     },
     "a6822a7e7c6a436a82fa58ea1dccc11c": {
      "model_module": "@jupyter-widgets/controls",
      "model_module_version": "2.0.0",
      "model_name": "ButtonStyleModel",
      "state": {
       "font_family": null,
       "font_size": null,
       "font_style": null,
       "font_variant": null,
       "font_weight": null,
       "text_color": null,
       "text_decoration": null
      }
     },
     "a6a29b5d7f13421d9aaebc0e65bfb5b5": {
      "model_module": "@jupyter-widgets/controls",
      "model_module_version": "2.0.0",
      "model_name": "DescriptionStyleModel",
      "state": {
       "description_width": ""
      }
     },
     "a6cddc92846b4cec982e9d2ebcb1c081": {
      "model_module": "@jupyter-widgets/controls",
      "model_module_version": "2.0.0",
      "model_name": "HBoxModel",
      "state": {
       "children": [
        "IPY_MODEL_ab0d9f2773f34b898aca621279ad5443"
       ],
       "layout": "IPY_MODEL_b7178b29a2fe42999453bbe9a60a085d"
      }
     },
     "a78ead5c5ec145249d0621b9676f9e1a": {
      "model_module": "@jupyter-widgets/controls",
      "model_module_version": "2.0.0",
      "model_name": "TextStyleModel",
      "state": {
       "description_width": "",
       "font_size": null,
       "text_color": null
      }
     },
     "a7a3e41db4d24d82abe70a5a26e36813": {
      "model_module": "@jupyter-widgets/controls",
      "model_module_version": "2.0.0",
      "model_name": "LabelModel",
      "state": {
       "layout": "IPY_MODEL_cdb1edcad9fa4cb5bfb9608961bf36de",
       "style": "IPY_MODEL_02d33b439eb441ed9124c526f4fc2b9b",
       "value": "Uuid"
      }
     },
     "a7fecfb7bfbc4caebe46411339fdeafe": {
      "model_module": "@jupyter-widgets/base",
      "model_module_version": "2.0.0",
      "model_name": "LayoutModel",
      "state": {
       "width": "100%"
      }
     },
     "a8618ebc51cf44eb9bedc1ab3dfdef3b": {
      "model_module": "@jupyter-widgets/controls",
      "model_module_version": "2.0.0",
      "model_name": "HBoxModel",
      "state": {
       "children": [
        "IPY_MODEL_adfc2c7c3ca049a3894b1fe7d21f9d32",
        "IPY_MODEL_90ddb908b6574ea5b14cfc62bb8e2265"
       ],
       "layout": "IPY_MODEL_c063e273b5104f0599439b5015d22f5a"
      }
     },
     "a8ecf3ce8c14450a9d82cea2a75c6417": {
      "model_module": "@jupyter-widgets/base",
      "model_module_version": "2.0.0",
      "model_name": "LayoutModel",
      "state": {
       "width": "100%"
      }
     },
     "a9889f04729f4a3ea902c3014ea240fc": {
      "model_module": "@jupyter-widgets/controls",
      "model_module_version": "2.0.0",
      "model_name": "TextStyleModel",
      "state": {
       "description_width": "",
       "font_size": null,
       "text_color": null
      }
     },
     "aa8dbc7e308c4b6cbf9e0f934d2c1070": {
      "model_module": "@jupyter-widgets/controls",
      "model_module_version": "2.0.0",
      "model_name": "TextModel",
      "state": {
       "layout": "IPY_MODEL_2c50124b89104ffea2d66f25934ab263",
       "style": "IPY_MODEL_d18bace6529f47eb8b8a9209b4bba478",
       "tooltip": "Uri",
       "value": "http://example.com"
      }
     },
     "aaa1360c2503464997ad0ab59c172833": {
      "model_module": "@jupyter-widgets/base",
      "model_module_version": "2.0.0",
      "model_name": "LayoutModel",
      "state": {
       "width": "100%"
      }
     },
     "aad93c0e7d474f4085f7a8b01a58a796": {
      "model_module": "@jupyter-widgets/base",
      "model_module_version": "2.0.0",
      "model_name": "LayoutModel",
      "state": {
       "width": "100%"
      }
     },
     "ab0d9f2773f34b898aca621279ad5443": {
      "model_module": "@jupyter-widgets/controls",
      "model_module_version": "2.0.0",
      "model_name": "DatePickerModel",
      "state": {
       "description": "Date",
       "disabled": false,
       "layout": "IPY_MODEL_47d9e8772960469e80d07017fac256eb",
       "max": null,
       "min": null,
       "step": 1,
       "style": "IPY_MODEL_637809b465ae4990b59aac3418915b39",
       "tooltip": "Date",
       "value": {
        "date": 7,
        "month": 3,
        "year": 2025
       }
      }
     },
     "acfb9c955b1441aeb01dd60aa3302a5b": {
      "model_module": "@jupyter-widgets/base",
      "model_module_version": "2.0.0",
      "model_name": "LayoutModel",
      "state": {
       "border_bottom": "none",
       "border_left": "none",
       "border_right": "none",
       "border_top": "none"
      }
     },
     "ad25ba426fc04a1a9679a64dc4fea988": {
      "model_module": "@jupyter-widgets/base",
      "model_module_version": "2.0.0",
      "model_name": "LayoutModel",
      "state": {
       "width": "100%"
      }
     },
     "ad35a5c35a5346939524317d36336ab0": {
      "model_module": "@jupyter-widgets/base",
      "model_module_version": "2.0.0",
      "model_name": "LayoutModel",
      "state": {}
     },
     "ada98fdb24c44494bb7811245dad4cde": {
      "model_module": "@jupyter-widgets/base",
      "model_module_version": "2.0.0",
      "model_name": "LayoutModel",
      "state": {
       "width": "100%"
      }
     },
     "add4a32626374607bfe547e01447c459": {
      "model_module": "@jupyter-widgets/controls",
      "model_module_version": "2.0.0",
      "model_name": "ButtonStyleModel",
      "state": {
       "font_family": null,
       "font_size": null,
       "font_style": null,
       "font_variant": null,
       "font_weight": null,
       "text_color": null,
       "text_decoration": null
      }
     },
     "adfc2c7c3ca049a3894b1fe7d21f9d32": {
      "model_module": "@jupyter-widgets/controls",
      "model_module_version": "2.0.0",
      "model_name": "LabelModel",
      "state": {
       "layout": "IPY_MODEL_3bcd3a07a25b4bbeb037afa5c46a5f69",
       "style": "IPY_MODEL_df7363deb94941e6a719925c03fd40b7",
       "value": "Height"
      }
     },
     "ae8a2efd2cff4078a5bda40aa62e6415": {
      "model_module": "@jupyter-widgets/base",
      "model_module_version": "2.0.0",
      "model_name": "LayoutModel",
      "state": {}
     },
     "af0a05ead0cf4fc1a94d2eed2b46d6d6": {
      "model_module": "@jupyter-widgets/base",
      "model_module_version": "2.0.0",
      "model_name": "LayoutModel",
      "state": {
       "width": "100%"
      }
     },
     "b0132214fb69449e8e2d443f26c69fdd": {
      "model_module": "@jupyter-widgets/base",
      "model_module_version": "2.0.0",
      "model_name": "LayoutModel",
      "state": {}
     },
     "b063db3394b944ad80322a4e13691865": {
      "model_module": "@jupyter-widgets/controls",
      "model_module_version": "2.0.0",
      "model_name": "LabelStyleModel",
      "state": {
       "description_width": "",
       "font_family": null,
       "font_size": null,
       "font_style": null,
       "font_variant": null,
       "font_weight": null,
       "text_color": null,
       "text_decoration": null
      }
     },
     "b2d18717501342e5bcdbe1e9e306d0ee": {
      "model_module": "@jupyter-widgets/controls",
      "model_module_version": "2.0.0",
      "model_name": "LabelModel",
      "state": {
       "layout": "IPY_MODEL_fe71589d9b0043e9835025591165785b",
       "style": "IPY_MODEL_78338015712a41c0a2b04d3c978a8a1a"
      }
     },
     "b46f30e42f2f4b868d5fedd3444369d5": {
      "model_module": "@jupyter-widgets/controls",
      "model_module_version": "2.0.0",
      "model_name": "ButtonStyleModel",
      "state": {
       "font_family": null,
       "font_size": null,
       "font_style": null,
       "font_variant": null,
       "font_weight": null,
       "text_color": null,
       "text_decoration": null
      }
     },
     "b53081c13b974c5488f35097ea3675d9": {
      "model_module": "@jupyter-widgets/base",
      "model_module_version": "2.0.0",
      "model_name": "LayoutModel",
      "state": {}
     },
     "b542033908614cf3b17aecd188b08df5": {
      "model_module": "@jupyter-widgets/base",
      "model_module_version": "2.0.0",
      "model_name": "LayoutModel",
      "state": {}
     },
     "b58cfd9ee74244ee964ebfe8a2901776": {
      "model_module": "@jupyter-widgets/controls",
      "model_module_version": "2.0.0",
      "model_name": "TimeModel",
      "state": {
       "description": "Time",
       "layout": "IPY_MODEL_1a83df5c39fb4dc99fb4e262c83b345c",
       "style": "IPY_MODEL_091fc2eaffbc4866859608fc19f9563c",
       "tooltip": "Time",
       "value": {
        "hours": 21,
        "milliseconds": 750,
        "minutes": 49,
        "seconds": 57
       }
      }
     },
     "b5da2755fa1d433bbfac34027a56eec4": {
      "model_module": "@jupyter-widgets/base",
      "model_module_version": "2.0.0",
      "model_name": "LayoutModel",
      "state": {
       "display": "none"
      }
     },
     "b61c758e9d7e4d64aa2995117047c1e4": {
      "model_module": "@jupyter-widgets/controls",
      "model_module_version": "2.0.0",
      "model_name": "LabelStyleModel",
      "state": {
       "description_width": "",
       "font_family": null,
       "font_size": null,
       "font_style": null,
       "font_variant": null,
       "font_weight": null,
       "text_color": null,
       "text_decoration": null
      }
     },
     "b6b49ff1fe2e4415b1f4fb0dcbd70c2e": {
      "model_module": "@jupyter-widgets/controls",
      "model_module_version": "2.0.0",
      "model_name": "DropdownModel",
      "state": {
       "_options_labels": [
        "red",
        "blue",
        "green"
       ],
       "index": null,
       "layout": "IPY_MODEL_c5dd8881763747d98ee8d6dc912a93d6",
       "style": "IPY_MODEL_588174e32b524f79ba8e62273c0b86a2",
       "tooltip": "ColorEnum"
      }
     },
     "b6db9c7a95e040c2a334657c6337b1b2": {
      "model_module": "@jupyter-widgets/base",
      "model_module_version": "2.0.0",
      "model_name": "LayoutModel",
      "state": {
       "display": "none"
      }
     },
     "b7178b29a2fe42999453bbe9a60a085d": {
      "model_module": "@jupyter-widgets/base",
      "model_module_version": "2.0.0",
      "model_name": "LayoutModel",
      "state": {
       "width": "100%"
      }
     },
     "b732821b50eb4dbcb3041e50e2b012a1": {
      "model_module": "@jupyter-widgets/base",
      "model_module_version": "2.0.0",
      "model_name": "LayoutModel",
      "state": {
       "width": "33%"
      }
     },
     "b775024f601547d7aa0667086b7049df": {
      "model_module": "@jupyter-widgets/controls",
      "model_module_version": "2.0.0",
      "model_name": "TextModel",
      "state": {
       "layout": "IPY_MODEL_92e492329ebb4bac98f610fba0218121",
       "style": "IPY_MODEL_e42ecbb35f024ca79d6f78b193d79487",
       "tooltip": "Street"
      }
     },
     "b856cfec7fba40b4a61a7334ec4610bc": {
      "model_module": "@jupyter-widgets/controls",
      "model_module_version": "2.0.0",
      "model_name": "LabelModel",
      "state": {
       "layout": "IPY_MODEL_37fd31be3e8e480591a19f1a10da9c27",
       "style": "IPY_MODEL_6236e6c618374ac089008977743d2b8a",
       "value": "Street"
      }
     },
     "b91a7224b50047a989eec1318dc224d3": {
      "model_module": "@jupyter-widgets/controls",
      "model_module_version": "2.0.0",
      "model_name": "LabelModel",
      "state": {
       "layout": "IPY_MODEL_659ad619a504430696dceb242d46e1de",
       "style": "IPY_MODEL_bdbb3db550134ca9ae969dfa4f9edc07"
      }
     },
     "b974f0d0d4d24df881832d170d10d0ce": {
      "model_module": "@jupyter-widgets/controls",
      "model_module_version": "2.0.0",
      "model_name": "LabelModel",
      "state": {
       "layout": "IPY_MODEL_1d0409104b2d4826a9ae5c84ec348bdd",
       "style": "IPY_MODEL_04c09f75fb344cdfadaca515eaaeeff1",
       "value": "Age"
      }
     },
     "b98a73d80d95461a81c4236b8fe76533": {
      "model_module": "@jupyter-widgets/base",
      "model_module_version": "2.0.0",
      "model_name": "LayoutModel",
      "state": {}
     },
     "ba94cbf449ff4517a6e7c185bb569dab": {
      "model_module": "@jupyter-widgets/base",
      "model_module_version": "2.0.0",
      "model_name": "LayoutModel",
      "state": {
       "display": "none"
      }
     },
     "baf7ee156f2e43be8c65fd6248c6a65b": {
      "model_module": "@jupyter-widgets/base",
      "model_module_version": "2.0.0",
      "model_name": "LayoutModel",
      "state": {
       "border_bottom": "none",
       "border_left": "none",
       "border_right": "none",
       "border_top": "none"
      }
     },
     "bb58833960c34fd49276b390204586f7": {
      "model_module": "@jupyter-widgets/base",
      "model_module_version": "2.0.0",
      "model_name": "LayoutModel",
      "state": {
       "width": "100%"
      }
     },
     "bc0b6cc5f35047e48a2609e7d6566137": {
      "model_module": "@jupyter-widgets/controls",
      "model_module_version": "2.0.0",
      "model_name": "LabelModel",
      "state": {
       "layout": "IPY_MODEL_7b884eb04cbc406987821364733436e3",
       "style": "IPY_MODEL_ffbe64fe31eb41dd976c4d5dcfed62cb",
       "value": "Name"
      }
     },
     "bc39515f4da9407cb3f5bd04d9f7524f": {
      "model_module": "@jupyter-widgets/controls",
      "model_module_version": "2.0.0",
      "model_name": "TimeModel",
      "state": {
       "description": "Time",
       "layout": "IPY_MODEL_1098cb61be9a46bc8b930884cde1afc0",
       "style": "IPY_MODEL_d2995262d9a34a3c90493a9308014cb9",
       "tooltip": "Time",
       "value": {
        "hours": 21,
        "milliseconds": 192,
        "minutes": 36,
        "seconds": 10
       }
      }
     },
     "bc8a87ec68ff4330a3cf408c49133fa4": {
      "model_module": "@jupyter-widgets/controls",
      "model_module_version": "2.0.0",
      "model_name": "LabelModel",
      "state": {
       "layout": "IPY_MODEL_10e356e5fd9a43a8adf1603d46f60080",
       "style": "IPY_MODEL_4a0efb7a79364ddf9efdd1fd8c789a9b",
       "value": "Name"
      }
     },
     "bca44f062c344b4fa4b1c3cffe9d8ce7": {
      "model_module": "@jupyter-widgets/base",
      "model_module_version": "2.0.0",
      "model_name": "LayoutModel",
      "state": {
       "border_bottom": "none",
       "border_left": "none",
       "border_right": "none",
       "border_top": "none"
      }
     },
     "bcd40d37614445cbb25e56d73a345868": {
      "model_module": "@jupyter-widgets/controls",
      "model_module_version": "2.0.0",
      "model_name": "TextStyleModel",
      "state": {
       "description_width": "",
       "font_size": null,
       "text_color": null
      }
     },
     "bd69c584e8e44fb0b3ab07702db97949": {
      "model_module": "@jupyter-widgets/base",
      "model_module_version": "2.0.0",
      "model_name": "LayoutModel",
      "state": {}
     },
     "bdbb3db550134ca9ae969dfa4f9edc07": {
      "model_module": "@jupyter-widgets/controls",
      "model_module_version": "2.0.0",
      "model_name": "LabelStyleModel",
      "state": {
       "description_width": "",
       "font_family": null,
       "font_size": null,
       "font_style": null,
       "font_variant": null,
       "font_weight": null,
       "text_color": null,
       "text_decoration": null
      }
     },
     "be004a88956a4dd3ab7b17adc76c456f": {
      "model_module": "@jupyter-widgets/controls",
      "model_module_version": "2.0.0",
      "model_name": "LabelStyleModel",
      "state": {
       "description_width": "",
       "font_family": null,
       "font_size": null,
       "font_style": null,
       "font_variant": null,
       "font_weight": null,
       "text_color": null,
       "text_decoration": null
      }
     },
     "be96c817819047839a984f44a3e430c1": {
      "model_module": "@jupyter-widgets/controls",
      "model_module_version": "2.0.0",
      "model_name": "HBoxModel",
      "state": {
       "children": [
        "IPY_MODEL_16417c44b6f5418eaeeff9de70f9fe3b",
        "IPY_MODEL_a3a2a1e6d210453594c81617a63774e6"
       ],
       "layout": "IPY_MODEL_ad25ba426fc04a1a9679a64dc4fea988"
      }
     },
     "bf5273fb28454452b2f89bbe67159b3b": {
      "model_module": "@jupyter-widgets/base",
      "model_module_version": "2.0.0",
      "model_name": "LayoutModel",
      "state": {
       "width": "100%"
      }
     },
     "c04c2cf322c743309a31184f6bf6c040": {
      "model_module": "@jupyter-widgets/controls",
      "model_module_version": "2.0.0",
      "model_name": "CheckboxStyleModel",
      "state": {
       "description_width": ""
      }
     },
     "c063e273b5104f0599439b5015d22f5a": {
      "model_module": "@jupyter-widgets/base",
      "model_module_version": "2.0.0",
      "model_name": "LayoutModel",
      "state": {
       "width": "100%"
      }
     },
     "c066a611955f412f8e39872adac25004": {
      "model_module": "@jupyter-widgets/base",
      "model_module_version": "2.0.0",
      "model_name": "LayoutModel",
      "state": {}
     },
     "c09298afeb7842ed91fd4ad8c301243f": {
      "model_module": "@jupyter-widgets/base",
      "model_module_version": "2.0.0",
      "model_name": "LayoutModel",
      "state": {}
     },
     "c22d886374f64545b9cb9276fd75b9b6": {
      "model_module": "@jupyter-widgets/base",
      "model_module_version": "2.0.0",
      "model_name": "LayoutModel",
      "state": {}
     },
     "c22f2c22be34411a87e2d9fad0137db2": {
      "model_module": "@jupyter-widgets/controls",
      "model_module_version": "2.0.0",
      "model_name": "HBoxModel",
      "state": {
       "children": [
        "IPY_MODEL_b974f0d0d4d24df881832d170d10d0ce",
        "IPY_MODEL_3c1183b7522140799fb32580fbee8dbd"
       ],
       "layout": "IPY_MODEL_10e5b749b5c44be5bedf589f35e59d15"
      }
     },
     "c2347e86091c4d5fbe49e6532126bd50": {
      "model_module": "@jupyter-widgets/base",
      "model_module_version": "2.0.0",
      "model_name": "LayoutModel",
      "state": {
       "width": "100%"
      }
     },
     "c2c15f0de983411dace33c15615981c6": {
      "model_module": "@jupyter-widgets/controls",
      "model_module_version": "2.0.0",
      "model_name": "CheckboxStyleModel",
      "state": {
       "description_width": ""
      }
     },
     "c2d005de8a774ead8d161d4e29f71ce2": {
      "model_module": "@jupyter-widgets/base",
      "model_module_version": "2.0.0",
      "model_name": "LayoutModel",
      "state": {}
     },
     "c353fdb1d22946f980e9a4fe29b94abe": {
      "model_module": "@jupyter-widgets/base",
      "model_module_version": "2.0.0",
      "model_name": "LayoutModel",
      "state": {
       "width": "100%"
      }
     },
     "c3af39b60c434cbc988766a32574cb61": {
      "model_module": "@jupyter-widgets/controls",
      "model_module_version": "2.0.0",
      "model_name": "TextStyleModel",
      "state": {
       "description_width": "",
       "font_size": null,
       "text_color": null
      }
     },
     "c449448c6a9741cba1c4911a0511c309": {
      "model_module": "@jupyter-widgets/controls",
      "model_module_version": "2.0.0",
      "model_name": "VBoxModel",
      "state": {
       "children": [
        "IPY_MODEL_a6cddc92846b4cec982e9d2ebcb1c081",
        "IPY_MODEL_63a546b33014462e97373d9ce74e9990"
       ],
       "layout": "IPY_MODEL_ef90d5ac79554d229edef40e2fe59361"
      }
     },
     "c4795a854c5048cc81dae97f47bfb502": {
      "model_module": "@jupyter-widgets/controls",
      "model_module_version": "2.0.0",
      "model_name": "DescriptionStyleModel",
      "state": {
       "description_width": ""
      }
     },
     "c4f607d7ad434dd790f05486fe03dcc9": {
      "model_module": "@jupyter-widgets/controls",
      "model_module_version": "2.0.0",
      "model_name": "TextStyleModel",
      "state": {
       "description_width": "",
       "font_size": null,
       "text_color": null
      }
     },
     "c53f83a7f46e4aaeb24e1e5ad879f22d": {
      "model_module": "@jupyter-widgets/controls",
      "model_module_version": "2.0.0",
      "model_name": "HBoxModel",
      "state": {
       "children": [
        "IPY_MODEL_fbd3d96a207148c0ac708e933a115648"
       ],
       "layout": "IPY_MODEL_d3a11996669b4a89ae2fa1001d7ea045"
      }
     },
     "c571610c3a934afc875c636fa67e14a2": {
      "model_module": "@jupyter-widgets/base",
      "model_module_version": "2.0.0",
      "model_name": "LayoutModel",
      "state": {
       "width": "100%"
      }
     },
     "c591e5dce8044c9fb768222a4ba22cce": {
      "model_module": "@jupyter-widgets/controls",
      "model_module_version": "2.0.0",
      "model_name": "LabelStyleModel",
      "state": {
       "description_width": "",
       "font_family": null,
       "font_size": null,
       "font_style": null,
       "font_variant": null,
       "font_weight": null,
       "text_color": null,
       "text_decoration": null
      }
     },
     "c5dd8881763747d98ee8d6dc912a93d6": {
      "model_module": "@jupyter-widgets/base",
      "model_module_version": "2.0.0",
      "model_name": "LayoutModel",
      "state": {
       "width": "100%"
      }
     },
     "c60b4e87a17a47d4968ba8f00286c5f9": {
      "model_module": "@jupyter-widgets/controls",
      "model_module_version": "2.0.0",
      "model_name": "LabelModel",
      "state": {
       "layout": "IPY_MODEL_25f062358ce84304a70f9501b9e2bd78",
       "style": "IPY_MODEL_f87ee4105d744d5a89e48a84039b11d8"
      }
     },
     "c644362fd54d44edb182c1af68bfd070": {
      "model_module": "@jupyter-widgets/base",
      "model_module_version": "2.0.0",
      "model_name": "LayoutModel",
      "state": {
       "width": "100%"
      }
     },
     "c758f4010df041cbb722720cfc894e42": {
      "model_module": "@jupyter-widgets/base",
      "model_module_version": "2.0.0",
      "model_name": "LayoutModel",
      "state": {
       "width": "100%"
      }
     },
     "c779b5258d514d36aab698891b552a9d": {
      "model_module": "@jupyter-widgets/base",
      "model_module_version": "2.0.0",
      "model_name": "LayoutModel",
      "state": {}
     },
     "c8152d4343fa4c3fbbbb9a01b5654717": {
      "model_module": "@jupyter-widgets/controls",
      "model_module_version": "2.0.0",
      "model_name": "LabelStyleModel",
      "state": {
       "description_width": "",
       "font_family": null,
       "font_size": null,
       "font_style": null,
       "font_variant": null,
       "font_weight": null,
       "text_color": null,
       "text_decoration": null
      }
     },
     "c8541f496ddc47349b4a0bb4cac579d3": {
      "model_module": "@jupyter-widgets/base",
      "model_module_version": "2.0.0",
      "model_name": "LayoutModel",
      "state": {
       "display": "none"
      }
     },
     "c9494e3122f24477b0494df9bf20bb69": {
      "model_module": "@jupyter-widgets/base",
      "model_module_version": "2.0.0",
      "model_name": "LayoutModel",
      "state": {}
     },
     "cb1fdeb52fec4132b62d4d84cbb5664a": {
      "model_module": "@jupyter-widgets/controls",
      "model_module_version": "2.0.0",
      "model_name": "TextModel",
      "state": {
       "layout": "IPY_MODEL_a4df6e71f9ba476d890340bb9ec33708",
       "style": "IPY_MODEL_11b12f5f0a0b43efb4bdb8d6b40b0441",
       "tooltip": "Email Wrong"
      }
     },
     "cbe8b1d7897349cf86c3e47fa16732b8": {
      "model_module": "@jupyter-widgets/controls",
      "model_module_version": "2.0.0",
      "model_name": "TextModel",
      "state": {
       "layout": "IPY_MODEL_81775da37a4546498554e26868438902",
       "style": "IPY_MODEL_9c888634938f44cf8b415f97ba7c2229",
       "tooltip": "City"
      }
     },
     "cc6cc509a87549f5b8b9c8d38e8e203d": {
      "model_module": "@jupyter-widgets/base",
      "model_module_version": "2.0.0",
      "model_name": "LayoutModel",
      "state": {}
     },
     "cc94ad2a3b9940c8909b8601d329c4cc": {
      "model_module": "@jupyter-widgets/controls",
      "model_module_version": "2.0.0",
      "model_name": "TextStyleModel",
      "state": {
       "description_width": "",
       "font_size": null,
       "text_color": null
      }
     },
     "cceccf7d296c409488b41bef27b885e1": {
      "model_module": "@jupyter-widgets/base",
      "model_module_version": "2.0.0",
      "model_name": "LayoutModel",
      "state": {}
     },
     "cd4dd90c71cb4cca8ec901fc6d3ec532": {
      "model_module": "@jupyter-widgets/base",
      "model_module_version": "2.0.0",
      "model_name": "LayoutModel",
      "state": {
       "width": "100%"
      }
     },
     "cdb1edcad9fa4cb5bfb9608961bf36de": {
      "model_module": "@jupyter-widgets/base",
      "model_module_version": "2.0.0",
      "model_name": "LayoutModel",
      "state": {
       "width": "100%"
      }
     },
     "cdd6321affe54d38bf22960ea8cdb6ad": {
      "model_module": "@jupyter-widgets/base",
      "model_module_version": "2.0.0",
      "model_name": "LayoutModel",
      "state": {
       "width": "33%"
      }
     },
     "cdfca9345501401d9a777460ab167ea1": {
      "model_module": "@jupyter-widgets/base",
      "model_module_version": "2.0.0",
      "model_name": "LayoutModel",
      "state": {
       "display": "none"
      }
     },
     "ce265f175302421897478c90b2a87026": {
      "model_module": "@jupyter-widgets/base",
      "model_module_version": "2.0.0",
      "model_name": "LayoutModel",
      "state": {}
     },
     "ce7519e14e6642ab9ed86cbb601c8957": {
      "model_module": "@jupyter-widgets/controls",
      "model_module_version": "2.0.0",
      "model_name": "TextStyleModel",
      "state": {
       "description_width": "",
       "font_size": null,
       "text_color": null
      }
     },
     "cedb698f932b43508529bac52537dcbf": {
      "model_module": "@jupyter-widgets/controls",
      "model_module_version": "2.0.0",
      "model_name": "DescriptionStyleModel",
      "state": {
       "description_width": ""
      }
     },
     "cf2a6c72e4294df78e6f74fcf75765d6": {
      "model_module": "@jupyter-widgets/controls",
      "model_module_version": "2.0.0",
      "model_name": "LabelModel",
      "state": {
       "layout": "IPY_MODEL_cdfca9345501401d9a777460ab167ea1",
       "style": "IPY_MODEL_5b371f37efc24e919e6eec1b26394f62"
      }
     },
     "cf5ebd59a5f94185b7cbeddb4b8c4092": {
      "model_module": "@jupyter-widgets/base",
      "model_module_version": "2.0.0",
      "model_name": "LayoutModel",
      "state": {}
     },
     "d18bace6529f47eb8b8a9209b4bba478": {
      "model_module": "@jupyter-widgets/controls",
      "model_module_version": "2.0.0",
      "model_name": "TextStyleModel",
      "state": {
       "description_width": "",
       "font_size": null,
       "text_color": null
      }
     },
     "d23835c829f84b23b3b25f71d5806959": {
      "model_module": "@jupyter-widgets/controls",
      "model_module_version": "2.0.0",
      "model_name": "LabelModel",
      "state": {
       "layout": "IPY_MODEL_3a05ffe0abb047a5b8bf79ebf0500166",
       "style": "IPY_MODEL_65237bfa3dbe4e2889e5d2d7f7c173a6"
      }
     },
     "d25e029b53244377907de33272f3b315": {
      "model_module": "@jupyter-widgets/controls",
      "model_module_version": "2.0.0",
      "model_name": "LabelStyleModel",
      "state": {
       "description_width": "",
       "font_family": null,
       "font_size": null,
       "font_style": null,
       "font_variant": null,
       "font_weight": null,
       "text_color": null,
       "text_decoration": null
      }
     },
     "d2995262d9a34a3c90493a9308014cb9": {
      "model_module": "@jupyter-widgets/controls",
      "model_module_version": "2.0.0",
      "model_name": "DescriptionStyleModel",
      "state": {
       "description_width": ""
      }
     },
     "d2b8c2470080404d97217944f193eae1": {
      "model_module": "@jupyter-widgets/base",
      "model_module_version": "2.0.0",
      "model_name": "LayoutModel",
      "state": {}
     },
     "d3a11996669b4a89ae2fa1001d7ea045": {
      "model_module": "@jupyter-widgets/base",
      "model_module_version": "2.0.0",
      "model_name": "LayoutModel",
      "state": {
       "width": "100%"
      }
     },
     "d3acec39f77341a6831da5f6a88e60c5": {
      "model_module": "@jupyter-widgets/base",
      "model_module_version": "2.0.0",
      "model_name": "LayoutModel",
      "state": {}
     },
     "d43dc67803d6489e98531689f73da58f": {
      "model_module": "@jupyter-widgets/base",
      "model_module_version": "2.0.0",
      "model_name": "LayoutModel",
      "state": {
       "width": "100%"
      }
     },
     "d57189cdc6574ec2baf0aa635193ad95": {
      "model_module": "@jupyter-widgets/base",
      "model_module_version": "2.0.0",
      "model_name": "LayoutModel",
      "state": {
       "width": "100%"
      }
     },
     "d58a02fe9f2444b799b97926a937c60f": {
      "model_module": "@jupyter-widgets/controls",
      "model_module_version": "2.0.0",
      "model_name": "TextStyleModel",
      "state": {
       "description_width": "",
       "font_size": null,
       "text_color": null
      }
     },
     "d62c2417412948debc0013e95d9b9873": {
      "model_module": "@jupyter-widgets/controls",
      "model_module_version": "2.0.0",
      "model_name": "LabelModel",
      "state": {
       "layout": "IPY_MODEL_aaa1360c2503464997ad0ab59c172833",
       "style": "IPY_MODEL_c591e5dce8044c9fb768222a4ba22cce",
       "value": "ColorEnum"
      }
     },
     "d686f5f777c4489eb98724f89f68feed": {
      "model_module": "@jupyter-widgets/base",
      "model_module_version": "2.0.0",
      "model_name": "LayoutModel",
      "state": {}
     },
     "d7926233b589437b895da904cc5313b9": {
      "model_module": "@jupyter-widgets/controls",
      "model_module_version": "2.0.0",
      "model_name": "TextModel",
      "state": {
       "layout": "IPY_MODEL_05775e51ae7a4dc299f4254ff66356b4",
       "style": "IPY_MODEL_6b376c33d1d042f7a5393fd581500d36",
       "tooltip": "Text"
      }
     },
     "d8e423f4f19848d29361204fb608871c": {
      "model_module": "@jupyter-widgets/controls",
      "model_module_version": "2.0.0",
      "model_name": "TextStyleModel",
      "state": {
       "description_width": "",
       "font_size": null,
       "text_color": null
      }
     },
     "d915ae1e755649379d16a5072ab9bf8c": {
      "model_module": "@jupyter-widgets/controls",
      "model_module_version": "2.0.0",
      "model_name": "AccordionModel",
      "state": {
       "children": [
        "IPY_MODEL_da60676473d6486599fcad6e2515b456"
       ],
       "layout": "IPY_MODEL_7b71fc4a30a6471481b6a04a90d33106",
       "titles": [
        "Id"
       ]
      }
     },
     "da54921a41ac4fc2b61c2d7e90a477be": {
      "model_module": "@jupyter-widgets/controls",
      "model_module_version": "2.0.0",
      "model_name": "HBoxModel",
      "state": {
       "children": [
        "IPY_MODEL_db906d8a16ef4b3499177c79ed6e3e70"
       ],
       "layout": "IPY_MODEL_1c0caed626714f9586fa12cf2c257093"
      }
     },
     "da60676473d6486599fcad6e2515b456": {
      "model_module": "@jupyter-widgets/controls",
      "model_module_version": "2.0.0",
      "model_name": "VBoxModel",
      "state": {
       "children": [
        "IPY_MODEL_f69eeefc52834e6abff11a86d8307007"
       ],
       "layout": "IPY_MODEL_130e23373e5b415b8b2c3ca446c007f4"
      }
     },
     "db3dfbad2bea44ff91df164a3517974a": {
      "model_module": "@jupyter-widgets/controls",
      "model_module_version": "2.0.0",
      "model_name": "DescriptionStyleModel",
      "state": {
       "description_width": ""
      }
     },
     "db6b85abcf9a41429bd7b7dd91a87ac3": {
      "model_module": "@jupyter-widgets/controls",
      "model_module_version": "2.0.0",
      "model_name": "DescriptionStyleModel",
      "state": {
       "description_width": ""
      }
     },
     "db7a18d82eed4a1482325fe6fb662974": {
      "model_module": "@jupyter-widgets/base",
      "model_module_version": "2.0.0",
      "model_name": "LayoutModel",
      "state": {
       "display": "none"
      }
     },
     "db906d8a16ef4b3499177c79ed6e3e70": {
      "model_module": "@jupyter-widgets/controls",
      "model_module_version": "2.0.0",
      "model_name": "TimeModel",
      "state": {
       "description": "Time",
       "layout": "IPY_MODEL_c2347e86091c4d5fbe49e6532126bd50",
       "style": "IPY_MODEL_412be107dda744bd884cd7a403dc2f2f",
       "tooltip": "Time",
       "value": {
        "hours": 21,
        "milliseconds": 948,
        "minutes": 49,
        "seconds": 54
       }
      }
     },
     "dbb57ff5a34b4506ad6e54112bd67cb6": {
      "model_module": "@jupyter-widgets/controls",
      "model_module_version": "2.0.0",
      "model_name": "LabelModel",
      "state": {
       "layout": "IPY_MODEL_c8541f496ddc47349b4a0bb4cac579d3",
       "style": "IPY_MODEL_a2328b2a2f6d40fb9b4d53c74f0b1b06"
      }
     },
     "dd0aa3e5eba14309a7067b48c8c314f1": {
      "model_module": "@jupyter-widgets/controls",
      "model_module_version": "2.0.0",
      "model_name": "VBoxModel",
      "state": {
       "children": [
        "IPY_MODEL_d915ae1e755649379d16a5072ab9bf8c"
       ],
       "layout": "IPY_MODEL_13011178f6e14edd873fe0644d705edc"
      }
     },
     "dd1e335ae2594f309e3600512d094de3": {
      "model_module": "@jupyter-widgets/controls",
      "model_module_version": "2.0.0",
      "model_name": "ButtonStyleModel",
      "state": {
       "font_family": null,
       "font_size": null,
       "font_style": null,
       "font_variant": null,
       "font_weight": null,
       "text_color": null,
       "text_decoration": null
      }
     },
     "dd44189e7d5944d49ee98ba1aefdff9a": {
      "model_module": "@jupyter-widgets/controls",
      "model_module_version": "2.0.0",
      "model_name": "LabelModel",
      "state": {
       "layout": "IPY_MODEL_b5da2755fa1d433bbfac34027a56eec4",
       "style": "IPY_MODEL_87aae41ea959451096a2e5ef00a047ec"
      }
     },
     "dd731b4b3b244606bbde1a1fdd70433f": {
      "model_module": "@jupyter-widgets/base",
      "model_module_version": "2.0.0",
      "model_name": "LayoutModel",
      "state": {
       "width": "100%"
      }
     },
     "de20ccba9b7c4c13b6fcdb120a3cc1ee": {
      "model_module": "@jupyter-widgets/base",
      "model_module_version": "2.0.0",
      "model_name": "LayoutModel",
      "state": {}
     },
     "de8eaacdb8c84599ac9953c6a082c17e": {
      "model_module": "@jupyter-widgets/controls",
      "model_module_version": "2.0.0",
      "model_name": "HBoxModel",
      "state": {
       "children": [
        "IPY_MODEL_381de565be884db08bfcda55c8dd4e12",
        "IPY_MODEL_40bc488081ae48a1b7dac39cdfa36e50"
       ],
       "layout": "IPY_MODEL_e7ba1759f27246b4940119e2b4d90847"
      }
     },
     "def50d763b1a4f6cb34813332653a129": {
      "model_module": "@jupyter-widgets/controls",
      "model_module_version": "2.0.0",
      "model_name": "LabelModel",
      "state": {
       "layout": "IPY_MODEL_f24415dafe6341e2a23546fc47b3b859",
       "style": "IPY_MODEL_d25e029b53244377907de33272f3b315",
       "value": "Email"
      }
     },
     "df7363deb94941e6a719925c03fd40b7": {
      "model_module": "@jupyter-widgets/controls",
      "model_module_version": "2.0.0",
      "model_name": "LabelStyleModel",
      "state": {
       "description_width": "",
       "font_family": null,
       "font_size": null,
       "font_style": null,
       "font_variant": null,
       "font_weight": null,
       "text_color": null,
       "text_decoration": null
      }
     },
     "e045c57cfde24d0395de9d6156237759": {
      "model_module": "@jupyter-widgets/base",
      "model_module_version": "2.0.0",
      "model_name": "LayoutModel",
      "state": {
       "width": "100%"
      }
     },
     "e068e94f6b4c4a56af17c4bc288256b4": {
      "model_module": "@jupyter-widgets/controls",
      "model_module_version": "2.0.0",
      "model_name": "LabelStyleModel",
      "state": {
       "description_width": "",
       "font_family": null,
       "font_size": null,
       "font_style": null,
       "font_variant": null,
       "font_weight": null,
       "text_color": null,
       "text_decoration": null
      }
     },
     "e07ad4271fc94efc92b1d9019edba293": {
      "model_module": "@jupyter-widgets/base",
      "model_module_version": "2.0.0",
      "model_name": "LayoutModel",
      "state": {
       "width": "100%"
      }
     },
     "e112f8043a104d4c8c7353c7eceb7c87": {
      "model_module": "@jupyter-widgets/base",
      "model_module_version": "2.0.0",
      "model_name": "LayoutModel",
      "state": {
       "border_bottom": "none",
       "border_left": "none",
       "border_right": "none",
       "border_top": "none"
      }
     },
     "e15a1ea7611d45229abdcda821eb3a01": {
      "model_module": "@jupyter-widgets/base",
      "model_module_version": "2.0.0",
      "model_name": "LayoutModel",
      "state": {
       "width": "100%"
      }
     },
     "e1b92b687ac146c7bae79e17ee7b3b4f": {
      "model_module": "@jupyter-widgets/controls",
      "model_module_version": "2.0.0",
      "model_name": "VBoxModel",
      "state": {
       "children": [
        "IPY_MODEL_6f19e8e7704743fcb60a2ead1faa8b94",
        "IPY_MODEL_184dc3f08576428fbbc018a6112f1dc1"
       ],
       "layout": "IPY_MODEL_272b526492f6494f8877a336828f2e6b"
      }
     },
     "e1e951d3397b499f921683d61ae79671": {
      "model_module": "@jupyter-widgets/base",
      "model_module_version": "2.0.0",
      "model_name": "LayoutModel",
      "state": {
       "width": "100%"
      }
     },
     "e27510056282475da97da081cdf6bf88": {
      "model_module": "@jupyter-widgets/controls",
      "model_module_version": "2.0.0",
      "model_name": "DescriptionStyleModel",
      "state": {
       "description_width": ""
      }
     },
     "e42ecbb35f024ca79d6f78b193d79487": {
      "model_module": "@jupyter-widgets/controls",
      "model_module_version": "2.0.0",
      "model_name": "TextStyleModel",
      "state": {
       "description_width": "",
       "font_size": null,
       "text_color": null
      }
     },
     "e441944b7db4418f954f3079146c0181": {
      "model_module": "@jupyter-widgets/controls",
      "model_module_version": "2.0.0",
      "model_name": "ButtonModel",
      "state": {
       "description": "Add entry",
       "icon": "plus",
       "layout": "IPY_MODEL_f821a6e0213b418a9c91af0b6f3801ec",
       "style": "IPY_MODEL_469c041bfe5a4596a1720c70721738ac",
       "tooltip": null
      }
     },
     "e49d753e143c4776b375841d93eaedc0": {
      "model_module": "@jupyter-widgets/base",
      "model_module_version": "2.0.0",
      "model_name": "LayoutModel",
      "state": {
       "width": "100%"
      }
     },
     "e573e16e509a4f56a784df8ce540bc4e": {
      "model_module": "@jupyter-widgets/controls",
      "model_module_version": "2.0.0",
      "model_name": "LabelModel",
      "state": {
       "layout": "IPY_MODEL_7981bfa9cd9d4622abbcc73676f29ef4",
       "style": "IPY_MODEL_61b54e3e962942f6a01da888266b5212",
       "value": "Email"
      }
     },
     "e66eb46fd2bf40308350db7549d7ed68": {
      "model_module": "@jupyter-widgets/controls",
      "model_module_version": "2.0.0",
      "model_name": "LabelModel",
      "state": {
       "layout": "IPY_MODEL_2aab23ad4da6415b856719d6ba6b31fd",
       "style": "IPY_MODEL_b61c758e9d7e4d64aa2995117047c1e4"
      }
     },
     "e69138c3c57a49a28dcae69392a4a9dc": {
      "model_module": "@jupyter-widgets/base",
      "model_module_version": "2.0.0",
      "model_name": "LayoutModel",
      "state": {}
     },
     "e6f32340e8184cd7be757c93340f0d93": {
      "model_module": "@jupyter-widgets/base",
      "model_module_version": "2.0.0",
      "model_name": "LayoutModel",
      "state": {
       "border_bottom": "none",
       "border_left": "none",
       "border_right": "none",
       "border_top": "none"
      }
     },
     "e753ddc2c7de4ab7befcad0d11917e9f": {
      "model_module": "@jupyter-widgets/controls",
      "model_module_version": "2.0.0",
      "model_name": "LabelModel",
      "state": {
       "layout": "IPY_MODEL_26a427f4dc3d48f294c7464f26dbff25",
       "style": "IPY_MODEL_3ebc95a481254f39b8354930a96cf370",
       "value": "Value"
      }
     },
     "e789f17d21024e1b99d6a229c330d7a1": {
      "model_module": "@jupyter-widgets/base",
      "model_module_version": "2.0.0",
      "model_name": "LayoutModel",
      "state": {
       "width": "100%"
      }
     },
     "e7a60fa6320b4de2bb90fabf6c787da9": {
      "model_module": "@jupyter-widgets/controls",
      "model_module_version": "2.0.0",
      "model_name": "VBoxModel",
      "state": {
       "children": [
        "IPY_MODEL_912936adcb4c414aa7bea02b92337327"
       ],
       "layout": "IPY_MODEL_cc6cc509a87549f5b8b9c8d38e8e203d"
      }
     },
     "e7ba1759f27246b4940119e2b4d90847": {
      "model_module": "@jupyter-widgets/base",
      "model_module_version": "2.0.0",
      "model_name": "LayoutModel",
      "state": {
       "width": "100%"
      }
     },
     "e7d81cbe747044a091eb1c5ef6aed653": {
      "model_module": "@jupyter-widgets/controls",
      "model_module_version": "2.0.0",
      "model_name": "HBoxModel",
      "state": {
       "children": [
        "IPY_MODEL_91172e219d774429a59077507f1574cb"
       ],
       "layout": "IPY_MODEL_c758f4010df041cbb722720cfc894e42"
      }
     },
     "e900487c60c04be4b21df393424b9e48": {
      "model_module": "@jupyter-widgets/base",
      "model_module_version": "2.0.0",
      "model_name": "LayoutModel",
      "state": {
       "width": "100%"
      }
     },
     "e91bca31bbbc444c8d34114a8f3ba1f3": {
      "model_module": "@jupyter-widgets/controls",
      "model_module_version": "2.0.0",
      "model_name": "TimeModel",
      "state": {
       "description": "Time",
       "layout": "IPY_MODEL_42ff1870d6d8490d84a957a4e355078c",
       "style": "IPY_MODEL_86056b10f56b47caa11bdc76d86a21e6",
       "tooltip": "Time",
       "value": {
        "hours": 21,
        "milliseconds": 851,
        "minutes": 51,
        "seconds": 58
       }
      }
     },
     "e9efc3ce1be846159454e17216bb4e0c": {
      "model_module": "@jupyter-widgets/base",
      "model_module_version": "2.0.0",
      "model_name": "LayoutModel",
      "state": {}
     },
     "eb17d2336e464632a25efd5cfe9bc0d7": {
      "model_module": "@jupyter-widgets/controls",
      "model_module_version": "2.0.0",
      "model_name": "VBoxModel",
      "state": {
       "children": [
        "IPY_MODEL_63c9f76e4da946bfac6bdfb6c24eb9b8",
        "IPY_MODEL_4c53a0235d9544da9b2ce06475c81990",
        "IPY_MODEL_327663a40d7f4d4397e001a8bbab4b94",
        "IPY_MODEL_b2d18717501342e5bcdbe1e9e306d0ee"
       ],
       "layout": "IPY_MODEL_2db770d21e55462fbb5213bdb198c621"
      }
     },
     "ec9aca5d41d04ccba23c910a5d392727": {
      "model_module": "@jupyter-widgets/controls",
      "model_module_version": "2.0.0",
      "model_name": "HBoxModel",
      "state": {
       "children": [
        "IPY_MODEL_6cf64b04991f47e384071e53a6392799"
       ],
       "layout": "IPY_MODEL_e900487c60c04be4b21df393424b9e48"
      }
     },
     "eca9a4ae02774eeba7ceaf7dd4953d71": {
      "model_module": "@jupyter-widgets/base",
      "model_module_version": "2.0.0",
      "model_name": "LayoutModel",
      "state": {}
     },
     "ecbca62a20214aa381e1105bb48aa0ee": {
      "model_module": "@jupyter-widgets/controls",
      "model_module_version": "2.0.0",
      "model_name": "HBoxModel",
      "state": {
       "children": [
        "IPY_MODEL_893a39ce363b46f1b65c08c05c138982",
        "IPY_MODEL_cb1fdeb52fec4132b62d4d84cbb5664a"
       ],
       "layout": "IPY_MODEL_f5287c0d402d484a96d43c841019bc49"
      }
     },
     "ed69c019bf96402ca6f6e264a07224fd": {
      "model_module": "@jupyter-widgets/controls",
      "model_module_version": "2.0.0",
      "model_name": "LabelStyleModel",
      "state": {
       "description_width": "",
       "font_family": null,
       "font_size": null,
       "font_style": null,
       "font_variant": null,
       "font_weight": null,
       "text_color": null,
       "text_decoration": null
      }
     },
     "ee0a38b4ddaa4f38923213b3641d652f": {
      "model_module": "@jupyter-widgets/controls",
      "model_module_version": "2.0.0",
      "model_name": "TextStyleModel",
      "state": {
       "description_width": "",
       "font_size": null,
       "text_color": null
      }
     },
     "ee37fc4e432e448f8749af024a1d045b": {
      "model_module": "@jupyter-widgets/base",
      "model_module_version": "2.0.0",
      "model_name": "LayoutModel",
      "state": {
       "border_bottom": "none",
       "border_left": "none",
       "border_right": "none",
       "border_top": "none"
      }
     },
     "eea5ff1783424946bce88ce85e7a832c": {
      "model_module": "@jupyter-widgets/base",
      "model_module_version": "2.0.0",
      "model_name": "LayoutModel",
      "state": {}
     },
     "eef429364eb24308a61c62eade6dac9c": {
      "model_module": "@jupyter-widgets/controls",
      "model_module_version": "2.0.0",
      "model_name": "LabelModel",
      "state": {
       "layout": "IPY_MODEL_9ce2b79287f549519df3fd2ba27b1010",
       "style": "IPY_MODEL_2271220fcc2e48d1bc5fea45eb9e98f3"
      }
     },
     "ef2605c8e8e74c838e64438772c67036": {
      "model_module": "@jupyter-widgets/controls",
      "model_module_version": "2.0.0",
      "model_name": "LabelStyleModel",
      "state": {
       "description_width": "",
       "font_family": null,
       "font_size": null,
       "font_style": null,
       "font_variant": null,
       "font_weight": null,
       "text_color": null,
       "text_decoration": null
      }
     },
     "ef90d5ac79554d229edef40e2fe59361": {
      "model_module": "@jupyter-widgets/base",
      "model_module_version": "2.0.0",
      "model_name": "LayoutModel",
      "state": {
       "width": "100%"
      }
     },
     "eff22cf5138b46f19e5ab806707b9a5e": {
      "model_module": "@jupyter-widgets/controls",
      "model_module_version": "2.0.0",
      "model_name": "TextModel",
      "state": {
       "layout": "IPY_MODEL_1767e77b064c443483a7f255cbd132de",
       "style": "IPY_MODEL_4c38ebf7d410466cbd19d4c5d6c54379",
       "tooltip": "Email",
       "value": "default@example.com"
      }
     },
     "f05dbef8d27c4065b8505ea683710277": {
      "model_module": "@jupyter-widgets/controls",
      "model_module_version": "2.0.0",
      "model_name": "LabelStyleModel",
      "state": {
       "description_width": "",
       "font_family": null,
       "font_size": null,
       "font_style": null,
       "font_variant": null,
       "font_weight": null,
       "text_color": null,
       "text_decoration": null
      }
     },
     "f0c1ed3fd7254cd5aeeaafc5e577f970": {
      "model_module": "@jupyter-widgets/base",
      "model_module_version": "2.0.0",
      "model_name": "LayoutModel",
      "state": {
       "width": "100%"
      }
     },
     "f1a9d65fea14452eb89a77f69926da71": {
      "model_module": "@jupyter-widgets/base",
      "model_module_version": "2.0.0",
      "model_name": "LayoutModel",
      "state": {}
     },
     "f24415dafe6341e2a23546fc47b3b859": {
      "model_module": "@jupyter-widgets/base",
      "model_module_version": "2.0.0",
      "model_name": "LayoutModel",
      "state": {
       "width": "100%"
      }
     },
     "f419690ba99242a394467e924d7b5585": {
      "model_module": "@jupyter-widgets/base",
      "model_module_version": "2.0.0",
      "model_name": "LayoutModel",
      "state": {
       "width": "100%"
      }
     },
     "f509651e0cd1418a8ed628d49f473625": {
      "model_module": "@jupyter-widgets/base",
      "model_module_version": "2.0.0",
      "model_name": "LayoutModel",
      "state": {
       "border_bottom": "none",
       "border_left": "none",
       "border_right": "none",
       "border_top": "none"
      }
     },
     "f5287c0d402d484a96d43c841019bc49": {
      "model_module": "@jupyter-widgets/base",
      "model_module_version": "2.0.0",
      "model_name": "LayoutModel",
      "state": {
       "width": "100%"
      }
     },
     "f598987b7a3b42a8b93e2571964bd190": {
      "model_module": "@jupyter-widgets/base",
      "model_module_version": "2.0.0",
      "model_name": "LayoutModel",
      "state": {
       "width": "100%"
      }
     },
     "f5d5a961839745518c13226d4be9f769": {
      "model_module": "@jupyter-widgets/base",
      "model_module_version": "2.0.0",
      "model_name": "LayoutModel",
      "state": {}
     },
     "f60a6607d5aa40638978518e5be2456d": {
      "model_module": "@jupyter-widgets/controls",
      "model_module_version": "2.0.0",
      "model_name": "DescriptionStyleModel",
      "state": {
       "description_width": ""
      }
     },
     "f69eeefc52834e6abff11a86d8307007": {
      "model_module": "@jupyter-widgets/controls",
      "model_module_version": "2.0.0",
      "model_name": "VBoxModel",
      "state": {
       "children": [
        "IPY_MODEL_55c85dbec51644e6979ba3c430912d12"
       ],
       "layout": "IPY_MODEL_8148589d87ad4bdcba96f9bca8a722a5"
      }
     },
     "f78b020cac6a41cbbe6ea1ea29e29260": {
      "model_module": "@jupyter-widgets/controls",
      "model_module_version": "2.0.0",
      "model_name": "TextModel",
      "state": {
       "layout": "IPY_MODEL_01686dbab4204b00ac14b7a0dd4dd9b0",
       "style": "IPY_MODEL_2a574c90817a4dd6bb362f3e0c67631c",
       "tooltip": "Ip6Address",
       "value": "::1"
      }
     },
     "f821a6e0213b418a9c91af0b6f3801ec": {
      "model_module": "@jupyter-widgets/base",
      "model_module_version": "2.0.0",
      "model_name": "LayoutModel",
      "state": {
       "width": "100%"
      }
     },
     "f843eafd547d4e0c8234cefa07430d49": {
      "model_module": "@jupyter-widgets/controls",
      "model_module_version": "2.0.0",
      "model_name": "LabelModel",
      "state": {
       "layout": "IPY_MODEL_0bf37adb28f7473a914c8f2274bd73c3",
       "style": "IPY_MODEL_574cca61b7cd4cb5a18d4ab3c6bf9558"
      }
     },
     "f87ee4105d744d5a89e48a84039b11d8": {
      "model_module": "@jupyter-widgets/controls",
      "model_module_version": "2.0.0",
      "model_name": "LabelStyleModel",
      "state": {
       "description_width": "",
       "font_family": null,
       "font_size": null,
       "font_style": null,
       "font_variant": null,
       "font_weight": null,
       "text_color": null,
       "text_decoration": null
      }
     },
     "f8d86a7d3dca494bb3c4997a536eb8dd": {
      "model_module": "@jupyter-widgets/base",
      "model_module_version": "2.0.0",
      "model_name": "LayoutModel",
      "state": {
       "width": "100%"
      }
     },
     "f9b9b7fea3434a6ca53e06b8334055b2": {
      "model_module": "@jupyter-widgets/controls",
      "model_module_version": "2.0.0",
      "model_name": "VBoxModel",
      "state": {
       "children": [
        "IPY_MODEL_1366aa5957df4d11901ede9fd94a5f14",
        "IPY_MODEL_8f0d6898684741d19ed9b4e2e5cd5304"
       ],
       "layout": "IPY_MODEL_e789f17d21024e1b99d6a229c330d7a1"
      }
     },
     "fa8438f29ce140d7b52f9e4027491be1": {
      "model_module": "@jupyter-widgets/controls",
      "model_module_version": "2.0.0",
      "model_name": "DatetimeModel",
      "state": {
       "description": "Dateime",
       "layout": "IPY_MODEL_e9efc3ce1be846159454e17216bb4e0c",
       "style": "IPY_MODEL_19b58708756846229c2a4d8a5c867ba6",
       "tooltip": "Dateime"
      }
     },
     "fa9ba5b13c3447419c55beafe6e3c01f": {
      "model_module": "@jupyter-widgets/base",
      "model_module_version": "2.0.0",
      "model_name": "LayoutModel",
      "state": {}
     },
     "faf6c75300f74281ac0b9352930e674a": {
      "model_module": "@jupyter-widgets/controls",
      "model_module_version": "2.0.0",
      "model_name": "ButtonStyleModel",
      "state": {
       "font_family": null,
       "font_size": null,
       "font_style": null,
       "font_variant": null,
       "font_weight": null,
       "text_color": null,
       "text_decoration": null
      }
     },
     "fbb575b86d794a73ae5fb678ac399d98": {
      "model_module": "@jupyter-widgets/base",
      "model_module_version": "2.0.0",
      "model_name": "LayoutModel",
      "state": {
       "width": "100%"
      }
     },
     "fbd3d96a207148c0ac708e933a115648": {
      "model_module": "@jupyter-widgets/controls",
      "model_module_version": "2.0.0",
      "model_name": "FloatTextModel",
      "state": {
       "layout": "IPY_MODEL_308c62d89bff49a7beb98197128328d8",
       "step": null,
       "style": "IPY_MODEL_7eeddf9b964045e686029f15c29bada6"
      }
     },
     "fcd9c7a282474ebab5283078830084da": {
      "model_module": "@jupyter-widgets/controls",
      "model_module_version": "2.0.0",
      "model_name": "HBoxModel",
      "state": {
       "children": [
        "IPY_MODEL_e91bca31bbbc444c8d34114a8f3ba1f3"
       ],
       "layout": "IPY_MODEL_0a70237d846b4198bf0ce69c4b621797"
      }
     },
     "fdfc3dfff08b44e9b01e8d8e4d236291": {
      "model_module": "@jupyter-widgets/base",
      "model_module_version": "2.0.0",
      "model_name": "LayoutModel",
      "state": {}
     },
     "fe71589d9b0043e9835025591165785b": {
      "model_module": "@jupyter-widgets/base",
      "model_module_version": "2.0.0",
      "model_name": "LayoutModel",
      "state": {
       "display": "none"
      }
     },
     "fe77d1e8778a46aeb31363316f70baec": {
      "model_module": "@jupyter-widgets/base",
      "model_module_version": "2.0.0",
      "model_name": "LayoutModel",
      "state": {
       "width": "100%"
      }
     },
     "fefbc9db723e400e926ce0874a205cf2": {
      "model_module": "@jupyter-widgets/controls",
      "model_module_version": "2.0.0",
      "model_name": "LabelStyleModel",
      "state": {
       "description_width": "",
       "font_family": null,
       "font_size": null,
       "font_style": null,
       "font_variant": null,
       "font_weight": null,
       "text_color": null,
       "text_decoration": null
      }
     },
     "ff80ab95fb454be8a2b4f5c5bff80775": {
      "model_module": "@jupyter-widgets/controls",
      "model_module_version": "2.0.0",
      "model_name": "AccordionModel",
      "state": {
       "children": [
        "IPY_MODEL_5020bc8635424517abf5835b83ce7b1c"
       ],
       "layout": "IPY_MODEL_eea5ff1783424946bce88ce85e7a832c",
       "selected_index": 0,
       "titles": [
        "Subcategories"
       ]
      }
     },
     "ffbe64fe31eb41dd976c4d5dcfed62cb": {
      "model_module": "@jupyter-widgets/controls",
      "model_module_version": "2.0.0",
      "model_name": "LabelStyleModel",
      "state": {
       "description_width": "",
       "font_family": null,
       "font_size": null,
       "font_style": null,
       "font_variant": null,
       "font_weight": null,
       "text_color": null,
       "text_decoration": null
      }
     },
     "fff9d93a95d64832a54bed93ce3e503c": {
      "model_module": "@jupyter-widgets/controls",
      "model_module_version": "2.0.0",
      "model_name": "LabelStyleModel",
      "state": {
       "description_width": "",
       "font_family": null,
       "font_size": null,
       "font_style": null,
       "font_variant": null,
       "font_weight": null,
       "text_color": null,
       "text_decoration": null
      }
     }
    },
    "version_major": 2,
    "version_minor": 0
   }
  }
 },
 "nbformat": 4,
 "nbformat_minor": 4
}
