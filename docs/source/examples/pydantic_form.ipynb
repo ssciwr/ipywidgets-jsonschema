{
 "cells": [
  {
   "cell_type": "markdown",
   "metadata": {},
   "source": [
    "# Pydantic Form"
   ]
  },
  {
   "cell_type": "code",
   "execution_count": null,
   "metadata": {
    "vscode": {
     "languageId": "plaintext"
    }
   },
   "outputs": [],
   "source": [
    "# ---\n",
    "# jupyter:\n",
    "#   jupytext:\n",
    "#     formats: ipynb,md:myst\n",
    "#     text_representation:\n",
    "#       extension: .py\n",
    "#       format_name: light_format\n",
    "#       jupytext_version: 1.14.5\n",
    "#   kernelspec:\n",
    "#     display_name: Python 3 (ipykernel)\n",
    "#     language: python\n",
    "#     name: python3\n",
    "# ---\n",
    "\n",
    "# +\n",
    "import ipywidgets_jsonschema.form\n",
    "from pydantic import BaseModel\n",
    "\n",
    "\n",
    "class User(BaseModel):\n",
    "    name: str\n",
    "    age: int\n",
    "    is_active: bool = True\n",
    "\n",
    "\n",
    "user_schema = User.model_json_schema()  # Convert the Pydantic model to a JSON schema\n",
    "form = ipywidgets_jsonschema.form.Form(user_schema)\n",
    "form.show()\n",
    "# -"
   ]
  }
 ],
 "metadata": {
  "language_info": {
   "name": "python"
  }
 },
 "nbformat": 4,
 "nbformat_minor": 2
}
