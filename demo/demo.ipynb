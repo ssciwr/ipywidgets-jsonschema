{
 "cells": [
  {
   "cell_type": "markdown",
   "id": "3397ef62-76d5-4f1c-9e32-9c4b5bd151c4",
   "metadata": {},
   "source": [
    "# ipywidgets-jsonschema Quick Demo"
   ]
  },
  {
   "cell_type": "code",
   "execution_count": 1,
   "id": "2087193c-b22e-40a6-80b9-494e8dbb49e7",
   "metadata": {},
   "outputs": [],
   "source": [
    "# This notebook shows:\n",
    "# 1. Generating a form from a raw JSON Schema\n",
    "# 2. Generating a form from a Pydantic model\n",
    "# 3. Nested models, lists, enums\n",
    "# 4. Customizing layout and options\n",
    "# 5. Interactive editing via `PydanticEditorMixin`"
   ]
  },
  {
   "cell_type": "code",
   "execution_count": 2,
   "id": "cfcdb214-983f-489c-bb7f-f94ec143c9e4",
   "metadata": {},
   "outputs": [],
   "source": [
    "%load_ext autoreload\n",
    "%autoreload 2"
   ]
  },
  {
   "cell_type": "code",
   "execution_count": 3,
   "id": "32241c79-5fb0-4392-9923-196fb4418273",
   "metadata": {},
   "outputs": [],
   "source": [
    "from typing import List, Dict, Union, Optional\n",
    "from enum import Enum\n",
    "from pydantic import BaseModel, Field\n",
    "from ipywidgets_jsonschema import Form, PydanticEditorMixin\n",
    "import ipywidgets as widgets\n",
    "from IPython.display import display"
   ]
  },
  {
   "cell_type": "code",
   "execution_count": 4,
   "id": "7c0f113f-dc0a-40a2-b639-2af99a3342bc",
   "metadata": {},
   "outputs": [],
   "source": [
    "# 1. Raw JSON Schema\n",
    "\n",
    "# Define a plain JSON Schema and render a form:"
   ]
  },
  {
   "cell_type": "code",
   "execution_count": 5,
   "id": "bb54828a-b0c1-499c-9f96-dbabeeda4516",
   "metadata": {},
   "outputs": [],
   "source": [
    "person_schema = {\n",
    "    \"title\": \"Person\",\n",
    "    \"type\": \"object\",\n",
    "    \"properties\": {\n",
    "        \"name\": {\n",
    "            \"type\": \"string\",\n",
    "            \"description\": \"Your full name\"\n",
    "        },\n",
    "        \"age\": {\n",
    "            \"type\": \"integer\",\n",
    "            \"minimum\": 0,\n",
    "            \"description\": \"Your age in years\"\n",
    "        },\n",
    "        \"email\": {\n",
    "            \"type\": \"string\",\n",
    "            \"format\": \"email\",\n",
    "            \"description\": \"Optional email address\"\n",
    "        }\n",
    "    },\n",
    "    \"required\": [\"name\", \"age\"]\n",
    "}"
   ]
  },
  {
   "cell_type": "code",
   "execution_count": 6,
   "id": "2712107f-2332-42b2-b00f-1b555c6b72a9",
   "metadata": {},
   "outputs": [
    {
     "data": {
      "application/vnd.jupyter.widget-view+json": {
       "model_id": "3cb8f9e304134eb4851dd0ea08222f5a",
       "version_major": 2,
       "version_minor": 0
      },
      "text/plain": [
       "VBox(children=(VBox(children=(VBox(children=(HBox(children=(Label(value='age', layout=Layout(width='100%')), I…"
      ]
     },
     "metadata": {},
     "output_type": "display_data"
    }
   ],
   "source": [
    "form1 = Form(person_schema, show_descriptions=True)\n",
    "form1.show()"
   ]
  },
  {
   "cell_type": "code",
   "execution_count": 7,
   "id": "73498fe5-330f-4931-8d7c-76d84bb0f932",
   "metadata": {},
   "outputs": [],
   "source": [
    "# 2. Pydantic Model\n",
    "\n",
    "# You can pass a Pydantic `BaseModel` class directly to `Form`, which will internally convert it to JSON Schema."
   ]
  },
  {
   "cell_type": "code",
   "execution_count": 8,
   "id": "bfb1676e-f96c-4d5e-bc1d-f2886ff777dc",
   "metadata": {},
   "outputs": [
    {
     "data": {
      "application/vnd.jupyter.widget-view+json": {
       "model_id": "1b3c8a6a3b0d47c681ef18a2a120c8e8",
       "version_major": 2,
       "version_minor": 0
      },
      "text/plain": [
       "VBox(children=(VBox(children=(VBox(children=(VBox(children=(Label(value='Age', layout=Layout(width='100%')), I…"
      ]
     },
     "metadata": {},
     "output_type": "display_data"
    }
   ],
   "source": [
    "class Person(BaseModel):\n",
    "    name: str = Field(..., description=\"Your full name\")\n",
    "    age: int = Field(..., ge=0, description=\"Your age in years\")\n",
    "    email: Optional[str] = Field(None, description=\"Email address\")\n",
    "\n",
    "form2 = Form(Person, vertically_place_labels=True, use_sliders=True, show_descriptions=True)\n",
    "form2.show()"
   ]
  },
  {
   "cell_type": "code",
   "execution_count": 9,
   "id": "b3314c34-6e9b-4fff-a030-b6b5b124e631",
   "metadata": {},
   "outputs": [],
   "source": [
    "# 3. Nested Models, Lists & Dicts"
   ]
  },
  {
   "cell_type": "code",
   "execution_count": 10,
   "id": "9c85c761-ced6-4892-b391-100db743fbbc",
   "metadata": {},
   "outputs": [
    {
     "data": {
      "application/vnd.jupyter.widget-view+json": {
       "model_id": "76fc4df9732a459d86c71f03ed011640",
       "version_major": 2,
       "version_minor": 0
      },
      "text/plain": [
       "VBox(children=(VBox(children=(VBox(children=(Accordion(children=(VBox(children=(VBox(children=(HBox(children=(…"
      ]
     },
     "metadata": {},
     "output_type": "display_data"
    }
   ],
   "source": [
    "class Address(BaseModel):\n",
    "    street: str\n",
    "    city: str\n",
    "    zipcode: str = Field(..., description=\"5-digit ZIP code\")\n",
    "\n",
    "class Employee(BaseModel):\n",
    "    name: str\n",
    "    address: Address\n",
    "    tags: List[str] = Field(default_factory=list, description=\"List of tags\")\n",
    "    metadata: Dict[str, Union[str, int]] = Field(default_factory=dict)\n",
    "\n",
    "# Prebuild two list entries to show\n",
    "form3 = Form(Employee, preconstruct_array_items=2, show_descriptions=True)\n",
    "form3.show()"
   ]
  },
  {
   "cell_type": "code",
   "execution_count": 11,
   "id": "6f663733-a102-483c-8741-6c7b6f902c83",
   "metadata": {},
   "outputs": [],
   "source": [
    "# 4. Enums & Union Types"
   ]
  },
  {
   "cell_type": "code",
   "execution_count": 12,
   "id": "5bbf7b23-68ff-4d83-b007-3f449b7380bb",
   "metadata": {},
   "outputs": [
    {
     "data": {
      "application/vnd.jupyter.widget-view+json": {
       "model_id": "092964f51de4422aa1c18b8a5d4bd2b3",
       "version_major": 2,
       "version_minor": 0
      },
      "text/plain": [
       "VBox(children=(VBox(children=(VBox(children=(VBox(children=(Dropdown(options=('string', 'integer'), value='str…"
      ]
     },
     "metadata": {},
     "output_type": "display_data"
    }
   ],
   "source": [
    "class Role(Enum):\n",
    "    ADMIN = \"Admin\"\n",
    "    USER = \"User\"\n",
    "    GUEST = \"Guest\"\n",
    "\n",
    "class Member(BaseModel):\n",
    "    username: str\n",
    "    role: Role = Field(..., description=\"Select your role\")\n",
    "    extra: Union[str, int] = Field(..., description=\"Accepts string or integer\")\n",
    "\n",
    "form4 = Form(Member, show_descriptions=True)\n",
    "form4.show()"
   ]
  },
  {
   "cell_type": "code",
   "execution_count": 13,
   "id": "9c6c3f5a-ae17-4035-acba-e5d5ee2a3720",
   "metadata": {},
   "outputs": [],
   "source": [
    "# 5. Interactive Editing with `PydanticEditorMixin`\n",
    "\n",
    "# Mix your Pydantic model with `PydanticEditorMixin` to get an “Edit → Save/Cancel” UI."
   ]
  },
  {
   "cell_type": "code",
   "execution_count": 14,
   "id": "54c33ffb-bd9d-49ea-95dc-270696a5aedb",
   "metadata": {},
   "outputs": [
    {
     "data": {
      "application/vnd.jupyter.widget-view+json": {
       "model_id": "43bd034c35634476a7a52bb511214706",
       "version_major": 2,
       "version_minor": 0
      },
      "text/plain": [
       "VBox(children=(Button(description='Edit', icon='pencil', style=ButtonStyle(), tooltip='Edit model'), Output(la…"
      ]
     },
     "metadata": {},
     "output_type": "display_data"
    }
   ],
   "source": [
    "class User(PydanticEditorMixin, BaseModel):\n",
    "    name: str\n",
    "    age: int\n",
    "    email: Optional[str]\n",
    "\n",
    "# instantiate and launch editor\n",
    "user = User(name=\"Alice\", age=28, email=\"alice@example.com\")\n",
    "user.edit()"
   ]
  },
  {
   "cell_type": "code",
   "execution_count": null,
   "id": "224ff120-69a4-465c-b9dd-fb9a140592b4",
   "metadata": {},
   "outputs": [],
   "source": []
  }
 ],
 "metadata": {
  "kernelspec": {
   "display_name": "pydantic",
   "language": "python",
   "name": "python3"
  },
  "language_info": {
   "codemirror_mode": {
    "name": "ipython",
    "version": 3
   },
   "file_extension": ".py",
   "mimetype": "text/x-python",
   "name": "python",
   "nbconvert_exporter": "python",
   "pygments_lexer": "ipython3",
   "version": "3.13.1"
  }
 },
 "nbformat": 4,
 "nbformat_minor": 5
}
