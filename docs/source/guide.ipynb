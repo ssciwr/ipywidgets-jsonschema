{
 "cells": [
  {
   "cell_type": "markdown",
   "metadata": {},
   "source": [
    "# Quickstart"
   ]
  },
  {
   "cell_type": "markdown",
   "metadata": {},
   "source": [
    "This guide demonstrates how to generate interactive forms from `JSON Schema`\n",
    " or `pydantic` models using `ipywidgets-jsonschema`."
   ]
  },
  {
   "cell_type": "markdown",
   "metadata": {},
   "source": [
    "## Basic example with `JSON schema`\n",
    "`ipywidgets-jsonschema` allows you to generate a widget form from an existing schema that follows the JSON Schema specification. We first define a schema:"
   ]
  },
  {
   "cell_type": "code",
   "execution_count": 1,
   "metadata": {},
   "outputs": [],
   "source": [
    "schema = {\n",
    "    \"type\": \"object\",\n",
    "    \"properties\": {\n",
    "        \"name\": {\"type\": \"string\", \"title\": \"Name\"},\n",
    "        \"food\": {\n",
    "            \"type\": \"array\",\n",
    "            \"items\": {\"type\": \"string\"},\n",
    "            \"title\": \"Preferred Food\",\n",
    "        },\n",
    "    },\n",
    "}"
   ]
  },
  {
   "cell_type": "markdown",
   "metadata": {},
   "source": [
    "Generating the widget form for it and visualizing it in Jupyter is as simple as this:"
   ]
  },
  {
   "cell_type": "code",
   "execution_count": 2,
   "metadata": {},
   "outputs": [
    {
     "data": {
      "application/vnd.jupyter.widget-view+json": {
       "model_id": "5f23645bec794e2aad3956c360b7ac52",
       "version_major": 2,
       "version_minor": 0
      },
      "text/plain": [
       "VBox(children=(Accordion(children=(VBox(children=(VBox(children=(Button(description='Add entry', icon='plus', …"
      ]
     },
     "metadata": {},
     "output_type": "display_data"
    }
   ],
   "source": [
    "from ipywidgets_jsonschema import Form\n",
    "\n",
    "form = Form(schema)\n",
    "form.show()"
   ]
  },
  {
   "cell_type": "markdown",
   "metadata": {},
   "source": [
    "This will display a form in Jupyter where users can input data according to the schema.\n",
    "To access current data, we can use the `data` property of `form`:"
   ]
  },
  {
   "cell_type": "code",
   "execution_count": 3,
   "metadata": {},
   "outputs": [
    {
     "data": {
      "text/plain": [
       "{'name': '', 'food': []}"
      ]
     },
     "execution_count": 3,
     "metadata": {},
     "output_type": "execute_result"
    }
   ],
   "source": [
    "form.data"
   ]
  },
  {
   "cell_type": "markdown",
   "metadata": {},
   "source": [
    "This will automatically validate the data."
   ]
  },
  {
   "cell_type": "markdown",
   "metadata": {},
   "source": [
    "## Basic example using `pydantic`\n",
    "`ipywidgets-jsonschema`can be easily integrated with `pydantic` models.\n",
    "First create a `pydantic` model:"
   ]
  },
  {
   "cell_type": "code",
   "execution_count": 35,
   "metadata": {},
   "outputs": [],
   "source": [
    "from pydantic import BaseModel\n",
    "\n",
    "\n",
    "class User(BaseModel):\n",
    "    name: str\n",
    "    adress: str"
   ]
  },
  {
   "cell_type": "markdown",
   "metadata": {},
   "source": [
    "Then generate the widget form as usual:"
   ]
  },
  {
   "cell_type": "code",
   "execution_count": 34,
   "metadata": {},
   "outputs": [
    {
     "data": {
      "application/vnd.jupyter.widget-view+json": {
       "model_id": "f098e960124b4d1aaf07ac7e3ea4a642",
       "version_major": 2,
       "version_minor": 0
      },
      "text/plain": [
       "VBox(children=(HBox(children=(Label(value='Adress', layout=Layout(width='100%')), Text(value='', layout=Layout…"
      ]
     },
     "metadata": {},
     "output_type": "display_data"
    }
   ],
   "source": [
    "from ipywidgets_jsonschema import Form\n",
    "\n",
    "form = Form(User)\n",
    "form.show()"
   ]
  },
  {
   "cell_type": "markdown",
   "metadata": {},
   "source": [
    "# Customizing layout and styling"
   ]
  },
  {
   "cell_type": "markdown",
   "metadata": {},
   "source": [
    "`ipywidgets-jsonschema` provides some customization options to control the appearance and behavior of generated forms. This includes adjusting the layout, enabling sliders for numeric input, preconstructing array items and configuring date/time formats.\n",
    "Here is an example:"
   ]
  },
  {
   "cell_type": "code",
   "execution_count": 26,
   "metadata": {},
   "outputs": [],
   "source": [
    "class MyModel(BaseModel):\n",
    "    name: str\n",
    "    height: int = Field(ge=0, le=300, title=\"Height\")"
   ]
  },
  {
   "cell_type": "code",
   "execution_count": 32,
   "metadata": {},
   "outputs": [
    {
     "data": {
      "application/vnd.jupyter.widget-view+json": {
       "model_id": "8a0767a2ebd94ae7a9ef6cd4fbaa6bf5",
       "version_major": 2,
       "version_minor": 0
      },
      "text/plain": [
       "VBox(children=(VBox(children=(VBox(children=(VBox(children=(Label(value='Height', layout=Layout(width='100%'))…"
      ]
     },
     "metadata": {},
     "output_type": "display_data"
    }
   ],
   "source": [
    "form = Form(\n",
    "    MyModel,\n",
    "    vertically_place_labels=True,\n",
    "    use_sliders=True,\n",
    "    show_descriptions = True,\n",
    ")\n",
    "form.show(width=\"500px\")"
   ]
  },
  {
   "cell_type": "markdown",
   "metadata": {},
   "source": [
    "See the [User API Reference](api.html) for more details."
   ]
  },
  {
   "cell_type": "markdown",
   "metadata": {},
   "source": [
    "## Using `PydanticEditorMixin` for interactive pydantic model editing"
   ]
  },
  {
   "cell_type": "markdown",
   "metadata": {},
   "source": [
    "`PydanticEditorMixin` allows interactive editing of pydantic models in Jupyter. It extends any model, allowing you to edit its attributes dynamically using an interactive form. It provides: \n",
    "* A Form Interface: Displays the model’s attributes as editable fields.\n",
    "* Edit Mode Toggle: Enter edit mode and change values.\n",
    "* Save & Cancel Buttons: Save changes or revert to the original values.\n"
   ]
  },
  {
   "cell_type": "markdown",
   "metadata": {},
   "source": [
    "First import `PydanticEditorMixin` using:"
   ]
  },
  {
   "cell_type": "code",
   "execution_count": 10,
   "metadata": {},
   "outputs": [],
   "source": [
    "from ipywidgets_jsonschema.pydantic_editor_mixin import PydanticEditorMixin"
   ]
  },
  {
   "cell_type": "markdown",
   "metadata": {},
   "source": [
    "Then simply inherit from PydanticEditorMixin along with your pydantic model:"
   ]
  },
  {
   "cell_type": "code",
   "execution_count": 11,
   "metadata": {},
   "outputs": [
    {
     "data": {
      "application/vnd.jupyter.widget-view+json": {
       "model_id": "b3b5db8abe8746c395453840752f437c",
       "version_major": 2,
       "version_minor": 0
      },
      "text/plain": [
       "VBox(children=(Button(description='Edit', icon='pencil', style=ButtonStyle(), tooltip='Edit model'), Output(la…"
      ]
     },
     "metadata": {},
     "output_type": "display_data"
    }
   ],
   "source": [
    "class MyModel(PydanticEditorMixin, BaseModel):\n",
    "    name: str\n",
    "    age: int\n",
    "    email: str\n",
    "\n",
    "\n",
    "model = MyModel(name=\"John Doe\", age=30, email=\"john.doe@example.com\")\n",
    "model.edit()"
   ]
  },
  {
   "cell_type": "markdown",
   "metadata": {},
   "source": [
    "This will render a form where each field can be updated, with Cancel or Save buttons to confirm or discard the changes."
   ]
  },
  {
   "cell_type": "markdown",
   "metadata": {},
   "source": [
    "# In-Depth Walkthrough and Supported Data Types\n",
    "ipywidgets-jsonschema provides a way to dynamically generate ipywidgets from JSON Schema definitions. This guide covers how different data types are handled and how to use create widgets using JSON schema and pydantic."
   ]
  },
  {
   "cell_type": "markdown",
   "metadata": {},
   "source": [
    "## Basic Data Types"
   ]
  },
  {
   "cell_type": "markdown",
   "metadata": {},
   "source": [
    "The most common types like str, int, and float are rendered as simple input fields. bool is shown as a checkbox."
   ]
  },
  {
   "cell_type": "code",
   "execution_count": 12,
   "metadata": {},
   "outputs": [
    {
     "data": {
      "application/vnd.jupyter.widget-view+json": {
       "model_id": "a132c2e557084293901e0d712bd4df00",
       "version_major": 2,
       "version_minor": 0
      },
      "text/plain": [
       "VBox(children=(HBox(children=(Label(value='Age', layout=Layout(width='100%')), IntText(value=0, layout=Layout(…"
      ]
     },
     "metadata": {},
     "output_type": "display_data"
    }
   ],
   "source": [
    "from ipywidgets_jsonschema import Form\n",
    "from pydantic import BaseModel, Field\n",
    "\n",
    "\n",
    "class BasicTypes(BaseModel):\n",
    "    name: str\n",
    "    email: str\n",
    "    age: int\n",
    "    height: float\n",
    "    is_active: bool\n",
    "\n",
    "\n",
    "form = Form(BasicTypes)\n",
    "form.show()"
   ]
  },
  {
   "cell_type": "markdown",
   "metadata": {},
   "source": [
    "## Default Values\n",
    "Setting the default values is simple as:"
   ]
  },
  {
   "cell_type": "code",
   "execution_count": 13,
   "metadata": {},
   "outputs": [
    {
     "data": {
      "application/vnd.jupyter.widget-view+json": {
       "model_id": "c318f31d5958447093c4ea9d8e242afc",
       "version_major": 2,
       "version_minor": 0
      },
      "text/plain": [
       "VBox(children=(HBox(children=(Label(value='Value', layout=Layout(width='100%')), IntText(value=10, layout=Layo…"
      ]
     },
     "metadata": {},
     "output_type": "display_data"
    }
   ],
   "source": [
    "class DefaultValues(BaseModel):\n",
    "    value: int = 10\n",
    "\n",
    "\n",
    "form = Form(DefaultValues)\n",
    "form.show()"
   ]
  },
  {
   "cell_type": "markdown",
   "metadata": {},
   "source": [
    "When using Fields, the default value has to be specified inside the Field:"
   ]
  },
  {
   "cell_type": "code",
   "execution_count": 14,
   "metadata": {},
   "outputs": [
    {
     "data": {
      "application/vnd.jupyter.widget-view+json": {
       "model_id": "9b8b72b030d9495c9aad8fa2674ff21c",
       "version_major": 2,
       "version_minor": 0
      },
      "text/plain": [
       "VBox(children=(HBox(children=(Label(value='Value', layout=Layout(width='100%')), IntText(value=10, layout=Layo…"
      ]
     },
     "metadata": {},
     "output_type": "display_data"
    }
   ],
   "source": [
    "class DefaultValuesField(BaseModel):\n",
    "    value: int = Field(default=10)\n",
    "\n",
    "\n",
    "form = Form(DefaultValues)\n",
    "form.show()"
   ]
  },
  {
   "cell_type": "markdown",
   "metadata": {},
   "source": [
    "## Contraints\n",
    "JSON Schema constraints such as minLength, maxLength, minimum, maximum, pattern, and format are fully supported. These constraints allow you to have fine-grained control over user input, ensuring that data is validated at the widget level.\n",
    "\n",
    "To define constraints in a Pydantic model, use the Field class:"
   ]
  },
  {
   "cell_type": "code",
   "execution_count": 36,
   "metadata": {},
   "outputs": [
    {
     "data": {
      "application/vnd.jupyter.widget-view+json": {
       "model_id": "94b8cacde2fd48deb07ff05e6e59cdf9",
       "version_major": 2,
       "version_minor": 0
      },
      "text/plain": [
       "VBox(children=(HBox(children=(Label(value='Number', layout=Layout(width='100%')), BoundedIntText(value=10, lay…"
      ]
     },
     "metadata": {},
     "output_type": "display_data"
    }
   ],
   "source": [
    "from pydantic import Field\n",
    "\n",
    "\n",
    "class ConstraintsExample(BaseModel):\n",
    "    number: int = Field(minimum=0, maximum=10)\n",
    "    text: str = Field(min_length=3, max_length=10, pattern=\"^[a-zA-Z]+$\")\n",
    "\n",
    "\n",
    "form = Form(ConstraintsExample)\n",
    "form.show()"
   ]
  },
  {
   "cell_type": "markdown",
   "metadata": {},
   "source": [
    "## String formats\n",
    "JSON Schema allows specifying string formats to enforce validation rules on user input. The following formats are supported:\n",
    "\n",
    " - email\n",
    " - hostname\n",
    " - ipv4\n",
    " - ipv6\n",
    " - uri\n",
    " - uuid\n",
    "\n",
    "To enforce these string formats, it is simple as adding a format key to your JSON schema or pydantic model:\n"
   ]
  },
  {
   "cell_type": "code",
   "execution_count": 16,
   "metadata": {},
   "outputs": [
    {
     "data": {
      "application/vnd.jupyter.widget-view+json": {
       "model_id": "964b26ecaa094a3292e277ecee2cec28",
       "version_major": 2,
       "version_minor": 0
      },
      "text/plain": [
       "VBox(children=(HBox(children=(Label(value='Email', layout=Layout(width='100%')), Text(value='default@example.c…"
      ]
     },
     "metadata": {},
     "output_type": "display_data"
    }
   ],
   "source": [
    "class StringFormats(BaseModel):\n",
    "    email: str = Field(default=\"default@example.com\", format=\"email\")\n",
    "    hostname: str = Field(default=\"default.com\", format=\"hostname\")\n",
    "    ip4address: str = Field(default=\"127.0.0.1\", format=\"ipv4\")\n",
    "    ip6address: str = Field(default=\"::1\", format=\"ipv6\")\n",
    "    uri: str = Field(default=\"http://example.com\", format=\"uri\")\n",
    "    uuid: str = Field(default=\"00000000-0000-0000-0000-000000000000\", format=\"uuid\")\n",
    "\n",
    "\n",
    "form = Form(StringFormats.model_json_schema())\n",
    "form.show()"
   ]
  },
  {
   "cell_type": "markdown",
   "metadata": {},
   "source": [
    "ipywidgets_jsonschema also features visual feedback for user input that doesn't match the specified pattern or format. When users enter invalid data, the corresponding widget provides real-time validation cues, such as highlighting the input field or displaying an error message. "
   ]
  },
  {
   "cell_type": "code",
   "execution_count": 17,
   "metadata": {},
   "outputs": [
    {
     "data": {
      "application/vnd.jupyter.widget-view+json": {
       "model_id": "b5dda1a998744dbbae0e4680274c4669",
       "version_major": 2,
       "version_minor": 0
      },
      "text/plain": [
       "VBox(children=(HBox(children=(Label(value='Email', layout=Layout(width='100%')), Text(value='', layout=Layout(…"
      ]
     },
     "metadata": {},
     "output_type": "display_data"
    }
   ],
   "source": [
    "class Feedback(BaseModel):\n",
    "    email: str = Field(format=\"email\")\n",
    "    email_wrong: str = Field(format=\"email\")\n",
    "\n",
    "\n",
    "form = Form(Feedback)\n",
    "form.show()"
   ]
  },
  {
   "cell_type": "markdown",
   "metadata": {},
   "source": [
    "## Datetime"
   ]
  },
  {
   "cell_type": "markdown",
   "metadata": {},
   "source": [
    "Date and time fields are rendered using special widgets that let you select a date from a calendar or set the time."
   ]
  },
  {
   "cell_type": "code",
   "execution_count": 18,
   "metadata": {},
   "outputs": [
    {
     "data": {
      "application/vnd.jupyter.widget-view+json": {
       "model_id": "76c17c8a459b47cf90918f9b155cdbda",
       "version_major": 2,
       "version_minor": 0
      },
      "text/plain": [
       "VBox(children=(HBox(children=(DatePicker(value=datetime.datetime(2025, 9, 28, 19, 46, 48, 349729), description…"
      ]
     },
     "metadata": {},
     "output_type": "display_data"
    }
   ],
   "source": [
    "from datetime import date, time\n",
    "\n",
    "\n",
    "class Date(BaseModel):\n",
    "    date: date\n",
    "    time: time\n",
    "\n",
    "\n",
    "form = Form(Date)\n",
    "form.show()"
   ]
  },
  {
   "cell_type": "markdown",
   "metadata": {},
   "source": [
    "## List"
   ]
  },
  {
   "cell_type": "markdown",
   "metadata": {},
   "source": [
    "When your schema includes a List, it will automatically generate a dynamic widget list, that allows users to:\n",
    "1. Add new entries\n",
    "2. Reorder list entries\n",
    "3. Remove individual entries"
   ]
  },
  {
   "cell_type": "code",
   "execution_count": 19,
   "metadata": {},
   "outputs": [
    {
     "data": {
      "application/vnd.jupyter.widget-view+json": {
       "model_id": "613c68d773994ae783d23ff76865cb09",
       "version_major": 2,
       "version_minor": 0
      },
      "text/plain": [
       "VBox(children=(Accordion(children=(VBox(children=(VBox(children=(Button(description='Add entry', icon='plus', …"
      ]
     },
     "metadata": {},
     "output_type": "display_data"
    }
   ],
   "source": [
    "from typing import List\n",
    "\n",
    "\n",
    "class Fruits(BaseModel):\n",
    "    fruit: List[str]\n",
    "\n",
    "\n",
    "form = Form(Fruits)\n",
    "form.show()"
   ]
  },
  {
   "cell_type": "markdown",
   "metadata": {},
   "source": [
    "When using Set in your schema or Pydantic model, the form behaves like a list input but ensures that no duplicate entries are allowed."
   ]
  },
  {
   "cell_type": "code",
   "execution_count": 20,
   "metadata": {},
   "outputs": [
    {
     "data": {
      "application/vnd.jupyter.widget-view+json": {
       "model_id": "096a0da4470741d3bdfa1505d15ff55e",
       "version_major": 2,
       "version_minor": 0
      },
      "text/plain": [
       "VBox(children=(Accordion(children=(VBox(children=(VBox(children=(Button(description='Add entry', icon='plus', …"
      ]
     },
     "metadata": {},
     "output_type": "display_data"
    }
   ],
   "source": [
    "from typing import Set\n",
    "\n",
    "\n",
    "class IDs(BaseModel):\n",
    "    id: Set[int]\n",
    "\n",
    "\n",
    "form = Form(IDs)\n",
    "form.show()"
   ]
  },
  {
   "cell_type": "markdown",
   "metadata": {},
   "source": [
    "## Nested schema"
   ]
  },
  {
   "cell_type": "markdown",
   "metadata": {},
   "source": [
    "We fully support **nested schemas**, allowing deeply structured form with embedded classes."
   ]
  },
  {
   "cell_type": "code",
   "execution_count": 21,
   "metadata": {},
   "outputs": [
    {
     "data": {
      "application/vnd.jupyter.widget-view+json": {
       "model_id": "1ddcab3193604a65ad8e35ab48999279",
       "version_major": 2,
       "version_minor": 0
      },
      "text/plain": [
       "VBox(children=(Accordion(children=(VBox(children=(VBox(children=(Button(description='Add entry', icon='plus', …"
      ]
     },
     "metadata": {},
     "output_type": "display_data"
    }
   ],
   "source": [
    "from typing import List\n",
    "\n",
    "\n",
    "class Address(BaseModel):\n",
    "    street: str\n",
    "    city: str\n",
    "\n",
    "\n",
    "class User(BaseModel):\n",
    "    name: str\n",
    "    adresses: List[Address]\n",
    "\n",
    "\n",
    "form = Form(User)\n",
    "form.show()"
   ]
  },
  {
   "cell_type": "markdown",
   "metadata": {},
   "source": [
    "## Enum"
   ]
  },
  {
   "cell_type": "markdown",
   "metadata": {},
   "source": [
    "When your model includes an Enum field, the form renders a dropdown widget, allowing you to select one of the available options."
   ]
  },
  {
   "cell_type": "code",
   "execution_count": 22,
   "metadata": {},
   "outputs": [
    {
     "data": {
      "application/vnd.jupyter.widget-view+json": {
       "model_id": "fbbb4645768b4ca08926ea905da5bd65",
       "version_major": 2,
       "version_minor": 0
      },
      "text/plain": [
       "VBox(children=(HBox(children=(Label(value='ColorEnum', layout=Layout(width='100%')), Dropdown(layout=Layout(wi…"
      ]
     },
     "metadata": {},
     "output_type": "display_data"
    }
   ],
   "source": [
    "from enum import Enum\n",
    "\n",
    "\n",
    "class ColorEnum(Enum):\n",
    "    RED = \"red\"\n",
    "    BLUE = \"blue\"\n",
    "    GREEN = \"green\"\n",
    "\n",
    "\n",
    "class Colors(BaseModel):\n",
    "    color: ColorEnum\n",
    "\n",
    "\n",
    "form = Form(Colors)\n",
    "form.show()"
   ]
  },
  {
   "cell_type": "markdown",
   "metadata": {},
   "source": [
    "## Anyof"
   ]
  },
  {
   "cell_type": "markdown",
   "metadata": {},
   "source": [
    "We support fields defined using `Union`, which correspond to JSON Schema’s `anyOf`. These allow a field to accept multiple types. The form provides a dropdown, that allows you to select a type."
   ]
  },
  {
   "cell_type": "code",
   "execution_count": 23,
   "metadata": {},
   "outputs": [
    {
     "data": {
      "application/vnd.jupyter.widget-view+json": {
       "model_id": "66e47555bf0746dab71cdfb8a7702027",
       "version_major": 2,
       "version_minor": 0
      },
      "text/plain": [
       "VBox(children=(VBox(children=(VBox(children=(Dropdown(options=('integer', 'number'), value='integer'), HBox(ch…"
      ]
     },
     "metadata": {},
     "output_type": "display_data"
    }
   ],
   "source": [
    "from typing import Union\n",
    "\n",
    "\n",
    "class Item(BaseModel):\n",
    "    price: Union[int, float]\n",
    "\n",
    "\n",
    "form = Form(Item)\n",
    "form.show()"
   ]
  },
  {
   "cell_type": "markdown",
   "metadata": {},
   "source": [
    "## Object / Dictionary"
   ]
  },
  {
   "cell_type": "markdown",
   "metadata": {},
   "source": [
    "You can use Dict to define dynamic key-value mapping. Keys are strings, and values can be any supported data type."
   ]
  },
  {
   "cell_type": "code",
   "execution_count": 24,
   "metadata": {},
   "outputs": [
    {
     "data": {
      "application/vnd.jupyter.widget-view+json": {
       "model_id": "ab51978810de407c9a390f68ece697de",
       "version_major": 2,
       "version_minor": 0
      },
      "text/plain": [
       "VBox(children=(Accordion(children=(VBox(children=(VBox(), Button(description='Add key value', icon='plus', lay…"
      ]
     },
     "metadata": {},
     "output_type": "display_data"
    }
   ],
   "source": [
    "from typing import Union, Dict\n",
    "\n",
    "\n",
    "class DictUnion(BaseModel):\n",
    "    settings: Dict[str, str]\n",
    "\n",
    "\n",
    "form = Form(DictUnion)\n",
    "form.show()"
   ]
  },
  {
   "cell_type": "markdown",
   "metadata": {},
   "source": [
    "## Recursion\n"
   ]
  },
  {
   "cell_type": "markdown",
   "metadata": {},
   "source": [
    "Recursive models are supported by using string annotations. This allows a model to reference itself, which is useful for things like nested categories or tree structures."
   ]
  },
  {
   "cell_type": "code",
   "execution_count": 25,
   "metadata": {},
   "outputs": [
    {
     "data": {
      "application/vnd.jupyter.widget-view+json": {
       "model_id": "d087908229d34c0694fe0600a1c8a5cf",
       "version_major": 2,
       "version_minor": 0
      },
      "text/plain": [
       "VBox(children=(Accordion(children=(VBox(children=(HBox(children=(Label(value='Name', layout=Layout(width='100%…"
      ]
     },
     "metadata": {},
     "output_type": "display_data"
    }
   ],
   "source": [
    "from typing import List\n",
    "\n",
    "\n",
    "class Category(BaseModel):\n",
    "    name: str\n",
    "    subcategories: List[\"Category\"]\n",
    "\n",
    "\n",
    "form = Form(Category)\n",
    "form.show()"
   ]
  }
 ],
 "metadata": {
  "kernelspec": {
   "display_name": "Python 3 (ipykernel)",
   "language": "python",
   "name": "python3"
  },
  "language_info": {
   "codemirror_mode": {
    "name": "ipython",
    "version": 3
   },
   "file_extension": ".py",
   "mimetype": "text/x-python",
   "name": "python",
   "nbconvert_exporter": "python",
   "pygments_lexer": "ipython3",
   "version": "3.13.0"
  },
  "widgets": {
   "application/vnd.jupyter.widget-state+json": {
    "state": {
     "00027878d0754dffb6010448977ff62b": {
      "model_module": "@jupyter-widgets/controls",
      "model_module_version": "2.0.0",
      "model_name": "HBoxModel",
      "state": {
       "children": [
        "IPY_MODEL_5c1bf4f44c124175bd909a7f66a30c84",
        "IPY_MODEL_3f42344d761f4f6a8976daf8723551e6"
       ],
       "layout": "IPY_MODEL_1bdd1ca9d0c748a9892b20b8e044b5ab"
      }
     },
     "002c509961f74408af1106b66f4cbb73": {
      "model_module": "@jupyter-widgets/base",
      "model_module_version": "2.0.0",
      "model_name": "LayoutModel",
      "state": {}
     },
     "00420f9396604bf7b5d7a2d8f164a4ed": {
      "model_module": "@jupyter-widgets/base",
      "model_module_version": "2.0.0",
      "model_name": "LayoutModel",
      "state": {}
     },
     "00726ef4d0544ccea2f3f48be4a0d597": {
      "model_module": "@jupyter-widgets/controls",
      "model_module_version": "2.0.0",
      "model_name": "DescriptionStyleModel",
      "state": {
       "description_width": ""
      }
     },
     "007a79fe545c4c65b7126b46f623558a": {
      "model_module": "@jupyter-widgets/controls",
      "model_module_version": "2.0.0",
      "model_name": "LabelModel",
      "state": {
       "layout": "IPY_MODEL_bdae0af3263a4fbeadf78410f48ae706",
       "style": "IPY_MODEL_fe79a89429ef4041abdb82c8b03b8c54",
       "value": "Name"
      }
     },
     "008ac90c6688405eb1057121c7c3bf41": {
      "model_module": "@jupyter-widgets/controls",
      "model_module_version": "2.0.0",
      "model_name": "TextModel",
      "state": {
       "layout": "IPY_MODEL_1907d4e5b3f4412a8ca77de183bb20b4",
       "style": "IPY_MODEL_f8a5cba31fd14b65b009285ba1d068ea",
       "tooltip": "Name"
      }
     },
     "00a4c85108bd4d0aa68cb9a8754bdb5d": {
      "model_module": "@jupyter-widgets/controls",
      "model_module_version": "2.0.0",
      "model_name": "DescriptionStyleModel",
      "state": {
       "description_width": ""
      }
     },
     "013e074c906d41d0a822fda42a7d2ff0": {
      "model_module": "@jupyter-widgets/base",
      "model_module_version": "2.0.0",
      "model_name": "LayoutModel",
      "state": {}
     },
     "013f22a717684944a833f325f7de76de": {
      "model_module": "@jupyter-widgets/base",
      "model_module_version": "2.0.0",
      "model_name": "LayoutModel",
      "state": {
       "width": "100%"
      }
     },
     "017c2fdb285a4f9a85a405f04909cc57": {
      "model_module": "@jupyter-widgets/base",
      "model_module_version": "2.0.0",
      "model_name": "LayoutModel",
      "state": {
       "width": "100%"
      }
     },
     "01efdb7b3d084c4d9f8334a7c4d48e3a": {
      "model_module": "@jupyter-widgets/base",
      "model_module_version": "2.0.0",
      "model_name": "LayoutModel",
      "state": {}
     },
     "02090325cde14004acf99a67ffec07a4": {
      "model_module": "@jupyter-widgets/controls",
      "model_module_version": "2.0.0",
      "model_name": "LabelModel",
      "state": {
       "layout": "IPY_MODEL_5229633c31a64cd5a9bdfc40ab88ee16",
       "style": "IPY_MODEL_97035533d4804bc78dff41bc18b323c6",
       "value": "Name"
      }
     },
     "02230e2cbd1a4c2e89e0fd1390b3ec58": {
      "model_module": "@jupyter-widgets/controls",
      "model_module_version": "2.0.0",
      "model_name": "ButtonStyleModel",
      "state": {
       "font_family": null,
       "font_size": null,
       "font_style": null,
       "font_variant": null,
       "font_weight": null,
       "text_color": null,
       "text_decoration": null
      }
     },
     "02cd9f6e22144877a438bc78665148b9": {
      "model_module": "@jupyter-widgets/base",
      "model_module_version": "2.0.0",
      "model_name": "LayoutModel",
      "state": {
       "width": "100%"
      }
     },
     "02ced7420aeb476fb98d344e57d8332e": {
      "model_module": "@jupyter-widgets/base",
      "model_module_version": "2.0.0",
      "model_name": "LayoutModel",
      "state": {}
     },
     "030b692cbeb741e098fa50467afc4d29": {
      "model_module": "@jupyter-widgets/controls",
      "model_module_version": "2.0.0",
      "model_name": "IntTextModel",
      "state": {
       "layout": "IPY_MODEL_5fb714cd06d7485c9eca200320c0c83e",
       "step": 1,
       "style": "IPY_MODEL_b9c29deb80ec4ace949260af7f619def",
       "tooltip": "Value",
       "value": 10
      }
     },
     "0310478f7ee549b7a5487256e6fbc388": {
      "model_module": "@jupyter-widgets/controls",
      "model_module_version": "2.0.0",
      "model_name": "LabelStyleModel",
      "state": {
       "description_width": "",
       "font_family": null,
       "font_size": "0.8em",
       "font_style": null,
       "font_variant": null,
       "font_weight": "lighter",
       "text_color": null,
       "text_decoration": null
      }
     },
     "032735d13b9e4563a25c2d89c144b823": {
      "model_module": "@jupyter-widgets/controls",
      "model_module_version": "2.0.0",
      "model_name": "DescriptionStyleModel",
      "state": {
       "description_width": ""
      }
     },
     "03ca18afdc374a4682afec6c84adb44f": {
      "model_module": "@jupyter-widgets/controls",
      "model_module_version": "2.0.0",
      "model_name": "LabelStyleModel",
      "state": {
       "description_width": "",
       "font_family": null,
       "font_size": null,
       "font_style": null,
       "font_variant": null,
       "font_weight": null,
       "text_color": null,
       "text_decoration": null
      }
     },
     "03e5d8878d794514932625b076058b30": {
      "model_module": "@jupyter-widgets/controls",
      "model_module_version": "2.0.0",
      "model_name": "TextModel",
      "state": {
       "layout": "IPY_MODEL_567311b934a14a3f85e522edf1402890",
       "style": "IPY_MODEL_d0167566ca5946c09dbb0f06b650784d",
       "tooltip": "Name"
      }
     },
     "03f06d38da754b9bbf92fb12203b2eb6": {
      "model_module": "@jupyter-widgets/controls",
      "model_module_version": "2.0.0",
      "model_name": "VBoxModel",
      "state": {
       "children": [
        "IPY_MODEL_e5ea58fd8b0047aeba39fb0249740fd4",
        "IPY_MODEL_3a33f423757f411a8a44aa5259bbd519",
        "IPY_MODEL_eb9b96a966e74ee7b9921944487ad58f",
        "IPY_MODEL_1f71f7b35a5c499cb30c46c9276d28ef",
        "IPY_MODEL_1431440cb3b349e1ba3d4f6c2eefed0e",
        "IPY_MODEL_0ab8f419857e45098670b56b57afbd52"
       ],
       "layout": "IPY_MODEL_74f2e7a07d864e3abb2e103592639941"
      }
     },
     "04273246cc2e407d9065c476e8b4599c": {
      "model_module": "@jupyter-widgets/base",
      "model_module_version": "2.0.0",
      "model_name": "LayoutModel",
      "state": {
       "width": "100%"
      }
     },
     "04762cb499c74d949c4dbe54ca1df834": {
      "model_module": "@jupyter-widgets/controls",
      "model_module_version": "2.0.0",
      "model_name": "ButtonStyleModel",
      "state": {
       "font_family": null,
       "font_size": null,
       "font_style": null,
       "font_variant": null,
       "font_weight": null,
       "text_color": null,
       "text_decoration": null
      }
     },
     "04a9fd9d75dd4666986fd4d6eae7ea16": {
      "model_module": "@jupyter-widgets/controls",
      "model_module_version": "2.0.0",
      "model_name": "DescriptionStyleModel",
      "state": {
       "description_width": ""
      }
     },
     "05204990b88641fcb32378f8f08dff57": {
      "model_module": "@jupyter-widgets/controls",
      "model_module_version": "2.0.0",
      "model_name": "TextStyleModel",
      "state": {
       "description_width": "",
       "font_size": null,
       "text_color": null
      }
     },
     "056d1562c9404a9fb213639be592c7d8": {
      "model_module": "@jupyter-widgets/controls",
      "model_module_version": "2.0.0",
      "model_name": "CheckboxStyleModel",
      "state": {
       "description_width": ""
      }
     },
     "0590ca463a624c0faee8c307ee45b6fb": {
      "model_module": "@jupyter-widgets/base",
      "model_module_version": "2.0.0",
      "model_name": "LayoutModel",
      "state": {}
     },
     "05ef917615c5408cafc09d20a556a6ce": {
      "model_module": "@jupyter-widgets/controls",
      "model_module_version": "2.0.0",
      "model_name": "HBoxModel",
      "state": {
       "children": [
        "IPY_MODEL_e9cdc7953403469d9fac1d5413c77d7d",
        "IPY_MODEL_2688e7ad67ac410db4193ca584041f3d",
        "IPY_MODEL_a0c90aa0508840349e9288f1921144cb"
       ],
       "layout": "IPY_MODEL_013f22a717684944a833f325f7de76de"
      }
     },
     "061678a3ea8b40dc9ef4e8a45211d602": {
      "model_module": "@jupyter-widgets/controls",
      "model_module_version": "2.0.0",
      "model_name": "VBoxModel",
      "state": {
       "children": [
        "IPY_MODEL_befa0a93a2da419f9f43db778067b658",
        "IPY_MODEL_bbc459deffe248dbbad1286eeedc87c3",
        "IPY_MODEL_525b37a13f8e4196867b4f1380887f6e",
        "IPY_MODEL_f78721af37714591b0c133f37c48edc7"
       ],
       "layout": "IPY_MODEL_d6078097c598497abdba558da5bb7fd2"
      }
     },
     "0629852ab6894e2fb533669882ed2ee6": {
      "model_module": "@jupyter-widgets/controls",
      "model_module_version": "2.0.0",
      "model_name": "ButtonModel",
      "state": {
       "icon": "arrow-down",
       "layout": "IPY_MODEL_4ae2d12927f345a28e0ab86b2c5b429e",
       "style": "IPY_MODEL_7243759d5cd948c88009c765d6cf7238",
       "tooltip": null
      }
     },
     "065cccb86b384fafa837e6c108197e25": {
      "model_module": "@jupyter-widgets/controls",
      "model_module_version": "2.0.0",
      "model_name": "VBoxModel",
      "state": {
       "children": [
        "IPY_MODEL_57c0b0866a604bf2845bb4e7d1bb96e9",
        "IPY_MODEL_73c5539c322e4614b1db26768f9f6a49"
       ],
       "layout": "IPY_MODEL_e53bf401caab4ee2af30fd55469cb21d"
      }
     },
     "073c9fa7d7cb4f3b91ce981ff64e82d1": {
      "model_module": "@jupyter-widgets/base",
      "model_module_version": "2.0.0",
      "model_name": "LayoutModel",
      "state": {
       "width": "100%"
      }
     },
     "074968a0e3e44bd8860b85a94b619a5c": {
      "model_module": "@jupyter-widgets/controls",
      "model_module_version": "2.0.0",
      "model_name": "TextStyleModel",
      "state": {
       "description_width": "",
       "font_size": null,
       "text_color": null
      }
     },
     "079d18477e6e4ed98bcdfc62f25029dd": {
      "model_module": "@jupyter-widgets/controls",
      "model_module_version": "2.0.0",
      "model_name": "LabelModel",
      "state": {
       "layout": "IPY_MODEL_cc34cac3179240f18b8ca2151dfe95b7",
       "style": "IPY_MODEL_d90430ce94ae4bc0bae5be425fb501e0",
       "value": "Height"
      }
     },
     "07d60abb3af846dfb0f62550a4a4ca56": {
      "model_module": "@jupyter-widgets/base",
      "model_module_version": "2.0.0",
      "model_name": "LayoutModel",
      "state": {
       "width": "100%"
      }
     },
     "07edcaf16b3645d0a404deb4ba0e8d25": {
      "model_module": "@jupyter-widgets/controls",
      "model_module_version": "2.0.0",
      "model_name": "TextStyleModel",
      "state": {
       "description_width": "",
       "font_size": null,
       "text_color": null
      }
     },
     "07f54990b34347b6a51c5a8261f3a5b3": {
      "model_module": "@jupyter-widgets/controls",
      "model_module_version": "2.0.0",
      "model_name": "HBoxModel",
      "state": {
       "children": [
        "IPY_MODEL_0962d2e4641c4bc4b533bf0cc85783be",
        "IPY_MODEL_f825e8f11e734bea9a0cd265a2557a9b",
        "IPY_MODEL_7c55c843f568404d9628aa06f82ad710"
       ],
       "layout": "IPY_MODEL_0ac2328e5e92476687ded6c7a806192b"
      }
     },
     "086a25ee3c2047a68451f8cb3d440e26": {
      "model_module": "@jupyter-widgets/controls",
      "model_module_version": "2.0.0",
      "model_name": "SliderStyleModel",
      "state": {
       "description_width": ""
      }
     },
     "08ee5ad83bed4c9f83e2963032ad9607": {
      "model_module": "@jupyter-widgets/controls",
      "model_module_version": "2.0.0",
      "model_name": "TextStyleModel",
      "state": {
       "description_width": "",
       "font_size": null,
       "text_color": null
      }
     },
     "08f2bbbedebb4d25bb7506b31941bfb8": {
      "model_module": "@jupyter-widgets/base",
      "model_module_version": "2.0.0",
      "model_name": "LayoutModel",
      "state": {
       "display": "none"
      }
     },
     "08f53358babe4cfa9c1378c103a67772": {
      "model_module": "@jupyter-widgets/base",
      "model_module_version": "2.0.0",
      "model_name": "LayoutModel",
      "state": {}
     },
     "09185a279f814e609cbb37524b0e4a80": {
      "model_module": "@jupyter-widgets/base",
      "model_module_version": "2.0.0",
      "model_name": "LayoutModel",
      "state": {
       "display": "block"
      }
     },
     "0962d2e4641c4bc4b533bf0cc85783be": {
      "model_module": "@jupyter-widgets/controls",
      "model_module_version": "2.0.0",
      "model_name": "ButtonModel",
      "state": {
       "icon": "trash",
       "layout": "IPY_MODEL_3f138dc6a7604ea2b0941d985398fb5e",
       "style": "IPY_MODEL_6b7eddf5f7ab47cea7885b89a942839c",
       "tooltip": null
      }
     },
     "096a0da4470741d3bdfa1505d15ff55e": {
      "model_module": "@jupyter-widgets/controls",
      "model_module_version": "2.0.0",
      "model_name": "VBoxModel",
      "state": {
       "children": [
        "IPY_MODEL_465fe8aa1c744367a646e650384e9939"
       ],
       "layout": "IPY_MODEL_4c599c3580ef4ba1906ffd4cc4199898"
      }
     },
     "0971c68875a54dbaa0b5cc14249ae81d": {
      "model_module": "@jupyter-widgets/base",
      "model_module_version": "2.0.0",
      "model_name": "LayoutModel",
      "state": {}
     },
     "097e4bc413bb416caeffd09b03cb26a0": {
      "model_module": "@jupyter-widgets/controls",
      "model_module_version": "2.0.0",
      "model_name": "DescriptionStyleModel",
      "state": {
       "description_width": ""
      }
     },
     "09966231f55644ce85d15bc6d7992074": {
      "model_module": "@jupyter-widgets/base",
      "model_module_version": "2.0.0",
      "model_name": "LayoutModel",
      "state": {}
     },
     "09db2bfc395144788e29c519019681e2": {
      "model_module": "@jupyter-widgets/base",
      "model_module_version": "2.0.0",
      "model_name": "LayoutModel",
      "state": {
       "width": "100%"
      }
     },
     "0a06d3fc8fc9439f82f8783aa2a846c9": {
      "model_module": "@jupyter-widgets/base",
      "model_module_version": "2.0.0",
      "model_name": "LayoutModel",
      "state": {
       "width": "100%"
      }
     },
     "0ab8f419857e45098670b56b57afbd52": {
      "model_module": "@jupyter-widgets/controls",
      "model_module_version": "2.0.0",
      "model_name": "LabelModel",
      "state": {
       "layout": "IPY_MODEL_b33e59b6e116425bb396c7de46dd9ba0",
       "style": "IPY_MODEL_dd8fb082ded748838f464e3ccf90d408"
      }
     },
     "0ac2328e5e92476687ded6c7a806192b": {
      "model_module": "@jupyter-widgets/base",
      "model_module_version": "2.0.0",
      "model_name": "LayoutModel",
      "state": {
       "width": "100%"
      }
     },
     "0aeb3e3c7e6f4a04b4708dba4cf86c60": {
      "model_module": "@jupyter-widgets/controls",
      "model_module_version": "2.0.0",
      "model_name": "TextModel",
      "state": {
       "description": "key",
       "layout": "IPY_MODEL_b8623af105984e32902092c310486775",
       "style": "IPY_MODEL_cd7dffd3649c4f6e938e4f7d18cc8c50",
       "value": "key1"
      }
     },
     "0b1d9da908804c0dba98f2709af529fb": {
      "model_module": "@jupyter-widgets/controls",
      "model_module_version": "2.0.0",
      "model_name": "VBoxModel",
      "state": {
       "children": [
        "IPY_MODEL_0c4486e911614089a82851962676f5ce"
       ],
       "layout": "IPY_MODEL_d65361c15ce5405e82a97285a225b5f4"
      }
     },
     "0b496acad1004339a5d8388d2e8cb609": {
      "model_module": "@jupyter-widgets/controls",
      "model_module_version": "2.0.0",
      "model_name": "LabelModel",
      "state": {
       "layout": "IPY_MODEL_758f75e598fa4621bb46ec73ef1edaa9",
       "style": "IPY_MODEL_d968dd753efa42c4aba0d9cd8d7857da"
      }
     },
     "0b4fe775eab847dd980d661be3fc6462": {
      "model_module": "@jupyter-widgets/base",
      "model_module_version": "2.0.0",
      "model_name": "LayoutModel",
      "state": {
       "width": "100%"
      }
     },
     "0bba158922d74c3ebe5da13fad4fbf72": {
      "model_module": "@jupyter-widgets/controls",
      "model_module_version": "2.0.0",
      "model_name": "ButtonModel",
      "state": {
       "description": "Add entry",
       "icon": "plus",
       "layout": "IPY_MODEL_c6533a910a604114a366b3385294cef2",
       "style": "IPY_MODEL_88ded523edf24209b9ab3617d38de6b1",
       "tooltip": null
      }
     },
     "0bbbbcd168174bfd9523a05b8a96ff31": {
      "model_module": "@jupyter-widgets/controls",
      "model_module_version": "2.0.0",
      "model_name": "VBoxModel",
      "state": {
       "children": [
        "IPY_MODEL_b6109deaf8984c90be4cffaac2d25227",
        "IPY_MODEL_07f54990b34347b6a51c5a8261f3a5b3"
       ],
       "layout": "IPY_MODEL_f364e3b9cdc64b448fe40b7935ff8ec8"
      }
     },
     "0c4486e911614089a82851962676f5ce": {
      "model_module": "@jupyter-widgets/controls",
      "model_module_version": "2.0.0",
      "model_name": "VBoxModel",
      "state": {
       "children": [
        "IPY_MODEL_27382ebde01e45a69bcea014112d1acc",
        "IPY_MODEL_5014987bb1ee4397816301e154d764c6",
        "IPY_MODEL_c10013321e2241db82cf99ba15059fe6",
        "IPY_MODEL_6fd0813c0a7a4502b1d4a5780e65245a"
       ],
       "layout": "IPY_MODEL_b9fccdae238c4b7097d4f8240312cb6b"
      }
     },
     "0caca04fde1d441087c6acd60f3a46cd": {
      "model_module": "@jupyter-widgets/controls",
      "model_module_version": "2.0.0",
      "model_name": "HBoxModel",
      "state": {
       "children": [
        "IPY_MODEL_c21be4ad85524cac92c73d9421c2107b",
        "IPY_MODEL_f77b2be129154bc9b835c25bc2ff54aa",
        "IPY_MODEL_cb81433ac090417396a5237f17233d79"
       ],
       "layout": "IPY_MODEL_f66b9f0266f641248ef6aa7a5b1b41ce"
      }
     },
     "0d2d6810d3df40ad83bd43c532f50235": {
      "model_module": "@jupyter-widgets/base",
      "model_module_version": "2.0.0",
      "model_name": "LayoutModel",
      "state": {}
     },
     "0d6b41a227d3445e801beeddecd48988": {
      "model_module": "@jupyter-widgets/controls",
      "model_module_version": "2.0.0",
      "model_name": "LabelModel",
      "state": {
       "layout": "IPY_MODEL_1ab1658790854282a547e22583f9104e",
       "style": "IPY_MODEL_bd350a4c6b5c415dbaabbd9f6d0e0750"
      }
     },
     "0d8447a92b0d43fdb976ae6c7520a7a9": {
      "model_module": "@jupyter-widgets/base",
      "model_module_version": "2.0.0",
      "model_name": "LayoutModel",
      "state": {
       "border_bottom": "none",
       "border_left": "none",
       "border_right": "none",
       "border_top": "none",
       "width": "100%"
      }
     },
     "0d86d34a0d994ec98523383e51c64ce2": {
      "model_module": "@jupyter-widgets/base",
      "model_module_version": "2.0.0",
      "model_name": "LayoutModel",
      "state": {}
     },
     "0ddfef24d88b45208e6e2f0124cea308": {
      "model_module": "@jupyter-widgets/base",
      "model_module_version": "2.0.0",
      "model_name": "LayoutModel",
      "state": {
       "width": "100%"
      }
     },
     "0e1e5828d90540bf85b56533d4c6b616": {
      "model_module": "@jupyter-widgets/base",
      "model_module_version": "2.0.0",
      "model_name": "LayoutModel",
      "state": {}
     },
     "0e349b656b074d689c3bd7c0c4cf7b71": {
      "model_module": "@jupyter-widgets/base",
      "model_module_version": "2.0.0",
      "model_name": "LayoutModel",
      "state": {}
     },
     "0e43a6e5cdc94e89bcc846bb9675529f": {
      "model_module": "@jupyter-widgets/controls",
      "model_module_version": "2.0.0",
      "model_name": "LabelModel",
      "state": {
       "layout": "IPY_MODEL_f52a88af6af246d6b62a47127118e386",
       "style": "IPY_MODEL_91201d51449b4f07a2c40086be3889b1"
      }
     },
     "0e7b82ab6ca34bab952fd95ec7a3388a": {
      "model_module": "@jupyter-widgets/base",
      "model_module_version": "2.0.0",
      "model_name": "LayoutModel",
      "state": {}
     },
     "0eaaba8f18674f5a980d83fa4d5371af": {
      "model_module": "@jupyter-widgets/base",
      "model_module_version": "2.0.0",
      "model_name": "LayoutModel",
      "state": {}
     },
     "0eba1a5e09a84099bdeb82b78d3a9ef8": {
      "model_module": "@jupyter-widgets/base",
      "model_module_version": "2.0.0",
      "model_name": "LayoutModel",
      "state": {
       "width": "33%"
      }
     },
     "0ef98ee79e944dc9a03f0e7ad718b34a": {
      "model_module": "@jupyter-widgets/base",
      "model_module_version": "2.0.0",
      "model_name": "LayoutModel",
      "state": {}
     },
     "0f45a9077dd94457905ab6c283846fcb": {
      "model_module": "@jupyter-widgets/base",
      "model_module_version": "2.0.0",
      "model_name": "LayoutModel",
      "state": {
       "display": "block"
      }
     },
     "0f987b649d8c4caeb5cb2784d5c12133": {
      "model_module": "@jupyter-widgets/base",
      "model_module_version": "2.0.0",
      "model_name": "LayoutModel",
      "state": {
       "width": "100%"
      }
     },
     "1010e4998d564d979252631f3620672d": {
      "model_module": "@jupyter-widgets/controls",
      "model_module_version": "2.0.0",
      "model_name": "TextStyleModel",
      "state": {
       "description_width": "",
       "font_size": null,
       "text_color": null
      }
     },
     "10114a0eb75a4b66bda3bbfcb10f5181": {
      "model_module": "@jupyter-widgets/controls",
      "model_module_version": "2.0.0",
      "model_name": "IntSliderModel",
      "state": {
       "behavior": "drag-tap",
       "layout": "IPY_MODEL_e6331bbf7df145ad9de5959f39a59349",
       "max": 300,
       "style": "IPY_MODEL_76764a7ae3f14a0fbe405644832b606c",
       "tooltip": "Height",
       "value": 173
      }
     },
     "1026b5158020483c8b5fff97ce2bdf06": {
      "model_module": "@jupyter-widgets/controls",
      "model_module_version": "2.0.0",
      "model_name": "TextModel",
      "state": {
       "description": "key",
       "layout": "IPY_MODEL_a3f73b84bebe4b74bac4758b3e68a251",
       "style": "IPY_MODEL_96e67dffa5cd4485b97aa9e5130225fa",
       "value": "key0"
      }
     },
     "103d64219c5b4432a7b543d4da8faf4c": {
      "model_module": "@jupyter-widgets/base",
      "model_module_version": "2.0.0",
      "model_name": "LayoutModel",
      "state": {
       "width": "100%"
      }
     },
     "104e63b2df894036a9fff09f7c61bc2b": {
      "model_module": "@jupyter-widgets/controls",
      "model_module_version": "2.0.0",
      "model_name": "LabelModel",
      "state": {
       "layout": "IPY_MODEL_d6d775d34b7f4e3ebcfc6b028be5e4d5",
       "style": "IPY_MODEL_8141f0242e46423b892721e252d8170d",
       "value": "Name"
      }
     },
     "1058579b7f3b4dfa9e5da5ffc7461243": {
      "model_module": "@jupyter-widgets/controls",
      "model_module_version": "2.0.0",
      "model_name": "DescriptionStyleModel",
      "state": {
       "description_width": ""
      }
     },
     "105abb0d6d724223942be0c6a88070c0": {
      "model_module": "@jupyter-widgets/base",
      "model_module_version": "2.0.0",
      "model_name": "LayoutModel",
      "state": {
       "width": "100%"
      }
     },
     "10fe2f46ac6e401cbe7b259ba7655ccf": {
      "model_module": "@jupyter-widgets/controls",
      "model_module_version": "2.0.0",
      "model_name": "DescriptionStyleModel",
      "state": {
       "description_width": ""
      }
     },
     "1159ab5f6fa842e1b425d1ab8958c309": {
      "model_module": "@jupyter-widgets/base",
      "model_module_version": "2.0.0",
      "model_name": "LayoutModel",
      "state": {
       "display": "none"
      }
     },
     "1163c7a008da4e33a5ca30d7cf065bd4": {
      "model_module": "@jupyter-widgets/controls",
      "model_module_version": "2.0.0",
      "model_name": "LabelStyleModel",
      "state": {
       "description_width": "",
       "font_family": null,
       "font_size": null,
       "font_style": null,
       "font_variant": null,
       "font_weight": null,
       "text_color": null,
       "text_decoration": null
      }
     },
     "11859aedeed94e7e86df42a88afebf03": {
      "model_module": "@jupyter-widgets/base",
      "model_module_version": "2.0.0",
      "model_name": "LayoutModel",
      "state": {
       "width": "100%"
      }
     },
     "11bc79590c1a44db81518631c7b4cdae": {
      "model_module": "@jupyter-widgets/controls",
      "model_module_version": "2.0.0",
      "model_name": "LabelStyleModel",
      "state": {
       "description_width": "",
       "font_family": null,
       "font_size": null,
       "font_style": null,
       "font_variant": null,
       "font_weight": null,
       "text_color": null,
       "text_decoration": null
      }
     },
     "120ed7db665c452fb09599d4a723e6ca": {
      "model_module": "@jupyter-widgets/base",
      "model_module_version": "2.0.0",
      "model_name": "LayoutModel",
      "state": {
       "width": "33%"
      }
     },
     "123121312e394a439c4b636bf760f43b": {
      "model_module": "@jupyter-widgets/base",
      "model_module_version": "2.0.0",
      "model_name": "LayoutModel",
      "state": {}
     },
     "12d0313e20dc483a98fadb1f6a8a6608": {
      "model_module": "@jupyter-widgets/controls",
      "model_module_version": "2.0.0",
      "model_name": "TextStyleModel",
      "state": {
       "description_width": "",
       "font_size": null,
       "text_color": null
      }
     },
     "132277a69bea4906b81abfd175bf80e4": {
      "model_module": "@jupyter-widgets/controls",
      "model_module_version": "2.0.0",
      "model_name": "ButtonStyleModel",
      "state": {
       "font_family": null,
       "font_size": null,
       "font_style": null,
       "font_variant": null,
       "font_weight": null,
       "text_color": null,
       "text_decoration": null
      }
     },
     "133c15fe7c8c4394ae4edfdda80542c6": {
      "model_module": "@jupyter-widgets/controls",
      "model_module_version": "2.0.0",
      "model_name": "HBoxModel",
      "state": {
       "children": [
        "IPY_MODEL_d399c944fc93429eb9edfe9c3c5951e1",
        "IPY_MODEL_65a524d89c7f4b248dfa2d7665906463"
       ],
       "layout": "IPY_MODEL_3cc16f60c56043708e981a4c5ee69e18"
      }
     },
     "135697eca06a44f8bf283bb627391c02": {
      "model_module": "@jupyter-widgets/controls",
      "model_module_version": "2.0.0",
      "model_name": "TextStyleModel",
      "state": {
       "description_width": "",
       "font_size": null,
       "text_color": null
      }
     },
     "1394123e5eb946f583915272a4e48072": {
      "model_module": "@jupyter-widgets/base",
      "model_module_version": "2.0.0",
      "model_name": "LayoutModel",
      "state": {}
     },
     "13cc28bb6ada4e8290a97a193ee31325": {
      "model_module": "@jupyter-widgets/controls",
      "model_module_version": "2.0.0",
      "model_name": "AccordionModel",
      "state": {
       "children": [
        "IPY_MODEL_851c109a247d4054bb452d627f0465d1"
       ],
       "layout": "IPY_MODEL_c9901d26c6ab4f1292709bf7ac6215ca",
       "selected_index": 0,
       "titles": [
        "Adresses"
       ]
      }
     },
     "1400dd98d7ee46bf8d2d9daad6a9cb29": {
      "model_module": "@jupyter-widgets/controls",
      "model_module_version": "2.0.0",
      "model_name": "HBoxModel",
      "state": {
       "children": [
        "IPY_MODEL_1858f4d7dffe465eabcfaa162cd9bef0",
        "IPY_MODEL_f0efb0d970a44e76b030672d4dae7880"
       ],
       "layout": "IPY_MODEL_2065d2b523614f2b8e3f9800823ac9ad"
      }
     },
     "141ea75e77d546dbaa78de03ea9ce293": {
      "model_module": "@jupyter-widgets/base",
      "model_module_version": "2.0.0",
      "model_name": "LayoutModel",
      "state": {}
     },
     "1431440cb3b349e1ba3d4f6c2eefed0e": {
      "model_module": "@jupyter-widgets/controls",
      "model_module_version": "2.0.0",
      "model_name": "HBoxModel",
      "state": {
       "children": [
        "IPY_MODEL_e8905d6a3fbc41e0815d151dc605654c",
        "IPY_MODEL_b75feb8c47ae4bcfac5c90bf29c0f6a0"
       ],
       "layout": "IPY_MODEL_c6eae91a1ca2442bb260f2d02d44460b"
      }
     },
     "144a7352908b44da98faeaf99cce57ed": {
      "model_module": "@jupyter-widgets/base",
      "model_module_version": "2.0.0",
      "model_name": "LayoutModel",
      "state": {}
     },
     "1479c3b80f84423fbb27242afc4ba6b3": {
      "model_module": "@jupyter-widgets/controls",
      "model_module_version": "2.0.0",
      "model_name": "LabelStyleModel",
      "state": {
       "description_width": "",
       "font_family": null,
       "font_size": null,
       "font_style": null,
       "font_variant": null,
       "font_weight": null,
       "text_color": null,
       "text_decoration": null
      }
     },
     "14c8f3a3e5934650a0a3e570e97652bb": {
      "model_module": "@jupyter-widgets/controls",
      "model_module_version": "2.0.0",
      "model_name": "ButtonModel",
      "state": {
       "icon": "arrow-down",
       "layout": "IPY_MODEL_a8aff963cab44e7192d55fcfc420b26a",
       "style": "IPY_MODEL_a300a4253a8942eca809071ac80969b1",
       "tooltip": null
      }
     },
     "14cfb416683940a89d83e481aaab60f8": {
      "model_module": "@jupyter-widgets/base",
      "model_module_version": "2.0.0",
      "model_name": "LayoutModel",
      "state": {}
     },
     "1551f9fb42a34b0b81e66dfaf750c921": {
      "model_module": "@jupyter-widgets/controls",
      "model_module_version": "2.0.0",
      "model_name": "LabelStyleModel",
      "state": {
       "description_width": "",
       "font_family": null,
       "font_size": null,
       "font_style": null,
       "font_variant": null,
       "font_weight": null,
       "text_color": null,
       "text_decoration": null
      }
     },
     "15594f151d4441729e8dee146eabbd04": {
      "model_module": "@jupyter-widgets/controls",
      "model_module_version": "2.0.0",
      "model_name": "TextStyleModel",
      "state": {
       "description_width": "",
       "font_size": null,
       "text_color": null
      }
     },
     "155f0737e35146ce8616e8f23a8c18f9": {
      "model_module": "@jupyter-widgets/base",
      "model_module_version": "2.0.0",
      "model_name": "LayoutModel",
      "state": {}
     },
     "1579057cb4bc46a9be3a3a6498ce7953": {
      "model_module": "@jupyter-widgets/controls",
      "model_module_version": "2.0.0",
      "model_name": "LabelStyleModel",
      "state": {
       "description_width": "",
       "font_family": null,
       "font_size": null,
       "font_style": null,
       "font_variant": null,
       "font_weight": null,
       "text_color": null,
       "text_decoration": null
      }
     },
     "15a84d4964ce4b84a16fca722ea8695f": {
      "model_module": "@jupyter-widgets/controls",
      "model_module_version": "2.0.0",
      "model_name": "TextStyleModel",
      "state": {
       "description_width": "",
       "font_size": null,
       "text_color": null
      }
     },
     "168ee733fb5e4a49bd1da42cc8fdb1a6": {
      "model_module": "@jupyter-widgets/base",
      "model_module_version": "2.0.0",
      "model_name": "LayoutModel",
      "state": {
       "display": "none"
      }
     },
     "16a4d88980e643e094f190a54eb8dcd9": {
      "model_module": "@jupyter-widgets/base",
      "model_module_version": "2.0.0",
      "model_name": "LayoutModel",
      "state": {
       "width": "33%"
      }
     },
     "16bf9aafb8704a7b84bc788014124fb8": {
      "model_module": "@jupyter-widgets/controls",
      "model_module_version": "2.0.0",
      "model_name": "TextStyleModel",
      "state": {
       "description_width": "",
       "font_size": null,
       "text_color": null
      }
     },
     "16ddb7ed64a04b29866cfb9d0cf5b1f8": {
      "model_module": "@jupyter-widgets/controls",
      "model_module_version": "2.0.0",
      "model_name": "TextModel",
      "state": {
       "layout": "IPY_MODEL_8e500822b7b84a71875edb790fbd9e92",
       "style": "IPY_MODEL_07edcaf16b3645d0a404deb4ba0e8d25",
       "tooltip": "Name"
      }
     },
     "16e6207040134db7bf89e83bf66fba41": {
      "model_module": "@jupyter-widgets/base",
      "model_module_version": "2.0.0",
      "model_name": "LayoutModel",
      "state": {
       "width": "100%"
      }
     },
     "16f39e446ba749ca8df10d9363833d2a": {
      "model_module": "@jupyter-widgets/controls",
      "model_module_version": "2.0.0",
      "model_name": "LabelModel",
      "state": {
       "layout": "IPY_MODEL_20a15ea4112e4abe97b6f0f3f4fc76a8",
       "style": "IPY_MODEL_c2998443f6c74253adb64810f374682d"
      }
     },
     "170d83052be04bc2b26a5e90936f8faf": {
      "model_module": "@jupyter-widgets/base",
      "model_module_version": "2.0.0",
      "model_name": "LayoutModel",
      "state": {
       "border_bottom": "none",
       "border_left": "none",
       "border_right": "none",
       "border_top": "none",
       "width": "100%"
      }
     },
     "173ed9d416794f2f9b746ee468fad0d5": {
      "model_module": "@jupyter-widgets/base",
      "model_module_version": "2.0.0",
      "model_name": "LayoutModel",
      "state": {}
     },
     "1748c54e832f4824960c9dfc747da3fd": {
      "model_module": "@jupyter-widgets/base",
      "model_module_version": "2.0.0",
      "model_name": "LayoutModel",
      "state": {}
     },
     "176461c27787486187da0283863102c0": {
      "model_module": "@jupyter-widgets/base",
      "model_module_version": "2.0.0",
      "model_name": "LayoutModel",
      "state": {
       "display": "none"
      }
     },
     "17685a02cbc64af4a489f6b791b2cb87": {
      "model_module": "@jupyter-widgets/base",
      "model_module_version": "2.0.0",
      "model_name": "LayoutModel",
      "state": {}
     },
     "1783f76b040d434eba633ff50dabcda2": {
      "model_module": "@jupyter-widgets/base",
      "model_module_version": "2.0.0",
      "model_name": "LayoutModel",
      "state": {
       "border_bottom": "none",
       "border_left": "none",
       "border_right": "none",
       "border_top": "none",
       "width": "100%"
      }
     },
     "1789c9fd8a7d4b63b2e9aa6b7469a54c": {
      "model_module": "@jupyter-widgets/controls",
      "model_module_version": "2.0.0",
      "model_name": "TextStyleModel",
      "state": {
       "description_width": "",
       "font_size": null,
       "text_color": null
      }
     },
     "178bb2116b0c47afa1325bdc83ac381c": {
      "model_module": "@jupyter-widgets/base",
      "model_module_version": "2.0.0",
      "model_name": "LayoutModel",
      "state": {}
     },
     "178f4a16679c487f9f0ca8fbea26a3ce": {
      "model_module": "@jupyter-widgets/base",
      "model_module_version": "2.0.0",
      "model_name": "LayoutModel",
      "state": {}
     },
     "17a2f7021e6e4e1e8e035a1f76b797ec": {
      "model_module": "@jupyter-widgets/controls",
      "model_module_version": "2.0.0",
      "model_name": "ButtonModel",
      "state": {
       "button_style": "success",
       "description": "Save",
       "icon": "save",
       "layout": "IPY_MODEL_6d00006c8ade434b97e6db2ac73bb9c5",
       "style": "IPY_MODEL_02230e2cbd1a4c2e89e0fd1390b3ec58",
       "tooltip": "Save all changes"
      }
     },
     "17ab1ef9c8614bd595264fb961542227": {
      "model_module": "@jupyter-widgets/base",
      "model_module_version": "2.0.0",
      "model_name": "LayoutModel",
      "state": {
       "width": "100%"
      }
     },
     "17d6a132989a4d44b1cdfa876543fffc": {
      "model_module": "@jupyter-widgets/controls",
      "model_module_version": "2.0.0",
      "model_name": "HBoxModel",
      "state": {
       "children": [
        "IPY_MODEL_628ebae90fb14ed38314d4d12d9ebb25",
        "IPY_MODEL_f16ed06eba7c4dc4bbb4506ad14b57ad"
       ],
       "layout": "IPY_MODEL_02cd9f6e22144877a438bc78665148b9"
      }
     },
     "184d104c7cbd4bd8998f2a304b299db0": {
      "model_module": "@jupyter-widgets/controls",
      "model_module_version": "2.0.0",
      "model_name": "LabelModel",
      "state": {
       "layout": "IPY_MODEL_dee098b81cc1473c8e0577e51cc182e7",
       "style": "IPY_MODEL_5824fbebbe984661859f6c7fc3415481"
      }
     },
     "1858f4d7dffe465eabcfaa162cd9bef0": {
      "model_module": "@jupyter-widgets/controls",
      "model_module_version": "2.0.0",
      "model_name": "LabelModel",
      "state": {
       "layout": "IPY_MODEL_c67c68031f7c4a3996b31190af9278ae",
       "style": "IPY_MODEL_28cf2cf3abd44d1f9ae4d19029141b1c",
       "value": "Uuid"
      }
     },
     "18841d1703034c69b7bbecf1c1e26811": {
      "model_module": "@jupyter-widgets/base",
      "model_module_version": "2.0.0",
      "model_name": "LayoutModel",
      "state": {}
     },
     "18e871d560e54e669c4af3eab00bae23": {
      "model_module": "@jupyter-widgets/base",
      "model_module_version": "2.0.0",
      "model_name": "LayoutModel",
      "state": {}
     },
     "18ed62a918f345b6ae2b75dafdf68f29": {
      "model_module": "@jupyter-widgets/controls",
      "model_module_version": "2.0.0",
      "model_name": "LabelModel",
      "state": {
       "layout": "IPY_MODEL_de7d0e60ec034d2ea2c5e080a7988d30",
       "style": "IPY_MODEL_9d0a71573a944982adb813075169c09b"
      }
     },
     "18f17ea5cc13408283b8912dda9fdd9b": {
      "model_module": "@jupyter-widgets/controls",
      "model_module_version": "2.0.0",
      "model_name": "ButtonStyleModel",
      "state": {
       "font_family": null,
       "font_size": null,
       "font_style": null,
       "font_variant": null,
       "font_weight": null,
       "text_color": null,
       "text_decoration": null
      }
     },
     "18f7219fcd774a3ca18ac0595a2e2dbb": {
      "model_module": "@jupyter-widgets/base",
      "model_module_version": "2.0.0",
      "model_name": "LayoutModel",
      "state": {
       "display": "none"
      }
     },
     "1907d4e5b3f4412a8ca77de183bb20b4": {
      "model_module": "@jupyter-widgets/base",
      "model_module_version": "2.0.0",
      "model_name": "LayoutModel",
      "state": {
       "width": "100%"
      }
     },
     "1913411a37b14d0c96a04770e3f49ce5": {
      "model_module": "@jupyter-widgets/controls",
      "model_module_version": "2.0.0",
      "model_name": "HBoxModel",
      "state": {
       "children": [
        "IPY_MODEL_cedcc4f93ad94152973b2eb8f87fc7f4",
        "IPY_MODEL_ba7e2c89aada4a09a6710022a57ac9c1"
       ],
       "layout": "IPY_MODEL_db5c0f32b93843a780f8dc8e33f8f765"
      }
     },
     "1978a1c363ab43a5a0caefdadb483dee": {
      "model_module": "@jupyter-widgets/controls",
      "model_module_version": "2.0.0",
      "model_name": "IntTextModel",
      "state": {
       "layout": "IPY_MODEL_84cde609c4804358991f9c661c2e1bf7",
       "step": 1,
       "style": "IPY_MODEL_10fe2f46ac6e401cbe7b259ba7655ccf",
       "tooltip": "Age",
       "value": 30
      }
     },
     "197b2396b880452b9dbabbf7475800eb": {
      "model_module": "@jupyter-widgets/base",
      "model_module_version": "2.0.0",
      "model_name": "LayoutModel",
      "state": {
       "border_bottom": "none",
       "border_left": "none",
       "border_right": "none",
       "border_top": "none",
       "width": "100%"
      }
     },
     "1a6b9a3080af4aff887bfc41e2b0cb51": {
      "model_module": "@jupyter-widgets/base",
      "model_module_version": "2.0.0",
      "model_name": "LayoutModel",
      "state": {
       "display": "none"
      }
     },
     "1ab1658790854282a547e22583f9104e": {
      "model_module": "@jupyter-widgets/base",
      "model_module_version": "2.0.0",
      "model_name": "LayoutModel",
      "state": {
       "display": "none"
      }
     },
     "1b887a2bc2604733beb6a1d1c023df23": {
      "model_module": "@jupyter-widgets/base",
      "model_module_version": "2.0.0",
      "model_name": "LayoutModel",
      "state": {}
     },
     "1ba8c31588004b90a8771d8600a16303": {
      "model_module": "@jupyter-widgets/base",
      "model_module_version": "2.0.0",
      "model_name": "LayoutModel",
      "state": {}
     },
     "1bb1ac14bc5d4a88bdec30534b7aa183": {
      "model_module": "@jupyter-widgets/base",
      "model_module_version": "2.0.0",
      "model_name": "LayoutModel",
      "state": {}
     },
     "1bb2dd8468014124bab8cce20bae00b0": {
      "model_module": "@jupyter-widgets/controls",
      "model_module_version": "2.0.0",
      "model_name": "LabelStyleModel",
      "state": {
       "description_width": "",
       "font_family": null,
       "font_size": null,
       "font_style": null,
       "font_variant": null,
       "font_weight": null,
       "text_color": null,
       "text_decoration": null
      }
     },
     "1bb3bc54d1d644d0b9b458b6e8833c54": {
      "model_module": "@jupyter-widgets/base",
      "model_module_version": "2.0.0",
      "model_name": "LayoutModel",
      "state": {
       "border_bottom": "none",
       "border_left": "none",
       "border_right": "none",
       "border_top": "none"
      }
     },
     "1bb8437cd28e4b6ca6a1b8f5871367c6": {
      "model_module": "@jupyter-widgets/base",
      "model_module_version": "2.0.0",
      "model_name": "LayoutModel",
      "state": {}
     },
     "1bcaa01ad6bf4ae6a44b2a494ff88554": {
      "model_module": "@jupyter-widgets/controls",
      "model_module_version": "2.0.0",
      "model_name": "ButtonStyleModel",
      "state": {
       "font_family": null,
       "font_size": null,
       "font_style": null,
       "font_variant": null,
       "font_weight": null,
       "text_color": null,
       "text_decoration": null
      }
     },
     "1bdd1ca9d0c748a9892b20b8e044b5ab": {
      "model_module": "@jupyter-widgets/base",
      "model_module_version": "2.0.0",
      "model_name": "LayoutModel",
      "state": {
       "width": "100%"
      }
     },
     "1be38306681648709683282630753613": {
      "model_module": "@jupyter-widgets/base",
      "model_module_version": "2.0.0",
      "model_name": "LayoutModel",
      "state": {}
     },
     "1c0e281d057645519635026d34ab015b": {
      "model_module": "@jupyter-widgets/controls",
      "model_module_version": "2.0.0",
      "model_name": "SliderStyleModel",
      "state": {
       "description_width": ""
      }
     },
     "1c5ab9d432d3457982bb76b233cfaac0": {
      "model_module": "@jupyter-widgets/controls",
      "model_module_version": "2.0.0",
      "model_name": "TextStyleModel",
      "state": {
       "description_width": "",
       "font_size": null,
       "text_color": null
      }
     },
     "1cad1a9040b041b5856a02853d54bc73": {
      "model_module": "@jupyter-widgets/base",
      "model_module_version": "2.0.0",
      "model_name": "LayoutModel",
      "state": {
       "border_bottom": "none",
       "border_left": "none",
       "border_right": "none",
       "border_top": "none"
      }
     },
     "1cb2345651dc49e0aee7563ac45e21b9": {
      "model_module": "@jupyter-widgets/controls",
      "model_module_version": "2.0.0",
      "model_name": "HBoxModel",
      "state": {
       "children": [
        "IPY_MODEL_6e27962b5a61430ea39f332ed012741e",
        "IPY_MODEL_4997eae28e934c59a2bdc5158e279c45"
       ],
       "layout": "IPY_MODEL_105abb0d6d724223942be0c6a88070c0"
      }
     },
     "1cb7d62cbb5341efb92ae6ea608dfe0b": {
      "model_module": "@jupyter-widgets/base",
      "model_module_version": "2.0.0",
      "model_name": "LayoutModel",
      "state": {
       "width": "100%"
      }
     },
     "1cdff106e464449d860c7a9868d146f6": {
      "model_module": "@jupyter-widgets/controls",
      "model_module_version": "2.0.0",
      "model_name": "ButtonStyleModel",
      "state": {
       "font_family": null,
       "font_size": null,
       "font_style": null,
       "font_variant": null,
       "font_weight": null,
       "text_color": null,
       "text_decoration": null
      }
     },
     "1ce0aecac0304e1c8d4fdc65a5973f3a": {
      "model_module": "@jupyter-widgets/base",
      "model_module_version": "2.0.0",
      "model_name": "LayoutModel",
      "state": {
       "display": "none"
      }
     },
     "1cf5c3ac8256433cabf8f8c666422078": {
      "model_module": "@jupyter-widgets/controls",
      "model_module_version": "2.0.0",
      "model_name": "LabelModel",
      "state": {
       "layout": "IPY_MODEL_7000c9e53ca74bd9a44dd22c7afb6ff6",
       "style": "IPY_MODEL_caf15c7e13da4bd8a645ebb2f3787d04"
      }
     },
     "1d422c95706f40b885cf4c5f312813e4": {
      "model_module": "@jupyter-widgets/controls",
      "model_module_version": "2.0.0",
      "model_name": "IntTextModel",
      "state": {
       "layout": "IPY_MODEL_1783f76b040d434eba633ff50dabcda2",
       "step": 1,
       "style": "IPY_MODEL_b2ed154fa9e2413987ef98d531289da2",
       "value": 2
      }
     },
     "1d550717f41e457ca7aea4ee6368bf5f": {
      "model_module": "@jupyter-widgets/base",
      "model_module_version": "2.0.0",
      "model_name": "LayoutModel",
      "state": {}
     },
     "1d7b15f7ab22449b9a9cc03f41685ea5": {
      "model_module": "@jupyter-widgets/controls",
      "model_module_version": "2.0.0",
      "model_name": "DescriptionStyleModel",
      "state": {
       "description_width": ""
      }
     },
     "1ddcab3193604a65ad8e35ab48999279": {
      "model_module": "@jupyter-widgets/controls",
      "model_module_version": "2.0.0",
      "model_name": "VBoxModel",
      "state": {
       "children": [
        "IPY_MODEL_13cc28bb6ada4e8290a97a193ee31325",
        "IPY_MODEL_b36f8f869c654a2f95b91680dcb8b26d",
        "IPY_MODEL_912114be97354267a70d9241a25e8cc9"
       ],
       "layout": "IPY_MODEL_b2e6a42d0ac0447885ee74755f8a8132"
      }
     },
     "1e1f48a8a4be4973a41a431f323b2ae5": {
      "model_module": "@jupyter-widgets/controls",
      "model_module_version": "2.0.0",
      "model_name": "LabelModel",
      "state": {
       "layout": "IPY_MODEL_b215d7ee27f748d9b4e2dd9836ec1568",
       "style": "IPY_MODEL_9a7e78f969674067b0ae3217b0678f4f",
       "value": "Value"
      }
     },
     "1ec14a740c4949108b84e74740fe66fa": {
      "model_module": "@jupyter-widgets/controls",
      "model_module_version": "2.0.0",
      "model_name": "LabelStyleModel",
      "state": {
       "description_width": "",
       "font_family": null,
       "font_size": null,
       "font_style": null,
       "font_variant": null,
       "font_weight": null,
       "text_color": null,
       "text_decoration": null
      }
     },
     "1f0f74a7db084296aed3381413d24d63": {
      "model_module": "@jupyter-widgets/base",
      "model_module_version": "2.0.0",
      "model_name": "LayoutModel",
      "state": {
       "width": "33%"
      }
     },
     "1f40fd85d45a40dbb1ecca79eb89f73a": {
      "model_module": "@jupyter-widgets/controls",
      "model_module_version": "2.0.0",
      "model_name": "LabelStyleModel",
      "state": {
       "description_width": "",
       "font_family": null,
       "font_size": null,
       "font_style": null,
       "font_variant": null,
       "font_weight": null,
       "text_color": null,
       "text_decoration": null
      }
     },
     "1f71f7b35a5c499cb30c46c9276d28ef": {
      "model_module": "@jupyter-widgets/controls",
      "model_module_version": "2.0.0",
      "model_name": "LabelModel",
      "state": {
       "layout": "IPY_MODEL_2df8d6029da54c839b5a521c17c4edf4",
       "style": "IPY_MODEL_987615bb90c64598b5119a0db1891297"
      }
     },
     "1f78273b53884a979eab2ce2e01380c3": {
      "model_module": "@jupyter-widgets/base",
      "model_module_version": "2.0.0",
      "model_name": "LayoutModel",
      "state": {
       "width": "100%"
      }
     },
     "1f8c180038f145be8906b25cf2100d6b": {
      "model_module": "@jupyter-widgets/controls",
      "model_module_version": "2.0.0",
      "model_name": "ButtonModel",
      "state": {
       "description": "Add entry",
       "icon": "plus",
       "layout": "IPY_MODEL_c9f529f096cf41249a48834bd92c1bfc",
       "style": "IPY_MODEL_86aef3dea0f04f03a082c4921d7228c0",
       "tooltip": null
      }
     },
     "1f8fe971995f4244b3f99d5f384e60be": {
      "model_module": "@jupyter-widgets/controls",
      "model_module_version": "2.0.0",
      "model_name": "LabelStyleModel",
      "state": {
       "description_width": "",
       "font_family": null,
       "font_size": null,
       "font_style": null,
       "font_variant": null,
       "font_weight": null,
       "text_color": null,
       "text_decoration": null
      }
     },
     "1fd7faeb36b04239847927013b869e9b": {
      "model_module": "@jupyter-widgets/controls",
      "model_module_version": "2.0.0",
      "model_name": "LabelModel",
      "state": {
       "layout": "IPY_MODEL_7c63afe7941a4281a72f36aee53e40db",
       "style": "IPY_MODEL_5395a963f41644078f9df640b0098b25",
       "value": "Name"
      }
     },
     "2006fa7167f14966bea421e1d14a6f1d": {
      "model_module": "@jupyter-widgets/controls",
      "model_module_version": "2.0.0",
      "model_name": "VBoxModel",
      "state": {
       "children": [
        "IPY_MODEL_079d18477e6e4ed98bcdfc62f25029dd",
        "IPY_MODEL_a552cda29f0b4f8b87784071a6bb3cda"
       ],
       "layout": "IPY_MODEL_64c0d95eb3e44736a9d35641c7488375"
      }
     },
     "202cd16ace7f42898897e6f4cae42595": {
      "model_module": "@jupyter-widgets/base",
      "model_module_version": "2.0.0",
      "model_name": "LayoutModel",
      "state": {}
     },
     "20342e54afbc40debfd40640fb10b134": {
      "model_module": "@jupyter-widgets/controls",
      "model_module_version": "2.0.0",
      "model_name": "LabelStyleModel",
      "state": {
       "description_width": "",
       "font_family": null,
       "font_size": null,
       "font_style": null,
       "font_variant": null,
       "font_weight": null,
       "text_color": null,
       "text_decoration": null
      }
     },
     "205723564a754b5dabf621ecde57c86c": {
      "model_module": "@jupyter-widgets/base",
      "model_module_version": "2.0.0",
      "model_name": "LayoutModel",
      "state": {}
     },
     "2065d2b523614f2b8e3f9800823ac9ad": {
      "model_module": "@jupyter-widgets/base",
      "model_module_version": "2.0.0",
      "model_name": "LayoutModel",
      "state": {
       "width": "100%"
      }
     },
     "207f931fc73e4c038d2776ae1ef9736b": {
      "model_module": "@jupyter-widgets/base",
      "model_module_version": "2.0.0",
      "model_name": "LayoutModel",
      "state": {
       "border_bottom": "2px solid red",
       "border_left": "2px solid red",
       "border_right": "2px solid red",
       "border_top": "2px solid red",
       "width": "100%"
      }
     },
     "20a15ea4112e4abe97b6f0f3f4fc76a8": {
      "model_module": "@jupyter-widgets/base",
      "model_module_version": "2.0.0",
      "model_name": "LayoutModel",
      "state": {
       "display": "none"
      }
     },
     "20fb4a2f9ad1457b949ac7c784d72e9a": {
      "model_module": "@jupyter-widgets/base",
      "model_module_version": "2.0.0",
      "model_name": "LayoutModel",
      "state": {
       "display": "none"
      }
     },
     "2121648a3310463cb2f62215e280c722": {
      "model_module": "@jupyter-widgets/base",
      "model_module_version": "2.0.0",
      "model_name": "LayoutModel",
      "state": {}
     },
     "21954fa3eb4545d397aba8e2dbf26f43": {
      "model_module": "@jupyter-widgets/controls",
      "model_module_version": "2.0.0",
      "model_name": "HBoxModel",
      "state": {
       "children": [
        "IPY_MODEL_88aef3fdaf3e4a82af798f1e7d506232",
        "IPY_MODEL_b3fca7a6894d470dbb03a7bc95031010"
       ],
       "layout": "IPY_MODEL_c067fde488144bc9bebb04b03ae13b97"
      }
     },
     "21b7a58cee2a438bb03245153605ee08": {
      "model_module": "@jupyter-widgets/controls",
      "model_module_version": "2.0.0",
      "model_name": "ButtonStyleModel",
      "state": {
       "font_family": null,
       "font_size": null,
       "font_style": null,
       "font_variant": null,
       "font_weight": null,
       "text_color": null,
       "text_decoration": null
      }
     },
     "21bee8b05a7d4e468f709f1b09c88449": {
      "model_module": "@jupyter-widgets/base",
      "model_module_version": "2.0.0",
      "model_name": "LayoutModel",
      "state": {
       "width": "100%"
      }
     },
     "21ede88e26e649468b5a63c48d2c0b49": {
      "model_module": "@jupyter-widgets/base",
      "model_module_version": "2.0.0",
      "model_name": "LayoutModel",
      "state": {}
     },
     "21fa98f5129842b487d0c8bfe4c6898a": {
      "model_module": "@jupyter-widgets/controls",
      "model_module_version": "2.0.0",
      "model_name": "TextStyleModel",
      "state": {
       "description_width": "",
       "font_size": null,
       "text_color": null
      }
     },
     "2261f26051e7412a95f8bf952b9e6fd1": {
      "model_module": "@jupyter-widgets/base",
      "model_module_version": "2.0.0",
      "model_name": "LayoutModel",
      "state": {}
     },
     "22c3d9908b90492ba6d71b013287ce6c": {
      "model_module": "@jupyter-widgets/controls",
      "model_module_version": "2.0.0",
      "model_name": "VBoxModel",
      "state": {
       "children": [
        "IPY_MODEL_a8499e812dfd4792a0aabea55e9ff5c6",
        "IPY_MODEL_264d04b6276143569a21b6a901cb9ee5"
       ],
       "layout": "IPY_MODEL_1bb8437cd28e4b6ca6a1b8f5871367c6"
      }
     },
     "22c488f273774fd989c620405010e370": {
      "model_module": "@jupyter-widgets/base",
      "model_module_version": "2.0.0",
      "model_name": "LayoutModel",
      "state": {}
     },
     "22d57c0f0a0046268be27d76011d87dd": {
      "model_module": "@jupyter-widgets/controls",
      "model_module_version": "2.0.0",
      "model_name": "ButtonStyleModel",
      "state": {
       "font_family": null,
       "font_size": null,
       "font_style": null,
       "font_variant": null,
       "font_weight": null,
       "text_color": null,
       "text_decoration": null
      }
     },
     "23606edf47b24860bddefda17763ce19": {
      "model_module": "@jupyter-widgets/controls",
      "model_module_version": "2.0.0",
      "model_name": "TextStyleModel",
      "state": {
       "description_width": "",
       "font_size": null,
       "text_color": null
      }
     },
     "240b16f550a24e40b417d02a7a7540e3": {
      "model_module": "@jupyter-widgets/controls",
      "model_module_version": "2.0.0",
      "model_name": "HBoxModel",
      "state": {
       "children": [
        "IPY_MODEL_f02940d90f48438ca051c7530d8ac74a",
        "IPY_MODEL_936342b951264da4b519441679e4aeb5"
       ],
       "layout": "IPY_MODEL_3b7b0e169b8c4a7882ff4c53386930b3"
      }
     },
     "2428501c043b4484a45c8d32503bf36d": {
      "model_module": "@jupyter-widgets/base",
      "model_module_version": "2.0.0",
      "model_name": "LayoutModel",
      "state": {
       "width": "100%"
      }
     },
     "2434fcd20ec14438b1ba7d96f293a632": {
      "model_module": "@jupyter-widgets/controls",
      "model_module_version": "2.0.0",
      "model_name": "HBoxModel",
      "state": {
       "children": [
        "IPY_MODEL_94af84c36f80465481fba792ade68e30",
        "IPY_MODEL_cbdf5dd45a2c484487188cb6f6dca6c3"
       ],
       "layout": "IPY_MODEL_a26130c9b940478c95f91e9b1f729a9b"
      }
     },
     "2447789eea744083815ecdc8a6a8ee5b": {
      "model_module": "@jupyter-widgets/base",
      "model_module_version": "2.0.0",
      "model_name": "LayoutModel",
      "state": {
       "display": "flex",
       "justify_content": "flex-end"
      }
     },
     "2456e6a9eefe44ec86f45af49d2b5592": {
      "model_module": "@jupyter-widgets/base",
      "model_module_version": "2.0.0",
      "model_name": "LayoutModel",
      "state": {
       "width": "100%"
      }
     },
     "24904b4b950343ffb531fe7f1da2009e": {
      "model_module": "@jupyter-widgets/controls",
      "model_module_version": "2.0.0",
      "model_name": "ButtonModel",
      "state": {
       "description": "Edit",
       "icon": "pencil",
       "layout": "IPY_MODEL_2b784c64e2424fc090a33fc73ccb866d",
       "style": "IPY_MODEL_9d19a459f818416fbd04145423131afa",
       "tooltip": "Edit model"
      }
     },
     "24d3db31f095434ba740fdba8d31c42d": {
      "model_module": "@jupyter-widgets/controls",
      "model_module_version": "2.0.0",
      "model_name": "LabelModel",
      "state": {
       "layout": "IPY_MODEL_707c207785f74af4ab2aa46665343a35",
       "style": "IPY_MODEL_8f8afd8196474d2b859af9e22999500b"
      }
     },
     "252332a8ba63422695921bf0703cde26": {
      "model_module": "@jupyter-widgets/base",
      "model_module_version": "2.0.0",
      "model_name": "LayoutModel",
      "state": {
       "width": "100%"
      }
     },
     "25696641a2f04e7aa859c0719cd2ade3": {
      "model_module": "@jupyter-widgets/base",
      "model_module_version": "2.0.0",
      "model_name": "LayoutModel",
      "state": {
       "width": "100%"
      }
     },
     "2580e72f4e6f423faba18f7d8df243bd": {
      "model_module": "@jupyter-widgets/controls",
      "model_module_version": "2.0.0",
      "model_name": "TextStyleModel",
      "state": {
       "description_width": "",
       "font_size": null,
       "text_color": null
      }
     },
     "2586134f2bb2440e9fed3261edb10b9f": {
      "model_module": "@jupyter-widgets/base",
      "model_module_version": "2.0.0",
      "model_name": "LayoutModel",
      "state": {}
     },
     "25ac2b7ab5a54084b8863103f34ecc88": {
      "model_module": "@jupyter-widgets/controls",
      "model_module_version": "2.0.0",
      "model_name": "TextStyleModel",
      "state": {
       "description_width": "",
       "font_size": null,
       "text_color": null
      }
     },
     "25b77a59fa7e41d686b953cb4835e5ee": {
      "model_module": "@jupyter-widgets/base",
      "model_module_version": "2.0.0",
      "model_name": "LayoutModel",
      "state": {}
     },
     "26120a7ae74c49e19a32d02a9a7b4908": {
      "model_module": "@jupyter-widgets/base",
      "model_module_version": "2.0.0",
      "model_name": "LayoutModel",
      "state": {
       "width": "100%"
      }
     },
     "2629a429c7a548cb8513a8838a349e71": {
      "model_module": "@jupyter-widgets/controls",
      "model_module_version": "2.0.0",
      "model_name": "VBoxModel",
      "state": {
       "children": [
        "IPY_MODEL_57627c38cefd4a9dbaca1b21d6b90110",
        "IPY_MODEL_844ea30d996d46fa804f486dc2b6847c",
        "IPY_MODEL_f788e3fb09964b3c87b1de784c30e1d5"
       ],
       "layout": "IPY_MODEL_f915341b5a3949869b445f6c2c97ea49"
      }
     },
     "264d04b6276143569a21b6a901cb9ee5": {
      "model_module": "@jupyter-widgets/controls",
      "model_module_version": "2.0.0",
      "model_name": "ButtonModel",
      "state": {
       "description": "Add entry",
       "icon": "plus",
       "layout": "IPY_MODEL_b37a530596994f46a5015c53d43462fd",
       "style": "IPY_MODEL_992ffa5494de404a876e90fa73abb3d3",
       "tooltip": null
      }
     },
     "267227ccadad44f1b4f035f36aba6e5f": {
      "model_module": "@jupyter-widgets/base",
      "model_module_version": "2.0.0",
      "model_name": "LayoutModel",
      "state": {
       "width": "100%"
      }
     },
     "2679950a024948238672376de25e1452": {
      "model_module": "@jupyter-widgets/base",
      "model_module_version": "2.0.0",
      "model_name": "LayoutModel",
      "state": {
       "display": "none"
      }
     },
     "2688e7ad67ac410db4193ca584041f3d": {
      "model_module": "@jupyter-widgets/controls",
      "model_module_version": "2.0.0",
      "model_name": "ButtonModel",
      "state": {
       "icon": "arrow-up",
       "layout": "IPY_MODEL_1f0f74a7db084296aed3381413d24d63",
       "style": "IPY_MODEL_3e90bb46039f4f57aabe65fa9a701bab",
       "tooltip": null
      }
     },
     "2693f14e54684b5886f2e6178906be2c": {
      "model_module": "@jupyter-widgets/controls",
      "model_module_version": "2.0.0",
      "model_name": "LabelModel",
      "state": {
       "layout": "IPY_MODEL_2930d3beec7a44adb97ef5b4963a2aaa",
       "style": "IPY_MODEL_ab2e7b967fa14823846ad82e3f50b61e"
      }
     },
     "269cd76f2416470ba0efdaeb962cb015": {
      "model_module": "@jupyter-widgets/controls",
      "model_module_version": "2.0.0",
      "model_name": "ButtonModel",
      "state": {
       "icon": "arrow-up",
       "layout": "IPY_MODEL_3dbdf9279517465fb6ee12629ee660df",
       "style": "IPY_MODEL_ab8a73794d4f421993a84ff4f3ae78db",
       "tooltip": null
      }
     },
     "26dc3f8ff1c64dab8608d66cda683a2f": {
      "model_module": "@jupyter-widgets/base",
      "model_module_version": "2.0.0",
      "model_name": "LayoutModel",
      "state": {}
     },
     "26e03a881cf84a0ebd6dec15745055ed": {
      "model_module": "@jupyter-widgets/base",
      "model_module_version": "2.0.0",
      "model_name": "LayoutModel",
      "state": {
       "width": "100%"
      }
     },
     "2703bb995d964df2bb52660fb5135855": {
      "model_module": "@jupyter-widgets/controls",
      "model_module_version": "2.0.0",
      "model_name": "DescriptionStyleModel",
      "state": {
       "description_width": ""
      }
     },
     "270a5039646e4976a5cd1ae1e9e15f40": {
      "model_module": "@jupyter-widgets/base",
      "model_module_version": "2.0.0",
      "model_name": "LayoutModel",
      "state": {}
     },
     "270e63b6cb3d4558a88d7c9642c2feb7": {
      "model_module": "@jupyter-widgets/controls",
      "model_module_version": "2.0.0",
      "model_name": "LabelModel",
      "state": {
       "layout": "IPY_MODEL_85064ae6f4834c83b2af7b57b848ed98",
       "style": "IPY_MODEL_d5baa3a67e8b4f28b6392254575b0c32",
       "value": "Name"
      }
     },
     "27382ebde01e45a69bcea014112d1acc": {
      "model_module": "@jupyter-widgets/controls",
      "model_module_version": "2.0.0",
      "model_name": "VBoxModel",
      "state": {
       "children": [
        "IPY_MODEL_8b18141bd3ae4118bbfd717b65a5c9f4",
        "IPY_MODEL_05ef917615c5408cafc09d20a556a6ce"
       ],
       "layout": "IPY_MODEL_9021478410da465b964474c673deb0dd"
      }
     },
     "2756c0e964634575859a0ac2f6508eed": {
      "model_module": "@jupyter-widgets/base",
      "model_module_version": "2.0.0",
      "model_name": "LayoutModel",
      "state": {
       "display": "none"
      }
     },
     "275e63c382404a1c8dc871b72f6979f5": {
      "model_module": "@jupyter-widgets/base",
      "model_module_version": "2.0.0",
      "model_name": "LayoutModel",
      "state": {}
     },
     "276760a707bb4cce8058fe578bebe84f": {
      "model_module": "@jupyter-widgets/controls",
      "model_module_version": "2.0.0",
      "model_name": "LabelModel",
      "state": {
       "layout": "IPY_MODEL_4e08d986fd914d2eb98b6bc2031dfb6e",
       "style": "IPY_MODEL_64a943bd96854e1e90217d5b08e1eee2"
      }
     },
     "27709297d05a40799440b0155c239a7e": {
      "model_module": "@jupyter-widgets/controls",
      "model_module_version": "2.0.0",
      "model_name": "LabelStyleModel",
      "state": {
       "description_width": "",
       "font_family": null,
       "font_size": null,
       "font_style": null,
       "font_variant": null,
       "font_weight": null,
       "text_color": null,
       "text_decoration": null
      }
     },
     "2776e8a333d04654aa7edc3fe4ba5803": {
      "model_module": "@jupyter-widgets/base",
      "model_module_version": "2.0.0",
      "model_name": "LayoutModel",
      "state": {
       "width": "100%"
      }
     },
     "27a4833312d84a3d964030df970f3941": {
      "model_module": "@jupyter-widgets/controls",
      "model_module_version": "2.0.0",
      "model_name": "ButtonModel",
      "state": {
       "icon": "trash",
       "layout": "IPY_MODEL_381d6df1ff584dcea4b211350a94fe78",
       "style": "IPY_MODEL_2df1bffea1d043d59fb618a768028bf1",
       "tooltip": null
      }
     },
     "280c497d1d0d4dd0bbbb9f269becc9ea": {
      "model_module": "@jupyter-widgets/controls",
      "model_module_version": "2.0.0",
      "model_name": "TextStyleModel",
      "state": {
       "description_width": "",
       "font_size": null,
       "text_color": null
      }
     },
     "28365df411db4ea5a863a261d648d1ac": {
      "model_module": "@jupyter-widgets/controls",
      "model_module_version": "2.0.0",
      "model_name": "LabelModel",
      "state": {
       "layout": "IPY_MODEL_348c981e2a2c46b48aafe9eb63c49d0f",
       "style": "IPY_MODEL_8ca958d066c146f4a0a2cd490f3af044",
       "value": "Email Wrong"
      }
     },
     "285368da57f44f069e3947ea2d472e31": {
      "model_module": "@jupyter-widgets/base",
      "model_module_version": "2.0.0",
      "model_name": "LayoutModel",
      "state": {
       "width": "100%"
      }
     },
     "2855c24226db4cc6bd1bfa284b46bcb8": {
      "model_module": "@jupyter-widgets/controls",
      "model_module_version": "2.0.0",
      "model_name": "HBoxModel",
      "state": {
       "children": [
        "IPY_MODEL_bd02b67e26a24ba58b928ad507c2511b",
        "IPY_MODEL_ae2e727990e0475fa509aee4b1daef0c"
       ],
       "layout": "IPY_MODEL_017c2fdb285a4f9a85a405f04909cc57"
      }
     },
     "2893205d8bab424c82555ca874460524": {
      "model_module": "@jupyter-widgets/base",
      "model_module_version": "2.0.0",
      "model_name": "LayoutModel",
      "state": {}
     },
     "28bf87f196a74623976d7c888c4b804a": {
      "model_module": "@jupyter-widgets/controls",
      "model_module_version": "2.0.0",
      "model_name": "VBoxModel",
      "state": {
       "children": [
        "IPY_MODEL_21954fa3eb4545d397aba8e2dbf26f43",
        "IPY_MODEL_ad68b47a451046f2a0aa9c4d09a152d9",
        "IPY_MODEL_cf4738c902874f3f8c2fdd3b72a0ba7e",
        "IPY_MODEL_6e874045ec364716afe0ba3b1d9d8613"
       ],
       "layout": "IPY_MODEL_3ef9d8824ee44d34811ad9b54e11617d"
      }
     },
     "28cf2cf3abd44d1f9ae4d19029141b1c": {
      "model_module": "@jupyter-widgets/controls",
      "model_module_version": "2.0.0",
      "model_name": "LabelStyleModel",
      "state": {
       "description_width": "",
       "font_family": null,
       "font_size": null,
       "font_style": null,
       "font_variant": null,
       "font_weight": null,
       "text_color": null,
       "text_decoration": null
      }
     },
     "28e98ecafba745ca8641136f9047bfa6": {
      "model_module": "@jupyter-widgets/base",
      "model_module_version": "2.0.0",
      "model_name": "LayoutModel",
      "state": {
       "width": "100%"
      }
     },
     "291ec8b86f4d448480f7f962efffef07": {
      "model_module": "@jupyter-widgets/controls",
      "model_module_version": "2.0.0",
      "model_name": "LabelStyleModel",
      "state": {
       "description_width": "",
       "font_family": null,
       "font_size": null,
       "font_style": null,
       "font_variant": null,
       "font_weight": null,
       "text_color": null,
       "text_decoration": null
      }
     },
     "2930d3beec7a44adb97ef5b4963a2aaa": {
      "model_module": "@jupyter-widgets/base",
      "model_module_version": "2.0.0",
      "model_name": "LayoutModel",
      "state": {
       "display": "none"
      }
     },
     "2982c38a2fad4862a7659cb75d2046f8": {
      "model_module": "@jupyter-widgets/base",
      "model_module_version": "2.0.0",
      "model_name": "LayoutModel",
      "state": {}
     },
     "2998a0edb731430d9ac47f847de5c349": {
      "model_module": "@jupyter-widgets/controls",
      "model_module_version": "2.0.0",
      "model_name": "LabelModel",
      "state": {
       "layout": "IPY_MODEL_a327b70d0e5340018ba17533a2df01f8",
       "style": "IPY_MODEL_2cf5ecfbd6d947bb9be31d7e69189858",
       "value": "Warning: Input does not match the specified pattern"
      }
     },
     "29c125fb438c4a9e9c4ea6269aa49e92": {
      "model_module": "@jupyter-widgets/controls",
      "model_module_version": "2.0.0",
      "model_name": "LabelModel",
      "state": {
       "layout": "IPY_MODEL_d6b16325384c486a87b15a2ffb5678f6",
       "style": "IPY_MODEL_7771d36f7aa74f73b1c1e3aafba5275b",
       "value": "Text"
      }
     },
     "29e29f6886a44b51b56da2700f282834": {
      "model_module": "@jupyter-widgets/controls",
      "model_module_version": "2.0.0",
      "model_name": "ButtonModel",
      "state": {
       "icon": "arrow-up",
       "layout": "IPY_MODEL_ae59d898be5043bca47a6e5498baeb1d",
       "style": "IPY_MODEL_92fcf20e604f477b87b50f7d15dfa4d2",
       "tooltip": null
      }
     },
     "2a5ec94854a84ae9a36bb8d18c313956": {
      "model_module": "@jupyter-widgets/base",
      "model_module_version": "2.0.0",
      "model_name": "LayoutModel",
      "state": {}
     },
     "2a82abc843c54b3193c39cf3aed9985d": {
      "model_module": "@jupyter-widgets/base",
      "model_module_version": "2.0.0",
      "model_name": "LayoutModel",
      "state": {
       "width": "100%"
      }
     },
     "2aa47ea6e5554cf793618d80e5b1a6cf": {
      "model_module": "@jupyter-widgets/controls",
      "model_module_version": "2.0.0",
      "model_name": "LabelModel",
      "state": {
       "layout": "IPY_MODEL_9bf08a6049c14c1eaa8261cc28598bb5",
       "style": "IPY_MODEL_cf573637d9c04c1d86e445e18dd959eb"
      }
     },
     "2b1eaaeac10c44b8baadea933440510d": {
      "model_module": "@jupyter-widgets/controls",
      "model_module_version": "2.0.0",
      "model_name": "DescriptionStyleModel",
      "state": {
       "description_width": ""
      }
     },
     "2b62566df74d447bbefd0765576e413b": {
      "model_module": "@jupyter-widgets/base",
      "model_module_version": "2.0.0",
      "model_name": "LayoutModel",
      "state": {}
     },
     "2b784c64e2424fc090a33fc73ccb866d": {
      "model_module": "@jupyter-widgets/base",
      "model_module_version": "2.0.0",
      "model_name": "LayoutModel",
      "state": {
       "display": "none"
      }
     },
     "2b9b42c0dbcc40cbbd383d9e987291e3": {
      "model_module": "@jupyter-widgets/controls",
      "model_module_version": "2.0.0",
      "model_name": "AccordionModel",
      "state": {
       "children": [
        "IPY_MODEL_d540b7d27c5c4d7c9417036b325338cd"
       ],
       "layout": "IPY_MODEL_59e83a188a4944408b00e84f8290c278",
       "selected_index": 0,
       "titles": [
        "Category"
       ]
      }
     },
     "2bfd58993e614f2382434b6b7514eb84": {
      "model_module": "@jupyter-widgets/base",
      "model_module_version": "2.0.0",
      "model_name": "LayoutModel",
      "state": {}
     },
     "2c35119579254625b553acdd0662cbef": {
      "model_module": "@jupyter-widgets/controls",
      "model_module_version": "2.0.0",
      "model_name": "TextStyleModel",
      "state": {
       "description_width": "",
       "font_size": null,
       "text_color": null
      }
     },
     "2cb5eef3bdc64fbea6f64acf1fc16a06": {
      "model_module": "@jupyter-widgets/base",
      "model_module_version": "2.0.0",
      "model_name": "LayoutModel",
      "state": {
       "width": "100%"
      }
     },
     "2cf3545ca2e840f6bedc2e26da4c88a3": {
      "model_module": "@jupyter-widgets/controls",
      "model_module_version": "2.0.0",
      "model_name": "LabelModel",
      "state": {
       "layout": "IPY_MODEL_168ee733fb5e4a49bd1da42cc8fdb1a6",
       "style": "IPY_MODEL_cb036752138d44d1bfb6fd77ae151898"
      }
     },
     "2cf5ecfbd6d947bb9be31d7e69189858": {
      "model_module": "@jupyter-widgets/controls",
      "model_module_version": "2.0.0",
      "model_name": "LabelStyleModel",
      "state": {
       "description_width": "",
       "font_family": null,
       "font_size": null,
       "font_style": null,
       "font_variant": null,
       "font_weight": null,
       "text_color": null,
       "text_decoration": null
      }
     },
     "2d0773ae7efe4566affac78f4e812b1e": {
      "model_module": "@jupyter-widgets/base",
      "model_module_version": "2.0.0",
      "model_name": "LayoutModel",
      "state": {
       "width": "33%"
      }
     },
     "2d4583732a7b425aae285ddde07cb056": {
      "model_module": "@jupyter-widgets/base",
      "model_module_version": "2.0.0",
      "model_name": "LayoutModel",
      "state": {}
     },
     "2dcc5057bf704abc9c932653b8899d4d": {
      "model_module": "@jupyter-widgets/base",
      "model_module_version": "2.0.0",
      "model_name": "LayoutModel",
      "state": {
       "width": "100%"
      }
     },
     "2df1bffea1d043d59fb618a768028bf1": {
      "model_module": "@jupyter-widgets/controls",
      "model_module_version": "2.0.0",
      "model_name": "ButtonStyleModel",
      "state": {
       "font_family": null,
       "font_size": null,
       "font_style": null,
       "font_variant": null,
       "font_weight": null,
       "text_color": null,
       "text_decoration": null
      }
     },
     "2df8d6029da54c839b5a521c17c4edf4": {
      "model_module": "@jupyter-widgets/base",
      "model_module_version": "2.0.0",
      "model_name": "LayoutModel",
      "state": {
       "display": "none"
      }
     },
     "2dfbe70e6a7840fba91ff117b3a473c1": {
      "model_module": "@jupyter-widgets/controls",
      "model_module_version": "2.0.0",
      "model_name": "TextModel",
      "state": {
       "layout": "IPY_MODEL_5fe7d7114d194451838c5b968d4b1c7a",
       "style": "IPY_MODEL_ccb674bc16e8475787bb844b40b60107",
       "tooltip": "Email"
      }
     },
     "2e38277a32cc4609a4859aa0ac82c0ff": {
      "model_module": "@jupyter-widgets/controls",
      "model_module_version": "2.0.0",
      "model_name": "LabelModel",
      "state": {
       "layout": "IPY_MODEL_b3d22e34278a4bbda3181f5d462d80a3",
       "style": "IPY_MODEL_6793f0f33fd8466d88dc8d856d1f0a60"
      }
     },
     "2e62414efa7b4a25b267963cbbabe116": {
      "model_module": "@jupyter-widgets/base",
      "model_module_version": "2.0.0",
      "model_name": "LayoutModel",
      "state": {}
     },
     "2e6fe424812b4024b50bb802c85c6d52": {
      "model_module": "@jupyter-widgets/controls",
      "model_module_version": "2.0.0",
      "model_name": "LabelModel",
      "state": {
       "layout": "IPY_MODEL_1ce0aecac0304e1c8d4fdc65a5973f3a",
       "style": "IPY_MODEL_616db961cea44124be83fd2b9ba6bc06"
      }
     },
     "2ea8aee35c054256b87dd5fc1ab5a8a8": {
      "model_module": "@jupyter-widgets/base",
      "model_module_version": "2.0.0",
      "model_name": "LayoutModel",
      "state": {
       "width": "100%"
      }
     },
     "2eb72661103f43d6afecd9eacea93277": {
      "model_module": "@jupyter-widgets/controls",
      "model_module_version": "2.0.0",
      "model_name": "ButtonModel",
      "state": {
       "button_style": "warning",
       "description": "Cancel",
       "icon": "times",
       "layout": "IPY_MODEL_2f405e39cf6942ddb92d29f93f2e61ad",
       "style": "IPY_MODEL_bfd276b16a9047188a84e827622c93e2",
       "tooltip": "Undo all changes"
      }
     },
     "2f1bb2192e33425e9930cd16dfe94c4a": {
      "model_module": "@jupyter-widgets/controls",
      "model_module_version": "2.0.0",
      "model_name": "HBoxModel",
      "state": {
       "children": [
        "IPY_MODEL_2eb72661103f43d6afecd9eacea93277",
        "IPY_MODEL_ea23f91a9ea946bc866f1a59c6f98119"
       ],
       "layout": "IPY_MODEL_09185a279f814e609cbb37524b0e4a80"
      }
     },
     "2f405e39cf6942ddb92d29f93f2e61ad": {
      "model_module": "@jupyter-widgets/base",
      "model_module_version": "2.0.0",
      "model_name": "LayoutModel",
      "state": {}
     },
     "2f6d3af7e6f4491b8c3dd7aab2cdc39d": {
      "model_module": "@jupyter-widgets/controls",
      "model_module_version": "2.0.0",
      "model_name": "VBoxModel",
      "state": {
       "children": [
        "IPY_MODEL_63da94f5e02248fe95745d0e62b131f1"
       ],
       "layout": "IPY_MODEL_50fdb74736564cf097a0188cf6965447"
      }
     },
     "2f7c73d9b1ca46ce94376babeff5a7c8": {
      "model_module": "@jupyter-widgets/controls",
      "model_module_version": "2.0.0",
      "model_name": "ButtonModel",
      "state": {
       "icon": "arrow-down",
       "layout": "IPY_MODEL_fa04243fb1dd4d8da2236de7a9542d7e",
       "style": "IPY_MODEL_1bcaa01ad6bf4ae6a44b2a494ff88554",
       "tooltip": null
      }
     },
     "2f9488764d0242c2b0e17d8794dd8bdd": {
      "model_module": "@jupyter-widgets/controls",
      "model_module_version": "2.0.0",
      "model_name": "LabelModel",
      "state": {
       "layout": "IPY_MODEL_ae0bb7b21d4642aeb1c9eb9966cdbff2",
       "style": "IPY_MODEL_77da3f57bd6f4fdf88b505fcc6ea9fc9",
       "value": "ColorEnum"
      }
     },
     "2fa36dff423646b685161d6f635d173f": {
      "model_module": "@jupyter-widgets/controls",
      "model_module_version": "2.0.0",
      "model_name": "VBoxModel",
      "state": {
       "children": [
        "IPY_MODEL_d49dc2bc11874763bbf3128f40d4fa95"
       ],
       "layout": "IPY_MODEL_9555beeb9cd2476bab79becc70e12f99"
      }
     },
     "2ff1b55f42b64849a733e4aa14f62a8b": {
      "model_module": "@jupyter-widgets/base",
      "model_module_version": "2.0.0",
      "model_name": "LayoutModel",
      "state": {}
     },
     "30733be73957439ab9ea784726a25e28": {
      "model_module": "@jupyter-widgets/controls",
      "model_module_version": "2.0.0",
      "model_name": "VBoxModel",
      "state": {
       "children": [
        "IPY_MODEL_dfa3a501f1af48298b480740e904a287",
        "IPY_MODEL_24d3db31f095434ba740fdba8d31c42d",
        "IPY_MODEL_67397c197631429c8864556bbffaa617",
        "IPY_MODEL_276760a707bb4cce8058fe578bebe84f"
       ],
       "layout": "IPY_MODEL_e56ae95a8078413bb7e4ea2426ae2497"
      }
     },
     "3083036a78c040f0812c5dc80fcf0e11": {
      "model_module": "@jupyter-widgets/controls",
      "model_module_version": "2.0.0",
      "model_name": "HBoxModel",
      "state": {
       "children": [
        "IPY_MODEL_e5172be4b6b7417f9e562e4449019233",
        "IPY_MODEL_a845aa92ca2742deabb70d8a31077e52"
       ],
       "layout": "IPY_MODEL_09db2bfc395144788e29c519019681e2"
      }
     },
     "30bd7d8d6ac24eaba7e49c1910670b51": {
      "model_module": "@jupyter-widgets/base",
      "model_module_version": "2.0.0",
      "model_name": "LayoutModel",
      "state": {}
     },
     "30cf376b3d1348579ce124f6ebde3b72": {
      "model_module": "@jupyter-widgets/base",
      "model_module_version": "2.0.0",
      "model_name": "LayoutModel",
      "state": {
       "display": "block"
      }
     },
     "316fafc12d064bfe918aa126a4e827ae": {
      "model_module": "@jupyter-widgets/base",
      "model_module_version": "2.0.0",
      "model_name": "LayoutModel",
      "state": {
       "width": "100%"
      }
     },
     "319d72129c59472b89f64a11c2e5b6da": {
      "model_module": "@jupyter-widgets/controls",
      "model_module_version": "2.0.0",
      "model_name": "HBoxModel",
      "state": {
       "children": [
        "IPY_MODEL_1e1f48a8a4be4973a41a431f323b2ae5",
        "IPY_MODEL_030b692cbeb741e098fa50467afc4d29"
       ],
       "layout": "IPY_MODEL_c7b023d36f8c454c939f1b11b2a100ac"
      }
     },
     "319f4e60b6a24d3c99225c3bbfaa02de": {
      "model_module": "@jupyter-widgets/controls",
      "model_module_version": "2.0.0",
      "model_name": "HBoxModel",
      "state": {
       "children": [
        "IPY_MODEL_1d422c95706f40b885cf4c5f312813e4"
       ],
       "layout": "IPY_MODEL_54a9fb7fead94a1c9f6b7899aa253c7a"
      }
     },
     "31e603d17e33402abd85a3889b1e9295": {
      "model_module": "@jupyter-widgets/controls",
      "model_module_version": "2.0.0",
      "model_name": "VBoxModel",
      "state": {
       "children": [
        "IPY_MODEL_e0cb9850c5f543ab8a438653720190ea",
        "IPY_MODEL_399c6e55008c44519ed96b8589f88999",
        "IPY_MODEL_8b8ba0f238794a72a30dc6e119371b85"
       ],
       "layout": "IPY_MODEL_c93a691d79304efaa8ded31cfefd1e51"
      }
     },
     "320b9dd8e9ed4d28b3efce6f07693597": {
      "model_module": "@jupyter-widgets/base",
      "model_module_version": "2.0.0",
      "model_name": "LayoutModel",
      "state": {
       "width": "100%"
      }
     },
     "3214ca191f9a472685b132e94fcd2b08": {
      "model_module": "@jupyter-widgets/base",
      "model_module_version": "2.0.0",
      "model_name": "LayoutModel",
      "state": {
       "width": "100%"
      }
     },
     "321fc770fd1f42158cc5c7d21d475bba": {
      "model_module": "@jupyter-widgets/base",
      "model_module_version": "2.0.0",
      "model_name": "LayoutModel",
      "state": {
       "display": "none"
      }
     },
     "323f9d63ae6d49a1a461ed94438727be": {
      "model_module": "@jupyter-widgets/base",
      "model_module_version": "2.0.0",
      "model_name": "LayoutModel",
      "state": {
       "border_bottom": "none",
       "border_left": "none",
       "border_right": "none",
       "border_top": "none"
      }
     },
     "32783ef4b2df4e5ebddd532502b764a1": {
      "model_module": "@jupyter-widgets/base",
      "model_module_version": "2.0.0",
      "model_name": "LayoutModel",
      "state": {
       "border_bottom": "none",
       "border_left": "none",
       "border_right": "none",
       "border_top": "none",
       "width": "100%"
      }
     },
     "32a5d708528e419290d7825207618c8a": {
      "model_module": "@jupyter-widgets/base",
      "model_module_version": "2.0.0",
      "model_name": "LayoutModel",
      "state": {
       "width": "33%"
      }
     },
     "32fed79610904af797bff426a858461d": {
      "model_module": "@jupyter-widgets/controls",
      "model_module_version": "2.0.0",
      "model_name": "VBoxModel",
      "state": {
       "children": [
        "IPY_MODEL_855051e7b7454224842b012842f54aab",
        "IPY_MODEL_a0b3b42ae25c461181a4f367eaef104d",
        "IPY_MODEL_d1d73fdcc07243b3a0983f4f22b3895b"
       ],
       "layout": "IPY_MODEL_8aa96fc868ec49f5a17200463cdfdb7f"
      }
     },
     "330eb859e1e241d5a1bd8438ff427653": {
      "model_module": "@jupyter-widgets/controls",
      "model_module_version": "2.0.0",
      "model_name": "LabelStyleModel",
      "state": {
       "description_width": "",
       "font_family": null,
       "font_size": null,
       "font_style": null,
       "font_variant": null,
       "font_weight": null,
       "text_color": null,
       "text_decoration": null
      }
     },
     "331faf0431724b81a2790954687e2eb8": {
      "model_module": "@jupyter-widgets/base",
      "model_module_version": "2.0.0",
      "model_name": "LayoutModel",
      "state": {
       "display": "none"
      }
     },
     "33344c3e39bc408dbeabfc8b7190f903": {
      "model_module": "@jupyter-widgets/controls",
      "model_module_version": "2.0.0",
      "model_name": "ButtonModel",
      "state": {
       "icon": "trash",
       "layout": "IPY_MODEL_cb4d99f22b884df7a140ffccdb8bc759",
       "style": "IPY_MODEL_4f090e361245437296beb7c37fd08599",
       "tooltip": null
      }
     },
     "3367422897c54c7f8f8839cc2ff276fd": {
      "model_module": "@jupyter-widgets/base",
      "model_module_version": "2.0.0",
      "model_name": "LayoutModel",
      "state": {
       "width": "100%"
      }
     },
     "33857b70761244feaf70d7fe818088f6": {
      "model_module": "@jupyter-widgets/controls",
      "model_module_version": "2.0.0",
      "model_name": "DescriptionStyleModel",
      "state": {
       "description_width": ""
      }
     },
     "33bcb823ab4041dbba5ecaf59c71b2b7": {
      "model_module": "@jupyter-widgets/controls",
      "model_module_version": "2.0.0",
      "model_name": "TextModel",
      "state": {
       "layout": "IPY_MODEL_3214ca191f9a472685b132e94fcd2b08",
       "style": "IPY_MODEL_6543dae86db24b78b28880b23598a4ce",
       "tooltip": "Text"
      }
     },
     "33d56f6e382748fe8bd0fda10f81db85": {
      "model_module": "@jupyter-widgets/base",
      "model_module_version": "2.0.0",
      "model_name": "LayoutModel",
      "state": {
       "display": "none"
      }
     },
     "33d88b95c16d403ca6b8fd3373bc4335": {
      "model_module": "@jupyter-widgets/base",
      "model_module_version": "2.0.0",
      "model_name": "LayoutModel",
      "state": {}
     },
     "33ee6c4233c94faba005d9b6de471088": {
      "model_module": "@jupyter-widgets/controls",
      "model_module_version": "2.0.0",
      "model_name": "LabelModel",
      "state": {
       "layout": "IPY_MODEL_d688c9dd818f4a2da3f2f815b61f757a",
       "style": "IPY_MODEL_7d28ccbcdece41ddbc38d5cddcf53caa",
       "value": "Height"
      }
     },
     "343662bc55cc4fccbe3ecde51d1b1762": {
      "model_module": "@jupyter-widgets/base",
      "model_module_version": "2.0.0",
      "model_name": "LayoutModel",
      "state": {
       "width": "100%"
      }
     },
     "3462e8fe9ac04c74b172ed25b439ddf3": {
      "model_module": "@jupyter-widgets/controls",
      "model_module_version": "2.0.0",
      "model_name": "TextStyleModel",
      "state": {
       "description_width": "",
       "font_size": null,
       "text_color": null
      }
     },
     "348c981e2a2c46b48aafe9eb63c49d0f": {
      "model_module": "@jupyter-widgets/base",
      "model_module_version": "2.0.0",
      "model_name": "LayoutModel",
      "state": {
       "width": "100%"
      }
     },
     "349f3ad962c042099bdbe0edc4f30a73": {
      "model_module": "@jupyter-widgets/controls",
      "model_module_version": "2.0.0",
      "model_name": "TextStyleModel",
      "state": {
       "description_width": "",
       "font_size": null,
       "text_color": null
      }
     },
     "34f2ac825af44906a0d5d433b7660177": {
      "model_module": "@jupyter-widgets/base",
      "model_module_version": "2.0.0",
      "model_name": "LayoutModel",
      "state": {
       "width": "100%"
      }
     },
     "350ad30c210c43168aa53780eea98848": {
      "model_module": "@jupyter-widgets/base",
      "model_module_version": "2.0.0",
      "model_name": "LayoutModel",
      "state": {
       "width": "100%"
      }
     },
     "350fe2723d54427cbc89106bf768e360": {
      "model_module": "@jupyter-widgets/base",
      "model_module_version": "2.0.0",
      "model_name": "LayoutModel",
      "state": {}
     },
     "354c570a875e462491559cbde6eafdb2": {
      "model_module": "@jupyter-widgets/controls",
      "model_module_version": "2.0.0",
      "model_name": "VBoxModel",
      "state": {
       "children": [
        "IPY_MODEL_007a79fe545c4c65b7126b46f623558a",
        "IPY_MODEL_008ac90c6688405eb1057121c7c3bf41"
       ],
       "layout": "IPY_MODEL_2a82abc843c54b3193c39cf3aed9985d"
      }
     },
     "362f31f4f71d49bd98d91874284af0ec": {
      "model_module": "@jupyter-widgets/controls",
      "model_module_version": "2.0.0",
      "model_name": "TextStyleModel",
      "state": {
       "description_width": "",
       "font_size": null,
       "text_color": null
      }
     },
     "36c0d2eb79e64898a76c92658bf0b84d": {
      "model_module": "@jupyter-widgets/base",
      "model_module_version": "2.0.0",
      "model_name": "LayoutModel",
      "state": {}
     },
     "3703d86cf3794e90868144d47324569a": {
      "model_module": "@jupyter-widgets/controls",
      "model_module_version": "2.0.0",
      "model_name": "VBoxModel",
      "state": {
       "children": [
        "IPY_MODEL_5fb320eb6d1d4735b3402a2c04e595ec",
        "IPY_MODEL_a0a35369f64141599485982a990ca418"
       ],
       "layout": "IPY_MODEL_ee4dcdf347de4c4d93ff67f7ee40ba74"
      }
     },
     "372a1dd9139e4527a3e312a54e426cff": {
      "model_module": "@jupyter-widgets/controls",
      "model_module_version": "2.0.0",
      "model_name": "LabelModel",
      "state": {
       "layout": "IPY_MODEL_526293111a3547b884a2bd2cd79e5e9a",
       "style": "IPY_MODEL_d073c11d6ae74e11a118fa6fd03b45ac"
      }
     },
     "3797b74f543e46a19d3f55d542d8a2dc": {
      "model_module": "@jupyter-widgets/controls",
      "model_module_version": "2.0.0",
      "model_name": "DescriptionStyleModel",
      "state": {
       "description_width": ""
      }
     },
     "37a77462ee6b4f82ba452b10ee606d0c": {
      "model_module": "@jupyter-widgets/controls",
      "model_module_version": "2.0.0",
      "model_name": "BoundedIntTextModel",
      "state": {
       "layout": "IPY_MODEL_3fdc169c09ad4195bb455bbee9f717e3",
       "max": 10,
       "style": "IPY_MODEL_de5132f48fc545778363378c4195b2f8",
       "tooltip": "Number",
       "value": 10
      }
     },
     "381d6df1ff584dcea4b211350a94fe78": {
      "model_module": "@jupyter-widgets/base",
      "model_module_version": "2.0.0",
      "model_name": "LayoutModel",
      "state": {
       "width": "33%"
      }
     },
     "387e302dd45145fda2614efd3fb1892b": {
      "model_module": "@jupyter-widgets/base",
      "model_module_version": "2.0.0",
      "model_name": "LayoutModel",
      "state": {
       "width": "100%"
      }
     },
     "389f69e052724b43897e46586f5ebcd1": {
      "model_module": "@jupyter-widgets/controls",
      "model_module_version": "2.0.0",
      "model_name": "TextStyleModel",
      "state": {
       "description_width": "",
       "font_size": null,
       "text_color": null
      }
     },
     "3916603d91b84b35a3f99c0e643274aa": {
      "model_module": "@jupyter-widgets/controls",
      "model_module_version": "2.0.0",
      "model_name": "SliderStyleModel",
      "state": {
       "description_width": ""
      }
     },
     "3993ccc1bc664d9e880840bb0a5b5d3f": {
      "model_module": "@jupyter-widgets/base",
      "model_module_version": "2.0.0",
      "model_name": "LayoutModel",
      "state": {
       "width": "100%"
      }
     },
     "399c6e55008c44519ed96b8589f88999": {
      "model_module": "@jupyter-widgets/controls",
      "model_module_version": "2.0.0",
      "model_name": "VBoxModel",
      "state": {
       "children": [
        "IPY_MODEL_75f813b56ce944c884c43d16dc77cedf",
        "IPY_MODEL_ddf9dbe2266a48ce946da980b50da317"
       ],
       "layout": "IPY_MODEL_bec89882e5604a35bb90ca7a656c63d7"
      }
     },
     "39ea5755c7e040ff90dc300e96e433d3": {
      "model_module": "@jupyter-widgets/controls",
      "model_module_version": "2.0.0",
      "model_name": "TextStyleModel",
      "state": {
       "description_width": "",
       "font_size": null,
       "text_color": null
      }
     },
     "3a0d6fa8216a4987876f1f8bfb6dde19": {
      "model_module": "@jupyter-widgets/controls",
      "model_module_version": "2.0.0",
      "model_name": "TextStyleModel",
      "state": {
       "description_width": "",
       "font_size": null,
       "text_color": null
      }
     },
     "3a33f423757f411a8a44aa5259bbd519": {
      "model_module": "@jupyter-widgets/controls",
      "model_module_version": "2.0.0",
      "model_name": "LabelModel",
      "state": {
       "layout": "IPY_MODEL_422a3f4f291e49cbac9f668749582561",
       "style": "IPY_MODEL_1163c7a008da4e33a5ca30d7cf065bd4"
      }
     },
     "3a3ebc6e0aac499bbbf8fb83e8813015": {
      "model_module": "@jupyter-widgets/base",
      "model_module_version": "2.0.0",
      "model_name": "LayoutModel",
      "state": {}
     },
     "3a61311d61204b9b896b6c236c033779": {
      "model_module": "@jupyter-widgets/controls",
      "model_module_version": "2.0.0",
      "model_name": "TextStyleModel",
      "state": {
       "description_width": "",
       "font_size": null,
       "text_color": null
      }
     },
     "3aa5d8431e9a40ae8581eab82bf16f76": {
      "model_module": "@jupyter-widgets/controls",
      "model_module_version": "2.0.0",
      "model_name": "DescriptionStyleModel",
      "state": {
       "description_width": ""
      }
     },
     "3ae4d302fc1042d8a51a737eece6160a": {
      "model_module": "@jupyter-widgets/base",
      "model_module_version": "2.0.0",
      "model_name": "LayoutModel",
      "state": {}
     },
     "3b7b0e169b8c4a7882ff4c53386930b3": {
      "model_module": "@jupyter-widgets/base",
      "model_module_version": "2.0.0",
      "model_name": "LayoutModel",
      "state": {
       "width": "100%"
      }
     },
     "3b92f45dc0f84269824ea9ea979f4d98": {
      "model_module": "@jupyter-widgets/controls",
      "model_module_version": "2.0.0",
      "model_name": "LabelModel",
      "state": {
       "layout": "IPY_MODEL_252332a8ba63422695921bf0703cde26",
       "style": "IPY_MODEL_f4489a3516a147e2a372f3cbb8629ac5",
       "value": "Text"
      }
     },
     "3bd359e58e9741d08a04e8c997a4eeb8": {
      "model_module": "@jupyter-widgets/controls",
      "model_module_version": "2.0.0",
      "model_name": "HBoxModel",
      "state": {
       "children": [
        "IPY_MODEL_95d69fb0f5b949799526f8087c60036f"
       ],
       "layout": "IPY_MODEL_9e5ca9d845a64838b5ce1be4f6a75fe3"
      }
     },
     "3c0c0db7334d4b6fa9c845c436146b22": {
      "model_module": "@jupyter-widgets/base",
      "model_module_version": "2.0.0",
      "model_name": "LayoutModel",
      "state": {
       "width": "500px"
      }
     },
     "3c7665b4d4fb4101b585423b9ffd9660": {
      "model_module": "@jupyter-widgets/controls",
      "model_module_version": "2.0.0",
      "model_name": "TextStyleModel",
      "state": {
       "description_width": "",
       "font_size": null,
       "text_color": null
      }
     },
     "3c77d098f1c2416ba0c418df6e6c8a49": {
      "model_module": "@jupyter-widgets/base",
      "model_module_version": "2.0.0",
      "model_name": "LayoutModel",
      "state": {}
     },
     "3c9b98050ad64920a691a76a332b488f": {
      "model_module": "@jupyter-widgets/controls",
      "model_module_version": "2.0.0",
      "model_name": "LabelModel",
      "state": {
       "layout": "IPY_MODEL_f6a60e9ce7bc46a9a22a63ece4988546",
       "style": "IPY_MODEL_ca21d095731741a985fff045057dadb4"
      }
     },
     "3cabb13c7a254d6abaf163bfbd33cbf6": {
      "model_module": "@jupyter-widgets/base",
      "model_module_version": "2.0.0",
      "model_name": "LayoutModel",
      "state": {}
     },
     "3cc16f60c56043708e981a4c5ee69e18": {
      "model_module": "@jupyter-widgets/base",
      "model_module_version": "2.0.0",
      "model_name": "LayoutModel",
      "state": {
       "width": "100%"
      }
     },
     "3cdfd4b1c0a848a29cd5419cac37e333": {
      "model_module": "@jupyter-widgets/base",
      "model_module_version": "2.0.0",
      "model_name": "LayoutModel",
      "state": {}
     },
     "3d0b1d1c9d0c4eba945334cb659c051a": {
      "model_module": "@jupyter-widgets/controls",
      "model_module_version": "2.0.0",
      "model_name": "LabelStyleModel",
      "state": {
       "description_width": "",
       "font_family": null,
       "font_size": null,
       "font_style": null,
       "font_variant": null,
       "font_weight": null,
       "text_color": null,
       "text_decoration": null
      }
     },
     "3d6b321c7c2b4d20bbf196ec526f6c32": {
      "model_module": "@jupyter-widgets/base",
      "model_module_version": "2.0.0",
      "model_name": "LayoutModel",
      "state": {}
     },
     "3d9137e1d59f4acea042a05c9d5b38b9": {
      "model_module": "@jupyter-widgets/base",
      "model_module_version": "2.0.0",
      "model_name": "LayoutModel",
      "state": {
       "width": "100%"
      }
     },
     "3dbdf9279517465fb6ee12629ee660df": {
      "model_module": "@jupyter-widgets/base",
      "model_module_version": "2.0.0",
      "model_name": "LayoutModel",
      "state": {
       "width": "33%"
      }
     },
     "3dc1db7146d4494a8438042e53fb7acd": {
      "model_module": "@jupyter-widgets/base",
      "model_module_version": "2.0.0",
      "model_name": "LayoutModel",
      "state": {}
     },
     "3dc7792a29494887be784dda35b67bbc": {
      "model_module": "@jupyter-widgets/base",
      "model_module_version": "2.0.0",
      "model_name": "LayoutModel",
      "state": {
       "display": "none"
      }
     },
     "3dda2b76ccc34badb5e5442abe514791": {
      "model_module": "@jupyter-widgets/controls",
      "model_module_version": "2.0.0",
      "model_name": "LabelModel",
      "state": {
       "layout": "IPY_MODEL_45b93b7961e64c118ec26cd560d62319",
       "style": "IPY_MODEL_7480b4b2c0df47b3a07c29e0db4625e6",
       "value": "Name"
      }
     },
     "3e762c22fb5349bfa5856c8905b7c06b": {
      "model_module": "@jupyter-widgets/base",
      "model_module_version": "2.0.0",
      "model_name": "LayoutModel",
      "state": {
       "width": "33%"
      }
     },
     "3e90bb46039f4f57aabe65fa9a701bab": {
      "model_module": "@jupyter-widgets/controls",
      "model_module_version": "2.0.0",
      "model_name": "ButtonStyleModel",
      "state": {
       "font_family": null,
       "font_size": null,
       "font_style": null,
       "font_variant": null,
       "font_weight": null,
       "text_color": null,
       "text_decoration": null
      }
     },
     "3ead9b2ef6e24b44a27bd84abbfb8db2": {
      "model_module": "@jupyter-widgets/controls",
      "model_module_version": "2.0.0",
      "model_name": "IntTextModel",
      "state": {
       "layout": "IPY_MODEL_ad5f69df8f4d4b02a9b3b40d393ec961",
       "step": 1,
       "style": "IPY_MODEL_04a9fd9d75dd4666986fd4d6eae7ea16",
       "tooltip": "Age",
       "value": 30
      }
     },
     "3ee1a9ecbc27470bb05f4f8c3ac989f7": {
      "model_module": "@jupyter-widgets/base",
      "model_module_version": "2.0.0",
      "model_name": "LayoutModel",
      "state": {}
     },
     "3ef9d8824ee44d34811ad9b54e11617d": {
      "model_module": "@jupyter-widgets/base",
      "model_module_version": "2.0.0",
      "model_name": "LayoutModel",
      "state": {
       "width": "100%"
      }
     },
     "3efc032efc5548d1a7e0247a661a55d4": {
      "model_module": "@jupyter-widgets/base",
      "model_module_version": "2.0.0",
      "model_name": "LayoutModel",
      "state": {}
     },
     "3f138dc6a7604ea2b0941d985398fb5e": {
      "model_module": "@jupyter-widgets/base",
      "model_module_version": "2.0.0",
      "model_name": "LayoutModel",
      "state": {
       "width": "33%"
      }
     },
     "3f42344d761f4f6a8976daf8723551e6": {
      "model_module": "@jupyter-widgets/controls",
      "model_module_version": "2.0.0",
      "model_name": "TextModel",
      "state": {
       "layout": "IPY_MODEL_b5707994953449629ac865487948651c",
       "style": "IPY_MODEL_921534ed56ab48639267d90e2acf9426",
       "tooltip": "Adress"
      }
     },
     "3f863d28118242d5bed4fc1ffca950dc": {
      "model_module": "@jupyter-widgets/controls",
      "model_module_version": "2.0.0",
      "model_name": "DescriptionStyleModel",
      "state": {
       "description_width": ""
      }
     },
     "3f8be727d27a4e9ea5d40b9bf0ee73c7": {
      "model_module": "@jupyter-widgets/controls",
      "model_module_version": "2.0.0",
      "model_name": "DescriptionStyleModel",
      "state": {
       "description_width": ""
      }
     },
     "3f94149ef207425199b7b4048bd04c7b": {
      "model_module": "@jupyter-widgets/base",
      "model_module_version": "2.0.0",
      "model_name": "LayoutModel",
      "state": {}
     },
     "3f964b052d0f434f913f05c966f20ae8": {
      "model_module": "@jupyter-widgets/controls",
      "model_module_version": "2.0.0",
      "model_name": "DescriptionStyleModel",
      "state": {
       "description_width": ""
      }
     },
     "3fb5d5060392495f8368684f9b7b767d": {
      "model_module": "@jupyter-widgets/base",
      "model_module_version": "2.0.0",
      "model_name": "LayoutModel",
      "state": {}
     },
     "3fb93c6ee06b4d99a9bc3f8c0e0d72db": {
      "model_module": "@jupyter-widgets/controls",
      "model_module_version": "2.0.0",
      "model_name": "LabelStyleModel",
      "state": {
       "description_width": "",
       "font_family": null,
       "font_size": null,
       "font_style": null,
       "font_variant": null,
       "font_weight": null,
       "text_color": null,
       "text_decoration": null
      }
     },
     "3fd575ac26764cc2a15a41b3743289aa": {
      "model_module": "@jupyter-widgets/controls",
      "model_module_version": "2.0.0",
      "model_name": "ButtonModel",
      "state": {
       "icon": "arrow-down",
       "layout": "IPY_MODEL_e48e675e0d3449a1af4b8e4349bbe961",
       "style": "IPY_MODEL_b5faa2f765c8475d96273b28e63409d0",
       "tooltip": null
      }
     },
     "3fdc169c09ad4195bb455bbee9f717e3": {
      "model_module": "@jupyter-widgets/base",
      "model_module_version": "2.0.0",
      "model_name": "LayoutModel",
      "state": {
       "border_bottom": "none",
       "border_left": "none",
       "border_right": "none",
       "border_top": "none",
       "width": "100%"
      }
     },
     "401b36e30b8a4feeaa0c9641e171ea6f": {
      "model_module": "@jupyter-widgets/controls",
      "model_module_version": "2.0.0",
      "model_name": "VBoxModel",
      "state": {
       "children": [
        "IPY_MODEL_78d8074128b940c3b18b572aaaabed3e"
       ],
       "layout": "IPY_MODEL_fa3db3bbb531438eba2c7186f83af195"
      }
     },
     "402ab1a7a3b74b9eb12da7dfa0ac9ce5": {
      "model_module": "@jupyter-widgets/base",
      "model_module_version": "2.0.0",
      "model_name": "LayoutModel",
      "state": {}
     },
     "402f77695a354066bc9b58a13678450d": {
      "model_module": "@jupyter-widgets/controls",
      "model_module_version": "2.0.0",
      "model_name": "LabelModel",
      "state": {
       "layout": "IPY_MODEL_8b7236f2ae404b73b40ae3b05b2eb695",
       "style": "IPY_MODEL_1479c3b80f84423fbb27242afc4ba6b3",
       "value": "Number"
      }
     },
     "404170a7b17c4418b883b0ac80d9ae71": {
      "model_module": "@jupyter-widgets/base",
      "model_module_version": "2.0.0",
      "model_name": "LayoutModel",
      "state": {}
     },
     "4075c9c801ad4e17a9c619612546746a": {
      "model_module": "@jupyter-widgets/base",
      "model_module_version": "2.0.0",
      "model_name": "LayoutModel",
      "state": {}
     },
     "40a2381557814fb9b8995a50a75175b5": {
      "model_module": "@jupyter-widgets/controls",
      "model_module_version": "2.0.0",
      "model_name": "SliderStyleModel",
      "state": {
       "description_width": ""
      }
     },
     "40da1ba3fef6482aa63c9b2464091876": {
      "model_module": "@jupyter-widgets/base",
      "model_module_version": "2.0.0",
      "model_name": "LayoutModel",
      "state": {
       "display": "none"
      }
     },
     "4136b30276c74822b282f1559cf262b4": {
      "model_module": "@jupyter-widgets/base",
      "model_module_version": "2.0.0",
      "model_name": "LayoutModel",
      "state": {
       "width": "100%"
      }
     },
     "4150918c862a4def928723a889b946a1": {
      "model_module": "@jupyter-widgets/controls",
      "model_module_version": "2.0.0",
      "model_name": "LabelStyleModel",
      "state": {
       "description_width": "",
       "font_family": null,
       "font_size": null,
       "font_style": null,
       "font_variant": null,
       "font_weight": null,
       "text_color": null,
       "text_decoration": null
      }
     },
     "416ba812c3144645ab7a09741e134fe0": {
      "model_module": "@jupyter-widgets/controls",
      "model_module_version": "2.0.0",
      "model_name": "VBoxModel",
      "state": {
       "children": [
        "IPY_MODEL_17d6a132989a4d44b1cdfa876543fffc",
        "IPY_MODEL_9534e830b8384ecbb0a746de88369201",
        "IPY_MODEL_fb1bdf072e9d4388a52fc95a45480eeb",
        "IPY_MODEL_1cf5c3ac8256433cabf8f8c666422078"
       ],
       "layout": "IPY_MODEL_4a6195ec3fef455bb7d77582aafd8bee"
      }
     },
     "4176072c510c43038d626a797ee7300c": {
      "model_module": "@jupyter-widgets/controls",
      "model_module_version": "2.0.0",
      "model_name": "VBoxModel",
      "state": {
       "children": [
        "IPY_MODEL_63da94f5e02248fe95745d0e62b131f1"
       ],
       "layout": "IPY_MODEL_befa76c7109b478183b5d3e08ad8a2f3"
      }
     },
     "4178ae6234f44dab99cc070f6e740ad9": {
      "model_module": "@jupyter-widgets/controls",
      "model_module_version": "2.0.0",
      "model_name": "VBoxModel",
      "state": {
       "children": [
        "IPY_MODEL_3dda2b76ccc34badb5e5442abe514791",
        "IPY_MODEL_b55ecba8e9034226b551c6f11f305ba2"
       ],
       "layout": "IPY_MODEL_f93b9d119d3a4656ad786d1eba3fc04e"
      }
     },
     "41c8b9de10a3422dbbb9fcca26e64b8c": {
      "model_module": "@jupyter-widgets/base",
      "model_module_version": "2.0.0",
      "model_name": "LayoutModel",
      "state": {}
     },
     "422a3f4f291e49cbac9f668749582561": {
      "model_module": "@jupyter-widgets/base",
      "model_module_version": "2.0.0",
      "model_name": "LayoutModel",
      "state": {
       "display": "none"
      }
     },
     "423775d84e084d9c9505f8f50eb4b5bf": {
      "model_module": "@jupyter-widgets/base",
      "model_module_version": "2.0.0",
      "model_name": "LayoutModel",
      "state": {
       "display": "none"
      }
     },
     "42555bf5c85043f681f1d33420c7c7be": {
      "model_module": "@jupyter-widgets/controls",
      "model_module_version": "2.0.0",
      "model_name": "HBoxModel",
      "state": {
       "children": [
        "IPY_MODEL_a187b8e7612142d596da7b5ab2036577",
        "IPY_MODEL_6c346695434d4544a681978e1da3fcdd"
       ],
       "layout": "IPY_MODEL_dae9a5830c2a4d0bb8fd0813d2c28ee0"
      }
     },
     "438d17bc68614db2a15d63a431a389c6": {
      "model_module": "@jupyter-widgets/controls",
      "model_module_version": "2.0.0",
      "model_name": "LabelStyleModel",
      "state": {
       "description_width": "",
       "font_family": null,
       "font_size": null,
       "font_style": null,
       "font_variant": null,
       "font_weight": null,
       "text_color": null,
       "text_decoration": null
      }
     },
     "43b0371ba8b24e67a5ccd7d10c3657f5": {
      "model_module": "@jupyter-widgets/base",
      "model_module_version": "2.0.0",
      "model_name": "LayoutModel",
      "state": {}
     },
     "43f72f20e2cf43fdb9c1596750701f87": {
      "model_module": "@jupyter-widgets/base",
      "model_module_version": "2.0.0",
      "model_name": "LayoutModel",
      "state": {
       "width": "100%"
      }
     },
     "441b393c99fd494aa684878dfc30d931": {
      "model_module": "@jupyter-widgets/controls",
      "model_module_version": "2.0.0",
      "model_name": "TextStyleModel",
      "state": {
       "description_width": "",
       "font_size": null,
       "text_color": null
      }
     },
     "4424d7a785e44966bd9c7db779f0bec3": {
      "model_module": "@jupyter-widgets/controls",
      "model_module_version": "2.0.0",
      "model_name": "LabelStyleModel",
      "state": {
       "description_width": "",
       "font_family": null,
       "font_size": null,
       "font_style": null,
       "font_variant": null,
       "font_weight": null,
       "text_color": null,
       "text_decoration": null
      }
     },
     "445c5d44b7e3450db499b903619944d9": {
      "model_module": "@jupyter-widgets/controls",
      "model_module_version": "2.0.0",
      "model_name": "LabelModel",
      "state": {
       "layout": "IPY_MODEL_9dcfbe5035164400847e999acbdb900e",
       "style": "IPY_MODEL_6375918873e04727a503870cf6d89d37"
      }
     },
     "449274f53c77418eb1c22a479a5e4c2d": {
      "model_module": "@jupyter-widgets/controls",
      "model_module_version": "2.0.0",
      "model_name": "TextStyleModel",
      "state": {
       "description_width": "",
       "font_size": null,
       "text_color": null
      }
     },
     "44a76c89ff8c4594950a451b715b2c69": {
      "model_module": "@jupyter-widgets/base",
      "model_module_version": "2.0.0",
      "model_name": "LayoutModel",
      "state": {}
     },
     "44ce6518c8a744398c60ff48075ae362": {
      "model_module": "@jupyter-widgets/base",
      "model_module_version": "2.0.0",
      "model_name": "LayoutModel",
      "state": {
       "display": "none"
      }
     },
     "44daa9fbcec64a329cfc1e6eb8a05407": {
      "model_module": "@jupyter-widgets/base",
      "model_module_version": "2.0.0",
      "model_name": "LayoutModel",
      "state": {}
     },
     "44fef6cf74bd43459949834f66e0453a": {
      "model_module": "@jupyter-widgets/base",
      "model_module_version": "2.0.0",
      "model_name": "LayoutModel",
      "state": {}
     },
     "452b503baa26431097ab62dd293fb2b4": {
      "model_module": "@jupyter-widgets/controls",
      "model_module_version": "2.0.0",
      "model_name": "AccordionModel",
      "state": {
       "children": [
        "IPY_MODEL_8f2f304dc0894ed987220047942f075b"
       ],
       "layout": "IPY_MODEL_2893205d8bab424c82555ca874460524",
       "selected_index": 0,
       "titles": [
        "Fruit"
       ]
      }
     },
     "45b82df745474ff2925e6845a12ab801": {
      "model_module": "@jupyter-widgets/base",
      "model_module_version": "2.0.0",
      "model_name": "LayoutModel",
      "state": {
       "width": "100%"
      }
     },
     "45b93b7961e64c118ec26cd560d62319": {
      "model_module": "@jupyter-widgets/base",
      "model_module_version": "2.0.0",
      "model_name": "LayoutModel",
      "state": {
       "width": "100%"
      }
     },
     "45ce82508b72489ca967b66c2bbdb8bb": {
      "model_module": "@jupyter-widgets/controls",
      "model_module_version": "2.0.0",
      "model_name": "DropdownModel",
      "state": {
       "_options_labels": [
        "red",
        "blue",
        "green"
       ],
       "index": 1,
       "layout": "IPY_MODEL_0d8447a92b0d43fdb976ae6c7520a7a9",
       "style": "IPY_MODEL_ea5e5f64b2ff4ea58f39c69a039e3f8a",
       "tooltip": "ColorEnum"
      }
     },
     "464cc8a36e894f76aa05e975579ab7ba": {
      "model_module": "@jupyter-widgets/base",
      "model_module_version": "2.0.0",
      "model_name": "LayoutModel",
      "state": {
       "width": "100%"
      }
     },
     "465fe8aa1c744367a646e650384e9939": {
      "model_module": "@jupyter-widgets/controls",
      "model_module_version": "2.0.0",
      "model_name": "AccordionModel",
      "state": {
       "children": [
        "IPY_MODEL_0b1d9da908804c0dba98f2709af529fb"
       ],
       "layout": "IPY_MODEL_2121648a3310463cb2f62215e280c722",
       "selected_index": 0,
       "titles": [
        "Id"
       ]
      }
     },
     "46aec56c929f4de9bbd6dcc954dbb7ef": {
      "model_module": "@jupyter-widgets/controls",
      "model_module_version": "2.0.0",
      "model_name": "VBoxModel",
      "state": {
       "children": [
        "IPY_MODEL_0caca04fde1d441087c6acd60f3a46cd"
       ],
       "layout": "IPY_MODEL_f4736560b07140ebbc949ca94290a81f"
      }
     },
     "46eb53fc7ce34916a1de7cc557f89195": {
      "model_module": "@jupyter-widgets/base",
      "model_module_version": "2.0.0",
      "model_name": "LayoutModel",
      "state": {
       "width": "33%"
      }
     },
     "46f280d5dcc6451ca0e4c82954e035a7": {
      "model_module": "@jupyter-widgets/controls",
      "model_module_version": "2.0.0",
      "model_name": "AccordionModel",
      "state": {
       "children": [
        "IPY_MODEL_d4026f172add4cd78b6aa7d6a7a64756"
       ],
       "layout": "IPY_MODEL_cf7c22d7cf564d349bd1603261335131",
       "selected_index": 0,
       "titles": [
        "Address"
       ]
      }
     },
     "4728fb9f0d4d4a1dbdeb767e0ff679a7": {
      "model_module": "@jupyter-widgets/base",
      "model_module_version": "2.0.0",
      "model_name": "LayoutModel",
      "state": {
       "width": "100%"
      }
     },
     "476d9b6304404a0fb9f6ebf21e47485f": {
      "model_module": "@jupyter-widgets/controls",
      "model_module_version": "2.0.0",
      "model_name": "LabelModel",
      "state": {
       "layout": "IPY_MODEL_4e9c66fea1cc49ad86ab44fe1550943d",
       "style": "IPY_MODEL_1579057cb4bc46a9be3a3a6498ce7953"
      }
     },
     "47a238dd2dd1433dbe98246132536df7": {
      "model_module": "@jupyter-widgets/base",
      "model_module_version": "2.0.0",
      "model_name": "LayoutModel",
      "state": {}
     },
     "47d080bafe7d4f0f923126e0ab74ab8c": {
      "model_module": "@jupyter-widgets/controls",
      "model_module_version": "2.0.0",
      "model_name": "VBoxModel",
      "state": {
       "children": [
        "IPY_MODEL_b67f58ae1d30488899598f50ca475bf2",
        "IPY_MODEL_16f39e446ba749ca8df10d9363833d2a",
        "IPY_MODEL_dc6b5a073b7d40249faa62b9c31003df",
        "IPY_MODEL_9e01d7d516c44aa095929f57e4e07ffd"
       ],
       "layout": "IPY_MODEL_9eb1583258074443a8893f0b191c61f4"
      }
     },
     "481d39fe3311486d8d39606accaae72d": {
      "model_module": "@jupyter-widgets/controls",
      "model_module_version": "2.0.0",
      "model_name": "TextStyleModel",
      "state": {
       "description_width": "",
       "font_size": null,
       "text_color": null
      }
     },
     "48889720f5d5454ea57fda3287887df5": {
      "model_module": "@jupyter-widgets/base",
      "model_module_version": "2.0.0",
      "model_name": "LayoutModel",
      "state": {}
     },
     "48a6d68cd26548019aba9dd5796ee71c": {
      "model_module": "@jupyter-widgets/base",
      "model_module_version": "2.0.0",
      "model_name": "LayoutModel",
      "state": {}
     },
     "48ce91bba14545029173df03122877ac": {
      "model_module": "@jupyter-widgets/base",
      "model_module_version": "2.0.0",
      "model_name": "LayoutModel",
      "state": {
       "border_bottom": "none",
       "border_left": "none",
       "border_right": "none",
       "border_top": "none"
      }
     },
     "48d9725cd9cc4b82bfcf4d4a38b18e94": {
      "model_module": "@jupyter-widgets/base",
      "model_module_version": "2.0.0",
      "model_name": "LayoutModel",
      "state": {
       "border_bottom": "none",
       "border_left": "none",
       "border_right": "none",
       "border_top": "none"
      }
     },
     "48dc4036c3594d30ae93ef7b5e2e2a1b": {
      "model_module": "@jupyter-widgets/base",
      "model_module_version": "2.0.0",
      "model_name": "LayoutModel",
      "state": {}
     },
     "48df9e6c963146c79acb07cb13e58f0f": {
      "model_module": "@jupyter-widgets/controls",
      "model_module_version": "2.0.0",
      "model_name": "DescriptionStyleModel",
      "state": {
       "description_width": ""
      }
     },
     "4965d0c63da14c86abbab6fbbda6662a": {
      "model_module": "@jupyter-widgets/base",
      "model_module_version": "2.0.0",
      "model_name": "LayoutModel",
      "state": {}
     },
     "4997eae28e934c59a2bdc5158e279c45": {
      "model_module": "@jupyter-widgets/controls",
      "model_module_version": "2.0.0",
      "model_name": "TextModel",
      "state": {
       "layout": "IPY_MODEL_4136b30276c74822b282f1559cf262b4",
       "style": "IPY_MODEL_8a4a16c1b5404e3596c8d47461677ad6",
       "tooltip": "City"
      }
     },
     "4a308d1629b24fc883d2a87f0aa5c02f": {
      "model_module": "@jupyter-widgets/base",
      "model_module_version": "2.0.0",
      "model_name": "LayoutModel",
      "state": {
       "width": "100%"
      }
     },
     "4a6195ec3fef455bb7d77582aafd8bee": {
      "model_module": "@jupyter-widgets/base",
      "model_module_version": "2.0.0",
      "model_name": "LayoutModel",
      "state": {
       "width": "100%"
      }
     },
     "4aa5c9a8261a4ccf91600e6adad48d33": {
      "model_module": "@jupyter-widgets/controls",
      "model_module_version": "2.0.0",
      "model_name": "LabelStyleModel",
      "state": {
       "description_width": "",
       "font_family": null,
       "font_size": null,
       "font_style": null,
       "font_variant": null,
       "font_weight": null,
       "text_color": null,
       "text_decoration": null
      }
     },
     "4ae2d12927f345a28e0ab86b2c5b429e": {
      "model_module": "@jupyter-widgets/base",
      "model_module_version": "2.0.0",
      "model_name": "LayoutModel",
      "state": {
       "width": "33%"
      }
     },
     "4ae35ec6088e4841a3511987cbaaa39d": {
      "model_module": "@jupyter-widgets/controls",
      "model_module_version": "2.0.0",
      "model_name": "LabelStyleModel",
      "state": {
       "description_width": "",
       "font_family": null,
       "font_size": null,
       "font_style": null,
       "font_variant": null,
       "font_weight": null,
       "text_color": null,
       "text_decoration": null
      }
     },
     "4c1aaa7f00f148ed9b26cdc7d8895759": {
      "model_module": "@jupyter-widgets/base",
      "model_module_version": "2.0.0",
      "model_name": "LayoutModel",
      "state": {}
     },
     "4c599c3580ef4ba1906ffd4cc4199898": {
      "model_module": "@jupyter-widgets/base",
      "model_module_version": "2.0.0",
      "model_name": "LayoutModel",
      "state": {
       "width": "100%"
      }
     },
     "4c611626c1c54cfe922cd62ad0dcc9a9": {
      "model_module": "@jupyter-widgets/controls",
      "model_module_version": "2.0.0",
      "model_name": "TextStyleModel",
      "state": {
       "description_width": "",
       "font_size": null,
       "text_color": null
      }
     },
     "4c69aeef74a64b82969d5e9ca338d09b": {
      "model_module": "@jupyter-widgets/base",
      "model_module_version": "2.0.0",
      "model_name": "LayoutModel",
      "state": {
       "width": "100%"
      }
     },
     "4c710da62fa04af1bb9f19606fac781d": {
      "model_module": "@jupyter-widgets/base",
      "model_module_version": "2.0.0",
      "model_name": "LayoutModel",
      "state": {
       "width": "100%"
      }
     },
     "4ca919980455442bbce28f126d62d65b": {
      "model_module": "@jupyter-widgets/base",
      "model_module_version": "2.0.0",
      "model_name": "LayoutModel",
      "state": {}
     },
     "4cdf4a88786d40a88a2fc5a75afd87fb": {
      "model_module": "@jupyter-widgets/controls",
      "model_module_version": "2.0.0",
      "model_name": "LabelStyleModel",
      "state": {
       "description_width": "",
       "font_family": null,
       "font_size": null,
       "font_style": null,
       "font_variant": null,
       "font_weight": null,
       "text_color": null,
       "text_decoration": null
      }
     },
     "4d36d078b31e42f29488eff68bd9dcf1": {
      "model_module": "@jupyter-widgets/base",
      "model_module_version": "2.0.0",
      "model_name": "LayoutModel",
      "state": {
       "width": "100%"
      }
     },
     "4d6ff689c24542e38c48e4076eae8ecd": {
      "model_module": "@jupyter-widgets/base",
      "model_module_version": "2.0.0",
      "model_name": "LayoutModel",
      "state": {}
     },
     "4d97580c6a8a445e9ddab17d63db4557": {
      "model_module": "@jupyter-widgets/controls",
      "model_module_version": "2.0.0",
      "model_name": "TextStyleModel",
      "state": {
       "description_width": "",
       "font_size": null,
       "text_color": null
      }
     },
     "4db4629151464bdc8e96dd79d7953371": {
      "model_module": "@jupyter-widgets/controls",
      "model_module_version": "2.0.0",
      "model_name": "LabelStyleModel",
      "state": {
       "description_width": "",
       "font_family": null,
       "font_size": null,
       "font_style": null,
       "font_variant": null,
       "font_weight": null,
       "text_color": null,
       "text_decoration": null
      }
     },
     "4db57404d5b84b1e907b86194060183b": {
      "model_module": "@jupyter-widgets/controls",
      "model_module_version": "2.0.0",
      "model_name": "TextStyleModel",
      "state": {
       "description_width": "",
       "font_size": null,
       "text_color": null
      }
     },
     "4e08d986fd914d2eb98b6bc2031dfb6e": {
      "model_module": "@jupyter-widgets/base",
      "model_module_version": "2.0.0",
      "model_name": "LayoutModel",
      "state": {
       "display": "none"
      }
     },
     "4e12b5a0985a46d687cfad52b890d0e8": {
      "model_module": "@jupyter-widgets/controls",
      "model_module_version": "2.0.0",
      "model_name": "DescriptionStyleModel",
      "state": {
       "description_width": ""
      }
     },
     "4e279d5d930146d29939f0eda9c309a2": {
      "model_module": "@jupyter-widgets/base",
      "model_module_version": "2.0.0",
      "model_name": "LayoutModel",
      "state": {
       "display": "none"
      }
     },
     "4e77537af0bd4379969c8de7e678e957": {
      "model_module": "@jupyter-widgets/controls",
      "model_module_version": "2.0.0",
      "model_name": "HBoxModel",
      "state": {
       "children": [
        "IPY_MODEL_d5bcd284518e48e4ad29d40198fcacf4"
       ],
       "layout": "IPY_MODEL_ca53697248bc4b0294c50a26a89631b1"
      }
     },
     "4e9c66fea1cc49ad86ab44fe1550943d": {
      "model_module": "@jupyter-widgets/base",
      "model_module_version": "2.0.0",
      "model_name": "LayoutModel",
      "state": {
       "display": "none"
      }
     },
     "4ec189ea484346bc98ded5673888ac94": {
      "model_module": "@jupyter-widgets/controls",
      "model_module_version": "2.0.0",
      "model_name": "VBoxModel",
      "state": {
       "children": [
        "IPY_MODEL_618d011e1a944ebdbfb7b8eedd269cb4",
        "IPY_MODEL_d56ad728f60945c38da2bf73123dd3cb"
       ],
       "layout": "IPY_MODEL_21ede88e26e649468b5a63c48d2c0b49"
      }
     },
     "4ef2f21ec2be4a2492d5473f722b5989": {
      "model_module": "@jupyter-widgets/controls",
      "model_module_version": "2.0.0",
      "model_name": "ButtonModel",
      "state": {
       "icon": "arrow-down",
       "layout": "IPY_MODEL_7c2758688e014af783f387b73dc60041",
       "style": "IPY_MODEL_69a9084bbb134755b135b9e2c9e37d5a",
       "tooltip": null
      }
     },
     "4f090e361245437296beb7c37fd08599": {
      "model_module": "@jupyter-widgets/controls",
      "model_module_version": "2.0.0",
      "model_name": "ButtonStyleModel",
      "state": {
       "font_family": null,
       "font_size": null,
       "font_style": null,
       "font_variant": null,
       "font_weight": null,
       "text_color": null,
       "text_decoration": null
      }
     },
     "4f1b50dd4eed45d5874fb9486ae4e360": {
      "model_module": "@jupyter-widgets/controls",
      "model_module_version": "2.0.0",
      "model_name": "CheckboxStyleModel",
      "state": {
       "description_width": ""
      }
     },
     "4f586c57290d4ba9b15436c7e0662dae": {
      "model_module": "@jupyter-widgets/controls",
      "model_module_version": "2.0.0",
      "model_name": "VBoxModel",
      "state": {
       "children": [
        "IPY_MODEL_8f6470ed0059412e8ac7f812d8ac244d",
        "IPY_MODEL_c87e158287b141c4b74e19afd3440d81"
       ],
       "layout": "IPY_MODEL_44daa9fbcec64a329cfc1e6eb8a05407"
      }
     },
     "4f6a2fe7fac544bc88268b89b8871d3b": {
      "model_module": "@jupyter-widgets/controls",
      "model_module_version": "2.0.0",
      "model_name": "TextStyleModel",
      "state": {
       "description_width": "",
       "font_size": null,
       "text_color": null
      }
     },
     "4fd82dec0ce24152a6c82c7825e12e8b": {
      "model_module": "@jupyter-widgets/base",
      "model_module_version": "2.0.0",
      "model_name": "LayoutModel",
      "state": {
       "width": "100%"
      }
     },
     "500c28ec60dc457596d17dd1aad37a0e": {
      "model_module": "@jupyter-widgets/base",
      "model_module_version": "2.0.0",
      "model_name": "LayoutModel",
      "state": {
       "border_bottom": "none",
       "border_left": "none",
       "border_right": "none",
       "border_top": "none",
       "width": "100%"
      }
     },
     "5014987bb1ee4397816301e154d764c6": {
      "model_module": "@jupyter-widgets/controls",
      "model_module_version": "2.0.0",
      "model_name": "VBoxModel",
      "state": {
       "children": [
        "IPY_MODEL_ab6394647e884cb5b55608732d727f8e",
        "IPY_MODEL_c077dca391b648f48769d2caec7f1c15"
       ],
       "layout": "IPY_MODEL_9f41777fa8b543e98d06edaac2bddefb"
      }
     },
     "50472f3f0cd34d1fa3d85716bdb5db84": {
      "model_module": "@jupyter-widgets/controls",
      "model_module_version": "2.0.0",
      "model_name": "TextStyleModel",
      "state": {
       "description_width": "",
       "font_size": null,
       "text_color": null
      }
     },
     "50a488b80c19400d82a3c72271b64374": {
      "model_module": "@jupyter-widgets/base",
      "model_module_version": "2.0.0",
      "model_name": "LayoutModel",
      "state": {
       "border_bottom": "none",
       "border_left": "none",
       "border_right": "none",
       "border_top": "none"
      }
     },
     "50ab0de68ce744c8a8d3a92e17f3e7ab": {
      "model_module": "@jupyter-widgets/controls",
      "model_module_version": "2.0.0",
      "model_name": "SliderStyleModel",
      "state": {
       "description_width": ""
      }
     },
     "50fdb74736564cf097a0188cf6965447": {
      "model_module": "@jupyter-widgets/base",
      "model_module_version": "2.0.0",
      "model_name": "LayoutModel",
      "state": {}
     },
     "5105cb58518d48ebb223a79aac744ed2": {
      "model_module": "@jupyter-widgets/base",
      "model_module_version": "2.0.0",
      "model_name": "LayoutModel",
      "state": {}
     },
     "5161e7dc3a8f48bb9bc724823940a163": {
      "model_module": "@jupyter-widgets/controls",
      "model_module_version": "2.0.0",
      "model_name": "DescriptionStyleModel",
      "state": {
       "description_width": ""
      }
     },
     "518374f55a2c42c8a39529cb716da0e1": {
      "model_module": "@jupyter-widgets/controls",
      "model_module_version": "2.0.0",
      "model_name": "TextStyleModel",
      "state": {
       "description_width": "",
       "font_size": null,
       "text_color": null
      }
     },
     "518c0d58b7a346f98c59d3f81f384d9c": {
      "model_module": "@jupyter-widgets/base",
      "model_module_version": "2.0.0",
      "model_name": "LayoutModel",
      "state": {}
     },
     "518d14b34ee1432a8b7f9c0592a50340": {
      "model_module": "@jupyter-widgets/base",
      "model_module_version": "2.0.0",
      "model_name": "LayoutModel",
      "state": {
       "width": "100%"
      }
     },
     "5229633c31a64cd5a9bdfc40ab88ee16": {
      "model_module": "@jupyter-widgets/base",
      "model_module_version": "2.0.0",
      "model_name": "LayoutModel",
      "state": {
       "width": "100%"
      }
     },
     "525b37a13f8e4196867b4f1380887f6e": {
      "model_module": "@jupyter-widgets/controls",
      "model_module_version": "2.0.0",
      "model_name": "VBoxModel",
      "state": {
       "children": [
        "IPY_MODEL_4178ae6234f44dab99cc070f6e740ad9",
        "IPY_MODEL_94025a9e92204a3d898b6306c64712b2"
       ],
       "layout": "IPY_MODEL_95c234c8246046d5a249f3d3146079bf"
      }
     },
     "526293111a3547b884a2bd2cd79e5e9a": {
      "model_module": "@jupyter-widgets/base",
      "model_module_version": "2.0.0",
      "model_name": "LayoutModel",
      "state": {
       "display": "none"
      }
     },
     "5291e821ca6a434ba6b049306ed2c76b": {
      "model_module": "@jupyter-widgets/base",
      "model_module_version": "2.0.0",
      "model_name": "LayoutModel",
      "state": {}
     },
     "52cf7bb08eec467c9ac52d1d15624cd3": {
      "model_module": "@jupyter-widgets/controls",
      "model_module_version": "2.0.0",
      "model_name": "ButtonStyleModel",
      "state": {
       "font_family": null,
       "font_size": null,
       "font_style": null,
       "font_variant": null,
       "font_weight": null,
       "text_color": null,
       "text_decoration": null
      }
     },
     "52f48186a35a49218b360de123ee4ddf": {
      "model_module": "@jupyter-widgets/base",
      "model_module_version": "2.0.0",
      "model_name": "LayoutModel",
      "state": {}
     },
     "5395a963f41644078f9df640b0098b25": {
      "model_module": "@jupyter-widgets/controls",
      "model_module_version": "2.0.0",
      "model_name": "LabelStyleModel",
      "state": {
       "description_width": "",
       "font_family": null,
       "font_size": null,
       "font_style": null,
       "font_variant": null,
       "font_weight": null,
       "text_color": null,
       "text_decoration": null
      }
     },
     "53c512f0081b43ae9a394f4f28f9c105": {
      "model_module": "@jupyter-widgets/base",
      "model_module_version": "2.0.0",
      "model_name": "LayoutModel",
      "state": {
       "width": "100%"
      }
     },
     "53cf163914c4490ca7057ade83189cf7": {
      "model_module": "@jupyter-widgets/controls",
      "model_module_version": "2.0.0",
      "model_name": "LabelModel",
      "state": {
       "layout": "IPY_MODEL_ed81d740cab447d5975edd17af7c0e26",
       "style": "IPY_MODEL_d8789c1e5add4e9f87078de041c6e0cc",
       "value": "Street"
      }
     },
     "53d479fcee1345b09fcca5e8425538ee": {
      "model_module": "@jupyter-widgets/base",
      "model_module_version": "2.0.0",
      "model_name": "LayoutModel",
      "state": {}
     },
     "53e4b71589bc4f57975d6d52113eceaf": {
      "model_module": "@jupyter-widgets/base",
      "model_module_version": "2.0.0",
      "model_name": "LayoutModel",
      "state": {}
     },
     "53ebc55e897c425da2c31cb520a4148f": {
      "model_module": "@jupyter-widgets/base",
      "model_module_version": "2.0.0",
      "model_name": "LayoutModel",
      "state": {}
     },
     "546b2b6e938d483b9238c7af9ec77628": {
      "model_module": "@jupyter-widgets/base",
      "model_module_version": "2.0.0",
      "model_name": "LayoutModel",
      "state": {}
     },
     "5476f26cc7de4a2cba013044d4e47105": {
      "model_module": "@jupyter-widgets/controls",
      "model_module_version": "2.0.0",
      "model_name": "ButtonModel",
      "state": {
       "icon": "trash",
       "layout": "IPY_MODEL_cae568d46f384bd48c86ae62e98c8b65",
       "style": "IPY_MODEL_6a806b5f41414952828f0b057202cffb",
       "tooltip": null
      }
     },
     "5482b7bddd93467988c06ea09e2c155d": {
      "model_module": "@jupyter-widgets/controls",
      "model_module_version": "2.0.0",
      "model_name": "LabelModel",
      "state": {
       "layout": "IPY_MODEL_f9e9f52e2b594edeb8dfb2ae8629933a",
       "style": "IPY_MODEL_f4d0edd729564baabf991c115f90d664"
      }
     },
     "54a9fb7fead94a1c9f6b7899aa253c7a": {
      "model_module": "@jupyter-widgets/base",
      "model_module_version": "2.0.0",
      "model_name": "LayoutModel",
      "state": {
       "width": "100%"
      }
     },
     "54da310746194a848d49d8da27a8a6d3": {
      "model_module": "@jupyter-widgets/controls",
      "model_module_version": "2.0.0",
      "model_name": "LabelModel",
      "state": {
       "layout": "IPY_MODEL_c281a7014d3747d79b1cc8ee57d5b703",
       "style": "IPY_MODEL_6665bdc8c99e4c76b5a6d3d85690efea"
      }
     },
     "54f3e106af09422b8092c2274294f1f4": {
      "model_module": "@jupyter-widgets/controls",
      "model_module_version": "2.0.0",
      "model_name": "VBoxModel",
      "state": {
       "children": [
        "IPY_MODEL_065cccb86b384fafa837e6c108197e25",
        "IPY_MODEL_0bba158922d74c3ebe5da13fad4fbf72"
       ],
       "layout": "IPY_MODEL_8d2c0eaefc694309ac49298404aff655"
      }
     },
     "550f664cc39642d5a6f5517a01d076b5": {
      "model_module": "@jupyter-widgets/base",
      "model_module_version": "2.0.0",
      "model_name": "LayoutModel",
      "state": {
       "display": "none"
      }
     },
     "551339002c424d699c0471890bbe7192": {
      "model_module": "@jupyter-widgets/base",
      "model_module_version": "2.0.0",
      "model_name": "LayoutModel",
      "state": {
       "width": "33%"
      }
     },
     "55173423e3ee4d4695e6fbad42de1f57": {
      "model_module": "@jupyter-widgets/controls",
      "model_module_version": "2.0.0",
      "model_name": "TextStyleModel",
      "state": {
       "description_width": "",
       "font_size": null,
       "text_color": null
      }
     },
     "5562eddfb98a4f6c8dd13b5e886b4573": {
      "model_module": "@jupyter-widgets/base",
      "model_module_version": "2.0.0",
      "model_name": "LayoutModel",
      "state": {}
     },
     "567311b934a14a3f85e522edf1402890": {
      "model_module": "@jupyter-widgets/base",
      "model_module_version": "2.0.0",
      "model_name": "LayoutModel",
      "state": {
       "width": "100%"
      }
     },
     "567b9a5931a348d89b16a81aa44c8fef": {
      "model_module": "@jupyter-widgets/controls",
      "model_module_version": "2.0.0",
      "model_name": "LabelStyleModel",
      "state": {
       "description_width": "",
       "font_family": null,
       "font_size": null,
       "font_style": null,
       "font_variant": null,
       "font_weight": null,
       "text_color": null,
       "text_decoration": null
      }
     },
     "568f543089a24d23a66cca2d44eb0300": {
      "model_module": "@jupyter-widgets/controls",
      "model_module_version": "2.0.0",
      "model_name": "TextStyleModel",
      "state": {
       "description_width": "",
       "font_size": null,
       "text_color": null
      }
     },
     "56cf805566254818bef8b363b6a98c17": {
      "model_module": "@jupyter-widgets/controls",
      "model_module_version": "2.0.0",
      "model_name": "LabelStyleModel",
      "state": {
       "description_width": "",
       "font_family": null,
       "font_size": null,
       "font_style": null,
       "font_variant": null,
       "font_weight": null,
       "text_color": null,
       "text_decoration": null
      }
     },
     "5750a16e86ec432ab87afcd92b366f10": {
      "model_module": "@jupyter-widgets/base",
      "model_module_version": "2.0.0",
      "model_name": "LayoutModel",
      "state": {}
     },
     "57627c38cefd4a9dbaca1b21d6b90110": {
      "model_module": "@jupyter-widgets/controls",
      "model_module_version": "2.0.0",
      "model_name": "HBoxModel",
      "state": {
       "children": [
        "IPY_MODEL_8aac2803b4ad49f292ecf8c1fcc02e2d",
        "IPY_MODEL_6ecbcada72b947528c76011bf6e8342b"
       ],
       "layout": "IPY_MODEL_8ad8bbe7bee84c31aeb0c44eea0c2a1e"
      }
     },
     "577b86831a534ebfbd90a8009d1f95bc": {
      "model_module": "@jupyter-widgets/base",
      "model_module_version": "2.0.0",
      "model_name": "LayoutModel",
      "state": {}
     },
     "5794436a210a4bca8edc8084c3d6a066": {
      "model_module": "@jupyter-widgets/base",
      "model_module_version": "2.0.0",
      "model_name": "LayoutModel",
      "state": {
       "width": "100%"
      }
     },
     "57c0b0866a604bf2845bb4e7d1bb96e9": {
      "model_module": "@jupyter-widgets/controls",
      "model_module_version": "2.0.0",
      "model_name": "VBoxModel",
      "state": {
       "children": [
        "IPY_MODEL_adbce8f64b584148a9ac6f7d5b5b7478",
        "IPY_MODEL_0e43a6e5cdc94e89bcc846bb9675529f"
       ],
       "layout": "IPY_MODEL_7ffc0fc0101b435ca9da42fe35cac315"
      }
     },
     "57d4d82e8b114a36a3f9e36009231175": {
      "model_module": "@jupyter-widgets/base",
      "model_module_version": "2.0.0",
      "model_name": "LayoutModel",
      "state": {
       "border_bottom": "none",
       "border_left": "none",
       "border_right": "none",
       "border_top": "none",
       "width": "100%"
      }
     },
     "581a548b0b9c4c43a042a7577551aba9": {
      "model_module": "@jupyter-widgets/controls",
      "model_module_version": "2.0.0",
      "model_name": "LabelModel",
      "state": {
       "layout": "IPY_MODEL_08f2bbbedebb4d25bb7506b31941bfb8",
       "style": "IPY_MODEL_b3082b92df00449d9e9121aa80fbd677"
      }
     },
     "5824fbebbe984661859f6c7fc3415481": {
      "model_module": "@jupyter-widgets/controls",
      "model_module_version": "2.0.0",
      "model_name": "LabelStyleModel",
      "state": {
       "description_width": "",
       "font_family": null,
       "font_size": null,
       "font_style": null,
       "font_variant": null,
       "font_weight": null,
       "text_color": null,
       "text_decoration": null
      }
     },
     "5897d06d33754a0b8dafb95c076a3c59": {
      "model_module": "@jupyter-widgets/controls",
      "model_module_version": "2.0.0",
      "model_name": "TextStyleModel",
      "state": {
       "description_width": "",
       "font_size": null,
       "text_color": null
      }
     },
     "58d6e894947f4f40a74e6e94f38e9aeb": {
      "model_module": "@jupyter-widgets/base",
      "model_module_version": "2.0.0",
      "model_name": "LayoutModel",
      "state": {
       "width": "33%"
      }
     },
     "592f1d962e534a3086437bc08aab7e4c": {
      "model_module": "@jupyter-widgets/base",
      "model_module_version": "2.0.0",
      "model_name": "LayoutModel",
      "state": {
       "border_bottom": "2px solid red",
       "border_left": "2px solid red",
       "border_right": "2px solid red",
       "border_top": "2px solid red",
       "width": "100%"
      }
     },
     "59542fefb0434f7291e60e864764cab6": {
      "model_module": "@jupyter-widgets/controls",
      "model_module_version": "2.0.0",
      "model_name": "TextStyleModel",
      "state": {
       "description_width": "",
       "font_size": null,
       "text_color": null
      }
     },
     "59a41dcddc554c86baad2b3bfbf0a393": {
      "model_module": "@jupyter-widgets/controls",
      "model_module_version": "2.0.0",
      "model_name": "AccordionModel",
      "state": {
       "children": [
        "IPY_MODEL_47d080bafe7d4f0f923126e0ab74ab8c"
       ],
       "layout": "IPY_MODEL_22c488f273774fd989c620405010e370",
       "titles": [
        "Address"
       ]
      }
     },
     "59c711d2585c4688971001631039d30a": {
      "model_module": "@jupyter-widgets/controls",
      "model_module_version": "2.0.0",
      "model_name": "LabelStyleModel",
      "state": {
       "description_width": "",
       "font_family": null,
       "font_size": null,
       "font_style": null,
       "font_variant": null,
       "font_weight": null,
       "text_color": null,
       "text_decoration": null
      }
     },
     "59e83a188a4944408b00e84f8290c278": {
      "model_module": "@jupyter-widgets/base",
      "model_module_version": "2.0.0",
      "model_name": "LayoutModel",
      "state": {}
     },
     "59fcfbc0f49c437ba45354f2cf242eb0": {
      "model_module": "@jupyter-widgets/controls",
      "model_module_version": "2.0.0",
      "model_name": "DescriptionStyleModel",
      "state": {
       "description_width": ""
      }
     },
     "5a048379ec5342ae8c10f4f8be9a1946": {
      "model_module": "@jupyter-widgets/base",
      "model_module_version": "2.0.0",
      "model_name": "LayoutModel",
      "state": {
       "width": "100%"
      }
     },
     "5a36932b7b4e40d894dc3039859af2bb": {
      "model_module": "@jupyter-widgets/controls",
      "model_module_version": "2.0.0",
      "model_name": "IntSliderModel",
      "state": {
       "behavior": "drag-tap",
       "layout": "IPY_MODEL_32783ef4b2df4e5ebddd532502b764a1",
       "max": 300,
       "style": "IPY_MODEL_1c0e281d057645519635026d34ab015b",
       "tooltip": "Height",
       "value": 176
      }
     },
     "5ac140c397474d7dae2062ee461c7da5": {
      "model_module": "@jupyter-widgets/controls",
      "model_module_version": "2.0.0",
      "model_name": "TextStyleModel",
      "state": {
       "description_width": "",
       "font_size": null,
       "text_color": null
      }
     },
     "5ae9d40ab58e433d849f8c26b3246281": {
      "model_module": "@jupyter-widgets/controls",
      "model_module_version": "2.0.0",
      "model_name": "DescriptionStyleModel",
      "state": {
       "description_width": ""
      }
     },
     "5b4d641235a34a18bd28890d9d9d4157": {
      "model_module": "@jupyter-widgets/controls",
      "model_module_version": "2.0.0",
      "model_name": "ButtonStyleModel",
      "state": {
       "font_family": null,
       "font_size": null,
       "font_style": null,
       "font_variant": null,
       "font_weight": null,
       "text_color": null,
       "text_decoration": null
      }
     },
     "5bce4b70595745cc9c25b05d7fec7312": {
      "model_module": "@jupyter-widgets/controls",
      "model_module_version": "2.0.0",
      "model_name": "TextStyleModel",
      "state": {
       "description_width": "",
       "font_size": null,
       "text_color": null
      }
     },
     "5c17331a58644e1e95f03509cbb3682e": {
      "model_module": "@jupyter-widgets/controls",
      "model_module_version": "2.0.0",
      "model_name": "VBoxModel",
      "state": {
       "children": [
        "IPY_MODEL_3bd359e58e9741d08a04e8c997a4eeb8",
        "IPY_MODEL_918720930a2b4823b5380c966641d2ca"
       ],
       "layout": "IPY_MODEL_2bfd58993e614f2382434b6b7514eb84"
      }
     },
     "5c1bf4f44c124175bd909a7f66a30c84": {
      "model_module": "@jupyter-widgets/controls",
      "model_module_version": "2.0.0",
      "model_name": "LabelModel",
      "state": {
       "layout": "IPY_MODEL_a0f4a4644a354eb7a1397eb7397561f2",
       "style": "IPY_MODEL_edff3ec1f28c44e4832f1beff737ab75",
       "value": "Adress"
      }
     },
     "5c26d5abe38b4091827a7a70e116b06b": {
      "model_module": "@jupyter-widgets/controls",
      "model_module_version": "2.0.0",
      "model_name": "ButtonModel",
      "state": {
       "icon": "trash",
       "layout": "IPY_MODEL_ca698159aeb94b06b7ae63d7ded650f6",
       "style": "IPY_MODEL_6d9f75894f6d4e7c8ddb63a31480f34a",
       "tooltip": null
      }
     },
     "5cd1c2d6e7284857a98bb534c0edec6f": {
      "model_module": "@jupyter-widgets/base",
      "model_module_version": "2.0.0",
      "model_name": "LayoutModel",
      "state": {}
     },
     "5ce2963c937945248baf21749f73ee46": {
      "model_module": "@jupyter-widgets/base",
      "model_module_version": "2.0.0",
      "model_name": "LayoutModel",
      "state": {}
     },
     "5cf410bd08ca46c2b74463bc5f3934f4": {
      "model_module": "@jupyter-widgets/base",
      "model_module_version": "2.0.0",
      "model_name": "LayoutModel",
      "state": {}
     },
     "5d1264e8ddad4e94bdaaf7cf7af6cec9": {
      "model_module": "@jupyter-widgets/controls",
      "model_module_version": "2.0.0",
      "model_name": "VBoxModel",
      "state": {
       "children": [
        "IPY_MODEL_a1db20fa451c4de49d9d3db697df559a",
        "IPY_MODEL_de363d8d072245b9a83d666048e54236",
        "IPY_MODEL_ef3ba9e9ffc148e5ad4cb0b574cb3c2d"
       ],
       "layout": "IPY_MODEL_dc5d9b968a2a46feb2c75302b8e442de"
      }
     },
     "5d763fd05c814a2384cb81b59c1bd009": {
      "model_module": "@jupyter-widgets/base",
      "model_module_version": "2.0.0",
      "model_name": "LayoutModel",
      "state": {
       "width": "100%"
      }
     },
     "5d8db0f8976c43ef92727ea85d9b9f23": {
      "model_module": "@jupyter-widgets/controls",
      "model_module_version": "2.0.0",
      "model_name": "ButtonModel",
      "state": {
       "description": "Edit",
       "icon": "pencil",
       "layout": "IPY_MODEL_e1e176cc210f40b79646ff03cd0f79c0",
       "style": "IPY_MODEL_21b7a58cee2a438bb03245153605ee08",
       "tooltip": "Edit model"
      }
     },
     "5e45e67a5a9446928ea3a4d1538c9645": {
      "model_module": "@jupyter-widgets/controls",
      "model_module_version": "2.0.0",
      "model_name": "LabelStyleModel",
      "state": {
       "description_width": "",
       "font_family": null,
       "font_size": null,
       "font_style": null,
       "font_variant": null,
       "font_weight": null,
       "text_color": null,
       "text_decoration": null
      }
     },
     "5e6d906f1c5345539bd87475a8e769f1": {
      "model_module": "@jupyter-widgets/controls",
      "model_module_version": "2.0.0",
      "model_name": "VBoxModel",
      "state": {
       "children": [
        "IPY_MODEL_46f280d5dcc6451ca0e4c82954e035a7"
       ],
       "layout": "IPY_MODEL_ae25e24abc2542509251e3d14ee93fa4"
      }
     },
     "5e7010db9c6e45938f74b9ca0855809d": {
      "model_module": "@jupyter-widgets/base",
      "model_module_version": "2.0.0",
      "model_name": "LayoutModel",
      "state": {
       "border_bottom": "none",
       "border_left": "none",
       "border_right": "none",
       "border_top": "none",
       "width": "100%"
      }
     },
     "5e80c6c4c1514a6bb4e45e43cde1128d": {
      "model_module": "@jupyter-widgets/base",
      "model_module_version": "2.0.0",
      "model_name": "LayoutModel",
      "state": {
       "width": "33%"
      }
     },
     "5e9d1d73d0f1401db4ff6636f3b3aeb5": {
      "model_module": "@jupyter-widgets/base",
      "model_module_version": "2.0.0",
      "model_name": "LayoutModel",
      "state": {
       "width": "100%"
      }
     },
     "5ec527112caf4de487e85e41c7fd687d": {
      "model_module": "@jupyter-widgets/controls",
      "model_module_version": "2.0.0",
      "model_name": "TextStyleModel",
      "state": {
       "description_width": "",
       "font_size": null,
       "text_color": null
      }
     },
     "5ef6fc3b2dac4479a120721e606788d4": {
      "model_module": "@jupyter-widgets/controls",
      "model_module_version": "2.0.0",
      "model_name": "ButtonStyleModel",
      "state": {
       "font_family": null,
       "font_size": null,
       "font_style": null,
       "font_variant": null,
       "font_weight": null,
       "text_color": null,
       "text_decoration": null
      }
     },
     "5efcaaa95e994afe8598109906a4e107": {
      "model_module": "@jupyter-widgets/controls",
      "model_module_version": "2.0.0",
      "model_name": "TextStyleModel",
      "state": {
       "description_width": "",
       "font_size": null,
       "text_color": null
      }
     },
     "5f00cee66f13498c89b4c886a3e9a7f1": {
      "model_module": "@jupyter-widgets/base",
      "model_module_version": "2.0.0",
      "model_name": "LayoutModel",
      "state": {}
     },
     "5f23645bec794e2aad3956c360b7ac52": {
      "model_module": "@jupyter-widgets/controls",
      "model_module_version": "2.0.0",
      "model_name": "VBoxModel",
      "state": {
       "children": [
        "IPY_MODEL_bd358f1a845d469b9ebb616d28fae606",
        "IPY_MODEL_64c06e9196d848f497107ebc1ed16299",
        "IPY_MODEL_581a548b0b9c4c43a042a7577551aba9"
       ],
       "layout": "IPY_MODEL_c0d18b3850a146b095cfcf2e841ca89b"
      }
     },
     "5fb320eb6d1d4735b3402a2c04e595ec": {
      "model_module": "@jupyter-widgets/controls",
      "model_module_version": "2.0.0",
      "model_name": "VBoxModel",
      "state": {
       "children": [
        "IPY_MODEL_59a41dcddc554c86baad2b3bfbf0a393"
       ],
       "layout": "IPY_MODEL_77626d0d0a5d492ba2385113699ea9a6"
      }
     },
     "5fb714cd06d7485c9eca200320c0c83e": {
      "model_module": "@jupyter-widgets/base",
      "model_module_version": "2.0.0",
      "model_name": "LayoutModel",
      "state": {
       "width": "100%"
      }
     },
     "5fdbfb384cc249acac3a550966db4c8b": {
      "model_module": "@jupyter-widgets/base",
      "model_module_version": "2.0.0",
      "model_name": "LayoutModel",
      "state": {
       "width": "100%"
      }
     },
     "5fe7d7114d194451838c5b968d4b1c7a": {
      "model_module": "@jupyter-widgets/base",
      "model_module_version": "2.0.0",
      "model_name": "LayoutModel",
      "state": {
       "width": "100%"
      }
     },
     "6026ce5123c84b809769348571be82e9": {
      "model_module": "@jupyter-widgets/controls",
      "model_module_version": "2.0.0",
      "model_name": "HBoxModel",
      "state": {
       "children": [
        "IPY_MODEL_980ea88ec653449983afff66390279d9",
        "IPY_MODEL_2dfbe70e6a7840fba91ff117b3a473c1"
       ],
       "layout": "IPY_MODEL_04273246cc2e407d9065c476e8b4599c"
      }
     },
     "6074ab8ca5af44dfbd038cd814363862": {
      "model_module": "@jupyter-widgets/base",
      "model_module_version": "2.0.0",
      "model_name": "LayoutModel",
      "state": {
       "width": "100%"
      }
     },
     "60d97a80270b4f1bb1baa79d1e0ad1c1": {
      "model_module": "@jupyter-widgets/controls",
      "model_module_version": "2.0.0",
      "model_name": "LabelStyleModel",
      "state": {
       "description_width": "",
       "font_family": null,
       "font_size": null,
       "font_style": null,
       "font_variant": null,
       "font_weight": null,
       "text_color": null,
       "text_decoration": null
      }
     },
     "613c68d773994ae783d23ff76865cb09": {
      "model_module": "@jupyter-widgets/controls",
      "model_module_version": "2.0.0",
      "model_name": "VBoxModel",
      "state": {
       "children": [
        "IPY_MODEL_452b503baa26431097ab62dd293fb2b4"
       ],
       "layout": "IPY_MODEL_26e03a881cf84a0ebd6dec15745055ed"
      }
     },
     "616db961cea44124be83fd2b9ba6bc06": {
      "model_module": "@jupyter-widgets/controls",
      "model_module_version": "2.0.0",
      "model_name": "LabelStyleModel",
      "state": {
       "description_width": "",
       "font_family": null,
       "font_size": null,
       "font_style": null,
       "font_variant": null,
       "font_weight": null,
       "text_color": null,
       "text_decoration": null
      }
     },
     "618d011e1a944ebdbfb7b8eedd269cb4": {
      "model_module": "@jupyter-widgets/controls",
      "model_module_version": "2.0.0",
      "model_name": "VBoxModel",
      "state": {
       "children": [
        "IPY_MODEL_f4f6d40b6f6645ae9813947d83ec7ff7",
        "IPY_MODEL_5a36932b7b4e40d894dc3039859af2bb"
       ],
       "layout": "IPY_MODEL_7cf422b05cbd43e09afd788896caa3b7"
      }
     },
     "61984d0f535b402e9ade43f730daae74": {
      "model_module": "@jupyter-widgets/controls",
      "model_module_version": "2.0.0",
      "model_name": "LabelStyleModel",
      "state": {
       "description_width": "",
       "font_family": null,
       "font_size": null,
       "font_style": null,
       "font_variant": null,
       "font_weight": null,
       "text_color": null,
       "text_decoration": null
      }
     },
     "61e2b3874e7440c78b7b1eae9511df46": {
      "model_module": "@jupyter-widgets/base",
      "model_module_version": "2.0.0",
      "model_name": "LayoutModel",
      "state": {}
     },
     "6211fbea7ca741fc9b270d5950e8e0ee": {
      "model_module": "@jupyter-widgets/controls",
      "model_module_version": "2.0.0",
      "model_name": "LabelModel",
      "state": {
       "layout": "IPY_MODEL_2679950a024948238672376de25e1452",
       "style": "IPY_MODEL_86cfb602abac405b8ef33d08cea7b322"
      }
     },
     "628ebae90fb14ed38314d4d12d9ebb25": {
      "model_module": "@jupyter-widgets/controls",
      "model_module_version": "2.0.0",
      "model_name": "LabelModel",
      "state": {
       "layout": "IPY_MODEL_77a2effa9799471280d275991e7f6b83",
       "style": "IPY_MODEL_3d0b1d1c9d0c4eba945334cb659c051a",
       "value": "Adress"
      }
     },
     "62d41b6bd78a4fa5952844ebe8e3745e": {
      "model_module": "@jupyter-widgets/base",
      "model_module_version": "2.0.0",
      "model_name": "LayoutModel",
      "state": {
       "width": "100%"
      }
     },
     "634d3a17f71b42c5bdf0d020b8e3a8d9": {
      "model_module": "@jupyter-widgets/base",
      "model_module_version": "2.0.0",
      "model_name": "LayoutModel",
      "state": {}
     },
     "6375918873e04727a503870cf6d89d37": {
      "model_module": "@jupyter-widgets/controls",
      "model_module_version": "2.0.0",
      "model_name": "LabelStyleModel",
      "state": {
       "description_width": "",
       "font_family": null,
       "font_size": null,
       "font_style": null,
       "font_variant": null,
       "font_weight": null,
       "text_color": null,
       "text_decoration": null
      }
     },
     "6397b4befef6441c9da7d0548e3d8bfd": {
      "model_module": "@jupyter-widgets/base",
      "model_module_version": "2.0.0",
      "model_name": "LayoutModel",
      "state": {}
     },
     "639d6f39dffe4465b6f0a2ed1c6f1843": {
      "model_module": "@jupyter-widgets/base",
      "model_module_version": "2.0.0",
      "model_name": "LayoutModel",
      "state": {
       "width": "100%"
      }
     },
     "63da94f5e02248fe95745d0e62b131f1": {
      "model_module": "@jupyter-widgets/controls",
      "model_module_version": "2.0.0",
      "model_name": "HBoxModel",
      "state": {
       "children": [
        "IPY_MODEL_1026b5158020483c8b5fff97ce2bdf06",
        "IPY_MODEL_c5fc21378e2d445caba76af8d63516e5",
        "IPY_MODEL_9c5bb70a719b4dce8550044e62dc4e91"
       ],
       "layout": "IPY_MODEL_9f605165777148bf9d59bd110a45a5c5"
      }
     },
     "641ee7084e924687b00e605a7333fae5": {
      "model_module": "@jupyter-widgets/base",
      "model_module_version": "2.0.0",
      "model_name": "LayoutModel",
      "state": {}
     },
     "64a943bd96854e1e90217d5b08e1eee2": {
      "model_module": "@jupyter-widgets/controls",
      "model_module_version": "2.0.0",
      "model_name": "LabelStyleModel",
      "state": {
       "description_width": "",
       "font_family": null,
       "font_size": null,
       "font_style": null,
       "font_variant": null,
       "font_weight": null,
       "text_color": null,
       "text_decoration": null
      }
     },
     "64c06e9196d848f497107ebc1ed16299": {
      "model_module": "@jupyter-widgets/controls",
      "model_module_version": "2.0.0",
      "model_name": "HBoxModel",
      "state": {
       "children": [
        "IPY_MODEL_78ed8541d8c341fc82efe8379824d78c",
        "IPY_MODEL_a641a1bca1a44b7db4a41624bef90da9"
       ],
       "layout": "IPY_MODEL_3993ccc1bc664d9e880840bb0a5b5d3f"
      }
     },
     "64c0d95eb3e44736a9d35641c7488375": {
      "model_module": "@jupyter-widgets/base",
      "model_module_version": "2.0.0",
      "model_name": "LayoutModel",
      "state": {
       "width": "100%"
      }
     },
     "64ddbaed2f6f46cba6a363b4ae4e18ec": {
      "model_module": "@jupyter-widgets/controls",
      "model_module_version": "2.0.0",
      "model_name": "VBoxModel",
      "state": {
       "children": [
        "IPY_MODEL_cf0ebb3fe2b149608b60803df8ec5233"
       ],
       "layout": "IPY_MODEL_3cdfd4b1c0a848a29cd5419cac37e333"
      }
     },
     "64e3050230cd42a09c83ca0b9295e40a": {
      "model_module": "@jupyter-widgets/controls",
      "model_module_version": "2.0.0",
      "model_name": "IntTextModel",
      "state": {
       "layout": "IPY_MODEL_fb64c797a62a45a1a82d09f6f0e67df6",
       "step": 1,
       "style": "IPY_MODEL_f6c5b08788eb44069c4352ae0f46bc86",
       "value": 1
      }
     },
     "6509ede179754dee8f145f4caf4919e2": {
      "model_module": "@jupyter-widgets/base",
      "model_module_version": "2.0.0",
      "model_name": "LayoutModel",
      "state": {}
     },
     "6543dae86db24b78b28880b23598a4ce": {
      "model_module": "@jupyter-widgets/controls",
      "model_module_version": "2.0.0",
      "model_name": "TextStyleModel",
      "state": {
       "description_width": "",
       "font_size": null,
       "text_color": null
      }
     },
     "655022a67e974cef9a6a21cde7c04799": {
      "model_module": "@jupyter-widgets/controls",
      "model_module_version": "2.0.0",
      "model_name": "HBoxModel",
      "state": {
       "children": [
        "IPY_MODEL_6da37f146df64338a4cccc6b6d7dcc70",
        "IPY_MODEL_03e5d8878d794514932625b076058b30"
       ],
       "layout": "IPY_MODEL_a053b7cf8324491da5a768684ef3ebc8"
      }
     },
     "6575a9d720e0494383b15e769e42bd90": {
      "model_module": "@jupyter-widgets/controls",
      "model_module_version": "2.0.0",
      "model_name": "LabelModel",
      "state": {
       "layout": "IPY_MODEL_550f664cc39642d5a6f5517a01d076b5",
       "style": "IPY_MODEL_1f8fe971995f4244b3f99d5f384e60be"
      }
     },
     "657714c664974c72bb286737fcb00114": {
      "model_module": "@jupyter-widgets/controls",
      "model_module_version": "2.0.0",
      "model_name": "TextStyleModel",
      "state": {
       "description_width": "",
       "font_size": null,
       "text_color": null
      }
     },
     "6598114ef9dc4333a520bec89133f7ce": {
      "model_module": "@jupyter-widgets/base",
      "model_module_version": "2.0.0",
      "model_name": "LayoutModel",
      "state": {
       "width": "100%"
      }
     },
     "65a524d89c7f4b248dfa2d7665906463": {
      "model_module": "@jupyter-widgets/controls",
      "model_module_version": "2.0.0",
      "model_name": "TextModel",
      "state": {
       "layout": "IPY_MODEL_81238450dcaa4351ac9c6b2d024ccab9",
       "style": "IPY_MODEL_481d39fe3311486d8d39606accaae72d",
       "tooltip": "Adress"
      }
     },
     "65e8a34a43cb47f0baa234bc06d14398": {
      "model_module": "@jupyter-widgets/base",
      "model_module_version": "2.0.0",
      "model_name": "LayoutModel",
      "state": {}
     },
     "662044849e2c4f2ba7535a7a833452c4": {
      "model_module": "@jupyter-widgets/base",
      "model_module_version": "2.0.0",
      "model_name": "LayoutModel",
      "state": {}
     },
     "6665bdc8c99e4c76b5a6d3d85690efea": {
      "model_module": "@jupyter-widgets/controls",
      "model_module_version": "2.0.0",
      "model_name": "LabelStyleModel",
      "state": {
       "description_width": "",
       "font_family": null,
       "font_size": null,
       "font_style": null,
       "font_variant": null,
       "font_weight": null,
       "text_color": null,
       "text_decoration": null
      }
     },
     "66e47555bf0746dab71cdfb8a7702027": {
      "model_module": "@jupyter-widgets/controls",
      "model_module_version": "2.0.0",
      "model_name": "VBoxModel",
      "state": {
       "children": [
        "IPY_MODEL_e191c847a300408bacca901fb8e3402f"
       ],
       "layout": "IPY_MODEL_d196db9971e64b10912892027abf94d9"
      }
     },
     "672a2461f3db4dc2be54dc1f9a0c36b8": {
      "model_module": "@jupyter-widgets/controls",
      "model_module_version": "2.0.0",
      "model_name": "TextStyleModel",
      "state": {
       "description_width": "",
       "font_size": null,
       "text_color": null
      }
     },
     "672e06e07dc24b25998a3927d9fbae3a": {
      "model_module": "@jupyter-widgets/controls",
      "model_module_version": "2.0.0",
      "model_name": "LabelModel",
      "state": {
       "layout": "IPY_MODEL_9d9ee0d82f1c45409947a4c98facf825",
       "style": "IPY_MODEL_fe434cc7e6084433817026bf29d8f2b4"
      }
     },
     "67397c197631429c8864556bbffaa617": {
      "model_module": "@jupyter-widgets/controls",
      "model_module_version": "2.0.0",
      "model_name": "VBoxModel",
      "state": {
       "children": [
        "IPY_MODEL_104e63b2df894036a9fff09f7c61bc2b",
        "IPY_MODEL_beb738cefb7846ffbc7930bd0d5f5352"
       ],
       "layout": "IPY_MODEL_6ea8e08fe1934ae0b73bba7e3b1a1b7d"
      }
     },
     "677604b5b10b431b8258d07eba37722c": {
      "model_module": "@jupyter-widgets/controls",
      "model_module_version": "2.0.0",
      "model_name": "AccordionModel",
      "state": {
       "children": [
        "IPY_MODEL_7a4fac90855d4700be8112f72c87d7c7"
       ],
       "layout": "IPY_MODEL_9aba438119604455b708f9f7f7cd42bd",
       "selected_index": 0,
       "titles": [
        "Subcategories"
       ]
      }
     },
     "6793f0f33fd8466d88dc8d856d1f0a60": {
      "model_module": "@jupyter-widgets/controls",
      "model_module_version": "2.0.0",
      "model_name": "LabelStyleModel",
      "state": {
       "description_width": "",
       "font_family": null,
       "font_size": null,
       "font_style": null,
       "font_variant": null,
       "font_weight": null,
       "text_color": null,
       "text_decoration": null
      }
     },
     "691a700d1c464d4fb10bc2bf1d2e52c8": {
      "model_module": "@jupyter-widgets/controls",
      "model_module_version": "2.0.0",
      "model_name": "LabelModel",
      "state": {
       "layout": "IPY_MODEL_a14f9a6edf4c4c40b56c734e3288d455",
       "style": "IPY_MODEL_79334c9b38464e6eb95196da51a332d6",
       "value": "Height"
      }
     },
     "69a9084bbb134755b135b9e2c9e37d5a": {
      "model_module": "@jupyter-widgets/controls",
      "model_module_version": "2.0.0",
      "model_name": "ButtonStyleModel",
      "state": {
       "font_family": null,
       "font_size": null,
       "font_style": null,
       "font_variant": null,
       "font_weight": null,
       "text_color": null,
       "text_decoration": null
      }
     },
     "69b593637f5440a3b09850c811c45027": {
      "model_module": "@jupyter-widgets/controls",
      "model_module_version": "2.0.0",
      "model_name": "LabelStyleModel",
      "state": {
       "description_width": "",
       "font_family": null,
       "font_size": null,
       "font_style": null,
       "font_variant": null,
       "font_weight": null,
       "text_color": null,
       "text_decoration": null
      }
     },
     "6a806b5f41414952828f0b057202cffb": {
      "model_module": "@jupyter-widgets/controls",
      "model_module_version": "2.0.0",
      "model_name": "ButtonStyleModel",
      "state": {
       "font_family": null,
       "font_size": null,
       "font_style": null,
       "font_variant": null,
       "font_weight": null,
       "text_color": null,
       "text_decoration": null
      }
     },
     "6af41344c2664b7895e790d944fe60d9": {
      "model_module": "@jupyter-widgets/controls",
      "model_module_version": "2.0.0",
      "model_name": "ButtonModel",
      "state": {
       "icon": "trash",
       "layout": "IPY_MODEL_16a4d88980e643e094f190a54eb8dcd9",
       "style": "IPY_MODEL_95837c46b4854e72b5b4d5bb24f843ce",
       "tooltip": null
      }
     },
     "6b338f1edbda4647b22f8ac2239d79e6": {
      "model_module": "@jupyter-widgets/controls",
      "model_module_version": "2.0.0",
      "model_name": "ButtonStyleModel",
      "state": {
       "font_family": null,
       "font_size": null,
       "font_style": null,
       "font_variant": null,
       "font_weight": null,
       "text_color": null,
       "text_decoration": null
      }
     },
     "6b386a090855499d92c5daf5614a102a": {
      "model_module": "@jupyter-widgets/base",
      "model_module_version": "2.0.0",
      "model_name": "LayoutModel",
      "state": {}
     },
     "6b514ea45e87499d8bf2535698c2d6e6": {
      "model_module": "@jupyter-widgets/base",
      "model_module_version": "2.0.0",
      "model_name": "LayoutModel",
      "state": {
       "width": "100%"
      }
     },
     "6b7eddf5f7ab47cea7885b89a942839c": {
      "model_module": "@jupyter-widgets/controls",
      "model_module_version": "2.0.0",
      "model_name": "ButtonStyleModel",
      "state": {
       "font_family": null,
       "font_size": null,
       "font_style": null,
       "font_variant": null,
       "font_weight": null,
       "text_color": null,
       "text_decoration": null
      }
     },
     "6b877371d15344c38285618ea3c1f774": {
      "model_module": "@jupyter-widgets/base",
      "model_module_version": "2.0.0",
      "model_name": "LayoutModel",
      "state": {
       "width": "100%"
      }
     },
     "6b912c624cb2482fba1ba911c2849512": {
      "model_module": "@jupyter-widgets/base",
      "model_module_version": "2.0.0",
      "model_name": "LayoutModel",
      "state": {}
     },
     "6b9f342419a4471cb01ad1dc72c5e10b": {
      "model_module": "@jupyter-widgets/controls",
      "model_module_version": "2.0.0",
      "model_name": "TextStyleModel",
      "state": {
       "description_width": "",
       "font_size": null,
       "text_color": null
      }
     },
     "6c346695434d4544a681978e1da3fcdd": {
      "model_module": "@jupyter-widgets/controls",
      "model_module_version": "2.0.0",
      "model_name": "ButtonModel",
      "state": {
       "button_style": "success",
       "description": "Save",
       "icon": "save",
       "layout": "IPY_MODEL_33d88b95c16d403ca6b8fd3373bc4335",
       "style": "IPY_MODEL_d39cdf83fe4a4de8ba61de7a7671030b",
       "tooltip": "Save all changes"
      }
     },
     "6cf1a65dc9e547918a5d22fa4ceb5fef": {
      "model_module": "@jupyter-widgets/base",
      "model_module_version": "2.0.0",
      "model_name": "LayoutModel",
      "state": {}
     },
     "6d00006c8ade434b97e6db2ac73bb9c5": {
      "model_module": "@jupyter-widgets/base",
      "model_module_version": "2.0.0",
      "model_name": "LayoutModel",
      "state": {}
     },
     "6d26029a41b34236bbabd5c7c2fc7228": {
      "model_module": "@jupyter-widgets/controls",
      "model_module_version": "2.0.0",
      "model_name": "VBoxModel",
      "state": {
       "children": [
        "IPY_MODEL_54f3e106af09422b8092c2274294f1f4"
       ],
       "layout": "IPY_MODEL_662044849e2c4f2ba7535a7a833452c4"
      }
     },
     "6d4292f657ae412e8d214782519c2d76": {
      "model_module": "@jupyter-widgets/base",
      "model_module_version": "2.0.0",
      "model_name": "LayoutModel",
      "state": {
       "border_bottom": "none",
       "border_left": "none",
       "border_right": "none",
       "border_top": "none"
      }
     },
     "6d9f70715f3e44abba43b30f66d5cc43": {
      "model_module": "@jupyter-widgets/base",
      "model_module_version": "2.0.0",
      "model_name": "LayoutModel",
      "state": {}
     },
     "6d9f75894f6d4e7c8ddb63a31480f34a": {
      "model_module": "@jupyter-widgets/controls",
      "model_module_version": "2.0.0",
      "model_name": "ButtonStyleModel",
      "state": {
       "font_family": null,
       "font_size": null,
       "font_style": null,
       "font_variant": null,
       "font_weight": null,
       "text_color": null,
       "text_decoration": null
      }
     },
     "6da37f146df64338a4cccc6b6d7dcc70": {
      "model_module": "@jupyter-widgets/controls",
      "model_module_version": "2.0.0",
      "model_name": "LabelModel",
      "state": {
       "layout": "IPY_MODEL_28e98ecafba745ca8641136f9047bfa6",
       "style": "IPY_MODEL_567b9a5931a348d89b16a81aa44c8fef",
       "value": "Name"
      }
     },
     "6db0d4320b9f4490b9315e16712f569d": {
      "model_module": "@jupyter-widgets/base",
      "model_module_version": "2.0.0",
      "model_name": "LayoutModel",
      "state": {
       "border_bottom": "none",
       "border_left": "none",
       "border_right": "none",
       "border_top": "none"
      }
     },
     "6deb1cf0c2e5404db228c09eacc4ad31": {
      "model_module": "@jupyter-widgets/base",
      "model_module_version": "2.0.0",
      "model_name": "LayoutModel",
      "state": {
       "border_bottom": "none",
       "border_left": "none",
       "border_right": "none",
       "border_top": "none"
      }
     },
     "6e27962b5a61430ea39f332ed012741e": {
      "model_module": "@jupyter-widgets/controls",
      "model_module_version": "2.0.0",
      "model_name": "LabelModel",
      "state": {
       "layout": "IPY_MODEL_946b3f2e574a4090b8d03251620f0e86",
       "style": "IPY_MODEL_e19e8cb422bb40a580f584693c4852bb",
       "value": "City"
      }
     },
     "6e38d76568e240059e9c6811a4879030": {
      "model_module": "@jupyter-widgets/controls",
      "model_module_version": "2.0.0",
      "model_name": "SliderStyleModel",
      "state": {
       "description_width": ""
      }
     },
     "6e874045ec364716afe0ba3b1d9d8613": {
      "model_module": "@jupyter-widgets/controls",
      "model_module_version": "2.0.0",
      "model_name": "LabelModel",
      "state": {
       "layout": "IPY_MODEL_30cf376b3d1348579ce124f6ebde3b72",
       "style": "IPY_MODEL_b13436e57d8e4b54aa170fc11d9513db",
       "value": "Warning: Input does not match the specified pattern"
      }
     },
     "6ea0a6eb3fdf4125b47146fe35ce6c17": {
      "model_module": "@jupyter-widgets/controls",
      "model_module_version": "2.0.0",
      "model_name": "LabelStyleModel",
      "state": {
       "description_width": "",
       "font_family": null,
       "font_size": null,
       "font_style": null,
       "font_variant": null,
       "font_weight": null,
       "text_color": null,
       "text_decoration": null
      }
     },
     "6ea8e08fe1934ae0b73bba7e3b1a1b7d": {
      "model_module": "@jupyter-widgets/base",
      "model_module_version": "2.0.0",
      "model_name": "LayoutModel",
      "state": {
       "width": "100%"
      }
     },
     "6ec6c4948265427792c8e6876fb54e31": {
      "model_module": "@jupyter-widgets/base",
      "model_module_version": "2.0.0",
      "model_name": "LayoutModel",
      "state": {}
     },
     "6ecbcada72b947528c76011bf6e8342b": {
      "model_module": "@jupyter-widgets/controls",
      "model_module_version": "2.0.0",
      "model_name": "TextModel",
      "state": {
       "layout": "IPY_MODEL_316fafc12d064bfe918aa126a4e827ae",
       "style": "IPY_MODEL_5ec527112caf4de487e85e41c7fd687d",
       "tooltip": "Name"
      }
     },
     "6eee12103a9245c4995f83e16d28559a": {
      "model_module": "@jupyter-widgets/base",
      "model_module_version": "2.0.0",
      "model_name": "LayoutModel",
      "state": {}
     },
     "6ef8b220df27491b9940e5ec77b3bc66": {
      "model_module": "@jupyter-widgets/controls",
      "model_module_version": "2.0.0",
      "model_name": "VBoxModel",
      "state": {
       "children": [
        "IPY_MODEL_319f4e60b6a24d3c99225c3bbfaa02de",
        "IPY_MODEL_2aa47ea6e5554cf793618d80e5b1a6cf"
       ],
       "layout": "IPY_MODEL_832500bb9eb64dcca0a5b1b1856f99a9"
      }
     },
     "6fd0813c0a7a4502b1d4a5780e65245a": {
      "model_module": "@jupyter-widgets/controls",
      "model_module_version": "2.0.0",
      "model_name": "ButtonModel",
      "state": {
       "description": "Add entry",
       "icon": "plus",
       "layout": "IPY_MODEL_5d763fd05c814a2384cb81b59c1bd009",
       "style": "IPY_MODEL_52cf7bb08eec467c9ac52d1d15624cd3",
       "tooltip": null
      }
     },
     "7000c9e53ca74bd9a44dd22c7afb6ff6": {
      "model_module": "@jupyter-widgets/base",
      "model_module_version": "2.0.0",
      "model_name": "LayoutModel",
      "state": {
       "display": "none"
      }
     },
     "70521c60d0dd41a78abccd5f4b08fcef": {
      "model_module": "@jupyter-widgets/base",
      "model_module_version": "2.0.0",
      "model_name": "LayoutModel",
      "state": {
       "width": "100%"
      }
     },
     "707a78936ef34b9da5c708fa4405c1e8": {
      "model_module": "@jupyter-widgets/controls",
      "model_module_version": "2.0.0",
      "model_name": "ButtonModel",
      "state": {
       "icon": "arrow-up",
       "layout": "IPY_MODEL_3e762c22fb5349bfa5856c8905b7c06b",
       "style": "IPY_MODEL_6b338f1edbda4647b22f8ac2239d79e6",
       "tooltip": null
      }
     },
     "707c207785f74af4ab2aa46665343a35": {
      "model_module": "@jupyter-widgets/base",
      "model_module_version": "2.0.0",
      "model_name": "LayoutModel",
      "state": {
       "display": "none"
      }
     },
     "7088b3cb177844f7b9dd62d61cd59125": {
      "model_module": "@jupyter-widgets/controls",
      "model_module_version": "2.0.0",
      "model_name": "TextStyleModel",
      "state": {
       "description_width": "",
       "font_size": null,
       "text_color": null
      }
     },
     "7088facb2e2640be8e15a21b1fa03dbb": {
      "model_module": "@jupyter-widgets/controls",
      "model_module_version": "2.0.0",
      "model_name": "TextStyleModel",
      "state": {
       "description_width": "",
       "font_size": null,
       "text_color": null
      }
     },
     "70abb278e39f448290cdfe8393de295d": {
      "model_module": "@jupyter-widgets/controls",
      "model_module_version": "2.0.0",
      "model_name": "AccordionModel",
      "state": {
       "children": [
        "IPY_MODEL_8daebbe8720e4faa886dd7e656184b89"
       ],
       "layout": "IPY_MODEL_0e7b82ab6ca34bab952fd95ec7a3388a",
       "selected_index": 0,
       "titles": [
        "Subcategories"
       ]
      }
     },
     "7115ed4705fd4cfaaf31374c575f5389": {
      "model_module": "@jupyter-widgets/base",
      "model_module_version": "2.0.0",
      "model_name": "LayoutModel",
      "state": {}
     },
     "71410b7564104f0a80e0354d273dea0b": {
      "model_module": "@jupyter-widgets/controls",
      "model_module_version": "2.0.0",
      "model_name": "HBoxModel",
      "state": {
       "children": [
        "IPY_MODEL_aa69fbee5a364e2190f6819ca981df9f"
       ],
       "layout": "IPY_MODEL_d7125d69adc540ae830e4de9d2bed3ef"
      }
     },
     "715a8f2a2d934ceea99a900c303a3d3e": {
      "model_module": "@jupyter-widgets/controls",
      "model_module_version": "2.0.0",
      "model_name": "TimeModel",
      "state": {
       "description": "Time",
       "layout": "IPY_MODEL_4c69aeef74a64b82969d5e9ca338d09b",
       "style": "IPY_MODEL_ce2b75345e2c48d4af329c72a74f543b",
       "tooltip": "Time",
       "value": {
        "hours": 21,
        "milliseconds": 0,
        "minutes": 48,
        "seconds": 0
       }
      }
     },
     "715dc92cb7d74ff5b6a440c5d906a1a0": {
      "model_module": "@jupyter-widgets/controls",
      "model_module_version": "2.0.0",
      "model_name": "LabelModel",
      "state": {
       "layout": "IPY_MODEL_321fc770fd1f42158cc5c7d21d475bba",
       "style": "IPY_MODEL_acbec4aa55ff4ae5af2581fd817c1aea"
      }
     },
     "716e753807e245bfada4d799f1f9f597": {
      "model_module": "@jupyter-widgets/controls",
      "model_module_version": "2.0.0",
      "model_name": "LabelModel",
      "state": {
       "layout": "IPY_MODEL_2447789eea744083815ecdc8a6a8ee5b",
       "style": "IPY_MODEL_a13168ce3f51479d8232bd8a4aa99555",
       "value": "Name"
      }
     },
     "71d78ad3e8484c6cac2e8c471f377b58": {
      "model_module": "@jupyter-widgets/base",
      "model_module_version": "2.0.0",
      "model_name": "LayoutModel",
      "state": {}
     },
     "71f3651912b24fb1ad6761e7a0f06c30": {
      "model_module": "@jupyter-widgets/controls",
      "model_module_version": "2.0.0",
      "model_name": "VBoxModel",
      "state": {
       "children": [
        "IPY_MODEL_82dde9662bd4439e9adee14f14fbb2ab"
       ],
       "layout": "IPY_MODEL_44fef6cf74bd43459949834f66e0453a"
      }
     },
     "7243759d5cd948c88009c765d6cf7238": {
      "model_module": "@jupyter-widgets/controls",
      "model_module_version": "2.0.0",
      "model_name": "ButtonStyleModel",
      "state": {
       "font_family": null,
       "font_size": null,
       "font_style": null,
       "font_variant": null,
       "font_weight": null,
       "text_color": null,
       "text_decoration": null
      }
     },
     "72e6ae2bb739449cadfc97b5b25e287c": {
      "model_module": "@jupyter-widgets/base",
      "model_module_version": "2.0.0",
      "model_name": "LayoutModel",
      "state": {
       "width": "100%"
      }
     },
     "73464d652ed14885bada422baadbd76d": {
      "model_module": "@jupyter-widgets/controls",
      "model_module_version": "2.0.0",
      "model_name": "DescriptionStyleModel",
      "state": {
       "description_width": ""
      }
     },
     "73c5539c322e4614b1db26768f9f6a49": {
      "model_module": "@jupyter-widgets/controls",
      "model_module_version": "2.0.0",
      "model_name": "HBoxModel",
      "state": {
       "children": [
        "IPY_MODEL_33344c3e39bc408dbeabfc8b7190f903",
        "IPY_MODEL_f0be9939441e41be8f2317f83d7eeb5a",
        "IPY_MODEL_14c8f3a3e5934650a0a3e570e97652bb"
       ],
       "layout": "IPY_MODEL_d77fb19b98a146608e1dc5597ae7da4c"
      }
     },
     "73e444d372354163be829d55767b5dc8": {
      "model_module": "@jupyter-widgets/controls",
      "model_module_version": "2.0.0",
      "model_name": "TextStyleModel",
      "state": {
       "description_width": "",
       "font_size": null,
       "text_color": null
      }
     },
     "74324b9dc540431bb94aa024294c5519": {
      "model_module": "@jupyter-widgets/controls",
      "model_module_version": "2.0.0",
      "model_name": "TextStyleModel",
      "state": {
       "description_width": "",
       "font_size": null,
       "text_color": null
      }
     },
     "7454878247ba421f9f51737fa302a63f": {
      "model_module": "@jupyter-widgets/controls",
      "model_module_version": "2.0.0",
      "model_name": "TextModel",
      "state": {
       "layout": "IPY_MODEL_592f1d962e534a3086437bc08aab7e4c",
       "style": "IPY_MODEL_c14d3b57ad19402192798830c345e8ad",
       "tooltip": "Text"
      }
     },
     "7480b4b2c0df47b3a07c29e0db4625e6": {
      "model_module": "@jupyter-widgets/controls",
      "model_module_version": "2.0.0",
      "model_name": "LabelStyleModel",
      "state": {
       "description_width": "",
       "font_family": null,
       "font_size": null,
       "font_style": null,
       "font_variant": null,
       "font_weight": null,
       "text_color": null,
       "text_decoration": null
      }
     },
     "74b135c9bd484a079dcb69cfcb69c09f": {
      "model_module": "@jupyter-widgets/base",
      "model_module_version": "2.0.0",
      "model_name": "LayoutModel",
      "state": {
       "width": "33%"
      }
     },
     "74f2e7a07d864e3abb2e103592639941": {
      "model_module": "@jupyter-widgets/base",
      "model_module_version": "2.0.0",
      "model_name": "LayoutModel",
      "state": {
       "width": "100%"
      }
     },
     "755c8e5b2fba4560b5be478ffc681bb0": {
      "model_module": "@jupyter-widgets/base",
      "model_module_version": "2.0.0",
      "model_name": "LayoutModel",
      "state": {
       "width": "100%"
      }
     },
     "758f75e598fa4621bb46ec73ef1edaa9": {
      "model_module": "@jupyter-widgets/base",
      "model_module_version": "2.0.0",
      "model_name": "LayoutModel",
      "state": {
       "display": "none"
      }
     },
     "75b66d6a43534b548c05f968484e44b9": {
      "model_module": "@jupyter-widgets/base",
      "model_module_version": "2.0.0",
      "model_name": "LayoutModel",
      "state": {}
     },
     "75f813b56ce944c884c43d16dc77cedf": {
      "model_module": "@jupyter-widgets/controls",
      "model_module_version": "2.0.0",
      "model_name": "VBoxModel",
      "state": {
       "children": [
        "IPY_MODEL_71410b7564104f0a80e0354d273dea0b",
        "IPY_MODEL_b1e99a2ae2b246d1bcd1fe0482197e54"
       ],
       "layout": "IPY_MODEL_518c0d58b7a346f98c59d3f81f384d9c"
      }
     },
     "762bac2c1d8b4dd6b981df124edfadd1": {
      "model_module": "@jupyter-widgets/controls",
      "model_module_version": "2.0.0",
      "model_name": "ButtonStyleModel",
      "state": {
       "font_family": null,
       "font_size": null,
       "font_style": null,
       "font_variant": null,
       "font_weight": null,
       "text_color": null,
       "text_decoration": null
      }
     },
     "76764a7ae3f14a0fbe405644832b606c": {
      "model_module": "@jupyter-widgets/controls",
      "model_module_version": "2.0.0",
      "model_name": "SliderStyleModel",
      "state": {
       "description_width": ""
      }
     },
     "768a0c22a4b54d90ab861f4a747b9eff": {
      "model_module": "@jupyter-widgets/base",
      "model_module_version": "2.0.0",
      "model_name": "LayoutModel",
      "state": {
       "border_bottom": "none",
       "border_left": "none",
       "border_right": "none",
       "border_top": "none",
       "width": "100%"
      }
     },
     "7694fd78beff4154869926dfb98f65c9": {
      "model_module": "@jupyter-widgets/controls",
      "model_module_version": "2.0.0",
      "model_name": "TextStyleModel",
      "state": {
       "description_width": "",
       "font_size": null,
       "text_color": null
      }
     },
     "76bed29e9bc244f2985037ace460fbc0": {
      "model_module": "@jupyter-widgets/controls",
      "model_module_version": "2.0.0",
      "model_name": "HBoxModel",
      "state": {
       "children": [
        "IPY_MODEL_715a8f2a2d934ceea99a900c303a3d3e"
       ],
       "layout": "IPY_MODEL_af2e202df8544c62973bcef0d4e64726"
      }
     },
     "76c17c8a459b47cf90918f9b155cdbda": {
      "model_module": "@jupyter-widgets/controls",
      "model_module_version": "2.0.0",
      "model_name": "VBoxModel",
      "state": {
       "children": [
        "IPY_MODEL_ad10f823855a4acfabecef91ad1f8d17",
        "IPY_MODEL_76bed29e9bc244f2985037ace460fbc0"
       ],
       "layout": "IPY_MODEL_8bb04c1abe824eada8370c10ebccc62b"
      }
     },
     "7721d3c5211b41a7942bee6bf9b3fa16": {
      "model_module": "@jupyter-widgets/base",
      "model_module_version": "2.0.0",
      "model_name": "LayoutModel",
      "state": {}
     },
     "7744013bc6a84eb4b464d1f6ec16be28": {
      "model_module": "@jupyter-widgets/controls",
      "model_module_version": "2.0.0",
      "model_name": "HBoxModel",
      "state": {
       "children": [
        "IPY_MODEL_ab4bade227c746339de9249eed320871",
        "IPY_MODEL_d0b7f5a6c84543eb9c35ac66924ead22"
       ],
       "layout": "IPY_MODEL_343662bc55cc4fccbe3ecde51d1b1762"
      }
     },
     "77626d0d0a5d492ba2385113699ea9a6": {
      "model_module": "@jupyter-widgets/base",
      "model_module_version": "2.0.0",
      "model_name": "LayoutModel",
      "state": {}
     },
     "7771d36f7aa74f73b1c1e3aafba5275b": {
      "model_module": "@jupyter-widgets/controls",
      "model_module_version": "2.0.0",
      "model_name": "LabelStyleModel",
      "state": {
       "description_width": "",
       "font_family": null,
       "font_size": null,
       "font_style": null,
       "font_variant": null,
       "font_weight": null,
       "text_color": null,
       "text_decoration": null
      }
     },
     "77a2effa9799471280d275991e7f6b83": {
      "model_module": "@jupyter-widgets/base",
      "model_module_version": "2.0.0",
      "model_name": "LayoutModel",
      "state": {
       "width": "100%"
      }
     },
     "77c1af98d68a4dd1b457edd5440752a5": {
      "model_module": "@jupyter-widgets/controls",
      "model_module_version": "2.0.0",
      "model_name": "LabelStyleModel",
      "state": {
       "description_width": "",
       "font_family": null,
       "font_size": null,
       "font_style": null,
       "font_variant": null,
       "font_weight": null,
       "text_color": null,
       "text_decoration": null
      }
     },
     "77da3f57bd6f4fdf88b505fcc6ea9fc9": {
      "model_module": "@jupyter-widgets/controls",
      "model_module_version": "2.0.0",
      "model_name": "LabelStyleModel",
      "state": {
       "description_width": "",
       "font_family": null,
       "font_size": null,
       "font_style": null,
       "font_variant": null,
       "font_weight": null,
       "text_color": null,
       "text_decoration": null
      }
     },
     "77f56cf47f9349a4b3458654d0238786": {
      "model_module": "@jupyter-widgets/controls",
      "model_module_version": "2.0.0",
      "model_name": "HBoxModel",
      "state": {
       "children": [
        "IPY_MODEL_a8e65669930942748c2456b4d16d97cc",
        "IPY_MODEL_bfa25e93ae874db298267c2bfb05b390"
       ],
       "layout": "IPY_MODEL_d33c93941e1749c2bd0593f95ad88830"
      }
     },
     "7803277d27614945bb1fd2887f6a3273": {
      "model_module": "@jupyter-widgets/controls",
      "model_module_version": "2.0.0",
      "model_name": "HBoxModel",
      "state": {
       "children": [
        "IPY_MODEL_a93f616a5883441faca93254aa068868",
        "IPY_MODEL_ee80016854364356927d6b818aba06b7"
       ],
       "layout": "IPY_MODEL_4c710da62fa04af1bb9f19606fac781d"
      }
     },
     "7806f561a0ac4ed1826676da989d2060": {
      "model_module": "@jupyter-widgets/controls",
      "model_module_version": "2.0.0",
      "model_name": "LabelModel",
      "state": {
       "layout": "IPY_MODEL_8421f8bf453447889dcc54551a7502b1",
       "style": "IPY_MODEL_8689e5e49acb4527bc9ce9544b380870"
      }
     },
     "7853256581c04d67b132c23054d9ce35": {
      "model_module": "@jupyter-widgets/controls",
      "model_module_version": "2.0.0",
      "model_name": "TextStyleModel",
      "state": {
       "description_width": "",
       "font_size": null,
       "text_color": null
      }
     },
     "7876a5e6d9d7465fb0a4355d3cbd650b": {
      "model_module": "@jupyter-widgets/controls",
      "model_module_version": "2.0.0",
      "model_name": "CheckboxModel",
      "state": {
       "description": "Is Active",
       "disabled": false,
       "indent": false,
       "layout": "IPY_MODEL_7e349a4b0c914273b27c99ca95e54f1a",
       "style": "IPY_MODEL_056d1562c9404a9fb213639be592c7d8",
       "value": true
      }
     },
     "78d8074128b940c3b18b572aaaabed3e": {
      "model_module": "@jupyter-widgets/controls",
      "model_module_version": "2.0.0",
      "model_name": "HBoxModel",
      "state": {
       "children": [
        "IPY_MODEL_0aeb3e3c7e6f4a04b4708dba4cf86c60",
        "IPY_MODEL_bbe41e7ea5494905b56054447eb59c20",
        "IPY_MODEL_5476f26cc7de4a2cba013044d4e47105"
       ],
       "layout": "IPY_MODEL_d19d11811da442ea92fafec0403e2401"
      }
     },
     "78ed8541d8c341fc82efe8379824d78c": {
      "model_module": "@jupyter-widgets/controls",
      "model_module_version": "2.0.0",
      "model_name": "LabelModel",
      "state": {
       "layout": "IPY_MODEL_3367422897c54c7f8f8839cc2ff276fd",
       "style": "IPY_MODEL_1551f9fb42a34b0b81e66dfaf750c921",
       "value": "Name"
      }
     },
     "790a0a3996124631824af68e4370494d": {
      "model_module": "@jupyter-widgets/base",
      "model_module_version": "2.0.0",
      "model_name": "LayoutModel",
      "state": {}
     },
     "79334c9b38464e6eb95196da51a332d6": {
      "model_module": "@jupyter-widgets/controls",
      "model_module_version": "2.0.0",
      "model_name": "LabelStyleModel",
      "state": {
       "description_width": "",
       "font_family": null,
       "font_size": "0.8em",
       "font_style": null,
       "font_variant": null,
       "font_weight": "lighter",
       "text_color": null,
       "text_decoration": null
      }
     },
     "796a151549cd468a825ee5f868ed0aa9": {
      "model_module": "@jupyter-widgets/controls",
      "model_module_version": "2.0.0",
      "model_name": "HBoxModel",
      "state": {
       "children": [
        "IPY_MODEL_2f9488764d0242c2b0e17d8794dd8bdd",
        "IPY_MODEL_45ce82508b72489ca967b66c2bbdb8bb"
       ],
       "layout": "IPY_MODEL_bbdd104bb2fa47b086a5bf343bb20d7b"
      }
     },
     "79cb9fb10eda431c991b60afeedcce1d": {
      "model_module": "@jupyter-widgets/controls",
      "model_module_version": "2.0.0",
      "model_name": "LabelModel",
      "state": {
       "layout": "IPY_MODEL_f85b35e2aca04286a1f37b103b581316",
       "style": "IPY_MODEL_5e45e67a5a9446928ea3a4d1538c9645",
       "value": "Name"
      }
     },
     "79d63e029b0f440cb2a9752c55a6a2d0": {
      "model_module": "@jupyter-widgets/base",
      "model_module_version": "2.0.0",
      "model_name": "LayoutModel",
      "state": {}
     },
     "79f4ba4fc82b4e7385ab8b94dfce2926": {
      "model_module": "@jupyter-widgets/base",
      "model_module_version": "2.0.0",
      "model_name": "LayoutModel",
      "state": {
       "width": "100%"
      }
     },
     "79f6d72112e44da58ccae5ac28199d1a": {
      "model_module": "@jupyter-widgets/base",
      "model_module_version": "2.0.0",
      "model_name": "LayoutModel",
      "state": {}
     },
     "7a00016322814538aa2d20f3cb17666f": {
      "model_module": "@jupyter-widgets/base",
      "model_module_version": "2.0.0",
      "model_name": "LayoutModel",
      "state": {
       "display": "none"
      }
     },
     "7a4d9bf1526f44138f4d01f4696c8c81": {
      "model_module": "@jupyter-widgets/controls",
      "model_module_version": "2.0.0",
      "model_name": "LabelStyleModel",
      "state": {
       "description_width": "",
       "font_family": null,
       "font_size": null,
       "font_style": null,
       "font_variant": null,
       "font_weight": null,
       "text_color": null,
       "text_decoration": null
      }
     },
     "7a4fac90855d4700be8112f72c87d7c7": {
      "model_module": "@jupyter-widgets/controls",
      "model_module_version": "2.0.0",
      "model_name": "VBoxModel",
      "state": {
       "children": [
        "IPY_MODEL_71f3651912b24fb1ad6761e7a0f06c30"
       ],
       "layout": "IPY_MODEL_859a80d615614313bc21fd0080601939"
      }
     },
     "7a95936888804d0a8714192557f2ffea": {
      "model_module": "@jupyter-widgets/base",
      "model_module_version": "2.0.0",
      "model_name": "LayoutModel",
      "state": {}
     },
     "7aafe49fb0854433a8c8b5046f156b2f": {
      "model_module": "@jupyter-widgets/base",
      "model_module_version": "2.0.0",
      "model_name": "LayoutModel",
      "state": {}
     },
     "7b475405def142538ddc8eccfa36e8e8": {
      "model_module": "@jupyter-widgets/controls",
      "model_module_version": "2.0.0",
      "model_name": "DescriptionStyleModel",
      "state": {
       "description_width": ""
      }
     },
     "7ba86b0107874d4a90d5bd8de115cd8b": {
      "model_module": "@jupyter-widgets/controls",
      "model_module_version": "2.0.0",
      "model_name": "TextStyleModel",
      "state": {
       "description_width": "",
       "font_size": null,
       "text_color": null
      }
     },
     "7bd99982ccb240aa95bbcfb97807f026": {
      "model_module": "@jupyter-widgets/base",
      "model_module_version": "2.0.0",
      "model_name": "LayoutModel",
      "state": {
       "width": "100%"
      }
     },
     "7be118c4c3e943c8b64288c4223643ae": {
      "model_module": "@jupyter-widgets/base",
      "model_module_version": "2.0.0",
      "model_name": "LayoutModel",
      "state": {}
     },
     "7c24003bc5264e35ad469befb60956e9": {
      "model_module": "@jupyter-widgets/controls",
      "model_module_version": "2.0.0",
      "model_name": "TextStyleModel",
      "state": {
       "description_width": "",
       "font_size": null,
       "text_color": null
      }
     },
     "7c2758688e014af783f387b73dc60041": {
      "model_module": "@jupyter-widgets/base",
      "model_module_version": "2.0.0",
      "model_name": "LayoutModel",
      "state": {
       "width": "33%"
      }
     },
     "7c55c843f568404d9628aa06f82ad710": {
      "model_module": "@jupyter-widgets/controls",
      "model_module_version": "2.0.0",
      "model_name": "ButtonModel",
      "state": {
       "icon": "arrow-down",
       "layout": "IPY_MODEL_ef4858510e054bd0844e839771797210",
       "style": "IPY_MODEL_833aee6bf4014a19a9a16e08cb4ed465",
       "tooltip": null
      }
     },
     "7c63afe7941a4281a72f36aee53e40db": {
      "model_module": "@jupyter-widgets/base",
      "model_module_version": "2.0.0",
      "model_name": "LayoutModel",
      "state": {
       "width": "100%"
      }
     },
     "7c87b9bab1314b9c866aa9d70a174896": {
      "model_module": "@jupyter-widgets/base",
      "model_module_version": "2.0.0",
      "model_name": "LayoutModel",
      "state": {
       "display": "none"
      }
     },
     "7cf422b05cbd43e09afd788896caa3b7": {
      "model_module": "@jupyter-widgets/base",
      "model_module_version": "2.0.0",
      "model_name": "LayoutModel",
      "state": {
       "width": "100%"
      }
     },
     "7d28ccbcdece41ddbc38d5cddcf53caa": {
      "model_module": "@jupyter-widgets/controls",
      "model_module_version": "2.0.0",
      "model_name": "LabelStyleModel",
      "state": {
       "description_width": "",
       "font_family": null,
       "font_size": null,
       "font_style": null,
       "font_variant": null,
       "font_weight": null,
       "text_color": null,
       "text_decoration": null
      }
     },
     "7d94721ab33c437090d20c37f3456666": {
      "model_module": "@jupyter-widgets/base",
      "model_module_version": "2.0.0",
      "model_name": "LayoutModel",
      "state": {
       "display": "none"
      }
     },
     "7d9dd09a72f7462dac25bf274fa6fc4b": {
      "model_module": "@jupyter-widgets/base",
      "model_module_version": "2.0.0",
      "model_name": "LayoutModel",
      "state": {}
     },
     "7df04e20d3d04abca7842fcb4298f34c": {
      "model_module": "@jupyter-widgets/base",
      "model_module_version": "2.0.0",
      "model_name": "LayoutModel",
      "state": {}
     },
     "7e16be7bdf9c4e7ab786d056bb348527": {
      "model_module": "@jupyter-widgets/controls",
      "model_module_version": "2.0.0",
      "model_name": "HBoxModel",
      "state": {
       "children": [
        "IPY_MODEL_c61737c96e0340fb9def20848ae89eb3",
        "IPY_MODEL_f977cacac9e041f399895f11744a4ae4"
       ],
       "layout": "IPY_MODEL_929d60cb3bfb4243b0360902c962700c"
      }
     },
     "7e1bb0dafb214c1e86a9579ffe68a1a6": {
      "model_module": "@jupyter-widgets/base",
      "model_module_version": "2.0.0",
      "model_name": "LayoutModel",
      "state": {}
     },
     "7e349a4b0c914273b27c99ca95e54f1a": {
      "model_module": "@jupyter-widgets/base",
      "model_module_version": "2.0.0",
      "model_name": "LayoutModel",
      "state": {
       "border_bottom": "none",
       "border_left": "none",
       "border_right": "none",
       "border_top": "none",
       "width": "100%"
      }
     },
     "7e6d74b89afa4ce9a99ca33fa86cd946": {
      "model_module": "@jupyter-widgets/controls",
      "model_module_version": "2.0.0",
      "model_name": "ButtonModel",
      "state": {
       "icon": "arrow-up",
       "layout": "IPY_MODEL_58d6e894947f4f40a74e6e94f38e9aeb",
       "style": "IPY_MODEL_8fc31bfa71b842ed96e6ee277bfe5309",
       "tooltip": null
      }
     },
     "7ef22636501b4528ba800803bab3440b": {
      "model_module": "@jupyter-widgets/base",
      "model_module_version": "2.0.0",
      "model_name": "LayoutModel",
      "state": {}
     },
     "7f2c1d83f12f4049bb779ead1b48256f": {
      "model_module": "@jupyter-widgets/base",
      "model_module_version": "2.0.0",
      "model_name": "LayoutModel",
      "state": {
       "width": "100%"
      }
     },
     "7ffc0fc0101b435ca9da42fe35cac315": {
      "model_module": "@jupyter-widgets/base",
      "model_module_version": "2.0.0",
      "model_name": "LayoutModel",
      "state": {}
     },
     "8067effeb5344210a551993c2193201c": {
      "model_module": "@jupyter-widgets/controls",
      "model_module_version": "2.0.0",
      "model_name": "LabelModel",
      "state": {
       "layout": "IPY_MODEL_4e279d5d930146d29939f0eda9c309a2",
       "style": "IPY_MODEL_4aa5c9a8261a4ccf91600e6adad48d33"
      }
     },
     "80c136f273694e2dbd067ec69c4d3a9e": {
      "model_module": "@jupyter-widgets/controls",
      "model_module_version": "2.0.0",
      "model_name": "LabelModel",
      "state": {
       "layout": "IPY_MODEL_331faf0431724b81a2790954687e2eb8",
       "style": "IPY_MODEL_6ea0a6eb3fdf4125b47146fe35ce6c17"
      }
     },
     "80e9ca3612d448a29e27885428d61e34": {
      "model_module": "@jupyter-widgets/base",
      "model_module_version": "2.0.0",
      "model_name": "LayoutModel",
      "state": {
       "width": "100%"
      }
     },
     "81055c4baf17488bbb74db6ca9ff1232": {
      "model_module": "@jupyter-widgets/base",
      "model_module_version": "2.0.0",
      "model_name": "LayoutModel",
      "state": {}
     },
     "810a8862be1d43949ff2195cca9061b8": {
      "model_module": "@jupyter-widgets/controls",
      "model_module_version": "2.0.0",
      "model_name": "ButtonStyleModel",
      "state": {
       "font_family": null,
       "font_size": null,
       "font_style": null,
       "font_variant": null,
       "font_weight": null,
       "text_color": null,
       "text_decoration": null
      }
     },
     "81238450dcaa4351ac9c6b2d024ccab9": {
      "model_module": "@jupyter-widgets/base",
      "model_module_version": "2.0.0",
      "model_name": "LayoutModel",
      "state": {
       "width": "100%"
      }
     },
     "8141f0242e46423b892721e252d8170d": {
      "model_module": "@jupyter-widgets/controls",
      "model_module_version": "2.0.0",
      "model_name": "LabelStyleModel",
      "state": {
       "description_width": "",
       "font_family": null,
       "font_size": null,
       "font_style": null,
       "font_variant": null,
       "font_weight": null,
       "text_color": null,
       "text_decoration": null
      }
     },
     "819c47b0fb2c485dbc5665d8b884be00": {
      "model_module": "@jupyter-widgets/base",
      "model_module_version": "2.0.0",
      "model_name": "LayoutModel",
      "state": {}
     },
     "81becd6ddd064416b22fba27ffbc2228": {
      "model_module": "@jupyter-widgets/controls",
      "model_module_version": "2.0.0",
      "model_name": "ButtonModel",
      "state": {
       "icon": "trash",
       "layout": "IPY_MODEL_46eb53fc7ce34916a1de7cc557f89195",
       "style": "IPY_MODEL_5ef6fc3b2dac4479a120721e606788d4",
       "tooltip": null
      }
     },
     "82286e6d3acf45168480a4259d417228": {
      "model_module": "@jupyter-widgets/base",
      "model_module_version": "2.0.0",
      "model_name": "LayoutModel",
      "state": {
       "display": "none"
      }
     },
     "82c379e8449f4a6cbb7360ff83c8e376": {
      "model_module": "@jupyter-widgets/base",
      "model_module_version": "2.0.0",
      "model_name": "LayoutModel",
      "state": {
       "width": "100%"
      }
     },
     "82dde9662bd4439e9adee14f14fbb2ab": {
      "model_module": "@jupyter-widgets/controls",
      "model_module_version": "2.0.0",
      "model_name": "ButtonModel",
      "state": {
       "description": "Add entry",
       "icon": "plus",
       "layout": "IPY_MODEL_2cb5eef3bdc64fbea6f64acf1fc16a06",
       "style": "IPY_MODEL_f1eac89caff04992b281200f7cd75ee4",
       "tooltip": null
      }
     },
     "82e8c9fb35804eb7a8fa966547ce8abd": {
      "model_module": "@jupyter-widgets/controls",
      "model_module_version": "2.0.0",
      "model_name": "IntSliderModel",
      "state": {
       "behavior": "drag-tap",
       "layout": "IPY_MODEL_cc369f782e354b66aa7433b0a5a73072",
       "max": 300,
       "style": "IPY_MODEL_3916603d91b84b35a3f99c0e643274aa",
       "tooltip": "Height",
       "value": 300
      }
     },
     "832500bb9eb64dcca0a5b1b1856f99a9": {
      "model_module": "@jupyter-widgets/base",
      "model_module_version": "2.0.0",
      "model_name": "LayoutModel",
      "state": {}
     },
     "833aee6bf4014a19a9a16e08cb4ed465": {
      "model_module": "@jupyter-widgets/controls",
      "model_module_version": "2.0.0",
      "model_name": "ButtonStyleModel",
      "state": {
       "font_family": null,
       "font_size": null,
       "font_style": null,
       "font_variant": null,
       "font_weight": null,
       "text_color": null,
       "text_decoration": null
      }
     },
     "8384966398a1444fb5927714101988ee": {
      "model_module": "@jupyter-widgets/base",
      "model_module_version": "2.0.0",
      "model_name": "LayoutModel",
      "state": {
       "display": "none"
      }
     },
     "8414eae97ac2427998e255173c0e4544": {
      "model_module": "@jupyter-widgets/base",
      "model_module_version": "2.0.0",
      "model_name": "LayoutModel",
      "state": {
       "width": "100%"
      }
     },
     "8421f8bf453447889dcc54551a7502b1": {
      "model_module": "@jupyter-widgets/base",
      "model_module_version": "2.0.0",
      "model_name": "LayoutModel",
      "state": {
       "display": "none"
      }
     },
     "8445b3d83d6f45d2b61278dcc825207d": {
      "model_module": "@jupyter-widgets/controls",
      "model_module_version": "2.0.0",
      "model_name": "VBoxModel",
      "state": {
       "children": [
        "IPY_MODEL_4ec189ea484346bc98ded5673888ac94",
        "IPY_MODEL_2693f14e54684b5886f2e6178906be2c",
        "IPY_MODEL_cbe2253a55914149932482694670326e",
        "IPY_MODEL_da005ee34eb443969dfbda3dbbbfc8ba"
       ],
       "layout": "IPY_MODEL_c9ea2908cf78492b94bd30c3e147ef6f"
      }
     },
     "844ea30d996d46fa804f486dc2b6847c": {
      "model_module": "@jupyter-widgets/controls",
      "model_module_version": "2.0.0",
      "model_name": "LabelModel",
      "state": {
       "layout": "IPY_MODEL_84b04b8bcf944e58be97a2ee3cabd1a0",
       "style": "IPY_MODEL_ae8cc4d6f18c483fb5da6b6ee109958c"
      }
     },
     "8482b796ae7c483f8d57626c05cc1ca0": {
      "model_module": "@jupyter-widgets/base",
      "model_module_version": "2.0.0",
      "model_name": "LayoutModel",
      "state": {}
     },
     "8495c0d383bb4d8da48b9bc3fd0cf0ce": {
      "model_module": "@jupyter-widgets/controls",
      "model_module_version": "2.0.0",
      "model_name": "TextStyleModel",
      "state": {
       "description_width": "",
       "font_size": null,
       "text_color": null
      }
     },
     "84b04b8bcf944e58be97a2ee3cabd1a0": {
      "model_module": "@jupyter-widgets/base",
      "model_module_version": "2.0.0",
      "model_name": "LayoutModel",
      "state": {
       "display": "none"
      }
     },
     "84cde609c4804358991f9c661c2e1bf7": {
      "model_module": "@jupyter-widgets/base",
      "model_module_version": "2.0.0",
      "model_name": "LayoutModel",
      "state": {
       "border_bottom": "none",
       "border_left": "none",
       "border_right": "none",
       "border_top": "none",
       "width": "100%"
      }
     },
     "84d392c841b2418399eadf1c38ebee4b": {
      "model_module": "@jupyter-widgets/controls",
      "model_module_version": "2.0.0",
      "model_name": "LabelModel",
      "state": {
       "layout": "IPY_MODEL_18f7219fcd774a3ca18ac0595a2e2dbb",
       "style": "IPY_MODEL_27709297d05a40799440b0155c239a7e"
      }
     },
     "84ee26ab748f43429b67279c32b9fdd9": {
      "model_module": "@jupyter-widgets/base",
      "model_module_version": "2.0.0",
      "model_name": "LayoutModel",
      "state": {
       "display": "flex",
       "justify_content": "flex-end"
      }
     },
     "85064ae6f4834c83b2af7b57b848ed98": {
      "model_module": "@jupyter-widgets/base",
      "model_module_version": "2.0.0",
      "model_name": "LayoutModel",
      "state": {
       "width": "100%"
      }
     },
     "85081c965f994eaa99245ee124ec1fee": {
      "model_module": "@jupyter-widgets/base",
      "model_module_version": "2.0.0",
      "model_name": "LayoutModel",
      "state": {}
     },
     "851c109a247d4054bb452d627f0465d1": {
      "model_module": "@jupyter-widgets/controls",
      "model_module_version": "2.0.0",
      "model_name": "VBoxModel",
      "state": {
       "children": [
        "IPY_MODEL_8db55c3d4fa24b2bb4513c790c0808ad"
       ],
       "layout": "IPY_MODEL_0eaaba8f18674f5a980d83fa4d5371af"
      }
     },
     "855051e7b7454224842b012842f54aab": {
      "model_module": "@jupyter-widgets/controls",
      "model_module_version": "2.0.0",
      "model_name": "ButtonModel",
      "state": {
       "description": "Edit",
       "icon": "pencil",
       "layout": "IPY_MODEL_6b912c624cb2482fba1ba911c2849512",
       "style": "IPY_MODEL_da46530631c144d397081f23a3605b04",
       "tooltip": "Edit model"
      }
     },
     "856c3466c0c24668bdc28eae10e622a3": {
      "model_module": "@jupyter-widgets/controls",
      "model_module_version": "2.0.0",
      "model_name": "LabelModel",
      "state": {
       "layout": "IPY_MODEL_639d6f39dffe4465b6f0a2ed1c6f1843",
       "style": "IPY_MODEL_f7e95d134a364dd49e586a1df7c0db0f",
       "value": "Email"
      }
     },
     "859a80d615614313bc21fd0080601939": {
      "model_module": "@jupyter-widgets/base",
      "model_module_version": "2.0.0",
      "model_name": "LayoutModel",
      "state": {}
     },
     "85a1a4d1361a4cde976ae5f341962163": {
      "model_module": "@jupyter-widgets/controls",
      "model_module_version": "2.0.0",
      "model_name": "ButtonStyleModel",
      "state": {
       "font_family": null,
       "font_size": null,
       "font_style": null,
       "font_variant": null,
       "font_weight": null,
       "text_color": null,
       "text_decoration": null
      }
     },
     "862e0cb202d2460b9608891b0b91b11f": {
      "model_module": "@jupyter-widgets/base",
      "model_module_version": "2.0.0",
      "model_name": "LayoutModel",
      "state": {
       "display": "none"
      }
     },
     "86812a87aa3d446180591fb79d7e61a7": {
      "model_module": "@jupyter-widgets/controls",
      "model_module_version": "2.0.0",
      "model_name": "DescriptionStyleModel",
      "state": {
       "description_width": ""
      }
     },
     "8689e5e49acb4527bc9ce9544b380870": {
      "model_module": "@jupyter-widgets/controls",
      "model_module_version": "2.0.0",
      "model_name": "LabelStyleModel",
      "state": {
       "description_width": "",
       "font_family": null,
       "font_size": null,
       "font_style": null,
       "font_variant": null,
       "font_weight": null,
       "text_color": null,
       "text_decoration": null
      }
     },
     "86aef3dea0f04f03a082c4921d7228c0": {
      "model_module": "@jupyter-widgets/controls",
      "model_module_version": "2.0.0",
      "model_name": "ButtonStyleModel",
      "state": {
       "font_family": null,
       "font_size": null,
       "font_style": null,
       "font_variant": null,
       "font_weight": null,
       "text_color": null,
       "text_decoration": null
      }
     },
     "86c1310eb658495b8f06a6a41402a9f1": {
      "model_module": "@jupyter-widgets/controls",
      "model_module_version": "2.0.0",
      "model_name": "TextStyleModel",
      "state": {
       "description_width": "",
       "font_size": null,
       "text_color": null
      }
     },
     "86cfb602abac405b8ef33d08cea7b322": {
      "model_module": "@jupyter-widgets/controls",
      "model_module_version": "2.0.0",
      "model_name": "LabelStyleModel",
      "state": {
       "description_width": "",
       "font_family": null,
       "font_size": null,
       "font_style": null,
       "font_variant": null,
       "font_weight": null,
       "text_color": null,
       "text_decoration": null
      }
     },
     "86eea04638f9474d85e4c6e8312a5570": {
      "model_module": "@jupyter-widgets/base",
      "model_module_version": "2.0.0",
      "model_name": "LayoutModel",
      "state": {}
     },
     "87466d9e47fa4c428ad4e23782ca86b6": {
      "model_module": "@jupyter-widgets/controls",
      "model_module_version": "2.0.0",
      "model_name": "LabelStyleModel",
      "state": {
       "description_width": "",
       "font_family": null,
       "font_size": null,
       "font_style": null,
       "font_variant": null,
       "font_weight": null,
       "text_color": null,
       "text_decoration": null
      }
     },
     "87e0f2fababa47ed8502f1b34ab8fbc1": {
      "model_module": "@jupyter-widgets/controls",
      "model_module_version": "2.0.0",
      "model_name": "DescriptionStyleModel",
      "state": {
       "description_width": ""
      }
     },
     "88aef3fdaf3e4a82af798f1e7d506232": {
      "model_module": "@jupyter-widgets/controls",
      "model_module_version": "2.0.0",
      "model_name": "LabelModel",
      "state": {
       "layout": "IPY_MODEL_21bee8b05a7d4e468f709f1b09c88449",
       "style": "IPY_MODEL_b72cf41fc27747718d91bb6ab04cd2cf",
       "value": "Number"
      }
     },
     "88cdae37e58548f089c818edf2968f25": {
      "model_module": "@jupyter-widgets/base",
      "model_module_version": "2.0.0",
      "model_name": "LayoutModel",
      "state": {}
     },
     "88ded523edf24209b9ab3617d38de6b1": {
      "model_module": "@jupyter-widgets/controls",
      "model_module_version": "2.0.0",
      "model_name": "ButtonStyleModel",
      "state": {
       "font_family": null,
       "font_size": null,
       "font_style": null,
       "font_variant": null,
       "font_weight": null,
       "text_color": null,
       "text_decoration": null
      }
     },
     "897dc82a493f483287bdd70fc7d09e61": {
      "model_module": "@jupyter-widgets/base",
      "model_module_version": "2.0.0",
      "model_name": "LayoutModel",
      "state": {
       "width": "100%"
      }
     },
     "89e47957bfd648f3beb5084c289e04c9": {
      "model_module": "@jupyter-widgets/controls",
      "model_module_version": "2.0.0",
      "model_name": "TextStyleModel",
      "state": {
       "description_width": "",
       "font_size": null,
       "text_color": null
      }
     },
     "89e9b5f152174569abfc142e50209ba2": {
      "model_module": "@jupyter-widgets/controls",
      "model_module_version": "2.0.0",
      "model_name": "HBoxModel",
      "state": {
       "children": [
        "IPY_MODEL_3b92f45dc0f84269824ea9ea979f4d98",
        "IPY_MODEL_33bcb823ab4041dbba5ecaf59c71b2b7"
       ],
       "layout": "IPY_MODEL_edd0f859942540c087bd99d5edb7e043"
      }
     },
     "8a0767a2ebd94ae7a9ef6cd4fbaa6bf5": {
      "model_module": "@jupyter-widgets/controls",
      "model_module_version": "2.0.0",
      "model_name": "VBoxModel",
      "state": {
       "children": [
        "IPY_MODEL_8445b3d83d6f45d2b61278dcc825207d"
       ],
       "layout": "IPY_MODEL_3c0c0db7334d4b6fa9c845c436146b22"
      }
     },
     "8a399bce548d4d05a4b11259e5606933": {
      "model_module": "@jupyter-widgets/base",
      "model_module_version": "2.0.0",
      "model_name": "LayoutModel",
      "state": {
       "width": "100%"
      }
     },
     "8a3b60981b2341d29f6cd51a3805aeb7": {
      "model_module": "@jupyter-widgets/base",
      "model_module_version": "2.0.0",
      "model_name": "LayoutModel",
      "state": {
       "display": "none"
      }
     },
     "8a4a16c1b5404e3596c8d47461677ad6": {
      "model_module": "@jupyter-widgets/controls",
      "model_module_version": "2.0.0",
      "model_name": "TextStyleModel",
      "state": {
       "description_width": "",
       "font_size": null,
       "text_color": null
      }
     },
     "8aa96fc868ec49f5a17200463cdfdb7f": {
      "model_module": "@jupyter-widgets/base",
      "model_module_version": "2.0.0",
      "model_name": "LayoutModel",
      "state": {}
     },
     "8aac2803b4ad49f292ecf8c1fcc02e2d": {
      "model_module": "@jupyter-widgets/controls",
      "model_module_version": "2.0.0",
      "model_name": "LabelModel",
      "state": {
       "layout": "IPY_MODEL_a29e7e7d8624417b87718e9e9b6e0d5f",
       "style": "IPY_MODEL_dc7f66c08c074adb889f1190bfb90d91",
       "value": "Name"
      }
     },
     "8ad8bbe7bee84c31aeb0c44eea0c2a1e": {
      "model_module": "@jupyter-widgets/base",
      "model_module_version": "2.0.0",
      "model_name": "LayoutModel",
      "state": {
       "width": "100%"
      }
     },
     "8ae1c105a94a4a9f8e489dd2a7df36a5": {
      "model_module": "@jupyter-widgets/controls",
      "model_module_version": "2.0.0",
      "model_name": "ButtonStyleModel",
      "state": {
       "font_family": null,
       "font_size": null,
       "font_style": null,
       "font_variant": null,
       "font_weight": null,
       "text_color": null,
       "text_decoration": null
      }
     },
     "8b17d7f8b4944fe8a670b73aff266fd7": {
      "model_module": "@jupyter-widgets/base",
      "model_module_version": "2.0.0",
      "model_name": "LayoutModel",
      "state": {
       "border_bottom": "none",
       "border_left": "none",
       "border_right": "none",
       "border_top": "none"
      }
     },
     "8b18141bd3ae4118bbfd717b65a5c9f4": {
      "model_module": "@jupyter-widgets/controls",
      "model_module_version": "2.0.0",
      "model_name": "VBoxModel",
      "state": {
       "children": [
        "IPY_MODEL_946769a57be64f74972d43b5024adba1",
        "IPY_MODEL_476d9b6304404a0fb9f6ebf21e47485f"
       ],
       "layout": "IPY_MODEL_144a7352908b44da98faeaf99cce57ed"
      }
     },
     "8b3aeb965c3b40eda4184d4e08068f2d": {
      "model_module": "@jupyter-widgets/controls",
      "model_module_version": "2.0.0",
      "model_name": "TextModel",
      "state": {
       "layout": "IPY_MODEL_9d8e621ceaac4971b32b336660ad60e8",
       "style": "IPY_MODEL_96695f4cb2f84fcabdfe6cc0a3b18464",
       "tooltip": "Name"
      }
     },
     "8b7236f2ae404b73b40ae3b05b2eb695": {
      "model_module": "@jupyter-widgets/base",
      "model_module_version": "2.0.0",
      "model_name": "LayoutModel",
      "state": {
       "width": "100%"
      }
     },
     "8b76a19475cb46a0b9ad49f146dbaae1": {
      "model_module": "@jupyter-widgets/controls",
      "model_module_version": "2.0.0",
      "model_name": "LabelStyleModel",
      "state": {
       "description_width": "",
       "font_family": null,
       "font_size": null,
       "font_style": null,
       "font_variant": null,
       "font_weight": null,
       "text_color": null,
       "text_decoration": null
      }
     },
     "8b8ba0f238794a72a30dc6e119371b85": {
      "model_module": "@jupyter-widgets/controls",
      "model_module_version": "2.0.0",
      "model_name": "ButtonModel",
      "state": {
       "description": "Add entry",
       "icon": "plus",
       "layout": "IPY_MODEL_0f987b649d8c4caeb5cb2784d5c12133",
       "style": "IPY_MODEL_22d57c0f0a0046268be27d76011d87dd",
       "tooltip": null
      }
     },
     "8bb04c1abe824eada8370c10ebccc62b": {
      "model_module": "@jupyter-widgets/base",
      "model_module_version": "2.0.0",
      "model_name": "LayoutModel",
      "state": {
       "width": "100%"
      }
     },
     "8ca8f68e359845b4ae3e22694c7a5ef2": {
      "model_module": "@jupyter-widgets/base",
      "model_module_version": "2.0.0",
      "model_name": "LayoutModel",
      "state": {
       "width": "100%"
      }
     },
     "8ca958d066c146f4a0a2cd490f3af044": {
      "model_module": "@jupyter-widgets/controls",
      "model_module_version": "2.0.0",
      "model_name": "LabelStyleModel",
      "state": {
       "description_width": "",
       "font_family": null,
       "font_size": null,
       "font_style": null,
       "font_variant": null,
       "font_weight": null,
       "text_color": null,
       "text_decoration": null
      }
     },
     "8cea66f125e04b9098411763c9344739": {
      "model_module": "@jupyter-widgets/base",
      "model_module_version": "2.0.0",
      "model_name": "LayoutModel",
      "state": {}
     },
     "8d28e0c7b0e14c27967d7526d8f041a9": {
      "model_module": "@jupyter-widgets/base",
      "model_module_version": "2.0.0",
      "model_name": "LayoutModel",
      "state": {
       "width": "33%"
      }
     },
     "8d2c0eaefc694309ac49298404aff655": {
      "model_module": "@jupyter-widgets/base",
      "model_module_version": "2.0.0",
      "model_name": "LayoutModel",
      "state": {}
     },
     "8daebbe8720e4faa886dd7e656184b89": {
      "model_module": "@jupyter-widgets/controls",
      "model_module_version": "2.0.0",
      "model_name": "VBoxModel",
      "state": {
       "children": [
        "IPY_MODEL_22c3d9908b90492ba6d71b013287ce6c"
       ],
       "layout": "IPY_MODEL_ff7a65f3d99c4c8d9b5a5fa86510e0fc"
      }
     },
     "8db55c3d4fa24b2bb4513c790c0808ad": {
      "model_module": "@jupyter-widgets/controls",
      "model_module_version": "2.0.0",
      "model_name": "VBoxModel",
      "state": {
       "children": [
        "IPY_MODEL_b336a8e6b87c4f18a10ad1264dd8b771",
        "IPY_MODEL_3703d86cf3794e90868144d47324569a",
        "IPY_MODEL_94707d916b244b49a3598e61bcebd54f"
       ],
       "layout": "IPY_MODEL_3d6b321c7c2b4d20bbf196ec526f6c32"
      }
     },
     "8dfb4bf3a80b46c4864e24359ca42a5a": {
      "model_module": "@jupyter-widgets/base",
      "model_module_version": "2.0.0",
      "model_name": "LayoutModel",
      "state": {}
     },
     "8e0b0f811d59499287f7410630e2be3e": {
      "model_module": "@jupyter-widgets/base",
      "model_module_version": "2.0.0",
      "model_name": "LayoutModel",
      "state": {
       "width": "100%"
      }
     },
     "8e3e7a79cfac4d2ca1cf443313682240": {
      "model_module": "@jupyter-widgets/base",
      "model_module_version": "2.0.0",
      "model_name": "LayoutModel",
      "state": {
       "width": "100%"
      }
     },
     "8e500822b7b84a71875edb790fbd9e92": {
      "model_module": "@jupyter-widgets/base",
      "model_module_version": "2.0.0",
      "model_name": "LayoutModel",
      "state": {
       "width": "100%"
      }
     },
     "8ecb75586e3d4880a0e6f6038370e079": {
      "model_module": "@jupyter-widgets/controls",
      "model_module_version": "2.0.0",
      "model_name": "TextStyleModel",
      "state": {
       "description_width": "",
       "font_size": null,
       "text_color": null
      }
     },
     "8f114fc3da1b465d89201eb01a0cded0": {
      "model_module": "@jupyter-widgets/base",
      "model_module_version": "2.0.0",
      "model_name": "LayoutModel",
      "state": {
       "width": "33%"
      }
     },
     "8f2f304dc0894ed987220047942f075b": {
      "model_module": "@jupyter-widgets/controls",
      "model_module_version": "2.0.0",
      "model_name": "VBoxModel",
      "state": {
       "children": [
        "IPY_MODEL_31e603d17e33402abd85a3889b1e9295"
       ],
       "layout": "IPY_MODEL_5cd1c2d6e7284857a98bb534c0edec6f"
      }
     },
     "8f55c8ee11d64a78ae27d0ebed29766b": {
      "model_module": "@jupyter-widgets/controls",
      "model_module_version": "2.0.0",
      "model_name": "DescriptionStyleModel",
      "state": {
       "description_width": ""
      }
     },
     "8f6470ed0059412e8ac7f812d8ac244d": {
      "model_module": "@jupyter-widgets/controls",
      "model_module_version": "2.0.0",
      "model_name": "VBoxModel",
      "state": {
       "children": [
        "IPY_MODEL_d06cb7907aec4297829a48fbaf357d76",
        "IPY_MODEL_401b36e30b8a4feeaa0c9641e171ea6f",
        "IPY_MODEL_46aec56c929f4de9bbd6dcc954dbb7ef"
       ],
       "layout": "IPY_MODEL_71d78ad3e8484c6cac2e8c471f377b58"
      }
     },
     "8f6d711be1a146039ce35e2c32e34ff5": {
      "model_module": "@jupyter-widgets/controls",
      "model_module_version": "2.0.0",
      "model_name": "LabelStyleModel",
      "state": {
       "description_width": "",
       "font_family": null,
       "font_size": null,
       "font_style": null,
       "font_variant": null,
       "font_weight": null,
       "text_color": null,
       "text_decoration": null
      }
     },
     "8f8afd8196474d2b859af9e22999500b": {
      "model_module": "@jupyter-widgets/controls",
      "model_module_version": "2.0.0",
      "model_name": "LabelStyleModel",
      "state": {
       "description_width": "",
       "font_family": null,
       "font_size": null,
       "font_style": null,
       "font_variant": null,
       "font_weight": null,
       "text_color": null,
       "text_decoration": null
      }
     },
     "8f8e91cf66a0479e8952ae191c6240a7": {
      "model_module": "@jupyter-widgets/controls",
      "model_module_version": "2.0.0",
      "model_name": "TextStyleModel",
      "state": {
       "description_width": "",
       "font_size": null,
       "text_color": null
      }
     },
     "8fc31bfa71b842ed96e6ee277bfe5309": {
      "model_module": "@jupyter-widgets/controls",
      "model_module_version": "2.0.0",
      "model_name": "ButtonStyleModel",
      "state": {
       "font_family": null,
       "font_size": null,
       "font_style": null,
       "font_variant": null,
       "font_weight": null,
       "text_color": null,
       "text_decoration": null
      }
     },
     "9021478410da465b964474c673deb0dd": {
      "model_module": "@jupyter-widgets/base",
      "model_module_version": "2.0.0",
      "model_name": "LayoutModel",
      "state": {}
     },
     "909744c60da84a29a45e51be5271b74e": {
      "model_module": "@jupyter-widgets/base",
      "model_module_version": "2.0.0",
      "model_name": "LayoutModel",
      "state": {}
     },
     "91201d51449b4f07a2c40086be3889b1": {
      "model_module": "@jupyter-widgets/controls",
      "model_module_version": "2.0.0",
      "model_name": "LabelStyleModel",
      "state": {
       "description_width": "",
       "font_family": null,
       "font_size": null,
       "font_style": null,
       "font_variant": null,
       "font_weight": null,
       "text_color": null,
       "text_decoration": null
      }
     },
     "912114be97354267a70d9241a25e8cc9": {
      "model_module": "@jupyter-widgets/controls",
      "model_module_version": "2.0.0",
      "model_name": "LabelModel",
      "state": {
       "layout": "IPY_MODEL_862e0cb202d2460b9608891b0b91b11f",
       "style": "IPY_MODEL_c27937d0bcad4c24afaa7918bef6666e"
      }
     },
     "918720930a2b4823b5380c966641d2ca": {
      "model_module": "@jupyter-widgets/controls",
      "model_module_version": "2.0.0",
      "model_name": "LabelModel",
      "state": {
       "layout": "IPY_MODEL_e7297a7909394983838d0862742959aa",
       "style": "IPY_MODEL_1f40fd85d45a40dbb1ecca79eb89f73a"
      }
     },
     "91a4a818b0ba4e2f957cabc4467d62c0": {
      "model_module": "@jupyter-widgets/controls",
      "model_module_version": "2.0.0",
      "model_name": "ButtonStyleModel",
      "state": {
       "font_family": null,
       "font_size": null,
       "font_style": null,
       "font_variant": null,
       "font_weight": null,
       "text_color": null,
       "text_decoration": null
      }
     },
     "921534ed56ab48639267d90e2acf9426": {
      "model_module": "@jupyter-widgets/controls",
      "model_module_version": "2.0.0",
      "model_name": "TextStyleModel",
      "state": {
       "description_width": "",
       "font_size": null,
       "text_color": null
      }
     },
     "92219918d1c54a75af04cffc7bfc4911": {
      "model_module": "@jupyter-widgets/base",
      "model_module_version": "2.0.0",
      "model_name": "LayoutModel",
      "state": {
       "display": "none"
      }
     },
     "929d60cb3bfb4243b0360902c962700c": {
      "model_module": "@jupyter-widgets/base",
      "model_module_version": "2.0.0",
      "model_name": "LayoutModel",
      "state": {
       "width": "100%"
      }
     },
     "92fcf20e604f477b87b50f7d15dfa4d2": {
      "model_module": "@jupyter-widgets/controls",
      "model_module_version": "2.0.0",
      "model_name": "ButtonStyleModel",
      "state": {
       "font_family": null,
       "font_size": null,
       "font_style": null,
       "font_variant": null,
       "font_weight": null,
       "text_color": null,
       "text_decoration": null
      }
     },
     "93007fce794640b6aa9416c1785c17df": {
      "model_module": "@jupyter-widgets/base",
      "model_module_version": "2.0.0",
      "model_name": "LayoutModel",
      "state": {
       "border_bottom": "none",
       "border_left": "none",
       "border_right": "none",
       "border_top": "none"
      }
     },
     "93244193ab4340058e76bfb20417b876": {
      "model_module": "@jupyter-widgets/controls",
      "model_module_version": "2.0.0",
      "model_name": "TextStyleModel",
      "state": {
       "description_width": "",
       "font_size": null,
       "text_color": null
      }
     },
     "934c091e3626494d9ee93ff3ce502f06": {
      "model_module": "@jupyter-widgets/controls",
      "model_module_version": "2.0.0",
      "model_name": "LabelModel",
      "state": {
       "layout": "IPY_MODEL_1a6b9a3080af4aff887bfc41e2b0cb51",
       "style": "IPY_MODEL_a4872906ea8f4d9db08f4755567fbbe8"
      }
     },
     "934c847e04f3410eb80d3e35075fff3c": {
      "model_module": "@jupyter-widgets/base",
      "model_module_version": "2.0.0",
      "model_name": "LayoutModel",
      "state": {
       "width": "100%"
      }
     },
     "9353bf68ceac4c208547e01b7260aa26": {
      "model_module": "@jupyter-widgets/base",
      "model_module_version": "2.0.0",
      "model_name": "LayoutModel",
      "state": {}
     },
     "936342b951264da4b519441679e4aeb5": {
      "model_module": "@jupyter-widgets/controls",
      "model_module_version": "2.0.0",
      "model_name": "TextModel",
      "state": {
       "layout": "IPY_MODEL_72e6ae2bb739449cadfc97b5b25e287c",
       "style": "IPY_MODEL_e8e9d65c958c46bbb704bfa3f6abba6b",
       "tooltip": "Uri",
       "value": "http://example.com"
      }
     },
     "937f484d029b467786fb4a6fdf6a02f1": {
      "model_module": "@jupyter-widgets/base",
      "model_module_version": "2.0.0",
      "model_name": "LayoutModel",
      "state": {}
     },
     "94025a9e92204a3d898b6306c64712b2": {
      "model_module": "@jupyter-widgets/controls",
      "model_module_version": "2.0.0",
      "model_name": "LabelModel",
      "state": {
       "layout": "IPY_MODEL_84ee26ab748f43429b67279c32b9fdd9",
       "style": "IPY_MODEL_e4fe00226ada48af8c6ef34ceb70355a",
       "value": "Name"
      }
     },
     "944b1301f86b4d78b0d53e644f7b5626": {
      "model_module": "@jupyter-widgets/controls",
      "model_module_version": "2.0.0",
      "model_name": "LabelStyleModel",
      "state": {
       "description_width": "",
       "font_family": null,
       "font_size": null,
       "font_style": null,
       "font_variant": null,
       "font_weight": null,
       "text_color": null,
       "text_decoration": null
      }
     },
     "946769a57be64f74972d43b5024adba1": {
      "model_module": "@jupyter-widgets/controls",
      "model_module_version": "2.0.0",
      "model_name": "HBoxModel",
      "state": {
       "children": [
        "IPY_MODEL_9ac5c097052c454c9e6508eed7a6b29b"
       ],
       "layout": "IPY_MODEL_6598114ef9dc4333a520bec89133f7ce"
      }
     },
     "946b3f2e574a4090b8d03251620f0e86": {
      "model_module": "@jupyter-widgets/base",
      "model_module_version": "2.0.0",
      "model_name": "LayoutModel",
      "state": {
       "width": "100%"
      }
     },
     "94707d916b244b49a3598e61bcebd54f": {
      "model_module": "@jupyter-widgets/controls",
      "model_module_version": "2.0.0",
      "model_name": "ButtonModel",
      "state": {
       "description": "Add entry",
       "icon": "plus",
       "layout": "IPY_MODEL_1cb7d62cbb5341efb92ae6ea608dfe0b",
       "style": "IPY_MODEL_fd693abd967347a5b93920271e9fbf58",
       "tooltip": null
      }
     },
     "9478cf814a9c4804b6b4761e5056648d": {
      "model_module": "@jupyter-widgets/base",
      "model_module_version": "2.0.0",
      "model_name": "LayoutModel",
      "state": {}
     },
     "94830b6d32764ec89c408d1acda1855f": {
      "model_module": "@jupyter-widgets/controls",
      "model_module_version": "2.0.0",
      "model_name": "ButtonStyleModel",
      "state": {
       "font_family": null,
       "font_size": null,
       "font_style": null,
       "font_variant": null,
       "font_weight": null,
       "text_color": null,
       "text_decoration": null
      }
     },
     "94932812a9e14c1cb453e18d146b63ce": {
      "model_module": "@jupyter-widgets/controls",
      "model_module_version": "2.0.0",
      "model_name": "TextModel",
      "state": {
       "layout": "IPY_MODEL_5a048379ec5342ae8c10f4f8be9a1946",
       "style": "IPY_MODEL_135697eca06a44f8bf283bb627391c02"
      }
     },
     "94af84c36f80465481fba792ade68e30": {
      "model_module": "@jupyter-widgets/controls",
      "model_module_version": "2.0.0",
      "model_name": "LabelModel",
      "state": {
       "layout": "IPY_MODEL_c6deae86ac094e04aa691ffbb6014a54",
       "style": "IPY_MODEL_330eb859e1e241d5a1bd8438ff427653",
       "value": "Hostname"
      }
     },
     "94b8cacde2fd48deb07ff05e6e59cdf9": {
      "model_module": "@jupyter-widgets/controls",
      "model_module_version": "2.0.0",
      "model_name": "VBoxModel",
      "state": {
       "children": [
        "IPY_MODEL_f8f7b2c9ca764053941287abb12dcbae",
        "IPY_MODEL_ad778295c5874255a48e509e38ea13de",
        "IPY_MODEL_89e9b5f152174569abfc142e50209ba2",
        "IPY_MODEL_0b496acad1004339a5d8388d2e8cb609"
       ],
       "layout": "IPY_MODEL_9836c739c2944ffb9b45ece026167596"
      }
     },
     "94f7dbccc5b54443a79d577d178af26b": {
      "model_module": "@jupyter-widgets/controls",
      "model_module_version": "2.0.0",
      "model_name": "ButtonModel",
      "state": {
       "icon": "arrow-down",
       "layout": "IPY_MODEL_ad502f589b2a4dcba00477b6f88892c9",
       "style": "IPY_MODEL_fe1affc333df48018df5db5a23a58065",
       "tooltip": null
      }
     },
     "95263cb792bc43218c4f5ccfdf5c3e86": {
      "model_module": "@jupyter-widgets/base",
      "model_module_version": "2.0.0",
      "model_name": "LayoutModel",
      "state": {
       "border_bottom": "none",
       "border_left": "none",
       "border_right": "none",
       "border_top": "none",
       "width": "100%"
      }
     },
     "9534e830b8384ecbb0a746de88369201": {
      "model_module": "@jupyter-widgets/controls",
      "model_module_version": "2.0.0",
      "model_name": "LabelModel",
      "state": {
       "layout": "IPY_MODEL_7c87b9bab1314b9c866aa9d70a174896",
       "style": "IPY_MODEL_61984d0f535b402e9ade43f730daae74"
      }
     },
     "9550adc9e810499ba844a9ec88081022": {
      "model_module": "@jupyter-widgets/controls",
      "model_module_version": "2.0.0",
      "model_name": "DescriptionStyleModel",
      "state": {
       "description_width": ""
      }
     },
     "9555beeb9cd2476bab79becc70e12f99": {
      "model_module": "@jupyter-widgets/base",
      "model_module_version": "2.0.0",
      "model_name": "LayoutModel",
      "state": {}
     },
     "95837c46b4854e72b5b4d5bb24f843ce": {
      "model_module": "@jupyter-widgets/controls",
      "model_module_version": "2.0.0",
      "model_name": "ButtonStyleModel",
      "state": {
       "font_family": null,
       "font_size": null,
       "font_style": null,
       "font_variant": null,
       "font_weight": null,
       "text_color": null,
       "text_decoration": null
      }
     },
     "95a3bd41c3084045a9811e441bf7c3ab": {
      "model_module": "@jupyter-widgets/controls",
      "model_module_version": "2.0.0",
      "model_name": "LabelModel",
      "state": {
       "layout": "IPY_MODEL_0b4fe775eab847dd980d661be3fc6462",
       "style": "IPY_MODEL_438d17bc68614db2a15d63a431a389c6",
       "value": "Name"
      }
     },
     "95c234c8246046d5a249f3d3146079bf": {
      "model_module": "@jupyter-widgets/base",
      "model_module_version": "2.0.0",
      "model_name": "LayoutModel",
      "state": {}
     },
     "95d69fb0f5b949799526f8087c60036f": {
      "model_module": "@jupyter-widgets/controls",
      "model_module_version": "2.0.0",
      "model_name": "TextModel",
      "state": {
       "layout": "IPY_MODEL_f89c0887cb9744f49187154b3b0335b6",
       "style": "IPY_MODEL_c7e4fcd148fc4303b246856f05e6f70e",
       "value": "Apple"
      }
     },
     "96241eb933a34c32a86f97d422ea4082": {
      "model_module": "@jupyter-widgets/base",
      "model_module_version": "2.0.0",
      "model_name": "LayoutModel",
      "state": {
       "width": "100%"
      }
     },
     "96470d8bb2ca43f2b40c4b4fe82c6ac6": {
      "model_module": "@jupyter-widgets/controls",
      "model_module_version": "2.0.0",
      "model_name": "LabelStyleModel",
      "state": {
       "description_width": "",
       "font_family": null,
       "font_size": null,
       "font_style": null,
       "font_variant": null,
       "font_weight": null,
       "text_color": null,
       "text_decoration": null
      }
     },
     "964b26ecaa094a3292e277ecee2cec28": {
      "model_module": "@jupyter-widgets/controls",
      "model_module_version": "2.0.0",
      "model_name": "VBoxModel",
      "state": {
       "children": [
        "IPY_MODEL_3083036a78c040f0812c5dc80fcf0e11",
        "IPY_MODEL_f8bfdedcc06b4ddfab4c2314687568bf",
        "IPY_MODEL_2434fcd20ec14438b1ba7d96f293a632",
        "IPY_MODEL_445c5d44b7e3450db499b903619944d9",
        "IPY_MODEL_2855c24226db4cc6bd1bfa284b46bcb8",
        "IPY_MODEL_6211fbea7ca741fc9b270d5950e8e0ee",
        "IPY_MODEL_77f56cf47f9349a4b3458654d0238786",
        "IPY_MODEL_a726c73731c7477ea7aa34faaefd84af",
        "IPY_MODEL_240b16f550a24e40b417d02a7a7540e3",
        "IPY_MODEL_da04fb37efcc4805afe7b0e23e1ff5a0",
        "IPY_MODEL_1400dd98d7ee46bf8d2d9daad6a9cb29",
        "IPY_MODEL_da037c34567948f08020f30f413efb92"
       ],
       "layout": "IPY_MODEL_3d9137e1d59f4acea042a05c9d5b38b9"
      }
     },
     "96695f4cb2f84fcabdfe6cc0a3b18464": {
      "model_module": "@jupyter-widgets/controls",
      "model_module_version": "2.0.0",
      "model_name": "TextStyleModel",
      "state": {
       "description_width": "",
       "font_size": null,
       "text_color": null
      }
     },
     "96bf7c480ba54a81aa98a073ed4542e8": {
      "model_module": "@jupyter-widgets/controls",
      "model_module_version": "2.0.0",
      "model_name": "TextStyleModel",
      "state": {
       "description_width": "",
       "font_size": null,
       "text_color": null
      }
     },
     "96e67dffa5cd4485b97aa9e5130225fa": {
      "model_module": "@jupyter-widgets/controls",
      "model_module_version": "2.0.0",
      "model_name": "TextStyleModel",
      "state": {
       "description_width": "",
       "font_size": null,
       "text_color": null
      }
     },
     "97035533d4804bc78dff41bc18b323c6": {
      "model_module": "@jupyter-widgets/controls",
      "model_module_version": "2.0.0",
      "model_name": "LabelStyleModel",
      "state": {
       "description_width": "",
       "font_family": null,
       "font_size": null,
       "font_style": null,
       "font_variant": null,
       "font_weight": null,
       "text_color": null,
       "text_decoration": null
      }
     },
     "971b07bae0f6494c8ee93e52c6f0696d": {
      "model_module": "@jupyter-widgets/base",
      "model_module_version": "2.0.0",
      "model_name": "LayoutModel",
      "state": {}
     },
     "9791e794815e4553a62ba58aef6d5dc0": {
      "model_module": "@jupyter-widgets/base",
      "model_module_version": "2.0.0",
      "model_name": "LayoutModel",
      "state": {
       "width": "33%"
      }
     },
     "97a6b316e3664b49b09228ce9f292643": {
      "model_module": "@jupyter-widgets/controls",
      "model_module_version": "2.0.0",
      "model_name": "TextStyleModel",
      "state": {
       "description_width": "",
       "font_size": null,
       "text_color": null
      }
     },
     "980ea88ec653449983afff66390279d9": {
      "model_module": "@jupyter-widgets/controls",
      "model_module_version": "2.0.0",
      "model_name": "LabelModel",
      "state": {
       "layout": "IPY_MODEL_fd8ef21442bf48759fa34613868f2c9a",
       "style": "IPY_MODEL_e91657a870f7400cac0b42ea5c146135",
       "value": "Email"
      }
     },
     "9828856a58eb4689ac2719903f504c64": {
      "model_module": "@jupyter-widgets/base",
      "model_module_version": "2.0.0",
      "model_name": "LayoutModel",
      "state": {
       "width": "100%"
      }
     },
     "9836c739c2944ffb9b45ece026167596": {
      "model_module": "@jupyter-widgets/base",
      "model_module_version": "2.0.0",
      "model_name": "LayoutModel",
      "state": {
       "width": "100%"
      }
     },
     "987615bb90c64598b5119a0db1891297": {
      "model_module": "@jupyter-widgets/controls",
      "model_module_version": "2.0.0",
      "model_name": "LabelStyleModel",
      "state": {
       "description_width": "",
       "font_family": null,
       "font_size": null,
       "font_style": null,
       "font_variant": null,
       "font_weight": null,
       "text_color": null,
       "text_decoration": null
      }
     },
     "991f6524e8da42749c46ccd341810cb7": {
      "model_module": "@jupyter-widgets/controls",
      "model_module_version": "2.0.0",
      "model_name": "DescriptionStyleModel",
      "state": {
       "description_width": ""
      }
     },
     "9923e5cf132f409a9400b3043ab43bd1": {
      "model_module": "@jupyter-widgets/controls",
      "model_module_version": "2.0.0",
      "model_name": "ButtonModel",
      "state": {
       "icon": "trash",
       "layout": "IPY_MODEL_5e80c6c4c1514a6bb4e45e43cde1128d",
       "style": "IPY_MODEL_d6577eef2dfc4f84a2eeb91da96d7936",
       "tooltip": null
      }
     },
     "992ffa5494de404a876e90fa73abb3d3": {
      "model_module": "@jupyter-widgets/controls",
      "model_module_version": "2.0.0",
      "model_name": "ButtonStyleModel",
      "state": {
       "font_family": null,
       "font_size": null,
       "font_style": null,
       "font_variant": null,
       "font_weight": null,
       "text_color": null,
       "text_decoration": null
      }
     },
     "99ce33ad7af04fbbba3d4a0a5c730033": {
      "model_module": "@jupyter-widgets/controls",
      "model_module_version": "2.0.0",
      "model_name": "LabelModel",
      "state": {
       "layout": "IPY_MODEL_82286e6d3acf45168480a4259d417228",
       "style": "IPY_MODEL_4ae35ec6088e4841a3511987cbaaa39d"
      }
     },
     "9a01e43d565d4bfd930661d8c6612662": {
      "model_module": "@jupyter-widgets/controls",
      "model_module_version": "2.0.0",
      "model_name": "TextStyleModel",
      "state": {
       "description_width": "",
       "font_size": null,
       "text_color": null
      }
     },
     "9a6c97d3d1ce4e1c933ba3153e19baf1": {
      "model_module": "@jupyter-widgets/controls",
      "model_module_version": "2.0.0",
      "model_name": "LabelStyleModel",
      "state": {
       "description_width": "",
       "font_family": null,
       "font_size": null,
       "font_style": null,
       "font_variant": null,
       "font_weight": null,
       "text_color": null,
       "text_decoration": null
      }
     },
     "9a7e78f969674067b0ae3217b0678f4f": {
      "model_module": "@jupyter-widgets/controls",
      "model_module_version": "2.0.0",
      "model_name": "LabelStyleModel",
      "state": {
       "description_width": "",
       "font_family": null,
       "font_size": null,
       "font_style": null,
       "font_variant": null,
       "font_weight": null,
       "text_color": null,
       "text_decoration": null
      }
     },
     "9aba438119604455b708f9f7f7cd42bd": {
      "model_module": "@jupyter-widgets/base",
      "model_module_version": "2.0.0",
      "model_name": "LayoutModel",
      "state": {}
     },
     "9ac5c097052c454c9e6508eed7a6b29b": {
      "model_module": "@jupyter-widgets/controls",
      "model_module_version": "2.0.0",
      "model_name": "IntTextModel",
      "state": {
       "layout": "IPY_MODEL_1f78273b53884a979eab2ce2e01380c3",
       "step": 1,
       "style": "IPY_MODEL_33857b70761244feaf70d7fe818088f6"
      }
     },
     "9b238de320b64a699f4246cd333353dc": {
      "model_module": "@jupyter-widgets/base",
      "model_module_version": "2.0.0",
      "model_name": "LayoutModel",
      "state": {
       "width": "100%"
      }
     },
     "9b3819893ad5477f8609975a9c19d8ed": {
      "model_module": "@jupyter-widgets/controls",
      "model_module_version": "2.0.0",
      "model_name": "TextStyleModel",
      "state": {
       "description_width": "",
       "font_size": null,
       "text_color": null
      }
     },
     "9b43aca51ecb45cb982c151bd991aa47": {
      "model_module": "@jupyter-widgets/controls",
      "model_module_version": "2.0.0",
      "model_name": "LabelStyleModel",
      "state": {
       "description_width": "",
       "font_family": null,
       "font_size": null,
       "font_style": null,
       "font_variant": null,
       "font_weight": null,
       "text_color": null,
       "text_decoration": null
      }
     },
     "9b689a740fd7437f8ed421d51ff6c1c3": {
      "model_module": "@jupyter-widgets/base",
      "model_module_version": "2.0.0",
      "model_name": "LayoutModel",
      "state": {}
     },
     "9b8b72b030d9495c9aad8fa2674ff21c": {
      "model_module": "@jupyter-widgets/controls",
      "model_module_version": "2.0.0",
      "model_name": "VBoxModel",
      "state": {
       "children": [
        "IPY_MODEL_319d72129c59472b89f64a11c2e5b6da",
        "IPY_MODEL_84d392c841b2418399eadf1c38ebee4b"
       ],
       "layout": "IPY_MODEL_6074ab8ca5af44dfbd038cd814363862"
      }
     },
     "9bc71ca496454c60be9a89ceeff9e25a": {
      "model_module": "@jupyter-widgets/controls",
      "model_module_version": "2.0.0",
      "model_name": "TextModel",
      "state": {
       "layout": "IPY_MODEL_e70cc8531f8e47e8b2c8722121c5db12",
       "style": "IPY_MODEL_ac43f2b35d1241718620ad1b0b4e68e1"
      }
     },
     "9bc8a1dc274347ea8436336173da8b04": {
      "model_module": "@jupyter-widgets/base",
      "model_module_version": "2.0.0",
      "model_name": "LayoutModel",
      "state": {}
     },
     "9bf08a6049c14c1eaa8261cc28598bb5": {
      "model_module": "@jupyter-widgets/base",
      "model_module_version": "2.0.0",
      "model_name": "LayoutModel",
      "state": {
       "display": "none"
      }
     },
     "9bf18bfe18d34b7ba04b117f8af519f8": {
      "model_module": "@jupyter-widgets/controls",
      "model_module_version": "2.0.0",
      "model_name": "TextStyleModel",
      "state": {
       "description_width": "",
       "font_size": null,
       "text_color": null
      }
     },
     "9c316893433b45f786dcff02e2fbd1db": {
      "model_module": "@jupyter-widgets/base",
      "model_module_version": "2.0.0",
      "model_name": "LayoutModel",
      "state": {}
     },
     "9c5bb70a719b4dce8550044e62dc4e91": {
      "model_module": "@jupyter-widgets/controls",
      "model_module_version": "2.0.0",
      "model_name": "ButtonModel",
      "state": {
       "icon": "trash",
       "layout": "IPY_MODEL_4d6ff689c24542e38c48e4076eae8ecd",
       "style": "IPY_MODEL_cb0b4616bff34970a5f9557db4f4d22c",
       "tooltip": null
      }
     },
     "9d0a71573a944982adb813075169c09b": {
      "model_module": "@jupyter-widgets/controls",
      "model_module_version": "2.0.0",
      "model_name": "LabelStyleModel",
      "state": {
       "description_width": "",
       "font_family": null,
       "font_size": null,
       "font_style": null,
       "font_variant": null,
       "font_weight": null,
       "text_color": null,
       "text_decoration": null
      }
     },
     "9d19a459f818416fbd04145423131afa": {
      "model_module": "@jupyter-widgets/controls",
      "model_module_version": "2.0.0",
      "model_name": "ButtonStyleModel",
      "state": {
       "font_family": null,
       "font_size": null,
       "font_style": null,
       "font_variant": null,
       "font_weight": null,
       "text_color": null,
       "text_decoration": null
      }
     },
     "9d4667c50d5947b389f44be5647288c9": {
      "model_module": "@jupyter-widgets/controls",
      "model_module_version": "2.0.0",
      "model_name": "ButtonModel",
      "state": {
       "icon": "arrow-up",
       "layout": "IPY_MODEL_0eba1a5e09a84099bdeb82b78d3a9ef8",
       "style": "IPY_MODEL_e12bd3980c374421b0d7ba7e40840a7e",
       "tooltip": null
      }
     },
     "9d8e621ceaac4971b32b336660ad60e8": {
      "model_module": "@jupyter-widgets/base",
      "model_module_version": "2.0.0",
      "model_name": "LayoutModel",
      "state": {
       "width": "100%"
      }
     },
     "9d9ee0d82f1c45409947a4c98facf825": {
      "model_module": "@jupyter-widgets/base",
      "model_module_version": "2.0.0",
      "model_name": "LayoutModel",
      "state": {
       "display": "none"
      }
     },
     "9dcfbe5035164400847e999acbdb900e": {
      "model_module": "@jupyter-widgets/base",
      "model_module_version": "2.0.0",
      "model_name": "LayoutModel",
      "state": {
       "display": "none"
      }
     },
     "9dff76c287154d6fb55b0ebfbc29e978": {
      "model_module": "@jupyter-widgets/base",
      "model_module_version": "2.0.0",
      "model_name": "LayoutModel",
      "state": {}
     },
     "9e01d7d516c44aa095929f57e4e07ffd": {
      "model_module": "@jupyter-widgets/controls",
      "model_module_version": "2.0.0",
      "model_name": "LabelModel",
      "state": {
       "layout": "IPY_MODEL_f1de4a5309c545f0811e30daab66549a",
       "style": "IPY_MODEL_b99d0648b3ef444785c348296eb322e3"
      }
     },
     "9e15955fedff474d9c3194d646e96beb": {
      "model_module": "@jupyter-widgets/base",
      "model_module_version": "2.0.0",
      "model_name": "LayoutModel",
      "state": {}
     },
     "9e195cc7036a441cb9a7ba09ff152d23": {
      "model_module": "@jupyter-widgets/controls",
      "model_module_version": "2.0.0",
      "model_name": "LabelStyleModel",
      "state": {
       "description_width": "",
       "font_family": null,
       "font_size": null,
       "font_style": null,
       "font_variant": null,
       "font_weight": null,
       "text_color": null,
       "text_decoration": null
      }
     },
     "9e2ec889b775492f9fb9c11640025a59": {
      "model_module": "@jupyter-widgets/base",
      "model_module_version": "2.0.0",
      "model_name": "LayoutModel",
      "state": {}
     },
     "9e5ca9d845a64838b5ce1be4f6a75fe3": {
      "model_module": "@jupyter-widgets/base",
      "model_module_version": "2.0.0",
      "model_name": "LayoutModel",
      "state": {
       "width": "100%"
      }
     },
     "9ea6187cd7c847c9a9e094c6abb8c5f1": {
      "model_module": "@jupyter-widgets/base",
      "model_module_version": "2.0.0",
      "model_name": "LayoutModel",
      "state": {}
     },
     "9eb1583258074443a8893f0b191c61f4": {
      "model_module": "@jupyter-widgets/base",
      "model_module_version": "2.0.0",
      "model_name": "LayoutModel",
      "state": {}
     },
     "9f41777fa8b543e98d06edaac2bddefb": {
      "model_module": "@jupyter-widgets/base",
      "model_module_version": "2.0.0",
      "model_name": "LayoutModel",
      "state": {}
     },
     "9f605165777148bf9d59bd110a45a5c5": {
      "model_module": "@jupyter-widgets/base",
      "model_module_version": "2.0.0",
      "model_name": "LayoutModel",
      "state": {}
     },
     "9f9df334adb64707a51247d532d9cdbb": {
      "model_module": "@jupyter-widgets/base",
      "model_module_version": "2.0.0",
      "model_name": "LayoutModel",
      "state": {}
     },
     "9fc122de04d140e7882c810cb257876b": {
      "model_module": "@jupyter-widgets/controls",
      "model_module_version": "2.0.0",
      "model_name": "LabelModel",
      "state": {
       "layout": "IPY_MODEL_c9b0769dc0eb47bca140d07d2f7411ae",
       "style": "IPY_MODEL_b39654baedb64296805186c51200ebb0"
      }
     },
     "9fcfc6d9f30040a29f089b1ddbbfea20": {
      "model_module": "@jupyter-widgets/controls",
      "model_module_version": "2.0.0",
      "model_name": "DescriptionStyleModel",
      "state": {
       "description_width": ""
      }
     },
     "a0520963c5334462bd6b3367889d3779": {
      "model_module": "@jupyter-widgets/base",
      "model_module_version": "2.0.0",
      "model_name": "LayoutModel",
      "state": {}
     },
     "a053b7cf8324491da5a768684ef3ebc8": {
      "model_module": "@jupyter-widgets/base",
      "model_module_version": "2.0.0",
      "model_name": "LayoutModel",
      "state": {
       "width": "100%"
      }
     },
     "a0a35369f64141599485982a990ca418": {
      "model_module": "@jupyter-widgets/controls",
      "model_module_version": "2.0.0",
      "model_name": "HBoxModel",
      "state": {
       "children": [
        "IPY_MODEL_81becd6ddd064416b22fba27ffbc2228",
        "IPY_MODEL_fbf891e3e4564df78204a02cd18f3431",
        "IPY_MODEL_2f7c73d9b1ca46ce94376babeff5a7c8"
       ],
       "layout": "IPY_MODEL_ac573c3bd18340a38b94141376fa402c"
      }
     },
     "a0a391f9b0f947f68f29fb856ad4277c": {
      "model_module": "@jupyter-widgets/controls",
      "model_module_version": "2.0.0",
      "model_name": "IntTextModel",
      "state": {
       "layout": "IPY_MODEL_4fd82dec0ce24152a6c82c7825e12e8b",
       "step": 1,
       "style": "IPY_MODEL_3aa5d8431e9a40ae8581eab82bf16f76"
      }
     },
     "a0b3b42ae25c461181a4f367eaef104d": {
      "model_module": "@jupyter-widgets/output",
      "model_module_version": "1.0.0",
      "model_name": "OutputModel",
      "state": {
       "layout": "IPY_MODEL_c1cc1e8a2a8245fdbac3a5368bfb51c8",
       "outputs": [
        {
         "data": {
          "application/vnd.jupyter.widget-view+json": {
           "model_id": "03f06d38da754b9bbf92fb12203b2eb6",
           "version_major": 2,
           "version_minor": 0
          },
          "text/plain": "VBox(children=(HBox(children=(Label(value='Age', layout=Layout(width='100%')), IntText(value=30, layout=Layout…"
         },
         "metadata": {},
         "output_type": "display_data"
        }
       ]
      }
     },
     "a0c4159f18014406879085f3f3d9bbdd": {
      "model_module": "@jupyter-widgets/base",
      "model_module_version": "2.0.0",
      "model_name": "LayoutModel",
      "state": {}
     },
     "a0c90aa0508840349e9288f1921144cb": {
      "model_module": "@jupyter-widgets/controls",
      "model_module_version": "2.0.0",
      "model_name": "ButtonModel",
      "state": {
       "icon": "arrow-down",
       "layout": "IPY_MODEL_cfd9c2badd6f4af98d85b1200ba565f1",
       "style": "IPY_MODEL_94830b6d32764ec89c408d1acda1855f",
       "tooltip": null
      }
     },
     "a0f4a4644a354eb7a1397eb7397561f2": {
      "model_module": "@jupyter-widgets/base",
      "model_module_version": "2.0.0",
      "model_name": "LayoutModel",
      "state": {
       "width": "100%"
      }
     },
     "a13168ce3f51479d8232bd8a4aa99555": {
      "model_module": "@jupyter-widgets/controls",
      "model_module_version": "2.0.0",
      "model_name": "LabelStyleModel",
      "state": {
       "description_width": "",
       "font_family": null,
       "font_size": "0.8em",
       "font_style": null,
       "font_variant": null,
       "font_weight": "lighter",
       "text_color": null,
       "text_decoration": null
      }
     },
     "a132c2e557084293901e0d712bd4df00": {
      "model_module": "@jupyter-widgets/controls",
      "model_module_version": "2.0.0",
      "model_name": "VBoxModel",
      "state": {
       "children": [
        "IPY_MODEL_afd74482b0fe4040987ff085e3f7a2cc",
        "IPY_MODEL_d048dec961f34d14920da7e5625c8f51",
        "IPY_MODEL_6026ce5123c84b809769348571be82e9",
        "IPY_MODEL_a7c8a63e59bb4eedabb288b8811d1eba",
        "IPY_MODEL_eabaaa9972d6483098e521adfad023b6",
        "IPY_MODEL_dc0ed24396c74cc1a899fec2281eb0ad",
        "IPY_MODEL_aa042f2a52fd49a69e62e9e532c27b51",
        "IPY_MODEL_3c9b98050ad64920a691a76a332b488f",
        "IPY_MODEL_cfb7a616abab4c7aa59a530e455771a3",
        "IPY_MODEL_372a1dd9139e4527a3e312a54e426cff"
       ],
       "layout": "IPY_MODEL_ce22a63d498b42f185f7e27218e7b27f"
      }
     },
     "a14f9a6edf4c4c40b56c734e3288d455": {
      "model_module": "@jupyter-widgets/base",
      "model_module_version": "2.0.0",
      "model_name": "LayoutModel",
      "state": {
       "display": "flex",
       "justify_content": "flex-end"
      }
     },
     "a187b8e7612142d596da7b5ab2036577": {
      "model_module": "@jupyter-widgets/controls",
      "model_module_version": "2.0.0",
      "model_name": "ButtonModel",
      "state": {
       "button_style": "warning",
       "description": "Cancel",
       "icon": "times",
       "layout": "IPY_MODEL_ad7023741a474709b45ac0d3189fb5c4",
       "style": "IPY_MODEL_810a8862be1d43949ff2195cca9061b8",
       "tooltip": "Undo all changes"
      }
     },
     "a1d2e592dd724ffa904364e56c9488ca": {
      "model_module": "@jupyter-widgets/controls",
      "model_module_version": "2.0.0",
      "model_name": "TextStyleModel",
      "state": {
       "description_width": "",
       "font_size": null,
       "text_color": null
      }
     },
     "a1db20fa451c4de49d9d3db697df559a": {
      "model_module": "@jupyter-widgets/controls",
      "model_module_version": "2.0.0",
      "model_name": "DropdownModel",
      "state": {
       "_options_labels": [
        "integer",
        "number"
       ],
       "index": 0,
       "layout": "IPY_MODEL_a5b8dd3f321f4ae6a53f98e4c98635fb",
       "style": "IPY_MODEL_00a4c85108bd4d0aa68cb9a8754bdb5d"
      }
     },
     "a26130c9b940478c95f91e9b1f729a9b": {
      "model_module": "@jupyter-widgets/base",
      "model_module_version": "2.0.0",
      "model_name": "LayoutModel",
      "state": {
       "width": "100%"
      }
     },
     "a28de8d8f977484ab76c3d8446244275": {
      "model_module": "@jupyter-widgets/controls",
      "model_module_version": "2.0.0",
      "model_name": "TextStyleModel",
      "state": {
       "description_width": "",
       "font_size": null,
       "text_color": null
      }
     },
     "a29541122e954e1a9efb17679e9c7a62": {
      "model_module": "@jupyter-widgets/controls",
      "model_module_version": "2.0.0",
      "model_name": "TextStyleModel",
      "state": {
       "description_width": "",
       "font_size": null,
       "text_color": null
      }
     },
     "a2992e458bde4e87896f7e33d2c70c77": {
      "model_module": "@jupyter-widgets/base",
      "model_module_version": "2.0.0",
      "model_name": "LayoutModel",
      "state": {
       "width": "100%"
      }
     },
     "a29e7e7d8624417b87718e9e9b6e0d5f": {
      "model_module": "@jupyter-widgets/base",
      "model_module_version": "2.0.0",
      "model_name": "LayoutModel",
      "state": {
       "width": "100%"
      }
     },
     "a300a4253a8942eca809071ac80969b1": {
      "model_module": "@jupyter-widgets/controls",
      "model_module_version": "2.0.0",
      "model_name": "ButtonStyleModel",
      "state": {
       "font_family": null,
       "font_size": null,
       "font_style": null,
       "font_variant": null,
       "font_weight": null,
       "text_color": null,
       "text_decoration": null
      }
     },
     "a327b70d0e5340018ba17533a2df01f8": {
      "model_module": "@jupyter-widgets/base",
      "model_module_version": "2.0.0",
      "model_name": "LayoutModel",
      "state": {
       "display": "block"
      }
     },
     "a37daf44299d41b0b495625439539138": {
      "model_module": "@jupyter-widgets/base",
      "model_module_version": "2.0.0",
      "model_name": "LayoutModel",
      "state": {}
     },
     "a3b9a558a84a4b0ea8fb379841b7a0c0": {
      "model_module": "@jupyter-widgets/controls",
      "model_module_version": "2.0.0",
      "model_name": "TextStyleModel",
      "state": {
       "description_width": "",
       "font_size": null,
       "text_color": null
      }
     },
     "a3cc74f50fca4b1b8e079ebeaa59ed6d": {
      "model_module": "@jupyter-widgets/controls",
      "model_module_version": "2.0.0",
      "model_name": "TextStyleModel",
      "state": {
       "description_width": "",
       "font_size": null,
       "text_color": null
      }
     },
     "a3f73b84bebe4b74bac4758b3e68a251": {
      "model_module": "@jupyter-widgets/base",
      "model_module_version": "2.0.0",
      "model_name": "LayoutModel",
      "state": {}
     },
     "a43d589792a0486b802a34200257b697": {
      "model_module": "@jupyter-widgets/controls",
      "model_module_version": "2.0.0",
      "model_name": "DatePickerModel",
      "state": {
       "description": "Date",
       "disabled": false,
       "layout": "IPY_MODEL_4728fb9f0d4d4a1dbdeb767e0ff679a7",
       "max": null,
       "min": null,
       "step": 1,
       "style": "IPY_MODEL_9fcfc6d9f30040a29f089b1ddbbfea20",
       "tooltip": "Date",
       "value": {
        "date": 12,
        "month": 8,
        "year": 2025
       }
      }
     },
     "a4872906ea8f4d9db08f4755567fbbe8": {
      "model_module": "@jupyter-widgets/controls",
      "model_module_version": "2.0.0",
      "model_name": "LabelStyleModel",
      "state": {
       "description_width": "",
       "font_family": null,
       "font_size": null,
       "font_style": null,
       "font_variant": null,
       "font_weight": null,
       "text_color": null,
       "text_decoration": null
      }
     },
     "a4b15bf9b0114a6d88c7279c90c74037": {
      "model_module": "@jupyter-widgets/base",
      "model_module_version": "2.0.0",
      "model_name": "LayoutModel",
      "state": {
       "width": "100%"
      }
     },
     "a551726f7f3144ed872e7f5838f4abc0": {
      "model_module": "@jupyter-widgets/base",
      "model_module_version": "2.0.0",
      "model_name": "LayoutModel",
      "state": {}
     },
     "a552cda29f0b4f8b87784071a6bb3cda": {
      "model_module": "@jupyter-widgets/controls",
      "model_module_version": "2.0.0",
      "model_name": "IntTextModel",
      "state": {
       "layout": "IPY_MODEL_aaf13ca22be44e48b70969508813c7ed",
       "step": 1,
       "style": "IPY_MODEL_d4e1061cf39d461b86f39a5a68d84909",
       "tooltip": "Height"
      }
     },
     "a5b8dd3f321f4ae6a53f98e4c98635fb": {
      "model_module": "@jupyter-widgets/base",
      "model_module_version": "2.0.0",
      "model_name": "LayoutModel",
      "state": {}
     },
     "a6390757c5b84e81b344b3d72d1b79a0": {
      "model_module": "@jupyter-widgets/controls",
      "model_module_version": "2.0.0",
      "model_name": "TextStyleModel",
      "state": {
       "description_width": "",
       "font_size": null,
       "text_color": null
      }
     },
     "a641a1bca1a44b7db4a41624bef90da9": {
      "model_module": "@jupyter-widgets/controls",
      "model_module_version": "2.0.0",
      "model_name": "TextModel",
      "state": {
       "layout": "IPY_MODEL_f771e4e8b1b84df98813b4add4136358",
       "style": "IPY_MODEL_5bce4b70595745cc9c25b05d7fec7312",
       "tooltip": "Name"
      }
     },
     "a686a93a92df429f9b7ca8a692fcfd8b": {
      "model_module": "@jupyter-widgets/base",
      "model_module_version": "2.0.0",
      "model_name": "LayoutModel",
      "state": {
       "width": "33%"
      }
     },
     "a69aa4d768dc4e67bca92394159b77ff": {
      "model_module": "@jupyter-widgets/controls",
      "model_module_version": "2.0.0",
      "model_name": "DescriptionStyleModel",
      "state": {
       "description_width": ""
      }
     },
     "a700f439172549efa75f68ede03c5b89": {
      "model_module": "@jupyter-widgets/base",
      "model_module_version": "2.0.0",
      "model_name": "LayoutModel",
      "state": {
       "display": "none"
      }
     },
     "a70adc80f8054473a8017c7fa94a1482": {
      "model_module": "@jupyter-widgets/controls",
      "model_module_version": "2.0.0",
      "model_name": "LabelStyleModel",
      "state": {
       "description_width": "",
       "font_family": null,
       "font_size": null,
       "font_style": null,
       "font_variant": null,
       "font_weight": null,
       "text_color": null,
       "text_decoration": null
      }
     },
     "a726c73731c7477ea7aa34faaefd84af": {
      "model_module": "@jupyter-widgets/controls",
      "model_module_version": "2.0.0",
      "model_name": "LabelModel",
      "state": {
       "layout": "IPY_MODEL_423775d84e084d9c9505f8f50eb4b5bf",
       "style": "IPY_MODEL_291ec8b86f4d448480f7f962efffef07"
      }
     },
     "a77e4a88e3734b6581c091dd818e8ffc": {
      "model_module": "@jupyter-widgets/controls",
      "model_module_version": "2.0.0",
      "model_name": "TextStyleModel",
      "state": {
       "description_width": "",
       "font_size": null,
       "text_color": null
      }
     },
     "a7c8a63e59bb4eedabb288b8811d1eba": {
      "model_module": "@jupyter-widgets/controls",
      "model_module_version": "2.0.0",
      "model_name": "LabelModel",
      "state": {
       "layout": "IPY_MODEL_40da1ba3fef6482aa63c9b2464091876",
       "style": "IPY_MODEL_3fb93c6ee06b4d99a9bc3f8c0e0d72db"
      }
     },
     "a7d6575e9f82467bbb95b4502b8fa605": {
      "model_module": "@jupyter-widgets/base",
      "model_module_version": "2.0.0",
      "model_name": "LayoutModel",
      "state": {}
     },
     "a845aa92ca2742deabb70d8a31077e52": {
      "model_module": "@jupyter-widgets/controls",
      "model_module_version": "2.0.0",
      "model_name": "TextModel",
      "state": {
       "layout": "IPY_MODEL_ba2f947432474d49afecbb5c90fbfc63",
       "style": "IPY_MODEL_05204990b88641fcb32378f8f08dff57",
       "tooltip": "Email",
       "value": "default@example.com"
      }
     },
     "a8499e812dfd4792a0aabea55e9ff5c6": {
      "model_module": "@jupyter-widgets/controls",
      "model_module_version": "2.0.0",
      "model_name": "VBoxModel",
      "state": {
       "children": [
        "IPY_MODEL_2fa36dff423646b685161d6f635d173f",
        "IPY_MODEL_b85aa4a7d6d8408db647177958899985"
       ],
       "layout": "IPY_MODEL_75b66d6a43534b548c05f968484e44b9"
      }
     },
     "a8a742d6ed3240d3a52511d8936fe695": {
      "model_module": "@jupyter-widgets/controls",
      "model_module_version": "2.0.0",
      "model_name": "TextStyleModel",
      "state": {
       "description_width": "",
       "font_size": null,
       "text_color": null
      }
     },
     "a8aff963cab44e7192d55fcfc420b26a": {
      "model_module": "@jupyter-widgets/base",
      "model_module_version": "2.0.0",
      "model_name": "LayoutModel",
      "state": {
       "width": "33%"
      }
     },
     "a8e65669930942748c2456b4d16d97cc": {
      "model_module": "@jupyter-widgets/controls",
      "model_module_version": "2.0.0",
      "model_name": "LabelModel",
      "state": {
       "layout": "IPY_MODEL_c2a4adf2f2d045f6bb88a2634f767961",
       "style": "IPY_MODEL_dca18822e2024df98ff04ba46d40f71b",
       "value": "Ip6Address"
      }
     },
     "a8fc79a6a08844ca948b124882a9902a": {
      "model_module": "@jupyter-widgets/controls",
      "model_module_version": "2.0.0",
      "model_name": "HBoxModel",
      "state": {
       "children": [
        "IPY_MODEL_27a4833312d84a3d964030df970f3941",
        "IPY_MODEL_9d4667c50d5947b389f44be5647288c9",
        "IPY_MODEL_fc2d10094c4f4b3caa26eee90a2a85a1"
       ],
       "layout": "IPY_MODEL_934c847e04f3410eb80d3e35075fff3c"
      }
     },
     "a90216c20d33416e83dcaa310fe9929f": {
      "model_module": "@jupyter-widgets/base",
      "model_module_version": "2.0.0",
      "model_name": "LayoutModel",
      "state": {}
     },
     "a93f616a5883441faca93254aa068868": {
      "model_module": "@jupyter-widgets/controls",
      "model_module_version": "2.0.0",
      "model_name": "LabelModel",
      "state": {
       "layout": "IPY_MODEL_c769b76b1109475a9266c56d57c00227",
       "style": "IPY_MODEL_4424d7a785e44966bd9c7db779f0bec3",
       "value": "Name"
      }
     },
     "a98bd797f67e4facb063dc2cd0572c7a": {
      "model_module": "@jupyter-widgets/controls",
      "model_module_version": "2.0.0",
      "model_name": "LabelStyleModel",
      "state": {
       "description_width": "",
       "font_family": null,
       "font_size": null,
       "font_style": null,
       "font_variant": null,
       "font_weight": null,
       "text_color": null,
       "text_decoration": null
      }
     },
     "a9e93fb892c14529ad188f0fe1756922": {
      "model_module": "@jupyter-widgets/controls",
      "model_module_version": "2.0.0",
      "model_name": "TextStyleModel",
      "state": {
       "description_width": "",
       "font_size": null,
       "text_color": null
      }
     },
     "aa042f2a52fd49a69e62e9e532c27b51": {
      "model_module": "@jupyter-widgets/controls",
      "model_module_version": "2.0.0",
      "model_name": "HBoxModel",
      "state": {
       "children": [
        "IPY_MODEL_7876a5e6d9d7465fb0a4355d3cbd650b"
       ],
       "layout": "IPY_MODEL_e2a8fc605bbf45d0bed5857353e61eb5"
      }
     },
     "aa69fbee5a364e2190f6819ca981df9f": {
      "model_module": "@jupyter-widgets/controls",
      "model_module_version": "2.0.0",
      "model_name": "TextModel",
      "state": {
       "layout": "IPY_MODEL_f569ca515c6349679ada02af8d34f3a1",
       "style": "IPY_MODEL_4f6a2fe7fac544bc88268b89b8871d3b",
       "value": "Banana"
      }
     },
     "aa76a3da3a0649a1bc5d1012e6d38251": {
      "model_module": "@jupyter-widgets/base",
      "model_module_version": "2.0.0",
      "model_name": "LayoutModel",
      "state": {
       "width": "100%"
      }
     },
     "aaf13ca22be44e48b70969508813c7ed": {
      "model_module": "@jupyter-widgets/base",
      "model_module_version": "2.0.0",
      "model_name": "LayoutModel",
      "state": {
       "width": "100%"
      }
     },
     "ab16010d3f0d46d9a8ecaee5fe0a46f4": {
      "model_module": "@jupyter-widgets/controls",
      "model_module_version": "2.0.0",
      "model_name": "TextStyleModel",
      "state": {
       "description_width": "",
       "font_size": null,
       "text_color": null
      }
     },
     "ab2e7b967fa14823846ad82e3f50b61e": {
      "model_module": "@jupyter-widgets/controls",
      "model_module_version": "2.0.0",
      "model_name": "LabelStyleModel",
      "state": {
       "description_width": "",
       "font_family": null,
       "font_size": null,
       "font_style": null,
       "font_variant": null,
       "font_weight": null,
       "text_color": null,
       "text_decoration": null
      }
     },
     "ab4bade227c746339de9249eed320871": {
      "model_module": "@jupyter-widgets/controls",
      "model_module_version": "2.0.0",
      "model_name": "LabelModel",
      "state": {
       "layout": "IPY_MODEL_f18a96b27bfb4470a4c62ac9f77c002d",
       "style": "IPY_MODEL_1ec14a740c4949108b84e74740fe66fa",
       "value": "Age"
      }
     },
     "ab51978810de407c9a390f68ece697de": {
      "model_module": "@jupyter-widgets/controls",
      "model_module_version": "2.0.0",
      "model_name": "VBoxModel",
      "state": {
       "children": [
        "IPY_MODEL_b1f97af4d55147ed91d44a276d8a5ea9"
       ],
       "layout": "IPY_MODEL_6b877371d15344c38285618ea3c1f774"
      }
     },
     "ab56a23ed557490c9f68c4f27c858e0a": {
      "model_module": "@jupyter-widgets/base",
      "model_module_version": "2.0.0",
      "model_name": "LayoutModel",
      "state": {}
     },
     "ab6394647e884cb5b55608732d727f8e": {
      "model_module": "@jupyter-widgets/controls",
      "model_module_version": "2.0.0",
      "model_name": "VBoxModel",
      "state": {
       "children": [
        "IPY_MODEL_f2a3772fa3454f9190b560d3c727ca85",
        "IPY_MODEL_d198091b94ba4dc896270fd8e129a0c0"
       ],
       "layout": "IPY_MODEL_f7c18f76f67b4e68a25ad9020dc55bca"
      }
     },
     "ab796a99266d4cb7a1c577de80c14625": {
      "model_module": "@jupyter-widgets/controls",
      "model_module_version": "2.0.0",
      "model_name": "HBoxModel",
      "state": {
       "children": [
        "IPY_MODEL_79cb9fb10eda431c991b60afeedcce1d",
        "IPY_MODEL_8b3aeb965c3b40eda4184d4e08068f2d"
       ],
       "layout": "IPY_MODEL_d8cf44fae65f423da9c98e94807ff1d0"
      }
     },
     "ab8a73794d4f421993a84ff4f3ae78db": {
      "model_module": "@jupyter-widgets/controls",
      "model_module_version": "2.0.0",
      "model_name": "ButtonStyleModel",
      "state": {
       "font_family": null,
       "font_size": null,
       "font_style": null,
       "font_variant": null,
       "font_weight": null,
       "text_color": null,
       "text_decoration": null
      }
     },
     "abdb8fcf822c42b69abd4e616f3d2abf": {
      "model_module": "@jupyter-widgets/controls",
      "model_module_version": "2.0.0",
      "model_name": "TextModel",
      "state": {
       "layout": "IPY_MODEL_207f931fc73e4c038d2776ae1ef9736b",
       "style": "IPY_MODEL_15594f151d4441729e8dee146eabbd04",
       "tooltip": "Email Wrong",
       "value": "notan_email.com"
      }
     },
     "ac43f2b35d1241718620ad1b0b4e68e1": {
      "model_module": "@jupyter-widgets/controls",
      "model_module_version": "2.0.0",
      "model_name": "TextStyleModel",
      "state": {
       "description_width": "",
       "font_size": null,
       "text_color": null
      }
     },
     "ac573c3bd18340a38b94141376fa402c": {
      "model_module": "@jupyter-widgets/base",
      "model_module_version": "2.0.0",
      "model_name": "LayoutModel",
      "state": {
       "width": "100%"
      }
     },
     "ac922bc6a8a849ec839b1dd9be6363f0": {
      "model_module": "@jupyter-widgets/controls",
      "model_module_version": "2.0.0",
      "model_name": "LabelModel",
      "state": {
       "layout": "IPY_MODEL_8384966398a1444fb5927714101988ee",
       "style": "IPY_MODEL_a70adc80f8054473a8017c7fa94a1482"
      }
     },
     "aca639d95e244d48a1a439535adc74f1": {
      "model_module": "@jupyter-widgets/controls",
      "model_module_version": "2.0.0",
      "model_name": "LabelModel",
      "state": {
       "layout": "IPY_MODEL_d27e1d6cfc274f6fb35a1ef42fbcc65c",
       "style": "IPY_MODEL_c7d2a33a9dfe48299f564a5b8c18e7d8",
       "value": "Email"
      }
     },
     "acbec4aa55ff4ae5af2581fd817c1aea": {
      "model_module": "@jupyter-widgets/controls",
      "model_module_version": "2.0.0",
      "model_name": "LabelStyleModel",
      "state": {
       "description_width": "",
       "font_family": null,
       "font_size": null,
       "font_style": null,
       "font_variant": null,
       "font_weight": null,
       "text_color": null,
       "text_decoration": null
      }
     },
     "acd97733c8374a30a242fce2e461d4ad": {
      "model_module": "@jupyter-widgets/controls",
      "model_module_version": "2.0.0",
      "model_name": "TextStyleModel",
      "state": {
       "description_width": "",
       "font_size": null,
       "text_color": null
      }
     },
     "acfbf6df8a274b1ead5b2fdfbdd776dd": {
      "model_module": "@jupyter-widgets/controls",
      "model_module_version": "2.0.0",
      "model_name": "ButtonModel",
      "state": {
       "icon": "arrow-down",
       "layout": "IPY_MODEL_74b135c9bd484a079dcb69cfcb69c09f",
       "style": "IPY_MODEL_ee37fd964edb430e826e641ae041c58b",
       "tooltip": null
      }
     },
     "ad10f823855a4acfabecef91ad1f8d17": {
      "model_module": "@jupyter-widgets/controls",
      "model_module_version": "2.0.0",
      "model_name": "HBoxModel",
      "state": {
       "children": [
        "IPY_MODEL_a43d589792a0486b802a34200257b697"
       ],
       "layout": "IPY_MODEL_82c379e8449f4a6cbb7360ff83c8e376"
      }
     },
     "ad16a34ed92a4e71a8411ef8c11d1763": {
      "model_module": "@jupyter-widgets/base",
      "model_module_version": "2.0.0",
      "model_name": "LayoutModel",
      "state": {
       "border_bottom": "none",
       "border_left": "none",
       "border_right": "none",
       "border_top": "none",
       "width": "100%"
      }
     },
     "ad2460a69c9643bfa2717a3ba7e9e612": {
      "model_module": "@jupyter-widgets/base",
      "model_module_version": "2.0.0",
      "model_name": "LayoutModel",
      "state": {
       "display": "none"
      }
     },
     "ad502f589b2a4dcba00477b6f88892c9": {
      "model_module": "@jupyter-widgets/base",
      "model_module_version": "2.0.0",
      "model_name": "LayoutModel",
      "state": {
       "width": "33%"
      }
     },
     "ad53d1e4a4de4985b38b77ecb4a24e30": {
      "model_module": "@jupyter-widgets/base",
      "model_module_version": "2.0.0",
      "model_name": "LayoutModel",
      "state": {}
     },
     "ad5f69df8f4d4b02a9b3b40d393ec961": {
      "model_module": "@jupyter-widgets/base",
      "model_module_version": "2.0.0",
      "model_name": "LayoutModel",
      "state": {
       "border_bottom": "none",
       "border_left": "none",
       "border_right": "none",
       "border_top": "none",
       "width": "100%"
      }
     },
     "ad68b47a451046f2a0aa9c4d09a152d9": {
      "model_module": "@jupyter-widgets/controls",
      "model_module_version": "2.0.0",
      "model_name": "LabelModel",
      "state": {
       "layout": "IPY_MODEL_cce1c344e18f4f67a9b2309c176d2a79",
       "style": "IPY_MODEL_4cdf4a88786d40a88a2fc5a75afd87fb"
      }
     },
     "ad7023741a474709b45ac0d3189fb5c4": {
      "model_module": "@jupyter-widgets/base",
      "model_module_version": "2.0.0",
      "model_name": "LayoutModel",
      "state": {}
     },
     "ad778295c5874255a48e509e38ea13de": {
      "model_module": "@jupyter-widgets/controls",
      "model_module_version": "2.0.0",
      "model_name": "LabelModel",
      "state": {
       "layout": "IPY_MODEL_8a3b60981b2341d29f6cd51a3805aeb7",
       "style": "IPY_MODEL_7a4d9bf1526f44138f4d01f4696c8c81"
      }
     },
     "ad7b1b7a2ccd4111920cb9bdde5b9980": {
      "model_module": "@jupyter-widgets/controls",
      "model_module_version": "2.0.0",
      "model_name": "ButtonStyleModel",
      "state": {
       "font_family": null,
       "font_size": null,
       "font_style": null,
       "font_variant": null,
       "font_weight": null,
       "text_color": null,
       "text_decoration": null
      }
     },
     "adbce8f64b584148a9ac6f7d5b5b7478": {
      "model_module": "@jupyter-widgets/controls",
      "model_module_version": "2.0.0",
      "model_name": "HBoxModel",
      "state": {
       "children": [
        "IPY_MODEL_94932812a9e14c1cb453e18d146b63ce"
       ],
       "layout": "IPY_MODEL_f7fba38b34e04bf7b77a4f303d26af06"
      }
     },
     "adc4c3f394084545a892ea71616012e4": {
      "model_module": "@jupyter-widgets/controls",
      "model_module_version": "2.0.0",
      "model_name": "HBoxModel",
      "state": {
       "children": [
        "IPY_MODEL_fdcb99a8651d401bb6c90d99f5352414",
        "IPY_MODEL_aecb10ba3e9041c2938d9a7bb7b568f2"
       ],
       "layout": "IPY_MODEL_53c512f0081b43ae9a394f4f28f9c105"
      }
     },
     "adcebf1fd9b24163b3ac2461cf8e225d": {
      "model_module": "@jupyter-widgets/controls",
      "model_module_version": "2.0.0",
      "model_name": "ButtonStyleModel",
      "state": {
       "font_family": null,
       "font_size": null,
       "font_style": null,
       "font_variant": null,
       "font_weight": null,
       "text_color": null,
       "text_decoration": null
      }
     },
     "ae0bb7b21d4642aeb1c9eb9966cdbff2": {
      "model_module": "@jupyter-widgets/base",
      "model_module_version": "2.0.0",
      "model_name": "LayoutModel",
      "state": {
       "width": "100%"
      }
     },
     "ae25e24abc2542509251e3d14ee93fa4": {
      "model_module": "@jupyter-widgets/base",
      "model_module_version": "2.0.0",
      "model_name": "LayoutModel",
      "state": {}
     },
     "ae2e727990e0475fa509aee4b1daef0c": {
      "model_module": "@jupyter-widgets/controls",
      "model_module_version": "2.0.0",
      "model_name": "TextModel",
      "state": {
       "layout": "IPY_MODEL_4a308d1629b24fc883d2a87f0aa5c02f",
       "style": "IPY_MODEL_e519473dd3be49529fa3997c0eb41ded",
       "tooltip": "Ip4Address",
       "value": "127.0.0.1"
      }
     },
     "ae59d898be5043bca47a6e5498baeb1d": {
      "model_module": "@jupyter-widgets/base",
      "model_module_version": "2.0.0",
      "model_name": "LayoutModel",
      "state": {
       "width": "33%"
      }
     },
     "ae6fb811f7184a8191b473e0100e7f0d": {
      "model_module": "@jupyter-widgets/controls",
      "model_module_version": "2.0.0",
      "model_name": "DescriptionStyleModel",
      "state": {
       "description_width": ""
      }
     },
     "ae8cc4d6f18c483fb5da6b6ee109958c": {
      "model_module": "@jupyter-widgets/controls",
      "model_module_version": "2.0.0",
      "model_name": "LabelStyleModel",
      "state": {
       "description_width": "",
       "font_family": null,
       "font_size": null,
       "font_style": null,
       "font_variant": null,
       "font_weight": null,
       "text_color": null,
       "text_decoration": null
      }
     },
     "aecb10ba3e9041c2938d9a7bb7b568f2": {
      "model_module": "@jupyter-widgets/controls",
      "model_module_version": "2.0.0",
      "model_name": "TextModel",
      "state": {
       "layout": "IPY_MODEL_350ad30c210c43168aa53780eea98848",
       "style": "IPY_MODEL_f10cccff5c464a8d8f5b2ca264c862c1",
       "tooltip": "Name"
      }
     },
     "aee34229a2da43f0beb7e9b4e3dd0f0c": {
      "model_module": "@jupyter-widgets/controls",
      "model_module_version": "2.0.0",
      "model_name": "TextStyleModel",
      "state": {
       "description_width": "",
       "font_size": null,
       "text_color": null
      }
     },
     "af2e202df8544c62973bcef0d4e64726": {
      "model_module": "@jupyter-widgets/base",
      "model_module_version": "2.0.0",
      "model_name": "LayoutModel",
      "state": {
       "width": "100%"
      }
     },
     "af68f54f8aa6416298435580b9cad1d1": {
      "model_module": "@jupyter-widgets/base",
      "model_module_version": "2.0.0",
      "model_name": "LayoutModel",
      "state": {
       "width": "100%"
      }
     },
     "afd74482b0fe4040987ff085e3f7a2cc": {
      "model_module": "@jupyter-widgets/controls",
      "model_module_version": "2.0.0",
      "model_name": "HBoxModel",
      "state": {
       "children": [
        "IPY_MODEL_f993276c39d34810b333aac788d3c2d1",
        "IPY_MODEL_ca324855768645ccb19361c87a158ff4"
       ],
       "layout": "IPY_MODEL_c5bd4cd41d5e41a4823c4c7a6504bd54"
      }
     },
     "afedf8f82f744f5280075fdb1bb5f55c": {
      "model_module": "@jupyter-widgets/controls",
      "model_module_version": "2.0.0",
      "model_name": "ButtonModel",
      "state": {
       "icon": "arrow-up",
       "layout": "IPY_MODEL_120ed7db665c452fb09599d4a723e6ca",
       "style": "IPY_MODEL_762bac2c1d8b4dd6b981df124edfadd1",
       "tooltip": null
      }
     },
     "b019e482b5604b999a3393ee2dcd3b9f": {
      "model_module": "@jupyter-widgets/base",
      "model_module_version": "2.0.0",
      "model_name": "LayoutModel",
      "state": {}
     },
     "b076f206e9634caaabdd1e667add7948": {
      "model_module": "@jupyter-widgets/base",
      "model_module_version": "2.0.0",
      "model_name": "LayoutModel",
      "state": {}
     },
     "b0aac87e407d4ec696c0943affd9fec7": {
      "model_module": "@jupyter-widgets/controls",
      "model_module_version": "2.0.0",
      "model_name": "TextStyleModel",
      "state": {
       "description_width": "",
       "font_size": null,
       "text_color": null
      }
     },
     "b0f42a9ad7364cc282dbe299de454e87": {
      "model_module": "@jupyter-widgets/controls",
      "model_module_version": "2.0.0",
      "model_name": "LabelModel",
      "state": {
       "layout": "IPY_MODEL_e2ba7c204aff42a883f66dd99a5e8578",
       "style": "IPY_MODEL_cf03e0f6a1114b0fb7bcc50ff4c7ed43"
      }
     },
     "b13436e57d8e4b54aa170fc11d9513db": {
      "model_module": "@jupyter-widgets/controls",
      "model_module_version": "2.0.0",
      "model_name": "LabelStyleModel",
      "state": {
       "description_width": "",
       "font_family": null,
       "font_size": null,
       "font_style": null,
       "font_variant": null,
       "font_weight": null,
       "text_color": null,
       "text_decoration": null
      }
     },
     "b141a8ef6c1a42f0acd101f2ad4cfa53": {
      "model_module": "@jupyter-widgets/base",
      "model_module_version": "2.0.0",
      "model_name": "LayoutModel",
      "state": {}
     },
     "b174c4432a3c453f80183f2ff57de3d0": {
      "model_module": "@jupyter-widgets/base",
      "model_module_version": "2.0.0",
      "model_name": "LayoutModel",
      "state": {}
     },
     "b18ac189ecbf4df8976d7d76f6a1b731": {
      "model_module": "@jupyter-widgets/base",
      "model_module_version": "2.0.0",
      "model_name": "LayoutModel",
      "state": {}
     },
     "b1e99a2ae2b246d1bcd1fe0482197e54": {
      "model_module": "@jupyter-widgets/controls",
      "model_module_version": "2.0.0",
      "model_name": "LabelModel",
      "state": {
       "layout": "IPY_MODEL_3dc7792a29494887be784dda35b67bbc",
       "style": "IPY_MODEL_e301deca296348d9875541babeff15f7"
      }
     },
     "b1f97af4d55147ed91d44a276d8a5ea9": {
      "model_module": "@jupyter-widgets/controls",
      "model_module_version": "2.0.0",
      "model_name": "AccordionModel",
      "state": {
       "children": [
        "IPY_MODEL_4f586c57290d4ba9b15436c7e0662dae"
       ],
       "layout": "IPY_MODEL_02ced7420aeb476fb98d344e57d8332e",
       "selected_index": 0,
       "titles": [
        "Settings"
       ]
      }
     },
     "b215d7ee27f748d9b4e2dd9836ec1568": {
      "model_module": "@jupyter-widgets/base",
      "model_module_version": "2.0.0",
      "model_name": "LayoutModel",
      "state": {
       "width": "100%"
      }
     },
     "b228750cfbd24189be43af7774e9c73a": {
      "model_module": "@jupyter-widgets/base",
      "model_module_version": "2.0.0",
      "model_name": "LayoutModel",
      "state": {
       "display": "none"
      }
     },
     "b2937ae0fd32496db5f320d681052dba": {
      "model_module": "@jupyter-widgets/base",
      "model_module_version": "2.0.0",
      "model_name": "LayoutModel",
      "state": {}
     },
     "b2adaa4bf0c042ac88a1a66474a3a242": {
      "model_module": "@jupyter-widgets/controls",
      "model_module_version": "2.0.0",
      "model_name": "LabelModel",
      "state": {
       "layout": "IPY_MODEL_96241eb933a34c32a86f97d422ea4082",
       "style": "IPY_MODEL_4150918c862a4def928723a889b946a1",
       "value": "Age"
      }
     },
     "b2e6a42d0ac0447885ee74755f8a8132": {
      "model_module": "@jupyter-widgets/base",
      "model_module_version": "2.0.0",
      "model_name": "LayoutModel",
      "state": {
       "width": "100%"
      }
     },
     "b2ed154fa9e2413987ef98d531289da2": {
      "model_module": "@jupyter-widgets/controls",
      "model_module_version": "2.0.0",
      "model_name": "DescriptionStyleModel",
      "state": {
       "description_width": ""
      }
     },
     "b3082b92df00449d9e9121aa80fbd677": {
      "model_module": "@jupyter-widgets/controls",
      "model_module_version": "2.0.0",
      "model_name": "LabelStyleModel",
      "state": {
       "description_width": "",
       "font_family": null,
       "font_size": null,
       "font_style": null,
       "font_variant": null,
       "font_weight": null,
       "text_color": null,
       "text_decoration": null
      }
     },
     "b30938fda262438c9a6846c6df7b7009": {
      "model_module": "@jupyter-widgets/controls",
      "model_module_version": "2.0.0",
      "model_name": "LabelModel",
      "state": {
       "layout": "IPY_MODEL_ad2460a69c9643bfa2717a3ba7e9e612",
       "style": "IPY_MODEL_9e195cc7036a441cb9a7ba09ff152d23"
      }
     },
     "b336a8e6b87c4f18a10ad1264dd8b771": {
      "model_module": "@jupyter-widgets/controls",
      "model_module_version": "2.0.0",
      "model_name": "VBoxModel",
      "state": {
       "children": [
        "IPY_MODEL_5e6d906f1c5345539bd87475a8e769f1",
        "IPY_MODEL_e8647f14c671425cb5caa12e3605a9d4"
       ],
       "layout": "IPY_MODEL_c0f08b558f0143c995dbc4a7d3859ced"
      }
     },
     "b33e59b6e116425bb396c7de46dd9ba0": {
      "model_module": "@jupyter-widgets/base",
      "model_module_version": "2.0.0",
      "model_name": "LayoutModel",
      "state": {
       "display": "none"
      }
     },
     "b36f8f869c654a2f95b91680dcb8b26d": {
      "model_module": "@jupyter-widgets/controls",
      "model_module_version": "2.0.0",
      "model_name": "HBoxModel",
      "state": {
       "children": [
        "IPY_MODEL_f790775d4cb147b2b0108a59a81abb32",
        "IPY_MODEL_cf6608061de94bc0807f76c084c09638"
       ],
       "layout": "IPY_MODEL_7f2c1d83f12f4049bb779ead1b48256f"
      }
     },
     "b37a530596994f46a5015c53d43462fd": {
      "model_module": "@jupyter-widgets/base",
      "model_module_version": "2.0.0",
      "model_name": "LayoutModel",
      "state": {
       "width": "100%"
      }
     },
     "b38e1d0d06e24103b73fc809b030b06f": {
      "model_module": "@jupyter-widgets/base",
      "model_module_version": "2.0.0",
      "model_name": "LayoutModel",
      "state": {
       "width": "100%"
      }
     },
     "b39654baedb64296805186c51200ebb0": {
      "model_module": "@jupyter-widgets/controls",
      "model_module_version": "2.0.0",
      "model_name": "LabelStyleModel",
      "state": {
       "description_width": "",
       "font_family": null,
       "font_size": null,
       "font_style": null,
       "font_variant": null,
       "font_weight": null,
       "text_color": null,
       "text_decoration": null
      }
     },
     "b3b5db8abe8746c395453840752f437c": {
      "model_module": "@jupyter-widgets/controls",
      "model_module_version": "2.0.0",
      "model_name": "VBoxModel",
      "state": {
       "children": [
        "IPY_MODEL_24904b4b950343ffb531fe7f1da2009e",
        "IPY_MODEL_e448e676697f43d5a5d56eb94835bcae",
        "IPY_MODEL_2f1bb2192e33425e9930cd16dfe94c4a"
       ],
       "layout": "IPY_MODEL_9c316893433b45f786dcff02e2fbd1db"
      }
     },
     "b3be7b0300a747538b62b39d75659be9": {
      "model_module": "@jupyter-widgets/controls",
      "model_module_version": "2.0.0",
      "model_name": "HBoxModel",
      "state": {
       "children": [
        "IPY_MODEL_53cf163914c4490ca7057ade83189cf7",
        "IPY_MODEL_ce2ca7b53822471799454fe7987b0ddd"
       ],
       "layout": "IPY_MODEL_e8133f07579340ddbca5de2b72732364"
      }
     },
     "b3d22e34278a4bbda3181f5d462d80a3": {
      "model_module": "@jupyter-widgets/base",
      "model_module_version": "2.0.0",
      "model_name": "LayoutModel",
      "state": {
       "display": "none"
      }
     },
     "b3fca7a6894d470dbb03a7bc95031010": {
      "model_module": "@jupyter-widgets/controls",
      "model_module_version": "2.0.0",
      "model_name": "BoundedIntTextModel",
      "state": {
       "layout": "IPY_MODEL_57d4d82e8b114a36a3f9e36009231175",
       "max": 10,
       "style": "IPY_MODEL_5161e7dc3a8f48bb9bc724823940a163",
       "tooltip": "Number",
       "value": 10
      }
     },
     "b40817d48a0b4b99b63e77bee07fa3ad": {
      "model_module": "@jupyter-widgets/base",
      "model_module_version": "2.0.0",
      "model_name": "LayoutModel",
      "state": {}
     },
     "b51304d47cd0432787e4c0e135876e43": {
      "model_module": "@jupyter-widgets/base",
      "model_module_version": "2.0.0",
      "model_name": "LayoutModel",
      "state": {
       "width": "100%"
      }
     },
     "b55ecba8e9034226b551c6f11f305ba2": {
      "model_module": "@jupyter-widgets/controls",
      "model_module_version": "2.0.0",
      "model_name": "TextModel",
      "state": {
       "layout": "IPY_MODEL_897dc82a493f483287bdd70fc7d09e61",
       "style": "IPY_MODEL_7088facb2e2640be8e15a21b1fa03dbb",
       "tooltip": "Name"
      }
     },
     "b562fb78c89547018c2f72ae4da6aa00": {
      "model_module": "@jupyter-widgets/base",
      "model_module_version": "2.0.0",
      "model_name": "LayoutModel",
      "state": {}
     },
     "b56864ef53484e188932d1c143ebc367": {
      "model_module": "@jupyter-widgets/controls",
      "model_module_version": "2.0.0",
      "model_name": "TextStyleModel",
      "state": {
       "description_width": "",
       "font_size": null,
       "text_color": null
      }
     },
     "b5707994953449629ac865487948651c": {
      "model_module": "@jupyter-widgets/base",
      "model_module_version": "2.0.0",
      "model_name": "LayoutModel",
      "state": {
       "width": "100%"
      }
     },
     "b59e6380329d43fb96ba41170124ca79": {
      "model_module": "@jupyter-widgets/controls",
      "model_module_version": "2.0.0",
      "model_name": "TextStyleModel",
      "state": {
       "description_width": "",
       "font_size": null,
       "text_color": null
      }
     },
     "b5a5117fdd26445ab5c66497d8e6898c": {
      "model_module": "@jupyter-widgets/controls",
      "model_module_version": "2.0.0",
      "model_name": "VBoxModel",
      "state": {
       "children": [
        "IPY_MODEL_2006fa7167f14966bea421e1d14a6f1d",
        "IPY_MODEL_54da310746194a848d49d8da27a8a6d3",
        "IPY_MODEL_d9a62df4a84e445bb6803302c6d9e899",
        "IPY_MODEL_5482b7bddd93467988c06ea09e2c155d"
       ],
       "layout": "IPY_MODEL_e5eb08e76907437aa8c4cc41d677bad3"
      }
     },
     "b5be5e19a60f4caf99e91df49fcaeec9": {
      "model_module": "@jupyter-widgets/base",
      "model_module_version": "2.0.0",
      "model_name": "LayoutModel",
      "state": {}
     },
     "b5be78acafe04803acc51906e1a04bda": {
      "model_module": "@jupyter-widgets/base",
      "model_module_version": "2.0.0",
      "model_name": "LayoutModel",
      "state": {
       "display": "none"
      }
     },
     "b5dda1a998744dbbae0e4680274c4669": {
      "model_module": "@jupyter-widgets/controls",
      "model_module_version": "2.0.0",
      "model_name": "VBoxModel",
      "state": {
       "children": [
        "IPY_MODEL_bdbcec68da584e7ca612a530056b59e0",
        "IPY_MODEL_ac922bc6a8a849ec839b1dd9be6363f0",
        "IPY_MODEL_f2a23107fe074a0bb1db80b78fc6d098",
        "IPY_MODEL_2998a0edb731430d9ac47f847de5c349"
       ],
       "layout": "IPY_MODEL_26120a7ae74c49e19a32d02a9a7b4908"
      }
     },
     "b5faa2f765c8475d96273b28e63409d0": {
      "model_module": "@jupyter-widgets/controls",
      "model_module_version": "2.0.0",
      "model_name": "ButtonStyleModel",
      "state": {
       "font_family": null,
       "font_size": null,
       "font_style": null,
       "font_variant": null,
       "font_weight": null,
       "text_color": null,
       "text_decoration": null
      }
     },
     "b6109deaf8984c90be4cffaac2d25227": {
      "model_module": "@jupyter-widgets/controls",
      "model_module_version": "2.0.0",
      "model_name": "VBoxModel",
      "state": {
       "children": [
        "IPY_MODEL_cfa1abc4adf141ac90a67a098e240625"
       ],
       "layout": "IPY_MODEL_ca8a3913adb54e32984895ba84c84419"
      }
     },
     "b641c4d5a0ad452fb0aa7910eb850bec": {
      "model_module": "@jupyter-widgets/controls",
      "model_module_version": "2.0.0",
      "model_name": "TextStyleModel",
      "state": {
       "description_width": "",
       "font_size": null,
       "text_color": null
      }
     },
     "b67f58ae1d30488899598f50ca475bf2": {
      "model_module": "@jupyter-widgets/controls",
      "model_module_version": "2.0.0",
      "model_name": "HBoxModel",
      "state": {
       "children": [
        "IPY_MODEL_c85927578841402ea95a3dcac81dd9ad",
        "IPY_MODEL_b86b7b5c4b1443f881b6c5dbaf73f27e"
       ],
       "layout": "IPY_MODEL_ea68e3a2f33d45f58433f58fdbbbcada"
      }
     },
     "b69d2f8cb3884487aad63d9e1a3e7d05": {
      "model_module": "@jupyter-widgets/controls",
      "model_module_version": "2.0.0",
      "model_name": "TextStyleModel",
      "state": {
       "description_width": "",
       "font_size": null,
       "text_color": null
      }
     },
     "b72cf41fc27747718d91bb6ab04cd2cf": {
      "model_module": "@jupyter-widgets/controls",
      "model_module_version": "2.0.0",
      "model_name": "LabelStyleModel",
      "state": {
       "description_width": "",
       "font_family": null,
       "font_size": null,
       "font_style": null,
       "font_variant": null,
       "font_weight": null,
       "text_color": null,
       "text_decoration": null
      }
     },
     "b75feb8c47ae4bcfac5c90bf29c0f6a0": {
      "model_module": "@jupyter-widgets/controls",
      "model_module_version": "2.0.0",
      "model_name": "TextModel",
      "state": {
       "layout": "IPY_MODEL_ad16a34ed92a4e71a8411ef8c11d1763",
       "style": "IPY_MODEL_d16626eb988645c4b276f2592c2bdbfe",
       "tooltip": "Name",
       "value": "John Doe"
      }
     },
     "b7792eb1e07345c4b92954a23bb13083": {
      "model_module": "@jupyter-widgets/controls",
      "model_module_version": "2.0.0",
      "model_name": "FloatTextModel",
      "state": {
       "layout": "IPY_MODEL_755c8e5b2fba4560b5be478ffc681bb0",
       "step": null,
       "style": "IPY_MODEL_097e4bc413bb416caeffd09b03cb26a0",
       "tooltip": "Height"
      }
     },
     "b7fb75acf9924a2c8792149c364eee1e": {
      "model_module": "@jupyter-widgets/controls",
      "model_module_version": "2.0.0",
      "model_name": "FloatTextModel",
      "state": {
       "layout": "IPY_MODEL_ec4caf0ef5234a2897ededbca2efdfe0",
       "step": null,
       "style": "IPY_MODEL_2703bb995d964df2bb52660fb5135855"
      }
     },
     "b85aa4a7d6d8408db647177958899985": {
      "model_module": "@jupyter-widgets/controls",
      "model_module_version": "2.0.0",
      "model_name": "HBoxModel",
      "state": {
       "children": [
        "IPY_MODEL_c6980ce0cf9b4320946011c5b8bea7b0",
        "IPY_MODEL_afedf8f82f744f5280075fdb1bb5f55c",
        "IPY_MODEL_3fd575ac26764cc2a15a41b3743289aa"
       ],
       "layout": "IPY_MODEL_17ab1ef9c8614bd595264fb961542227"
      }
     },
     "b8623af105984e32902092c310486775": {
      "model_module": "@jupyter-widgets/base",
      "model_module_version": "2.0.0",
      "model_name": "LayoutModel",
      "state": {}
     },
     "b86b7b5c4b1443f881b6c5dbaf73f27e": {
      "model_module": "@jupyter-widgets/controls",
      "model_module_version": "2.0.0",
      "model_name": "TextModel",
      "state": {
       "layout": "IPY_MODEL_ff10b5fa738b42b1a26c0055a67ed1be",
       "style": "IPY_MODEL_08ee5ad83bed4c9f83e2963032ad9607",
       "tooltip": "City"
      }
     },
     "b8aa6ea403184dc5b6f063640940a3a0": {
      "model_module": "@jupyter-widgets/base",
      "model_module_version": "2.0.0",
      "model_name": "LayoutModel",
      "state": {
       "display": "none"
      }
     },
     "b8d45764e7b84b67bc7f3a3e523d2007": {
      "model_module": "@jupyter-widgets/base",
      "model_module_version": "2.0.0",
      "model_name": "LayoutModel",
      "state": {}
     },
     "b926f8d725064bcda7799f06014c33de": {
      "model_module": "@jupyter-widgets/controls",
      "model_module_version": "2.0.0",
      "model_name": "LabelStyleModel",
      "state": {
       "description_width": "",
       "font_family": null,
       "font_size": null,
       "font_style": null,
       "font_variant": null,
       "font_weight": null,
       "text_color": null,
       "text_decoration": null
      }
     },
     "b99d0648b3ef444785c348296eb322e3": {
      "model_module": "@jupyter-widgets/controls",
      "model_module_version": "2.0.0",
      "model_name": "LabelStyleModel",
      "state": {
       "description_width": "",
       "font_family": null,
       "font_size": null,
       "font_style": null,
       "font_variant": null,
       "font_weight": null,
       "text_color": null,
       "text_decoration": null
      }
     },
     "b9c29deb80ec4ace949260af7f619def": {
      "model_module": "@jupyter-widgets/controls",
      "model_module_version": "2.0.0",
      "model_name": "DescriptionStyleModel",
      "state": {
       "description_width": ""
      }
     },
     "b9ee01dac042417f894fc3788a6fc79f": {
      "model_module": "@jupyter-widgets/base",
      "model_module_version": "2.0.0",
      "model_name": "LayoutModel",
      "state": {
       "border_bottom": "none",
       "border_left": "none",
       "border_right": "none",
       "border_top": "none"
      }
     },
     "b9fccdae238c4b7097d4f8240312cb6b": {
      "model_module": "@jupyter-widgets/base",
      "model_module_version": "2.0.0",
      "model_name": "LayoutModel",
      "state": {}
     },
     "ba2f947432474d49afecbb5c90fbfc63": {
      "model_module": "@jupyter-widgets/base",
      "model_module_version": "2.0.0",
      "model_name": "LayoutModel",
      "state": {
       "width": "100%"
      }
     },
     "ba7e2c89aada4a09a6710022a57ac9c1": {
      "model_module": "@jupyter-widgets/controls",
      "model_module_version": "2.0.0",
      "model_name": "TextModel",
      "state": {
       "layout": "IPY_MODEL_197b2396b880452b9dbabbf7475800eb",
       "style": "IPY_MODEL_fb7aa5d14cc24f1590a65df3e6a77ee5",
       "tooltip": "Email",
       "value": "john.doe@example.com"
      }
     },
     "ba8df36125b9492a810bb2b199b9d768": {
      "model_module": "@jupyter-widgets/base",
      "model_module_version": "2.0.0",
      "model_name": "LayoutModel",
      "state": {}
     },
     "bb149e018eb64ce0b5f12660cd3cc8da": {
      "model_module": "@jupyter-widgets/base",
      "model_module_version": "2.0.0",
      "model_name": "LayoutModel",
      "state": {
       "width": "100%"
      }
     },
     "bb4d9294b04246418df558b86451c91a": {
      "model_module": "@jupyter-widgets/controls",
      "model_module_version": "2.0.0",
      "model_name": "TextModel",
      "state": {
       "layout": "IPY_MODEL_518d14b34ee1432a8b7f9c0592a50340",
       "style": "IPY_MODEL_a1d2e592dd724ffa904364e56c9488ca",
       "tooltip": "Name"
      }
     },
     "bb69961dd8ba474e8943e7a32a51278b": {
      "model_module": "@jupyter-widgets/controls",
      "model_module_version": "2.0.0",
      "model_name": "HBoxModel",
      "state": {
       "children": [
        "IPY_MODEL_9bc71ca496454c60be9a89ceeff9e25a"
       ],
       "layout": "IPY_MODEL_bf3fa580ce4f49babfd52bf71122126a"
      }
     },
     "bbc459deffe248dbbad1286eeedc87c3": {
      "model_module": "@jupyter-widgets/controls",
      "model_module_version": "2.0.0",
      "model_name": "LabelModel",
      "state": {
       "layout": "IPY_MODEL_20fb4a2f9ad1457b949ac7c784d72e9a",
       "style": "IPY_MODEL_ff6d1d5702e143bd83eea198e767d816"
      }
     },
     "bbdd104bb2fa47b086a5bf343bb20d7b": {
      "model_module": "@jupyter-widgets/base",
      "model_module_version": "2.0.0",
      "model_name": "LayoutModel",
      "state": {
       "width": "100%"
      }
     },
     "bbe41e7ea5494905b56054447eb59c20": {
      "model_module": "@jupyter-widgets/controls",
      "model_module_version": "2.0.0",
      "model_name": "VBoxModel",
      "state": {
       "children": [
        "IPY_MODEL_ce103400728a4df6a036d1c9e43b8d62",
        "IPY_MODEL_d92e9e4fab004920a5b7e1b07d6b53e8"
       ],
       "layout": "IPY_MODEL_48a6d68cd26548019aba9dd5796ee71c"
      }
     },
     "bc04dfb6c3974156a1fd080da0ec720b": {
      "model_module": "@jupyter-widgets/controls",
      "model_module_version": "2.0.0",
      "model_name": "TextStyleModel",
      "state": {
       "description_width": "",
       "font_size": null,
       "text_color": null
      }
     },
     "bc13d5c6d03d4ed5a7e5734bb4fbe34b": {
      "model_module": "@jupyter-widgets/controls",
      "model_module_version": "2.0.0",
      "model_name": "TextStyleModel",
      "state": {
       "description_width": "",
       "font_size": null,
       "text_color": null
      }
     },
     "bc1c8202124c4ac6af8fb858133045cd": {
      "model_module": "@jupyter-widgets/controls",
      "model_module_version": "2.0.0",
      "model_name": "TextStyleModel",
      "state": {
       "description_width": "",
       "font_size": null,
       "text_color": null
      }
     },
     "bd02b67e26a24ba58b928ad507c2511b": {
      "model_module": "@jupyter-widgets/controls",
      "model_module_version": "2.0.0",
      "model_name": "LabelModel",
      "state": {
       "layout": "IPY_MODEL_fa6a397b19c34ba9aa28f322d53a81fc",
       "style": "IPY_MODEL_11bc79590c1a44db81518631c7b4cdae",
       "value": "Ip4Address"
      }
     },
     "bd350a4c6b5c415dbaabbd9f6d0e0750": {
      "model_module": "@jupyter-widgets/controls",
      "model_module_version": "2.0.0",
      "model_name": "LabelStyleModel",
      "state": {
       "description_width": "",
       "font_family": null,
       "font_size": null,
       "font_style": null,
       "font_variant": null,
       "font_weight": null,
       "text_color": null,
       "text_decoration": null
      }
     },
     "bd358f1a845d469b9ebb616d28fae606": {
      "model_module": "@jupyter-widgets/controls",
      "model_module_version": "2.0.0",
      "model_name": "AccordionModel",
      "state": {
       "children": [
        "IPY_MODEL_6d26029a41b34236bbabd5c7c2fc7228"
       ],
       "layout": "IPY_MODEL_270a5039646e4976a5cd1ae1e9e15f40",
       "selected_index": 0,
       "titles": [
        "Preferred Food"
       ]
      }
     },
     "bda5aa8bbe124b34ae8828f2969dd2f5": {
      "model_module": "@jupyter-widgets/controls",
      "model_module_version": "2.0.0",
      "model_name": "VBoxModel",
      "state": {
       "children": [
        "IPY_MODEL_133c15fe7c8c4394ae4edfdda80542c6",
        "IPY_MODEL_b0f42a9ad7364cc282dbe299de454e87",
        "IPY_MODEL_655022a67e974cef9a6a21cde7c04799",
        "IPY_MODEL_715dc92cb7d74ff5b6a440c5d906a1a0"
       ],
       "layout": "IPY_MODEL_aa76a3da3a0649a1bc5d1012e6d38251"
      }
     },
     "bdae0af3263a4fbeadf78410f48ae706": {
      "model_module": "@jupyter-widgets/base",
      "model_module_version": "2.0.0",
      "model_name": "LayoutModel",
      "state": {
       "width": "100%"
      }
     },
     "bdbcec68da584e7ca612a530056b59e0": {
      "model_module": "@jupyter-widgets/controls",
      "model_module_version": "2.0.0",
      "model_name": "HBoxModel",
      "state": {
       "children": [
        "IPY_MODEL_856c3466c0c24668bdc28eae10e622a3",
        "IPY_MODEL_ca540d8e6957405c8bf87866ec51d938"
       ],
       "layout": "IPY_MODEL_16e6207040134db7bf89e83bf66fba41"
      }
     },
     "be658441e25c47808953e5fc0cf57c57": {
      "model_module": "@jupyter-widgets/controls",
      "model_module_version": "2.0.0",
      "model_name": "LabelStyleModel",
      "state": {
       "description_width": "",
       "font_family": null,
       "font_size": null,
       "font_style": null,
       "font_variant": null,
       "font_weight": null,
       "text_color": null,
       "text_decoration": null
      }
     },
     "beb738cefb7846ffbc7930bd0d5f5352": {
      "model_module": "@jupyter-widgets/controls",
      "model_module_version": "2.0.0",
      "model_name": "TextModel",
      "state": {
       "layout": "IPY_MODEL_103d64219c5b4432a7b543d4da8faf4c",
       "style": "IPY_MODEL_b59e6380329d43fb96ba41170124ca79",
       "tooltip": "Name"
      }
     },
     "bec89882e5604a35bb90ca7a656c63d7": {
      "model_module": "@jupyter-widgets/base",
      "model_module_version": "2.0.0",
      "model_name": "LayoutModel",
      "state": {}
     },
     "bee266f133624eac98be583f97b4ddf5": {
      "model_module": "@jupyter-widgets/base",
      "model_module_version": "2.0.0",
      "model_name": "LayoutModel",
      "state": {
       "width": "100%"
      }
     },
     "befa0a93a2da419f9f43db778067b658": {
      "model_module": "@jupyter-widgets/controls",
      "model_module_version": "2.0.0",
      "model_name": "VBoxModel",
      "state": {
       "children": [
        "IPY_MODEL_f5dd991a2eaf4a2399ff732487a14fff",
        "IPY_MODEL_691a700d1c464d4fb10bc2bf1d2e52c8"
       ],
       "layout": "IPY_MODEL_dce73794fff244f09d92d74351630ca2"
      }
     },
     "befa76c7109b478183b5d3e08ad8a2f3": {
      "model_module": "@jupyter-widgets/base",
      "model_module_version": "2.0.0",
      "model_name": "LayoutModel",
      "state": {}
     },
     "bf0eb3ee630d43ba9e897595cdfcb102": {
      "model_module": "@jupyter-widgets/base",
      "model_module_version": "2.0.0",
      "model_name": "LayoutModel",
      "state": {}
     },
     "bf36358360714c0fac75d8c218267a1d": {
      "model_module": "@jupyter-widgets/base",
      "model_module_version": "2.0.0",
      "model_name": "LayoutModel",
      "state": {}
     },
     "bf3fa580ce4f49babfd52bf71122126a": {
      "model_module": "@jupyter-widgets/base",
      "model_module_version": "2.0.0",
      "model_name": "LayoutModel",
      "state": {
       "width": "100%"
      }
     },
     "bf99b59589284ab68725dfa84ddf3911": {
      "model_module": "@jupyter-widgets/controls",
      "model_module_version": "2.0.0",
      "model_name": "DescriptionStyleModel",
      "state": {
       "description_width": ""
      }
     },
     "bfa25e93ae874db298267c2bfb05b390": {
      "model_module": "@jupyter-widgets/controls",
      "model_module_version": "2.0.0",
      "model_name": "TextModel",
      "state": {
       "layout": "IPY_MODEL_d9e24eed83aa403a884cd995e48e8613",
       "style": "IPY_MODEL_5efcaaa95e994afe8598109906a4e107",
       "tooltip": "Ip6Address",
       "value": "::1"
      }
     },
     "bfc34b831908450692f384b5a6577889": {
      "model_module": "@jupyter-widgets/base",
      "model_module_version": "2.0.0",
      "model_name": "LayoutModel",
      "state": {}
     },
     "bfd276b16a9047188a84e827622c93e2": {
      "model_module": "@jupyter-widgets/controls",
      "model_module_version": "2.0.0",
      "model_name": "ButtonStyleModel",
      "state": {
       "font_family": null,
       "font_size": null,
       "font_style": null,
       "font_variant": null,
       "font_weight": null,
       "text_color": null,
       "text_decoration": null
      }
     },
     "c067fde488144bc9bebb04b03ae13b97": {
      "model_module": "@jupyter-widgets/base",
      "model_module_version": "2.0.0",
      "model_name": "LayoutModel",
      "state": {
       "width": "100%"
      }
     },
     "c077dca391b648f48769d2caec7f1c15": {
      "model_module": "@jupyter-widgets/controls",
      "model_module_version": "2.0.0",
      "model_name": "HBoxModel",
      "state": {
       "children": [
        "IPY_MODEL_db6e1e6cc0e44f8d829db55b871b921c",
        "IPY_MODEL_29e29f6886a44b51b56da2700f282834",
        "IPY_MODEL_acfbf6df8a274b1ead5b2fdfbdd776dd"
       ],
       "layout": "IPY_MODEL_f655a0a2105545c8a3f02765ed0b293a"
      }
     },
     "c0d18b3850a146b095cfcf2e841ca89b": {
      "model_module": "@jupyter-widgets/base",
      "model_module_version": "2.0.0",
      "model_name": "LayoutModel",
      "state": {
       "width": "100%"
      }
     },
     "c0f08b558f0143c995dbc4a7d3859ced": {
      "model_module": "@jupyter-widgets/base",
      "model_module_version": "2.0.0",
      "model_name": "LayoutModel",
      "state": {}
     },
     "c10013321e2241db82cf99ba15059fe6": {
      "model_module": "@jupyter-widgets/controls",
      "model_module_version": "2.0.0",
      "model_name": "VBoxModel",
      "state": {
       "children": [
        "IPY_MODEL_6ef8b220df27491b9940e5ec77b3bc66",
        "IPY_MODEL_a8fc79a6a08844ca948b124882a9902a"
       ],
       "layout": "IPY_MODEL_9353bf68ceac4c208547e01b7260aa26"
      }
     },
     "c118015699284765a066205dddfd1f94": {
      "model_module": "@jupyter-widgets/controls",
      "model_module_version": "2.0.0",
      "model_name": "TextStyleModel",
      "state": {
       "description_width": "",
       "font_size": null,
       "text_color": null
      }
     },
     "c14d3b57ad19402192798830c345e8ad": {
      "model_module": "@jupyter-widgets/controls",
      "model_module_version": "2.0.0",
      "model_name": "TextStyleModel",
      "state": {
       "description_width": "",
       "font_size": null,
       "text_color": null
      }
     },
     "c16bc4424dc149818869f1a6b97c6e4e": {
      "model_module": "@jupyter-widgets/controls",
      "model_module_version": "2.0.0",
      "model_name": "LabelModel",
      "state": {
       "layout": "IPY_MODEL_320b9dd8e9ed4d28b3efce6f07693597",
       "style": "IPY_MODEL_d8f45fc3e9ab4e458edc86e3c0ea9171",
       "value": "Height"
      }
     },
     "c1cc1e8a2a8245fdbac3a5368bfb51c8": {
      "model_module": "@jupyter-widgets/base",
      "model_module_version": "2.0.0",
      "model_name": "LayoutModel",
      "state": {
       "display": "none"
      }
     },
     "c21be4ad85524cac92c73d9421c2107b": {
      "model_module": "@jupyter-widgets/controls",
      "model_module_version": "2.0.0",
      "model_name": "TextModel",
      "state": {
       "description": "key",
       "layout": "IPY_MODEL_dc7244f508bf4e699b4a1582cd198e80",
       "style": "IPY_MODEL_55173423e3ee4d4695e6fbad42de1f57",
       "value": "key2"
      }
     },
     "c21cadc7375147d59e65ca8554b2b2b3": {
      "model_module": "@jupyter-widgets/base",
      "model_module_version": "2.0.0",
      "model_name": "LayoutModel",
      "state": {
       "width": "100%"
      }
     },
     "c23567cf2d9c4b4bb040b32231aad5f8": {
      "model_module": "@jupyter-widgets/base",
      "model_module_version": "2.0.0",
      "model_name": "LayoutModel",
      "state": {}
     },
     "c2441decb6994998a01e6ce604e37e99": {
      "model_module": "@jupyter-widgets/controls",
      "model_module_version": "2.0.0",
      "model_name": "LabelStyleModel",
      "state": {
       "description_width": "",
       "font_family": null,
       "font_size": null,
       "font_style": null,
       "font_variant": null,
       "font_weight": null,
       "text_color": null,
       "text_decoration": null
      }
     },
     "c254090350d54dc1b3b289fdca6da09a": {
      "model_module": "@jupyter-widgets/base",
      "model_module_version": "2.0.0",
      "model_name": "LayoutModel",
      "state": {}
     },
     "c27768f32ab24778927296367070e1fb": {
      "model_module": "@jupyter-widgets/controls",
      "model_module_version": "2.0.0",
      "model_name": "TextModel",
      "state": {
       "layout": "IPY_MODEL_768a0c22a4b54d90ab861f4a747b9eff",
       "style": "IPY_MODEL_c37410afbe99498ba34df7f3caabe32b",
       "tooltip": "Email",
       "value": "john.doe@example.com"
      }
     },
     "c27937d0bcad4c24afaa7918bef6666e": {
      "model_module": "@jupyter-widgets/controls",
      "model_module_version": "2.0.0",
      "model_name": "LabelStyleModel",
      "state": {
       "description_width": "",
       "font_family": null,
       "font_size": null,
       "font_style": null,
       "font_variant": null,
       "font_weight": null,
       "text_color": null,
       "text_decoration": null
      }
     },
     "c281a7014d3747d79b1cc8ee57d5b703": {
      "model_module": "@jupyter-widgets/base",
      "model_module_version": "2.0.0",
      "model_name": "LayoutModel",
      "state": {
       "display": "none"
      }
     },
     "c2888a1bdc16489b920f8faa437a58b1": {
      "model_module": "@jupyter-widgets/base",
      "model_module_version": "2.0.0",
      "model_name": "LayoutModel",
      "state": {}
     },
     "c2998443f6c74253adb64810f374682d": {
      "model_module": "@jupyter-widgets/controls",
      "model_module_version": "2.0.0",
      "model_name": "LabelStyleModel",
      "state": {
       "description_width": "",
       "font_family": null,
       "font_size": null,
       "font_style": null,
       "font_variant": null,
       "font_weight": null,
       "text_color": null,
       "text_decoration": null
      }
     },
     "c2a4adf2f2d045f6bb88a2634f767961": {
      "model_module": "@jupyter-widgets/base",
      "model_module_version": "2.0.0",
      "model_name": "LayoutModel",
      "state": {
       "width": "100%"
      }
     },
     "c2cfa704a2024eb79cc2a6c6e1f4f93e": {
      "model_module": "@jupyter-widgets/controls",
      "model_module_version": "2.0.0",
      "model_name": "TextStyleModel",
      "state": {
       "description_width": "",
       "font_size": null,
       "text_color": null
      }
     },
     "c2d5e39abbf54f70a380c5d03cf2f15f": {
      "model_module": "@jupyter-widgets/base",
      "model_module_version": "2.0.0",
      "model_name": "LayoutModel",
      "state": {}
     },
     "c318f31d5958447093c4ea9d8e242afc": {
      "model_module": "@jupyter-widgets/controls",
      "model_module_version": "2.0.0",
      "model_name": "VBoxModel",
      "state": {
       "children": [
        "IPY_MODEL_ff995098432946969a9c6abfc8fdf55f",
        "IPY_MODEL_2e6fe424812b4024b50bb802c85c6d52"
       ],
       "layout": "IPY_MODEL_b38e1d0d06e24103b73fc809b030b06f"
      }
     },
     "c335555e800f4bbca2d9d8e6551bcaff": {
      "model_module": "@jupyter-widgets/controls",
      "model_module_version": "2.0.0",
      "model_name": "VBoxModel",
      "state": {
       "children": [
        "IPY_MODEL_d8833662a01e4cd8aa502962bb12f23e",
        "IPY_MODEL_184d104c7cbd4bd8998f2a304b299db0",
        "IPY_MODEL_fce5006fd76c4a0885c34fa50c666a69",
        "IPY_MODEL_c8bd91e8876a4bf2862ed9bb3c43247a",
        "IPY_MODEL_7e16be7bdf9c4e7ab786d056bb348527",
        "IPY_MODEL_672e06e07dc24b25998a3927d9fbae3a"
       ],
       "layout": "IPY_MODEL_0a06d3fc8fc9439f82f8783aa2a846c9"
      }
     },
     "c37410afbe99498ba34df7f3caabe32b": {
      "model_module": "@jupyter-widgets/controls",
      "model_module_version": "2.0.0",
      "model_name": "TextStyleModel",
      "state": {
       "description_width": "",
       "font_size": null,
       "text_color": null
      }
     },
     "c4342154b3c44b5cb94639ad2dbc5202": {
      "model_module": "@jupyter-widgets/base",
      "model_module_version": "2.0.0",
      "model_name": "LayoutModel",
      "state": {
       "width": "500px"
      }
     },
     "c54e6b62cb70466f9907a7424e84f7d3": {
      "model_module": "@jupyter-widgets/base",
      "model_module_version": "2.0.0",
      "model_name": "LayoutModel",
      "state": {
       "border_bottom": "none",
       "border_left": "none",
       "border_right": "none",
       "border_top": "none"
      }
     },
     "c57a7f0fe89540818b0ea50c3d285905": {
      "model_module": "@jupyter-widgets/controls",
      "model_module_version": "2.0.0",
      "model_name": "TextStyleModel",
      "state": {
       "description_width": "",
       "font_size": null,
       "text_color": null
      }
     },
     "c5bd4cd41d5e41a4823c4c7a6504bd54": {
      "model_module": "@jupyter-widgets/base",
      "model_module_version": "2.0.0",
      "model_name": "LayoutModel",
      "state": {
       "width": "100%"
      }
     },
     "c5fc21378e2d445caba76af8d63516e5": {
      "model_module": "@jupyter-widgets/controls",
      "model_module_version": "2.0.0",
      "model_name": "VBoxModel",
      "state": {
       "children": [
        "IPY_MODEL_bb69961dd8ba474e8943e7a32a51278b",
        "IPY_MODEL_99ce33ad7af04fbbba3d4a0a5c730033"
       ],
       "layout": "IPY_MODEL_d4752d04c67f4a12a46b7251c008da7f"
      }
     },
     "c602d561a5c84c7ca0e8130880d265cd": {
      "model_module": "@jupyter-widgets/controls",
      "model_module_version": "2.0.0",
      "model_name": "TextStyleModel",
      "state": {
       "description_width": "",
       "font_size": null,
       "text_color": null
      }
     },
     "c61737c96e0340fb9def20848ae89eb3": {
      "model_module": "@jupyter-widgets/controls",
      "model_module_version": "2.0.0",
      "model_name": "LabelModel",
      "state": {
       "layout": "IPY_MODEL_e8643e0589cd46a699807e95a1d8523d",
       "style": "IPY_MODEL_a98bd797f67e4facb063dc2cd0572c7a",
       "value": "Name"
      }
     },
     "c61f5cb8d422407190b595b13bb96a3f": {
      "model_module": "@jupyter-widgets/base",
      "model_module_version": "2.0.0",
      "model_name": "LayoutModel",
      "state": {}
     },
     "c6470ad859a04c44b218e0013acf61e2": {
      "model_module": "@jupyter-widgets/base",
      "model_module_version": "2.0.0",
      "model_name": "LayoutModel",
      "state": {}
     },
     "c6533a910a604114a366b3385294cef2": {
      "model_module": "@jupyter-widgets/base",
      "model_module_version": "2.0.0",
      "model_name": "LayoutModel",
      "state": {
       "width": "100%"
      }
     },
     "c6571bd06a1742edb9ae5620e7013d46": {
      "model_module": "@jupyter-widgets/base",
      "model_module_version": "2.0.0",
      "model_name": "LayoutModel",
      "state": {}
     },
     "c67c68031f7c4a3996b31190af9278ae": {
      "model_module": "@jupyter-widgets/base",
      "model_module_version": "2.0.0",
      "model_name": "LayoutModel",
      "state": {
       "width": "100%"
      }
     },
     "c682db90156744a188bdd098165b2f78": {
      "model_module": "@jupyter-widgets/controls",
      "model_module_version": "2.0.0",
      "model_name": "DescriptionStyleModel",
      "state": {
       "description_width": ""
      }
     },
     "c6980ce0cf9b4320946011c5b8bea7b0": {
      "model_module": "@jupyter-widgets/controls",
      "model_module_version": "2.0.0",
      "model_name": "ButtonModel",
      "state": {
       "icon": "trash",
       "layout": "IPY_MODEL_8d28e0c7b0e14c27967d7526d8f041a9",
       "style": "IPY_MODEL_18f17ea5cc13408283b8912dda9fdd9b",
       "tooltip": null
      }
     },
     "c6ab871a2ff146febfee13693dd87076": {
      "model_module": "@jupyter-widgets/base",
      "model_module_version": "2.0.0",
      "model_name": "LayoutModel",
      "state": {
       "border_bottom": "none",
       "border_left": "none",
       "border_right": "none",
       "border_top": "none"
      }
     },
     "c6deae86ac094e04aa691ffbb6014a54": {
      "model_module": "@jupyter-widgets/base",
      "model_module_version": "2.0.0",
      "model_name": "LayoutModel",
      "state": {
       "width": "100%"
      }
     },
     "c6eae91a1ca2442bb260f2d02d44460b": {
      "model_module": "@jupyter-widgets/base",
      "model_module_version": "2.0.0",
      "model_name": "LayoutModel",
      "state": {
       "width": "100%"
      }
     },
     "c769b76b1109475a9266c56d57c00227": {
      "model_module": "@jupyter-widgets/base",
      "model_module_version": "2.0.0",
      "model_name": "LayoutModel",
      "state": {
       "width": "100%"
      }
     },
     "c76de9941b0f4b038acdae3b180b328b": {
      "model_module": "@jupyter-widgets/controls",
      "model_module_version": "2.0.0",
      "model_name": "LabelModel",
      "state": {
       "layout": "IPY_MODEL_d4ab704e3fd44729b70508ebec119d05",
       "style": "IPY_MODEL_56cf805566254818bef8b363b6a98c17",
       "value": "Age"
      }
     },
     "c7b023d36f8c454c939f1b11b2a100ac": {
      "model_module": "@jupyter-widgets/base",
      "model_module_version": "2.0.0",
      "model_name": "LayoutModel",
      "state": {
       "width": "100%"
      }
     },
     "c7b2dbfb2d8a4d5fb4b62569d8da6e54": {
      "model_module": "@jupyter-widgets/controls",
      "model_module_version": "2.0.0",
      "model_name": "LabelStyleModel",
      "state": {
       "description_width": "",
       "font_family": null,
       "font_size": null,
       "font_style": null,
       "font_variant": null,
       "font_weight": null,
       "text_color": null,
       "text_decoration": null
      }
     },
     "c7d2a33a9dfe48299f564a5b8c18e7d8": {
      "model_module": "@jupyter-widgets/controls",
      "model_module_version": "2.0.0",
      "model_name": "LabelStyleModel",
      "state": {
       "description_width": "",
       "font_family": null,
       "font_size": null,
       "font_style": null,
       "font_variant": null,
       "font_weight": null,
       "text_color": null,
       "text_decoration": null
      }
     },
     "c7e4fcd148fc4303b246856f05e6f70e": {
      "model_module": "@jupyter-widgets/controls",
      "model_module_version": "2.0.0",
      "model_name": "TextStyleModel",
      "state": {
       "description_width": "",
       "font_size": null,
       "text_color": null
      }
     },
     "c85927578841402ea95a3dcac81dd9ad": {
      "model_module": "@jupyter-widgets/controls",
      "model_module_version": "2.0.0",
      "model_name": "LabelModel",
      "state": {
       "layout": "IPY_MODEL_c877b56942cc4b8a98a4001032a6aee1",
       "style": "IPY_MODEL_eae54e4ecb804169bedcdb9c7daa0f64",
       "value": "City"
      }
     },
     "c877b56942cc4b8a98a4001032a6aee1": {
      "model_module": "@jupyter-widgets/base",
      "model_module_version": "2.0.0",
      "model_name": "LayoutModel",
      "state": {
       "width": "100%"
      }
     },
     "c87e158287b141c4b74e19afd3440d81": {
      "model_module": "@jupyter-widgets/controls",
      "model_module_version": "2.0.0",
      "model_name": "ButtonModel",
      "state": {
       "description": "Add key value",
       "icon": "plus",
       "layout": "IPY_MODEL_a4b15bf9b0114a6d88c7279c90c74037",
       "style": "IPY_MODEL_5b4d641235a34a18bd28890d9d9d4157",
       "tooltip": null
      }
     },
     "c8bd91e8876a4bf2862ed9bb3c43247a": {
      "model_module": "@jupyter-widgets/controls",
      "model_module_version": "2.0.0",
      "model_name": "LabelModel",
      "state": {
       "layout": "IPY_MODEL_7a00016322814538aa2d20f3cb17666f",
       "style": "IPY_MODEL_e830bb55dc964588b7c21cd81e00be85"
      }
     },
     "c8d48c0ab30745d2a8131b7fe569e58f": {
      "model_module": "@jupyter-widgets/base",
      "model_module_version": "2.0.0",
      "model_name": "LayoutModel",
      "state": {}
     },
     "c93a691d79304efaa8ded31cfefd1e51": {
      "model_module": "@jupyter-widgets/base",
      "model_module_version": "2.0.0",
      "model_name": "LayoutModel",
      "state": {}
     },
     "c981ad9c692248c48ef2f7104f4d0473": {
      "model_module": "@jupyter-widgets/controls",
      "model_module_version": "2.0.0",
      "model_name": "TextStyleModel",
      "state": {
       "description_width": "",
       "font_size": null,
       "text_color": null
      }
     },
     "c9901d26c6ab4f1292709bf7ac6215ca": {
      "model_module": "@jupyter-widgets/base",
      "model_module_version": "2.0.0",
      "model_name": "LayoutModel",
      "state": {}
     },
     "c9b0769dc0eb47bca140d07d2f7411ae": {
      "model_module": "@jupyter-widgets/base",
      "model_module_version": "2.0.0",
      "model_name": "LayoutModel",
      "state": {
       "display": "none"
      }
     },
     "c9ea2908cf78492b94bd30c3e147ef6f": {
      "model_module": "@jupyter-widgets/base",
      "model_module_version": "2.0.0",
      "model_name": "LayoutModel",
      "state": {
       "width": "100%"
      }
     },
     "c9f529f096cf41249a48834bd92c1bfc": {
      "model_module": "@jupyter-widgets/base",
      "model_module_version": "2.0.0",
      "model_name": "LayoutModel",
      "state": {
       "width": "100%"
      }
     },
     "ca21d095731741a985fff045057dadb4": {
      "model_module": "@jupyter-widgets/controls",
      "model_module_version": "2.0.0",
      "model_name": "LabelStyleModel",
      "state": {
       "description_width": "",
       "font_family": null,
       "font_size": null,
       "font_style": null,
       "font_variant": null,
       "font_weight": null,
       "text_color": null,
       "text_decoration": null
      }
     },
     "ca324855768645ccb19361c87a158ff4": {
      "model_module": "@jupyter-widgets/controls",
      "model_module_version": "2.0.0",
      "model_name": "IntTextModel",
      "state": {
       "layout": "IPY_MODEL_e56c9388878349f3a9e13d5685cbdeba",
       "step": 1,
       "style": "IPY_MODEL_ffa091bf77df42a08cc4e8fc123a381c",
       "tooltip": "Age"
      }
     },
     "ca3b40c6e34848a9bb8e520328ba74ce": {
      "model_module": "@jupyter-widgets/controls",
      "model_module_version": "2.0.0",
      "model_name": "VBoxModel",
      "state": {
       "children": [
        "IPY_MODEL_5d8db0f8976c43ef92727ea85d9b9f23",
        "IPY_MODEL_cb7cbb79d5324b05b4da3895c9b56ef7",
        "IPY_MODEL_42555bf5c85043f681f1d33420c7c7be"
       ],
       "layout": "IPY_MODEL_86eea04638f9474d85e4c6e8312a5570"
      }
     },
     "ca53697248bc4b0294c50a26a89631b1": {
      "model_module": "@jupyter-widgets/base",
      "model_module_version": "2.0.0",
      "model_name": "LayoutModel",
      "state": {
       "width": "100%"
      }
     },
     "ca540d8e6957405c8bf87866ec51d938": {
      "model_module": "@jupyter-widgets/controls",
      "model_module_version": "2.0.0",
      "model_name": "TextModel",
      "state": {
       "layout": "IPY_MODEL_500c28ec60dc457596d17dd1aad37a0e",
       "style": "IPY_MODEL_074968a0e3e44bd8860b85a94b619a5c",
       "tooltip": "Email",
       "value": "abc@email.com"
      }
     },
     "ca698159aeb94b06b7ae63d7ded650f6": {
      "model_module": "@jupyter-widgets/base",
      "model_module_version": "2.0.0",
      "model_name": "LayoutModel",
      "state": {
       "width": "33%"
      }
     },
     "ca8a3913adb54e32984895ba84c84419": {
      "model_module": "@jupyter-widgets/base",
      "model_module_version": "2.0.0",
      "model_name": "LayoutModel",
      "state": {}
     },
     "cae568d46f384bd48c86ae62e98c8b65": {
      "model_module": "@jupyter-widgets/base",
      "model_module_version": "2.0.0",
      "model_name": "LayoutModel",
      "state": {}
     },
     "caf15c7e13da4bd8a645ebb2f3787d04": {
      "model_module": "@jupyter-widgets/controls",
      "model_module_version": "2.0.0",
      "model_name": "LabelStyleModel",
      "state": {
       "description_width": "",
       "font_family": null,
       "font_size": null,
       "font_style": null,
       "font_variant": null,
       "font_weight": null,
       "text_color": null,
       "text_decoration": null
      }
     },
     "cb036752138d44d1bfb6fd77ae151898": {
      "model_module": "@jupyter-widgets/controls",
      "model_module_version": "2.0.0",
      "model_name": "LabelStyleModel",
      "state": {
       "description_width": "",
       "font_family": null,
       "font_size": null,
       "font_style": null,
       "font_variant": null,
       "font_weight": null,
       "text_color": null,
       "text_decoration": null
      }
     },
     "cb0b4616bff34970a5f9557db4f4d22c": {
      "model_module": "@jupyter-widgets/controls",
      "model_module_version": "2.0.0",
      "model_name": "ButtonStyleModel",
      "state": {
       "font_family": null,
       "font_size": null,
       "font_style": null,
       "font_variant": null,
       "font_weight": null,
       "text_color": null,
       "text_decoration": null
      }
     },
     "cb4d99f22b884df7a140ffccdb8bc759": {
      "model_module": "@jupyter-widgets/base",
      "model_module_version": "2.0.0",
      "model_name": "LayoutModel",
      "state": {
       "width": "33%"
      }
     },
     "cb7cbb79d5324b05b4da3895c9b56ef7": {
      "model_module": "@jupyter-widgets/output",
      "model_module_version": "1.0.0",
      "model_name": "OutputModel",
      "state": {
       "layout": "IPY_MODEL_2756c0e964634575859a0ac2f6508eed",
       "outputs": [
        {
         "data": {
          "application/vnd.jupyter.widget-view+json": {
           "model_id": "c335555e800f4bbca2d9d8e6551bcaff",
           "version_major": 2,
           "version_minor": 0
          },
          "text/plain": "VBox(children=(HBox(children=(Label(value='Age', layout=Layout(width='100%')), IntText(value=30, layout=Layout…"
         },
         "metadata": {},
         "output_type": "display_data"
        }
       ]
      }
     },
     "cb81433ac090417396a5237f17233d79": {
      "model_module": "@jupyter-widgets/controls",
      "model_module_version": "2.0.0",
      "model_name": "ButtonModel",
      "state": {
       "icon": "trash",
       "layout": "IPY_MODEL_7721d3c5211b41a7942bee6bf9b3fa16",
       "style": "IPY_MODEL_8ae1c105a94a4a9f8e489dd2a7df36a5",
       "tooltip": null
      }
     },
     "cbdf5dd45a2c484487188cb6f6dca6c3": {
      "model_module": "@jupyter-widgets/controls",
      "model_module_version": "2.0.0",
      "model_name": "TextModel",
      "state": {
       "layout": "IPY_MODEL_2456e6a9eefe44ec86f45af49d2b5592",
       "style": "IPY_MODEL_59542fefb0434f7291e60e864764cab6",
       "tooltip": "Hostname",
       "value": "default.com"
      }
     },
     "cbe2253a55914149932482694670326e": {
      "model_module": "@jupyter-widgets/controls",
      "model_module_version": "2.0.0",
      "model_name": "VBoxModel",
      "state": {
       "children": [
        "IPY_MODEL_354c570a875e462491559cbde6eafdb2",
        "IPY_MODEL_716e753807e245bfada4d799f1f9f597"
       ],
       "layout": "IPY_MODEL_2e62414efa7b4a25b267963cbbabe116"
      }
     },
     "cbe94e17a4ea4218b3ba1866da9d58bc": {
      "model_module": "@jupyter-widgets/controls",
      "model_module_version": "2.0.0",
      "model_name": "VBoxModel",
      "state": {
       "children": [
        "IPY_MODEL_7744013bc6a84eb4b464d1f6ec16be28",
        "IPY_MODEL_b30938fda262438c9a6846c6df7b7009",
        "IPY_MODEL_1913411a37b14d0c96a04770e3f49ce5",
        "IPY_MODEL_18ed62a918f345b6ae2b75dafdf68f29",
        "IPY_MODEL_e00efb8543b742ffb2826717f7ad099c",
        "IPY_MODEL_8067effeb5344210a551993c2193201c"
       ],
       "layout": "IPY_MODEL_62d41b6bd78a4fa5952844ebe8e3745e"
      }
     },
     "cc34cac3179240f18b8ca2151dfe95b7": {
      "model_module": "@jupyter-widgets/base",
      "model_module_version": "2.0.0",
      "model_name": "LayoutModel",
      "state": {
       "width": "100%"
      }
     },
     "cc369f782e354b66aa7433b0a5a73072": {
      "model_module": "@jupyter-widgets/base",
      "model_module_version": "2.0.0",
      "model_name": "LayoutModel",
      "state": {
       "border_bottom": "none",
       "border_left": "none",
       "border_right": "none",
       "border_top": "none",
       "width": "100%"
      }
     },
     "cc68ab44e96e41e78137b0d61ef08776": {
      "model_module": "@jupyter-widgets/controls",
      "model_module_version": "2.0.0",
      "model_name": "TextStyleModel",
      "state": {
       "description_width": "",
       "font_size": null,
       "text_color": null
      }
     },
     "cc75bd4c9dab451b8563702eac156316": {
      "model_module": "@jupyter-widgets/base",
      "model_module_version": "2.0.0",
      "model_name": "LayoutModel",
      "state": {}
     },
     "cca27c279f754334baa48c351e881ff9": {
      "model_module": "@jupyter-widgets/controls",
      "model_module_version": "2.0.0",
      "model_name": "TextStyleModel",
      "state": {
       "description_width": "",
       "font_size": null,
       "text_color": null
      }
     },
     "ccb674bc16e8475787bb844b40b60107": {
      "model_module": "@jupyter-widgets/controls",
      "model_module_version": "2.0.0",
      "model_name": "TextStyleModel",
      "state": {
       "description_width": "",
       "font_size": null,
       "text_color": null
      }
     },
     "ccbbd39dd0944f10ae5420f9e6047ff1": {
      "model_module": "@jupyter-widgets/base",
      "model_module_version": "2.0.0",
      "model_name": "LayoutModel",
      "state": {}
     },
     "cce1c344e18f4f67a9b2309c176d2a79": {
      "model_module": "@jupyter-widgets/base",
      "model_module_version": "2.0.0",
      "model_name": "LayoutModel",
      "state": {
       "display": "none"
      }
     },
     "cd40b4c58daa4180bb8afe7d3f5f9d5d": {
      "model_module": "@jupyter-widgets/controls",
      "model_module_version": "2.0.0",
      "model_name": "LabelStyleModel",
      "state": {
       "description_width": "",
       "font_family": null,
       "font_size": null,
       "font_style": null,
       "font_variant": null,
       "font_weight": null,
       "text_color": null,
       "text_decoration": null
      }
     },
     "cd77039873ed4519968ee47c29c8c1f7": {
      "model_module": "@jupyter-widgets/controls",
      "model_module_version": "2.0.0",
      "model_name": "TextStyleModel",
      "state": {
       "description_width": "",
       "font_size": null,
       "text_color": null
      }
     },
     "cd7dffd3649c4f6e938e4f7d18cc8c50": {
      "model_module": "@jupyter-widgets/controls",
      "model_module_version": "2.0.0",
      "model_name": "TextStyleModel",
      "state": {
       "description_width": "",
       "font_size": null,
       "text_color": null
      }
     },
     "ce103400728a4df6a036d1c9e43b8d62": {
      "model_module": "@jupyter-widgets/controls",
      "model_module_version": "2.0.0",
      "model_name": "HBoxModel",
      "state": {
       "children": [
        "IPY_MODEL_e12dffa4d7904c65b4157523a370df07"
       ],
       "layout": "IPY_MODEL_fdb73824392f494cb6eb1bf40388bb78"
      }
     },
     "ce22a63d498b42f185f7e27218e7b27f": {
      "model_module": "@jupyter-widgets/base",
      "model_module_version": "2.0.0",
      "model_name": "LayoutModel",
      "state": {
       "width": "100%"
      }
     },
     "ce2b75345e2c48d4af329c72a74f543b": {
      "model_module": "@jupyter-widgets/controls",
      "model_module_version": "2.0.0",
      "model_name": "DescriptionStyleModel",
      "state": {
       "description_width": ""
      }
     },
     "ce2ca7b53822471799454fe7987b0ddd": {
      "model_module": "@jupyter-widgets/controls",
      "model_module_version": "2.0.0",
      "model_name": "TextModel",
      "state": {
       "layout": "IPY_MODEL_2776e8a333d04654aa7edc3fe4ba5803",
       "style": "IPY_MODEL_f78cf242229b46c1a75048d310734e1d",
       "tooltip": "Street"
      }
     },
     "cea8f40ce2a64523847429925835151a": {
      "model_module": "@jupyter-widgets/base",
      "model_module_version": "2.0.0",
      "model_name": "LayoutModel",
      "state": {}
     },
     "cedcc4f93ad94152973b2eb8f87fc7f4": {
      "model_module": "@jupyter-widgets/controls",
      "model_module_version": "2.0.0",
      "model_name": "LabelModel",
      "state": {
       "layout": "IPY_MODEL_8e0b0f811d59499287f7410630e2be3e",
       "style": "IPY_MODEL_944b1301f86b4d78b0d53e644f7b5626",
       "value": "Email"
      }
     },
     "cf03e0f6a1114b0fb7bcc50ff4c7ed43": {
      "model_module": "@jupyter-widgets/controls",
      "model_module_version": "2.0.0",
      "model_name": "LabelStyleModel",
      "state": {
       "description_width": "",
       "font_family": null,
       "font_size": null,
       "font_style": null,
       "font_variant": null,
       "font_weight": null,
       "text_color": null,
       "text_decoration": null
      }
     },
     "cf0ebb3fe2b149608b60803df8ec5233": {
      "model_module": "@jupyter-widgets/controls",
      "model_module_version": "2.0.0",
      "model_name": "VBoxModel",
      "state": {
       "children": [
        "IPY_MODEL_0bbbbcd168174bfd9523a05b8a96ff31",
        "IPY_MODEL_1f8c180038f145be8906b25cf2100d6b"
       ],
       "layout": "IPY_MODEL_b8d45764e7b84b67bc7f3a3e523d2007"
      }
     },
     "cf4738c902874f3f8c2fdd3b72a0ba7e": {
      "model_module": "@jupyter-widgets/controls",
      "model_module_version": "2.0.0",
      "model_name": "HBoxModel",
      "state": {
       "children": [
        "IPY_MODEL_29c125fb438c4a9e9c4ea6269aa49e92",
        "IPY_MODEL_7454878247ba421f9f51737fa302a63f"
       ],
       "layout": "IPY_MODEL_267227ccadad44f1b4f035f36aba6e5f"
      }
     },
     "cf573637d9c04c1d86e445e18dd959eb": {
      "model_module": "@jupyter-widgets/controls",
      "model_module_version": "2.0.0",
      "model_name": "LabelStyleModel",
      "state": {
       "description_width": "",
       "font_family": null,
       "font_size": null,
       "font_style": null,
       "font_variant": null,
       "font_weight": null,
       "text_color": null,
       "text_decoration": null
      }
     },
     "cf635f862f0649b9a274170175a611bf": {
      "model_module": "@jupyter-widgets/base",
      "model_module_version": "2.0.0",
      "model_name": "LayoutModel",
      "state": {}
     },
     "cf6608061de94bc0807f76c084c09638": {
      "model_module": "@jupyter-widgets/controls",
      "model_module_version": "2.0.0",
      "model_name": "TextModel",
      "state": {
       "layout": "IPY_MODEL_f70465c976d441adbe8a379b7d91f1e9",
       "style": "IPY_MODEL_e25fe58839ce4cb79ca27b65d5058ab3",
       "tooltip": "Name"
      }
     },
     "cf73a6174cd84bdf874cc9c26e2a4e87": {
      "model_module": "@jupyter-widgets/controls",
      "model_module_version": "2.0.0",
      "model_name": "TextModel",
      "state": {
       "layout": "IPY_MODEL_34f2ac825af44906a0d5d433b7660177",
       "style": "IPY_MODEL_23606edf47b24860bddefda17763ce19",
       "tooltip": "Street"
      }
     },
     "cf7c22d7cf564d349bd1603261335131": {
      "model_module": "@jupyter-widgets/base",
      "model_module_version": "2.0.0",
      "model_name": "LayoutModel",
      "state": {}
     },
     "cfa1abc4adf141ac90a67a098e240625": {
      "model_module": "@jupyter-widgets/controls",
      "model_module_version": "2.0.0",
      "model_name": "AccordionModel",
      "state": {
       "children": [
        "IPY_MODEL_cfee68993f9f4384a5cf9b851ffc0c78"
       ],
       "layout": "IPY_MODEL_1bb1ac14bc5d4a88bdec30534b7aa183",
       "selected_index": 0,
       "titles": [
        "Category"
       ]
      }
     },
     "cfb7a616abab4c7aa59a530e455771a3": {
      "model_module": "@jupyter-widgets/controls",
      "model_module_version": "2.0.0",
      "model_name": "HBoxModel",
      "state": {
       "children": [
        "IPY_MODEL_02090325cde14004acf99a67ffec07a4",
        "IPY_MODEL_d5fb6a61e6a7459a994f659c16e6e278"
       ],
       "layout": "IPY_MODEL_8ca8f68e359845b4ae3e22694c7a5ef2"
      }
     },
     "cfd9c2badd6f4af98d85b1200ba565f1": {
      "model_module": "@jupyter-widgets/base",
      "model_module_version": "2.0.0",
      "model_name": "LayoutModel",
      "state": {
       "width": "33%"
      }
     },
     "cfee68993f9f4384a5cf9b851ffc0c78": {
      "model_module": "@jupyter-widgets/controls",
      "model_module_version": "2.0.0",
      "model_name": "VBoxModel",
      "state": {
       "children": [
        "IPY_MODEL_ab796a99266d4cb7a1c577de80c14625",
        "IPY_MODEL_0d6b41a227d3445e801beeddecd48988",
        "IPY_MODEL_677604b5b10b431b8258d07eba37722c"
       ],
       "layout": "IPY_MODEL_6b386a090855499d92c5daf5614a102a"
      }
     },
     "d0167566ca5946c09dbb0f06b650784d": {
      "model_module": "@jupyter-widgets/controls",
      "model_module_version": "2.0.0",
      "model_name": "TextStyleModel",
      "state": {
       "description_width": "",
       "font_size": null,
       "text_color": null
      }
     },
     "d048dec961f34d14920da7e5625c8f51": {
      "model_module": "@jupyter-widgets/controls",
      "model_module_version": "2.0.0",
      "model_name": "LabelModel",
      "state": {
       "layout": "IPY_MODEL_b8aa6ea403184dc5b6f063640940a3a0",
       "style": "IPY_MODEL_96470d8bb2ca43f2b40c4b4fe82c6ac6"
      }
     },
     "d06cb7907aec4297829a48fbaf357d76": {
      "model_module": "@jupyter-widgets/controls",
      "model_module_version": "2.0.0",
      "model_name": "VBoxModel",
      "state": {
       "children": [
        "IPY_MODEL_63da94f5e02248fe95745d0e62b131f1"
       ],
       "layout": "IPY_MODEL_7a95936888804d0a8714192557f2ffea"
      }
     },
     "d073c11d6ae74e11a118fa6fd03b45ac": {
      "model_module": "@jupyter-widgets/controls",
      "model_module_version": "2.0.0",
      "model_name": "LabelStyleModel",
      "state": {
       "description_width": "",
       "font_family": null,
       "font_size": null,
       "font_style": null,
       "font_variant": null,
       "font_weight": null,
       "text_color": null,
       "text_decoration": null
      }
     },
     "d087908229d34c0694fe0600a1c8a5cf": {
      "model_module": "@jupyter-widgets/controls",
      "model_module_version": "2.0.0",
      "model_name": "VBoxModel",
      "state": {
       "children": [
        "IPY_MODEL_2b9b42c0dbcc40cbbd383d9e987291e3"
       ],
       "layout": "IPY_MODEL_45b82df745474ff2925e6845a12ab801"
      }
     },
     "d0b7f5a6c84543eb9c35ac66924ead22": {
      "model_module": "@jupyter-widgets/controls",
      "model_module_version": "2.0.0",
      "model_name": "IntTextModel",
      "state": {
       "layout": "IPY_MODEL_fc04c53ade5c47da8317369a471dc07f",
       "step": 1,
       "style": "IPY_MODEL_48df9e6c963146c79acb07cb13e58f0f",
       "tooltip": "Age",
       "value": 30
      }
     },
     "d0eba51c7c3e476981ec7f3197fe9b85": {
      "model_module": "@jupyter-widgets/controls",
      "model_module_version": "2.0.0",
      "model_name": "IntTextModel",
      "state": {
       "layout": "IPY_MODEL_8e3e7a79cfac4d2ca1cf443313682240",
       "step": 1,
       "style": "IPY_MODEL_a69aa4d768dc4e67bca92394159b77ff",
       "tooltip": "Value",
       "value": 10
      }
     },
     "d16626eb988645c4b276f2592c2bdbfe": {
      "model_module": "@jupyter-widgets/controls",
      "model_module_version": "2.0.0",
      "model_name": "TextStyleModel",
      "state": {
       "description_width": "",
       "font_size": null,
       "text_color": null
      }
     },
     "d196db9971e64b10912892027abf94d9": {
      "model_module": "@jupyter-widgets/base",
      "model_module_version": "2.0.0",
      "model_name": "LayoutModel",
      "state": {
       "width": "100%"
      }
     },
     "d198091b94ba4dc896270fd8e129a0c0": {
      "model_module": "@jupyter-widgets/controls",
      "model_module_version": "2.0.0",
      "model_name": "LabelModel",
      "state": {
       "layout": "IPY_MODEL_b228750cfbd24189be43af7774e9c73a",
       "style": "IPY_MODEL_03ca18afdc374a4682afec6c84adb44f"
      }
     },
     "d19d11811da442ea92fafec0403e2401": {
      "model_module": "@jupyter-widgets/base",
      "model_module_version": "2.0.0",
      "model_name": "LayoutModel",
      "state": {}
     },
     "d1d73fdcc07243b3a0983f4f22b3895b": {
      "model_module": "@jupyter-widgets/controls",
      "model_module_version": "2.0.0",
      "model_name": "HBoxModel",
      "state": {
       "children": [
        "IPY_MODEL_d38eacdc06be49ab98d37b7c4720b0d9",
        "IPY_MODEL_17a2f7021e6e4e1e8e035a1f76b797ec"
       ],
       "layout": "IPY_MODEL_176461c27787486187da0283863102c0"
      }
     },
     "d27e1d6cfc274f6fb35a1ef42fbcc65c": {
      "model_module": "@jupyter-widgets/base",
      "model_module_version": "2.0.0",
      "model_name": "LayoutModel",
      "state": {
       "width": "100%"
      }
     },
     "d33c93941e1749c2bd0593f95ad88830": {
      "model_module": "@jupyter-widgets/base",
      "model_module_version": "2.0.0",
      "model_name": "LayoutModel",
      "state": {
       "width": "100%"
      }
     },
     "d34fce72ea0b44a29f94eb5dd82a0ecd": {
      "model_module": "@jupyter-widgets/base",
      "model_module_version": "2.0.0",
      "model_name": "LayoutModel",
      "state": {
       "display": "none"
      }
     },
     "d359b541ad27478bb2e293772690c95e": {
      "model_module": "@jupyter-widgets/base",
      "model_module_version": "2.0.0",
      "model_name": "LayoutModel",
      "state": {
       "width": "100%"
      }
     },
     "d38eacdc06be49ab98d37b7c4720b0d9": {
      "model_module": "@jupyter-widgets/controls",
      "model_module_version": "2.0.0",
      "model_name": "ButtonModel",
      "state": {
       "button_style": "warning",
       "description": "Cancel",
       "icon": "times",
       "layout": "IPY_MODEL_ece40ef755c54b39ba4fa12321baf787",
       "style": "IPY_MODEL_ad7b1b7a2ccd4111920cb9bdde5b9980",
       "tooltip": "Undo all changes"
      }
     },
     "d399c944fc93429eb9edfe9c3c5951e1": {
      "model_module": "@jupyter-widgets/controls",
      "model_module_version": "2.0.0",
      "model_name": "LabelModel",
      "state": {
       "layout": "IPY_MODEL_f482a53687bd47b38879116c9349100c",
       "style": "IPY_MODEL_77c1af98d68a4dd1b457edd5440752a5",
       "value": "Adress"
      }
     },
     "d39cdf83fe4a4de8ba61de7a7671030b": {
      "model_module": "@jupyter-widgets/controls",
      "model_module_version": "2.0.0",
      "model_name": "ButtonStyleModel",
      "state": {
       "font_family": null,
       "font_size": null,
       "font_style": null,
       "font_variant": null,
       "font_weight": null,
       "text_color": null,
       "text_decoration": null
      }
     },
     "d4026f172add4cd78b6aa7d6a7a64756": {
      "model_module": "@jupyter-widgets/controls",
      "model_module_version": "2.0.0",
      "model_name": "VBoxModel",
      "state": {
       "children": [
        "IPY_MODEL_1cb2345651dc49e0aee7563ac45e21b9",
        "IPY_MODEL_2cf3545ca2e840f6bedc2e26da4c88a3",
        "IPY_MODEL_b3be7b0300a747538b62b39d75659be9",
        "IPY_MODEL_9fc122de04d140e7882c810cb257876b"
       ],
       "layout": "IPY_MODEL_e6c1fe119b5145ddaa336add8a369a86"
      }
     },
     "d4752d04c67f4a12a46b7251c008da7f": {
      "model_module": "@jupyter-widgets/base",
      "model_module_version": "2.0.0",
      "model_name": "LayoutModel",
      "state": {}
     },
     "d48956a343324df99057df4a0b5fb8f4": {
      "model_module": "@jupyter-widgets/controls",
      "model_module_version": "2.0.0",
      "model_name": "LabelModel",
      "state": {
       "layout": "IPY_MODEL_d80e124ae2364d45a042aa64ffc2aeaa",
       "style": "IPY_MODEL_9b43aca51ecb45cb982c151bd991aa47",
       "value": "Email"
      }
     },
     "d49dc2bc11874763bbf3128f40d4fa95": {
      "model_module": "@jupyter-widgets/controls",
      "model_module_version": "2.0.0",
      "model_name": "AccordionModel",
      "state": {
       "children": [
        "IPY_MODEL_2629a429c7a548cb8513a8838a349e71"
       ],
       "layout": "IPY_MODEL_9f9df334adb64707a51247d532d9cdbb",
       "selected_index": 0,
       "titles": [
        "Category"
       ]
      }
     },
     "d4ab704e3fd44729b70508ebec119d05": {
      "model_module": "@jupyter-widgets/base",
      "model_module_version": "2.0.0",
      "model_name": "LayoutModel",
      "state": {
       "width": "100%"
      }
     },
     "d4e1061cf39d461b86f39a5a68d84909": {
      "model_module": "@jupyter-widgets/controls",
      "model_module_version": "2.0.0",
      "model_name": "DescriptionStyleModel",
      "state": {
       "description_width": ""
      }
     },
     "d540b7d27c5c4d7c9417036b325338cd": {
      "model_module": "@jupyter-widgets/controls",
      "model_module_version": "2.0.0",
      "model_name": "VBoxModel",
      "state": {
       "children": [
        "IPY_MODEL_7803277d27614945bb1fd2887f6a3273",
        "IPY_MODEL_2e38277a32cc4609a4859aa0ac82c0ff",
        "IPY_MODEL_70abb278e39f448290cdfe8393de295d"
       ],
       "layout": "IPY_MODEL_e92697436a434465a2ada0795498c8c9"
      }
     },
     "d56ad728f60945c38da2bf73123dd3cb": {
      "model_module": "@jupyter-widgets/controls",
      "model_module_version": "2.0.0",
      "model_name": "LabelModel",
      "state": {
       "layout": "IPY_MODEL_f8380e5348fc41fda91d19223d424e88",
       "style": "IPY_MODEL_0310478f7ee549b7a5487256e6fbc388",
       "value": "Height"
      }
     },
     "d5baa3a67e8b4f28b6392254575b0c32": {
      "model_module": "@jupyter-widgets/controls",
      "model_module_version": "2.0.0",
      "model_name": "LabelStyleModel",
      "state": {
       "description_width": "",
       "font_family": null,
       "font_size": null,
       "font_style": null,
       "font_variant": null,
       "font_weight": null,
       "text_color": null,
       "text_decoration": null
      }
     },
     "d5bbbb105efa4619abd9e1c120e9a1b8": {
      "model_module": "@jupyter-widgets/base",
      "model_module_version": "2.0.0",
      "model_name": "LayoutModel",
      "state": {}
     },
     "d5bcd284518e48e4ad29d40198fcacf4": {
      "model_module": "@jupyter-widgets/controls",
      "model_module_version": "2.0.0",
      "model_name": "TextModel",
      "state": {
       "layout": "IPY_MODEL_d359b541ad27478bb2e293772690c95e",
       "style": "IPY_MODEL_362f31f4f71d49bd98d91874284af0ec"
      }
     },
     "d5fb6a61e6a7459a994f659c16e6e278": {
      "model_module": "@jupyter-widgets/controls",
      "model_module_version": "2.0.0",
      "model_name": "TextModel",
      "state": {
       "layout": "IPY_MODEL_fab95d55053c46d5b626e3954dc9aa98",
       "style": "IPY_MODEL_5ac140c397474d7dae2062ee461c7da5",
       "tooltip": "Name"
      }
     },
     "d6078097c598497abdba558da5bb7fd2": {
      "model_module": "@jupyter-widgets/base",
      "model_module_version": "2.0.0",
      "model_name": "LayoutModel",
      "state": {
       "width": "100%"
      }
     },
     "d65361c15ce5405e82a97285a225b5f4": {
      "model_module": "@jupyter-widgets/base",
      "model_module_version": "2.0.0",
      "model_name": "LayoutModel",
      "state": {}
     },
     "d6577eef2dfc4f84a2eeb91da96d7936": {
      "model_module": "@jupyter-widgets/controls",
      "model_module_version": "2.0.0",
      "model_name": "ButtonStyleModel",
      "state": {
       "font_family": null,
       "font_size": null,
       "font_style": null,
       "font_variant": null,
       "font_weight": null,
       "text_color": null,
       "text_decoration": null
      }
     },
     "d65cff3d0bf741678fbe427731e3e856": {
      "model_module": "@jupyter-widgets/base",
      "model_module_version": "2.0.0",
      "model_name": "LayoutModel",
      "state": {}
     },
     "d688c9dd818f4a2da3f2f815b61f757a": {
      "model_module": "@jupyter-widgets/base",
      "model_module_version": "2.0.0",
      "model_name": "LayoutModel",
      "state": {
       "width": "100%"
      }
     },
     "d68a944696594b189e0e79278462e5d6": {
      "model_module": "@jupyter-widgets/controls",
      "model_module_version": "2.0.0",
      "model_name": "LabelModel",
      "state": {
       "layout": "IPY_MODEL_b51304d47cd0432787e4c0e135876e43",
       "style": "IPY_MODEL_8b76a19475cb46a0b9ad49f146dbaae1",
       "value": "Value"
      }
     },
     "d6acdda4cba3428b8aa80c2438715077": {
      "model_module": "@jupyter-widgets/controls",
      "model_module_version": "2.0.0",
      "model_name": "LabelModel",
      "state": {
       "layout": "IPY_MODEL_5fdbfb384cc249acac3a550966db4c8b",
       "style": "IPY_MODEL_f135bfe1d1914828b96ec9c0e924b8d2",
       "value": "Height"
      }
     },
     "d6b16325384c486a87b15a2ffb5678f6": {
      "model_module": "@jupyter-widgets/base",
      "model_module_version": "2.0.0",
      "model_name": "LayoutModel",
      "state": {
       "width": "100%"
      }
     },
     "d6d775d34b7f4e3ebcfc6b028be5e4d5": {
      "model_module": "@jupyter-widgets/base",
      "model_module_version": "2.0.0",
      "model_name": "LayoutModel",
      "state": {
       "width": "100%"
      }
     },
     "d6d9c54f2ff74251a36e86e53b4f719a": {
      "model_module": "@jupyter-widgets/base",
      "model_module_version": "2.0.0",
      "model_name": "LayoutModel",
      "state": {}
     },
     "d7125d69adc540ae830e4de9d2bed3ef": {
      "model_module": "@jupyter-widgets/base",
      "model_module_version": "2.0.0",
      "model_name": "LayoutModel",
      "state": {
       "width": "100%"
      }
     },
     "d7219f73c29e4f609e868dca85d6511d": {
      "model_module": "@jupyter-widgets/controls",
      "model_module_version": "2.0.0",
      "model_name": "HBoxModel",
      "state": {
       "children": [
        "IPY_MODEL_b7fb75acf9924a2c8792149c364eee1e"
       ],
       "layout": "IPY_MODEL_af68f54f8aa6416298435580b9cad1d1"
      }
     },
     "d729ab8ab0e94172ae14b78201241ad9": {
      "model_module": "@jupyter-widgets/base",
      "model_module_version": "2.0.0",
      "model_name": "LayoutModel",
      "state": {}
     },
     "d766adf16ed348dc896eadaa72cfe424": {
      "model_module": "@jupyter-widgets/base",
      "model_module_version": "2.0.0",
      "model_name": "LayoutModel",
      "state": {}
     },
     "d77fb19b98a146608e1dc5597ae7da4c": {
      "model_module": "@jupyter-widgets/base",
      "model_module_version": "2.0.0",
      "model_name": "LayoutModel",
      "state": {
       "width": "100%"
      }
     },
     "d793ebffad8f498aad7d5a3c01056c8f": {
      "model_module": "@jupyter-widgets/base",
      "model_module_version": "2.0.0",
      "model_name": "LayoutModel",
      "state": {
       "display": "none"
      }
     },
     "d7dbd8751e174f1dbf9dde4947d651a3": {
      "model_module": "@jupyter-widgets/controls",
      "model_module_version": "2.0.0",
      "model_name": "TextStyleModel",
      "state": {
       "description_width": "",
       "font_size": null,
       "text_color": null
      }
     },
     "d80e124ae2364d45a042aa64ffc2aeaa": {
      "model_module": "@jupyter-widgets/base",
      "model_module_version": "2.0.0",
      "model_name": "LayoutModel",
      "state": {
       "width": "100%"
      }
     },
     "d8789c1e5add4e9f87078de041c6e0cc": {
      "model_module": "@jupyter-widgets/controls",
      "model_module_version": "2.0.0",
      "model_name": "LabelStyleModel",
      "state": {
       "description_width": "",
       "font_family": null,
       "font_size": null,
       "font_style": null,
       "font_variant": null,
       "font_weight": null,
       "text_color": null,
       "text_decoration": null
      }
     },
     "d8833662a01e4cd8aa502962bb12f23e": {
      "model_module": "@jupyter-widgets/controls",
      "model_module_version": "2.0.0",
      "model_name": "HBoxModel",
      "state": {
       "children": [
        "IPY_MODEL_c76de9941b0f4b038acdae3b180b328b",
        "IPY_MODEL_1978a1c363ab43a5a0caefdadb483dee"
       ],
       "layout": "IPY_MODEL_f59b68768c114c51b0a1b12dde390966"
      }
     },
     "d8cf44fae65f423da9c98e94807ff1d0": {
      "model_module": "@jupyter-widgets/base",
      "model_module_version": "2.0.0",
      "model_name": "LayoutModel",
      "state": {
       "width": "100%"
      }
     },
     "d8f45fc3e9ab4e458edc86e3c0ea9171": {
      "model_module": "@jupyter-widgets/controls",
      "model_module_version": "2.0.0",
      "model_name": "LabelStyleModel",
      "state": {
       "description_width": "",
       "font_family": null,
       "font_size": null,
       "font_style": null,
       "font_variant": null,
       "font_weight": null,
       "text_color": null,
       "text_decoration": null
      }
     },
     "d90430ce94ae4bc0bae5be425fb501e0": {
      "model_module": "@jupyter-widgets/controls",
      "model_module_version": "2.0.0",
      "model_name": "LabelStyleModel",
      "state": {
       "description_width": "",
       "font_family": null,
       "font_size": null,
       "font_style": null,
       "font_variant": null,
       "font_weight": null,
       "text_color": null,
       "text_decoration": null
      }
     },
     "d92e9e4fab004920a5b7e1b07d6b53e8": {
      "model_module": "@jupyter-widgets/controls",
      "model_module_version": "2.0.0",
      "model_name": "LabelModel",
      "state": {
       "layout": "IPY_MODEL_7d94721ab33c437090d20c37f3456666",
       "style": "IPY_MODEL_4db4629151464bdc8e96dd79d7953371"
      }
     },
     "d968dd753efa42c4aba0d9cd8d7857da": {
      "model_module": "@jupyter-widgets/controls",
      "model_module_version": "2.0.0",
      "model_name": "LabelStyleModel",
      "state": {
       "description_width": "",
       "font_family": null,
       "font_size": null,
       "font_style": null,
       "font_variant": null,
       "font_weight": null,
       "text_color": null,
       "text_decoration": null
      }
     },
     "d9a62df4a84e445bb6803302c6d9e899": {
      "model_module": "@jupyter-widgets/controls",
      "model_module_version": "2.0.0",
      "model_name": "VBoxModel",
      "state": {
       "children": [
        "IPY_MODEL_95a3bd41c3084045a9811e441bf7c3ab",
        "IPY_MODEL_16ddb7ed64a04b29866cfb9d0cf5b1f8"
       ],
       "layout": "IPY_MODEL_4d36d078b31e42f29488eff68bd9dcf1"
      }
     },
     "d9e24eed83aa403a884cd995e48e8613": {
      "model_module": "@jupyter-widgets/base",
      "model_module_version": "2.0.0",
      "model_name": "LayoutModel",
      "state": {
       "width": "100%"
      }
     },
     "da005ee34eb443969dfbda3dbbbfc8ba": {
      "model_module": "@jupyter-widgets/controls",
      "model_module_version": "2.0.0",
      "model_name": "LabelModel",
      "state": {
       "layout": "IPY_MODEL_a700f439172549efa75f68ede03c5b89",
       "style": "IPY_MODEL_f54ae310a11d4997806a419edcca66c9"
      }
     },
     "da037c34567948f08020f30f413efb92": {
      "model_module": "@jupyter-widgets/controls",
      "model_module_version": "2.0.0",
      "model_name": "LabelModel",
      "state": {
       "layout": "IPY_MODEL_b5be78acafe04803acc51906e1a04bda",
       "style": "IPY_MODEL_f9dcbfa714ab47e297e192030a6b2d20"
      }
     },
     "da04fb37efcc4805afe7b0e23e1ff5a0": {
      "model_module": "@jupyter-widgets/controls",
      "model_module_version": "2.0.0",
      "model_name": "LabelModel",
      "state": {
       "layout": "IPY_MODEL_d793ebffad8f498aad7d5a3c01056c8f",
       "style": "IPY_MODEL_cd40b4c58daa4180bb8afe7d3f5f9d5d"
      }
     },
     "da46530631c144d397081f23a3605b04": {
      "model_module": "@jupyter-widgets/controls",
      "model_module_version": "2.0.0",
      "model_name": "ButtonStyleModel",
      "state": {
       "font_family": null,
       "font_size": null,
       "font_style": null,
       "font_variant": null,
       "font_weight": null,
       "text_color": null,
       "text_decoration": null
      }
     },
     "da739658146242c8a59d60b6741d3759": {
      "model_module": "@jupyter-widgets/controls",
      "model_module_version": "2.0.0",
      "model_name": "TextStyleModel",
      "state": {
       "description_width": "",
       "font_size": null,
       "text_color": null
      }
     },
     "dae9a5830c2a4d0bb8fd0813d2c28ee0": {
      "model_module": "@jupyter-widgets/base",
      "model_module_version": "2.0.0",
      "model_name": "LayoutModel",
      "state": {
       "display": "none"
      }
     },
     "db0e478fe6814dc29f4f517eb8a3398e": {
      "model_module": "@jupyter-widgets/base",
      "model_module_version": "2.0.0",
      "model_name": "LayoutModel",
      "state": {}
     },
     "db5c0f32b93843a780f8dc8e33f8f765": {
      "model_module": "@jupyter-widgets/base",
      "model_module_version": "2.0.0",
      "model_name": "LayoutModel",
      "state": {
       "width": "100%"
      }
     },
     "db6e1e6cc0e44f8d829db55b871b921c": {
      "model_module": "@jupyter-widgets/controls",
      "model_module_version": "2.0.0",
      "model_name": "ButtonModel",
      "state": {
       "icon": "trash",
       "layout": "IPY_MODEL_8f114fc3da1b465d89201eb01a0cded0",
       "style": "IPY_MODEL_1cdff106e464449d860c7a9868d146f6",
       "tooltip": null
      }
     },
     "dc0ed24396c74cc1a899fec2281eb0ad": {
      "model_module": "@jupyter-widgets/controls",
      "model_module_version": "2.0.0",
      "model_name": "LabelModel",
      "state": {
       "layout": "IPY_MODEL_92219918d1c54a75af04cffc7bfc4911",
       "style": "IPY_MODEL_b926f8d725064bcda7799f06014c33de"
      }
     },
     "dc0f665e93e24b0d8aca7305cb24b365": {
      "model_module": "@jupyter-widgets/controls",
      "model_module_version": "2.0.0",
      "model_name": "SliderStyleModel",
      "state": {
       "description_width": ""
      }
     },
     "dc5d9b968a2a46feb2c75302b8e442de": {
      "model_module": "@jupyter-widgets/base",
      "model_module_version": "2.0.0",
      "model_name": "LayoutModel",
      "state": {}
     },
     "dc6b5a073b7d40249faa62b9c31003df": {
      "model_module": "@jupyter-widgets/controls",
      "model_module_version": "2.0.0",
      "model_name": "HBoxModel",
      "state": {
       "children": [
        "IPY_MODEL_ea73350b0e944f4b88d1fd0a55a4369b",
        "IPY_MODEL_cf73a6174cd84bdf874cc9c26e2a4e87"
       ],
       "layout": "IPY_MODEL_43f72f20e2cf43fdb9c1596750701f87"
      }
     },
     "dc7244f508bf4e699b4a1582cd198e80": {
      "model_module": "@jupyter-widgets/base",
      "model_module_version": "2.0.0",
      "model_name": "LayoutModel",
      "state": {}
     },
     "dc7ed57ad4894ddbbbf373a45131cbac": {
      "model_module": "@jupyter-widgets/base",
      "model_module_version": "2.0.0",
      "model_name": "LayoutModel",
      "state": {}
     },
     "dc7f66c08c074adb889f1190bfb90d91": {
      "model_module": "@jupyter-widgets/controls",
      "model_module_version": "2.0.0",
      "model_name": "LabelStyleModel",
      "state": {
       "description_width": "",
       "font_family": null,
       "font_size": null,
       "font_style": null,
       "font_variant": null,
       "font_weight": null,
       "text_color": null,
       "text_decoration": null
      }
     },
     "dca18822e2024df98ff04ba46d40f71b": {
      "model_module": "@jupyter-widgets/controls",
      "model_module_version": "2.0.0",
      "model_name": "LabelStyleModel",
      "state": {
       "description_width": "",
       "font_family": null,
       "font_size": null,
       "font_style": null,
       "font_variant": null,
       "font_weight": null,
       "text_color": null,
       "text_decoration": null
      }
     },
     "dcbfb1e3df8b4c3990c2df587cd09039": {
      "model_module": "@jupyter-widgets/controls",
      "model_module_version": "2.0.0",
      "model_name": "TextStyleModel",
      "state": {
       "description_width": "",
       "font_size": null,
       "text_color": null
      }
     },
     "dce73794fff244f09d92d74351630ca2": {
      "model_module": "@jupyter-widgets/base",
      "model_module_version": "2.0.0",
      "model_name": "LayoutModel",
      "state": {}
     },
     "dd8fb082ded748838f464e3ccf90d408": {
      "model_module": "@jupyter-widgets/controls",
      "model_module_version": "2.0.0",
      "model_name": "LabelStyleModel",
      "state": {
       "description_width": "",
       "font_family": null,
       "font_size": null,
       "font_style": null,
       "font_variant": null,
       "font_weight": null,
       "text_color": null,
       "text_decoration": null
      }
     },
     "ddf9dbe2266a48ce946da980b50da317": {
      "model_module": "@jupyter-widgets/controls",
      "model_module_version": "2.0.0",
      "model_name": "HBoxModel",
      "state": {
       "children": [
        "IPY_MODEL_9923e5cf132f409a9400b3043ab43bd1",
        "IPY_MODEL_7e6d74b89afa4ce9a99ca33fa86cd946",
        "IPY_MODEL_0629852ab6894e2fb533669882ed2ee6"
       ],
       "layout": "IPY_MODEL_bee266f133624eac98be583f97b4ddf5"
      }
     },
     "de363d8d072245b9a83d666048e54236": {
      "model_module": "@jupyter-widgets/controls",
      "model_module_version": "2.0.0",
      "model_name": "HBoxModel",
      "state": {
       "children": [
        "IPY_MODEL_a0a391f9b0f947f68f29fb856ad4277c"
       ],
       "layout": "IPY_MODEL_2428501c043b4484a45c8d32503bf36d"
      }
     },
     "de5132f48fc545778363378c4195b2f8": {
      "model_module": "@jupyter-widgets/controls",
      "model_module_version": "2.0.0",
      "model_name": "DescriptionStyleModel",
      "state": {
       "description_width": ""
      }
     },
     "de7d0e60ec034d2ea2c5e080a7988d30": {
      "model_module": "@jupyter-widgets/base",
      "model_module_version": "2.0.0",
      "model_name": "LayoutModel",
      "state": {
       "display": "none"
      }
     },
     "dee098b81cc1473c8e0577e51cc182e7": {
      "model_module": "@jupyter-widgets/base",
      "model_module_version": "2.0.0",
      "model_name": "LayoutModel",
      "state": {
       "display": "none"
      }
     },
     "df44ff590107458aba51e7206a7cffa7": {
      "model_module": "@jupyter-widgets/controls",
      "model_module_version": "2.0.0",
      "model_name": "TextModel",
      "state": {
       "layout": "IPY_MODEL_95263cb792bc43218c4f5ccfdf5c3e86",
       "style": "IPY_MODEL_a8a742d6ed3240d3a52511d8936fe695",
       "tooltip": "Email",
       "value": "john.doe@example.com"
      }
     },
     "df53603472254950bfbcd1dad5145cf2": {
      "model_module": "@jupyter-widgets/base",
      "model_module_version": "2.0.0",
      "model_name": "LayoutModel",
      "state": {}
     },
     "dfa3a501f1af48298b480740e904a287": {
      "model_module": "@jupyter-widgets/controls",
      "model_module_version": "2.0.0",
      "model_name": "VBoxModel",
      "state": {
       "children": [
        "IPY_MODEL_d6acdda4cba3428b8aa80c2438715077",
        "IPY_MODEL_10114a0eb75a4b66bda3bbfcb10f5181"
       ],
       "layout": "IPY_MODEL_6b514ea45e87499d8bf2535698c2d6e6"
      }
     },
     "e00efb8543b742ffb2826717f7ad099c": {
      "model_module": "@jupyter-widgets/controls",
      "model_module_version": "2.0.0",
      "model_name": "HBoxModel",
      "state": {
       "children": [
        "IPY_MODEL_1fd7faeb36b04239847927013b869e9b",
        "IPY_MODEL_e89fbd77a1b84f728c6c82510ffb4779"
       ],
       "layout": "IPY_MODEL_a2992e458bde4e87896f7e33d2c70c77"
      }
     },
     "e02a7861164942af8d06a4c93396bf69": {
      "model_module": "@jupyter-widgets/controls",
      "model_module_version": "2.0.0",
      "model_name": "TextStyleModel",
      "state": {
       "description_width": "",
       "font_size": null,
       "text_color": null
      }
     },
     "e0cb9850c5f543ab8a438653720190ea": {
      "model_module": "@jupyter-widgets/controls",
      "model_module_version": "2.0.0",
      "model_name": "VBoxModel",
      "state": {
       "children": [
        "IPY_MODEL_5c17331a58644e1e95f03509cbb3682e",
        "IPY_MODEL_f4fc31c6341f48e9bad84401a2b17341"
       ],
       "layout": "IPY_MODEL_bf0eb3ee630d43ba9e897595cdfcb102"
      }
     },
     "e12bd3980c374421b0d7ba7e40840a7e": {
      "model_module": "@jupyter-widgets/controls",
      "model_module_version": "2.0.0",
      "model_name": "ButtonStyleModel",
      "state": {
       "font_family": null,
       "font_size": null,
       "font_style": null,
       "font_variant": null,
       "font_weight": null,
       "text_color": null,
       "text_decoration": null
      }
     },
     "e12dffa4d7904c65b4157523a370df07": {
      "model_module": "@jupyter-widgets/controls",
      "model_module_version": "2.0.0",
      "model_name": "TextModel",
      "state": {
       "layout": "IPY_MODEL_79f4ba4fc82b4e7385ab8b94dfce2926",
       "style": "IPY_MODEL_3a61311d61204b9b896b6c236c033779"
      }
     },
     "e191c847a300408bacca901fb8e3402f": {
      "model_module": "@jupyter-widgets/controls",
      "model_module_version": "2.0.0",
      "model_name": "VBoxModel",
      "state": {
       "children": [
        "IPY_MODEL_5d1264e8ddad4e94bdaaf7cf7af6cec9"
       ],
       "layout": "IPY_MODEL_43b0371ba8b24e67a5ccd7d10c3657f5"
      }
     },
     "e19e8cb422bb40a580f584693c4852bb": {
      "model_module": "@jupyter-widgets/controls",
      "model_module_version": "2.0.0",
      "model_name": "LabelStyleModel",
      "state": {
       "description_width": "",
       "font_family": null,
       "font_size": null,
       "font_style": null,
       "font_variant": null,
       "font_weight": null,
       "text_color": null,
       "text_decoration": null
      }
     },
     "e1e176cc210f40b79646ff03cd0f79c0": {
      "model_module": "@jupyter-widgets/base",
      "model_module_version": "2.0.0",
      "model_name": "LayoutModel",
      "state": {}
     },
     "e1e9e56fe0814063b21f5895b89da092": {
      "model_module": "@jupyter-widgets/controls",
      "model_module_version": "2.0.0",
      "model_name": "ButtonStyleModel",
      "state": {
       "font_family": null,
       "font_size": null,
       "font_style": null,
       "font_variant": null,
       "font_weight": null,
       "text_color": null,
       "text_decoration": null
      }
     },
     "e25fe58839ce4cb79ca27b65d5058ab3": {
      "model_module": "@jupyter-widgets/controls",
      "model_module_version": "2.0.0",
      "model_name": "TextStyleModel",
      "state": {
       "description_width": "",
       "font_size": null,
       "text_color": null
      }
     },
     "e2a8fc605bbf45d0bed5857353e61eb5": {
      "model_module": "@jupyter-widgets/base",
      "model_module_version": "2.0.0",
      "model_name": "LayoutModel",
      "state": {
       "width": "100%"
      }
     },
     "e2ba7c204aff42a883f66dd99a5e8578": {
      "model_module": "@jupyter-widgets/base",
      "model_module_version": "2.0.0",
      "model_name": "LayoutModel",
      "state": {
       "display": "none"
      }
     },
     "e2da273fff4f40b2af6a10c716a28e33": {
      "model_module": "@jupyter-widgets/controls",
      "model_module_version": "2.0.0",
      "model_name": "VBoxModel",
      "state": {
       "children": [
        "IPY_MODEL_061678a3ea8b40dc9ef4e8a45211d602"
       ],
       "layout": "IPY_MODEL_c4342154b3c44b5cb94639ad2dbc5202"
      }
     },
     "e2e9c78ecdcb4ca49964646635addefd": {
      "model_module": "@jupyter-widgets/base",
      "model_module_version": "2.0.0",
      "model_name": "LayoutModel",
      "state": {}
     },
     "e301deca296348d9875541babeff15f7": {
      "model_module": "@jupyter-widgets/controls",
      "model_module_version": "2.0.0",
      "model_name": "LabelStyleModel",
      "state": {
       "description_width": "",
       "font_family": null,
       "font_size": null,
       "font_style": null,
       "font_variant": null,
       "font_weight": null,
       "text_color": null,
       "text_decoration": null
      }
     },
     "e322b8991fb847e5a9f75c116d1f527e": {
      "model_module": "@jupyter-widgets/base",
      "model_module_version": "2.0.0",
      "model_name": "LayoutModel",
      "state": {}
     },
     "e42daeba545e43bd8de8311483f4d030": {
      "model_module": "@jupyter-widgets/controls",
      "model_module_version": "2.0.0",
      "model_name": "TextStyleModel",
      "state": {
       "description_width": "",
       "font_size": null,
       "text_color": null
      }
     },
     "e448e676697f43d5a5d56eb94835bcae": {
      "model_module": "@jupyter-widgets/output",
      "model_module_version": "1.0.0",
      "model_name": "OutputModel",
      "state": {
       "layout": "IPY_MODEL_0f45a9077dd94457905ab6c283846fcb",
       "outputs": [
        {
         "data": {
          "application/vnd.jupyter.widget-view+json": {
           "model_id": "cbe94e17a4ea4218b3ba1866da9d58bc",
           "version_major": 2,
           "version_minor": 0
          },
          "text/plain": "VBox(children=(HBox(children=(Label(value='Age', layout=Layout(width='100%')), IntText(value=30, layout=Layout…"
         },
         "metadata": {},
         "output_type": "display_data"
        }
       ]
      }
     },
     "e44f92d3895049d28c0b6edd95301440": {
      "model_module": "@jupyter-widgets/base",
      "model_module_version": "2.0.0",
      "model_name": "LayoutModel",
      "state": {}
     },
     "e45efa8f55114dd8a8d791e4196d3128": {
      "model_module": "@jupyter-widgets/controls",
      "model_module_version": "2.0.0",
      "model_name": "TextStyleModel",
      "state": {
       "description_width": "",
       "font_size": null,
       "text_color": null
      }
     },
     "e48e675e0d3449a1af4b8e4349bbe961": {
      "model_module": "@jupyter-widgets/base",
      "model_module_version": "2.0.0",
      "model_name": "LayoutModel",
      "state": {
       "width": "33%"
      }
     },
     "e4fe00226ada48af8c6ef34ceb70355a": {
      "model_module": "@jupyter-widgets/controls",
      "model_module_version": "2.0.0",
      "model_name": "LabelStyleModel",
      "state": {
       "description_width": "",
       "font_family": null,
       "font_size": "0.8em",
       "font_style": null,
       "font_variant": null,
       "font_weight": "lighter",
       "text_color": null,
       "text_decoration": null
      }
     },
     "e5172be4b6b7417f9e562e4449019233": {
      "model_module": "@jupyter-widgets/controls",
      "model_module_version": "2.0.0",
      "model_name": "LabelModel",
      "state": {
       "layout": "IPY_MODEL_073c9fa7d7cb4f3b91ce981ff64e82d1",
       "style": "IPY_MODEL_59c711d2585c4688971001631039d30a",
       "value": "Email"
      }
     },
     "e519473dd3be49529fa3997c0eb41ded": {
      "model_module": "@jupyter-widgets/controls",
      "model_module_version": "2.0.0",
      "model_name": "TextStyleModel",
      "state": {
       "description_width": "",
       "font_size": null,
       "text_color": null
      }
     },
     "e53bf401caab4ee2af30fd55469cb21d": {
      "model_module": "@jupyter-widgets/base",
      "model_module_version": "2.0.0",
      "model_name": "LayoutModel",
      "state": {}
     },
     "e56ae95a8078413bb7e4ea2426ae2497": {
      "model_module": "@jupyter-widgets/base",
      "model_module_version": "2.0.0",
      "model_name": "LayoutModel",
      "state": {
       "width": "500px"
      }
     },
     "e56c9388878349f3a9e13d5685cbdeba": {
      "model_module": "@jupyter-widgets/base",
      "model_module_version": "2.0.0",
      "model_name": "LayoutModel",
      "state": {
       "width": "100%"
      }
     },
     "e5ea58fd8b0047aeba39fb0249740fd4": {
      "model_module": "@jupyter-widgets/controls",
      "model_module_version": "2.0.0",
      "model_name": "HBoxModel",
      "state": {
       "children": [
        "IPY_MODEL_b2adaa4bf0c042ac88a1a66474a3a242",
        "IPY_MODEL_3ead9b2ef6e24b44a27bd84abbfb8db2"
       ],
       "layout": "IPY_MODEL_c21cadc7375147d59e65ca8554b2b2b3"
      }
     },
     "e5eb08e76907437aa8c4cc41d677bad3": {
      "model_module": "@jupyter-widgets/base",
      "model_module_version": "2.0.0",
      "model_name": "LayoutModel",
      "state": {
       "width": "500px"
      }
     },
     "e6331bbf7df145ad9de5959f39a59349": {
      "model_module": "@jupyter-widgets/base",
      "model_module_version": "2.0.0",
      "model_name": "LayoutModel",
      "state": {
       "border_bottom": "none",
       "border_left": "none",
       "border_right": "none",
       "border_top": "none",
       "width": "100%"
      }
     },
     "e65ad0b8acb64d9c8c428c055d92c711": {
      "model_module": "@jupyter-widgets/base",
      "model_module_version": "2.0.0",
      "model_name": "LayoutModel",
      "state": {
       "width": "100%"
      }
     },
     "e6c1fe119b5145ddaa336add8a369a86": {
      "model_module": "@jupyter-widgets/base",
      "model_module_version": "2.0.0",
      "model_name": "LayoutModel",
      "state": {}
     },
     "e6e1f2b10a21428c9ee0bc74662d049a": {
      "model_module": "@jupyter-widgets/base",
      "model_module_version": "2.0.0",
      "model_name": "LayoutModel",
      "state": {}
     },
     "e70cc8531f8e47e8b2c8722121c5db12": {
      "model_module": "@jupyter-widgets/base",
      "model_module_version": "2.0.0",
      "model_name": "LayoutModel",
      "state": {
       "width": "100%"
      }
     },
     "e7297a7909394983838d0862742959aa": {
      "model_module": "@jupyter-widgets/base",
      "model_module_version": "2.0.0",
      "model_name": "LayoutModel",
      "state": {
       "display": "none"
      }
     },
     "e812498f08c1481080c48ff06c0bb444": {
      "model_module": "@jupyter-widgets/base",
      "model_module_version": "2.0.0",
      "model_name": "LayoutModel",
      "state": {}
     },
     "e8133f07579340ddbca5de2b72732364": {
      "model_module": "@jupyter-widgets/base",
      "model_module_version": "2.0.0",
      "model_name": "LayoutModel",
      "state": {
       "width": "100%"
      }
     },
     "e830bb55dc964588b7c21cd81e00be85": {
      "model_module": "@jupyter-widgets/controls",
      "model_module_version": "2.0.0",
      "model_name": "LabelStyleModel",
      "state": {
       "description_width": "",
       "font_family": null,
       "font_size": null,
       "font_style": null,
       "font_variant": null,
       "font_weight": null,
       "text_color": null,
       "text_decoration": null
      }
     },
     "e8643e0589cd46a699807e95a1d8523d": {
      "model_module": "@jupyter-widgets/base",
      "model_module_version": "2.0.0",
      "model_name": "LayoutModel",
      "state": {
       "width": "100%"
      }
     },
     "e8647f14c671425cb5caa12e3605a9d4": {
      "model_module": "@jupyter-widgets/controls",
      "model_module_version": "2.0.0",
      "model_name": "HBoxModel",
      "state": {
       "children": [
        "IPY_MODEL_5c26d5abe38b4091827a7a70e116b06b",
        "IPY_MODEL_707a78936ef34b9da5c708fa4405c1e8",
        "IPY_MODEL_4ef2f21ec2be4a2492d5473f722b5989"
       ],
       "layout": "IPY_MODEL_07d60abb3af846dfb0f62550a4a4ca56"
      }
     },
     "e8905d6a3fbc41e0815d151dc605654c": {
      "model_module": "@jupyter-widgets/controls",
      "model_module_version": "2.0.0",
      "model_name": "LabelModel",
      "state": {
       "layout": "IPY_MODEL_25696641a2f04e7aa859c0719cd2ade3",
       "style": "IPY_MODEL_c7b2dbfb2d8a4d5fb4b62569d8da6e54",
       "value": "Name"
      }
     },
     "e89fbd77a1b84f728c6c82510ffb4779": {
      "model_module": "@jupyter-widgets/controls",
      "model_module_version": "2.0.0",
      "model_name": "TextModel",
      "state": {
       "layout": "IPY_MODEL_170d83052be04bc2b26a5e90936f8faf",
       "style": "IPY_MODEL_a3b9a558a84a4b0ea8fb379841b7a0c0",
       "tooltip": "Name",
       "value": "John Doe"
      }
     },
     "e8e9d65c958c46bbb704bfa3f6abba6b": {
      "model_module": "@jupyter-widgets/controls",
      "model_module_version": "2.0.0",
      "model_name": "TextStyleModel",
      "state": {
       "description_width": "",
       "font_size": null,
       "text_color": null
      }
     },
     "e91657a870f7400cac0b42ea5c146135": {
      "model_module": "@jupyter-widgets/controls",
      "model_module_version": "2.0.0",
      "model_name": "LabelStyleModel",
      "state": {
       "description_width": "",
       "font_family": null,
       "font_size": null,
       "font_style": null,
       "font_variant": null,
       "font_weight": null,
       "text_color": null,
       "text_decoration": null
      }
     },
     "e92697436a434465a2ada0795498c8c9": {
      "model_module": "@jupyter-widgets/base",
      "model_module_version": "2.0.0",
      "model_name": "LayoutModel",
      "state": {}
     },
     "e9a97f809b994404a78c1045dc6a7c29": {
      "model_module": "@jupyter-widgets/base",
      "model_module_version": "2.0.0",
      "model_name": "LayoutModel",
      "state": {
       "width": "100%"
      }
     },
     "e9cdc7953403469d9fac1d5413c77d7d": {
      "model_module": "@jupyter-widgets/controls",
      "model_module_version": "2.0.0",
      "model_name": "ButtonModel",
      "state": {
       "icon": "trash",
       "layout": "IPY_MODEL_32a5d708528e419290d7825207618c8a",
       "style": "IPY_MODEL_91a4a818b0ba4e2f957cabc4467d62c0",
       "tooltip": null
      }
     },
     "ea23f91a9ea946bc866f1a59c6f98119": {
      "model_module": "@jupyter-widgets/controls",
      "model_module_version": "2.0.0",
      "model_name": "ButtonModel",
      "state": {
       "button_style": "success",
       "description": "Save",
       "icon": "save",
       "layout": "IPY_MODEL_a551726f7f3144ed872e7f5838f4abc0",
       "style": "IPY_MODEL_132277a69bea4906b81abfd175bf80e4",
       "tooltip": "Save all changes"
      }
     },
     "ea5e5f64b2ff4ea58f39c69a039e3f8a": {
      "model_module": "@jupyter-widgets/controls",
      "model_module_version": "2.0.0",
      "model_name": "DescriptionStyleModel",
      "state": {
       "description_width": ""
      }
     },
     "ea68e3a2f33d45f58433f58fdbbbcada": {
      "model_module": "@jupyter-widgets/base",
      "model_module_version": "2.0.0",
      "model_name": "LayoutModel",
      "state": {
       "width": "100%"
      }
     },
     "ea73350b0e944f4b88d1fd0a55a4369b": {
      "model_module": "@jupyter-widgets/controls",
      "model_module_version": "2.0.0",
      "model_name": "LabelModel",
      "state": {
       "layout": "IPY_MODEL_2dcc5057bf704abc9c932653b8899d4d",
       "style": "IPY_MODEL_c2441decb6994998a01e6ce604e37e99",
       "value": "Street"
      }
     },
     "eabaaa9972d6483098e521adfad023b6": {
      "model_module": "@jupyter-widgets/controls",
      "model_module_version": "2.0.0",
      "model_name": "HBoxModel",
      "state": {
       "children": [
        "IPY_MODEL_33ee6c4233c94faba005d9b6de471088",
        "IPY_MODEL_b7792eb1e07345c4b92954a23bb13083"
       ],
       "layout": "IPY_MODEL_70521c60d0dd41a78abccd5f4b08fcef"
      }
     },
     "eae54e4ecb804169bedcdb9c7daa0f64": {
      "model_module": "@jupyter-widgets/controls",
      "model_module_version": "2.0.0",
      "model_name": "LabelStyleModel",
      "state": {
       "description_width": "",
       "font_family": null,
       "font_size": null,
       "font_style": null,
       "font_variant": null,
       "font_weight": null,
       "text_color": null,
       "text_decoration": null
      }
     },
     "eae8bae1f7b049a28766736afa448a00": {
      "model_module": "@jupyter-widgets/base",
      "model_module_version": "2.0.0",
      "model_name": "LayoutModel",
      "state": {}
     },
     "eb4b53014a614f5195e244bfaadd6d25": {
      "model_module": "@jupyter-widgets/base",
      "model_module_version": "2.0.0",
      "model_name": "LayoutModel",
      "state": {}
     },
     "eb9b96a966e74ee7b9921944487ad58f": {
      "model_module": "@jupyter-widgets/controls",
      "model_module_version": "2.0.0",
      "model_name": "HBoxModel",
      "state": {
       "children": [
        "IPY_MODEL_d48956a343324df99057df4a0b5fb8f4",
        "IPY_MODEL_c27768f32ab24778927296367070e1fb"
       ],
       "layout": "IPY_MODEL_9b238de320b64a699f4246cd333353dc"
      }
     },
     "ebaf49c3181440d7981f888d2e67d7e7": {
      "model_module": "@jupyter-widgets/controls",
      "model_module_version": "2.0.0",
      "model_name": "TextStyleModel",
      "state": {
       "description_width": "",
       "font_size": null,
       "text_color": null
      }
     },
     "ec4caf0ef5234a2897ededbca2efdfe0": {
      "model_module": "@jupyter-widgets/base",
      "model_module_version": "2.0.0",
      "model_name": "LayoutModel",
      "state": {
       "width": "100%"
      }
     },
     "ecc41c9139d44c6893502c187975fbf9": {
      "model_module": "@jupyter-widgets/controls",
      "model_module_version": "2.0.0",
      "model_name": "DescriptionStyleModel",
      "state": {
       "description_width": ""
      }
     },
     "ece40ef755c54b39ba4fa12321baf787": {
      "model_module": "@jupyter-widgets/base",
      "model_module_version": "2.0.0",
      "model_name": "LayoutModel",
      "state": {}
     },
     "ed81d740cab447d5975edd17af7c0e26": {
      "model_module": "@jupyter-widgets/base",
      "model_module_version": "2.0.0",
      "model_name": "LayoutModel",
      "state": {
       "width": "100%"
      }
     },
     "edd0f859942540c087bd99d5edb7e043": {
      "model_module": "@jupyter-widgets/base",
      "model_module_version": "2.0.0",
      "model_name": "LayoutModel",
      "state": {
       "width": "100%"
      }
     },
     "edff3ec1f28c44e4832f1beff737ab75": {
      "model_module": "@jupyter-widgets/controls",
      "model_module_version": "2.0.0",
      "model_name": "LabelStyleModel",
      "state": {
       "description_width": "",
       "font_family": null,
       "font_size": null,
       "font_style": null,
       "font_variant": null,
       "font_weight": null,
       "text_color": null,
       "text_decoration": null
      }
     },
     "ee18e5b43dba4d77ace93fba5b1d2e02": {
      "model_module": "@jupyter-widgets/controls",
      "model_module_version": "2.0.0",
      "model_name": "LabelStyleModel",
      "state": {
       "description_width": "",
       "font_family": null,
       "font_size": null,
       "font_style": null,
       "font_variant": null,
       "font_weight": null,
       "text_color": null,
       "text_decoration": null
      }
     },
     "ee37fd964edb430e826e641ae041c58b": {
      "model_module": "@jupyter-widgets/controls",
      "model_module_version": "2.0.0",
      "model_name": "ButtonStyleModel",
      "state": {
       "font_family": null,
       "font_size": null,
       "font_style": null,
       "font_variant": null,
       "font_weight": null,
       "text_color": null,
       "text_decoration": null
      }
     },
     "ee4dcdf347de4c4d93ff67f7ee40ba74": {
      "model_module": "@jupyter-widgets/base",
      "model_module_version": "2.0.0",
      "model_name": "LayoutModel",
      "state": {}
     },
     "ee66976fe4c349bbbeae6fb0df40b83d": {
      "model_module": "@jupyter-widgets/base",
      "model_module_version": "2.0.0",
      "model_name": "LayoutModel",
      "state": {}
     },
     "ee80016854364356927d6b818aba06b7": {
      "model_module": "@jupyter-widgets/controls",
      "model_module_version": "2.0.0",
      "model_name": "TextModel",
      "state": {
       "layout": "IPY_MODEL_9828856a58eb4689ac2719903f504c64",
       "style": "IPY_MODEL_b56864ef53484e188932d1c143ebc367",
       "tooltip": "Name"
      }
     },
     "ef3ba9e9ffc148e5ad4cb0b574cb3c2d": {
      "model_module": "@jupyter-widgets/controls",
      "model_module_version": "2.0.0",
      "model_name": "LabelModel",
      "state": {
       "layout": "IPY_MODEL_33d56f6e382748fe8bd0fda10f81db85",
       "style": "IPY_MODEL_9a6c97d3d1ce4e1c933ba3153e19baf1"
      }
     },
     "ef4858510e054bd0844e839771797210": {
      "model_module": "@jupyter-widgets/base",
      "model_module_version": "2.0.0",
      "model_name": "LayoutModel",
      "state": {
       "width": "33%"
      }
     },
     "ef612d623f8d4c0a9f7bbaeb886342da": {
      "model_module": "@jupyter-widgets/controls",
      "model_module_version": "2.0.0",
      "model_name": "DescriptionStyleModel",
      "state": {
       "description_width": ""
      }
     },
     "f02940d90f48438ca051c7530d8ac74a": {
      "model_module": "@jupyter-widgets/controls",
      "model_module_version": "2.0.0",
      "model_name": "LabelModel",
      "state": {
       "layout": "IPY_MODEL_e9a97f809b994404a78c1045dc6a7c29",
       "style": "IPY_MODEL_be658441e25c47808953e5fc0cf57c57",
       "value": "Uri"
      }
     },
     "f098e960124b4d1aaf07ac7e3ea4a642": {
      "model_module": "@jupyter-widgets/controls",
      "model_module_version": "2.0.0",
      "model_name": "VBoxModel",
      "state": {
       "children": [
        "IPY_MODEL_00027878d0754dffb6010448977ff62b",
        "IPY_MODEL_934c091e3626494d9ee93ff3ce502f06",
        "IPY_MODEL_adc4c3f394084545a892ea71616012e4",
        "IPY_MODEL_80c136f273694e2dbd067ec69c4d3a9e"
       ],
       "layout": "IPY_MODEL_5e9d1d73d0f1401db4ff6636f3b3aeb5"
      }
     },
     "f0be9939441e41be8f2317f83d7eeb5a": {
      "model_module": "@jupyter-widgets/controls",
      "model_module_version": "2.0.0",
      "model_name": "ButtonModel",
      "state": {
       "icon": "arrow-up",
       "layout": "IPY_MODEL_551339002c424d699c0471890bbe7192",
       "style": "IPY_MODEL_04762cb499c74d949c4dbe54ca1df834",
       "tooltip": null
      }
     },
     "f0efb0d970a44e76b030672d4dae7880": {
      "model_module": "@jupyter-widgets/controls",
      "model_module_version": "2.0.0",
      "model_name": "TextModel",
      "state": {
       "layout": "IPY_MODEL_8a399bce548d4d05a4b11259e5606933",
       "style": "IPY_MODEL_25ac2b7ab5a54084b8863103f34ecc88",
       "tooltip": "Uuid",
       "value": "00000000-0000-0000-0000-000000000000"
      }
     },
     "f10cccff5c464a8d8f5b2ca264c862c1": {
      "model_module": "@jupyter-widgets/controls",
      "model_module_version": "2.0.0",
      "model_name": "TextStyleModel",
      "state": {
       "description_width": "",
       "font_size": null,
       "text_color": null
      }
     },
     "f135bfe1d1914828b96ec9c0e924b8d2": {
      "model_module": "@jupyter-widgets/controls",
      "model_module_version": "2.0.0",
      "model_name": "LabelStyleModel",
      "state": {
       "description_width": "",
       "font_family": null,
       "font_size": null,
       "font_style": null,
       "font_variant": null,
       "font_weight": null,
       "text_color": null,
       "text_decoration": null
      }
     },
     "f16ed06eba7c4dc4bbb4506ad14b57ad": {
      "model_module": "@jupyter-widgets/controls",
      "model_module_version": "2.0.0",
      "model_name": "TextModel",
      "state": {
       "layout": "IPY_MODEL_285368da57f44f069e3947ea2d472e31",
       "style": "IPY_MODEL_dcbfb1e3df8b4c3990c2df587cd09039",
       "tooltip": "Adress"
      }
     },
     "f18a96b27bfb4470a4c62ac9f77c002d": {
      "model_module": "@jupyter-widgets/base",
      "model_module_version": "2.0.0",
      "model_name": "LayoutModel",
      "state": {
       "width": "100%"
      }
     },
     "f1de4a5309c545f0811e30daab66549a": {
      "model_module": "@jupyter-widgets/base",
      "model_module_version": "2.0.0",
      "model_name": "LayoutModel",
      "state": {
       "display": "none"
      }
     },
     "f1def07a285442b7bcd8b6d8c98cc0c5": {
      "model_module": "@jupyter-widgets/controls",
      "model_module_version": "2.0.0",
      "model_name": "DescriptionStyleModel",
      "state": {
       "description_width": ""
      }
     },
     "f1eac89caff04992b281200f7cd75ee4": {
      "model_module": "@jupyter-widgets/controls",
      "model_module_version": "2.0.0",
      "model_name": "ButtonStyleModel",
      "state": {
       "font_family": null,
       "font_size": null,
       "font_style": null,
       "font_variant": null,
       "font_weight": null,
       "text_color": null,
       "text_decoration": null
      }
     },
     "f2497ac79e6543738b6831891f1461bc": {
      "model_module": "@jupyter-widgets/controls",
      "model_module_version": "2.0.0",
      "model_name": "VBoxModel",
      "state": {
       "children": [
        "IPY_MODEL_78d8074128b940c3b18b572aaaabed3e"
       ],
       "layout": "IPY_MODEL_577b86831a534ebfbd90a8009d1f95bc"
      }
     },
     "f2a23107fe074a0bb1db80b78fc6d098": {
      "model_module": "@jupyter-widgets/controls",
      "model_module_version": "2.0.0",
      "model_name": "HBoxModel",
      "state": {
       "children": [
        "IPY_MODEL_28365df411db4ea5a863a261d648d1ac",
        "IPY_MODEL_abdb8fcf822c42b69abd4e616f3d2abf"
       ],
       "layout": "IPY_MODEL_80e9ca3612d448a29e27885428d61e34"
      }
     },
     "f2a3772fa3454f9190b560d3c727ca85": {
      "model_module": "@jupyter-widgets/controls",
      "model_module_version": "2.0.0",
      "model_name": "HBoxModel",
      "state": {
       "children": [
        "IPY_MODEL_64e3050230cd42a09c83ca0b9295e40a"
       ],
       "layout": "IPY_MODEL_fe5d4b1bc5b441809976949194e2b1d4"
      }
     },
     "f2f12bdc87ce462ca4481922d954f6ef": {
      "model_module": "@jupyter-widgets/controls",
      "model_module_version": "2.0.0",
      "model_name": "SliderStyleModel",
      "state": {
       "description_width": ""
      }
     },
     "f32366dece1c482aa9e96a58ec326915": {
      "model_module": "@jupyter-widgets/base",
      "model_module_version": "2.0.0",
      "model_name": "LayoutModel",
      "state": {}
     },
     "f364e3b9cdc64b448fe40b7935ff8ec8": {
      "model_module": "@jupyter-widgets/base",
      "model_module_version": "2.0.0",
      "model_name": "LayoutModel",
      "state": {}
     },
     "f4215b5126604f0188ad7cc31177993b": {
      "model_module": "@jupyter-widgets/base",
      "model_module_version": "2.0.0",
      "model_name": "LayoutModel",
      "state": {
       "width": "100%"
      }
     },
     "f4489a3516a147e2a372f3cbb8629ac5": {
      "model_module": "@jupyter-widgets/controls",
      "model_module_version": "2.0.0",
      "model_name": "LabelStyleModel",
      "state": {
       "description_width": "",
       "font_family": null,
       "font_size": null,
       "font_style": null,
       "font_variant": null,
       "font_weight": null,
       "text_color": null,
       "text_decoration": null
      }
     },
     "f4736560b07140ebbc949ca94290a81f": {
      "model_module": "@jupyter-widgets/base",
      "model_module_version": "2.0.0",
      "model_name": "LayoutModel",
      "state": {}
     },
     "f482a53687bd47b38879116c9349100c": {
      "model_module": "@jupyter-widgets/base",
      "model_module_version": "2.0.0",
      "model_name": "LayoutModel",
      "state": {
       "width": "100%"
      }
     },
     "f4ba210eaa0a42509748c62e03e595df": {
      "model_module": "@jupyter-widgets/base",
      "model_module_version": "2.0.0",
      "model_name": "LayoutModel",
      "state": {}
     },
     "f4d0edd729564baabf991c115f90d664": {
      "model_module": "@jupyter-widgets/controls",
      "model_module_version": "2.0.0",
      "model_name": "LabelStyleModel",
      "state": {
       "description_width": "",
       "font_family": null,
       "font_size": null,
       "font_style": null,
       "font_variant": null,
       "font_weight": null,
       "text_color": null,
       "text_decoration": null
      }
     },
     "f4f6d40b6f6645ae9813947d83ec7ff7": {
      "model_module": "@jupyter-widgets/controls",
      "model_module_version": "2.0.0",
      "model_name": "LabelModel",
      "state": {
       "layout": "IPY_MODEL_bb149e018eb64ce0b5f12660cd3cc8da",
       "style": "IPY_MODEL_87466d9e47fa4c428ad4e23782ca86b6",
       "value": "Height"
      }
     },
     "f4fc31c6341f48e9bad84401a2b17341": {
      "model_module": "@jupyter-widgets/controls",
      "model_module_version": "2.0.0",
      "model_name": "HBoxModel",
      "state": {
       "children": [
        "IPY_MODEL_6af41344c2664b7895e790d944fe60d9",
        "IPY_MODEL_269cd76f2416470ba0efdaeb962cb015",
        "IPY_MODEL_94f7dbccc5b54443a79d577d178af26b"
       ],
       "layout": "IPY_MODEL_8414eae97ac2427998e255173c0e4544"
      }
     },
     "f50aae39acb4488e91d617a2ecfff1a7": {
      "model_module": "@jupyter-widgets/base",
      "model_module_version": "2.0.0",
      "model_name": "LayoutModel",
      "state": {}
     },
     "f52a88af6af246d6b62a47127118e386": {
      "model_module": "@jupyter-widgets/base",
      "model_module_version": "2.0.0",
      "model_name": "LayoutModel",
      "state": {
       "display": "none"
      }
     },
     "f54ae310a11d4997806a419edcca66c9": {
      "model_module": "@jupyter-widgets/controls",
      "model_module_version": "2.0.0",
      "model_name": "LabelStyleModel",
      "state": {
       "description_width": "",
       "font_family": null,
       "font_size": null,
       "font_style": null,
       "font_variant": null,
       "font_weight": null,
       "text_color": null,
       "text_decoration": null
      }
     },
     "f569ca515c6349679ada02af8d34f3a1": {
      "model_module": "@jupyter-widgets/base",
      "model_module_version": "2.0.0",
      "model_name": "LayoutModel",
      "state": {
       "border_bottom": "none",
       "border_left": "none",
       "border_right": "none",
       "border_top": "none",
       "width": "100%"
      }
     },
     "f56aedc2574a4cde8ceba69878b51f69": {
      "model_module": "@jupyter-widgets/base",
      "model_module_version": "2.0.0",
      "model_name": "LayoutModel",
      "state": {}
     },
     "f56ff00760594429874c0d81f3d853f0": {
      "model_module": "@jupyter-widgets/controls",
      "model_module_version": "2.0.0",
      "model_name": "TextStyleModel",
      "state": {
       "description_width": "",
       "font_size": null,
       "text_color": null
      }
     },
     "f59b68768c114c51b0a1b12dde390966": {
      "model_module": "@jupyter-widgets/base",
      "model_module_version": "2.0.0",
      "model_name": "LayoutModel",
      "state": {
       "width": "100%"
      }
     },
     "f5dd991a2eaf4a2399ff732487a14fff": {
      "model_module": "@jupyter-widgets/controls",
      "model_module_version": "2.0.0",
      "model_name": "VBoxModel",
      "state": {
       "children": [
        "IPY_MODEL_c16bc4424dc149818869f1a6b97c6e4e",
        "IPY_MODEL_82e8c9fb35804eb7a8fa966547ce8abd"
       ],
       "layout": "IPY_MODEL_0ddfef24d88b45208e6e2f0124cea308"
      }
     },
     "f655a0a2105545c8a3f02765ed0b293a": {
      "model_module": "@jupyter-widgets/base",
      "model_module_version": "2.0.0",
      "model_name": "LayoutModel",
      "state": {
       "width": "100%"
      }
     },
     "f66b9f0266f641248ef6aa7a5b1b41ce": {
      "model_module": "@jupyter-widgets/base",
      "model_module_version": "2.0.0",
      "model_name": "LayoutModel",
      "state": {}
     },
     "f69f83ef988f455a8357f936a7675bf3": {
      "model_module": "@jupyter-widgets/base",
      "model_module_version": "2.0.0",
      "model_name": "LayoutModel",
      "state": {}
     },
     "f6a60e9ce7bc46a9a22a63ece4988546": {
      "model_module": "@jupyter-widgets/base",
      "model_module_version": "2.0.0",
      "model_name": "LayoutModel",
      "state": {
       "display": "none"
      }
     },
     "f6c5b08788eb44069c4352ae0f46bc86": {
      "model_module": "@jupyter-widgets/controls",
      "model_module_version": "2.0.0",
      "model_name": "DescriptionStyleModel",
      "state": {
       "description_width": ""
      }
     },
     "f6d377477f7e4ed99c6431464b0a0505": {
      "model_module": "@jupyter-widgets/controls",
      "model_module_version": "2.0.0",
      "model_name": "DescriptionStyleModel",
      "state": {
       "description_width": ""
      }
     },
     "f70465c976d441adbe8a379b7d91f1e9": {
      "model_module": "@jupyter-widgets/base",
      "model_module_version": "2.0.0",
      "model_name": "LayoutModel",
      "state": {
       "width": "100%"
      }
     },
     "f755ab89bcf84ab48a43668f8fb62f62": {
      "model_module": "@jupyter-widgets/controls",
      "model_module_version": "2.0.0",
      "model_name": "LabelModel",
      "state": {
       "layout": "IPY_MODEL_d34fce72ea0b44a29f94eb5dd82a0ecd",
       "style": "IPY_MODEL_60d97a80270b4f1bb1baa79d1e0ad1c1"
      }
     },
     "f771e4e8b1b84df98813b4add4136358": {
      "model_module": "@jupyter-widgets/base",
      "model_module_version": "2.0.0",
      "model_name": "LayoutModel",
      "state": {
       "width": "100%"
      }
     },
     "f77b2be129154bc9b835c25bc2ff54aa": {
      "model_module": "@jupyter-widgets/controls",
      "model_module_version": "2.0.0",
      "model_name": "VBoxModel",
      "state": {
       "children": [
        "IPY_MODEL_4e77537af0bd4379969c8de7e678e957",
        "IPY_MODEL_7806f561a0ac4ed1826676da989d2060"
       ],
       "layout": "IPY_MODEL_5750a16e86ec432ab87afcd92b366f10"
      }
     },
     "f78721af37714591b0c133f37c48edc7": {
      "model_module": "@jupyter-widgets/controls",
      "model_module_version": "2.0.0",
      "model_name": "LabelModel",
      "state": {
       "layout": "IPY_MODEL_1159ab5f6fa842e1b425d1ab8958c309",
       "style": "IPY_MODEL_1bb2dd8468014124bab8cce20bae00b0"
      }
     },
     "f788e3fb09964b3c87b1de784c30e1d5": {
      "model_module": "@jupyter-widgets/controls",
      "model_module_version": "2.0.0",
      "model_name": "AccordionModel",
      "state": {
       "children": [
        "IPY_MODEL_64ddbaed2f6f46cba6a363b4ae4e18ec"
       ],
       "layout": "IPY_MODEL_173ed9d416794f2f9b746ee468fad0d5",
       "selected_index": 0,
       "titles": [
        "Subcategories"
       ]
      }
     },
     "f78cf242229b46c1a75048d310734e1d": {
      "model_module": "@jupyter-widgets/controls",
      "model_module_version": "2.0.0",
      "model_name": "TextStyleModel",
      "state": {
       "description_width": "",
       "font_size": null,
       "text_color": null
      }
     },
     "f790775d4cb147b2b0108a59a81abb32": {
      "model_module": "@jupyter-widgets/controls",
      "model_module_version": "2.0.0",
      "model_name": "LabelModel",
      "state": {
       "layout": "IPY_MODEL_387e302dd45145fda2614efd3fb1892b",
       "style": "IPY_MODEL_69b593637f5440a3b09850c811c45027",
       "value": "Name"
      }
     },
     "f7c18f76f67b4e68a25ad9020dc55bca": {
      "model_module": "@jupyter-widgets/base",
      "model_module_version": "2.0.0",
      "model_name": "LayoutModel",
      "state": {}
     },
     "f7e95d134a364dd49e586a1df7c0db0f": {
      "model_module": "@jupyter-widgets/controls",
      "model_module_version": "2.0.0",
      "model_name": "LabelStyleModel",
      "state": {
       "description_width": "",
       "font_family": null,
       "font_size": null,
       "font_style": null,
       "font_variant": null,
       "font_weight": null,
       "text_color": null,
       "text_decoration": null
      }
     },
     "f7eda01f091340d1a168536d91bf5e7f": {
      "model_module": "@jupyter-widgets/base",
      "model_module_version": "2.0.0",
      "model_name": "LayoutModel",
      "state": {}
     },
     "f7fba38b34e04bf7b77a4f303d26af06": {
      "model_module": "@jupyter-widgets/base",
      "model_module_version": "2.0.0",
      "model_name": "LayoutModel",
      "state": {
       "width": "100%"
      }
     },
     "f825e8f11e734bea9a0cd265a2557a9b": {
      "model_module": "@jupyter-widgets/controls",
      "model_module_version": "2.0.0",
      "model_name": "ButtonModel",
      "state": {
       "icon": "arrow-up",
       "layout": "IPY_MODEL_2d0773ae7efe4566affac78f4e812b1e",
       "style": "IPY_MODEL_adcebf1fd9b24163b3ac2461cf8e225d",
       "tooltip": null
      }
     },
     "f8380e5348fc41fda91d19223d424e88": {
      "model_module": "@jupyter-widgets/base",
      "model_module_version": "2.0.0",
      "model_name": "LayoutModel",
      "state": {
       "display": "flex",
       "justify_content": "flex-end"
      }
     },
     "f839b4af090940d5bd43acbd6a5c27ff": {
      "model_module": "@jupyter-widgets/controls",
      "model_module_version": "2.0.0",
      "model_name": "DescriptionStyleModel",
      "state": {
       "description_width": ""
      }
     },
     "f85b35e2aca04286a1f37b103b581316": {
      "model_module": "@jupyter-widgets/base",
      "model_module_version": "2.0.0",
      "model_name": "LayoutModel",
      "state": {
       "width": "100%"
      }
     },
     "f89c0887cb9744f49187154b3b0335b6": {
      "model_module": "@jupyter-widgets/base",
      "model_module_version": "2.0.0",
      "model_name": "LayoutModel",
      "state": {
       "border_bottom": "none",
       "border_left": "none",
       "border_right": "none",
       "border_top": "none",
       "width": "100%"
      }
     },
     "f8a5cba31fd14b65b009285ba1d068ea": {
      "model_module": "@jupyter-widgets/controls",
      "model_module_version": "2.0.0",
      "model_name": "TextStyleModel",
      "state": {
       "description_width": "",
       "font_size": null,
       "text_color": null
      }
     },
     "f8bfdedcc06b4ddfab4c2314687568bf": {
      "model_module": "@jupyter-widgets/controls",
      "model_module_version": "2.0.0",
      "model_name": "LabelModel",
      "state": {
       "layout": "IPY_MODEL_44ce6518c8a744398c60ff48075ae362",
       "style": "IPY_MODEL_8f6d711be1a146039ce35e2c32e34ff5"
      }
     },
     "f8f7b2c9ca764053941287abb12dcbae": {
      "model_module": "@jupyter-widgets/controls",
      "model_module_version": "2.0.0",
      "model_name": "HBoxModel",
      "state": {
       "children": [
        "IPY_MODEL_402f77695a354066bc9b58a13678450d",
        "IPY_MODEL_37a77462ee6b4f82ba452b10ee606d0c"
       ],
       "layout": "IPY_MODEL_2ea8aee35c054256b87dd5fc1ab5a8a8"
      }
     },
     "f915341b5a3949869b445f6c2c97ea49": {
      "model_module": "@jupyter-widgets/base",
      "model_module_version": "2.0.0",
      "model_name": "LayoutModel",
      "state": {}
     },
     "f93b9d119d3a4656ad786d1eba3fc04e": {
      "model_module": "@jupyter-widgets/base",
      "model_module_version": "2.0.0",
      "model_name": "LayoutModel",
      "state": {
       "width": "100%"
      }
     },
     "f977cacac9e041f399895f11744a4ae4": {
      "model_module": "@jupyter-widgets/controls",
      "model_module_version": "2.0.0",
      "model_name": "TextModel",
      "state": {
       "layout": "IPY_MODEL_5e7010db9c6e45938f74b9ca0855809d",
       "style": "IPY_MODEL_bc1c8202124c4ac6af8fb858133045cd",
       "tooltip": "Name",
       "value": "John Doe"
      }
     },
     "f993276c39d34810b333aac788d3c2d1": {
      "model_module": "@jupyter-widgets/controls",
      "model_module_version": "2.0.0",
      "model_name": "LabelModel",
      "state": {
       "layout": "IPY_MODEL_7bd99982ccb240aa95bbcfb97807f026",
       "style": "IPY_MODEL_20342e54afbc40debfd40640fb10b134",
       "value": "Age"
      }
     },
     "f9af85e9b56b41b780ae2868e3c2cef6": {
      "model_module": "@jupyter-widgets/controls",
      "model_module_version": "2.0.0",
      "model_name": "TextStyleModel",
      "state": {
       "description_width": "",
       "font_size": null,
       "text_color": null
      }
     },
     "f9dcbfa714ab47e297e192030a6b2d20": {
      "model_module": "@jupyter-widgets/controls",
      "model_module_version": "2.0.0",
      "model_name": "LabelStyleModel",
      "state": {
       "description_width": "",
       "font_family": null,
       "font_size": null,
       "font_style": null,
       "font_variant": null,
       "font_weight": null,
       "text_color": null,
       "text_decoration": null
      }
     },
     "f9e9f52e2b594edeb8dfb2ae8629933a": {
      "model_module": "@jupyter-widgets/base",
      "model_module_version": "2.0.0",
      "model_name": "LayoutModel",
      "state": {
       "display": "none"
      }
     },
     "fa04243fb1dd4d8da2236de7a9542d7e": {
      "model_module": "@jupyter-widgets/base",
      "model_module_version": "2.0.0",
      "model_name": "LayoutModel",
      "state": {
       "width": "33%"
      }
     },
     "fa3db3bbb531438eba2c7186f83af195": {
      "model_module": "@jupyter-widgets/base",
      "model_module_version": "2.0.0",
      "model_name": "LayoutModel",
      "state": {}
     },
     "fa6a397b19c34ba9aa28f322d53a81fc": {
      "model_module": "@jupyter-widgets/base",
      "model_module_version": "2.0.0",
      "model_name": "LayoutModel",
      "state": {
       "width": "100%"
      }
     },
     "fab95d55053c46d5b626e3954dc9aa98": {
      "model_module": "@jupyter-widgets/base",
      "model_module_version": "2.0.0",
      "model_name": "LayoutModel",
      "state": {
       "width": "100%"
      }
     },
     "fb1bdf072e9d4388a52fc95a45480eeb": {
      "model_module": "@jupyter-widgets/controls",
      "model_module_version": "2.0.0",
      "model_name": "HBoxModel",
      "state": {
       "children": [
        "IPY_MODEL_270e63b6cb3d4558a88d7c9642c2feb7",
        "IPY_MODEL_bb4d9294b04246418df558b86451c91a"
       ],
       "layout": "IPY_MODEL_f4215b5126604f0188ad7cc31177993b"
      }
     },
     "fb64c797a62a45a1a82d09f6f0e67df6": {
      "model_module": "@jupyter-widgets/base",
      "model_module_version": "2.0.0",
      "model_name": "LayoutModel",
      "state": {
       "border_bottom": "none",
       "border_left": "none",
       "border_right": "none",
       "border_top": "none",
       "width": "100%"
      }
     },
     "fb7aa5d14cc24f1590a65df3e6a77ee5": {
      "model_module": "@jupyter-widgets/controls",
      "model_module_version": "2.0.0",
      "model_name": "TextStyleModel",
      "state": {
       "description_width": "",
       "font_size": null,
       "text_color": null
      }
     },
     "fbbb4645768b4ca08926ea905da5bd65": {
      "model_module": "@jupyter-widgets/controls",
      "model_module_version": "2.0.0",
      "model_name": "VBoxModel",
      "state": {
       "children": [
        "IPY_MODEL_796a151549cd468a825ee5f868ed0aa9",
        "IPY_MODEL_6575a9d720e0494383b15e769e42bd90"
       ],
       "layout": "IPY_MODEL_e65ad0b8acb64d9c8c428c055d92c711"
      }
     },
     "fbdb85ec3b23466dad169af96020e15b": {
      "model_module": "@jupyter-widgets/controls",
      "model_module_version": "2.0.0",
      "model_name": "CheckboxStyleModel",
      "state": {
       "description_width": ""
      }
     },
     "fbf891e3e4564df78204a02cd18f3431": {
      "model_module": "@jupyter-widgets/controls",
      "model_module_version": "2.0.0",
      "model_name": "ButtonModel",
      "state": {
       "icon": "arrow-up",
       "layout": "IPY_MODEL_9791e794815e4553a62ba58aef6d5dc0",
       "style": "IPY_MODEL_e1e9e56fe0814063b21f5895b89da092",
       "tooltip": null
      }
     },
     "fc04c53ade5c47da8317369a471dc07f": {
      "model_module": "@jupyter-widgets/base",
      "model_module_version": "2.0.0",
      "model_name": "LayoutModel",
      "state": {
       "border_bottom": "none",
       "border_left": "none",
       "border_right": "none",
       "border_top": "none",
       "width": "100%"
      }
     },
     "fc2d10094c4f4b3caa26eee90a2a85a1": {
      "model_module": "@jupyter-widgets/controls",
      "model_module_version": "2.0.0",
      "model_name": "ButtonModel",
      "state": {
       "icon": "arrow-down",
       "layout": "IPY_MODEL_a686a93a92df429f9b7ca8a692fcfd8b",
       "style": "IPY_MODEL_85a1a4d1361a4cde976ae5f341962163",
       "tooltip": null
      }
     },
     "fc2e9d4d1ff0406e9281e54b049fcb66": {
      "model_module": "@jupyter-widgets/controls",
      "model_module_version": "2.0.0",
      "model_name": "DescriptionStyleModel",
      "state": {
       "description_width": ""
      }
     },
     "fce5006fd76c4a0885c34fa50c666a69": {
      "model_module": "@jupyter-widgets/controls",
      "model_module_version": "2.0.0",
      "model_name": "HBoxModel",
      "state": {
       "children": [
        "IPY_MODEL_aca639d95e244d48a1a439535adc74f1",
        "IPY_MODEL_df44ff590107458aba51e7206a7cffa7"
       ],
       "layout": "IPY_MODEL_464cc8a36e894f76aa05e975579ab7ba"
      }
     },
     "fd693abd967347a5b93920271e9fbf58": {
      "model_module": "@jupyter-widgets/controls",
      "model_module_version": "2.0.0",
      "model_name": "ButtonStyleModel",
      "state": {
       "font_family": null,
       "font_size": null,
       "font_style": null,
       "font_variant": null,
       "font_weight": null,
       "text_color": null,
       "text_decoration": null
      }
     },
     "fd7a58e574b844e6a859b17fc05d8442": {
      "model_module": "@jupyter-widgets/controls",
      "model_module_version": "2.0.0",
      "model_name": "TextStyleModel",
      "state": {
       "description_width": "",
       "font_size": null,
       "text_color": null
      }
     },
     "fd8ef21442bf48759fa34613868f2c9a": {
      "model_module": "@jupyter-widgets/base",
      "model_module_version": "2.0.0",
      "model_name": "LayoutModel",
      "state": {
       "width": "100%"
      }
     },
     "fdb73824392f494cb6eb1bf40388bb78": {
      "model_module": "@jupyter-widgets/base",
      "model_module_version": "2.0.0",
      "model_name": "LayoutModel",
      "state": {
       "width": "100%"
      }
     },
     "fdcb99a8651d401bb6c90d99f5352414": {
      "model_module": "@jupyter-widgets/controls",
      "model_module_version": "2.0.0",
      "model_name": "LabelModel",
      "state": {
       "layout": "IPY_MODEL_5794436a210a4bca8edc8084c3d6a066",
       "style": "IPY_MODEL_ee18e5b43dba4d77ace93fba5b1d2e02",
       "value": "Name"
      }
     },
     "fe1affc333df48018df5db5a23a58065": {
      "model_module": "@jupyter-widgets/controls",
      "model_module_version": "2.0.0",
      "model_name": "ButtonStyleModel",
      "state": {
       "font_family": null,
       "font_size": null,
       "font_style": null,
       "font_variant": null,
       "font_weight": null,
       "text_color": null,
       "text_decoration": null
      }
     },
     "fe434cc7e6084433817026bf29d8f2b4": {
      "model_module": "@jupyter-widgets/controls",
      "model_module_version": "2.0.0",
      "model_name": "LabelStyleModel",
      "state": {
       "description_width": "",
       "font_family": null,
       "font_size": null,
       "font_style": null,
       "font_variant": null,
       "font_weight": null,
       "text_color": null,
       "text_decoration": null
      }
     },
     "fe5d4b1bc5b441809976949194e2b1d4": {
      "model_module": "@jupyter-widgets/base",
      "model_module_version": "2.0.0",
      "model_name": "LayoutModel",
      "state": {
       "width": "100%"
      }
     },
     "fe79a89429ef4041abdb82c8b03b8c54": {
      "model_module": "@jupyter-widgets/controls",
      "model_module_version": "2.0.0",
      "model_name": "LabelStyleModel",
      "state": {
       "description_width": "",
       "font_family": null,
       "font_size": null,
       "font_style": null,
       "font_variant": null,
       "font_weight": null,
       "text_color": null,
       "text_decoration": null
      }
     },
     "ff10b5fa738b42b1a26c0055a67ed1be": {
      "model_module": "@jupyter-widgets/base",
      "model_module_version": "2.0.0",
      "model_name": "LayoutModel",
      "state": {
       "width": "100%"
      }
     },
     "ff6d1d5702e143bd83eea198e767d816": {
      "model_module": "@jupyter-widgets/controls",
      "model_module_version": "2.0.0",
      "model_name": "LabelStyleModel",
      "state": {
       "description_width": "",
       "font_family": null,
       "font_size": null,
       "font_style": null,
       "font_variant": null,
       "font_weight": null,
       "text_color": null,
       "text_decoration": null
      }
     },
     "ff7a65f3d99c4c8d9b5a5fa86510e0fc": {
      "model_module": "@jupyter-widgets/base",
      "model_module_version": "2.0.0",
      "model_name": "LayoutModel",
      "state": {}
     },
     "ff995098432946969a9c6abfc8fdf55f": {
      "model_module": "@jupyter-widgets/controls",
      "model_module_version": "2.0.0",
      "model_name": "HBoxModel",
      "state": {
       "children": [
        "IPY_MODEL_d68a944696594b189e0e79278462e5d6",
        "IPY_MODEL_d0eba51c7c3e476981ec7f3197fe9b85"
       ],
       "layout": "IPY_MODEL_11859aedeed94e7e86df42a88afebf03"
      }
     },
     "ffa091bf77df42a08cc4e8fc123a381c": {
      "model_module": "@jupyter-widgets/controls",
      "model_module_version": "2.0.0",
      "model_name": "DescriptionStyleModel",
      "state": {
       "description_width": ""
      }
     }
    },
    "version_major": 2,
    "version_minor": 0
   }
  }
 },
 "nbformat": 4,
 "nbformat_minor": 4
}
