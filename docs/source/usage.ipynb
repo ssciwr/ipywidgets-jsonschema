{
 "cells": [
  {
   "cell_type": "markdown",
   "metadata": {},
   "source": [
    "# Usage guide"
   ]
  },
  {
   "cell_type": "markdown",
   "metadata": {},
   "source": [
    "This guide demonstrates how to generate interactive forms from `JSON Schema`\n",
    " or `pydantic` models using `ipywidgets-jsonschema`."
   ]
  },
  {
   "cell_type": "markdown",
   "metadata": {},
   "source": [
    "## Basic example with `JSON schema`\n",
    "`ipywidgets-jsonschema` allows you to generate a widget form from an existing schema that follows the JSON Schema specification. We first define a schema:"
   ]
  },
  {
   "cell_type": "code",
   "execution_count": null,
   "metadata": {},
   "outputs": [],
   "source": [
    "schema = {\n",
    "    \"type\": \"object\",\n",
    "    \"properties\": {\n",
    "        \"name\": {\"type\": \"string\", \"title\": \"Name\"},\n",
    "        \"food\": {\n",
    "            \"type\": \"array\",\n",
    "            \"items\": {\"type\": \"string\"},\n",
    "            \"title\": \"Preferred Food\",\n",
    "        },\n",
    "    },\n",
    "}"
   ]
  },
  {
   "cell_type": "markdown",
   "metadata": {},
   "source": [
    "Generating the widget form for it and visualizing it in Jupyter is as simple as this:"
   ]
  },
  {
   "cell_type": "code",
   "execution_count": null,
   "metadata": {},
   "outputs": [],
   "source": [
    "from ipywidgets_jsonschema import Form\n",
    "\n",
    "form = Form(schema)\n",
    "form.show()"
   ]
  },
  {
   "cell_type": "markdown",
   "metadata": {},
   "source": [
    "This will display a form in Jupyter where users can input data according to the schema.\n",
    "To access current data, we can use the `data` property of `form`:"
   ]
  },
  {
   "cell_type": "code",
   "execution_count": null,
   "metadata": {},
   "outputs": [],
   "source": [
    "form.data"
   ]
  },
  {
   "cell_type": "markdown",
   "metadata": {},
   "source": [
    "This will automatically validate the data."
   ]
  },
  {
   "cell_type": "markdown",
   "metadata": {},
   "source": [
    "## Basic example using `pydantic`\n",
    "`ipywidgets-jsonschema`can be easily integrated with `pydantic` models.\n",
    "First create a `pydantic` model:"
   ]
  },
  {
   "cell_type": "code",
   "execution_count": null,
   "metadata": {},
   "outputs": [],
   "source": [
    "from pydantic import BaseModel\n",
    "\n",
    "\n",
    "class User(BaseModel):\n",
    "    name: str\n",
    "    adress: str"
   ]
  },
  {
   "cell_type": "markdown",
   "metadata": {},
   "source": [
    "Then create the schema using `model_json_schema()` or just `schema()`:"
   ]
  },
  {
   "cell_type": "code",
   "execution_count": null,
   "metadata": {},
   "outputs": [],
   "source": [
    "schema_user = User.schema()\n",
    "schema_user"
   ]
  },
  {
   "cell_type": "markdown",
   "metadata": {},
   "source": [
    "Then generate the widget form as usual:"
   ]
  },
  {
   "cell_type": "code",
   "execution_count": null,
   "metadata": {},
   "outputs": [],
   "source": [
    "from ipywidgets_jsonschema import Form\n",
    "\n",
    "form = Form(schema_user)\n",
    "form.show()"
   ]
  },
  {
   "cell_type": "markdown",
   "metadata": {},
   "source": [
    "Alternatively, you can create a widget form directly from the pydantic model without needing to generate a JSON schema manually:"
   ]
  },
  {
   "cell_type": "code",
   "execution_count": null,
   "metadata": {},
   "outputs": [],
   "source": [
    "form = Form(User)\n",
    "form.show()"
   ]
  },
  {
   "cell_type": "markdown",
   "metadata": {},
   "source": [
    "## Customizing layout and styling"
   ]
  },
  {
   "cell_type": "markdown",
   "metadata": {},
   "source": [
    "`ipywidgets-jsonschema` provides some customization options to controll the appearance and behavior of generated forms. This includes adjusting the layout, enabling sliders for numberic input, preconstructing array items and configuring date/time formats.\n",
    "Here is an example:"
   ]
  },
  {
   "cell_type": "code",
   "execution_count": null,
   "metadata": {},
   "outputs": [],
   "source": [
    "class MyModel(BaseModel):\n",
    "    name: str\n",
    "    height: int"
   ]
  },
  {
   "cell_type": "code",
   "execution_count": null,
   "metadata": {},
   "outputs": [],
   "source": [
    "form = Form(\n",
    "    MyModel,\n",
    "    vertically_place_labels=True,\n",
    "    use_sliders=True,\n",
    ")\n",
    "form.show(width=\"500px\")"
   ]
  },
  {
   "cell_type": "markdown",
   "metadata": {},
   "source": [
    "See the [Class reference](api/modules.html) for more details."
   ]
  },
  {
   "cell_type": "markdown",
   "metadata": {},
   "source": [
    "## Using `PydanticEditorMixin` for interactive pydantic model editing"
   ]
  },
  {
   "cell_type": "markdown",
   "metadata": {},
   "source": [
    "`PydanticEditorMixin` allows interactive editing of pydantic models in Jupyter. It extends any model, allowing you to edit its attributes dynamically using an interactive form. It provides: \n",
    "* A Form Interface: Displays the model’s attributes as editable fields.\n",
    "* Edit Mode Toggle: Enter edit mode and change values.\n",
    "* Save & Cancel Buttons: Save changes or revert to the original values.\n"
   ]
  },
  {
   "cell_type": "markdown",
   "metadata": {},
   "source": [
    "First import `PydanticEditorMixin` using:"
   ]
  },
  {
   "cell_type": "code",
   "execution_count": null,
   "metadata": {},
   "outputs": [],
   "source": [
    "from ipywidgets_jsonschema.pydantic_editor_mixin import PydanticEditorMixin"
   ]
  },
  {
   "cell_type": "markdown",
   "metadata": {},
   "source": [
    "Then simply inherit from PydanticEditorMixin along with your pydantic model:"
   ]
  },
  {
   "cell_type": "code",
   "execution_count": null,
   "metadata": {},
   "outputs": [],
   "source": [
    "class MyModel(PydanticEditorMixin, BaseModel):\n",
    "    name: str\n",
    "    age: int\n",
    "    email: str\n",
    "\n",
    "\n",
    "model = MyModel(name=\"John Doe\", age=30, email=\"john.doe@example.com\")\n",
    "model.edit()"
   ]
  },
  {
   "cell_type": "markdown",
   "metadata": {},
   "source": [
    "This will render a form where each field can be updated, with Cancel or Save buttons to confirm or discard the changes."
   ]
  }
 ],
 "metadata": {
  "kernelspec": {
   "display_name": "Python 3 (ipykernel)",
   "language": "python",
   "name": "python3"
  },
  "language_info": {
   "codemirror_mode": {
    "name": "ipython",
    "version": 3
   },
   "file_extension": ".py",
   "mimetype": "text/x-python",
   "name": "python",
   "nbconvert_exporter": "python",
   "pygments_lexer": "ipython3",
   "version": "3.12.7"
  }
 },
 "nbformat": 4,
 "nbformat_minor": 4
}
