{
 "cells": [
  {
   "cell_type": "markdown",
   "id": "0",
   "metadata": {},
   "source": [
    "# ipywidgets-jsonschema Quick Demo"
   ]
  },
  {
   "cell_type": "code",
   "execution_count": null,
   "id": "1",
   "metadata": {},
   "outputs": [],
   "source": [
    "# This notebook shows:\n",
    "# 1. Generating a form from a raw JSON Schema\n",
    "# 2. Generating a form from a Pydantic model\n",
    "# 3. Nested models, lists, enums\n",
    "# 4. Customizing layout and options\n",
    "# 5. Interactive editing via `PydanticEditorMixin`"
   ]
  },
  {
   "cell_type": "code",
   "execution_count": null,
   "id": "2",
   "metadata": {},
   "outputs": [],
   "source": [
    "%load_ext autoreload\n",
    "%autoreload 2"
   ]
  },
  {
   "cell_type": "code",
   "execution_count": null,
   "id": "3",
   "metadata": {},
   "outputs": [],
   "source": [
    "from typing import List, Dict, Union, Optional\n",
    "from enum import Enum\n",
    "from pydantic import BaseModel, Field\n",
    "from ipywidgets_jsonschema import Form, PydanticEditorMixin\n",
    "import ipywidgets as widgets\n",
    "from IPython.display import display"
   ]
  },
  {
   "cell_type": "code",
   "execution_count": null,
   "id": "4",
   "metadata": {},
   "outputs": [],
   "source": [
    "# 1. Raw JSON Schema\n",
    "\n",
    "# Define a plain JSON Schema and render a form:"
   ]
  },
  {
   "cell_type": "code",
   "execution_count": null,
   "id": "5",
   "metadata": {},
   "outputs": [],
   "source": [
    "person_schema = {\n",
    "    \"title\": \"Person\",\n",
    "    \"type\": \"object\",\n",
    "    \"properties\": {\n",
    "        \"name\": {\"type\": \"string\", \"description\": \"Your full name\"},\n",
    "        \"age\": {\"type\": \"integer\", \"minimum\": 0, \"description\": \"Your age in years\"},\n",
    "        \"email\": {\n",
    "            \"type\": \"string\",\n",
    "            \"format\": \"email\",\n",
    "            \"description\": \"Optional email address\",\n",
    "        },\n",
    "    },\n",
    "    \"required\": [\"name\", \"age\"],\n",
    "}"
   ]
  },
  {
   "cell_type": "code",
   "execution_count": null,
   "id": "6",
   "metadata": {},
   "outputs": [],
   "source": [
    "form1 = Form(person_schema, show_descriptions=True)\n",
    "form1.show()"
   ]
  },
  {
   "cell_type": "code",
   "execution_count": null,
   "id": "7",
   "metadata": {},
   "outputs": [],
   "source": [
    "# 2. Pydantic Model\n",
    "\n",
    "# You can pass a Pydantic `BaseModel` class directly to `Form`, which will internally convert it to JSON Schema."
   ]
  },
  {
   "cell_type": "code",
   "execution_count": null,
   "id": "8",
   "metadata": {},
   "outputs": [],
   "source": [
    "class Person(BaseModel):\n",
    "    name: str = Field(..., description=\"Your full name\")\n",
    "    age: int = Field(..., ge=0, description=\"Your age in years\")\n",
    "    email: Optional[str] = Field(None, description=\"Email address\")\n",
    "\n",
    "\n",
    "form2 = Form(\n",
    "    Person, vertically_place_labels=True, use_sliders=True, show_descriptions=True\n",
    ")\n",
    "form2.show()"
   ]
  },
  {
   "cell_type": "code",
   "execution_count": null,
   "id": "9",
   "metadata": {},
   "outputs": [],
   "source": [
    "# 3. Nested Models, Lists & Dicts"
   ]
  },
  {
   "cell_type": "code",
   "execution_count": null,
   "id": "10",
   "metadata": {},
   "outputs": [],
   "source": [
    "class Address(BaseModel):\n",
    "    street: str\n",
    "    city: str\n",
    "    zipcode: str = Field(..., description=\"5-digit ZIP code\")\n",
    "\n",
    "\n",
    "class Employee(BaseModel):\n",
    "    name: str\n",
    "    address: Address\n",
    "    tags: List[str] = Field(default_factory=list, description=\"List of tags\")\n",
    "    metadata: Dict[str, Union[str, int]] = Field(default_factory=dict)\n",
    "\n",
    "\n",
    "# Prebuild two list entries to show\n",
    "form3 = Form(Employee, preconstruct_array_items=2, show_descriptions=True)\n",
    "form3.show()"
   ]
  },
  {
   "cell_type": "code",
   "execution_count": null,
   "id": "11",
   "metadata": {},
   "outputs": [],
   "source": [
    "# 4. Enums & Union Types"
   ]
  },
  {
   "cell_type": "code",
   "execution_count": null,
   "id": "12",
   "metadata": {},
   "outputs": [],
   "source": [
    "class Role(Enum):\n",
    "    ADMIN = \"Admin\"\n",
    "    USER = \"User\"\n",
    "    GUEST = \"Guest\"\n",
    "\n",
    "\n",
    "class Member(BaseModel):\n",
    "    username: str\n",
    "    role: Role = Field(..., description=\"Select your role\")\n",
    "    extra: Union[str, int] = Field(..., description=\"Accepts string or integer\")\n",
    "\n",
    "\n",
    "form4 = Form(Member, show_descriptions=True)\n",
    "form4.show()"
   ]
  },
  {
   "cell_type": "code",
   "execution_count": null,
   "id": "13",
   "metadata": {},
   "outputs": [],
   "source": [
    "# 5. Interactive Editing with `PydanticEditorMixin`\n",
    "\n",
    "# Mix your Pydantic model with `PydanticEditorMixin` to get an “Edit → Save/Cancel” UI."
   ]
  },
  {
   "cell_type": "code",
   "execution_count": null,
   "id": "14",
   "metadata": {},
   "outputs": [],
   "source": [
    "class User(PydanticEditorMixin, BaseModel):\n",
    "    name: str\n",
    "    age: int\n",
    "    email: Optional[str]\n",
    "\n",
    "\n",
    "# instantiate and launch editor\n",
    "user = User(name=\"Alice\", age=28, email=\"alice@example.com\")\n",
    "user.edit()"
   ]
  },
  {
   "cell_type": "code",
   "execution_count": null,
   "id": "15",
   "metadata": {},
   "outputs": [],
   "source": []
  }
 ],
 "metadata": {
  "kernelspec": {
   "display_name": "pydantic",
   "language": "python",
   "name": "python3"
  },
  "language_info": {
   "codemirror_mode": {
    "name": "ipython",
    "version": 3
   },
   "file_extension": ".py",
   "mimetype": "text/x-python",
   "name": "python",
   "nbconvert_exporter": "python",
   "pygments_lexer": "ipython3",
   "version": "3.13.1"
  }
 },
 "nbformat": 4,
 "nbformat_minor": 5
}
