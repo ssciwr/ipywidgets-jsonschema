{
 "cells": [
  {
   "cell_type": "markdown",
   "metadata": {},
   "source": [
    "# Usage guide"
   ]
  },
  {
   "cell_type": "markdown",
   "metadata": {},
   "source": [
    "This guide demonstrates how to generate interactive forms from `JSON Schema`\n",
    " or `pydantic` models using `ipywidgets-jsonschema`."
   ]
  },
  {
   "cell_type": "markdown",
   "metadata": {},
   "source": [
    "## Basic example with `JSON schema`\n",
    "`ipywidgets-jsonschema` allows you to generate a widget form from an existing schema that follows the JSON Schema specification. We first define a schema:"
   ]
  },
  {
   "cell_type": "code",
   "execution_count": 1,
   "metadata": {},
   "outputs": [],
   "source": [
    "schema = {\n",
    "    \"type\": \"object\",\n",
    "    \"properties\": {\n",
    "        \"name\": {\"type\": \"string\", \"title\": \"Name\"},\n",
    "        \"food\": {\n",
    "            \"type\": \"array\",\n",
    "            \"items\": {\"type\": \"string\"},\n",
    "            \"title\": \"Preferred Food\",\n",
    "        },\n",
    "    },\n",
    "}"
   ]
  },
  {
   "cell_type": "markdown",
   "metadata": {},
   "source": [
    "Generating the widget form for it and visualizing it in Jupyter is as simple as this:"
   ]
  },
  {
   "cell_type": "code",
   "execution_count": 2,
   "metadata": {},
   "outputs": [
    {
     "data": {
      "application/vnd.jupyter.widget-view+json": {
       "model_id": "d0e3b2ee251c4a10a9eb5268989da44d",
       "version_major": 2,
       "version_minor": 0
      },
      "text/plain": [
       "VBox(children=(Accordion(children=(VBox(children=(VBox(children=(Button(description='Add entry', icon='plus', …"
      ]
     },
     "metadata": {},
     "output_type": "display_data"
    }
   ],
   "source": [
    "from ipywidgets_jsonschema import Form\n",
    "form = Form(schema)\n",
    "form.show()"
   ]
  },
  {
   "cell_type": "markdown",
   "metadata": {},
   "source": [
    "This will display a form in Jupyter where users can input data according to the schema.\n",
    "To access current data, we can use the `data` property of `form`:"
   ]
  },
  {
   "cell_type": "code",
   "execution_count": 3,
   "metadata": {},
   "outputs": [
    {
     "data": {
      "text/plain": [
       "{'name': '', 'food': []}"
      ]
     },
     "execution_count": 3,
     "metadata": {},
     "output_type": "execute_result"
    }
   ],
   "source": [
    "form.data"
   ]
  },
  {
   "cell_type": "markdown",
   "metadata": {},
   "source": [
    "This will automatically validate the data."
   ]
  },
  {
   "cell_type": "markdown",
   "metadata": {},
   "source": [
    "## Basic example using `pydantic`\n",
    "`ipywidgets-jsonschema`can be easily integrated with `pydantic` models.\n",
    "First create a `pydantic` model:"
   ]
  },
  {
   "cell_type": "code",
   "execution_count": 4,
   "metadata": {},
   "outputs": [],
   "source": [
    "from pydantic import BaseModel\n",
    "\n",
    "class User(BaseModel):\n",
    "    name: str\n",
    "    adress: str"
   ]
  },
  {
   "cell_type": "markdown",
   "metadata": {},
   "source": [
    "Then create the schema using `model_json_schema()` or just `schema()`:"
   ]
  },
  {
   "cell_type": "code",
   "execution_count": 5,
   "metadata": {},
   "outputs": [
    {
     "data": {
      "text/plain": [
       "{'properties': {'name': {'title': 'Name', 'type': 'string'},\n",
       "  'adress': {'title': 'Adress', 'type': 'string'}},\n",
       " 'required': ['name', 'adress'],\n",
       " 'title': 'User',\n",
       " 'type': 'object'}"
      ]
     },
     "execution_count": 5,
     "metadata": {},
     "output_type": "execute_result"
    }
   ],
   "source": [
    "schema_user = User.schema()\n",
    "schema_user"
   ]
  },
  {
   "cell_type": "markdown",
   "metadata": {},
   "source": [
    "Then generate the widget form as usual:"
   ]
  },
  {
   "cell_type": "code",
   "execution_count": 6,
   "metadata": {},
   "outputs": [
    {
     "data": {
      "application/vnd.jupyter.widget-view+json": {
       "model_id": "a6f28a1b7dda4c54bab591c29b28148c",
       "version_major": 2,
       "version_minor": 0
      },
      "text/plain": [
       "VBox(children=(HBox(children=(Label(value='Adress', layout=Layout(width='100%')), Text(value='', layout=Layout…"
      ]
     },
     "metadata": {},
     "output_type": "display_data"
    }
   ],
   "source": [
    "from ipywidgets_jsonschema import Form\n",
    "form = Form(schema_user)\n",
    "form.show()"
   ]
  },
  {
   "cell_type": "markdown",
   "metadata": {},
   "source": [
    "Alternatively, you can create a widget form directly from the pydantic model without needing to generate a JSON schema manually:"
   ]
  },
  {
   "cell_type": "code",
   "execution_count": 7,
   "metadata": {},
   "outputs": [
    {
     "data": {
      "application/vnd.jupyter.widget-view+json": {
       "model_id": "8aba060e40234e9189264722d5699cd0",
       "version_major": 2,
       "version_minor": 0
      },
      "text/plain": [
       "VBox(children=(HBox(children=(Label(value='Adress', layout=Layout(width='100%')), Text(value='', layout=Layout…"
      ]
     },
     "metadata": {},
     "output_type": "display_data"
    }
   ],
   "source": [
    "form = Form(User)\n",
    "form.show()"
   ]
  },
  {
   "cell_type": "markdown",
   "metadata": {},
   "source": [
    "## Customizing layout and styling"
   ]
  },
  {
   "cell_type": "markdown",
   "metadata": {},
   "source": [
    "`ipywidgets-jsonschema` provides some customization options to controll the appearance and behavior of generated forms. This includes adjusting the layout, enabling sliders for numberic input, preconstructing array items and configuring date/time formats.\n",
    "Here is an example:"
   ]
  },
  {
   "cell_type": "code",
   "execution_count": 8,
   "metadata": {},
   "outputs": [],
   "source": [
    "class MyModel(BaseModel):\n",
    "    name: str\n",
    "    height: int"
   ]
  },
  {
   "cell_type": "code",
   "execution_count": 9,
   "metadata": {},
   "outputs": [
    {
     "data": {
      "application/vnd.jupyter.widget-view+json": {
       "model_id": "20b9343ad3c041d893e47efe2fef42cf",
       "version_major": 2,
       "version_minor": 0
      },
      "text/plain": [
       "VBox(children=(VBox(children=(Label(value='Height', layout=Layout(width='100%')), IntText(value=0, layout=Layo…"
      ]
     },
     "metadata": {},
     "output_type": "display_data"
    }
   ],
   "source": [
    "form = Form(MyModel,vertically_place_labels=True, use_sliders=True,)\n",
    "form.show(width=\"500px\")"
   ]
  },
  {
   "cell_type": "markdown",
   "metadata": {},
   "source": [
    "See the [Class reference](api/modules.html) for more details."
   ]
  },
  {
   "cell_type": "markdown",
   "metadata": {},
   "source": [
    "## Using `PydanticEditorMixin` for interactive pydantic model editing"
   ]
  },
  {
   "cell_type": "markdown",
   "metadata": {},
   "source": [
    "`PydanticEditorMixin` allows interactive editing of pydantic models in Jupyter. It extends any model, allowing you to edit its attributes dynamically using an interactive form. It provides: \n",
    "* A Form Interface: Displays the model’s attributes as editable fields.\n",
    "* Edit Mode Toggle: Enter edit mode and change values.\n",
    "* Save & Cancel Buttons: Save changes or revert to the original values.\n"
   ]
  },
  {
   "cell_type": "markdown",
   "metadata": {},
   "source": [
    "First import `PydanticEditorMixin` using:"
   ]
  },
  {
   "cell_type": "code",
   "execution_count": 11,
   "metadata": {},
   "outputs": [],
   "source": [
    "from ipywidgets_jsonschema.pydantic_editor_mixin import PydanticEditorMixin"
   ]
  },
  {
   "cell_type": "markdown",
   "metadata": {},
   "source": [
    "Then simply inherit from PydanticEditorMixin along with your pydantic model:"
   ]
  },
  {
   "cell_type": "code",
   "execution_count": 12,
   "metadata": {},
   "outputs": [
    {
     "data": {
      "application/vnd.jupyter.widget-view+json": {
       "model_id": "fef10cdf11b241da954f43041b79c49a",
       "version_major": 2,
       "version_minor": 0
      },
      "text/plain": [
       "VBox(children=(Button(description='Edit', icon='pencil', style=ButtonStyle(), tooltip='Edit model'), Output(la…"
      ]
     },
     "metadata": {},
     "output_type": "display_data"
    }
   ],
   "source": [
    "class MyModel(PydanticEditorMixin, BaseModel):\n",
    "    name: str\n",
    "    age: int\n",
    "    email: str\n",
    "\n",
    "model = MyModel(name=\"John Doe\", age=30, email=\"john.doe@example.com\")\n",
    "model.edit()"
   ]
  },
  {
   "cell_type": "markdown",
   "metadata": {},
   "source": [
    "This will render a form where each field can be updated, with Cancel or Save buttons to confirm or discard the changes."
   ]
  }
 ],
 "metadata": {
  "kernelspec": {
   "display_name": "Python 3 (ipykernel)",
   "language": "python",
   "name": "python3"
  },
  "language_info": {
   "codemirror_mode": {
    "name": "ipython",
    "version": 3
   },
   "file_extension": ".py",
   "mimetype": "text/x-python",
   "name": "python",
   "nbconvert_exporter": "python",
   "pygments_lexer": "ipython3",
   "version": "3.12.7"
  },
  "widgets": {
   "application/vnd.jupyter.widget-state+json": {
    "state": {
     "000f61d14fba4a93ab177f7aa839b2c8": {
      "model_module": "@jupyter-widgets/controls",
      "model_module_version": "2.0.0",
      "model_name": "VBoxModel",
      "state": {
       "children": [
        "IPY_MODEL_e728ba2685d1472b8094bdae410fe5a1"
       ],
       "layout": "IPY_MODEL_8212af621c124fc1aba05a48b8534ce5"
      }
     },
     "0032ebe5cb7f4d58ab29aa176c49d6a9": {
      "model_module": "@jupyter-widgets/base",
      "model_module_version": "2.0.0",
      "model_name": "LayoutModel",
      "state": {
       "display": "none"
      }
     },
     "01b387d5a05b4baa87b12cd5728406c0": {
      "model_module": "@jupyter-widgets/controls",
      "model_module_version": "2.0.0",
      "model_name": "DescriptionStyleModel",
      "state": {
       "description_width": ""
      }
     },
     "042e7fb85ac94b0ab6bb5cb4f50a5bb7": {
      "model_module": "@jupyter-widgets/controls",
      "model_module_version": "2.0.0",
      "model_name": "ButtonModel",
      "state": {
       "button_style": "success",
       "description": "Save",
       "icon": "save",
       "layout": "IPY_MODEL_caf50cb17d7547f0a9118291a27f829a",
       "style": "IPY_MODEL_4c2d8b0381a6408ba6430cb63a24fdf0",
       "tooltip": "Save all changes"
      }
     },
     "04936f491cae46c5b3d843dbbea53f05": {
      "model_module": "@jupyter-widgets/controls",
      "model_module_version": "2.0.0",
      "model_name": "LabelStyleModel",
      "state": {
       "description_width": "",
       "font_family": null,
       "font_size": null,
       "font_style": null,
       "font_variant": null,
       "font_weight": null,
       "text_color": null,
       "text_decoration": null
      }
     },
     "053883386cf84e83a40865700191c0b9": {
      "model_module": "@jupyter-widgets/controls",
      "model_module_version": "2.0.0",
      "model_name": "LabelModel",
      "state": {
       "layout": "IPY_MODEL_3311414bf81c42d78b0ac252ea33c393",
       "style": "IPY_MODEL_afd48482404a49f1a9e47a4dc8352b94",
       "value": "Name"
      }
     },
     "055a4aeb166e43a1a3d6293867af58bf": {
      "model_module": "@jupyter-widgets/controls",
      "model_module_version": "2.0.0",
      "model_name": "TextStyleModel",
      "state": {
       "description_width": "",
       "font_size": null,
       "text_color": null
      }
     },
     "08cc6269273748ae9d2ffdc0d99a23f9": {
      "model_module": "@jupyter-widgets/base",
      "model_module_version": "2.0.0",
      "model_name": "LayoutModel",
      "state": {
       "width": "100%"
      }
     },
     "0923e3441605403f939a6b34ecb6fc2d": {
      "model_module": "@jupyter-widgets/controls",
      "model_module_version": "2.0.0",
      "model_name": "LabelModel",
      "state": {
       "layout": "IPY_MODEL_0032ebe5cb7f4d58ab29aa176c49d6a9",
       "style": "IPY_MODEL_445dec8d19e4433eb46ceb265d51000f"
      }
     },
     "0be6f4eb223946188465e52a75983cad": {
      "model_module": "@jupyter-widgets/controls",
      "model_module_version": "2.0.0",
      "model_name": "VBoxModel",
      "state": {
       "children": [
        "IPY_MODEL_fba0d879dc61447687d374f35e877fce",
        "IPY_MODEL_354780e1053a43f7ad4df1f67d0ec2fc"
       ],
       "layout": "IPY_MODEL_3ffb045ebfab46e8b34cbc61e11df675"
      }
     },
     "0c4dbedad3204a5bb3868954250569fd": {
      "model_module": "@jupyter-widgets/base",
      "model_module_version": "2.0.0",
      "model_name": "LayoutModel",
      "state": {
       "display": "none"
      }
     },
     "0dc8c15a30dd42edbef5ac1599185316": {
      "model_module": "@jupyter-widgets/controls",
      "model_module_version": "2.0.0",
      "model_name": "LabelStyleModel",
      "state": {
       "description_width": "",
       "font_family": null,
       "font_size": null,
       "font_style": null,
       "font_variant": null,
       "font_weight": null,
       "text_color": null,
       "text_decoration": null
      }
     },
     "0e4ab4af32d74cf984d4cb237bb7ea9b": {
      "model_module": "@jupyter-widgets/base",
      "model_module_version": "2.0.0",
      "model_name": "LayoutModel",
      "state": {
       "width": "100%"
      }
     },
     "1148c48b620c4efc940e15a46e934df6": {
      "model_module": "@jupyter-widgets/base",
      "model_module_version": "2.0.0",
      "model_name": "LayoutModel",
      "state": {
       "width": "100%"
      }
     },
     "11efad65e4474c4880bd8ae570f184a1": {
      "model_module": "@jupyter-widgets/output",
      "model_module_version": "1.0.0",
      "model_name": "OutputModel",
      "state": {
       "layout": "IPY_MODEL_3770d3a57e5e40c7a5806d86df42af62",
       "outputs": [
        {
         "data": {
          "application/vnd.jupyter.widget-view+json": {
           "model_id": "46189f69dc1c410ca08230b59471a0bb",
           "version_major": 2,
           "version_minor": 0
          },
          "text/plain": "VBox(children=(HBox(children=(Label(value='Age', layout=Layout(width='100%')), IntText(value=30, layout=Layout…"
         },
         "metadata": {},
         "output_type": "display_data"
        }
       ]
      }
     },
     "13396752a73e459f834d44b97d7c9f82": {
      "model_module": "@jupyter-widgets/controls",
      "model_module_version": "2.0.0",
      "model_name": "TextStyleModel",
      "state": {
       "description_width": "",
       "font_size": null,
       "text_color": null
      }
     },
     "137569116a9244d892e6ed6bed520a91": {
      "model_module": "@jupyter-widgets/base",
      "model_module_version": "2.0.0",
      "model_name": "LayoutModel",
      "state": {}
     },
     "169e8b7f635d4957b35c68e723d99732": {
      "model_module": "@jupyter-widgets/base",
      "model_module_version": "2.0.0",
      "model_name": "LayoutModel",
      "state": {
       "width": "100%"
      }
     },
     "176390146c0d4857be1fc170beb976a7": {
      "model_module": "@jupyter-widgets/base",
      "model_module_version": "2.0.0",
      "model_name": "LayoutModel",
      "state": {
       "width": "100%"
      }
     },
     "1a676c4f549d4997a80a7d97a2114231": {
      "model_module": "@jupyter-widgets/controls",
      "model_module_version": "2.0.0",
      "model_name": "TextStyleModel",
      "state": {
       "description_width": "",
       "font_size": null,
       "text_color": null
      }
     },
     "1d1e114f069847eaa908f36af5ef0633": {
      "model_module": "@jupyter-widgets/base",
      "model_module_version": "2.0.0",
      "model_name": "LayoutModel",
      "state": {
       "width": "100%"
      }
     },
     "1d584fb10eb2441fa1bdf27c94c75620": {
      "model_module": "@jupyter-widgets/base",
      "model_module_version": "2.0.0",
      "model_name": "LayoutModel",
      "state": {
       "width": "100%"
      }
     },
     "1ecc04f66bb447818a8fef9635bebd62": {
      "model_module": "@jupyter-widgets/base",
      "model_module_version": "2.0.0",
      "model_name": "LayoutModel",
      "state": {}
     },
     "1f50012deaff48628f1cd50b64385a18": {
      "model_module": "@jupyter-widgets/controls",
      "model_module_version": "2.0.0",
      "model_name": "HBoxModel",
      "state": {
       "children": [
        "IPY_MODEL_e9c97fba386d4f6a8109a910a540ddf7",
        "IPY_MODEL_87831be0fff348e39800f747dcf6fdc2"
       ],
       "layout": "IPY_MODEL_8758ec7e4252493e88ccad9bcae08971"
      }
     },
     "203e0c3c3e68468ab8339ab69b1943eb": {
      "model_module": "@jupyter-widgets/controls",
      "model_module_version": "2.0.0",
      "model_name": "DescriptionStyleModel",
      "state": {
       "description_width": ""
      }
     },
     "20b9343ad3c041d893e47efe2fef42cf": {
      "model_module": "@jupyter-widgets/controls",
      "model_module_version": "2.0.0",
      "model_name": "VBoxModel",
      "state": {
       "children": [
        "IPY_MODEL_4e389b438d2040389ece21bf30ee45ad",
        "IPY_MODEL_73e872c0b3fd47c18b10d4ef082d1064",
        "IPY_MODEL_0be6f4eb223946188465e52a75983cad",
        "IPY_MODEL_e56d6a3fbbc547fd87c24b4cbc70b720"
       ],
       "layout": "IPY_MODEL_fe247758486e474aaf280eaa851ce178"
      }
     },
     "20cec2b231dd4eaba496044191cb320c": {
      "model_module": "@jupyter-widgets/controls",
      "model_module_version": "2.0.0",
      "model_name": "TextModel",
      "state": {
       "layout": "IPY_MODEL_53c39d98be894a2a935629a3f1d4a136",
       "style": "IPY_MODEL_b7b0ce35c9ab45fdb259b6a4c292d6c7",
       "tooltip": "Name"
      }
     },
     "214b16a1ae4f47228cf79a7b35d5f912": {
      "model_module": "@jupyter-widgets/base",
      "model_module_version": "2.0.0",
      "model_name": "LayoutModel",
      "state": {
       "display": "none"
      }
     },
     "2340b7f10a4c4651a6e6af740ced58ee": {
      "model_module": "@jupyter-widgets/controls",
      "model_module_version": "2.0.0",
      "model_name": "TextStyleModel",
      "state": {
       "description_width": "",
       "font_size": null,
       "text_color": null
      }
     },
     "23aaed2552a04b30943c3f8043584abf": {
      "model_module": "@jupyter-widgets/base",
      "model_module_version": "2.0.0",
      "model_name": "LayoutModel",
      "state": {
       "display": "none"
      }
     },
     "23bcd70c425d42fbb5f4d256d399fa82": {
      "model_module": "@jupyter-widgets/controls",
      "model_module_version": "2.0.0",
      "model_name": "LabelStyleModel",
      "state": {
       "description_width": "",
       "font_family": null,
       "font_size": null,
       "font_style": null,
       "font_variant": null,
       "font_weight": null,
       "text_color": null,
       "text_decoration": null
      }
     },
     "24973829759e4f77a711bf94a4b3b0fc": {
      "model_module": "@jupyter-widgets/controls",
      "model_module_version": "2.0.0",
      "model_name": "TextStyleModel",
      "state": {
       "description_width": "",
       "font_size": null,
       "text_color": null
      }
     },
     "287a6d4279c64d689500e03e1989fc61": {
      "model_module": "@jupyter-widgets/controls",
      "model_module_version": "2.0.0",
      "model_name": "LabelStyleModel",
      "state": {
       "description_width": "",
       "font_family": null,
       "font_size": null,
       "font_style": null,
       "font_variant": null,
       "font_weight": null,
       "text_color": null,
       "text_decoration": null
      }
     },
     "28b63dcb53904496a3c803f69a346fe1": {
      "model_module": "@jupyter-widgets/controls",
      "model_module_version": "2.0.0",
      "model_name": "TextStyleModel",
      "state": {
       "description_width": "",
       "font_size": null,
       "text_color": null
      }
     },
     "299ef3bae48f495280154c78b19dd355": {
      "model_module": "@jupyter-widgets/controls",
      "model_module_version": "2.0.0",
      "model_name": "LabelModel",
      "state": {
       "layout": "IPY_MODEL_650b52926a8f4d4fb5122aef5ef833c8",
       "style": "IPY_MODEL_04936f491cae46c5b3d843dbbea53f05"
      }
     },
     "2a8ecef336b1490fa8665c1130497680": {
      "model_module": "@jupyter-widgets/controls",
      "model_module_version": "2.0.0",
      "model_name": "TextModel",
      "state": {
       "layout": "IPY_MODEL_4233b62723784e85a3fa8e83470bd1ca",
       "style": "IPY_MODEL_ff598e86bd13459691d2c4a0855c6f17",
       "tooltip": "Name"
      }
     },
     "2bba90287b5f43ff9fd9529fd2ba6d1c": {
      "model_module": "@jupyter-widgets/controls",
      "model_module_version": "2.0.0",
      "model_name": "TextStyleModel",
      "state": {
       "description_width": "",
       "font_size": null,
       "text_color": null
      }
     },
     "2d1d0851133c40b6a1512db7e700221b": {
      "model_module": "@jupyter-widgets/controls",
      "model_module_version": "2.0.0",
      "model_name": "TextStyleModel",
      "state": {
       "description_width": "",
       "font_size": null,
       "text_color": null
      }
     },
     "2d2ad9f20edb43ba9c59020f77fdd2bb": {
      "model_module": "@jupyter-widgets/controls",
      "model_module_version": "2.0.0",
      "model_name": "TextStyleModel",
      "state": {
       "description_width": "",
       "font_size": null,
       "text_color": null
      }
     },
     "2fc860db568f49d1999a145398ae9ae5": {
      "model_module": "@jupyter-widgets/controls",
      "model_module_version": "2.0.0",
      "model_name": "LabelStyleModel",
      "state": {
       "description_width": "",
       "font_family": null,
       "font_size": null,
       "font_style": null,
       "font_variant": null,
       "font_weight": null,
       "text_color": null,
       "text_decoration": null
      }
     },
     "30fa9c7fbbd84c9c808f1e10a161066f": {
      "model_module": "@jupyter-widgets/controls",
      "model_module_version": "2.0.0",
      "model_name": "LabelStyleModel",
      "state": {
       "description_width": "",
       "font_family": null,
       "font_size": null,
       "font_style": null,
       "font_variant": null,
       "font_weight": null,
       "text_color": null,
       "text_decoration": null
      }
     },
     "3311414bf81c42d78b0ac252ea33c393": {
      "model_module": "@jupyter-widgets/base",
      "model_module_version": "2.0.0",
      "model_name": "LayoutModel",
      "state": {
       "width": "100%"
      }
     },
     "354780e1053a43f7ad4df1f67d0ec2fc": {
      "model_module": "@jupyter-widgets/controls",
      "model_module_version": "2.0.0",
      "model_name": "TextModel",
      "state": {
       "layout": "IPY_MODEL_aca82c81ae504f0b9dc55b82f4eb9e7a",
       "style": "IPY_MODEL_3617da96731d4eeab234592df02cfc7e",
       "tooltip": "Name"
      }
     },
     "3617da96731d4eeab234592df02cfc7e": {
      "model_module": "@jupyter-widgets/controls",
      "model_module_version": "2.0.0",
      "model_name": "TextStyleModel",
      "state": {
       "description_width": "",
       "font_size": null,
       "text_color": null
      }
     },
     "366b02717f104288a8775742cf258e43": {
      "model_module": "@jupyter-widgets/controls",
      "model_module_version": "2.0.0",
      "model_name": "LabelStyleModel",
      "state": {
       "description_width": "",
       "font_family": null,
       "font_size": null,
       "font_style": null,
       "font_variant": null,
       "font_weight": null,
       "text_color": null,
       "text_decoration": null
      }
     },
     "374bca92cb844ed2ab80c9ab34c72727": {
      "model_module": "@jupyter-widgets/controls",
      "model_module_version": "2.0.0",
      "model_name": "TextModel",
      "state": {
       "layout": "IPY_MODEL_5f86c39d08fb40d08b83bef8e0079eed",
       "style": "IPY_MODEL_2340b7f10a4c4651a6e6af740ced58ee",
       "tooltip": "Adress"
      }
     },
     "3770d3a57e5e40c7a5806d86df42af62": {
      "model_module": "@jupyter-widgets/base",
      "model_module_version": "2.0.0",
      "model_name": "LayoutModel",
      "state": {
       "display": "block"
      }
     },
     "37d7c024f95941a49badc22fad0ad9c8": {
      "model_module": "@jupyter-widgets/controls",
      "model_module_version": "2.0.0",
      "model_name": "TextStyleModel",
      "state": {
       "description_width": "",
       "font_size": null,
       "text_color": null
      }
     },
     "394115b2e18d44639e1ae0a5edcd92dc": {
      "model_module": "@jupyter-widgets/controls",
      "model_module_version": "2.0.0",
      "model_name": "ButtonModel",
      "state": {
       "button_style": "warning",
       "description": "Cancel",
       "icon": "times",
       "layout": "IPY_MODEL_8d8e530b08f94a82bb1588be3b27cb6f",
       "style": "IPY_MODEL_e34c1248c685467eb1b9f9a49b6cb388",
       "tooltip": "Undo all changes"
      }
     },
     "39ebdf75275447b3ba7b4b8321c9772b": {
      "model_module": "@jupyter-widgets/base",
      "model_module_version": "2.0.0",
      "model_name": "LayoutModel",
      "state": {
       "width": "100%"
      }
     },
     "3c5c8b46b1a34462b25ee8df755e1041": {
      "model_module": "@jupyter-widgets/base",
      "model_module_version": "2.0.0",
      "model_name": "LayoutModel",
      "state": {
       "display": "none"
      }
     },
     "3ef5c8fe2e85465fb3163d5538885c12": {
      "model_module": "@jupyter-widgets/controls",
      "model_module_version": "2.0.0",
      "model_name": "HBoxModel",
      "state": {
       "children": [
        "IPY_MODEL_49552564e4d04c22a6a86dd8e7e5a261",
        "IPY_MODEL_374bca92cb844ed2ab80c9ab34c72727"
       ],
       "layout": "IPY_MODEL_1148c48b620c4efc940e15a46e934df6"
      }
     },
     "3f24db340d43400c9c1378e76d3af258": {
      "model_module": "@jupyter-widgets/base",
      "model_module_version": "2.0.0",
      "model_name": "LayoutModel",
      "state": {
       "width": "100%"
      }
     },
     "3ffb045ebfab46e8b34cbc61e11df675": {
      "model_module": "@jupyter-widgets/base",
      "model_module_version": "2.0.0",
      "model_name": "LayoutModel",
      "state": {
       "width": "100%"
      }
     },
     "4233b62723784e85a3fa8e83470bd1ca": {
      "model_module": "@jupyter-widgets/base",
      "model_module_version": "2.0.0",
      "model_name": "LayoutModel",
      "state": {
       "width": "100%"
      }
     },
     "431dbae267a6492c99cd5f85cd6101e4": {
      "model_module": "@jupyter-widgets/base",
      "model_module_version": "2.0.0",
      "model_name": "LayoutModel",
      "state": {}
     },
     "445dec8d19e4433eb46ceb265d51000f": {
      "model_module": "@jupyter-widgets/controls",
      "model_module_version": "2.0.0",
      "model_name": "LabelStyleModel",
      "state": {
       "description_width": "",
       "font_family": null,
       "font_size": null,
       "font_style": null,
       "font_variant": null,
       "font_weight": null,
       "text_color": null,
       "text_decoration": null
      }
     },
     "449e08adc9154d3c87edb82a826432b7": {
      "model_module": "@jupyter-widgets/controls",
      "model_module_version": "2.0.0",
      "model_name": "LabelStyleModel",
      "state": {
       "description_width": "",
       "font_family": null,
       "font_size": null,
       "font_style": null,
       "font_variant": null,
       "font_weight": null,
       "text_color": null,
       "text_decoration": null
      }
     },
     "45b5d5fdeb954c77b101b78163c19187": {
      "model_module": "@jupyter-widgets/base",
      "model_module_version": "2.0.0",
      "model_name": "LayoutModel",
      "state": {}
     },
     "46189f69dc1c410ca08230b59471a0bb": {
      "model_module": "@jupyter-widgets/controls",
      "model_module_version": "2.0.0",
      "model_name": "VBoxModel",
      "state": {
       "children": [
        "IPY_MODEL_dc711d044cf64f9f8843a7d6d957f644",
        "IPY_MODEL_66dcf58c6c6042f694f7872dbf947a29",
        "IPY_MODEL_897f1c3df5b54165b81cc76dc244b298",
        "IPY_MODEL_ea81d4e75f9642c0aac6a1d99bda57df",
        "IPY_MODEL_1f50012deaff48628f1cd50b64385a18",
        "IPY_MODEL_299ef3bae48f495280154c78b19dd355"
       ],
       "layout": "IPY_MODEL_7398dc0ca7c247189c56e5d6b21ddb90"
      }
     },
     "466364fc303d47e69bef958bbddcedeb": {
      "model_module": "@jupyter-widgets/base",
      "model_module_version": "2.0.0",
      "model_name": "LayoutModel",
      "state": {
       "display": "none"
      }
     },
     "46c05013494e4259b7ae2c4e5bc777cc": {
      "model_module": "@jupyter-widgets/controls",
      "model_module_version": "2.0.0",
      "model_name": "TextStyleModel",
      "state": {
       "description_width": "",
       "font_size": null,
       "text_color": null
      }
     },
     "491210d1c67e4dfd9aba59d1b89b2784": {
      "model_module": "@jupyter-widgets/controls",
      "model_module_version": "2.0.0",
      "model_name": "LabelModel",
      "state": {
       "layout": "IPY_MODEL_3c5c8b46b1a34462b25ee8df755e1041",
       "style": "IPY_MODEL_ffbc79cee59c4c6fb9d09dc68e877503"
      }
     },
     "49552564e4d04c22a6a86dd8e7e5a261": {
      "model_module": "@jupyter-widgets/controls",
      "model_module_version": "2.0.0",
      "model_name": "LabelModel",
      "state": {
       "layout": "IPY_MODEL_6de122c6d59349768245860ca35d1219",
       "style": "IPY_MODEL_287a6d4279c64d689500e03e1989fc61",
       "value": "Adress"
      }
     },
     "4c1cade3f20b4c7697b368d3887343eb": {
      "model_module": "@jupyter-widgets/base",
      "model_module_version": "2.0.0",
      "model_name": "LayoutModel",
      "state": {}
     },
     "4c2d8b0381a6408ba6430cb63a24fdf0": {
      "model_module": "@jupyter-widgets/controls",
      "model_module_version": "2.0.0",
      "model_name": "ButtonStyleModel",
      "state": {
       "font_family": null,
       "font_size": null,
       "font_style": null,
       "font_variant": null,
       "font_weight": null,
       "text_color": null,
       "text_decoration": null
      }
     },
     "4e389b438d2040389ece21bf30ee45ad": {
      "model_module": "@jupyter-widgets/controls",
      "model_module_version": "2.0.0",
      "model_name": "VBoxModel",
      "state": {
       "children": [
        "IPY_MODEL_c77f67622f674ed3ba9ab35c006bae00",
        "IPY_MODEL_d0cc8a57eeb9409cb2dcf546cff83ad7"
       ],
       "layout": "IPY_MODEL_fc17792a01c14860a0f17f5bba475493"
      }
     },
     "52c55405464c45da9f90c8be151b2fa8": {
      "model_module": "@jupyter-widgets/controls",
      "model_module_version": "2.0.0",
      "model_name": "TextStyleModel",
      "state": {
       "description_width": "",
       "font_size": null,
       "text_color": null
      }
     },
     "52e1ee28dbca4eaf9300515d560e877c": {
      "model_module": "@jupyter-widgets/controls",
      "model_module_version": "2.0.0",
      "model_name": "DescriptionStyleModel",
      "state": {
       "description_width": ""
      }
     },
     "53563a06acc3467a88c97d6db338b0f7": {
      "model_module": "@jupyter-widgets/controls",
      "model_module_version": "2.0.0",
      "model_name": "TextStyleModel",
      "state": {
       "description_width": "",
       "font_size": null,
       "text_color": null
      }
     },
     "53c39d98be894a2a935629a3f1d4a136": {
      "model_module": "@jupyter-widgets/base",
      "model_module_version": "2.0.0",
      "model_name": "LayoutModel",
      "state": {
       "width": "100%"
      }
     },
     "548d832da74f45a184c568fc4c09a325": {
      "model_module": "@jupyter-widgets/controls",
      "model_module_version": "2.0.0",
      "model_name": "DescriptionStyleModel",
      "state": {
       "description_width": ""
      }
     },
     "5936a98ac54042bba9e397c59671c333": {
      "model_module": "@jupyter-widgets/base",
      "model_module_version": "2.0.0",
      "model_name": "LayoutModel",
      "state": {}
     },
     "5ab15fd3d69b4751a674fbd92a790719": {
      "model_module": "@jupyter-widgets/controls",
      "model_module_version": "2.0.0",
      "model_name": "LabelStyleModel",
      "state": {
       "description_width": "",
       "font_family": null,
       "font_size": null,
       "font_style": null,
       "font_variant": null,
       "font_weight": null,
       "text_color": null,
       "text_decoration": null
      }
     },
     "5b7d3b569f254a55accc3b9af6f48267": {
      "model_module": "@jupyter-widgets/base",
      "model_module_version": "2.0.0",
      "model_name": "LayoutModel",
      "state": {
       "border_bottom": "none",
       "border_left": "none",
       "border_right": "none",
       "border_top": "none",
       "width": "100%"
      }
     },
     "5ccc8288bad14fcf934a3fb5e9687488": {
      "model_module": "@jupyter-widgets/base",
      "model_module_version": "2.0.0",
      "model_name": "LayoutModel",
      "state": {}
     },
     "5cf21e4a5e4c4d91a8f0d7e4ff26591f": {
      "model_module": "@jupyter-widgets/base",
      "model_module_version": "2.0.0",
      "model_name": "LayoutModel",
      "state": {}
     },
     "5f5b535126674980bfadb76205d8ed9c": {
      "model_module": "@jupyter-widgets/controls",
      "model_module_version": "2.0.0",
      "model_name": "TextStyleModel",
      "state": {
       "description_width": "",
       "font_size": null,
       "text_color": null
      }
     },
     "5f86c39d08fb40d08b83bef8e0079eed": {
      "model_module": "@jupyter-widgets/base",
      "model_module_version": "2.0.0",
      "model_name": "LayoutModel",
      "state": {
       "width": "100%"
      }
     },
     "61b6f24eba074a1fa65cc0f7d5913c15": {
      "model_module": "@jupyter-widgets/controls",
      "model_module_version": "2.0.0",
      "model_name": "LabelStyleModel",
      "state": {
       "description_width": "",
       "font_family": null,
       "font_size": null,
       "font_style": null,
       "font_variant": null,
       "font_weight": null,
       "text_color": null,
       "text_decoration": null
      }
     },
     "63c7408a9e364a649c3a9b8b399db760": {
      "model_module": "@jupyter-widgets/controls",
      "model_module_version": "2.0.0",
      "model_name": "ButtonStyleModel",
      "state": {
       "font_family": null,
       "font_size": null,
       "font_style": null,
       "font_variant": null,
       "font_weight": null,
       "text_color": null,
       "text_decoration": null
      }
     },
     "650b52926a8f4d4fb5122aef5ef833c8": {
      "model_module": "@jupyter-widgets/base",
      "model_module_version": "2.0.0",
      "model_name": "LayoutModel",
      "state": {
       "display": "none"
      }
     },
     "66dcf58c6c6042f694f7872dbf947a29": {
      "model_module": "@jupyter-widgets/controls",
      "model_module_version": "2.0.0",
      "model_name": "LabelModel",
      "state": {
       "layout": "IPY_MODEL_7e6b9b80fbb849ddb4c17703ff07b99a",
       "style": "IPY_MODEL_366b02717f104288a8775742cf258e43"
      }
     },
     "66ec86754f274e8caaad78f99d3f349b": {
      "model_module": "@jupyter-widgets/base",
      "model_module_version": "2.0.0",
      "model_name": "LayoutModel",
      "state": {
       "width": "100%"
      }
     },
     "671e3612c1f847c389f65389bdc890fc": {
      "model_module": "@jupyter-widgets/controls",
      "model_module_version": "2.0.0",
      "model_name": "TextStyleModel",
      "state": {
       "description_width": "",
       "font_size": null,
       "text_color": null
      }
     },
     "686d1c9f84864489a07be7109a7972c7": {
      "model_module": "@jupyter-widgets/controls",
      "model_module_version": "2.0.0",
      "model_name": "HBoxModel",
      "state": {
       "children": [
        "IPY_MODEL_6af8e05804aa46b7b1548916a3f6202a",
        "IPY_MODEL_7b7326c62d1c4b5694d564def002ca1f"
       ],
       "layout": "IPY_MODEL_1d1e114f069847eaa908f36af5ef0633"
      }
     },
     "6996c8b3843144c98d031505b5a41361": {
      "model_module": "@jupyter-widgets/base",
      "model_module_version": "2.0.0",
      "model_name": "LayoutModel",
      "state": {}
     },
     "6a3e6575f7684f05b7425c5ccc5c115a": {
      "model_module": "@jupyter-widgets/base",
      "model_module_version": "2.0.0",
      "model_name": "LayoutModel",
      "state": {}
     },
     "6af8e05804aa46b7b1548916a3f6202a": {
      "model_module": "@jupyter-widgets/controls",
      "model_module_version": "2.0.0",
      "model_name": "LabelModel",
      "state": {
       "layout": "IPY_MODEL_cc5b5810491e4216bbe541d1fc2e7adb",
       "style": "IPY_MODEL_449e08adc9154d3c87edb82a826432b7",
       "value": "Name"
      }
     },
     "6b6e5d50531d43ba8c91553906ccae32": {
      "model_module": "@jupyter-widgets/controls",
      "model_module_version": "2.0.0",
      "model_name": "LabelStyleModel",
      "state": {
       "description_width": "",
       "font_family": null,
       "font_size": null,
       "font_style": null,
       "font_variant": null,
       "font_weight": null,
       "text_color": null,
       "text_decoration": null
      }
     },
     "6c894c5a3b0d448399629a3e12dc33a3": {
      "model_module": "@jupyter-widgets/controls",
      "model_module_version": "2.0.0",
      "model_name": "LabelModel",
      "state": {
       "layout": "IPY_MODEL_214b16a1ae4f47228cf79a7b35d5f912",
       "style": "IPY_MODEL_6b6e5d50531d43ba8c91553906ccae32"
      }
     },
     "6de122c6d59349768245860ca35d1219": {
      "model_module": "@jupyter-widgets/base",
      "model_module_version": "2.0.0",
      "model_name": "LayoutModel",
      "state": {
       "width": "100%"
      }
     },
     "6fc78a78e002437ab1123ab2f21102d8": {
      "model_module": "@jupyter-widgets/base",
      "model_module_version": "2.0.0",
      "model_name": "LayoutModel",
      "state": {
       "width": "100%"
      }
     },
     "706a45816753460389f02817431cb280": {
      "model_module": "@jupyter-widgets/base",
      "model_module_version": "2.0.0",
      "model_name": "LayoutModel",
      "state": {
       "width": "100%"
      }
     },
     "70b7ff0b90ea4171ba87b9927cabf06d": {
      "model_module": "@jupyter-widgets/base",
      "model_module_version": "2.0.0",
      "model_name": "LayoutModel",
      "state": {}
     },
     "71982092edf04d9ca082bf80a06f53f1": {
      "model_module": "@jupyter-widgets/base",
      "model_module_version": "2.0.0",
      "model_name": "LayoutModel",
      "state": {}
     },
     "72bb095fbb334af8a4852c8bc4e45116": {
      "model_module": "@jupyter-widgets/base",
      "model_module_version": "2.0.0",
      "model_name": "LayoutModel",
      "state": {}
     },
     "73628d2d546a42939af29605c5c97b4f": {
      "model_module": "@jupyter-widgets/base",
      "model_module_version": "2.0.0",
      "model_name": "LayoutModel",
      "state": {}
     },
     "7398dc0ca7c247189c56e5d6b21ddb90": {
      "model_module": "@jupyter-widgets/base",
      "model_module_version": "2.0.0",
      "model_name": "LayoutModel",
      "state": {
       "width": "100%"
      }
     },
     "73e872c0b3fd47c18b10d4ef082d1064": {
      "model_module": "@jupyter-widgets/controls",
      "model_module_version": "2.0.0",
      "model_name": "LabelModel",
      "state": {
       "layout": "IPY_MODEL_0c4dbedad3204a5bb3868954250569fd",
       "style": "IPY_MODEL_f72abf01831743ebbf83cf1b301411a3"
      }
     },
     "76566cc7d22345d08b8aa21e3d8c34f2": {
      "model_module": "@jupyter-widgets/controls",
      "model_module_version": "2.0.0",
      "model_name": "TextStyleModel",
      "state": {
       "description_width": "",
       "font_size": null,
       "text_color": null
      }
     },
     "79f8bee1fecb4837a8509a38d86ed7fd": {
      "model_module": "@jupyter-widgets/controls",
      "model_module_version": "2.0.0",
      "model_name": "TextStyleModel",
      "state": {
       "description_width": "",
       "font_size": null,
       "text_color": null
      }
     },
     "7b16409dfd7041938ecd161349d85ed0": {
      "model_module": "@jupyter-widgets/base",
      "model_module_version": "2.0.0",
      "model_name": "LayoutModel",
      "state": {}
     },
     "7b7326c62d1c4b5694d564def002ca1f": {
      "model_module": "@jupyter-widgets/controls",
      "model_module_version": "2.0.0",
      "model_name": "TextModel",
      "state": {
       "layout": "IPY_MODEL_c40dc92b132f4a9db82f800d62482a80",
       "style": "IPY_MODEL_5f5b535126674980bfadb76205d8ed9c",
       "tooltip": "Name"
      }
     },
     "7e6b9b80fbb849ddb4c17703ff07b99a": {
      "model_module": "@jupyter-widgets/base",
      "model_module_version": "2.0.0",
      "model_name": "LayoutModel",
      "state": {
       "display": "none"
      }
     },
     "80674e45752a430dbfadc5e8c9e5628d": {
      "model_module": "@jupyter-widgets/base",
      "model_module_version": "2.0.0",
      "model_name": "LayoutModel",
      "state": {
       "border_bottom": "none",
       "border_left": "none",
       "border_right": "none",
       "border_top": "none",
       "width": "100%"
      }
     },
     "8212af621c124fc1aba05a48b8534ce5": {
      "model_module": "@jupyter-widgets/base",
      "model_module_version": "2.0.0",
      "model_name": "LayoutModel",
      "state": {}
     },
     "8545f0f65a1d40509322a797410098e0": {
      "model_module": "@jupyter-widgets/base",
      "model_module_version": "2.0.0",
      "model_name": "LayoutModel",
      "state": {
       "border_bottom": "none",
       "border_left": "none",
       "border_right": "none",
       "border_top": "none",
       "width": "100%"
      }
     },
     "8758ec7e4252493e88ccad9bcae08971": {
      "model_module": "@jupyter-widgets/base",
      "model_module_version": "2.0.0",
      "model_name": "LayoutModel",
      "state": {
       "width": "100%"
      }
     },
     "87831be0fff348e39800f747dcf6fdc2": {
      "model_module": "@jupyter-widgets/controls",
      "model_module_version": "2.0.0",
      "model_name": "TextModel",
      "state": {
       "layout": "IPY_MODEL_8545f0f65a1d40509322a797410098e0",
       "style": "IPY_MODEL_c3ae39f306334ffa8c48b6465234e870",
       "tooltip": "Name",
       "value": "John Doe"
      }
     },
     "87e55ff3045c427890694b8a0152989a": {
      "model_module": "@jupyter-widgets/controls",
      "model_module_version": "2.0.0",
      "model_name": "TextModel",
      "state": {
       "layout": "IPY_MODEL_80674e45752a430dbfadc5e8c9e5628d",
       "style": "IPY_MODEL_79f8bee1fecb4837a8509a38d86ed7fd",
       "tooltip": "Email",
       "value": "john.doe@example.com"
      }
     },
     "886a56eaec7e4e3e9686fe618050ab9d": {
      "model_module": "@jupyter-widgets/base",
      "model_module_version": "2.0.0",
      "model_name": "LayoutModel",
      "state": {}
     },
     "897f1c3df5b54165b81cc76dc244b298": {
      "model_module": "@jupyter-widgets/controls",
      "model_module_version": "2.0.0",
      "model_name": "HBoxModel",
      "state": {
       "children": [
        "IPY_MODEL_907c48aca83541d1a0a7467467c92710",
        "IPY_MODEL_87e55ff3045c427890694b8a0152989a"
       ],
       "layout": "IPY_MODEL_176390146c0d4857be1fc170beb976a7"
      }
     },
     "8a646555f68944718b782ebad0b8ba19": {
      "model_module": "@jupyter-widgets/controls",
      "model_module_version": "2.0.0",
      "model_name": "TextStyleModel",
      "state": {
       "description_width": "",
       "font_size": null,
       "text_color": null
      }
     },
     "8aba060e40234e9189264722d5699cd0": {
      "model_module": "@jupyter-widgets/controls",
      "model_module_version": "2.0.0",
      "model_name": "VBoxModel",
      "state": {
       "children": [
        "IPY_MODEL_bb49d5079d7a4947910e3113cf08e4e2",
        "IPY_MODEL_bd3d6491a81a454a927eadd4ef769494",
        "IPY_MODEL_bdf7d64c80dd45ce84bb585fa046fdcf",
        "IPY_MODEL_0923e3441605403f939a6b34ecb6fc2d"
       ],
       "layout": "IPY_MODEL_1d584fb10eb2441fa1bdf27c94c75620"
      }
     },
     "8d8e530b08f94a82bb1588be3b27cb6f": {
      "model_module": "@jupyter-widgets/base",
      "model_module_version": "2.0.0",
      "model_name": "LayoutModel",
      "state": {}
     },
     "907c48aca83541d1a0a7467467c92710": {
      "model_module": "@jupyter-widgets/controls",
      "model_module_version": "2.0.0",
      "model_name": "LabelModel",
      "state": {
       "layout": "IPY_MODEL_fd1ef58bdd014c1a90b017c3eb5bc0b8",
       "style": "IPY_MODEL_61b6f24eba074a1fa65cc0f7d5913c15",
       "value": "Email"
      }
     },
     "9134fb8942da41809a6aac3b10505612": {
      "model_module": "@jupyter-widgets/controls",
      "model_module_version": "2.0.0",
      "model_name": "LabelStyleModel",
      "state": {
       "description_width": "",
       "font_family": null,
       "font_size": null,
       "font_style": null,
       "font_variant": null,
       "font_weight": null,
       "text_color": null,
       "text_decoration": null
      }
     },
     "9d2ca223cd1746c9b746848ed85225e2": {
      "model_module": "@jupyter-widgets/base",
      "model_module_version": "2.0.0",
      "model_name": "LayoutModel",
      "state": {}
     },
     "9ded8311595a450883c905320dee97cc": {
      "model_module": "@jupyter-widgets/base",
      "model_module_version": "2.0.0",
      "model_name": "LayoutModel",
      "state": {}
     },
     "9ee765f8b22a4f31b0d19faa445a4f24": {
      "model_module": "@jupyter-widgets/base",
      "model_module_version": "2.0.0",
      "model_name": "LayoutModel",
      "state": {}
     },
     "a064509713274c9ab529a12e5ddfcec7": {
      "model_module": "@jupyter-widgets/controls",
      "model_module_version": "2.0.0",
      "model_name": "TextStyleModel",
      "state": {
       "description_width": "",
       "font_size": null,
       "text_color": null
      }
     },
     "a4a762645dc3477e8c3b59d6a88e662e": {
      "model_module": "@jupyter-widgets/controls",
      "model_module_version": "2.0.0",
      "model_name": "LabelStyleModel",
      "state": {
       "description_width": "",
       "font_family": null,
       "font_size": null,
       "font_style": null,
       "font_variant": null,
       "font_weight": null,
       "text_color": null,
       "text_decoration": null
      }
     },
     "a5d7254ec10745179e150ac1341c8ffb": {
      "model_module": "@jupyter-widgets/base",
      "model_module_version": "2.0.0",
      "model_name": "LayoutModel",
      "state": {}
     },
     "a6c2abc251014485bd596561d3224457": {
      "model_module": "@jupyter-widgets/controls",
      "model_module_version": "2.0.0",
      "model_name": "TextModel",
      "state": {
       "layout": "IPY_MODEL_6fc78a78e002437ab1123ab2f21102d8",
       "style": "IPY_MODEL_13396752a73e459f834d44b97d7c9f82",
       "tooltip": "Adress"
      }
     },
     "a6f28a1b7dda4c54bab591c29b28148c": {
      "model_module": "@jupyter-widgets/controls",
      "model_module_version": "2.0.0",
      "model_name": "VBoxModel",
      "state": {
       "children": [
        "IPY_MODEL_3ef5c8fe2e85465fb3163d5538885c12",
        "IPY_MODEL_d59c8e9ffd214d709891fd27c7389919",
        "IPY_MODEL_b224577cf4cd47dbaa38aa99a559ecde",
        "IPY_MODEL_6c894c5a3b0d448399629a3e12dc33a3"
       ],
       "layout": "IPY_MODEL_169e8b7f635d4957b35c68e723d99732"
      }
     },
     "a7061aad8d8940dcbf49deeb748541ee": {
      "model_module": "@jupyter-widgets/base",
      "model_module_version": "2.0.0",
      "model_name": "LayoutModel",
      "state": {
       "width": "100%"
      }
     },
     "a77e6f68c62f45fd8481fe3c41437bca": {
      "model_module": "@jupyter-widgets/controls",
      "model_module_version": "2.0.0",
      "model_name": "DescriptionStyleModel",
      "state": {
       "description_width": ""
      }
     },
     "a8e681adfa8747fea4f6fd9724214b31": {
      "model_module": "@jupyter-widgets/controls",
      "model_module_version": "2.0.0",
      "model_name": "LabelModel",
      "state": {
       "layout": "IPY_MODEL_3f24db340d43400c9c1378e76d3af258",
       "style": "IPY_MODEL_e341d59c319d4c63992aa8a1d8bb07b9",
       "value": "Name"
      }
     },
     "aa01949d96a44b8dab6f322e4bfc8eb6": {
      "model_module": "@jupyter-widgets/base",
      "model_module_version": "2.0.0",
      "model_name": "LayoutModel",
      "state": {}
     },
     "aad9c3bd3e6d43e8be6908d905d2f98f": {
      "model_module": "@jupyter-widgets/controls",
      "model_module_version": "2.0.0",
      "model_name": "IntTextModel",
      "state": {
       "layout": "IPY_MODEL_5b7d3b569f254a55accc3b9af6f48267",
       "step": 1,
       "style": "IPY_MODEL_01b387d5a05b4baa87b12cd5728406c0",
       "tooltip": "Age",
       "value": 30
      }
     },
     "ac50884e8cf241379097389f2bea13f5": {
      "model_module": "@jupyter-widgets/controls",
      "model_module_version": "2.0.0",
      "model_name": "ButtonStyleModel",
      "state": {
       "font_family": null,
       "font_size": null,
       "font_style": null,
       "font_variant": null,
       "font_weight": null,
       "text_color": null,
       "text_decoration": null
      }
     },
     "aca82c81ae504f0b9dc55b82f4eb9e7a": {
      "model_module": "@jupyter-widgets/base",
      "model_module_version": "2.0.0",
      "model_name": "LayoutModel",
      "state": {
       "width": "100%"
      }
     },
     "af2250644e6d45bc9836221fd1ecbda9": {
      "model_module": "@jupyter-widgets/controls",
      "model_module_version": "2.0.0",
      "model_name": "LabelStyleModel",
      "state": {
       "description_width": "",
       "font_family": null,
       "font_size": null,
       "font_style": null,
       "font_variant": null,
       "font_weight": null,
       "text_color": null,
       "text_decoration": null
      }
     },
     "afd48482404a49f1a9e47a4dc8352b94": {
      "model_module": "@jupyter-widgets/controls",
      "model_module_version": "2.0.0",
      "model_name": "LabelStyleModel",
      "state": {
       "description_width": "",
       "font_family": null,
       "font_size": null,
       "font_style": null,
       "font_variant": null,
       "font_weight": null,
       "text_color": null,
       "text_decoration": null
      }
     },
     "b093c7b3b8c64a19bd7aa9a1493768bf": {
      "model_module": "@jupyter-widgets/base",
      "model_module_version": "2.0.0",
      "model_name": "LayoutModel",
      "state": {}
     },
     "b224577cf4cd47dbaa38aa99a559ecde": {
      "model_module": "@jupyter-widgets/controls",
      "model_module_version": "2.0.0",
      "model_name": "HBoxModel",
      "state": {
       "children": [
        "IPY_MODEL_a8e681adfa8747fea4f6fd9724214b31",
        "IPY_MODEL_20cec2b231dd4eaba496044191cb320c"
       ],
       "layout": "IPY_MODEL_39ebdf75275447b3ba7b4b8321c9772b"
      }
     },
     "b326a8f3f3fd437a99eefa56ef554cff": {
      "model_module": "@jupyter-widgets/base",
      "model_module_version": "2.0.0",
      "model_name": "LayoutModel",
      "state": {}
     },
     "b5c83b351409447da9c077124a6ac8e1": {
      "model_module": "@jupyter-widgets/controls",
      "model_module_version": "2.0.0",
      "model_name": "VBoxModel",
      "state": {
       "children": [
        "IPY_MODEL_000f61d14fba4a93ab177f7aa839b2c8"
       ],
       "layout": "IPY_MODEL_9d2ca223cd1746c9b746848ed85225e2"
      }
     },
     "b63987f715214a14850c28aa5460bba2": {
      "model_module": "@jupyter-widgets/base",
      "model_module_version": "2.0.0",
      "model_name": "LayoutModel",
      "state": {
       "width": "100%"
      }
     },
     "b7b0ce35c9ab45fdb259b6a4c292d6c7": {
      "model_module": "@jupyter-widgets/controls",
      "model_module_version": "2.0.0",
      "model_name": "TextStyleModel",
      "state": {
       "description_width": "",
       "font_size": null,
       "text_color": null
      }
     },
     "bb49d5079d7a4947910e3113cf08e4e2": {
      "model_module": "@jupyter-widgets/controls",
      "model_module_version": "2.0.0",
      "model_name": "HBoxModel",
      "state": {
       "children": [
        "IPY_MODEL_c0f2a60d503240cebc087268ead591e5",
        "IPY_MODEL_a6c2abc251014485bd596561d3224457"
       ],
       "layout": "IPY_MODEL_dbad89fe44c345dd94f2fb22b5bc0d96"
      }
     },
     "bc5f96ce5c174113b746913cb42c5bdd": {
      "model_module": "@jupyter-widgets/controls",
      "model_module_version": "2.0.0",
      "model_name": "LabelStyleModel",
      "state": {
       "description_width": "",
       "font_family": null,
       "font_size": null,
       "font_style": null,
       "font_variant": null,
       "font_weight": null,
       "text_color": null,
       "text_decoration": null
      }
     },
     "bd3d6491a81a454a927eadd4ef769494": {
      "model_module": "@jupyter-widgets/controls",
      "model_module_version": "2.0.0",
      "model_name": "LabelModel",
      "state": {
       "layout": "IPY_MODEL_e13d3560d0dd4da796b8adc94673751e",
       "style": "IPY_MODEL_af2250644e6d45bc9836221fd1ecbda9"
      }
     },
     "bd513589dd92414eba7ea4bc9092f6b9": {
      "model_module": "@jupyter-widgets/controls",
      "model_module_version": "2.0.0",
      "model_name": "LabelModel",
      "state": {
       "layout": "IPY_MODEL_a7061aad8d8940dcbf49deeb748541ee",
       "style": "IPY_MODEL_9134fb8942da41809a6aac3b10505612",
       "value": "Age"
      }
     },
     "bdf7d64c80dd45ce84bb585fa046fdcf": {
      "model_module": "@jupyter-widgets/controls",
      "model_module_version": "2.0.0",
      "model_name": "HBoxModel",
      "state": {
       "children": [
        "IPY_MODEL_053883386cf84e83a40865700191c0b9",
        "IPY_MODEL_2a8ecef336b1490fa8665c1130497680"
       ],
       "layout": "IPY_MODEL_08cc6269273748ae9d2ffdc0d99a23f9"
      }
     },
     "c0f2a60d503240cebc087268ead591e5": {
      "model_module": "@jupyter-widgets/controls",
      "model_module_version": "2.0.0",
      "model_name": "LabelModel",
      "state": {
       "layout": "IPY_MODEL_b63987f715214a14850c28aa5460bba2",
       "style": "IPY_MODEL_0dc8c15a30dd42edbef5ac1599185316",
       "value": "Adress"
      }
     },
     "c21f7c821c534a899c83b4133c149a63": {
      "model_module": "@jupyter-widgets/controls",
      "model_module_version": "2.0.0",
      "model_name": "DescriptionStyleModel",
      "state": {
       "description_width": ""
      }
     },
     "c24e6bec6a8545d9ab12d86fea20cb0f": {
      "model_module": "@jupyter-widgets/base",
      "model_module_version": "2.0.0",
      "model_name": "LayoutModel",
      "state": {}
     },
     "c3ae39f306334ffa8c48b6465234e870": {
      "model_module": "@jupyter-widgets/controls",
      "model_module_version": "2.0.0",
      "model_name": "TextStyleModel",
      "state": {
       "description_width": "",
       "font_size": null,
       "text_color": null
      }
     },
     "c40dc92b132f4a9db82f800d62482a80": {
      "model_module": "@jupyter-widgets/base",
      "model_module_version": "2.0.0",
      "model_name": "LayoutModel",
      "state": {
       "width": "100%"
      }
     },
     "c68a3776dd9849b5b71a4a7760c5ea00": {
      "model_module": "@jupyter-widgets/base",
      "model_module_version": "2.0.0",
      "model_name": "LayoutModel",
      "state": {}
     },
     "c6a45ae39a00430d9f737bfad04fc51c": {
      "model_module": "@jupyter-widgets/base",
      "model_module_version": "2.0.0",
      "model_name": "LayoutModel",
      "state": {
       "width": "100%"
      }
     },
     "c77f67622f674ed3ba9ab35c006bae00": {
      "model_module": "@jupyter-widgets/controls",
      "model_module_version": "2.0.0",
      "model_name": "LabelModel",
      "state": {
       "layout": "IPY_MODEL_e2c3d46db7934abc832bfcc3a32349aa",
       "style": "IPY_MODEL_a4a762645dc3477e8c3b59d6a88e662e",
       "value": "Height"
      }
     },
     "c7d6baa9c4e64ad99ee1ef6d4151d056": {
      "model_module": "@jupyter-widgets/base",
      "model_module_version": "2.0.0",
      "model_name": "LayoutModel",
      "state": {}
     },
     "c87894eedd954356a906fc898e3adbff": {
      "model_module": "@jupyter-widgets/base",
      "model_module_version": "2.0.0",
      "model_name": "LayoutModel",
      "state": {
       "width": "100%"
      }
     },
     "caf50cb17d7547f0a9118291a27f829a": {
      "model_module": "@jupyter-widgets/base",
      "model_module_version": "2.0.0",
      "model_name": "LayoutModel",
      "state": {}
     },
     "cc0c5cd1b36e46fd9458e5a3371f3442": {
      "model_module": "@jupyter-widgets/base",
      "model_module_version": "2.0.0",
      "model_name": "LayoutModel",
      "state": {
       "display": "none"
      }
     },
     "cc5b5810491e4216bbe541d1fc2e7adb": {
      "model_module": "@jupyter-widgets/base",
      "model_module_version": "2.0.0",
      "model_name": "LayoutModel",
      "state": {
       "width": "100%"
      }
     },
     "ce7cded7e2f64149ad167ce28a4933ad": {
      "model_module": "@jupyter-widgets/base",
      "model_module_version": "2.0.0",
      "model_name": "LayoutModel",
      "state": {}
     },
     "cf5aaa48caab42148efda6e5a099b7cd": {
      "model_module": "@jupyter-widgets/base",
      "model_module_version": "2.0.0",
      "model_name": "LayoutModel",
      "state": {}
     },
     "d0cc8a57eeb9409cb2dcf546cff83ad7": {
      "model_module": "@jupyter-widgets/controls",
      "model_module_version": "2.0.0",
      "model_name": "IntTextModel",
      "state": {
       "layout": "IPY_MODEL_706a45816753460389f02817431cb280",
       "step": 1,
       "style": "IPY_MODEL_548d832da74f45a184c568fc4c09a325",
       "tooltip": "Height"
      }
     },
     "d0e3b2ee251c4a10a9eb5268989da44d": {
      "model_module": "@jupyter-widgets/controls",
      "model_module_version": "2.0.0",
      "model_name": "VBoxModel",
      "state": {
       "children": [
        "IPY_MODEL_d9de408087584b0097942d7391b2d73c",
        "IPY_MODEL_686d1c9f84864489a07be7109a7972c7",
        "IPY_MODEL_491210d1c67e4dfd9aba59d1b89b2784"
       ],
       "layout": "IPY_MODEL_66ec86754f274e8caaad78f99d3f349b"
      }
     },
     "d1720fc2be2243b8ab8fba37a05a086d": {
      "model_module": "@jupyter-widgets/controls",
      "model_module_version": "2.0.0",
      "model_name": "HBoxModel",
      "state": {
       "children": [
        "IPY_MODEL_394115b2e18d44639e1ae0a5edcd92dc",
        "IPY_MODEL_042e7fb85ac94b0ab6bb5cb4f50a5bb7"
       ],
       "layout": "IPY_MODEL_ec78c70aea72473cb2121c3987477827"
      }
     },
     "d59c8e9ffd214d709891fd27c7389919": {
      "model_module": "@jupyter-widgets/controls",
      "model_module_version": "2.0.0",
      "model_name": "LabelModel",
      "state": {
       "layout": "IPY_MODEL_466364fc303d47e69bef958bbddcedeb",
       "style": "IPY_MODEL_30fa9c7fbbd84c9c808f1e10a161066f"
      }
     },
     "d9de408087584b0097942d7391b2d73c": {
      "model_module": "@jupyter-widgets/controls",
      "model_module_version": "2.0.0",
      "model_name": "AccordionModel",
      "state": {
       "children": [
        "IPY_MODEL_b5c83b351409447da9c077124a6ac8e1"
       ],
       "layout": "IPY_MODEL_b093c7b3b8c64a19bd7aa9a1493768bf",
       "titles": [
        "Preferred Food"
       ]
      }
     },
     "dbad89fe44c345dd94f2fb22b5bc0d96": {
      "model_module": "@jupyter-widgets/base",
      "model_module_version": "2.0.0",
      "model_name": "LayoutModel",
      "state": {
       "width": "100%"
      }
     },
     "dc711d044cf64f9f8843a7d6d957f644": {
      "model_module": "@jupyter-widgets/controls",
      "model_module_version": "2.0.0",
      "model_name": "HBoxModel",
      "state": {
       "children": [
        "IPY_MODEL_bd513589dd92414eba7ea4bc9092f6b9",
        "IPY_MODEL_aad9c3bd3e6d43e8be6908d905d2f98f"
       ],
       "layout": "IPY_MODEL_f387cba41eee4504ac0f69c22580488f"
      }
     },
     "de763aa2e97340cea5421f8393d0ee0b": {
      "model_module": "@jupyter-widgets/controls",
      "model_module_version": "2.0.0",
      "model_name": "ButtonModel",
      "state": {
       "description": "Edit",
       "icon": "pencil",
       "layout": "IPY_MODEL_e812c0e7e44949ca9c39a532e4cf3f3a",
       "style": "IPY_MODEL_ac50884e8cf241379097389f2bea13f5",
       "tooltip": "Edit model"
      }
     },
     "dee4c82d995f45fdbbfe60e5c62125bf": {
      "model_module": "@jupyter-widgets/base",
      "model_module_version": "2.0.0",
      "model_name": "LayoutModel",
      "state": {}
     },
     "e13d3560d0dd4da796b8adc94673751e": {
      "model_module": "@jupyter-widgets/base",
      "model_module_version": "2.0.0",
      "model_name": "LayoutModel",
      "state": {
       "display": "none"
      }
     },
     "e2c3d46db7934abc832bfcc3a32349aa": {
      "model_module": "@jupyter-widgets/base",
      "model_module_version": "2.0.0",
      "model_name": "LayoutModel",
      "state": {
       "width": "100%"
      }
     },
     "e341d59c319d4c63992aa8a1d8bb07b9": {
      "model_module": "@jupyter-widgets/controls",
      "model_module_version": "2.0.0",
      "model_name": "LabelStyleModel",
      "state": {
       "description_width": "",
       "font_family": null,
       "font_size": null,
       "font_style": null,
       "font_variant": null,
       "font_weight": null,
       "text_color": null,
       "text_decoration": null
      }
     },
     "e34c1248c685467eb1b9f9a49b6cb388": {
      "model_module": "@jupyter-widgets/controls",
      "model_module_version": "2.0.0",
      "model_name": "ButtonStyleModel",
      "state": {
       "font_family": null,
       "font_size": null,
       "font_style": null,
       "font_variant": null,
       "font_weight": null,
       "text_color": null,
       "text_decoration": null
      }
     },
     "e56d6a3fbbc547fd87c24b4cbc70b720": {
      "model_module": "@jupyter-widgets/controls",
      "model_module_version": "2.0.0",
      "model_name": "LabelModel",
      "state": {
       "layout": "IPY_MODEL_23aaed2552a04b30943c3f8043584abf",
       "style": "IPY_MODEL_2fc860db568f49d1999a145398ae9ae5"
      }
     },
     "e728ba2685d1472b8094bdae410fe5a1": {
      "model_module": "@jupyter-widgets/controls",
      "model_module_version": "2.0.0",
      "model_name": "ButtonModel",
      "state": {
       "description": "Add entry",
       "icon": "plus",
       "layout": "IPY_MODEL_0e4ab4af32d74cf984d4cb237bb7ea9b",
       "style": "IPY_MODEL_63c7408a9e364a649c3a9b8b399db760",
       "tooltip": null
      }
     },
     "e812c0e7e44949ca9c39a532e4cf3f3a": {
      "model_module": "@jupyter-widgets/base",
      "model_module_version": "2.0.0",
      "model_name": "LayoutModel",
      "state": {
       "display": "none"
      }
     },
     "e95f9ecc160b481db96fac5d7c017328": {
      "model_module": "@jupyter-widgets/base",
      "model_module_version": "2.0.0",
      "model_name": "LayoutModel",
      "state": {}
     },
     "e9c97fba386d4f6a8109a910a540ddf7": {
      "model_module": "@jupyter-widgets/controls",
      "model_module_version": "2.0.0",
      "model_name": "LabelModel",
      "state": {
       "layout": "IPY_MODEL_c6a45ae39a00430d9f737bfad04fc51c",
       "style": "IPY_MODEL_5ab15fd3d69b4751a674fbd92a790719",
       "value": "Name"
      }
     },
     "ea81d4e75f9642c0aac6a1d99bda57df": {
      "model_module": "@jupyter-widgets/controls",
      "model_module_version": "2.0.0",
      "model_name": "LabelModel",
      "state": {
       "layout": "IPY_MODEL_cc0c5cd1b36e46fd9458e5a3371f3442",
       "style": "IPY_MODEL_bc5f96ce5c174113b746913cb42c5bdd"
      }
     },
     "ec78c70aea72473cb2121c3987477827": {
      "model_module": "@jupyter-widgets/base",
      "model_module_version": "2.0.0",
      "model_name": "LayoutModel",
      "state": {
       "display": "block"
      }
     },
     "f02a9faa8a464a4bbecdd7727992ecd1": {
      "model_module": "@jupyter-widgets/base",
      "model_module_version": "2.0.0",
      "model_name": "LayoutModel",
      "state": {}
     },
     "f387cba41eee4504ac0f69c22580488f": {
      "model_module": "@jupyter-widgets/base",
      "model_module_version": "2.0.0",
      "model_name": "LayoutModel",
      "state": {
       "width": "100%"
      }
     },
     "f3a22e61304e45f8bdde66c7130bc5b1": {
      "model_module": "@jupyter-widgets/base",
      "model_module_version": "2.0.0",
      "model_name": "LayoutModel",
      "state": {}
     },
     "f3c441bb6df941d8a93d876dd4fbca3b": {
      "model_module": "@jupyter-widgets/controls",
      "model_module_version": "2.0.0",
      "model_name": "TextStyleModel",
      "state": {
       "description_width": "",
       "font_size": null,
       "text_color": null
      }
     },
     "f72abf01831743ebbf83cf1b301411a3": {
      "model_module": "@jupyter-widgets/controls",
      "model_module_version": "2.0.0",
      "model_name": "LabelStyleModel",
      "state": {
       "description_width": "",
       "font_family": null,
       "font_size": null,
       "font_style": null,
       "font_variant": null,
       "font_weight": null,
       "text_color": null,
       "text_decoration": null
      }
     },
     "f7fd50309ebb4005936d67a31e0c030f": {
      "model_module": "@jupyter-widgets/base",
      "model_module_version": "2.0.0",
      "model_name": "LayoutModel",
      "state": {}
     },
     "fba0d879dc61447687d374f35e877fce": {
      "model_module": "@jupyter-widgets/controls",
      "model_module_version": "2.0.0",
      "model_name": "LabelModel",
      "state": {
       "layout": "IPY_MODEL_c87894eedd954356a906fc898e3adbff",
       "style": "IPY_MODEL_23bcd70c425d42fbb5f4d256d399fa82",
       "value": "Name"
      }
     },
     "fc17792a01c14860a0f17f5bba475493": {
      "model_module": "@jupyter-widgets/base",
      "model_module_version": "2.0.0",
      "model_name": "LayoutModel",
      "state": {
       "width": "100%"
      }
     },
     "fd1ef58bdd014c1a90b017c3eb5bc0b8": {
      "model_module": "@jupyter-widgets/base",
      "model_module_version": "2.0.0",
      "model_name": "LayoutModel",
      "state": {
       "width": "100%"
      }
     },
     "fe247758486e474aaf280eaa851ce178": {
      "model_module": "@jupyter-widgets/base",
      "model_module_version": "2.0.0",
      "model_name": "LayoutModel",
      "state": {
       "width": "500px"
      }
     },
     "fef10cdf11b241da954f43041b79c49a": {
      "model_module": "@jupyter-widgets/controls",
      "model_module_version": "2.0.0",
      "model_name": "VBoxModel",
      "state": {
       "children": [
        "IPY_MODEL_de763aa2e97340cea5421f8393d0ee0b",
        "IPY_MODEL_11efad65e4474c4880bd8ae570f184a1",
        "IPY_MODEL_d1720fc2be2243b8ab8fba37a05a086d"
       ],
       "layout": "IPY_MODEL_5936a98ac54042bba9e397c59671c333"
      }
     },
     "ff598e86bd13459691d2c4a0855c6f17": {
      "model_module": "@jupyter-widgets/controls",
      "model_module_version": "2.0.0",
      "model_name": "TextStyleModel",
      "state": {
       "description_width": "",
       "font_size": null,
       "text_color": null
      }
     },
     "ffbc79cee59c4c6fb9d09dc68e877503": {
      "model_module": "@jupyter-widgets/controls",
      "model_module_version": "2.0.0",
      "model_name": "LabelStyleModel",
      "state": {
       "description_width": "",
       "font_family": null,
       "font_size": null,
       "font_style": null,
       "font_variant": null,
       "font_weight": null,
       "text_color": null,
       "text_decoration": null
      }
     }
    },
    "version_major": 2,
    "version_minor": 0
   }
  }
 },
 "nbformat": 4,
 "nbformat_minor": 4
}
