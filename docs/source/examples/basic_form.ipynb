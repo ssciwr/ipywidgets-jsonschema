{
 "cells": [
  {
   "cell_type": "markdown",
   "metadata": {},
   "source": [
    "# Basic Form"
   ]
  },
  {
   "cell_type": "code",
   "execution_count": null,
   "metadata": {
    "vscode": {
     "languageId": "plaintext"
    }
   },
   "outputs": [],
   "source": [
    "# ---\n",
    "# jupyter:\n",
    "#   jupytext:\n",
    "#     formats: ipynb,md:myst\n",
    "#     text_representation:\n",
    "#       extension: .py\n",
    "#       format_name: light_format\n",
    "#       jupytext_version: 1.14.5\n",
    "#   kernelspec:\n",
    "#     display_name: Python 3 (ipykernel)\n",
    "#     language: python\n",
    "#     name: python3\n",
    "# ---\n",
    "\n",
    "# +\n",
    "import ipywidgets_jsonschema.form\n",
    "import json\n",
    "\n",
    "# Load the schema from a JSON file\n",
    "with open(\"user_schema.json\", \"r\") as f:\n",
    "    user_schema = json.load(f)\n",
    "\n",
    "# Create a form from the schema\n",
    "form = ipywidgets_jsonschema.form.Form(user_schema)\n",
    "\n",
    "# Display the form\n",
    "form.show()\n",
    "# -"
   ]
  }
 ],
 "metadata": {
  "language_info": {
   "name": "python"
  }
 },
 "nbformat": 4,
 "nbformat_minor": 2
}
