{
 "cells": [
  {
   "cell_type": "markdown",
   "metadata": {},
   "source": [
    "# Usage guide"
   ]
  },
  {
   "cell_type": "markdown",
   "metadata": {},
   "source": [
    "## Basic example with `JSON schema`\n",
    "`ipywidgets-jsonschema` allows you to generate a widget form from an existing schema that follows the JSON Schema specification. We first define a schema:"
   ]
  },
  {
   "cell_type": "code",
   "execution_count": 1,
   "metadata": {},
   "outputs": [],
   "source": [
    "schema = {\n",
    "    \"type\": \"object\",\n",
    "    \"properties\": {\n",
    "        \"name\": {\"type\": \"string\", \"title\": \"Name\"},\n",
    "        \"food\": {\n",
    "            \"type\": \"array\",\n",
    "            \"items\": {\"type\": \"string\"},\n",
    "            \"title\": \"Preferred Food\",\n",
    "        },\n",
    "    },\n",
    "}"
   ]
  },
  {
   "cell_type": "markdown",
   "metadata": {},
   "source": [
    "Generating the widget form for it and visualizing it in Jupyter is as simple as this:"
   ]
  },
  {
   "cell_type": "code",
   "execution_count": 2,
   "metadata": {},
   "outputs": [
    {
     "data": {
      "application/vnd.jupyter.widget-view+json": {
       "model_id": "5ec06e10c6384b24a53015352279af5d",
       "version_major": 2,
       "version_minor": 0
      },
      "text/plain": [
       "VBox(children=(Accordion(children=(VBox(children=(VBox(children=(Button(description='Add entry', icon='plus', …"
      ]
     },
     "metadata": {},
     "output_type": "display_data"
    }
   ],
   "source": [
    "from ipywidgets_jsonschema import Form\n",
    "form = Form(schema)\n",
    "form.show()"
   ]
  },
  {
   "cell_type": "markdown",
   "metadata": {},
   "source": [
    "This will display a form in Jupyter where users can input data according to the schema.\n",
    "To access current data, we can use the `data` property of `form`:"
   ]
  },
  {
   "cell_type": "code",
   "execution_count": 3,
   "metadata": {},
   "outputs": [
    {
     "data": {
      "text/plain": [
       "{'name': '', 'food': []}"
      ]
     },
     "execution_count": 3,
     "metadata": {},
     "output_type": "execute_result"
    }
   ],
   "source": [
    "form.data"
   ]
  },
  {
   "cell_type": "markdown",
   "metadata": {},
   "source": [
    "This will automatically validate the data."
   ]
  },
  {
   "cell_type": "markdown",
   "metadata": {},
   "source": [
    "## Basic example using `pydantic`\n",
    "`ipywidgets-jsonschema`can be easily integrated with `pydantic` models.\n",
    "First create a `pydantic` model:"
   ]
  },
  {
   "cell_type": "code",
   "execution_count": 4,
   "metadata": {},
   "outputs": [],
   "source": [
    "from pydantic import BaseModel\n",
    "\n",
    "class User(BaseModel):\n",
    "    name: str\n",
    "    adress: str"
   ]
  },
  {
   "cell_type": "markdown",
   "metadata": {},
   "source": [
    "Then create the schema using `model_json_schema()` or just `schema()`:"
   ]
  },
  {
   "cell_type": "code",
   "execution_count": 5,
   "metadata": {},
   "outputs": [
    {
     "data": {
      "text/plain": [
       "{'properties': {'name': {'title': 'Name', 'type': 'string'},\n",
       "  'adress': {'title': 'Adress', 'type': 'string'}},\n",
       " 'required': ['name', 'adress'],\n",
       " 'title': 'User',\n",
       " 'type': 'object'}"
      ]
     },
     "execution_count": 5,
     "metadata": {},
     "output_type": "execute_result"
    }
   ],
   "source": [
    "schema_user = User.schema()\n",
    "schema_user"
   ]
  },
  {
   "cell_type": "markdown",
   "metadata": {},
   "source": [
    "Then generate the widget form as usual:"
   ]
  },
  {
   "cell_type": "code",
   "execution_count": 6,
   "metadata": {},
   "outputs": [
    {
     "data": {
      "application/vnd.jupyter.widget-view+json": {
       "model_id": "cf5a5db7c54f47269f80d323fc1c2b1d",
       "version_major": 2,
       "version_minor": 0
      },
      "text/plain": [
       "VBox(children=(HBox(children=(Label(value='Adress', layout=Layout(width='100%')), Text(value='', layout=Layout…"
      ]
     },
     "metadata": {},
     "output_type": "display_data"
    }
   ],
   "source": [
    "from ipywidgets_jsonschema import Form\n",
    "form = Form(schema_user)\n",
    "form.show()"
   ]
  },
  {
   "cell_type": "markdown",
   "metadata": {},
   "source": [
    "Alternatively, you can create a widget form directly from the pydantic model without needing to generate a JSON schema manually:"
   ]
  },
  {
   "cell_type": "code",
   "execution_count": 7,
   "metadata": {},
   "outputs": [
    {
     "data": {
      "application/vnd.jupyter.widget-view+json": {
       "model_id": "b4de9a84aee9444bbf590f95b0b2dc3c",
       "version_major": 2,
       "version_minor": 0
      },
      "text/plain": [
       "VBox(children=(HBox(children=(Label(value='Adress', layout=Layout(width='100%')), Text(value='', layout=Layout…"
      ]
     },
     "metadata": {},
     "output_type": "display_data"
    }
   ],
   "source": [
    "form = Form(User)\n",
    "form.show()"
   ]
  },
  {
   "cell_type": "markdown",
   "metadata": {},
   "source": [
    "## Customizing layout and styling"
   ]
  },
  {
   "cell_type": "markdown",
   "metadata": {},
   "source": [
    "`ipywidgets-jsonschema` provides some customization options to controll the appearance and behavior of generated forms. This includes adjusting the layout, enabling sliders for numberic input, preconstructing array items and configuring date/time formats.\n",
    "Here is an example:"
   ]
  },
  {
   "cell_type": "code",
   "execution_count": 8,
   "metadata": {},
   "outputs": [],
   "source": [
    "class MyModel(BaseModel):\n",
    "    name: str\n",
    "    height: int"
   ]
  },
  {
   "cell_type": "code",
   "execution_count": 9,
   "metadata": {},
   "outputs": [
    {
     "data": {
      "application/vnd.jupyter.widget-view+json": {
       "model_id": "1f6a772bdde14064b14bbfd8ac1f64ca",
       "version_major": 2,
       "version_minor": 0
      },
      "text/plain": [
       "VBox(children=(VBox(children=(Label(value='Height', layout=Layout(width='100%')), IntText(value=0, layout=Layo…"
      ]
     },
     "metadata": {},
     "output_type": "display_data"
    }
   ],
   "source": [
    "form = Form(MyModel,vertically_place_labels=True, use_sliders=True,)\n",
    "form.show(width=\"500px\")"
   ]
  },
  {
   "cell_type": "markdown",
   "metadata": {},
   "source": [
    "See the [Class reference](ipywidgets_jsonschema) for more details."
   ]
  },
  {
   "cell_type": "markdown",
   "metadata": {},
   "source": [
    "## Using `PydanticEditorMixin` for interactive pydantic model editing"
   ]
  },
  {
   "cell_type": "markdown",
   "metadata": {},
   "source": [
    "`PydanticEditorMixin` allows interactive editing of pydantic models in Jupyter. It extends any pydantic model, allowing you to edit its attributes dynamically using an interactive form. "
   ]
  },
  {
   "cell_type": "markdown",
   "metadata": {},
   "source": [
    "First import `PydanticEditorMixin` using:"
   ]
  },
  {
   "cell_type": "code",
   "execution_count": 11,
   "metadata": {},
   "outputs": [
    {
     "ename": "ImportError",
     "evalue": "cannot import name 'PydanticEditorMixin' from 'ipywidgets_jsonschema' (/Users/shiki/ifp/ipywidgets-jsonschema-dev/ipywidgets_jsonschema/__init__.py)",
     "output_type": "error",
     "traceback": [
      "\u001b[0;31m---------------------------------------------------------------------------\u001b[0m",
      "\u001b[0;31mImportError\u001b[0m                               Traceback (most recent call last)",
      "Cell \u001b[0;32mIn[11], line 1\u001b[0m\n\u001b[0;32m----> 1\u001b[0m \u001b[38;5;28;01mfrom\u001b[39;00m \u001b[38;5;21;01mipywidgets_jsonschema\u001b[39;00m \u001b[38;5;28;01mimport\u001b[39;00m PydanticEditorMixin\n",
      "\u001b[0;31mImportError\u001b[0m: cannot import name 'PydanticEditorMixin' from 'ipywidgets_jsonschema' (/Users/shiki/ifp/ipywidgets-jsonschema-dev/ipywidgets_jsonschema/__init__.py)"
     ]
    }
   ],
   "source": [
    "from ipywidgets_jsonschema import PydanticEditorMixin"
   ]
  },
  {
   "cell_type": "markdown",
   "metadata": {},
   "source": [
    "Then simply inherit from PydanticEditorMixin along with your pydantic model:"
   ]
  },
  {
   "cell_type": "code",
   "execution_count": 12,
   "metadata": {},
   "outputs": [
    {
     "ename": "NameError",
     "evalue": "name 'PydanticEditorMixin' is not defined",
     "output_type": "error",
     "traceback": [
      "\u001b[0;31m---------------------------------------------------------------------------\u001b[0m",
      "\u001b[0;31mNameError\u001b[0m                                 Traceback (most recent call last)",
      "Cell \u001b[0;32mIn[12], line 1\u001b[0m\n\u001b[0;32m----> 1\u001b[0m \u001b[38;5;28;01mclass\u001b[39;00m \u001b[38;5;21;01mMyModel\u001b[39;00m(\u001b[43mPydanticEditorMixin\u001b[49m, BaseModel):\n\u001b[1;32m      2\u001b[0m     name: \u001b[38;5;28mstr\u001b[39m\n\u001b[1;32m      3\u001b[0m     age: \u001b[38;5;28mint\u001b[39m\n",
      "\u001b[0;31mNameError\u001b[0m: name 'PydanticEditorMixin' is not defined"
     ]
    }
   ],
   "source": [
    "class MyModel(PydanticEditorMixin, BaseModel):\n",
    "    name: str\n",
    "    age: int\n",
    "    email: str\n",
    "\n",
    "model = MyModel(name=\"John Doe\", age=30, email=\"john.doe@example.com\")\n",
    "model.edit()"
   ]
  },
  {
   "cell_type": "code",
   "execution_count": null,
   "metadata": {},
   "outputs": [],
   "source": []
  }
 ],
 "metadata": {
  "kernelspec": {
   "display_name": "Python 3 (ipykernel)",
   "language": "python",
   "name": "python3"
  },
  "language_info": {
   "codemirror_mode": {
    "name": "ipython",
    "version": 3
   },
   "file_extension": ".py",
   "mimetype": "text/x-python",
   "name": "python",
   "nbconvert_exporter": "python",
   "pygments_lexer": "ipython3",
   "version": "3.13.0"
  },
  "widgets": {
   "application/vnd.jupyter.widget-state+json": {
    "state": {
     "017819d42454456eb70266e574cf9981": {
      "model_module": "@jupyter-widgets/controls",
      "model_module_version": "2.0.0",
      "model_name": "LabelStyleModel",
      "state": {
       "description_width": "",
       "font_family": null,
       "font_size": null,
       "font_style": null,
       "font_variant": null,
       "font_weight": null,
       "text_color": null,
       "text_decoration": null
      }
     },
     "0224408a5c524413a3bcef2f19e12e9f": {
      "model_module": "@jupyter-widgets/controls",
      "model_module_version": "2.0.0",
      "model_name": "LabelModel",
      "state": {
       "layout": "IPY_MODEL_2a0f6031288040e89c8e0a917c6211d0",
       "style": "IPY_MODEL_1fb633d2d7e34d1bae2607a56eeab8e6"
      }
     },
     "0ac5da19abd04627b967b895638dea20": {
      "model_module": "@jupyter-widgets/base",
      "model_module_version": "2.0.0",
      "model_name": "LayoutModel",
      "state": {
       "display": "none"
      }
     },
     "0b540c8e415b4d0195308596d2f25b3d": {
      "model_module": "@jupyter-widgets/controls",
      "model_module_version": "2.0.0",
      "model_name": "TextModel",
      "state": {
       "layout": "IPY_MODEL_416ec3e3697b495e86cd71d3344f9776",
       "style": "IPY_MODEL_8cd26736cdd74c7b87b015d4c647d16e",
       "tooltip": "Name"
      }
     },
     "0d55d736929848098b423f7497a26cb3": {
      "model_module": "@jupyter-widgets/base",
      "model_module_version": "2.0.0",
      "model_name": "LayoutModel",
      "state": {}
     },
     "15337b8f2ba543fc828c53a2f50681c9": {
      "model_module": "@jupyter-widgets/controls",
      "model_module_version": "2.0.0",
      "model_name": "VBoxModel",
      "state": {
       "children": [
        "IPY_MODEL_3cd24deaac214ca19ea5912964739e52",
        "IPY_MODEL_a9cb4a1300ea46c9acb4663db823652a"
       ],
       "layout": "IPY_MODEL_4dadac31afd74e80aa0b70124361c861"
      }
     },
     "1ad425317ce14b66b4e9766723855809": {
      "model_module": "@jupyter-widgets/controls",
      "model_module_version": "2.0.0",
      "model_name": "LabelModel",
      "state": {
       "layout": "IPY_MODEL_5b079280b282484c9ce6c0cf1b1bf3d6",
       "style": "IPY_MODEL_784fd2fcfd3c4cd7bc6e9e28b0251ed6",
       "value": "Name"
      }
     },
     "1c2a99cced4843dfb72cbf43809ca23a": {
      "model_module": "@jupyter-widgets/controls",
      "model_module_version": "2.0.0",
      "model_name": "TextStyleModel",
      "state": {
       "description_width": "",
       "font_size": null,
       "text_color": null
      }
     },
     "1f6a772bdde14064b14bbfd8ac1f64ca": {
      "model_module": "@jupyter-widgets/controls",
      "model_module_version": "2.0.0",
      "model_name": "VBoxModel",
      "state": {
       "children": [
        "IPY_MODEL_50bee6effb8b47db8ddc0645f135a823",
        "IPY_MODEL_ccad7cb48e484754b067aff5e796823e",
        "IPY_MODEL_15337b8f2ba543fc828c53a2f50681c9",
        "IPY_MODEL_0224408a5c524413a3bcef2f19e12e9f"
       ],
       "layout": "IPY_MODEL_1f9bf076543946c184e5dc7a558c380d"
      }
     },
     "1f9bf076543946c184e5dc7a558c380d": {
      "model_module": "@jupyter-widgets/base",
      "model_module_version": "2.0.0",
      "model_name": "LayoutModel",
      "state": {
       "width": "500px"
      }
     },
     "1fb633d2d7e34d1bae2607a56eeab8e6": {
      "model_module": "@jupyter-widgets/controls",
      "model_module_version": "2.0.0",
      "model_name": "LabelStyleModel",
      "state": {
       "description_width": "",
       "font_family": null,
       "font_size": null,
       "font_style": null,
       "font_variant": null,
       "font_weight": null,
       "text_color": null,
       "text_decoration": null
      }
     },
     "20afd60652604023a6bc9d4d30d67cd2": {
      "model_module": "@jupyter-widgets/controls",
      "model_module_version": "2.0.0",
      "model_name": "DescriptionStyleModel",
      "state": {
       "description_width": ""
      }
     },
     "2250ac0c0bc642ef9d2d918629857405": {
      "model_module": "@jupyter-widgets/base",
      "model_module_version": "2.0.0",
      "model_name": "LayoutModel",
      "state": {
       "width": "100%"
      }
     },
     "27cc4141d0b94d59aebcab2c46282b58": {
      "model_module": "@jupyter-widgets/base",
      "model_module_version": "2.0.0",
      "model_name": "LayoutModel",
      "state": {}
     },
     "280a268312d84573b06cdedb930ad549": {
      "model_module": "@jupyter-widgets/controls",
      "model_module_version": "2.0.0",
      "model_name": "IntTextModel",
      "state": {
       "layout": "IPY_MODEL_2d814481714144e2bf203c1bc18c114f",
       "step": 1,
       "style": "IPY_MODEL_46b332d45228462ab6d255ed7b8b9afe",
       "tooltip": "Height"
      }
     },
     "2a0f6031288040e89c8e0a917c6211d0": {
      "model_module": "@jupyter-widgets/base",
      "model_module_version": "2.0.0",
      "model_name": "LayoutModel",
      "state": {
       "display": "none"
      }
     },
     "2a9bda3f742947d48af8da97c5f2a135": {
      "model_module": "@jupyter-widgets/base",
      "model_module_version": "2.0.0",
      "model_name": "LayoutModel",
      "state": {}
     },
     "2ba0b8c262c14befbc3bdd249ae9ffb5": {
      "model_module": "@jupyter-widgets/controls",
      "model_module_version": "2.0.0",
      "model_name": "LabelModel",
      "state": {
       "layout": "IPY_MODEL_55e0feccc96e4702a3877b8925adbc56",
       "style": "IPY_MODEL_7160196d6f5d40189585067784ab8955"
      }
     },
     "2baa1d0a81db4fb8a202e46b628487e0": {
      "model_module": "@jupyter-widgets/base",
      "model_module_version": "2.0.0",
      "model_name": "LayoutModel",
      "state": {}
     },
     "2d814481714144e2bf203c1bc18c114f": {
      "model_module": "@jupyter-widgets/base",
      "model_module_version": "2.0.0",
      "model_name": "LayoutModel",
      "state": {
       "width": "100%"
      }
     },
     "30b00d8b4cde479a84f2505bc3fcbd87": {
      "model_module": "@jupyter-widgets/base",
      "model_module_version": "2.0.0",
      "model_name": "LayoutModel",
      "state": {}
     },
     "30da409e23d74ab7b4e955d04f8dbb91": {
      "model_module": "@jupyter-widgets/base",
      "model_module_version": "2.0.0",
      "model_name": "LayoutModel",
      "state": {
       "width": "100%"
      }
     },
     "320eabc895c54d6787f2ddff3e1cbe74": {
      "model_module": "@jupyter-widgets/base",
      "model_module_version": "2.0.0",
      "model_name": "LayoutModel",
      "state": {}
     },
     "3261ed3d71b34dd19801e52a9fbcb514": {
      "model_module": "@jupyter-widgets/base",
      "model_module_version": "2.0.0",
      "model_name": "LayoutModel",
      "state": {
       "width": "100%"
      }
     },
     "36ff1b6a2f2d49829ec572a01217a32a": {
      "model_module": "@jupyter-widgets/controls",
      "model_module_version": "2.0.0",
      "model_name": "LabelModel",
      "state": {
       "layout": "IPY_MODEL_77b99c946ec148b0aef56f356e6fe8bf",
       "style": "IPY_MODEL_393ffdebda9f439892d7313529613def"
      }
     },
     "3929051304a74702ba41a50ebaefdabc": {
      "model_module": "@jupyter-widgets/base",
      "model_module_version": "2.0.0",
      "model_name": "LayoutModel",
      "state": {}
     },
     "393ffdebda9f439892d7313529613def": {
      "model_module": "@jupyter-widgets/controls",
      "model_module_version": "2.0.0",
      "model_name": "LabelStyleModel",
      "state": {
       "description_width": "",
       "font_family": null,
       "font_size": null,
       "font_style": null,
       "font_variant": null,
       "font_weight": null,
       "text_color": null,
       "text_decoration": null
      }
     },
     "394d7c80db754cd8a90bcf1839ff31e6": {
      "model_module": "@jupyter-widgets/base",
      "model_module_version": "2.0.0",
      "model_name": "LayoutModel",
      "state": {
       "width": "100%"
      }
     },
     "3cd24deaac214ca19ea5912964739e52": {
      "model_module": "@jupyter-widgets/controls",
      "model_module_version": "2.0.0",
      "model_name": "LabelModel",
      "state": {
       "layout": "IPY_MODEL_394d7c80db754cd8a90bcf1839ff31e6",
       "style": "IPY_MODEL_6ace335e703f42519d54010aafdf94d3",
       "value": "Name"
      }
     },
     "3cf442d04238481a8e8c20b1c5792410": {
      "model_module": "@jupyter-widgets/controls",
      "model_module_version": "2.0.0",
      "model_name": "DescriptionStyleModel",
      "state": {
       "description_width": ""
      }
     },
     "3f0b2ee82abc4e10b5df4a08c2255940": {
      "model_module": "@jupyter-widgets/base",
      "model_module_version": "2.0.0",
      "model_name": "LayoutModel",
      "state": {
       "width": "100%"
      }
     },
     "416ec3e3697b495e86cd71d3344f9776": {
      "model_module": "@jupyter-widgets/base",
      "model_module_version": "2.0.0",
      "model_name": "LayoutModel",
      "state": {
       "width": "100%"
      }
     },
     "46b332d45228462ab6d255ed7b8b9afe": {
      "model_module": "@jupyter-widgets/controls",
      "model_module_version": "2.0.0",
      "model_name": "DescriptionStyleModel",
      "state": {
       "description_width": ""
      }
     },
     "46c242de264c44538f229a3ab1569408": {
      "model_module": "@jupyter-widgets/base",
      "model_module_version": "2.0.0",
      "model_name": "LayoutModel",
      "state": {}
     },
     "4bf40fc527d343b5aac88268b032931e": {
      "model_module": "@jupyter-widgets/base",
      "model_module_version": "2.0.0",
      "model_name": "LayoutModel",
      "state": {
       "width": "100%"
      }
     },
     "4dadac31afd74e80aa0b70124361c861": {
      "model_module": "@jupyter-widgets/base",
      "model_module_version": "2.0.0",
      "model_name": "LayoutModel",
      "state": {
       "width": "100%"
      }
     },
     "4df88862537f43e2aaf4eb8817005d1f": {
      "model_module": "@jupyter-widgets/controls",
      "model_module_version": "2.0.0",
      "model_name": "TextStyleModel",
      "state": {
       "description_width": "",
       "font_size": null,
       "text_color": null
      }
     },
     "4e24a1049a87430993521e8412609d64": {
      "model_module": "@jupyter-widgets/base",
      "model_module_version": "2.0.0",
      "model_name": "LayoutModel",
      "state": {}
     },
     "4f280dcd5d8048a5b4e46fc45351d729": {
      "model_module": "@jupyter-widgets/controls",
      "model_module_version": "2.0.0",
      "model_name": "LabelStyleModel",
      "state": {
       "description_width": "",
       "font_family": null,
       "font_size": null,
       "font_style": null,
       "font_variant": null,
       "font_weight": null,
       "text_color": null,
       "text_decoration": null
      }
     },
     "50bee6effb8b47db8ddc0645f135a823": {
      "model_module": "@jupyter-widgets/controls",
      "model_module_version": "2.0.0",
      "model_name": "VBoxModel",
      "state": {
       "children": [
        "IPY_MODEL_8839d33f3f83448da5c262fb07250c07",
        "IPY_MODEL_280a268312d84573b06cdedb930ad549"
       ],
       "layout": "IPY_MODEL_8733f03fae874d76951b9f064098e203"
      }
     },
     "5194f2d306e84abba95c9608db8f01e0": {
      "model_module": "@jupyter-widgets/controls",
      "model_module_version": "2.0.0",
      "model_name": "HBoxModel",
      "state": {
       "children": [
        "IPY_MODEL_a99ef2496c224f71abaf01a221f3b22d",
        "IPY_MODEL_849e6da5bcb0494ab7ec09032e5ca6f0"
       ],
       "layout": "IPY_MODEL_cd456f07227242d4948021e004bb51c0"
      }
     },
     "546bed664a65481790ec9f82cbf4d244": {
      "model_module": "@jupyter-widgets/base",
      "model_module_version": "2.0.0",
      "model_name": "LayoutModel",
      "state": {
       "width": "100%"
      }
     },
     "55e0feccc96e4702a3877b8925adbc56": {
      "model_module": "@jupyter-widgets/base",
      "model_module_version": "2.0.0",
      "model_name": "LayoutModel",
      "state": {
       "display": "none"
      }
     },
     "5b079280b282484c9ce6c0cf1b1bf3d6": {
      "model_module": "@jupyter-widgets/base",
      "model_module_version": "2.0.0",
      "model_name": "LayoutModel",
      "state": {
       "width": "100%"
      }
     },
     "5e0e0f301f53457e88407a27cb1e186b": {
      "model_module": "@jupyter-widgets/controls",
      "model_module_version": "2.0.0",
      "model_name": "TextStyleModel",
      "state": {
       "description_width": "",
       "font_size": null,
       "text_color": null
      }
     },
     "5ec06e10c6384b24a53015352279af5d": {
      "model_module": "@jupyter-widgets/controls",
      "model_module_version": "2.0.0",
      "model_name": "VBoxModel",
      "state": {
       "children": [
        "IPY_MODEL_71051b84c601442397132c65a1a7ee85",
        "IPY_MODEL_b5ef94cc3fec42fba60e115eb78a17b6",
        "IPY_MODEL_c20363cbcfa74104a9dd59bccc10c37b"
       ],
       "layout": "IPY_MODEL_2250ac0c0bc642ef9d2d918629857405"
      }
     },
     "625df0e5fe224707942cb2bf09f8deea": {
      "model_module": "@jupyter-widgets/controls",
      "model_module_version": "2.0.0",
      "model_name": "LabelModel",
      "state": {
       "layout": "IPY_MODEL_4bf40fc527d343b5aac88268b032931e",
       "style": "IPY_MODEL_e6f52216752b46a38b4d13a3d29e069b",
       "value": "Name"
      }
     },
     "6421ca686c56486fb15d5081ab97a3d8": {
      "model_module": "@jupyter-widgets/controls",
      "model_module_version": "2.0.0",
      "model_name": "TextModel",
      "state": {
       "layout": "IPY_MODEL_9dea0c86cafa4cf7a0a71a408138e139",
       "style": "IPY_MODEL_e634ff7af55742a79611f3880caff84e",
       "tooltip": "Name"
      }
     },
     "64895215624c4ced86166dcdc56cbac5": {
      "model_module": "@jupyter-widgets/base",
      "model_module_version": "2.0.0",
      "model_name": "LayoutModel",
      "state": {}
     },
     "65f9d274b1294809963870717ece8b7b": {
      "model_module": "@jupyter-widgets/controls",
      "model_module_version": "2.0.0",
      "model_name": "TextStyleModel",
      "state": {
       "description_width": "",
       "font_size": null,
       "text_color": null
      }
     },
     "68bd80c8fae940998cb2646e20cd5d19": {
      "model_module": "@jupyter-widgets/controls",
      "model_module_version": "2.0.0",
      "model_name": "HBoxModel",
      "state": {
       "children": [
        "IPY_MODEL_dd39df8d34bf4b54965c12fb6966045c",
        "IPY_MODEL_ada90695e0ab43fab78fa76ae46cf2b5"
       ],
       "layout": "IPY_MODEL_3261ed3d71b34dd19801e52a9fbcb514"
      }
     },
     "6ace335e703f42519d54010aafdf94d3": {
      "model_module": "@jupyter-widgets/controls",
      "model_module_version": "2.0.0",
      "model_name": "LabelStyleModel",
      "state": {
       "description_width": "",
       "font_family": null,
       "font_size": null,
       "font_style": null,
       "font_variant": null,
       "font_weight": null,
       "text_color": null,
       "text_decoration": null
      }
     },
     "6f79140b02a9401a85db4ba6637fe5aa": {
      "model_module": "@jupyter-widgets/base",
      "model_module_version": "2.0.0",
      "model_name": "LayoutModel",
      "state": {
       "display": "none"
      }
     },
     "71051b84c601442397132c65a1a7ee85": {
      "model_module": "@jupyter-widgets/controls",
      "model_module_version": "2.0.0",
      "model_name": "AccordionModel",
      "state": {
       "children": [
        "IPY_MODEL_e7d932fecc064831a134d513083613c4"
       ],
       "layout": "IPY_MODEL_fe8256b0010d4f1ab230455cac0141a3",
       "titles": [
        "Preferred Food"
       ]
      }
     },
     "7160196d6f5d40189585067784ab8955": {
      "model_module": "@jupyter-widgets/controls",
      "model_module_version": "2.0.0",
      "model_name": "LabelStyleModel",
      "state": {
       "description_width": "",
       "font_family": null,
       "font_size": null,
       "font_style": null,
       "font_variant": null,
       "font_weight": null,
       "text_color": null,
       "text_decoration": null
      }
     },
     "742156865a154b60b30a1ca6e8c0bf15": {
      "model_module": "@jupyter-widgets/controls",
      "model_module_version": "2.0.0",
      "model_name": "LabelModel",
      "state": {
       "layout": "IPY_MODEL_85e9b484ff72438a94538a7f9e578400",
       "style": "IPY_MODEL_017819d42454456eb70266e574cf9981"
      }
     },
     "77b99c946ec148b0aef56f356e6fe8bf": {
      "model_module": "@jupyter-widgets/base",
      "model_module_version": "2.0.0",
      "model_name": "LayoutModel",
      "state": {
       "display": "none"
      }
     },
     "784fd2fcfd3c4cd7bc6e9e28b0251ed6": {
      "model_module": "@jupyter-widgets/controls",
      "model_module_version": "2.0.0",
      "model_name": "LabelStyleModel",
      "state": {
       "description_width": "",
       "font_family": null,
       "font_size": null,
       "font_style": null,
       "font_variant": null,
       "font_weight": null,
       "text_color": null,
       "text_decoration": null
      }
     },
     "821e9857ddf440ab9a99f104678af474": {
      "model_module": "@jupyter-widgets/controls",
      "model_module_version": "2.0.0",
      "model_name": "TextStyleModel",
      "state": {
       "description_width": "",
       "font_size": null,
       "text_color": null
      }
     },
     "83cc2e3ec427416cb71b49b0dc38252d": {
      "model_module": "@jupyter-widgets/base",
      "model_module_version": "2.0.0",
      "model_name": "LayoutModel",
      "state": {}
     },
     "841dfe922e9c4976a58a82532dc75ad5": {
      "model_module": "@jupyter-widgets/controls",
      "model_module_version": "2.0.0",
      "model_name": "TextStyleModel",
      "state": {
       "description_width": "",
       "font_size": null,
       "text_color": null
      }
     },
     "849e6da5bcb0494ab7ec09032e5ca6f0": {
      "model_module": "@jupyter-widgets/controls",
      "model_module_version": "2.0.0",
      "model_name": "TextModel",
      "state": {
       "layout": "IPY_MODEL_c590f6ef59a34bea94bcb957f7cb460d",
       "style": "IPY_MODEL_65f9d274b1294809963870717ece8b7b",
       "tooltip": "Adress"
      }
     },
     "84dbced7cc17424990b34e21318da53a": {
      "model_module": "@jupyter-widgets/controls",
      "model_module_version": "2.0.0",
      "model_name": "LabelStyleModel",
      "state": {
       "description_width": "",
       "font_family": null,
       "font_size": null,
       "font_style": null,
       "font_variant": null,
       "font_weight": null,
       "text_color": null,
       "text_decoration": null
      }
     },
     "85e9b484ff72438a94538a7f9e578400": {
      "model_module": "@jupyter-widgets/base",
      "model_module_version": "2.0.0",
      "model_name": "LayoutModel",
      "state": {
       "display": "none"
      }
     },
     "8733f03fae874d76951b9f064098e203": {
      "model_module": "@jupyter-widgets/base",
      "model_module_version": "2.0.0",
      "model_name": "LayoutModel",
      "state": {
       "width": "100%"
      }
     },
     "873e062bd9b64f46a3244c8ca638cc7f": {
      "model_module": "@jupyter-widgets/controls",
      "model_module_version": "2.0.0",
      "model_name": "TextStyleModel",
      "state": {
       "description_width": "",
       "font_size": null,
       "text_color": null
      }
     },
     "8798952db6cf43b19b856f4beb7afc28": {
      "model_module": "@jupyter-widgets/base",
      "model_module_version": "2.0.0",
      "model_name": "LayoutModel",
      "state": {
       "display": "none"
      }
     },
     "8839d33f3f83448da5c262fb07250c07": {
      "model_module": "@jupyter-widgets/controls",
      "model_module_version": "2.0.0",
      "model_name": "LabelModel",
      "state": {
       "layout": "IPY_MODEL_8991a21875304dc3b7f9cb351e86ec9c",
       "style": "IPY_MODEL_e2183e1ed5a44235a1d1ad3ce304ee64",
       "value": "Height"
      }
     },
     "8991a21875304dc3b7f9cb351e86ec9c": {
      "model_module": "@jupyter-widgets/base",
      "model_module_version": "2.0.0",
      "model_name": "LayoutModel",
      "state": {
       "width": "100%"
      }
     },
     "8bff0709dc9e4a3f828a8b2a7bb2fea0": {
      "model_module": "@jupyter-widgets/base",
      "model_module_version": "2.0.0",
      "model_name": "LayoutModel",
      "state": {}
     },
     "8c62e34cfad64b4a8b745eb9f5d20a9a": {
      "model_module": "@jupyter-widgets/base",
      "model_module_version": "2.0.0",
      "model_name": "LayoutModel",
      "state": {}
     },
     "8cd26736cdd74c7b87b015d4c647d16e": {
      "model_module": "@jupyter-widgets/controls",
      "model_module_version": "2.0.0",
      "model_name": "TextStyleModel",
      "state": {
       "description_width": "",
       "font_size": null,
       "text_color": null
      }
     },
     "8ef2b53dc2494c52bf891421e15f50bf": {
      "model_module": "@jupyter-widgets/base",
      "model_module_version": "2.0.0",
      "model_name": "LayoutModel",
      "state": {}
     },
     "919260db65cc4b1882a0329ba3ec7d29": {
      "model_module": "@jupyter-widgets/base",
      "model_module_version": "2.0.0",
      "model_name": "LayoutModel",
      "state": {}
     },
     "93393f6f012649e89a0ddae395f7ddf0": {
      "model_module": "@jupyter-widgets/base",
      "model_module_version": "2.0.0",
      "model_name": "LayoutModel",
      "state": {}
     },
     "94ee7fb55d0a433fb28556b4cb313044": {
      "model_module": "@jupyter-widgets/base",
      "model_module_version": "2.0.0",
      "model_name": "LayoutModel",
      "state": {
       "width": "100%"
      }
     },
     "9c33c97f104b40c7b375642d509c3fa2": {
      "model_module": "@jupyter-widgets/base",
      "model_module_version": "2.0.0",
      "model_name": "LayoutModel",
      "state": {}
     },
     "9cd98538a6254370ae8e2dd511f6498d": {
      "model_module": "@jupyter-widgets/controls",
      "model_module_version": "2.0.0",
      "model_name": "LabelStyleModel",
      "state": {
       "description_width": "",
       "font_family": null,
       "font_size": null,
       "font_style": null,
       "font_variant": null,
       "font_weight": null,
       "text_color": null,
       "text_decoration": null
      }
     },
     "9dea0c86cafa4cf7a0a71a408138e139": {
      "model_module": "@jupyter-widgets/base",
      "model_module_version": "2.0.0",
      "model_name": "LayoutModel",
      "state": {
       "width": "100%"
      }
     },
     "9fa8bae5d84c4f0394a2d22d3e8322e5": {
      "model_module": "@jupyter-widgets/controls",
      "model_module_version": "2.0.0",
      "model_name": "LabelStyleModel",
      "state": {
       "description_width": "",
       "font_family": null,
       "font_size": null,
       "font_style": null,
       "font_variant": null,
       "font_weight": null,
       "text_color": null,
       "text_decoration": null
      }
     },
     "a062aa83152a426190a5c792a6a69d0d": {
      "model_module": "@jupyter-widgets/controls",
      "model_module_version": "2.0.0",
      "model_name": "TextStyleModel",
      "state": {
       "description_width": "",
       "font_size": null,
       "text_color": null
      }
     },
     "a99ef2496c224f71abaf01a221f3b22d": {
      "model_module": "@jupyter-widgets/controls",
      "model_module_version": "2.0.0",
      "model_name": "LabelModel",
      "state": {
       "layout": "IPY_MODEL_f567a14ddb81423281477c7dd669dc81",
       "style": "IPY_MODEL_84dbced7cc17424990b34e21318da53a",
       "value": "Adress"
      }
     },
     "a9cb4a1300ea46c9acb4663db823652a": {
      "model_module": "@jupyter-widgets/controls",
      "model_module_version": "2.0.0",
      "model_name": "TextModel",
      "state": {
       "layout": "IPY_MODEL_f2f313c04fb04e26bc49e96778ed5460",
       "style": "IPY_MODEL_bd8807540f14452c95f6ccc93885d165",
       "tooltip": "Name"
      }
     },
     "ac60db9e2d0a41638a5a8824082fa05e": {
      "model_module": "@jupyter-widgets/controls",
      "model_module_version": "2.0.0",
      "model_name": "TextStyleModel",
      "state": {
       "description_width": "",
       "font_size": null,
       "text_color": null
      }
     },
     "ac8214a5026b4b999dd4cd6ed4f57094": {
      "model_module": "@jupyter-widgets/controls",
      "model_module_version": "2.0.0",
      "model_name": "TextStyleModel",
      "state": {
       "description_width": "",
       "font_size": null,
       "text_color": null
      }
     },
     "ad53cfeb6511400ca15df10d5fbc1d97": {
      "model_module": "@jupyter-widgets/base",
      "model_module_version": "2.0.0",
      "model_name": "LayoutModel",
      "state": {}
     },
     "ada90695e0ab43fab78fa76ae46cf2b5": {
      "model_module": "@jupyter-widgets/controls",
      "model_module_version": "2.0.0",
      "model_name": "TextModel",
      "state": {
       "layout": "IPY_MODEL_de159a6deeb94a98a37122e9fe1ef27e",
       "style": "IPY_MODEL_5e0e0f301f53457e88407a27cb1e186b",
       "tooltip": "Adress"
      }
     },
     "b1f5cc196aa245e3aadbe5f16af25a94": {
      "model_module": "@jupyter-widgets/base",
      "model_module_version": "2.0.0",
      "model_name": "LayoutModel",
      "state": {}
     },
     "b4de9a84aee9444bbf590f95b0b2dc3c": {
      "model_module": "@jupyter-widgets/controls",
      "model_module_version": "2.0.0",
      "model_name": "VBoxModel",
      "state": {
       "children": [
        "IPY_MODEL_5194f2d306e84abba95c9608db8f01e0",
        "IPY_MODEL_742156865a154b60b30a1ca6e8c0bf15",
        "IPY_MODEL_fe044bfb23ee4547ad6cdf0f881c3295",
        "IPY_MODEL_2ba0b8c262c14befbc3bdd249ae9ffb5"
       ],
       "layout": "IPY_MODEL_546bed664a65481790ec9f82cbf4d244"
      }
     },
     "b5ef94cc3fec42fba60e115eb78a17b6": {
      "model_module": "@jupyter-widgets/controls",
      "model_module_version": "2.0.0",
      "model_name": "HBoxModel",
      "state": {
       "children": [
        "IPY_MODEL_625df0e5fe224707942cb2bf09f8deea",
        "IPY_MODEL_0b540c8e415b4d0195308596d2f25b3d"
       ],
       "layout": "IPY_MODEL_cb24f69eb1474e39bd933e4f058793e7"
      }
     },
     "bd8807540f14452c95f6ccc93885d165": {
      "model_module": "@jupyter-widgets/controls",
      "model_module_version": "2.0.0",
      "model_name": "TextStyleModel",
      "state": {
       "description_width": "",
       "font_size": null,
       "text_color": null
      }
     },
     "c20363cbcfa74104a9dd59bccc10c37b": {
      "model_module": "@jupyter-widgets/controls",
      "model_module_version": "2.0.0",
      "model_name": "LabelModel",
      "state": {
       "layout": "IPY_MODEL_6f79140b02a9401a85db4ba6637fe5aa",
       "style": "IPY_MODEL_da8a804b12f3483ca39ea211405c6d16"
      }
     },
     "c590f6ef59a34bea94bcb957f7cb460d": {
      "model_module": "@jupyter-widgets/base",
      "model_module_version": "2.0.0",
      "model_name": "LayoutModel",
      "state": {
       "width": "100%"
      }
     },
     "c775126e738943d8be7538619b90cdb0": {
      "model_module": "@jupyter-widgets/base",
      "model_module_version": "2.0.0",
      "model_name": "LayoutModel",
      "state": {
       "width": "100%"
      }
     },
     "cb24f69eb1474e39bd933e4f058793e7": {
      "model_module": "@jupyter-widgets/base",
      "model_module_version": "2.0.0",
      "model_name": "LayoutModel",
      "state": {
       "width": "100%"
      }
     },
     "ccad7cb48e484754b067aff5e796823e": {
      "model_module": "@jupyter-widgets/controls",
      "model_module_version": "2.0.0",
      "model_name": "LabelModel",
      "state": {
       "layout": "IPY_MODEL_8798952db6cf43b19b856f4beb7afc28",
       "style": "IPY_MODEL_9fa8bae5d84c4f0394a2d22d3e8322e5"
      }
     },
     "cd456f07227242d4948021e004bb51c0": {
      "model_module": "@jupyter-widgets/base",
      "model_module_version": "2.0.0",
      "model_name": "LayoutModel",
      "state": {
       "width": "100%"
      }
     },
     "ce881acff99242aa9ca6c9a6519fa0e9": {
      "model_module": "@jupyter-widgets/controls",
      "model_module_version": "2.0.0",
      "model_name": "ButtonStyleModel",
      "state": {
       "font_family": null,
       "font_size": null,
       "font_style": null,
       "font_variant": null,
       "font_weight": null,
       "text_color": null,
       "text_decoration": null
      }
     },
     "cf5a5db7c54f47269f80d323fc1c2b1d": {
      "model_module": "@jupyter-widgets/controls",
      "model_module_version": "2.0.0",
      "model_name": "VBoxModel",
      "state": {
       "children": [
        "IPY_MODEL_68bd80c8fae940998cb2646e20cd5d19",
        "IPY_MODEL_d12d23b35af54125b5b6975036d5cf40",
        "IPY_MODEL_e526ca8b5e804cd98504214e2881704b",
        "IPY_MODEL_36ff1b6a2f2d49829ec572a01217a32a"
       ],
       "layout": "IPY_MODEL_fa59cdda48234bb0a6bc4c4bff518b97"
      }
     },
     "d12d23b35af54125b5b6975036d5cf40": {
      "model_module": "@jupyter-widgets/controls",
      "model_module_version": "2.0.0",
      "model_name": "LabelModel",
      "state": {
       "layout": "IPY_MODEL_0ac5da19abd04627b967b895638dea20",
       "style": "IPY_MODEL_d97540fe541a476cac7e846446ddfd17"
      }
     },
     "d86e6b7da69c4f1caa2154ec908970b8": {
      "model_module": "@jupyter-widgets/controls",
      "model_module_version": "2.0.0",
      "model_name": "TextStyleModel",
      "state": {
       "description_width": "",
       "font_size": null,
       "text_color": null
      }
     },
     "d87b59fb66664c29b9cbf97d49a3fa19": {
      "model_module": "@jupyter-widgets/controls",
      "model_module_version": "2.0.0",
      "model_name": "ButtonModel",
      "state": {
       "description": "Add entry",
       "icon": "plus",
       "layout": "IPY_MODEL_c775126e738943d8be7538619b90cdb0",
       "style": "IPY_MODEL_ce881acff99242aa9ca6c9a6519fa0e9",
       "tooltip": null
      }
     },
     "d8b08380f65d4167b7053a164bbb2981": {
      "model_module": "@jupyter-widgets/controls",
      "model_module_version": "2.0.0",
      "model_name": "TextStyleModel",
      "state": {
       "description_width": "",
       "font_size": null,
       "text_color": null
      }
     },
     "d97540fe541a476cac7e846446ddfd17": {
      "model_module": "@jupyter-widgets/controls",
      "model_module_version": "2.0.0",
      "model_name": "LabelStyleModel",
      "state": {
       "description_width": "",
       "font_family": null,
       "font_size": null,
       "font_style": null,
       "font_variant": null,
       "font_weight": null,
       "text_color": null,
       "text_decoration": null
      }
     },
     "da8a804b12f3483ca39ea211405c6d16": {
      "model_module": "@jupyter-widgets/controls",
      "model_module_version": "2.0.0",
      "model_name": "LabelStyleModel",
      "state": {
       "description_width": "",
       "font_family": null,
       "font_size": null,
       "font_style": null,
       "font_variant": null,
       "font_weight": null,
       "text_color": null,
       "text_decoration": null
      }
     },
     "daa213ff56dd40d0b8792b67f8662d16": {
      "model_module": "@jupyter-widgets/controls",
      "model_module_version": "2.0.0",
      "model_name": "TextStyleModel",
      "state": {
       "description_width": "",
       "font_size": null,
       "text_color": null
      }
     },
     "dbac7bff5c484dbd96cac33f598fa57e": {
      "model_module": "@jupyter-widgets/base",
      "model_module_version": "2.0.0",
      "model_name": "LayoutModel",
      "state": {
       "width": "100%"
      }
     },
     "dd39df8d34bf4b54965c12fb6966045c": {
      "model_module": "@jupyter-widgets/controls",
      "model_module_version": "2.0.0",
      "model_name": "LabelModel",
      "state": {
       "layout": "IPY_MODEL_30da409e23d74ab7b4e955d04f8dbb91",
       "style": "IPY_MODEL_9cd98538a6254370ae8e2dd511f6498d",
       "value": "Adress"
      }
     },
     "de13cd887df649d6a901b0509234f11f": {
      "model_module": "@jupyter-widgets/controls",
      "model_module_version": "2.0.0",
      "model_name": "TextStyleModel",
      "state": {
       "description_width": "",
       "font_size": null,
       "text_color": null
      }
     },
     "de159a6deeb94a98a37122e9fe1ef27e": {
      "model_module": "@jupyter-widgets/base",
      "model_module_version": "2.0.0",
      "model_name": "LayoutModel",
      "state": {
       "width": "100%"
      }
     },
     "dfc48d2aeac7455d8aae57cd99989ca7": {
      "model_module": "@jupyter-widgets/controls",
      "model_module_version": "2.0.0",
      "model_name": "LabelModel",
      "state": {
       "layout": "IPY_MODEL_e94ba991ee094f69b8dc69e50f49c3b6",
       "style": "IPY_MODEL_4f280dcd5d8048a5b4e46fc45351d729",
       "value": "Name"
      }
     },
     "e2183e1ed5a44235a1d1ad3ce304ee64": {
      "model_module": "@jupyter-widgets/controls",
      "model_module_version": "2.0.0",
      "model_name": "LabelStyleModel",
      "state": {
       "description_width": "",
       "font_family": null,
       "font_size": null,
       "font_style": null,
       "font_variant": null,
       "font_weight": null,
       "text_color": null,
       "text_decoration": null
      }
     },
     "e48e6f3b26c64e6196fb3a76edd0f2de": {
      "model_module": "@jupyter-widgets/base",
      "model_module_version": "2.0.0",
      "model_name": "LayoutModel",
      "state": {}
     },
     "e526ca8b5e804cd98504214e2881704b": {
      "model_module": "@jupyter-widgets/controls",
      "model_module_version": "2.0.0",
      "model_name": "HBoxModel",
      "state": {
       "children": [
        "IPY_MODEL_1ad425317ce14b66b4e9766723855809",
        "IPY_MODEL_6421ca686c56486fb15d5081ab97a3d8"
       ],
       "layout": "IPY_MODEL_94ee7fb55d0a433fb28556b4cb313044"
      }
     },
     "e5e77a654d984ff1bf1e368df9e8a819": {
      "model_module": "@jupyter-widgets/controls",
      "model_module_version": "2.0.0",
      "model_name": "TextStyleModel",
      "state": {
       "description_width": "",
       "font_size": null,
       "text_color": null
      }
     },
     "e634ff7af55742a79611f3880caff84e": {
      "model_module": "@jupyter-widgets/controls",
      "model_module_version": "2.0.0",
      "model_name": "TextStyleModel",
      "state": {
       "description_width": "",
       "font_size": null,
       "text_color": null
      }
     },
     "e6f52216752b46a38b4d13a3d29e069b": {
      "model_module": "@jupyter-widgets/controls",
      "model_module_version": "2.0.0",
      "model_name": "LabelStyleModel",
      "state": {
       "description_width": "",
       "font_family": null,
       "font_size": null,
       "font_style": null,
       "font_variant": null,
       "font_weight": null,
       "text_color": null,
       "text_decoration": null
      }
     },
     "e7d932fecc064831a134d513083613c4": {
      "model_module": "@jupyter-widgets/controls",
      "model_module_version": "2.0.0",
      "model_name": "VBoxModel",
      "state": {
       "children": [
        "IPY_MODEL_fc9405321d0d43a8a23fb5a5b87c7ade"
       ],
       "layout": "IPY_MODEL_8bff0709dc9e4a3f828a8b2a7bb2fea0"
      }
     },
     "e94ba991ee094f69b8dc69e50f49c3b6": {
      "model_module": "@jupyter-widgets/base",
      "model_module_version": "2.0.0",
      "model_name": "LayoutModel",
      "state": {
       "width": "100%"
      }
     },
     "ea74726acc6644a981676a1b8b89e547": {
      "model_module": "@jupyter-widgets/base",
      "model_module_version": "2.0.0",
      "model_name": "LayoutModel",
      "state": {}
     },
     "efdcc23e7ed54f3d96e769c91a91b7c9": {
      "model_module": "@jupyter-widgets/base",
      "model_module_version": "2.0.0",
      "model_name": "LayoutModel",
      "state": {}
     },
     "f2f313c04fb04e26bc49e96778ed5460": {
      "model_module": "@jupyter-widgets/base",
      "model_module_version": "2.0.0",
      "model_name": "LayoutModel",
      "state": {
       "width": "100%"
      }
     },
     "f567a14ddb81423281477c7dd669dc81": {
      "model_module": "@jupyter-widgets/base",
      "model_module_version": "2.0.0",
      "model_name": "LayoutModel",
      "state": {
       "width": "100%"
      }
     },
     "f66a5b45f3964b26987db388c8ad04ce": {
      "model_module": "@jupyter-widgets/controls",
      "model_module_version": "2.0.0",
      "model_name": "TextModel",
      "state": {
       "layout": "IPY_MODEL_3f0b2ee82abc4e10b5df4a08c2255940",
       "style": "IPY_MODEL_ac60db9e2d0a41638a5a8824082fa05e",
       "tooltip": "Name"
      }
     },
     "fa59cdda48234bb0a6bc4c4bff518b97": {
      "model_module": "@jupyter-widgets/base",
      "model_module_version": "2.0.0",
      "model_name": "LayoutModel",
      "state": {
       "width": "100%"
      }
     },
     "fc9405321d0d43a8a23fb5a5b87c7ade": {
      "model_module": "@jupyter-widgets/controls",
      "model_module_version": "2.0.0",
      "model_name": "VBoxModel",
      "state": {
       "children": [
        "IPY_MODEL_d87b59fb66664c29b9cbf97d49a3fa19"
       ],
       "layout": "IPY_MODEL_46c242de264c44538f229a3ab1569408"
      }
     },
     "fe044bfb23ee4547ad6cdf0f881c3295": {
      "model_module": "@jupyter-widgets/controls",
      "model_module_version": "2.0.0",
      "model_name": "HBoxModel",
      "state": {
       "children": [
        "IPY_MODEL_dfc48d2aeac7455d8aae57cd99989ca7",
        "IPY_MODEL_f66a5b45f3964b26987db388c8ad04ce"
       ],
       "layout": "IPY_MODEL_dbac7bff5c484dbd96cac33f598fa57e"
      }
     },
     "fe8256b0010d4f1ab230455cac0141a3": {
      "model_module": "@jupyter-widgets/base",
      "model_module_version": "2.0.0",
      "model_name": "LayoutModel",
      "state": {}
     },
     "ff957bfcde8245518b676b48b1f3cfe1": {
      "model_module": "@jupyter-widgets/base",
      "model_module_version": "2.0.0",
      "model_name": "LayoutModel",
      "state": {}
     }
    },
    "version_major": 2,
    "version_minor": 0
   }
  }
 },
 "nbformat": 4,
 "nbformat_minor": 4
}
